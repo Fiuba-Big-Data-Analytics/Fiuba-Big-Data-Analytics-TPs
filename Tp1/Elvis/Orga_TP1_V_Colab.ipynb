{
  "nbformat": 4,
  "nbformat_minor": 0,
  "metadata": {
    "colab": {
      "name": "Orga-TP1-V-Colab.ipynb",
      "provenance": [],
      "collapsed_sections": []
    },
    "kernelspec": {
      "name": "python3",
      "display_name": "Python 3"
    }
  },
  "cells": [
    {
      "cell_type": "code",
      "metadata": {
        "id": "19o03TQ_lqLx",
        "outputId": "2e21f03d-2aff-4a52-eb88-7bb535bf3c54",
        "colab": {
          "base_uri": "https://localhost:8080/"
        }
      },
      "source": [
        "!pip install --upgrade geopandas\n",
        "!pip install --upgrade pyshp\n",
        "!pip install --upgrade shapely\n",
        "!pip install --upgrade descartes\n",
        "!pip install --upgrade geopy\n",
        "!pip install --upgrade plotly"
      ],
      "execution_count": 2,
      "outputs": [
        {
          "output_type": "stream",
          "name": "stdout",
          "text": [
            "Defaulting to user installation because normal site-packages is not writeable\n",
            "Requirement already up-to-date: geopandas in /home/santiagoczop/.local/lib/python3.8/site-packages (0.8.1)\n",
            "Requirement already satisfied, skipping upgrade: pandas>=0.23.0 in /usr/lib64/python3.8/site-packages (from geopandas) (0.25.3)\n",
            "Requirement already satisfied, skipping upgrade: fiona in /home/santiagoczop/.local/lib/python3.8/site-packages (from geopandas) (1.8.17)\n",
            "Requirement already satisfied, skipping upgrade: pyproj>=2.2.0 in /home/santiagoczop/.local/lib/python3.8/site-packages (from geopandas) (3.0.0.post1)\n",
            "Requirement already satisfied, skipping upgrade: shapely in /home/santiagoczop/.local/lib/python3.8/site-packages (from geopandas) (1.7.1)\n",
            "Requirement already satisfied, skipping upgrade: python-dateutil>=2.6.1 in /usr/lib/python3.8/site-packages (from pandas>=0.23.0->geopandas) (2.8.0)\n",
            "Requirement already satisfied, skipping upgrade: pytz>=2017.2 in /usr/lib/python3.8/site-packages (from pandas>=0.23.0->geopandas) (2020.1)\n",
            "Requirement already satisfied, skipping upgrade: numpy>=1.13.3 in /home/santiagoczop/.local/lib/python3.8/site-packages (from pandas>=0.23.0->geopandas) (1.19.2)\n",
            "Requirement already satisfied, skipping upgrade: cligj>=0.5 in /home/santiagoczop/.local/lib/python3.8/site-packages (from fiona->geopandas) (0.7.0)\n",
            "Requirement already satisfied, skipping upgrade: attrs>=17 in /home/santiagoczop/.local/lib/python3.8/site-packages (from fiona->geopandas) (20.2.0)\n",
            "Requirement already satisfied, skipping upgrade: munch in /home/santiagoczop/.local/lib/python3.8/site-packages (from fiona->geopandas) (2.5.0)\n",
            "Requirement already satisfied, skipping upgrade: six>=1.7 in /usr/lib/python3.8/site-packages (from fiona->geopandas) (1.14.0)\n",
            "Requirement already satisfied, skipping upgrade: click<8,>=4.0 in /home/santiagoczop/.local/lib/python3.8/site-packages (from fiona->geopandas) (7.1.2)\n",
            "Requirement already satisfied, skipping upgrade: click-plugins>=1.0 in /home/santiagoczop/.local/lib/python3.8/site-packages (from fiona->geopandas) (1.1.1)\n",
            "Requirement already satisfied, skipping upgrade: certifi in /home/santiagoczop/.local/lib/python3.8/site-packages (from pyproj>=2.2.0->geopandas) (2020.6.20)\n",
            "Defaulting to user installation because normal site-packages is not writeable\n",
            "Requirement already up-to-date: pyshp in /home/santiagoczop/.local/lib/python3.8/site-packages (2.1.2)\n",
            "Defaulting to user installation because normal site-packages is not writeable\n",
            "Requirement already up-to-date: shapely in /home/santiagoczop/.local/lib/python3.8/site-packages (1.7.1)\n",
            "Defaulting to user installation because normal site-packages is not writeable\n",
            "Requirement already up-to-date: descartes in /home/santiagoczop/.local/lib/python3.8/site-packages (1.1.0)\n",
            "Requirement already satisfied, skipping upgrade: matplotlib in /home/santiagoczop/.local/lib/python3.8/site-packages (from descartes) (3.3.2)\n",
            "Requirement already satisfied, skipping upgrade: kiwisolver>=1.0.1 in /usr/lib64/python3.8/site-packages (from matplotlib->descartes) (1.2.0)\n",
            "Requirement already satisfied, skipping upgrade: certifi>=2020.06.20 in /home/santiagoczop/.local/lib/python3.8/site-packages (from matplotlib->descartes) (2020.6.20)\n",
            "Requirement already satisfied, skipping upgrade: pyparsing!=2.0.4,!=2.1.2,!=2.1.6,>=2.0.3 in /home/santiagoczop/.local/lib/python3.8/site-packages (from matplotlib->descartes) (2.4.7)\n",
            "Requirement already satisfied, skipping upgrade: pillow>=6.2.0 in /usr/lib64/python3.8/site-packages (from matplotlib->descartes) (7.0.0)\n",
            "Requirement already satisfied, skipping upgrade: numpy>=1.15 in /home/santiagoczop/.local/lib/python3.8/site-packages (from matplotlib->descartes) (1.19.2)\n",
            "Requirement already satisfied, skipping upgrade: cycler>=0.10 in /usr/lib/python3.8/site-packages (from matplotlib->descartes) (0.10.0)\n",
            "Requirement already satisfied, skipping upgrade: python-dateutil>=2.1 in /usr/lib/python3.8/site-packages (from matplotlib->descartes) (2.8.0)\n",
            "Requirement already satisfied, skipping upgrade: six in /usr/lib/python3.8/site-packages (from cycler>=0.10->matplotlib->descartes) (1.14.0)\n",
            "Defaulting to user installation because normal site-packages is not writeable\n",
            "Requirement already up-to-date: geopy in /home/santiagoczop/.local/lib/python3.8/site-packages (2.0.0)\n",
            "Requirement already satisfied, skipping upgrade: geographiclib<2,>=1.49 in /home/santiagoczop/.local/lib/python3.8/site-packages (from geopy) (1.50)\n",
            "Defaulting to user installation because normal site-packages is not writeable\n",
            "Requirement already up-to-date: plotly in /home/santiagoczop/.local/lib/python3.8/site-packages (4.12.0)\n",
            "Requirement already satisfied, skipping upgrade: retrying>=1.3.3 in /home/santiagoczop/.local/lib/python3.8/site-packages (from plotly) (1.3.3)\n",
            "Requirement already satisfied, skipping upgrade: six in /usr/lib/python3.8/site-packages (from plotly) (1.14.0)\n"
          ]
        }
      ]
    },
    {
      "cell_type": "code",
      "metadata": {
        "id": "iDY5kYHdryRR"
      },
      "source": [
        "import pandas as pd\n",
        "import numpy as np\n",
        "import seaborn as sns\n",
        "import matplotlib.pyplot as plt\n",
        "%matplotlib inline\n",
        "import geopandas\n",
        "import plotly.express as px"
      ],
      "execution_count": 4,
      "outputs": []
    },
    {
      "cell_type": "code",
      "metadata": {
        "id": "KjiuVqEFnYqC"
      },
      "source": [
        "url = 'https://raw.githubusercontent.com/Fiuba-Big-Data-Analytics/Fiuba-Big-Data-Analytics-TPs/main/Tp1/Datos/Entrenamieto_ECI_2020.csv'\n",
        "df = pd.read_csv(url)"
      ],
      "execution_count": 6,
      "outputs": []
    },
    {
      "cell_type": "markdown",
      "metadata": {
        "id": "LfPY4G1LDi9K"
      },
      "source": [
        "#Full_correction\n",
        "Lo translado al cuaderno bySanti"
      ]
    },
    {
      "cell_type": "code",
      "metadata": {
        "id": "DL3AD8w1CSKY"
      },
      "source": [
        "def full_correction(df):\n",
        "    date_correction(df)\n",
        "    numeric_correction(df)\n",
        "    name_correction(df)\n",
        "    categoric_to_numeric(df)\n",
        "    delete_correction(df)\n",
        "\n",
        "def categoric_to_numeric(df):\n",
        "    _bureaucratic_code_to_numeric(df)\n",
        "    _source_to_numeric(df)\n",
        "    _account_name_to_numeric(df)\n",
        "    _opportunity_name_to_numeric(df)\n",
        "    _account_type_to_numeric(df)\n",
        "    _opportunity_type_to_numeric(df)\n",
        "    _account_owner_to_numeric(df)\n",
        "    _opportunity_owner_to_numeric(df)\n",
        "    _brand_to_numeric(df)\n",
        "    _product_type_to_numeric(df)\n",
        "    _last_modified_by_to_numeric(df)\n",
        "    _product_family_to_numeric(df)\n",
        "    _product_name_to_numeric(df)\n",
        "\n",
        "def date_correction(df):\n",
        "    _account_created_date_correction(df)\n",
        "    _opportunity_created_date_correction(df)\n",
        "    _quote_expiry_date_correction(df)\n",
        "    _last_modified_date_correction(df)\n",
        "    _planned_delivery_start_date_correction(df)\n",
        "    _planned_delivery_end_date_correction(df)\n",
        "    _month_correction(df)\n",
        "\n",
        "def numeric_correction(df):\n",
        "    _sales_contract_no_correction(df)\n",
        "    _price_correction(df)\n",
        "\n",
        "def name_correction(df):\n",
        "    _total_power_correction(df)\n",
        "    _source_correction(df)\n",
        "\n",
        "def delete_correction(df):\n",
        "    _last_activity_delete(df)\n",
        "    _actual_delivery_date_delete(df)\n",
        "\n",
        "# DATE SECTION\n",
        "\n",
        "\"\"\" Converts column to date\"\"\"\n",
        "def _account_created_date_correction(df):\n",
        "    df[\"Account_Created_Date\"] = pd.to_datetime(df[\"Account_Created_Date\"])\n",
        "\n",
        "\"\"\" Converts column to date\"\"\"\n",
        "def _opportunity_created_date_correction(df):\n",
        "    df[\"Opportunity_Created_Date\"] = pd.to_datetime(df[\"Opportunity_Created_Date\"])\n",
        "\n",
        "\"\"\" Converts column to date\"\"\"\n",
        "def _last_activity_correction(df):\n",
        "    #df[\"Last_Activity\"] = pd.to_datetime(df[\"Last_Activity\"])\n",
        "    return\n",
        "\n",
        "\"\"\" Converts column to Datetime\"\"\"\n",
        "def _quote_expiry_date_correction(df):\n",
        "    df[\"Quote_Expiry_Date\"] = pd.to_datetime(df[\"Quote_Expiry_Date\"])\n",
        "\n",
        "\"\"\" Converts column to Datetime\"\"\"\n",
        "def _last_modified_date_correction(df):\n",
        "    df[\"Last_Modified_Date\"] = pd.to_datetime(df[\"Last_Modified_Date\"])\n",
        "\n",
        "\"\"\" Converts column to Datetime\"\"\"\n",
        "def _planned_delivery_start_date_correction(df):\n",
        "    df[\"Planned_Delivery_Start_Date\"] = pd.to_datetime(df[\"Planned_Delivery_Start_Date\"])\n",
        "\n",
        "\"\"\" Converts column to Datetime\"\"\"\n",
        "def _planned_delivery_end_date_correction(df):\n",
        "    df[\"Planned_Delivery_End_Date\"] = pd.to_datetime(df[\"Planned_Delivery_End_Date\"])\n",
        "\n",
        "\"\"\" Converts 'year - month' to (month, year)\"\"\"\n",
        "def _month_correction(df):\n",
        "    df[\"Month\"] = df[\"Month\"].map(lambda x: x.split(\" \"))\n",
        "    df[\"Month\"] = df[\"Month\"].map(lambda x: (x[2], x[0])) # (month, year)\n",
        "\n",
        "\"\"\" Converts column to Datetime\"\"\"\n",
        "def _actual_delivery_date_correction(df):\n",
        "    #df[\"Actual_Delivery_Date\"] = pd.to_datetime(df[\"Actual_Delivery_Date\"])\n",
        "    return\n",
        "\n",
        "# INT SECTION\n",
        "\n",
        "\"\"\" Converts None to nan\"\"\"\n",
        "def _sales_contract_no_correction(df):\n",
        "    df[\"Sales_Contract_No\"] = pd.to_numeric(df[\"Sales_Contract_No\"], errors=\"coerce\")\n",
        "\n",
        "# FLOAT SECTION\n",
        "\n",
        "\"\"\" Converts None and Other to nan\"\"\"\n",
        "def _price_correction(df):\n",
        "    df[\"Price\"] = pd.to_numeric(df[\"Price\"], errors=\"coerce\")\n",
        "\n",
        "# NAME SECTION\n",
        "def _total_power_correction(df):\n",
        "    df.rename(columns={\"TRF\": \"Total_Power\"}, inplace=True)\n",
        "\n",
        "def _source_correction(df):\n",
        "    df.rename(columns={\"Source \": \"Source\"}, inplace=True)\n",
        "\n",
        "# DELETE SECTION\n",
        "def _last_activity_delete(df):\n",
        "    df.drop(columns=\"Last_Activity\", inplace=True)\n",
        "\n",
        "def _actual_delivery_date_delete(df):\n",
        "    df.drop(columns=\"Actual_Delivery_Date\", inplace=True)\n",
        "\n",
        "# TO NUMERIC SECTION\n",
        "def _bureaucratic_code_to_numeric(df):\n",
        "    df[\"Bureaucratic_Code\"] = df[\"Bureaucratic_Code\"].str.replace(\"Bureaucratic_Code_\", \"\")\n",
        "    df[\"Bureaucratic_Code\"] = pd.to_numeric(df[\"Bureaucratic_Code\"])\n",
        "\n",
        "def _source_to_numeric(df):\n",
        "    df[\"Source\"] = df[\"Source\"].str.replace(\"Source_\", \"\")\n",
        "    df[\"Source\"] = pd.to_numeric(df[\"Source\"], errors=\"coerce\")\n",
        "\n",
        "def _account_name_to_numeric(df):\n",
        "    df[\"Account_Name\"] = df[\"Account_Name\"].str.replace(\"Account_Name_\", \"\")\n",
        "    df[\"Account_Name\"] = pd.to_numeric(df[\"Account_Name\"])\n",
        "\n",
        "def _opportunity_name_to_numeric(df):\n",
        "    df[\"Opportunity_Name\"] = df[\"Opportunity_Name\"].str.replace(\"Opportunity_Name_\", \"\")\n",
        "    df[\"Opportunity_Name\"] = pd.to_numeric(df[\"Opportunity_Name\"])\n",
        "\n",
        "def _account_owner_to_numeric(df):\n",
        "    df[\"Account_Owner\"] = df[\"Account_Owner\"].str.replace(\"Person_Name_\", \"\")\n",
        "    df[\"Account_Owner\"] = pd.to_numeric(df[\"Account_Owner\"])\n",
        "\n",
        "def _opportunity_owner_to_numeric(df):\n",
        "    df[\"Opportunity_Owner\"] = df[\"Opportunity_Owner\"].str.replace(\"Person_Name_\", \"\")\n",
        "    df[\"Opportunity_Owner\"] = pd.to_numeric(df[\"Opportunity_Owner\"])\n",
        "\n",
        "def _account_type_to_numeric(df):\n",
        "    df[\"Account_Type\"] = df[\"Account_Type\"].str.replace(\"Account_Type_\", \"\")\n",
        "    df[\"Account_Type\"] = pd.to_numeric(df[\"Account_Type\"], errors=\"coerce\")\n",
        "\n",
        "def _opportunity_type_to_numeric(df):\n",
        "    df[\"Opportunity_Type\"] = df[\"Opportunity_Type\"].str.replace(\"Opportunity_Type_\", \"\")\n",
        "    df[\"Opportunity_Type\"] = pd.to_numeric(df[\"Opportunity_Type\"])\n",
        "\n",
        "def _delivery_terms_to_numeric(df):\n",
        "    df[\"Delivery_Terms\"] = df[\"Delivery_Terms\"].str.replace(\"Delivery_Terms_\", \"\")\n",
        "    df[\"Delivery_Terms\"] = pd.to_numeric(df[\"Delivery_Terms\"])\n",
        "\n",
        "def _brand_to_numeric(df):\n",
        "    df[\"Brand\"] = df[\"Brand\"].str.replace(\"Brand_\", \"\")\n",
        "    df[\"Brand\"] = pd.to_numeric(df[\"Brand\"], errors=\"coerce\")\n",
        "\n",
        "def _product_type_to_numeric(df):\n",
        "    df[\"Product_Type\"] = df[\"Product_Type\"].str.replace(\"Product_Type_\", \"\")\n",
        "    df[\"Product_Type\"] = pd.to_numeric(df[\"Product_Type\"], errors=\"coerce\")\n",
        "\n",
        "def _last_modified_by_to_numeric(df):\n",
        "    df[\"Last_Modified_By\"] = df[\"Last_Modified_By\"].str.replace(\"Person_Name_\", \"\")\n",
        "    df[\"Last_Modified_By\"] = pd.to_numeric(df[\"Last_Modified_By\"])\n",
        "\n",
        "def _product_family_to_numeric(df):\n",
        "    df[\"Product_Family\"] = df[\"Product_Family\"].str.replace(\"Product_Family_\", \"\")\n",
        "    df[\"Product_Family\"] = pd.to_numeric(df[\"Product_Family\"])\n",
        "\n",
        "def _product_name_to_numeric(df):\n",
        "    df[\"Product_Name\"] = df[\"Product_Name\"].str.replace(\"Product_Name_\", \"\")\n",
        "    df[\"Product_Name\"] = pd.to_numeric(df[\"Product_Name\"])"
      ],
      "execution_count": 8,
      "outputs": []
    },
    {
      "cell_type": "code",
      "metadata": {
        "id": "2-yg7hgDk8Lf"
      },
      "source": [
        ""
      ],
      "execution_count": 234,
      "outputs": []
    },
    {
      "cell_type": "markdown",
      "metadata": {
        "id": "ZnzqfBvKB94b"
      },
      "source": [
        "#Me familiarizo con con los tipos de datos, las columnas y las filas del DF"
      ]
    },
    {
      "cell_type": "code",
      "metadata": {
        "id": "t8TfdebnCCM_",
        "outputId": "08b83ef4-7cfe-43b9-e7d0-fd34e52a4958",
        "colab": {
          "base_uri": "https://localhost:8080/",
          "height": 326
        }
      },
      "source": [
        "df.head()"
      ],
      "execution_count": 10,
      "outputs": [
        {
          "output_type": "execute_result",
          "data": {
            "text/plain": [
              "      ID    Region   Territory  Pricing, Delivery_Terms_Quote_Appr  \\\n",
              "0  27761      EMEA        None                                   1   \n",
              "1  27760      EMEA        None                                   0   \n",
              "2  27446  Americas  NW America                                   0   \n",
              "3  16808  Americas  NW America                                   1   \n",
              "4  16805  Americas  NW America                                   1   \n",
              "\n",
              "   Pricing, Delivery_Terms_Approved  Bureaucratic_Code_0_Approval  \\\n",
              "0                                 1                             1   \n",
              "1                                 0                             0   \n",
              "2                                 0                             0   \n",
              "3                                 0                             1   \n",
              "4                                 0                             1   \n",
              "\n",
              "   Bureaucratic_Code_0_Approved  Submitted_for_Approval    Bureaucratic_Code  \\\n",
              "0                             1                       0  Bureaucratic_Code_4   \n",
              "1                             0                       0  Bureaucratic_Code_4   \n",
              "2                             0                       0  Bureaucratic_Code_4   \n",
              "3                             0                       0  Bureaucratic_Code_5   \n",
              "4                             0                       0  Bureaucratic_Code_5   \n",
              "\n",
              "  Account_Created_Date  ... Delivery_Quarter Delivery_Year  \\\n",
              "0            6/16/2015  ...               Q2          2016   \n",
              "1            6/16/2015  ...               Q1          2016   \n",
              "2            4/21/2015  ...               Q1          2016   \n",
              "3            7/27/2013  ...               Q1          2018   \n",
              "4            7/27/2013  ...               Q1          2018   \n",
              "\n",
              "  Actual_Delivery_Date TRF  Total_Amount_Currency Total_Amount  \\\n",
              "0                  NaT  10                    EUR    5272800.0   \n",
              "1                  NaT   0                    EUR      48230.0   \n",
              "2                  NaT   0                    USD      83865.6   \n",
              "3                  NaT  14                    USD    7421881.5   \n",
              "4                  NaT  25                    USD   13357192.5   \n",
              "\n",
              "  Total_Taxable_Amount_Currency Total_Taxable_Amount        Stage  \\\n",
              "0                           EUR            5272800.0  Closed Lost   \n",
              "1                           EUR              48230.0   Closed Won   \n",
              "2                           USD              83865.6   Closed Won   \n",
              "3                           USD            7421881.5  Closed Lost   \n",
              "4                           USD           13357192.5  Closed Lost   \n",
              "\n",
              "        Prod_Category_A  \n",
              "0  Prod_Category_A_None  \n",
              "1  Prod_Category_A_None  \n",
              "2  Prod_Category_A_None  \n",
              "3  Prod_Category_A_None  \n",
              "4  Prod_Category_A_None  \n",
              "\n",
              "[5 rows x 52 columns]"
            ],
            "text/html": "<div>\n<style scoped>\n    .dataframe tbody tr th:only-of-type {\n        vertical-align: middle;\n    }\n\n    .dataframe tbody tr th {\n        vertical-align: top;\n    }\n\n    .dataframe thead th {\n        text-align: right;\n    }\n</style>\n<table border=\"1\" class=\"dataframe\">\n  <thead>\n    <tr style=\"text-align: right;\">\n      <th></th>\n      <th>ID</th>\n      <th>Region</th>\n      <th>Territory</th>\n      <th>Pricing, Delivery_Terms_Quote_Appr</th>\n      <th>Pricing, Delivery_Terms_Approved</th>\n      <th>Bureaucratic_Code_0_Approval</th>\n      <th>Bureaucratic_Code_0_Approved</th>\n      <th>Submitted_for_Approval</th>\n      <th>Bureaucratic_Code</th>\n      <th>Account_Created_Date</th>\n      <th>...</th>\n      <th>Delivery_Quarter</th>\n      <th>Delivery_Year</th>\n      <th>Actual_Delivery_Date</th>\n      <th>TRF</th>\n      <th>Total_Amount_Currency</th>\n      <th>Total_Amount</th>\n      <th>Total_Taxable_Amount_Currency</th>\n      <th>Total_Taxable_Amount</th>\n      <th>Stage</th>\n      <th>Prod_Category_A</th>\n    </tr>\n  </thead>\n  <tbody>\n    <tr>\n      <th>0</th>\n      <td>27761</td>\n      <td>EMEA</td>\n      <td>None</td>\n      <td>1</td>\n      <td>1</td>\n      <td>1</td>\n      <td>1</td>\n      <td>0</td>\n      <td>Bureaucratic_Code_4</td>\n      <td>6/16/2015</td>\n      <td>...</td>\n      <td>Q2</td>\n      <td>2016</td>\n      <td>NaT</td>\n      <td>10</td>\n      <td>EUR</td>\n      <td>5272800.0</td>\n      <td>EUR</td>\n      <td>5272800.0</td>\n      <td>Closed Lost</td>\n      <td>Prod_Category_A_None</td>\n    </tr>\n    <tr>\n      <th>1</th>\n      <td>27760</td>\n      <td>EMEA</td>\n      <td>None</td>\n      <td>0</td>\n      <td>0</td>\n      <td>0</td>\n      <td>0</td>\n      <td>0</td>\n      <td>Bureaucratic_Code_4</td>\n      <td>6/16/2015</td>\n      <td>...</td>\n      <td>Q1</td>\n      <td>2016</td>\n      <td>NaT</td>\n      <td>0</td>\n      <td>EUR</td>\n      <td>48230.0</td>\n      <td>EUR</td>\n      <td>48230.0</td>\n      <td>Closed Won</td>\n      <td>Prod_Category_A_None</td>\n    </tr>\n    <tr>\n      <th>2</th>\n      <td>27446</td>\n      <td>Americas</td>\n      <td>NW America</td>\n      <td>0</td>\n      <td>0</td>\n      <td>0</td>\n      <td>0</td>\n      <td>0</td>\n      <td>Bureaucratic_Code_4</td>\n      <td>4/21/2015</td>\n      <td>...</td>\n      <td>Q1</td>\n      <td>2016</td>\n      <td>NaT</td>\n      <td>0</td>\n      <td>USD</td>\n      <td>83865.6</td>\n      <td>USD</td>\n      <td>83865.6</td>\n      <td>Closed Won</td>\n      <td>Prod_Category_A_None</td>\n    </tr>\n    <tr>\n      <th>3</th>\n      <td>16808</td>\n      <td>Americas</td>\n      <td>NW America</td>\n      <td>1</td>\n      <td>0</td>\n      <td>1</td>\n      <td>0</td>\n      <td>0</td>\n      <td>Bureaucratic_Code_5</td>\n      <td>7/27/2013</td>\n      <td>...</td>\n      <td>Q1</td>\n      <td>2018</td>\n      <td>NaT</td>\n      <td>14</td>\n      <td>USD</td>\n      <td>7421881.5</td>\n      <td>USD</td>\n      <td>7421881.5</td>\n      <td>Closed Lost</td>\n      <td>Prod_Category_A_None</td>\n    </tr>\n    <tr>\n      <th>4</th>\n      <td>16805</td>\n      <td>Americas</td>\n      <td>NW America</td>\n      <td>1</td>\n      <td>0</td>\n      <td>1</td>\n      <td>0</td>\n      <td>0</td>\n      <td>Bureaucratic_Code_5</td>\n      <td>7/27/2013</td>\n      <td>...</td>\n      <td>Q1</td>\n      <td>2018</td>\n      <td>NaT</td>\n      <td>25</td>\n      <td>USD</td>\n      <td>13357192.5</td>\n      <td>USD</td>\n      <td>13357192.5</td>\n      <td>Closed Lost</td>\n      <td>Prod_Category_A_None</td>\n    </tr>\n  </tbody>\n</table>\n<p>5 rows × 52 columns</p>\n</div>"
          },
          "metadata": {},
          "execution_count": 10
        }
      ]
    },
    {
      "cell_type": "code",
      "metadata": {
        "id": "HUe6za3eOsrc",
        "outputId": "85e4a79d-49ab-4931-afa9-f0a50c80f5e1",
        "colab": {
          "base_uri": "https://localhost:8080/"
        }
      },
      "source": [
        "# nos da las dimensiones del data frame (rows x columns)\n",
        "print(df.shape)"
      ],
      "execution_count": 12,
      "outputs": [
        {
          "output_type": "stream",
          "name": "stdout",
          "text": [
            "(16947, 52)\n"
          ]
        }
      ]
    },
    {
      "cell_type": "code",
      "metadata": {
        "id": "y0ukckERPlBE",
        "outputId": "6019aa16-128e-4239-c442-51f1d2721862",
        "colab": {
          "base_uri": "https://localhost:8080/"
        }
      },
      "source": [
        "df.count()"
      ],
      "execution_count": 14,
      "outputs": [
        {
          "output_type": "execute_result",
          "data": {
            "text/plain": [
              "ID                                    16947\n",
              "Region                                16947\n",
              "Territory                             16947\n",
              "Pricing, Delivery_Terms_Quote_Appr    16947\n",
              "Pricing, Delivery_Terms_Approved      16947\n",
              "Bureaucratic_Code_0_Approval          16947\n",
              "Bureaucratic_Code_0_Approved          16947\n",
              "Submitted_for_Approval                16947\n",
              "Bureaucratic_Code                     16947\n",
              "Account_Created_Date                  16947\n",
              "Source                                16947\n",
              "Billing_Country                       16947\n",
              "Account_Name                          16947\n",
              "Opportunity_Name                      16947\n",
              "Opportunity_ID                        16947\n",
              "Sales_Contract_No                     16947\n",
              "Account_Owner                         16947\n",
              "Opportunity_Owner                     16947\n",
              "Account_Type                          16947\n",
              "Opportunity_Type                      16947\n",
              "Quote_Type                            16947\n",
              "Delivery_Terms                        16947\n",
              "Opportunity_Created_Date              16947\n",
              "Brand                                 16947\n",
              "Product_Type                          16947\n",
              "Size                                  16947\n",
              "Product_Category_B                    16947\n",
              "Price                                 16947\n",
              "Currency                              16947\n",
              "Last_Activity                         16947\n",
              "Quote_Expiry_Date                     16947\n",
              "Last_Modified_Date                    16947\n",
              "Last_Modified_By                      16947\n",
              "Product_Family                        16947\n",
              "Product_Name                          16947\n",
              "ASP_Currency                          16947\n",
              "ASP                                   13738\n",
              "ASP_(converted)_Currency              16947\n",
              "ASP_(converted)                       13738\n",
              "Planned_Delivery_Start_Date           16947\n",
              "Planned_Delivery_End_Date             16947\n",
              "Month                                 16947\n",
              "Delivery_Quarter                      16947\n",
              "Delivery_Year                         16947\n",
              "Actual_Delivery_Date                  16947\n",
              "TRF                                   16947\n",
              "Total_Amount_Currency                 16947\n",
              "Total_Amount                          16888\n",
              "Total_Taxable_Amount_Currency         16947\n",
              "Total_Taxable_Amount                  16947\n",
              "Stage                                 16947\n",
              "Prod_Category_A                       16947\n",
              "dtype: int64"
            ]
          },
          "metadata": {},
          "execution_count": 14
        }
      ]
    },
    {
      "cell_type": "code",
      "metadata": {
        "id": "vpG93WEOI8zM",
        "outputId": "9f041b22-9402-4c61-d735-4877cb45f862",
        "colab": {
          "base_uri": "https://localhost:8080/"
        }
      },
      "source": [
        "type(df.columns)"
      ],
      "execution_count": 16,
      "outputs": [
        {
          "output_type": "execute_result",
          "data": {
            "text/plain": [
              "pandas.core.indexes.base.Index"
            ]
          },
          "metadata": {},
          "execution_count": 16
        }
      ]
    },
    {
      "cell_type": "code",
      "metadata": {
        "id": "ytP0zHbTJOB7",
        "outputId": "f24bcb49-644f-4884-a58e-012601c5b402",
        "colab": {
          "base_uri": "https://localhost:8080/"
        }
      },
      "source": [
        "df.dtypes"
      ],
      "execution_count": 18,
      "outputs": [
        {
          "output_type": "execute_result",
          "data": {
            "text/plain": [
              "ID                                      int64\n",
              "Region                                 object\n",
              "Territory                              object\n",
              "Pricing, Delivery_Terms_Quote_Appr      int64\n",
              "Pricing, Delivery_Terms_Approved        int64\n",
              "Bureaucratic_Code_0_Approval            int64\n",
              "Bureaucratic_Code_0_Approved            int64\n",
              "Submitted_for_Approval                  int64\n",
              "Bureaucratic_Code                      object\n",
              "Account_Created_Date                   object\n",
              "Source                                 object\n",
              "Billing_Country                        object\n",
              "Account_Name                           object\n",
              "Opportunity_Name                       object\n",
              "Opportunity_ID                          int64\n",
              "Sales_Contract_No                      object\n",
              "Account_Owner                          object\n",
              "Opportunity_Owner                      object\n",
              "Account_Type                           object\n",
              "Opportunity_Type                       object\n",
              "Quote_Type                             object\n",
              "Delivery_Terms                         object\n",
              "Opportunity_Created_Date               object\n",
              "Brand                                  object\n",
              "Product_Type                           object\n",
              "Size                                   object\n",
              "Product_Category_B                     object\n",
              "Price                                  object\n",
              "Currency                               object\n",
              "Last_Activity                          object\n",
              "Quote_Expiry_Date                      object\n",
              "Last_Modified_Date                     object\n",
              "Last_Modified_By                       object\n",
              "Product_Family                         object\n",
              "Product_Name                           object\n",
              "ASP_Currency                           object\n",
              "ASP                                   float64\n",
              "ASP_(converted)_Currency               object\n",
              "ASP_(converted)                       float64\n",
              "Planned_Delivery_Start_Date            object\n",
              "Planned_Delivery_End_Date              object\n",
              "Month                                  object\n",
              "Delivery_Quarter                       object\n",
              "Delivery_Year                           int64\n",
              "Actual_Delivery_Date                   object\n",
              "TRF                                     int64\n",
              "Total_Amount_Currency                  object\n",
              "Total_Amount                          float64\n",
              "Total_Taxable_Amount_Currency          object\n",
              "Total_Taxable_Amount                  float64\n",
              "Stage                                  object\n",
              "Prod_Category_A                        object\n",
              "dtype: object"
            ]
          },
          "metadata": {},
          "execution_count": 18
        }
      ]
    },
    {
      "cell_type": "code",
      "metadata": {
        "id": "VFLy5g90QV1T",
        "outputId": "792fa884-4508-4794-a5e8-0a2e1c0ee0f2",
        "colab": {
          "base_uri": "https://localhost:8080/"
        }
      },
      "source": [
        "df.info()"
      ],
      "execution_count": 20,
      "outputs": [
        {
          "output_type": "stream",
          "name": "stdout",
          "text": [
            "<class 'pandas.core.frame.DataFrame'>\nRangeIndex: 16947 entries, 0 to 16946\nData columns (total 52 columns):\nID                                    16947 non-null int64\nRegion                                16947 non-null object\nTerritory                             16947 non-null object\nPricing, Delivery_Terms_Quote_Appr    16947 non-null int64\nPricing, Delivery_Terms_Approved      16947 non-null int64\nBureaucratic_Code_0_Approval          16947 non-null int64\nBureaucratic_Code_0_Approved          16947 non-null int64\nSubmitted_for_Approval                16947 non-null int64\nBureaucratic_Code                     16947 non-null object\nAccount_Created_Date                  16947 non-null object\nSource                                16947 non-null object\nBilling_Country                       16947 non-null object\nAccount_Name                          16947 non-null object\nOpportunity_Name                      16947 non-null object\nOpportunity_ID                        16947 non-null int64\nSales_Contract_No                     16947 non-null object\nAccount_Owner                         16947 non-null object\nOpportunity_Owner                     16947 non-null object\nAccount_Type                          16947 non-null object\nOpportunity_Type                      16947 non-null object\nQuote_Type                            16947 non-null object\nDelivery_Terms                        16947 non-null object\nOpportunity_Created_Date              16947 non-null object\nBrand                                 16947 non-null object\nProduct_Type                          16947 non-null object\nSize                                  16947 non-null object\nProduct_Category_B                    16947 non-null object\nPrice                                 16947 non-null object\nCurrency                              16947 non-null object\nLast_Activity                         16947 non-null object\nQuote_Expiry_Date                     16947 non-null object\nLast_Modified_Date                    16947 non-null object\nLast_Modified_By                      16947 non-null object\nProduct_Family                        16947 non-null object\nProduct_Name                          16947 non-null object\nASP_Currency                          16947 non-null object\nASP                                   13738 non-null float64\nASP_(converted)_Currency              16947 non-null object\nASP_(converted)                       13738 non-null float64\nPlanned_Delivery_Start_Date           16947 non-null object\nPlanned_Delivery_End_Date             16947 non-null object\nMonth                                 16947 non-null object\nDelivery_Quarter                      16947 non-null object\nDelivery_Year                         16947 non-null int64\nActual_Delivery_Date                  16947 non-null object\nTRF                                   16947 non-null int64\nTotal_Amount_Currency                 16947 non-null object\nTotal_Amount                          16888 non-null float64\nTotal_Taxable_Amount_Currency         16947 non-null object\nTotal_Taxable_Amount                  16947 non-null float64\nStage                                 16947 non-null object\nProd_Category_A                       16947 non-null object\ndtypes: float64(4), int64(9), object(39)\nmemory usage: 6.7+ MB\n"
          ]
        }
      ]
    },
    {
      "cell_type": "code",
      "metadata": {
        "id": "c3n6wUBLoydS",
        "outputId": "2aca173a-161e-4d99-e9ab-83cfda5dc227",
        "colab": {
          "base_uri": "https://localhost:8080/",
          "height": 456
        }
      },
      "source": [
        "df.select_dtypes('number')"
      ],
      "execution_count": 22,
      "outputs": [
        {
          "output_type": "execute_result",
          "data": {
            "text/plain": [
              "          ID  Pricing, Delivery_Terms_Quote_Appr  \\\n",
              "0      27761                                   1   \n",
              "1      27760                                   0   \n",
              "2      27446                                   0   \n",
              "3      16808                                   1   \n",
              "4      16805                                   1   \n",
              "...      ...                                 ...   \n",
              "16942   8781                                   1   \n",
              "16943   8786                                   1   \n",
              "16944   8792                                   1   \n",
              "16945  28561                                   1   \n",
              "16946  28318                                   1   \n",
              "\n",
              "       Pricing, Delivery_Terms_Approved  Bureaucratic_Code_0_Approval  \\\n",
              "0                                     1                             1   \n",
              "1                                     0                             0   \n",
              "2                                     0                             0   \n",
              "3                                     0                             1   \n",
              "4                                     0                             1   \n",
              "...                                 ...                           ...   \n",
              "16942                                 1                             1   \n",
              "16943                                 1                             1   \n",
              "16944                                 1                             1   \n",
              "16945                                 1                             1   \n",
              "16946                                 1                             1   \n",
              "\n",
              "       Bureaucratic_Code_0_Approved  Submitted_for_Approval  Opportunity_ID  \\\n",
              "0                                 1                       0               0   \n",
              "1                                 0                       0               1   \n",
              "2                                 0                       0               2   \n",
              "3                                 0                       0               3   \n",
              "4                                 0                       0               4   \n",
              "...                             ...                     ...             ...   \n",
              "16942                             1                       0           12801   \n",
              "16943                             1                       0           12801   \n",
              "16944                             1                       0           12801   \n",
              "16945                             1                       0           12802   \n",
              "16946                             1                       0           12803   \n",
              "\n",
              "          ASP  ASP_(converted)  Delivery_Year  TRF  Total_Amount  \\\n",
              "0      0.5200          0.58817           2016   10    5272800.00   \n",
              "1      0.5300          0.59948           2016    0      48230.00   \n",
              "2      0.4800          0.48000           2016    0      83865.60   \n",
              "3      0.5300          0.53000           2018   14    7421881.50   \n",
              "4      0.5300          0.53000           2018   25   13357192.50   \n",
              "...       ...              ...            ...  ...           ...   \n",
              "16942  0.5200          0.58817           2016    0     103350.00   \n",
              "16943  0.5200          0.58817           2016    0      93015.00   \n",
              "16944  0.5200          0.58817           2016    0     103350.00   \n",
              "16945  0.6375          0.63750           2016    4    2346796.88   \n",
              "16946  0.6400          0.64000           2016   40   25603200.00   \n",
              "\n",
              "       Total_Taxable_Amount  \n",
              "0                 5272800.0  \n",
              "1                   48230.0  \n",
              "2                   83865.6  \n",
              "3                 7421881.5  \n",
              "4                13357192.5  \n",
              "...                     ...  \n",
              "16942              299715.0  \n",
              "16943              299715.0  \n",
              "16944              299715.0  \n",
              "16945                   0.0  \n",
              "16946                   0.0  \n",
              "\n",
              "[16947 rows x 13 columns]"
            ],
            "text/html": "<div>\n<style scoped>\n    .dataframe tbody tr th:only-of-type {\n        vertical-align: middle;\n    }\n\n    .dataframe tbody tr th {\n        vertical-align: top;\n    }\n\n    .dataframe thead th {\n        text-align: right;\n    }\n</style>\n<table border=\"1\" class=\"dataframe\">\n  <thead>\n    <tr style=\"text-align: right;\">\n      <th></th>\n      <th>ID</th>\n      <th>Pricing, Delivery_Terms_Quote_Appr</th>\n      <th>Pricing, Delivery_Terms_Approved</th>\n      <th>Bureaucratic_Code_0_Approval</th>\n      <th>Bureaucratic_Code_0_Approved</th>\n      <th>Submitted_for_Approval</th>\n      <th>Opportunity_ID</th>\n      <th>ASP</th>\n      <th>ASP_(converted)</th>\n      <th>Delivery_Year</th>\n      <th>TRF</th>\n      <th>Total_Amount</th>\n      <th>Total_Taxable_Amount</th>\n    </tr>\n  </thead>\n  <tbody>\n    <tr>\n      <th>0</th>\n      <td>27761</td>\n      <td>1</td>\n      <td>1</td>\n      <td>1</td>\n      <td>1</td>\n      <td>0</td>\n      <td>0</td>\n      <td>0.5200</td>\n      <td>0.58817</td>\n      <td>2016</td>\n      <td>10</td>\n      <td>5272800.00</td>\n      <td>5272800.0</td>\n    </tr>\n    <tr>\n      <th>1</th>\n      <td>27760</td>\n      <td>0</td>\n      <td>0</td>\n      <td>0</td>\n      <td>0</td>\n      <td>0</td>\n      <td>1</td>\n      <td>0.5300</td>\n      <td>0.59948</td>\n      <td>2016</td>\n      <td>0</td>\n      <td>48230.00</td>\n      <td>48230.0</td>\n    </tr>\n    <tr>\n      <th>2</th>\n      <td>27446</td>\n      <td>0</td>\n      <td>0</td>\n      <td>0</td>\n      <td>0</td>\n      <td>0</td>\n      <td>2</td>\n      <td>0.4800</td>\n      <td>0.48000</td>\n      <td>2016</td>\n      <td>0</td>\n      <td>83865.60</td>\n      <td>83865.6</td>\n    </tr>\n    <tr>\n      <th>3</th>\n      <td>16808</td>\n      <td>1</td>\n      <td>0</td>\n      <td>1</td>\n      <td>0</td>\n      <td>0</td>\n      <td>3</td>\n      <td>0.5300</td>\n      <td>0.53000</td>\n      <td>2018</td>\n      <td>14</td>\n      <td>7421881.50</td>\n      <td>7421881.5</td>\n    </tr>\n    <tr>\n      <th>4</th>\n      <td>16805</td>\n      <td>1</td>\n      <td>0</td>\n      <td>1</td>\n      <td>0</td>\n      <td>0</td>\n      <td>4</td>\n      <td>0.5300</td>\n      <td>0.53000</td>\n      <td>2018</td>\n      <td>25</td>\n      <td>13357192.50</td>\n      <td>13357192.5</td>\n    </tr>\n    <tr>\n      <th>...</th>\n      <td>...</td>\n      <td>...</td>\n      <td>...</td>\n      <td>...</td>\n      <td>...</td>\n      <td>...</td>\n      <td>...</td>\n      <td>...</td>\n      <td>...</td>\n      <td>...</td>\n      <td>...</td>\n      <td>...</td>\n      <td>...</td>\n    </tr>\n    <tr>\n      <th>16942</th>\n      <td>8781</td>\n      <td>1</td>\n      <td>1</td>\n      <td>1</td>\n      <td>1</td>\n      <td>0</td>\n      <td>12801</td>\n      <td>0.5200</td>\n      <td>0.58817</td>\n      <td>2016</td>\n      <td>0</td>\n      <td>103350.00</td>\n      <td>299715.0</td>\n    </tr>\n    <tr>\n      <th>16943</th>\n      <td>8786</td>\n      <td>1</td>\n      <td>1</td>\n      <td>1</td>\n      <td>1</td>\n      <td>0</td>\n      <td>12801</td>\n      <td>0.5200</td>\n      <td>0.58817</td>\n      <td>2016</td>\n      <td>0</td>\n      <td>93015.00</td>\n      <td>299715.0</td>\n    </tr>\n    <tr>\n      <th>16944</th>\n      <td>8792</td>\n      <td>1</td>\n      <td>1</td>\n      <td>1</td>\n      <td>1</td>\n      <td>0</td>\n      <td>12801</td>\n      <td>0.5200</td>\n      <td>0.58817</td>\n      <td>2016</td>\n      <td>0</td>\n      <td>103350.00</td>\n      <td>299715.0</td>\n    </tr>\n    <tr>\n      <th>16945</th>\n      <td>28561</td>\n      <td>1</td>\n      <td>1</td>\n      <td>1</td>\n      <td>1</td>\n      <td>0</td>\n      <td>12802</td>\n      <td>0.6375</td>\n      <td>0.63750</td>\n      <td>2016</td>\n      <td>4</td>\n      <td>2346796.88</td>\n      <td>0.0</td>\n    </tr>\n    <tr>\n      <th>16946</th>\n      <td>28318</td>\n      <td>1</td>\n      <td>1</td>\n      <td>1</td>\n      <td>1</td>\n      <td>0</td>\n      <td>12803</td>\n      <td>0.6400</td>\n      <td>0.64000</td>\n      <td>2016</td>\n      <td>40</td>\n      <td>25603200.00</td>\n      <td>0.0</td>\n    </tr>\n  </tbody>\n</table>\n<p>16947 rows × 13 columns</p>\n</div>"
          },
          "metadata": {},
          "execution_count": 22
        }
      ]
    },
    {
      "cell_type": "markdown",
      "metadata": {
        "id": "mHg0XX_0M3kl"
      },
      "source": [
        "##Billing_Country\n",
        "Quiero analizar los país donde se emiten más facturas"
      ]
    },
    {
      "cell_type": "markdown",
      "metadata": {
        "id": "fDRk_lyJzVNT"
      },
      "source": [
        "####Uso lo echo por Lean para graficar\n"
      ]
    },
    {
      "cell_type": "markdown",
      "metadata": {
        "id": "Xz53JXRSjsbf"
      },
      "source": [
        "# Grafico con mapa\n"
      ]
    },
    {
      "cell_type": "code",
      "metadata": {
        "id": "dZwuaS1ANH9m",
        "outputId": "7b66b2a7-281c-45fe-8286-0f1134fce01c",
        "colab": {
          "base_uri": "https://localhost:8080/",
          "height": 419
        }
      },
      "source": [
        "df2 = df.drop_duplicates(subset=\"Opportunity_Name\")\n",
        "facturacion_por_pais = df2[['Billing_Country', 'ID']].groupby('Billing_Country').count().rename(columns = {'ID' : 'Total_Facturas'})\\\n",
        "            .sort_values(by=['Total_Facturas'],ascending=False)\n",
        "facturacion_por_pais = facturacion_por_pais.reset_index()\n",
        "facturacion_por_pais"
      ],
      "execution_count": 38,
      "outputs": [
        {
          "output_type": "execute_result",
          "data": {
            "text/plain": [
              "   Billing_Country  Total_Facturas\n",
              "0    United States            2350\n",
              "1            Japan            1899\n",
              "2          Germany            1308\n",
              "3            India             560\n",
              "4        Australia             559\n",
              "..             ...             ...\n",
              "75         Morocco               1\n",
              "76           Libya               1\n",
              "77            Oman               1\n",
              "78           Kenya               1\n",
              "79        Colombia               1\n",
              "\n",
              "[80 rows x 2 columns]"
            ],
            "text/html": "<div>\n<style scoped>\n    .dataframe tbody tr th:only-of-type {\n        vertical-align: middle;\n    }\n\n    .dataframe tbody tr th {\n        vertical-align: top;\n    }\n\n    .dataframe thead th {\n        text-align: right;\n    }\n</style>\n<table border=\"1\" class=\"dataframe\">\n  <thead>\n    <tr style=\"text-align: right;\">\n      <th></th>\n      <th>Billing_Country</th>\n      <th>Total_Facturas</th>\n    </tr>\n  </thead>\n  <tbody>\n    <tr>\n      <th>0</th>\n      <td>United States</td>\n      <td>2350</td>\n    </tr>\n    <tr>\n      <th>1</th>\n      <td>Japan</td>\n      <td>1899</td>\n    </tr>\n    <tr>\n      <th>2</th>\n      <td>Germany</td>\n      <td>1308</td>\n    </tr>\n    <tr>\n      <th>3</th>\n      <td>India</td>\n      <td>560</td>\n    </tr>\n    <tr>\n      <th>4</th>\n      <td>Australia</td>\n      <td>559</td>\n    </tr>\n    <tr>\n      <th>...</th>\n      <td>...</td>\n      <td>...</td>\n    </tr>\n    <tr>\n      <th>75</th>\n      <td>Morocco</td>\n      <td>1</td>\n    </tr>\n    <tr>\n      <th>76</th>\n      <td>Libya</td>\n      <td>1</td>\n    </tr>\n    <tr>\n      <th>77</th>\n      <td>Oman</td>\n      <td>1</td>\n    </tr>\n    <tr>\n      <th>78</th>\n      <td>Kenya</td>\n      <td>1</td>\n    </tr>\n    <tr>\n      <th>79</th>\n      <td>Colombia</td>\n      <td>1</td>\n    </tr>\n  </tbody>\n</table>\n<p>80 rows × 2 columns</p>\n</div>"
          },
          "metadata": {},
          "execution_count": 38
        }
      ]
    },
    {
      "cell_type": "markdown",
      "metadata": {
        "id": "Exco0-fCjsbz"
      },
      "source": [
        "Detecto que hay algunos territorios que no se encuentran dentro del GeoDataFrame World"
      ]
    },
    {
      "cell_type": "code",
      "metadata": {
        "id": "EQWK49QPjscY",
        "outputId": "522216a9-fbd7-41f0-a62b-2065b25abf5b",
        "colab": {
          "base_uri": "https://localhost:8080/"
        }
      },
      "source": [
        "world = geopandas.read_file(geopandas.datasets.get_path('naturalearth_lowres'))\n",
        "world = pd.DataFrame(world[world.name != 'Antarctica']).sort_values(by=['name'])\n",
        "world.name.unique()"
      ],
      "execution_count": 39,
      "outputs": [
        {
          "output_type": "execute_result",
          "data": {
            "text/plain": [
              "array(['Afghanistan', 'Albania', 'Algeria', 'Angola', 'Argentina',\n",
              "       'Armenia', 'Australia', 'Austria', 'Azerbaijan', 'Bahamas',\n",
              "       'Bangladesh', 'Belarus', 'Belgium', 'Belize', 'Benin', 'Bhutan',\n",
              "       'Bolivia', 'Bosnia and Herz.', 'Botswana', 'Brazil', 'Brunei',\n",
              "       'Bulgaria', 'Burkina Faso', 'Burundi', 'Cambodia', 'Cameroon',\n",
              "       'Canada', 'Central African Rep.', 'Chad', 'Chile', 'China',\n",
              "       'Colombia', 'Congo', 'Costa Rica', 'Croatia', 'Cuba', 'Cyprus',\n",
              "       'Czechia', \"Côte d'Ivoire\", 'Dem. Rep. Congo', 'Denmark',\n",
              "       'Djibouti', 'Dominican Rep.', 'Ecuador', 'Egypt', 'El Salvador',\n",
              "       'Eq. Guinea', 'Eritrea', 'Estonia', 'Ethiopia', 'Falkland Is.',\n",
              "       'Fiji', 'Finland', 'Fr. S. Antarctic Lands', 'France', 'Gabon',\n",
              "       'Gambia', 'Georgia', 'Germany', 'Ghana', 'Greece', 'Greenland',\n",
              "       'Guatemala', 'Guinea', 'Guinea-Bissau', 'Guyana', 'Haiti',\n",
              "       'Honduras', 'Hungary', 'Iceland', 'India', 'Indonesia', 'Iran',\n",
              "       'Iraq', 'Ireland', 'Israel', 'Italy', 'Jamaica', 'Japan', 'Jordan',\n",
              "       'Kazakhstan', 'Kenya', 'Kosovo', 'Kuwait', 'Kyrgyzstan', 'Laos',\n",
              "       'Latvia', 'Lebanon', 'Lesotho', 'Liberia', 'Libya', 'Lithuania',\n",
              "       'Luxembourg', 'Macedonia', 'Madagascar', 'Malawi', 'Malaysia',\n",
              "       'Mali', 'Mauritania', 'Mexico', 'Moldova', 'Mongolia',\n",
              "       'Montenegro', 'Morocco', 'Mozambique', 'Myanmar', 'N. Cyprus',\n",
              "       'Namibia', 'Nepal', 'Netherlands', 'New Caledonia', 'New Zealand',\n",
              "       'Nicaragua', 'Niger', 'Nigeria', 'North Korea', 'Norway', 'Oman',\n",
              "       'Pakistan', 'Palestine', 'Panama', 'Papua New Guinea', 'Paraguay',\n",
              "       'Peru', 'Philippines', 'Poland', 'Portugal', 'Puerto Rico',\n",
              "       'Qatar', 'Romania', 'Russia', 'Rwanda', 'S. Sudan', 'Saudi Arabia',\n",
              "       'Senegal', 'Serbia', 'Sierra Leone', 'Slovakia', 'Slovenia',\n",
              "       'Solomon Is.', 'Somalia', 'Somaliland', 'South Africa',\n",
              "       'South Korea', 'Spain', 'Sri Lanka', 'Sudan', 'Suriname', 'Sweden',\n",
              "       'Switzerland', 'Syria', 'Taiwan', 'Tajikistan', 'Tanzania',\n",
              "       'Thailand', 'Timor-Leste', 'Togo', 'Trinidad and Tobago',\n",
              "       'Tunisia', 'Turkey', 'Turkmenistan', 'Uganda', 'Ukraine',\n",
              "       'United Arab Emirates', 'United Kingdom',\n",
              "       'United States of America', 'Uruguay', 'Uzbekistan', 'Vanuatu',\n",
              "       'Venezuela', 'Vietnam', 'W. Sahara', 'Yemen', 'Zambia', 'Zimbabwe',\n",
              "       'eSwatini'], dtype=object)"
            ]
          },
          "metadata": {},
          "execution_count": 39
        }
      ]
    },
    {
      "cell_type": "markdown",
      "metadata": {
        "id": "Acmf2YkPR9SL"
      },
      "source": [
        "# Reviso que los nombres de los paises esten iguales para que al graficar detecte todos los paises usando el GeoPandas"
      ]
    },
    {
      "cell_type": "code",
      "metadata": {
        "id": "-Qvyd7w-QUP4"
      },
      "source": [
        "facturacion_por_pais.loc[(facturacion_por_pais.Billing_Country =='United States'),'Billing_Country'] = 'United States of America'\n",
        "facturacion_por_pais.loc[(facturacion_por_pais.Billing_Country =='Czech Republic'),'Billing_Country'] = 'Czechia'\n",
        "facturacion_por_pais.loc[(facturacion_por_pais.Billing_Country =='Bosnia and Herzegovina'),'Billing_Country'] = 'Bosnia and Herz.'\n",
        "facturacion_por_pais.loc[(facturacion_por_pais.Billing_Country =='Korea, Democratic People\\'s Republic of'),'Billing_Country'] = 'North Korea'\n",
        "facturacion_por_pais.loc[(facturacion_por_pais.Billing_Country =='Korea, Republic of'),'Billing_Country'] = 'South Korea'\n",
        "facturacion_por_pais.loc[(facturacion_por_pais.Billing_Country =='Macedonia, the former Yugoslav Republic of'),'Billing_Country'] = 'Macedonia'\n",
        "facturacion_por_pais.loc[(facturacion_por_pais.Billing_Country =='Dominican Republic'),'Billing_Country'] = 'Dominican Rep.'\n",
        "facturacion_por_pais.loc[(facturacion_por_pais.Billing_Country =='Viet Nam'),'Billing_Country'] = 'Vietnam'"
      ],
      "execution_count": 40,
      "outputs": []
    },
    {
      "cell_type": "code",
      "metadata": {
        "id": "Hgkcg1JpfPYT",
        "outputId": "e8b42424-9866-4ca5-dc6e-912f17c73918",
        "colab": {
          "base_uri": "https://localhost:8080/"
        }
      },
      "source": [
        "facturacion_por_pais.Billing_Country.unique()"
      ],
      "execution_count": 41,
      "outputs": [
        {
          "output_type": "execute_result",
          "data": {
            "text/plain": [
              "array(['United States of America', 'Japan', 'Germany', 'India',\n",
              "       'Australia', 'Netherlands', 'France', 'Singapore', 'Italy',\n",
              "       'Spain', 'United Kingdom', 'Belgium', 'Thailand', 'Indonesia',\n",
              "       'Sri Lanka', 'Luxembourg', 'Canada', 'Philippines', 'Jordan',\n",
              "       'Austria', 'China', 'United Arab Emirates', 'Poland', 'Norway',\n",
              "       'Vietnam', 'Cyprus', 'Taiwan', 'None', 'New Zealand',\n",
              "       'Switzerland', 'Portugal', 'Pakistan', 'Lebanon', 'Saudi Arabia',\n",
              "       'Ireland', 'South Africa', 'Puerto Rico', 'Czechia', 'Denmark',\n",
              "       'Hungary', 'Turkey', 'French Southern Territories', 'Sweden',\n",
              "       'North Korea', 'Greece', 'Brazil', 'Malta', 'Egypt', 'South Korea',\n",
              "       'Bulgaria', 'Cambodia', 'Mexico', 'Kuwait', 'Palestine', 'Bahrain',\n",
              "       'Estonia', 'Ghana', 'Jamaica', 'Reunion', 'Albania', 'Myanmar',\n",
              "       'Macedonia', 'Chile', 'Armenia', 'Bangladesh', 'Belarus', 'Belize',\n",
              "       'Bosnia and Herz.', 'Malaysia', 'Peru', 'Argentina',\n",
              "       'Dominican Rep.', 'Slovakia', 'Ecuador', 'Liechtenstein',\n",
              "       'Morocco', 'Libya', 'Oman', 'Kenya', 'Colombia'], dtype=object)"
            ]
          },
          "metadata": {},
          "execution_count": 41
        }
      ]
    },
    {
      "cell_type": "markdown",
      "metadata": {
        "id": "66vwzITPSazW"
      },
      "source": [
        "Detecto que hay algunos paises que no se encuentran dentro del GeoDataFrame World\n"
      ]
    },
    {
      "cell_type": "code",
      "metadata": {
        "id": "AaCAjm7cSazZ",
        "outputId": "b746efcc-55e4-46aa-81a0-8bfe4614dc62",
        "colab": {
          "base_uri": "https://localhost:8080/",
          "height": 266
        }
      },
      "source": [
        "pais_fac = facturacion_por_pais.groupby('Billing_Country').count().reset_index()[['Billing_Country']].copy()\n",
        "pais_fac['esta'] = pais_fac['Billing_Country'].isin(world['name'])\n",
        "pais_fac[pais_fac.esta == False]"
      ],
      "execution_count": 42,
      "outputs": [
        {
          "output_type": "execute_result",
          "data": {
            "text/plain": [
              "                Billing_Country   esta\n",
              "5                       Bahrain  False\n",
              "26  French Southern Territories  False\n",
              "42                Liechtenstein  False\n",
              "46                        Malta  False\n",
              "52                         None  False\n",
              "63                      Reunion  False\n",
              "65                    Singapore  False"
            ],
            "text/html": "<div>\n<style scoped>\n    .dataframe tbody tr th:only-of-type {\n        vertical-align: middle;\n    }\n\n    .dataframe tbody tr th {\n        vertical-align: top;\n    }\n\n    .dataframe thead th {\n        text-align: right;\n    }\n</style>\n<table border=\"1\" class=\"dataframe\">\n  <thead>\n    <tr style=\"text-align: right;\">\n      <th></th>\n      <th>Billing_Country</th>\n      <th>esta</th>\n    </tr>\n  </thead>\n  <tbody>\n    <tr>\n      <th>5</th>\n      <td>Bahrain</td>\n      <td>False</td>\n    </tr>\n    <tr>\n      <th>26</th>\n      <td>French Southern Territories</td>\n      <td>False</td>\n    </tr>\n    <tr>\n      <th>42</th>\n      <td>Liechtenstein</td>\n      <td>False</td>\n    </tr>\n    <tr>\n      <th>46</th>\n      <td>Malta</td>\n      <td>False</td>\n    </tr>\n    <tr>\n      <th>52</th>\n      <td>None</td>\n      <td>False</td>\n    </tr>\n    <tr>\n      <th>63</th>\n      <td>Reunion</td>\n      <td>False</td>\n    </tr>\n    <tr>\n      <th>65</th>\n      <td>Singapore</td>\n      <td>False</td>\n    </tr>\n  </tbody>\n</table>\n</div>"
          },
          "metadata": {},
          "execution_count": 42
        }
      ]
    },
    {
      "cell_type": "code",
      "metadata": {
        "id": "nQcKmOgwcdJH"
      },
      "source": [
        "top_Fac_MAP = pd.merge(facturacion_por_pais,world,left_on=\"Billing_Country\",right_on=\"name\",how='right')\n",
        "\n",
        "top_Fac_MAP = geopandas.GeoDataFrame(top_Fac_MAP)\n",
        "\n",
        "top_Fac_MAP['Total_Facturas'].fillna(0, inplace=True)"
      ],
      "execution_count": 43,
      "outputs": []
    },
    {
      "cell_type": "markdown",
      "metadata": {
        "id": "DPcQ3IQLJ1QL"
      },
      "source": [
        "#paises con más facturación"
      ]
    },
    {
      "cell_type": "code",
      "metadata": {
        "id": "8dmvVDAjc-pr",
        "outputId": "d73c3b9c-6bff-4d09-9917-082259935bca",
        "colab": {
          "base_uri": "https://localhost:8080/",
          "height": 472
        }
      },
      "source": [
        "fig, ax = plt.subplots(1,figsize=(15, 8))\n",
        "top_Fac_MAP.plot(column=\"Total_Facturas\",cmap=\"binary\",ax=ax,edgecolor='black', linewidth=1)\n",
        "ax.axis('off')\n",
        "vmin = top_Fac_MAP['Total_Facturas'].min()\n",
        "vmax = top_Fac_MAP['Total_Facturas'].max()\n",
        "sm = plt.cm.ScalarMappable(cmap='binary', norm=plt.Normalize(vmin=vmin, vmax=vmax))\n",
        "sm._A = []\n",
        "cbar = fig.colorbar(sm)\n",
        "fig.show()"
      ],
      "execution_count": 44,
      "outputs": [
        {
          "output_type": "display_data",
          "data": {
            "text/plain": "<Figure size 1080x576 with 2 Axes>",
            "image/svg+xml": "<?xml version=\"1.0\" encoding=\"utf-8\" standalone=\"no\"?>\n<!DOCTYPE svg PUBLIC \"-//W3C//DTD SVG 1.1//EN\"\n  \"http://www.w3.org/Graphics/SVG/1.1/DTD/svg11.dtd\">\n<!-- Created with matplotlib (https://matplotlib.org/) -->\n<svg height=\"455.158906pt\" version=\"1.1\" viewBox=\"0 0 780.044 455.158906\" width=\"780.044pt\" xmlns=\"http://www.w3.org/2000/svg\" xmlns:xlink=\"http://www.w3.org/1999/xlink\">\n <metadata>\n  <rdf:RDF xmlns:cc=\"http://creativecommons.org/ns#\" xmlns:dc=\"http://purl.org/dc/elements/1.1/\" xmlns:rdf=\"http://www.w3.org/1999/02/22-rdf-syntax-ns#\">\n   <cc:Work>\n    <dc:type rdf:resource=\"http://purl.org/dc/dcmitype/StillImage\"/>\n    <dc:date>2020-11-16T17:26:17.124833</dc:date>\n    <dc:format>image/svg+xml</dc:format>\n    <dc:creator>\n     <cc:Agent>\n      <dc:title>Matplotlib v3.3.2, https://matplotlib.org/</dc:title>\n     </cc:Agent>\n    </dc:creator>\n   </cc:Work>\n  </rdf:RDF>\n </metadata>\n <defs>\n  <style type=\"text/css\">*{stroke-linecap:butt;stroke-linejoin:round;}</style>\n </defs>\n <g id=\"figure_1\">\n  <g id=\"patch_1\">\n   <path d=\"M 0 455.158906 \nL 780.044 455.158906 \nL 780.044 0 \nL 0 0 \nz\n\" style=\"fill:none;\"/>\n  </g>\n  <g id=\"axes_1\">\n   <g id=\"PatchCollection_1\">\n    <path clip-path=\"url(#p520653cbdf)\" d=\"M 134.288727 163.671007 \nL 139.090909 163.671007 \nL 144.110863 163.671007 \nL 145.773077 163.671007 \nL 150.927273 163.671007 \nL 155.915455 163.671007 \nL 160.988182 163.671007 \nL 166.063851 163.671251 \nL 171.81 163.671007 \nL 177.595073 163.669787 \nL 181.094664 163.671007 \nL 181.099702 163.001336 \nL 181.672092 162.992971 \nL 181.972364 163.949855 \nL 182.498 164.244841 \nL 183.678711 164.351989 \nL 185.404909 164.629547 \nL 187.045091 165.169815 \nL 188.414727 164.943251 \nL 190.494545 165.396379 \nL 191.047612 165.379286 \nL 192.560643 164.885883 \nL 194.14726 165.518375 \nL 195.800634 166.19225 \nL 197.16964 166.77281 \nL 198.482265 167.330742 \nL 198.646015 167.789066 \nL 199.044207 167.960589 \nL 198.940805 168.133273 \nL 199.394307 168.187003 \nL 199.723325 168.006701 \nL 199.808324 168.419408 \nL 200.148342 168.695628 \nL 200.612724 168.695628 \nL 200.860578 168.908669 \nL 200.652089 169.218526 \nL 202.413891 170.036556 \nL 202.774328 171.618176 \nL 203.112714 173.132517 \nL 202.618364 174.162665 \nL 201.823636 175.121205 \nL 201.451636 175.731185 \nL 201.414437 175.912992 \nL 201.604139 176.162013 \nL 202.178576 176.436836 \nL 202.602676 176.436836 \nL 204.566719 175.506319 \nL 206.308861 175.232396 \nL 208.520715 174.365507 \nL 208.553455 174.188807 \nL 208.401273 173.657253 \nL 208.127897 173.315072 \nL 208.891163 173.038403 \nL 210.552303 173.031491 \nL 212.104306 173.031963 \nL 212.645455 172.352838 \nL 212.856818 172.217159 \nL 214.643754 170.962099 \nL 215.406709 170.641372 \nL 217.975487 170.629346 \nL 221.091444 170.627917 \nL 221.260636 170.197794 \nL 221.802032 170.110236 \nL 222.520364 169.84052 \nL 223.120636 169.047546 \nL 223.636414 167.691525 \nL 224.926162 166.376215 \nL 225.487909 166.83419 \nL 226.621765 166.538158 \nL 227.372495 167.040955 \nL 227.371007 169.417351 \nL 228.476743 170.402521 \nL 228.768848 170.973863 \nL 226.963193 171.81825 \nL 225.225818 172.419865 \nL 223.439931 172.935646 \nL 222.544923 173.970541 \nL 222.258459 174.362564 \nL 222.241364 175.286771 \nL 222.799364 176.210455 \nL 223.501091 176.254025 \nL 223.323545 175.617903 \nL 223.830869 176.005101 \nL 223.695495 176.502949 \nL 222.554182 176.785579 \nL 221.741886 176.751682 \nL 220.491273 177.055713 \nL 219.755727 177.142853 \nL 218.772582 177.228861 \nL 217.363091 177.733484 \nL 219.846597 177.40518 \nL 220.347545 177.735406 \nL 217.980273 178.258246 \nL 216.903164 178.261731 \nL 216.953341 178.047802 \nL 216.438654 178.530976 \nL 216.936238 178.610936 \nL 216.571103 179.862912 \nL 215.340696 181.20438 \nL 215.214943 180.756724 \nL 214.843603 180.666011 \nL 214.288934 180.230224 \nL 214.640727 181.168722 \nL 215.060352 181.478884 \nL 215.085893 182.13751 \nL 214.543551 182.81478 \nL 213.591975 184.206615 \nL 213.438034 184.137408 \nL 213.960897 182.95152 \nL 213.097147 182.285482 \nL 212.899091 180.83759 \nL 212.57321 181.591151 \nL 212.934042 182.696705 \nL 211.816913 182.423553 \nL 212.980897 182.984816 \nL 213.053403 184.643169 \nL 213.538593 184.763666 \nL 213.714041 185.366692 \nL 213.951699 187.110381 \nL 212.876805 188.403888 \nL 211.127635 188.92068 \nL 210.016159 189.942902 \nL 209.171735 190.054686 \nL 208.315594 190.694956 \nL 208.073963 191.27977 \nL 206.21776 192.410908 \nL 205.26467 193.240577 \nL 204.467728 194.273726 \nL 204.207108 195.511986 \nL 204.505909 196.722309 \nL 205.070182 198.213309 \nL 205.821647 199.446985 \nL 205.831091 200.200101 \nL 206.63167 202.22175 \nL 206.578447 203.396807 \nL 206.504817 204.074739 \nL 206.082986 205.138919 \nL 205.577455 205.35879 \nL 204.745307 205.147458 \nL 204.478364 204.382822 \nL 203.835818 203.981978 \nL 202.939636 202.48317 \nL 202.15311 201.149858 \nL 201.899288 200.468074 \nL 202.246364 199.311273 \nL 201.772909 198.352733 \nL 200.454693 196.894776 \nL 199.794545 196.627361 \nL 198.088723 197.418331 \nL 197.786016 197.331243 \nL 196.965485 196.518244 \nL 195.905455 196.087093 \nL 193.994119 196.30611 \nL 192.493504 196.113409 \nL 191.203899 196.233523 \nL 190.504976 196.505375 \nL 190.809503 196.968618 \nL 190.782 197.675411 \nL 191.141031 198.019719 \nL 190.818811 198.248845 \nL 190.191399 197.991729 \nL 189.556717 198.322356 \nL 188.329801 198.268146 \nL 187.067436 197.347137 \nL 185.592499 197.564464 \nL 184.362683 197.161093 \nL 183.310853 197.283299 \nL 181.887818 197.690469 \nL 180.348651 198.982529 \nL 178.66826 199.733937 \nL 177.745091 200.566089 \nL 177.356182 201.35035 \nL 177.339273 202.552882 \nL 177.423818 203.389426 \nL 177.745091 203.981978 \nL 177.085636 204.034262 \nL 175.885091 203.650846 \nL 174.566182 203.110578 \nL 174.092727 202.291462 \nL 173.720727 201.071502 \nL 172.723091 200.078105 \nL 172.138307 199.056615 \nL 171.289876 197.863512 \nL 170.098124 197.168849 \nL 168.715636 197.202485 \nL 167.650364 198.579297 \nL 166.246909 198.056457 \nL 165.37276 197.530201 \nL 164.952095 196.572062 \nL 164.391356 195.661815 \nL 163.386584 194.895314 \nL 162.522005 194.34438 \nL 161.905348 193.726435 \nL 158.976 193.725853 \nL 158.97272 194.444991 \nL 157.631727 194.445479 \nL 154.269169 194.458062 \nL 150.411579 193.230399 \nL 147.858273 192.383154 \nL 148.016559 192.042349 \nL 145.869172 192.231339 \nL 143.947606 192.365621 \nL 143.663233 191.475252 \nL 142.567418 190.473121 \nL 141.778436 190.264555 \nL 141.593632 189.764594 \nL 140.644855 189.677073 \nL 140.039779 189.205685 \nL 138.469027 189.033788 \nL 138.037709 188.75243 \nL 137.832315 187.796836 \nL 136.191727 186.045896 \nL 134.783369 183.623003 \nL 134.843329 183.219318 \nL 134.097333 182.643637 \nL 132.788553 181.183257 \nL 132.555258 179.7623 \nL 131.654173 178.810365 \nL 132.024837 177.365897 \nL 131.965925 175.871237 \nL 131.426289 174.535642 \nL 132.086927 172.893244 \nL 132.29255 171.311627 \nL 132.498173 169.730009 \nL 132.192617 167.392321 \nL 131.658231 165.901495 \nL 131.165263 165.092378 \nL 131.370047 164.75204 \nL 133.815273 165.344095 \nL 134.715919 166.989299 \nL 135.134182 166.5292 \nL 134.863636 165.100103 \nL 134.288727 163.671007 \n\" style=\"stroke:#000000;\"/>\n    <path clip-path=\"url(#p520653cbdf)\" d=\"M 79.229109 214.073227 \nL 79.529448 214.224381 \nL 79.803815 214.457776 \nL 80.234743 215.068436 \nL 80.19406 215.16504 \nL 79.533422 215.537232 \nL 78.992432 215.809527 \nL 78.745458 216.10108 \nL 78.325301 215.851511 \nL 78.373644 215.364416 \nL 78.093951 214.729932 \nL 78.178141 214.535993 \nL 78.471683 214.251795 \nL 78.355027 213.909056 \nL 78.453083 213.746522 \nL 78.581643 213.778781 \nL 79.229109 214.073227 \n\" style=\"stroke:#000000;\"/>\n    <path clip-path=\"url(#p520653cbdf)\" d=\"M 78.22552 212.880647 \nL 78.08416 213.089905 \nL 77.517385 213.214619 \nL 77.226075 212.847603 \nL 77.031722 212.705914 \nL 77.016706 212.597058 \nL 77.182365 212.447648 \nL 77.783432 212.613284 \nL 78.22552 212.880647 \n\" style=\"stroke:#000000;\"/>\n    <path clip-path=\"url(#p520653cbdf)\" d=\"M 76.936067 212.161219 \nL 76.883497 212.349633 \nL 75.977372 212.299022 \nL 76.104089 212.086731 \nL 76.936067 212.161219 \n\" style=\"stroke:#000000;\"/>\n    <path clip-path=\"url(#p520653cbdf)\" d=\"M 74.793753 211.219897 \nL 74.935096 211.331855 \nL 75.423397 211.907938 \nL 75.331749 212.008584 \nL 75.210731 211.986154 \nL 74.622176 211.924895 \nL 74.407211 211.529715 \nL 74.341519 211.460125 \nL 74.793753 211.219897 \n\" style=\"stroke:#000000;\"/>\n    <path clip-path=\"url(#p520653cbdf)\" d=\"M 72.527106 210.352018 \nL 72.561888 210.757986 \nL 72.361346 210.93054 \nL 71.791865 210.612758 \nL 71.879353 210.48576 \nL 72.137335 210.315001 \nL 72.527106 210.352018 \n\" style=\"stroke:#000000;\"/>\n    <path clip-path=\"url(#p520653cbdf)\" d=\"M 60.518097 143.830672 \nL 61.859601 143.988506 \nL 62.020686 144.657079 \nL 60.983134 144.928164 \nL 59.87463 144.602321 \nL 58.84835 144.128867 \nL 60.518097 143.830672 \n\" style=\"stroke:#000000;\"/>\n    <path clip-path=\"url(#p520653cbdf)\" d=\"M 82.904148 148.039886 \nL 84.026809 148.157597 \nL 84.743151 148.698507 \nL 83.280233 149.526715 \nL 81.591393 150.19101 \nL 80.72681 149.741242 \nL 80.465412 148.924832 \nL 82.001118 148.305478 \nL 82.904148 148.039886 \n\" style=\"stroke:#000000;\"/>\n    <path clip-path=\"url(#p520653cbdf)\" d=\"M 103.605512 127.57413 \nL 103.605491 127.574127 \nL 103.5945 134.04335 \nL 103.585572 143.966227 \nL 105.250745 144.017762 \nL 106.897691 144.500204 \nL 108.078131 145.263359 \nL 109.580318 146.40857 \nL 111.225201 145.434536 \nL 112.922687 144.870061 \nL 113.820273 145.771472 \nL 114.959759 146.485062 \nL 116.507871 147.270768 \nL 117.564926 148.521036 \nL 119.294067 150.50917 \nL 122.168663 151.618096 \nL 122.215636 152.717507 \nL 121.275305 153.55792 \nL 121.275307 153.557965 \nL 121.275305 153.557967 \nL 120.345798 152.902408 \nL 118.855442 152.346682 \nL 118.377255 150.826575 \nL 116.197385 149.41684 \nL 115.286185 147.771322 \nL 113.662661 147.658655 \nL 110.974367 147.615966 \nL 108.992717 147.114412 \nL 105.496287 145.305793 \nL 103.877264 144.975087 \nL 100.919577 144.35303 \nL 98.578619 144.501632 \nL 95.253149 143.700939 \nL 93.242968 142.958425 \nL 91.366173 143.327318 \nL 91.714907 144.537972 \nL 90.780246 144.649784 \nL 88.823804 145.013183 \nL 87.335152 145.601286 \nL 85.461372 145.971439 \nL 85.219504 144.944646 \nL 85.97993 143.235275 \nL 87.77699 142.698867 \nL 87.313394 142.261708 \nL 85.157945 143.232843 \nL 84.003915 144.392748 \nL 81.567582 145.632537 \nL 82.804754 146.478757 \nL 81.206876 147.730704 \nL 79.389151 148.460204 \nL 77.696816 148.991793 \nL 77.277872 149.763487 \nL 74.638161 150.663429 \nL 74.103657 151.481594 \nL 72.125283 152.226585 \nL 70.964656 152.092573 \nL 69.386483 152.578546 \nL 67.670686 153.172052 \nL 66.26439 153.754932 \nL 63.362583 154.252613 \nL 63.09769 153.959732 \nL 64.947353 153.145484 \nL 66.601634 152.607636 \nL 68.40385 151.654423 \nL 70.501541 151.457368 \nL 71.335235 150.742818 \nL 73.679033 149.699543 \nL 74.05669 149.350554 \nL 75.305134 148.735208 \nL 75.596809 147.413597 \nL 76.456804 146.384372 \nL 74.507091 146.912584 \nL 73.961795 146.612859 \nL 73.046357 147.246533 \nL 71.94209 146.362577 \nL 71.486184 146.987966 \nL 70.853814 146.11905 \nL 69.163358 146.816668 \nL 68.125325 146.815227 \nL 67.97975 145.777806 \nL 68.285493 145.138729 \nL 67.196737 144.518113 \nL 64.998077 144.852152 \nL 63.571159 144.034032 \nL 62.41429 143.61574 \nL 62.406775 142.628619 \nL 61.10385 141.88597 \nL 61.758109 140.883899 \nL 63.136662 139.911277 \nL 63.739759 139.016694 \nL 65.108001 138.889347 \nL 66.268148 139.168178 \nL 67.632152 138.327317 \nL 68.85993 138.477405 \nL 70.148307 137.936629 \nL 69.834088 137.140709 \nL 68.88763 136.827024 \nL 70.139394 136.154624 \nL 69.100925 136.174437 \nL 67.306661 136.554002 \nL 66.79138 136.938881 \nL 65.457915 136.554498 \nL 63.066233 136.750066 \nL 60.589967 136.33227 \nL 59.880266 135.631275 \nL 57.740326 134.618531 \nL 60.116541 133.889482 \nL 63.888218 133.038399 \nL 65.27848 133.038399 \nL 65.048364 133.908845 \nL 68.617581 133.841028 \nL 67.244665 132.761459 \nL 65.164842 132.097749 \nL 63.962142 131.226447 \nL 62.34006 130.483258 \nL 60.016491 129.932351 \nL 60.962949 129.018855 \nL 63.962448 128.962206 \nL 66.096708 128.168222 \nL 66.499224 127.319571 \nL 68.226774 126.491273 \nL 69.87389 126.291967 \nL 73.079212 125.518247 \nL 74.633923 125.634876 \nL 77.23606 124.70589 \nL 79.794464 125.071856 \nL 81.018048 125.8585 \nL 81.76908 125.521128 \nL 84.626717 125.62569 \nL 84.525269 126.02651 \nL 87.112376 126.322768 \nL 88.837086 126.148498 \nL 92.399225 126.699181 \nL 95.651472 126.863048 \nL 96.953436 127.089643 \nL 99.2033 126.806399 \nL 101.768301 127.330243 \nL 103.605512 127.57413 \nL 103.605512 127.57413 \n\" style=\"stroke:#000000;\"/>\n    <path clip-path=\"url(#p520653cbdf)\" d=\"M 51.61738 137.908035 \nL 52.661049 138.239732 \nL 53.715028 138.060599 \nL 55.082309 138.520454 \nL 56.761493 138.753309 \nL 56.621991 138.943114 \nL 55.341129 139.312007 \nL 54.05415 138.932937 \nL 53.410202 138.61682 \nL 51.919366 138.71796 \nL 51.516849 138.564495 \nL 51.61738 137.908035 \n\" style=\"stroke:#000000;\"/>\n    <path clip-path=\"url(#p520653cbdf)\" d=\"M 581.913961 180.783799 \nL 580.349682 182.538561 \nL 580.378255 184.337004 \nL 579.741429 185.727917 \nL 580.036162 186.601245 \nL 579.155545 187.829506 \nL 576.994983 188.649518 \nL 574.022485 188.756376 \nL 571.613589 190.745749 \nL 570.477298 190.07605 \nL 570.407044 188.773353 \nL 567.466353 189.157826 \nL 565.465085 189.978694 \nL 563.485663 190.012107 \nL 565.200061 191.294405 \nL 564.071809 194.256535 \nL 562.978683 194.989862 \nL 562.160455 194.312508 \nL 562.575162 192.741832 \nL 561.504842 192.234965 \nL 560.817947 191.039846 \nL 562.416654 190.502898 \nL 563.303563 189.407387 \nL 565.004242 188.50641 \nL 566.244429 187.314894 \nL 569.6104 186.795148 \nL 571.418382 187.151522 \nL 573.187568 184.053084 \nL 574.315034 184.885434 \nL 576.795582 183.14247 \nL 577.757375 182.465431 \nL 578.819918 180.334256 \nL 578.530078 178.374469 \nL 579.244323 177.273554 \nL 581.042082 176.953655 \nL 581.964118 179.370821 \nL 581.913961 180.783799 \n\" style=\"fill:#313131;stroke:#000000;\"/>\n    <path clip-path=\"url(#p520653cbdf)\" d=\"M 586.528158 172.453182 \nL 587.724304 171.714496 \nL 588.100214 173.671041 \nL 585.591792 174.148098 \nL 584.110873 175.878949 \nL 581.452157 174.687613 \nL 580.531957 176.594579 \nL 578.651361 176.620787 \nL 578.418755 174.88809 \nL 579.254984 173.546981 \nL 581.061655 173.450165 \nL 581.554392 171.039348 \nL 582.054381 169.681083 \nL 584.041581 171.495556 \nL 585.339001 172.081587 \nL 586.528158 172.453182 \n\" style=\"fill:#313131;stroke:#000000;\"/>\n    <path clip-path=\"url(#p520653cbdf)\" d=\"M 565.827626 190.747776 \nL 566.76303 189.707923 \nL 567.724474 189.909526 \nL 568.41967 189.177009 \nL 569.661342 189.552927 \nL 569.877695 190.150531 \nL 568.925776 191.205199 \nL 568.231716 190.646096 \nL 567.364817 191.051148 \nL 566.916033 192.070692 \nL 565.813994 191.574317 \nL 565.827626 190.747776 \n\" style=\"fill:#313131;stroke:#000000;\"/>\n    <path clip-path=\"url(#p520653cbdf)\" d=\"M 365.875106 155.380455 \nL 366.270152 156.267293 \nL 365.798736 156.732462 \nL 366.412669 157.353617 \nL 366.831045 158.285846 \nL 366.699276 158.886692 \nL 367.392375 159.999495 \nL 366.63776 160.181329 \nL 366.191859 159.981032 \nL 365.767803 160.312774 \nL 364.553569 160.650326 \nL 363.925742 161.084558 \nL 362.696915 161.464033 \nL 362.992959 161.982023 \nL 363.171914 162.716972 \nL 364.034793 163.135849 \nL 364.989508 163.885072 \nL 364.393313 164.688602 \nL 363.785847 164.909884 \nL 364.02553 166.045427 \nL 363.867897 166.341595 \nL 363.340557 165.98477 \nL 362.529932 165.931274 \nL 361.321027 166.243788 \nL 359.829798 166.169487 \nL 359.588978 166.629432 \nL 358.733352 166.14544 \nL 358.222964 166.241536 \nL 356.410962 165.708641 \nL 356.063801 166.087261 \nL 354.625611 166.075057 \nL 354.840216 164.833422 \nL 355.695144 163.640014 \nL 353.258461 163.319034 \nL 352.460505 162.862691 \nL 352.555925 162.098608 \nL 352.218288 161.705038 \nL 352.410349 160.527482 \nL 352.126276 158.70121 \nL 353.142071 158.70049 \nL 353.57067 158.04448 \nL 353.992017 156.448767 \nL 353.675963 155.859493 \nL 354.006173 155.490421 \nL 355.419459 155.395676 \nL 355.733067 155.779969 \nL 356.881242 154.92078 \nL 356.494672 154.267473 \nL 356.417079 153.279136 \nL 357.695101 153.508973 \nL 358.777042 153.243651 \nL 358.806926 153.917178 \nL 360.515645 154.323311 \nL 360.497644 154.941855 \nL 362.216936 154.614571 \nL 363.167545 154.137244 \nL 365.076626 154.825405 \nL 365.875106 155.380455 \n\" style=\"fill:#717171;stroke:#000000;\"/>\n    <path clip-path=\"url(#p520653cbdf)\" d=\"M 506.571302 199.813927 \nL 506.698877 200.474529 \nL 506.10609 200.794294 \nL 506.244762 201.866613 \nL 505.036382 201.551487 \nL 502.847334 202.755792 \nL 502.898714 203.753136 \nL 501.965494 205.215017 \nL 501.879949 206.064209 \nL 501.125946 207.501143 \nL 499.804408 207.104106 \nL 499.738698 208.907727 \nL 499.356498 209.501234 \nL 499.535452 210.241316 \nL 498.701146 210.654744 \nL 497.810568 207.89021 \nL 497.343696 207.895704 \nL 497.067312 209.009497 \nL 496.14152 208.106268 \nL 496.663616 207.114419 \nL 497.420066 207.01373 \nL 498.199759 205.538834 \nL 497.224771 205.24127 \nL 495.656647 205.267118 \nL 494.047717 205.028094 \nL 493.898559 203.816269 \nL 493.091341 203.730305 \nL 491.752065 202.977209 \nL 491.154735 204.159629 \nL 492.375173 205.082221 \nL 491.318048 205.731611 \nL 490.94275 206.366726 \nL 491.983535 206.833696 \nL 491.695792 207.883861 \nL 492.281764 209.194439 \nL 492.544953 210.629527 \nL 492.302822 211.265858 \nL 491.15255 211.243928 \nL 489.068009 211.605751 \nL 489.165176 212.916779 \nL 488.262539 213.94794 \nL 485.829177 215.120949 \nL 483.93661 217.171474 \nL 482.665404 218.270812 \nL 480.98054 219.411623 \nL 480.977918 220.213263 \nL 480.134962 220.642767 \nL 478.611926 221.26712 \nL 477.822097 221.359118 \nL 477.315117 222.688473 \nL 477.667172 224.955236 \nL 477.756824 226.400907 \nL 477.040306 228.056646 \nL 477.032617 231.01756 \nL 476.157592 231.101948 \nL 475.387948 232.431213 \nL 475.902617 233.005627 \nL 474.360882 233.499705 \nL 473.791425 234.684962 \nL 473.112918 235.185885 \nL 471.511764 233.558561 \nL 470.729013 231.118024 \nL 470.08039 229.360199 \nL 469.487953 228.535864 \nL 468.589597 226.861572 \nL 468.170085 224.681944 \nL 467.877799 223.593323 \nL 466.339646 221.199708 \nL 465.639119 217.822305 \nL 465.133538 215.592107 \nL 465.139567 213.481105 \nL 464.811629 211.848962 \nL 462.350917 212.892147 \nL 461.159139 212.683204 \nL 458.950256 210.570987 \nL 459.763241 209.941005 \nL 459.263864 209.257121 \nL 457.280509 207.777858 \nL 458.406577 206.615116 \nL 462.127661 206.619665 \nL 461.791946 205.123334 \nL 460.841949 204.239514 \nL 460.649276 202.89818 \nL 459.542519 202.115499 \nL 461.406075 200.288642 \nL 463.369507 200.421123 \nL 465.138344 198.593951 \nL 466.198352 196.825319 \nL 467.839788 195.076591 \nL 467.813662 193.83428 \nL 469.255522 192.82613 \nL 467.890818 191.965545 \nL 467.303624 190.786412 \nL 466.704458 189.259326 \nL 467.533434 188.507851 \nL 470.098303 188.933032 \nL 471.983093 188.674015 \nL 473.616053 187.209251 \nL 475.433473 189.251941 \nL 475.262383 190.67361 \nL 475.935035 191.565581 \nL 475.879636 192.455481 \nL 474.6661 192.221275 \nL 475.140312 194.142291 \nL 476.801584 195.245817 \nL 479.15176 196.464442 \nL 478.07882 197.255004 \nL 477.422245 198.885211 \nL 479.060361 199.544642 \nL 480.654524 200.399688 \nL 482.859912 201.377353 \nL 485.177758 201.603228 \nL 486.153007 202.489795 \nL 487.459428 202.655734 \nL 489.493725 203.061957 \nL 490.901856 203.032822 \nL 491.095578 202.34304 \nL 490.872934 201.235641 \nL 491.003654 200.484977 \nL 492.034915 200.118426 \nL 492.17682 201.490966 \nL 492.212996 201.840135 \nL 493.749838 202.501638 \nL 494.812992 202.229202 \nL 496.240521 202.346102 \nL 497.620254 202.294406 \nL 497.739004 201.223798 \nL 497.05071 200.667622 \nL 498.414365 200.449537 \nL 499.953479 199.153324 \nL 501.902493 198.043494 \nL 503.320847 198.471737 \nL 504.526257 197.73787 \nL 505.319144 198.821582 \nL 504.748027 199.553468 \nL 506.571302 199.813927 \n\" style=\"fill:#c2c2c2;stroke:#000000;\"/>\n    <path clip-path=\"url(#p520653cbdf)\" d=\"M 591.729111 320.188866 \nL 592.743333 320.305947 \nL 592.863044 322.374664 \nL 592.283801 322.975195 \nL 592.109215 324.377276 \nL 591.518263 323.900039 \nL 590.344398 325.114611 \nL 589.994353 325.020947 \nL 588.95453 324.96673 \nL 587.912172 323.474948 \nL 587.680789 322.32441 \nL 586.705102 320.806329 \nL 586.74853 320.007122 \nL 587.854763 320.161488 \nL 589.488422 320.76301 \nL 590.40906 320.523986 \nL 591.729111 320.188866 \n\" style=\"fill:#c3c3c3;stroke:#000000;\"/>\n    <path clip-path=\"url(#p520653cbdf)\" d=\"M 555.306007 305.214217 \nL 553.513491 306.1079 \nL 552.047514 306.510025 \nL 551.721673 307.423881 \nL 551.097255 308.132036 \nL 549.662298 308.174365 \nL 548.600454 308.329361 \nL 547.105904 308.011534 \nL 545.890272 308.201744 \nL 544.729339 308.281719 \nL 543.723593 309.211156 \nL 543.230595 309.132352 \nL 542.382396 309.624989 \nL 541.569498 310.179049 \nL 540.33604 310.110602 \nL 539.202457 310.109971 \nL 537.408805 308.996899 \nL 536.499877 308.665922 \nL 536.536751 307.667138 \nL 537.376299 307.429825 \nL 537.662994 307.033013 \nL 537.603313 306.406994 \nL 537.810055 305.195214 \nL 537.620614 304.162387 \nL 536.726628 302.40069 \nL 536.449546 301.405778 \nL 536.522246 300.413028 \nL 535.849157 299.278701 \nL 535.806078 298.76661 \nL 535.057143 298.072414 \nL 534.846295 296.707259 \nL 533.880132 295.327604 \nL 533.645866 294.584145 \nL 534.38886 295.337871 \nL 533.818355 293.720993 \nL 534.656942 294.226329 \nL 535.157368 294.901162 \nL 535.129144 294.00856 \nL 534.292304 292.63638 \nL 534.130127 292.087454 \nL 533.73814 291.565997 \nL 533.921638 290.557936 \nL 534.268188 290.128972 \nL 534.498871 289.257175 \nL 534.318169 288.238487 \nL 535.016861 286.984378 \nL 535.14461 288.311707 \nL 535.858943 287.112716 \nL 537.232646 286.530017 \nL 538.056467 285.786737 \nL 539.348732 285.147119 \nL 540.117589 285.011036 \nL 540.582976 285.225923 \nL 541.915436 284.576398 \nL 542.941017 284.383126 \nL 543.197565 284.001264 \nL 543.645126 283.842215 \nL 544.579744 283.883283 \nL 546.356882 283.372994 \nL 547.276121 282.599274 \nL 547.707779 281.667855 \nL 548.699543 280.783089 \nL 548.775564 280.087633 \nL 548.819779 279.140184 \nL 550.003081 277.659209 \nL 550.715316 279.16387 \nL 551.434892 278.816142 \nL 550.832755 277.992618 \nL 551.363415 277.147028 \nL 552.109466 277.524567 \nL 552.31481 276.198498 \nL 553.238767 275.341111 \nL 553.646483 274.65322 \nL 554.496692 274.356376 \nL 554.523256 273.869413 \nL 555.266162 274.072772 \nL 555.296046 273.634712 \nL 556.039651 273.385151 \nL 556.85683 273.15018 \nL 558.106017 273.950018 \nL 559.044567 274.982215 \nL 560.102828 274.994103 \nL 561.178128 275.157565 \nL 560.819869 274.20057 \nL 561.629883 272.802902 \nL 562.392188 272.34746 \nL 562.128474 271.912012 \nL 562.862817 270.91665 \nL 563.887 270.301889 \nL 564.752063 270.50894 \nL 566.172777 270.180575 \nL 566.142194 269.289955 \nL 564.90358 268.716172 \nL 565.804033 268.463009 \nL 566.923984 268.895035 \nL 567.82234 269.609764 \nL 569.246461 270.05566 \nL 569.729324 269.879319 \nL 570.777449 270.415096 \nL 571.765281 269.916064 \nL 572.400535 270.067818 \nL 572.796367 269.732969 \nL 573.57274 270.59522 \nL 573.12212 271.528079 \nL 572.480051 272.232181 \nL 571.898973 272.290181 \nL 572.094879 272.986898 \nL 571.598123 273.857795 \nL 570.997559 274.714282 \nL 571.118494 275.206289 \nL 572.46275 276.169228 \nL 573.765064 276.727791 \nL 574.636069 277.327872 \nL 575.858168 278.36052 \nL 576.334914 278.358808 \nL 577.2199 278.805064 \nL 577.476972 279.343453 \nL 579.091233 279.934618 \nL 580.207602 279.33904 \nL 580.538423 278.403119 \nL 580.881652 277.63075 \nL 581.091539 276.675105 \nL 581.60551 275.288515 \nL 581.370806 274.445718 \nL 581.492789 273.93867 \nL 581.297232 272.941237 \nL 581.518828 271.628227 \nL 581.843096 271.274195 \nL 581.57982 270.692216 \nL 581.988409 269.768273 \nL 582.309444 268.810737 \nL 582.352086 268.313506 \nL 582.980349 267.660739 \nL 583.45727 268.513263 \nL 583.574709 269.606612 \nL 583.996056 269.817357 \nL 584.068232 270.549378 \nL 584.682864 271.435946 \nL 584.80974 272.422481 \nL 584.749972 273.055525 \nL 585.359186 274.423022 \nL 586.444098 273.765752 \nL 587.004117 274.503447 \nL 587.815442 275.184043 \nL 587.64173 275.956503 \nL 588.002348 277.450896 \nL 588.258984 278.320983 \nL 588.684874 278.533618 \nL 589.143795 280.023239 \nL 588.980394 280.926738 \nL 589.527918 282.108708 \nL 591.360192 283.019231 \nL 592.554854 283.847439 \nL 593.689136 284.606028 \nL 593.467714 285.028238 \nL 594.434838 286.121046 \nL 595.092461 288.006758 \nL 595.76721 287.623816 \nL 596.45297 288.379073 \nL 596.866103 288.11114 \nL 597.157428 289.958215 \nL 598.357333 291.028328 \nL 599.142531 291.693434 \nL 600.464243 293.104431 \nL 600.939329 294.50507 \nL 600.982931 295.498721 \nL 600.866192 296.57748 \nL 601.672011 298.058455 \nL 601.575019 299.600851 \nL 601.282471 300.407984 \nL 600.826171 301.96263 \nL 600.860599 302.961954 \nL 600.525758 304.2112 \nL 599.779095 305.796376 \nL 598.526326 306.652683 \nL 597.908898 308.002798 \nL 597.345121 308.864328 \nL 596.843909 310.368539 \nL 596.191354 311.237184 \nL 595.76354 312.541367 \nL 595.545265 313.74189 \nL 595.631771 314.292977 \nL 594.662201 314.898462 \nL 592.769634 314.961865 \nL 591.209112 315.676685 \nL 590.431953 316.351698 \nL 589.410304 317.09975 \nL 588.009775 316.329452 \nL 586.973796 316.022162 \nL 587.236286 315.113709 \nL 586.312154 315.443335 \nL 584.83141 316.70537 \nL 583.36954 316.232726 \nL 582.41063 315.956957 \nL 581.443856 315.832312 \nL 579.807051 315.328326 \nL 578.714013 314.254071 \nL 578.400231 312.930704 \nL 578.007195 312.050171 \nL 577.176385 311.343276 \nL 575.549628 311.133342 \nL 576.105453 310.288023 \nL 575.696427 308.993927 \nL 574.870597 310.200123 \nL 573.366086 310.520292 \nL 574.250373 309.556182 \nL 574.506571 308.550463 \nL 575.159651 307.696858 \nL 575.024736 306.406364 \nL 573.649197 307.892562 \nL 572.592771 308.488591 \nL 571.94511 309.87473 \nL 570.624796 309.157659 \nL 570.677224 308.232725 \nL 569.61905 306.968889 \nL 568.727074 306.315852 \nL 569.044963 305.913546 \nL 566.875314 304.857393 \nL 565.687118 304.807589 \nL 564.060886 303.959117 \nL 561.033252 304.12402 \nL 558.843767 304.748058 \nL 556.919394 305.329766 \nL 555.306007 305.214217 \n\" style=\"fill:#c3c3c3;stroke:#000000;\"/>\n    <path clip-path=\"url(#p520653cbdf)\" d=\"M 353.675963 155.859493 \nL 353.992017 156.448767 \nL 353.57067 158.04448 \nL 353.142071 158.70049 \nL 352.126276 158.70121 \nL 352.410349 160.527482 \nL 351.480887 160.120403 \nL 350.410567 159.357535 \nL 348.843229 159.719628 \nL 347.605315 159.582824 \nL 347.605383 159.582787 \nL 348.47667 159.103921 \nL 349.957414 156.53982 \nL 352.270891 155.810275 \nL 353.675963 155.859493 \n\" style=\"fill:#d5d5d5;stroke:#000000;\"/>\n    <path clip-path=\"url(#p520653cbdf)\" d=\"M 254.651361 241.824739 \nL 253.65112 243.419641 \nL 253.131864 244.703021 \nL 252.483852 245.365019 \nL 251.674232 245.489575 \nL 251.443635 244.998963 \nL 251.06541 244.926104 \nL 250.542003 245.398657 \nL 249.803597 245.039131 \nL 250.234862 244.306209 \nL 250.383627 243.509073 \nL 250.67919 242.759219 \nL 250.01532 241.726481 \nL 249.881584 240.534155 \nL 250.761852 239.035708 \nL 251.336071 239.227449 \nL 252.581107 239.639932 \nL 254.371438 241.111 \nL 254.651361 241.824739 \n\" style=\"fill:#dadada;stroke:#000000;\"/>\n    <path clip-path=\"url(#p520653cbdf)\" d=\"M 352.460505 162.862691 \nL 353.258461 163.319034 \nL 355.695144 163.640014 \nL 354.840216 164.833422 \nL 354.625611 166.075057 \nL 354.16136 166.372756 \nL 353.390929 166.212356 \nL 353.44528 166.65519 \nL 352.208676 167.634521 \nL 352.183685 168.423641 \nL 352.991078 168.150574 \nL 353.571894 168.914838 \nL 353.502164 169.407295 \nL 353.999794 170.061683 \nL 353.413561 170.592507 \nL 353.849151 171.941001 \nL 354.765681 172.162102 \nL 354.572222 172.918576 \nL 353.04036 173.903175 \nL 349.705409 173.431297 \nL 347.242512 173.996749 \nL 347.049053 175.046238 \nL 345.088941 175.272158 \nL 343.186326 174.483803 \nL 342.571607 174.860576 \nL 339.458951 174.068529 \nL 338.784988 173.390949 \nL 339.659401 172.345603 \nL 339.981397 168.873409 \nL 338.236503 167.044436 \nL 336.989369 166.162642 \nL 334.405189 165.492313 \nL 334.234754 164.221452 \nL 336.427078 163.842338 \nL 339.266627 164.29071 \nL 338.730637 162.317998 \nL 340.326898 163.0656 \nL 344.263723 161.706569 \nL 344.771402 160.278461 \nL 346.250223 159.92659 \nL 346.49515 160.53946 \nL 347.281134 160.568189 \nL 348.067294 161.267699 \nL 349.247275 162.089422 \nL 350.115047 161.953699 \nL 351.594306 162.748223 \nL 351.972575 162.899527 \nL 352.460505 162.862691 \n\" style=\"fill:#dadada;stroke:#000000;\"/>\n    <path clip-path=\"url(#p520653cbdf)\" d=\"M 356.788706 174.775918 \nL 357.877638 174.110407 \nL 358.165118 175.604846 \nL 357.606672 176.951133 \nL 356.83895 176.59629 \nL 356.447487 175.423552 \nL 356.788706 174.775918 \n\" style=\"fill:#dadada;stroke:#000000;\"/>\n    <path clip-path=\"url(#p520653cbdf)\" d=\"M 359.657659 167.342135 \nL 360.682104 167.58994 \nL 360.878709 167.258423 \nL 362.549767 166.9555 \nL 362.927511 167.561706 \nL 365.345495 168.011789 \nL 365.162259 168.870167 \nL 365.567266 169.612186 \nL 364.221262 169.358302 \nL 362.84651 169.976845 \nL 362.940007 170.841978 \nL 362.733003 171.338488 \nL 363.287255 172.225776 \nL 364.872768 173.103517 \nL 365.723152 174.544325 \nL 367.604709 175.948792 \nL 368.929741 175.938029 \nL 369.341826 176.323223 \nL 368.867439 176.670411 \nL 370.381912 177.300393 \nL 371.623322 177.827524 \nL 373.073308 178.736427 \nL 373.248418 179.06191 \nL 372.932451 179.685992 \nL 371.993988 178.872285 \nL 370.524953 178.585483 \nL 369.813329 179.712786 \nL 371.035428 180.358843 \nL 370.834803 181.268286 \nL 370.128422 181.371632 \nL 369.225261 182.866386 \nL 368.520365 183.000668 \nL 368.526919 182.467818 \nL 368.871896 181.533068 \nL 369.239416 181.160798 \nL 368.579085 180.150801 \nL 368.063018 179.271933 \nL 367.361093 179.054795 \nL 366.86189 178.302599 \nL 365.775318 177.985762 \nL 365.043684 177.285262 \nL 363.792575 177.172325 \nL 362.4713 176.385546 \nL 360.924496 175.251174 \nL 359.774748 174.247256 \nL 359.247322 172.524421 \nL 358.406026 172.321782 \nL 357.0304 171.746558 \nL 356.25193 171.982024 \nL 355.274933 172.790823 \nL 354.572222 172.918576 \nL 354.765681 172.162102 \nL 353.849151 171.941001 \nL 353.413561 170.592507 \nL 353.999794 170.061683 \nL 353.502164 169.407295 \nL 353.571894 168.914838 \nL 354.299421 169.288144 \nL 355.114677 169.205287 \nL 356.062665 168.614212 \nL 356.355738 168.890431 \nL 357.161208 168.835043 \nL 357.527418 168.132202 \nL 358.778615 168.350601 \nL 359.52353 168.05664 \nL 359.657659 167.342135 \n\" style=\"fill:#e8e8e8;stroke:#000000;\"/>\n    <path clip-path=\"url(#p520653cbdf)\" d=\"M 366.959931 182.591067 \nL 368.243545 182.438953 \nL 367.634593 183.810728 \nL 367.887646 184.350693 \nL 367.532707 185.246897 \nL 366.239569 184.590482 \nL 365.379748 184.402433 \nL 363.019697 183.516361 \nL 363.256323 182.621553 \nL 365.235046 182.780872 \nL 366.959931 182.591067 \n\" style=\"fill:#e8e8e8;stroke:#000000;\"/>\n    <path clip-path=\"url(#p520653cbdf)\" d=\"M 356.727802 177.787717 \nL 357.573293 177.247436 \nL 358.587776 178.484794 \nL 358.350277 180.789878 \nL 357.581419 180.679913 \nL 356.891728 181.261757 \nL 356.251493 180.799515 \nL 356.183774 178.69689 \nL 355.797815 177.700537 \nL 356.727802 177.787717 \n\" style=\"fill:#e8e8e8;stroke:#000000;\"/>\n    <path clip-path=\"url(#p520653cbdf)\" d=\"M 329.396428 184.414186 \nL 329.25544 183.837116 \nL 329.882087 183.183583 \nL 330.114125 182.709769 \nL 329.531081 182.191644 \nL 329.997865 181.046599 \nL 329.320494 180.001794 \nL 330.051036 179.858325 \nL 330.118974 179.034621 \nL 330.393566 178.779566 \nL 330.415368 177.419815 \nL 331.196634 176.947981 \nL 330.723994 176.073842 \nL 329.738696 176.012916 \nL 329.449205 176.232981 \nL 328.45045 176.235053 \nL 328.026569 175.381808 \nL 327.336528 175.635872 \nL 326.722945 176.078751 \nL 326.80814 174.83752 \nL 326.117488 174.081407 \nL 328.509607 172.823606 \nL 330.578769 173.138056 \nL 332.848992 173.127024 \nL 334.648193 173.424677 \nL 336.052174 173.333265 \nL 338.784988 173.390949 \nL 339.458951 174.068529 \nL 342.571607 174.860576 \nL 343.186326 174.483803 \nL 345.088941 175.272158 \nL 347.049053 175.046238 \nL 347.139491 176.058622 \nL 345.537114 177.219382 \nL 343.370523 177.587735 \nL 343.219705 178.174036 \nL 342.180406 179.140218 \nL 341.528725 180.55878 \nL 342.188182 181.554727 \nL 341.210136 182.332275 \nL 340.844451 183.465116 \nL 339.567827 183.812439 \nL 338.370544 185.152512 \nL 336.224225 185.17908 \nL 334.612586 185.146073 \nL 333.553538 185.76151 \nL 332.907712 186.420041 \nL 332.080396 186.275447 \nL 331.454318 185.686623 \nL 330.97495 184.684101 \nL 329.396428 184.414186 \n\" style=\"fill:#eaeaea;stroke:#000000;\"/>\n    <path clip-path=\"url(#p520653cbdf)\" d=\"M 331.51994 155.187813 \nL 330.241874 154.828557 \nL 329.196152 154.852514 \nL 329.544712 153.918574 \nL 329.196152 152.984814 \nL 330.613677 152.912945 \nL 332.42616 153.990443 \nL 331.51994 155.187813 \n\" style=\"fill:#eaeaea;stroke:#000000;\"/>\n    <path clip-path=\"url(#p520653cbdf)\" d=\"M 336.768614 155.994761 \nL 336.771574 155.994946 \nL 337.020258 154.983148 \nL 335.88787 153.909693 \nL 335.861991 153.885161 \nL 333.80895 153.578501 \nL 333.40591 153.106848 \nL 334.02041 152.328039 \nL 333.464323 151.847875 \nL 332.553909 152.67194 \nL 332.45482 150.992109 \nL 331.600941 150.10329 \nL 332.215005 148.301515 \nL 333.528548 146.887817 \nL 334.878746 147.025791 \nL 336.91881 146.879126 \nL 335.111526 148.764793 \nL 336.83427 148.526039 \nL 338.687035 148.535136 \nL 338.246202 149.955138 \nL 336.726049 151.517078 \nL 338.474439 151.62826 \nL 338.608585 151.81142 \nL 340.114652 153.867779 \nL 341.272089 154.147691 \nL 342.312787 156.133371 \nL 342.794688 156.821803 \nL 344.843316 157.15377 \nL 344.637798 158.268329 \nL 343.776404 158.779384 \nL 344.451591 159.680992 \nL 342.930564 160.593677 \nL 340.66838 160.577556 \nL 337.789641 161.056774 \nL 337.001209 160.713684 \nL 335.883224 161.530229 \nL 334.319032 161.332453 \nL 333.131143 161.997919 \nL 332.23235 161.649921 \nL 334.712199 159.819416 \nL 336.225798 159.442959 \nL 336.212493 159.441495 \nL 333.571888 159.151114 \nL 333.093482 158.457593 \nL 334.860396 157.917403 \nL 333.934341 156.978645 \nL 334.255638 155.837113 \nL 336.768614 155.994761 \n\" style=\"fill:#eaeaea;stroke:#000000;\"/>\n    <path clip-path=\"url(#p520653cbdf)\" d=\"M 352.410349 160.527482 \nL 352.218288 161.705038 \nL 351.777542 161.770783 \nL 351.594306 162.748223 \nL 350.115047 161.953699 \nL 349.247275 162.089422 \nL 348.067294 161.267699 \nL 347.281134 160.568189 \nL 346.49515 160.53946 \nL 346.250223 159.92659 \nL 347.605315 159.582779 \nL 347.605383 159.582787 \nL 347.605315 159.582824 \nL 348.843229 159.719628 \nL 350.410567 159.357535 \nL 351.480887 160.120403 \nL 352.410349 160.527482 \n\" style=\"fill:#eeeeee;stroke:#000000;\"/>\n    <path clip-path=\"url(#p520653cbdf)\" d=\"M 519.915386 224.192864 \nL 518.330398 223.942718 \nL 516.144059 224.275631 \nL 515.061332 225.724724 \nL 515.461795 227.82942 \nL 513.94374 227.029222 \nL 512.497423 227.061735 \nL 512.745408 225.692526 \nL 511.256276 225.702748 \nL 511.122584 227.619577 \nL 510.209811 230.165171 \nL 509.660015 231.704595 \nL 509.776056 232.966045 \nL 510.87757 233.020757 \nL 511.563766 234.611427 \nL 511.8675 236.11996 \nL 512.811118 237.118069 \nL 513.835388 237.320663 \nL 514.711462 238.225153 \nL 514.158695 238.941143 \nL 513.042588 239.149276 \nL 512.909508 238.254378 \nL 511.529863 237.491105 \nL 511.235916 237.801908 \nL 510.567895 237.133155 \nL 510.278667 236.270048 \nL 509.380137 235.286169 \nL 508.560948 234.459538 \nL 508.283428 235.483945 \nL 507.962743 234.515826 \nL 508.14729 233.428466 \nL 508.645095 231.757056 \nL 509.464458 229.966179 \nL 510.393047 228.341511 \nL 509.732016 226.752102 \nL 509.758493 225.942493 \nL 509.565295 224.969646 \nL 508.437567 223.584948 \nL 508.033871 222.710629 \nL 508.617745 222.388568 \nL 509.236571 220.873505 \nL 508.543996 219.723237 \nL 507.47088 218.4508 \nL 506.653789 216.921507 \nL 507.36716 216.604941 \nL 508.138115 214.72076 \nL 509.331815 214.642721 \nL 510.318687 213.887013 \nL 511.287034 213.483987 \nL 512.019017 214.021836 \nL 512.116096 215.069073 \nL 513.258679 215.148823 \nL 512.842575 216.985136 \nL 512.882508 218.547436 \nL 514.664801 217.507674 \nL 515.171081 217.814965 \nL 516.161448 217.764575 \nL 516.502143 217.15819 \nL 517.780951 217.277882 \nL 519.066838 218.693201 \nL 519.172306 220.413335 \nL 520.541465 221.93227 \nL 520.465881 223.407346 \nL 519.915386 224.192864 \n\" style=\"fill:#eeeeee;stroke:#000000;\"/>\n    <path clip-path=\"url(#p520653cbdf)\" d=\"M 580.418538 253.599766 \nL 580.447024 259.279327 \nL 580.475422 264.958888 \nL 578.969775 263.528528 \nL 577.252405 263.178008 \nL 576.835951 263.674518 \nL 574.693565 263.728105 \nL 575.411568 262.309813 \nL 576.476033 261.825912 \nL 576.0352 259.930833 \nL 575.223438 258.467781 \nL 571.945459 256.99194 \nL 570.551047 256.84622 \nL 568.01178 255.235737 \nL 567.512664 256.082677 \nL 566.863779 256.236322 \nL 566.479918 255.597244 \nL 566.474588 254.840006 \nL 565.18276 253.983879 \nL 567.003937 253.356239 \nL 568.209871 253.390102 \nL 568.06814 252.927725 \nL 565.592922 252.924213 \nL 564.923066 251.886612 \nL 563.412438 251.564822 \nL 562.696707 250.702481 \nL 564.976019 250.280272 \nL 565.842742 249.712253 \nL 568.557381 250.427973 \nL 568.82424 251.075697 \nL 569.296443 253.894358 \nL 571.046492 254.937542 \nL 572.459604 253.088936 \nL 574.399793 252.037105 \nL 575.902994 252.035664 \nL 577.349048 252.643221 \nL 578.603302 253.266718 \nL 580.418538 253.599766 \n\" style=\"fill:#f1f1f1;stroke:#000000;\"/>\n    <path clip-path=\"url(#p520653cbdf)\" d=\"M 553.310681 264.566579 \nL 553.482034 264.910255 \nL 553.513316 265.438647 \nL 552.409879 266.740218 \nL 550.962515 267.123611 \nL 550.759618 266.914488 \nL 550.911834 266.321972 \nL 551.638924 265.258884 \nL 553.310681 264.566579 \n\" style=\"fill:#f1f1f1;stroke:#000000;\"/>\n    <path clip-path=\"url(#p520653cbdf)\" d=\"M 568.937136 261.085244 \nL 568.772511 259.773315 \nL 569.07275 259.146936 \nL 569.426639 258.557843 \nL 569.811112 259.067682 \nL 569.807092 259.898681 \nL 568.937136 261.085244 \n\" style=\"fill:#f1f1f1;stroke:#000000;\"/>\n    <path clip-path=\"url(#p520653cbdf)\" d=\"M 541.327805 241.857296 \nL 540.366011 243.431259 \nL 541.608994 245.081235 \nL 541.316969 245.883009 \nL 543.212682 247.495834 \nL 541.209142 247.701445 \nL 540.645191 248.889629 \nL 540.718415 250.468951 \nL 539.092446 251.660918 \nL 539.048056 253.396497 \nL 538.395851 256.061603 \nL 538.146905 255.441708 \nL 536.22594 256.225875 \nL 535.556084 255.160535 \nL 534.3505 255.062008 \nL 533.507281 254.503625 \nL 531.497013 255.130365 \nL 530.88011 254.286937 \nL 529.772479 254.382762 \nL 528.378503 254.181655 \nL 528.119945 251.844283 \nL 527.276203 251.359841 \nL 526.464441 249.86905 \nL 526.229039 248.344305 \nL 526.425994 246.729499 \nL 527.430603 245.571351 \nL 527.712929 246.736119 \nL 528.86923 247.720808 \nL 529.959997 247.366415 \nL 531.039491 247.491961 \nL 532.02479 246.610663 \nL 532.835677 246.457873 \nL 534.435346 246.946278 \nL 535.814292 246.574818 \nL 536.68119 244.150942 \nL 537.33226 243.544872 \nL 537.918056 241.562749 \nL 539.86209 241.56356 \nL 541.327805 241.857296 \n\" style=\"fill:#f1f1f1;stroke:#000000;\"/>\n    <path clip-path=\"url(#p520653cbdf)\" d=\"M 560.754596 253.951817 \nL 562.615182 254.460035 \nL 563.229814 255.792768 \nL 561.802197 255.074436 \nL 560.389784 254.928626 \nL 559.435156 255.043725 \nL 558.265398 254.982303 \nL 558.666123 254.024137 \nL 560.754596 253.951817 \n\" style=\"fill:#f1f1f1;stroke:#000000;\"/>\n    <path clip-path=\"url(#p520653cbdf)\" d=\"M 556.53396 255.675148 \nL 555.365338 255.355159 \nL 555.036002 254.605575 \nL 556.746556 254.521998 \nL 557.166855 255.096681 \nL 556.53396 255.675148 \n\" style=\"fill:#f1f1f1;stroke:#000000;\"/>\n    <path clip-path=\"url(#p520653cbdf)\" d=\"M 558.32202 245.278335 \nL 558.443391 246.230017 \nL 559.441709 246.382897 \nL 559.60013 247.094699 \nL 559.511701 248.617733 \nL 558.63956 248.447066 \nL 558.382313 249.507542 \nL 559.078907 250.427613 \nL 558.605481 250.636736 \nL 557.92313 249.53285 \nL 557.420956 247.304993 \nL 557.760865 245.912549 \nL 558.32202 245.278335 \n\" style=\"fill:#f1f1f1;stroke:#000000;\"/>\n    <path clip-path=\"url(#p520653cbdf)\" d=\"M 549.85934 247.542936 \nL 551.803811 247.469896 \nL 553.475218 246.204349 \nL 553.770301 246.593731 \nL 552.411714 248.32251 \nL 551.140945 248.65763 \nL 549.513577 248.316837 \nL 546.695917 248.403836 \nL 545.218668 248.654748 \nL 544.978198 249.973882 \nL 546.491622 251.523664 \nL 547.40457 250.734273 \nL 550.557682 250.141216 \nL 550.418748 250.943846 \nL 549.682046 250.690683 \nL 548.947878 251.711802 \nL 547.459444 252.387355 \nL 549.05955 254.620885 \nL 548.750661 255.219436 \nL 550.270901 257.230964 \nL 550.256308 258.375828 \nL 549.353671 258.888189 \nL 548.690631 258.275319 \nL 549.507635 256.848382 \nL 547.848286 257.523124 \nL 547.427638 257.040753 \nL 547.646962 256.367902 \nL 546.427834 255.345972 \nL 546.553312 253.647679 \nL 545.425584 254.177422 \nL 545.568625 256.209484 \nL 545.637394 258.702842 \nL 544.565064 258.955825 \nL 543.838586 258.444275 \nL 544.323371 256.840096 \nL 544.061667 255.158284 \nL 543.350655 255.145405 \nL 542.8255 253.951547 \nL 543.524192 252.810195 \nL 543.765012 251.426487 \nL 544.614871 248.799387 \nL 544.96946 248.080965 \nL 546.406863 246.786508 \nL 547.727527 247.301121 \nL 549.85934 247.542936 \n\" style=\"fill:#f1f1f1;stroke:#000000;\"/>\n    <path clip-path=\"url(#p520653cbdf)\" d=\"M 545.407933 266.947 \nL 543.163749 265.725854 \nL 544.740524 265.383169 \nL 545.629005 265.913992 \nL 546.220394 266.443375 \nL 546.11912 266.913767 \nL 545.407933 266.947 \n\" style=\"fill:#f1f1f1;stroke:#000000;\"/>\n    <path clip-path=\"url(#p520653cbdf)\" d=\"M 547.177731 263.946054 \nL 548.303362 263.813393 \nL 549.818708 263.174856 \nL 549.570898 264.143109 \nL 547.03032 264.637818 \nL 544.781243 264.423021 \nL 544.775388 263.785924 \nL 546.118246 263.423606 \nL 547.177731 263.946054 \n\" style=\"fill:#f1f1f1;stroke:#000000;\"/>\n    <path clip-path=\"url(#p520653cbdf)\" d=\"M 541.967952 263.642186 \nL 543.012669 263.499798 \nL 543.432093 264.240736 \nL 541.477225 264.590716 \nL 540.305981 264.824696 \nL 539.396965 264.810827 \nL 539.977956 263.807359 \nL 540.905059 263.79367 \nL 541.358213 263.177378 \nL 541.967952 263.642186 \n\" style=\"fill:#f1f1f1;stroke:#000000;\"/>\n    <path clip-path=\"url(#p520653cbdf)\" d=\"M 525.441394 260.260459 \nL 525.672428 260.880354 \nL 528.911784 261.054083 \nL 529.284373 260.335751 \nL 532.421408 261.173775 \nL 533.036826 262.303419 \nL 535.573472 262.621156 \nL 537.647527 263.656866 \nL 535.718174 264.320891 \nL 533.858549 263.61877 \nL 532.328173 263.666232 \nL 530.573667 263.537174 \nL 528.991126 263.2243 \nL 527.032237 262.558654 \nL 525.79109 262.386005 \nL 525.087854 262.603955 \nL 522.004209 261.886343 \nL 521.710874 261.13694 \nL 520.163459 261.008872 \nL 521.323692 259.343631 \nL 523.375378 259.446572 \nL 524.740081 260.127618 \nL 525.441394 260.260459 \n\" style=\"fill:#f1f1f1;stroke:#000000;\"/>\n    <path clip-path=\"url(#p520653cbdf)\" d=\"M 518.480167 250.958887 \nL 518.766774 252.174539 \nL 519.355891 253.147116 \nL 520.597388 253.301211 \nL 521.419985 254.404287 \nL 520.995318 256.571892 \nL 520.928035 259.267709 \nL 519.05574 259.304184 \nL 517.631706 257.847256 \nL 515.460659 256.42329 \nL 514.736802 255.366957 \nL 513.456683 253.947674 \nL 512.616959 252.641419 \nL 511.330986 250.201648 \nL 509.84596 248.749043 \nL 509.349291 247.250686 \nL 508.725921 245.890214 \nL 507.201138 244.792812 \nL 506.317375 243.301661 \nL 505.044246 242.325572 \nL 503.28039 240.405141 \nL 503.131844 239.517988 \nL 504.220514 239.588237 \nL 506.838073 239.924932 \nL 508.333322 241.629305 \nL 509.641054 242.810959 \nL 510.573487 243.536001 \nL 512.175515 245.40942 \nL 513.894457 245.436753 \nL 515.315258 246.630566 \nL 516.293567 248.089881 \nL 517.581288 248.886026 \nL 516.903655 250.309001 \nL 517.872788 250.914216 \nL 518.480167 250.958887 \n\" style=\"fill:#f1f1f1;stroke:#000000;\"/>\n    <path clip-path=\"url(#p520653cbdf)\" d=\"M 480.296003 235.957039 \nL 480.04129 237.771782 \nL 479.332288 238.267842 \nL 477.861767 238.666545 \nL 477.057083 237.280856 \nL 476.757282 234.775789 \nL 477.522645 231.946816 \nL 478.691092 232.915205 \nL 479.478213 234.142521 \nL 480.296003 235.957039 \n\" style=\"fill:#f5f5f5;stroke:#000000;\"/>\n    <path clip-path=\"url(#p520653cbdf)\" d=\"M 352.218288 161.705038 \nL 352.555925 162.098608 \nL 352.460505 162.862691 \nL 351.972575 162.899527 \nL 351.594306 162.748223 \nL 351.777542 161.770783 \nL 352.218288 161.705038 \n\" style=\"fill:#f5f5f5;stroke:#000000;\"/>\n    <path clip-path=\"url(#p520653cbdf)\" d=\"M 134.288727 163.671007 \nL 134.06179 163.666584 \nL 130.78814 161.955116 \nL 129.580205 161.202226 \nL 126.517969 160.480619 \nL 125.575879 158.937858 \nL 125.816732 157.868162 \nL 123.653264 157.12613 \nL 123.356611 155.721067 \nL 121.311051 154.455828 \nL 121.275307 153.557965 \nL 121.275305 153.55792 \nL 122.215636 152.717507 \nL 122.168663 151.618096 \nL 119.294067 150.50917 \nL 117.564926 148.521036 \nL 116.507871 147.270768 \nL 114.959759 146.485062 \nL 113.820273 145.771472 \nL 112.922687 144.870061 \nL 111.225201 145.434536 \nL 109.580318 146.40857 \nL 108.078131 145.263359 \nL 106.897691 144.500204 \nL 105.250745 144.017762 \nL 103.585572 143.966227 \nL 103.5945 134.04335 \nL 103.605491 127.574127 \nL 103.605512 127.57413 \nL 106.759848 127.994107 \nL 109.421609 128.832394 \nL 111.184856 128.992697 \nL 112.669169 128.26581 \nL 114.717063 127.721516 \nL 117.228723 127.934294 \nL 119.761519 127.168909 \nL 122.528945 126.734638 \nL 123.690566 127.456889 \nL 124.952271 127.049788 \nL 125.330003 126.228964 \nL 126.498506 126.414799 \nL 129.357495 127.977446 \nL 131.608924 126.796141 \nL 131.83745 128.118421 \nL 133.914901 127.83255 \nL 134.553355 127.323983 \nL 136.601451 127.42463 \nL 139.187494 128.156467 \nL 143.144559 128.795342 \nL 145.471673 129.091217 \nL 147.127969 128.978981 \nL 149.408938 129.862598 \nL 147.029913 130.727533 \nL 150.086434 131.101294 \nL 154.650655 130.895695 \nL 156.090988 130.590845 \nL 157.89348 131.635828 \nL 159.732868 130.75411 \nL 158.007126 130.014675 \nL 159.099081 129.418149 \nL 161.157273 129.337841 \nL 162.51 129.163561 \nL 163.874868 129.579707 \nL 165.574079 130.526431 \nL 167.462419 130.387443 \nL 170.449951 131.173202 \nL 173.074885 130.896497 \nL 175.541498 130.938342 \nL 175.346367 129.853815 \nL 176.849788 129.549347 \nL 179.46997 130.140592 \nL 179.459876 131.789299 \nL 180.536055 130.399729 \nL 181.896273 130.446558 \nL 182.660868 128.694696 \nL 180.849465 127.619945 \nL 178.875785 126.915767 \nL 179.011328 124.989868 \nL 181.010575 123.7251 \nL 183.240596 124.004611 \nL 184.951441 124.773987 \nL 187.248609 126.73882 \nL 185.748299 127.595093 \nL 188.893085 127.947679 \nL 188.885629 129.729989 \nL 191.145292 128.364086 \nL 193.166757 129.48584 \nL 192.663153 130.778475 \nL 194.298803 131.954272 \nL 196.064282 130.694681 \nL 197.297681 129.19047 \nL 197.390123 127.277659 \nL 199.793176 127.411367 \nL 202.292728 127.667785 \nL 204.562182 128.532633 \nL 204.664025 129.397671 \nL 203.405719 130.326828 \nL 204.597945 131.259871 \nL 204.382777 132.107534 \nL 201.071926 133.32617 \nL 198.720108 133.594979 \nL 196.971691 133.070344 \nL 196.467513 133.945369 \nL 194.837764 135.415038 \nL 194.34434 136.177234 \nL 192.383359 137.356518 \nL 189.962856 137.471961 \nL 188.627816 138.208398 \nL 188.516114 139.341149 \nL 186.548944 139.559225 \nL 184.480016 140.971573 \nL 182.64614 142.934036 \nL 181.990439 144.30813 \nL 181.896949 146.332201 \nL 184.381875 146.622725 \nL 185.143461 148.254701 \nL 185.934113 149.576824 \nL 188.30027 149.232464 \nL 191.442249 149.987027 \nL 193.132736 150.649465 \nL 194.342699 151.472904 \nL 196.461409 151.952714 \nL 198.252758 152.686834 \nL 201.044888 152.787411 \nL 202.88409 152.955713 \nL 202.60788 154.465065 \nL 203.134057 156.216998 \nL 204.358732 158.167453 \nL 206.874568 159.822172 \nL 208.176365 159.254873 \nL 209.091316 157.463013 \nL 208.208154 154.710486 \nL 207.015437 153.793303 \nL 209.722312 152.9764 \nL 211.638349 151.754767 \nL 212.575502 150.540349 \nL 212.437151 149.375461 \nL 211.288906 147.895022 \nL 209.235094 146.583582 \nL 211.230569 144.757075 \nL 210.493401 143.17937 \nL 209.928383 140.457534 \nL 211.105594 140.055139 \nL 214.00459 140.529408 \nL 215.742862 140.698965 \nL 217.143476 140.241148 \nL 218.718304 140.831487 \nL 220.800574 141.841823 \nL 221.313579 142.518344 \nL 224.328926 142.650378 \nL 224.278351 144.114609 \nL 224.84046 146.317317 \nL 226.384852 146.589717 \nL 227.610406 147.616226 \nL 230.058808 146.648536 \nL 231.676349 144.72553 \nL 232.795139 143.915355 \nL 234.111968 145.471641 \nL 236.314191 147.694617 \nL 238.184015 149.785333 \nL 237.504084 150.879811 \nL 239.753213 151.862698 \nL 241.273188 152.858552 \nL 243.96941 153.309205 \nL 245.054771 153.865141 \nL 245.724895 155.339864 \nL 247.041741 155.57136 \nL 247.721132 156.228622 \nL 247.844467 158.187042 \nL 246.617239 158.84223 \nL 245.403589 159.453918 \nL 242.617123 160.073344 \nL 240.489502 161.505107 \nL 237.630902 161.787981 \nL 234.014301 161.421069 \nL 231.476585 161.408504 \nL 229.725243 161.529158 \nL 228.309512 162.77946 \nL 226.153891 163.551869 \nL 223.714788 165.858431 \nL 221.768619 167.467332 \nL 223.20481 167.180902 \nL 225.919091 164.890967 \nL 229.465891 163.43904 \nL 231.995779 163.265318 \nL 233.49269 164.119813 \nL 231.895694 165.29033 \nL 232.43156 167.16886 \nL 232.983388 168.483768 \nL 235.17971 169.354244 \nL 237.974055 169.101974 \nL 239.66931 167.142787 \nL 239.786913 168.406823 \nL 240.878783 169.038135 \nL 238.787112 170.17993 \nL 235.042036 171.217088 \nL 233.364908 171.922243 \nL 231.475317 173.177582 \nL 230.191342 173.049591 \nL 230.126529 171.574397 \nL 233.062353 170.133241 \nL 230.355952 170.190283 \nL 228.476743 170.402521 \nL 227.371007 169.417351 \nL 227.372495 167.040955 \nL 226.621765 166.538158 \nL 225.487909 166.83419 \nL 224.926162 166.376215 \nL 223.636414 167.691525 \nL 223.120636 169.047546 \nL 222.520364 169.84052 \nL 221.802032 170.110236 \nL 221.260636 170.197794 \nL 221.091444 170.627917 \nL 217.975487 170.629346 \nL 215.406709 170.641372 \nL 214.643754 170.962099 \nL 212.856818 172.217159 \nL 212.645455 172.352838 \nL 212.104306 173.031963 \nL 210.552303 173.031491 \nL 208.891163 173.038403 \nL 208.127897 173.315072 \nL 208.401273 173.657253 \nL 208.553455 174.188807 \nL 208.520715 174.365507 \nL 206.308861 175.232396 \nL 204.566719 175.506319 \nL 202.602676 176.436836 \nL 202.178576 176.436836 \nL 201.604139 176.162013 \nL 201.414437 175.912992 \nL 201.451636 175.731185 \nL 201.823636 175.121205 \nL 202.618364 174.162665 \nL 203.112714 173.132517 \nL 202.774328 171.618176 \nL 202.413891 170.036556 \nL 200.652089 169.218526 \nL 200.860578 168.908669 \nL 200.612724 168.695628 \nL 200.148342 168.695628 \nL 199.808324 168.419408 \nL 199.723325 168.006701 \nL 199.394307 168.187003 \nL 198.940805 168.133273 \nL 199.044207 167.960589 \nL 198.646015 167.789066 \nL 198.482265 167.330742 \nL 197.16964 166.77281 \nL 195.800634 166.19225 \nL 194.14726 165.518375 \nL 192.560643 164.885883 \nL 191.047612 165.379286 \nL 190.494545 165.396379 \nL 188.414727 164.943251 \nL 187.045091 165.169815 \nL 185.404909 164.629547 \nL 183.678711 164.351989 \nL 182.498 164.244841 \nL 181.972364 163.949855 \nL 181.672092 162.992971 \nL 181.099702 163.001336 \nL 181.094664 163.671007 \nL 177.595073 163.669787 \nL 171.81 163.671007 \nL 166.063851 163.671251 \nL 160.988182 163.671007 \nL 155.915455 163.671007 \nL 150.927273 163.671007 \nL 145.773077 163.671007 \nL 144.110863 163.671007 \nL 139.090909 163.671007 \nL 134.288727 163.671007 \n\" style=\"fill:#f6f6f6;stroke:#000000;\"/>\n    <path clip-path=\"url(#p520653cbdf)\" d=\"M 199.97434 140.225463 \nL 201.231007 139.421527 \nL 203.553453 139.438101 \nL 203.517505 139.775821 \nL 201.5386 140.737114 \nL 200.344733 140.696873 \nL 199.97434 140.225463 \n\" style=\"fill:#f6f6f6;stroke:#000000;\"/>\n    <path clip-path=\"url(#p520653cbdf)\" d=\"M 207.106319 122.187302 \nL 205.24587 121.263128 \nL 205.317249 120.635719 \nL 206.130284 120.51976 \nL 210.000132 120.707613 \nL 212.916 121.66484 \nL 213.065808 122.146375 \nL 211.268314 122.095556 \nL 209.446812 122.058765 \nL 207.595974 122.293089 \nL 207.106319 122.187302 \n\" style=\"fill:#f6f6f6;stroke:#000000;\"/>\n    <path clip-path=\"url(#p520653cbdf)\" d=\"M 206.193968 140.86548 \nL 206.846668 140.342579 \nL 207.538875 140.380729 \nL 207.968704 140.738064 \nL 207.306375 141.654071 \nL 206.558926 141.505899 \nL 206.11491 140.985864 \nL 206.193968 140.86548 \n\" style=\"fill:#f6f6f6;stroke:#000000;\"/>\n    <path clip-path=\"url(#p520653cbdf)\" d=\"M 183.70934 118.39306 \nL 182.789227 119.068658 \nL 180.334413 118.938789 \nL 178.284606 118.484338 \nL 179.184752 117.69972 \nL 181.615886 117.230228 \nL 183.092174 117.841477 \nL 183.70934 118.39306 \n\" style=\"fill:#f6f6f6;stroke:#000000;\"/>\n    <path clip-path=\"url(#p520653cbdf)\" d=\"M 183.325086 113.966347 \nL 182.554699 114.016286 \nL 179.385858 113.90515 \nL 178.934976 113.418007 \nL 182.340006 113.443494 \nL 183.52689 113.767086 \nL 183.325086 113.966347 \n\" style=\"fill:#f6f6f6;stroke:#000000;\"/>\n    <path clip-path=\"url(#p520653cbdf)\" d=\"M 178.397108 111.79514 \nL 180.417948 112.40076 \nL 179.959683 113.030561 \nL 177.457902 113.390178 \nL 176.080747 112.985395 \nL 175.35606 112.331412 \nL 175.222281 111.610198 \nL 177.411591 111.679816 \nL 178.397108 111.79514 \n\" style=\"fill:#f6f6f6;stroke:#000000;\"/>\n    <path clip-path=\"url(#p520653cbdf)\" d=\"M 192.945771 119.417287 \nL 190.216015 119.20249 \nL 185.722054 118.640955 \nL 185.137263 117.684049 \nL 184.931614 116.819907 \nL 183.234079 116.059021 \nL 179.736208 115.84616 \nL 177.776577 115.30642 \nL 178.412792 114.59133 \nL 181.897818 114.702016 \nL 183.775006 115.26247 \nL 187.104234 115.258598 \nL 188.563788 115.83184 \nL 188.178573 116.486409 \nL 190.118761 116.880699 \nL 191.192751 117.294803 \nL 193.47346 117.371445 \nL 195.940639 117.517435 \nL 198.628452 117.139626 \nL 202.071448 116.991295 \nL 204.81903 117.113869 \nL 206.630027 117.771139 \nL 207.008077 118.492173 \nL 205.953224 118.95545 \nL 203.431957 119.329882 \nL 201.267507 119.118012 \nL 196.417035 119.386396 \nL 192.945771 119.417287 \n\" style=\"fill:#f6f6f6;stroke:#000000;\"/>\n    <path clip-path=\"url(#p520653cbdf)\" d=\"M 153.861941 112.863226 \nL 156.246109 113.136204 \nL 155.683905 113.657841 \nL 152.531622 114.159394 \nL 150.023856 113.596509 \nL 151.392971 113.040828 \nL 153.861941 112.863226 \n\" style=\"fill:#f6f6f6;stroke:#000000;\"/>\n    <path clip-path=\"url(#p520653cbdf)\" d=\"M 154.370537 111.727819 \nL 156.56959 112.08068 \nL 154.509778 112.420618 \nL 151.701554 112.418907 \nL 151.728948 112.170292 \nL 153.463619 111.648429 \nL 154.370537 111.727819 \n\" style=\"fill:#f6f6f6;stroke:#000000;\"/>\n    <path clip-path=\"url(#p520653cbdf)\" d=\"M 247.985085 159.632809 \nL 247.082449 160.730886 \nL 245.963327 162.255315 \nL 247.067113 161.666582 \nL 248.202749 162.040068 \nL 247.609395 162.647759 \nL 249.109668 163.125491 \nL 249.889798 162.700805 \nL 251.576016 163.236808 \nL 251.05274 164.513162 \nL 252.236173 164.215103 \nL 252.45174 165.139902 \nL 252.976851 166.223254 \nL 252.264878 167.757005 \nL 251.500083 167.821849 \nL 250.388345 167.492854 \nL 250.755386 166.066997 \nL 250.284276 165.845535 \nL 248.322329 167.357041 \nL 247.313351 167.296519 \nL 248.507575 166.477678 \nL 246.885013 166.054208 \nL 245.068249 166.158319 \nL 241.786556 166.105093 \nL 241.527037 165.589039 \nL 242.580317 164.975449 \nL 241.844708 164.501995 \nL 243.264766 163.452145 \nL 245.01167 160.676399 \nL 246.060101 159.684459 \nL 247.527257 159.083792 \nL 248.311844 159.160165 \nL 247.985085 159.632809 \n\" style=\"fill:#f6f6f6;stroke:#000000;\"/>\n    <path clip-path=\"url(#p520653cbdf)\" d=\"M 200.162105 135.59516 \nL 202.013734 136.19281 \nL 203.950777 136.735792 \nL 204.100546 137.564539 \nL 205.345189 137.428817 \nL 206.552346 138.006562 \nL 205.051548 138.555083 \nL 202.420226 138.135981 \nL 201.470579 137.351454 \nL 199.793841 138.278909 \nL 197.387697 139.180517 \nL 196.8071 138.161198 \nL 194.515556 138.328533 \nL 195.985333 137.466552 \nL 196.201556 136.094823 \nL 196.778221 134.498659 \nL 197.99997 134.640686 \nL 198.313709 135.407111 \nL 199.179034 135.138277 \nL 200.162105 135.59516 \n\" style=\"fill:#f6f6f6;stroke:#000000;\"/>\n    <path clip-path=\"url(#p520653cbdf)\" d=\"M 208.806011 122.972833 \nL 210.405636 122.280168 \nL 214.15739 123.161917 \nL 216.486158 123.992421 \nL 216.705089 124.752812 \nL 219.844964 124.358792 \nL 221.607247 125.468803 \nL 225.689036 126.157189 \nL 227.161959 126.859671 \nL 228.761453 128.490688 \nL 225.656792 129.302639 \nL 229.639317 130.440749 \nL 232.323723 130.823511 \nL 234.754202 132.425259 \nL 237.413922 132.540898 \nL 236.887719 133.764116 \nL 233.919721 135.788523 \nL 231.8392 135.043712 \nL 229.180484 133.367124 \nL 226.992791 133.585523 \nL 226.779278 134.584038 \nL 228.557507 135.597187 \nL 230.853028 136.398961 \nL 231.549535 136.861968 \nL 232.649913 138.58701 \nL 232.067568 139.839633 \nL 229.934924 139.367485 \nL 225.693885 137.972249 \nL 228.083994 139.474028 \nL 229.844879 140.526489 \nL 230.120039 141.135036 \nL 225.534635 140.439219 \nL 221.905825 139.427421 \nL 219.856542 138.578454 \nL 220.446838 138.086717 \nL 217.923955 137.190964 \nL 215.461801 136.345509 \nL 215.488714 136.850891 \nL 210.599489 137.128956 \nL 209.169032 136.530541 \nL 210.282779 135.247342 \nL 213.460009 135.216361 \nL 216.94071 134.993638 \nL 216.375797 134.371447 \nL 216.965875 133.502126 \nL 219.153481 131.804643 \nL 218.688662 131.033715 \nL 218.036719 130.436786 \nL 215.446771 129.591197 \nL 212.021338 128.998456 \nL 213.104284 128.557469 \nL 211.314084 127.473846 \nL 209.823946 127.374598 \nL 208.490481 126.781362 \nL 207.585485 127.295614 \nL 204.51984 127.519778 \nL 198.366224 127.130351 \nL 194.789449 126.619071 \nL 192.047285 126.356361 \nL 190.640945 125.744121 \nL 192.409126 124.949147 \nL 190.007308 124.941536 \nL 189.471274 123.176912 \nL 190.770879 121.61817 \nL 192.509701 120.906367 \nL 196.875781 120.442909 \nL 195.631225 121.569401 \nL 196.963336 122.655725 \nL 198.526173 121.250763 \nL 202.81182 120.535042 \nL 205.712579 122.337808 \nL 205.460881 123.478709 \nL 208.806011 122.972833 \n\" style=\"fill:#f6f6f6;stroke:#000000;\"/>\n    <path clip-path=\"url(#p520653cbdf)\" d=\"M 182.202906 119.865884 \nL 185.726161 119.926676 \nL 188.956168 120.350686 \nL 186.429659 121.902629 \nL 184.413537 122.241171 \nL 182.599612 123.543734 \nL 180.670608 123.478754 \nL 179.615667 121.947885 \nL 179.641838 121.081447 \nL 180.525295 120.340779 \nL 182.202906 119.865884 \n\" style=\"fill:#f6f6f6;stroke:#000000;\"/>\n    <path clip-path=\"url(#p520653cbdf)\" d=\"M 134.263491 116.412288 \nL 134.26349 116.412288 \nL 137.133622 115.108735 \nL 140.606067 113.979902 \nL 143.199597 114.004128 \nL 145.518754 113.747993 \nL 145.286716 115.08703 \nL 143.984314 115.691659 \nL 142.404394 115.776813 \nL 139.261154 116.522659 \nL 136.554554 116.789647 \nL 134.263491 116.412288 \n\" style=\"fill:#f6f6f6;stroke:#000000;\"/>\n    <path clip-path=\"url(#p520653cbdf)\" d=\"M 117.599441 154.887277 \nL 119.222745 154.747862 \nL 118.716333 156.726608 \nL 120.188164 158.128148 \nL 119.513852 158.12477 \nL 118.494912 157.327724 \nL 117.870013 156.5255 \nL 117.016748 155.982698 \nL 116.70384 155.216543 \nL 116.80472 154.660772 \nL 117.599441 154.887277 \n\" style=\"fill:#f6f6f6;stroke:#000000;\"/>\n    <path clip-path=\"url(#p520653cbdf)\" d=\"M 163.622129 110.86138 \nL 166.941395 111.098828 \nL 171.513824 111.734753 \nL 172.807312 112.563816 \nL 173.465503 113.29093 \nL 170.704247 113.096711 \nL 167.921233 112.531619 \nL 164.156721 112.466955 \nL 165.789637 111.94919 \nL 163.745073 111.529323 \nL 163.622129 110.86138 \n\" style=\"fill:#f6f6f6;stroke:#000000;\"/>\n    <path clip-path=\"url(#p520653cbdf)\" d=\"M 133.155815 164.52496 \nL 132.305476 164.767496 \nL 129.528797 163.975989 \nL 129.021555 163.35731 \nL 127.508174 162.747322 \nL 127.203829 162.250632 \nL 125.463304 161.936992 \nL 124.811885 160.988597 \nL 124.957591 160.585121 \nL 126.732763 160.965181 \nL 127.770271 161.229513 \nL 129.359716 161.414049 \nL 129.934634 162.015346 \nL 130.770337 162.842698 \nL 132.458303 163.562111 \nL 133.155815 164.52496 \n\" style=\"fill:#f6f6f6;stroke:#000000;\"/>\n    <path clip-path=\"url(#p520653cbdf)\" d=\"M 136.490494 119.318604 \nL 138.905281 119.680375 \nL 143.2241 119.77724 \nL 144.866344 120.282129 \nL 146.681721 121.015639 \nL 144.556029 121.455295 \nL 140.409818 122.680344 \nL 138.313091 123.900304 \nL 138.313091 124.660859 \nL 133.862297 125.500822 \nL 132.969818 124.736848 \nL 129.065596 123.81545 \nL 129.790909 123.077248 \nL 130.962219 121.804482 \nL 132.428727 120.658696 \nL 130.775441 119.590795 \nL 136.490494 119.318604 \n\" style=\"fill:#f6f6f6;stroke:#000000;\"/>\n    <path clip-path=\"url(#p520653cbdf)\" d=\"M 159.687146 116.884627 \nL 161.1929 116.593056 \nL 162.964855 116.668729 \nL 163.262488 117.522509 \nL 162.233587 118.349015 \nL 156.507273 118.619619 \nL 152.240991 119.374322 \nL 149.669558 119.413866 \nL 149.453899 118.845678 \nL 152.966154 118.074994 \nL 145.326627 118.282509 \nL 142.962415 117.970949 \nL 145.269457 116.268529 \nL 146.860856 115.780824 \nL 151.619599 116.369072 \nL 154.623228 117.401071 \nL 157.577449 117.533489 \nL 155.159179 115.866308 \nL 156.708322 115.231319 \nL 158.454202 115.433223 \nL 159.024343 116.263911 \nL 159.687146 116.884627 \n\" style=\"fill:#f6f6f6;stroke:#000000;\"/>\n    <path clip-path=\"url(#p520653cbdf)\" d=\"M 161.879984 121.71133 \nL 163.774022 122.41441 \nL 164.835271 124.112229 \nL 165.359588 125.341652 \nL 168.199283 126.204704 \nL 171.250681 127.029816 \nL 171.067201 127.796387 \nL 168.290948 127.936595 \nL 169.369528 128.606527 \nL 168.799776 129.245786 \nL 165.739636 128.971853 \nL 162.831273 128.501297 \nL 160.865523 128.607224 \nL 157.690909 129.198417 \nL 153.405894 129.459734 \nL 150.39768 129.624462 \nL 149.481613 128.802035 \nL 147.173455 128.327017 \nL 145.672029 128.521845 \nL 143.588727 127.141913 \nL 144.713638 126.956217 \nL 147.323743 126.658634 \nL 149.707434 126.736938 \nL 151.914595 126.433674 \nL 148.644545 126.026521 \nL 145.031343 126.16516 \nL 142.633702 126.130113 \nL 141.741612 125.487647 \nL 145.663287 124.790561 \nL 143.054941 124.814926 \nL 140.10209 124.35589 \nL 141.521303 123.050079 \nL 142.698599 122.356288 \nL 147.225721 121.295532 \nL 148.953694 121.632137 \nL 148.109643 122.448952 \nL 151.872457 121.921529 \nL 154.223886 122.801643 \nL 156.134681 121.911542 \nL 157.679851 122.482798 \nL 159.063335 124.195029 \nL 159.912781 123.472482 \nL 158.711559 121.687767 \nL 160.199457 121.432534 \nL 161.879984 121.71133 \n\" style=\"fill:#f6f6f6;stroke:#000000;\"/>\n    <path clip-path=\"url(#p520653cbdf)\" d=\"M 172.167864 122.356392 \nL 170.305091 121.216392 \nL 172.306417 120.373068 \nL 174.322911 120.739928 \nL 177.339273 120.519272 \nL 177.778909 121.024684 \nL 176.200293 121.860322 \nL 178.759636 122.610632 \nL 178.455273 124.179152 \nL 175.682757 124.853877 \nL 174.054073 124.708284 \nL 172.884032 124.042743 \nL 168.681818 122.697772 \nL 168.715636 122.140076 \nL 172.167864 122.356392 \n\" style=\"fill:#f6f6f6;stroke:#000000;\"/>\n    <path clip-path=\"url(#p520653cbdf)\" d=\"M 161.749091 120.79812 \nL 164.014909 120.728408 \nL 165.3 121.111824 \nL 163.812 122.262072 \nL 161.174182 121.042112 \nL 161.749091 120.79812 \n\" style=\"fill:#f6f6f6;stroke:#000000;\"/>\n    <path clip-path=\"url(#p520653cbdf)\" d=\"M 175.445455 115.360583 \nL 176.738011 116.168266 \nL 176.790716 117.062532 \nL 176.020364 118.358199 \nL 173.232494 118.536941 \nL 171.414902 118.258232 \nL 171.449972 117.2415 \nL 168.678284 117.375608 \nL 168.57103 116.028772 \nL 170.390093 116.0832 \nL 172.937008 115.488957 \nL 175.315271 115.589604 \nL 175.445455 115.360583 \n\" style=\"fill:#f6f6f6;stroke:#000000;\"/>\n    <path clip-path=\"url(#p520653cbdf)\" d=\"M 179.644929 108.594457 \nL 180.816712 108.062972 \nL 182.549927 107.941011 \nL 181.811017 107.541579 \nL 185.743361 107.452818 \nL 187.902568 108.383369 \nL 190.748182 108.756551 \nL 193.521273 109.086502 \nL 194.857091 110.23675 \nL 196.895735 110.799849 \nL 194.573762 111.318506 \nL 191.449317 112.629214 \nL 188.458082 112.754521 \nL 184.953961 112.531443 \nL 183.137129 111.820973 \nL 183.163203 111.188789 \nL 184.499867 110.72456 \nL 181.4076 110.73784 \nL 179.543981 110.158289 \nL 178.472655 109.369236 \nL 179.644929 108.594457 \n\" style=\"fill:#f6f6f6;stroke:#000000;\"/>\n    <path clip-path=\"url(#p520653cbdf)\" d=\"M 187.134675 106.342829 \nL 189.649091 106.010459 \nL 191.623616 105.953801 \nL 194.941231 105.671293 \nL 197.427273 105.021815 \nL 199.523992 105.112917 \nL 201.350182 105.600901 \nL 202.635273 104.659789 \nL 204.867273 104.380941 \nL 207.899681 104.188257 \nL 213.068182 104.115933 \nL 213.966427 104.304188 \nL 218.848504 104.009306 \nL 222.510616 104.119903 \nL 226.172727 104.2305 \nL 230.691935 104.366981 \nL 234.322909 104.590077 \nL 237.417273 105.063073 \nL 237.343076 105.528313 \nL 233.217055 106.284514 \nL 229.126035 106.637397 \nL 227.597234 107.02754 \nL 231.278749 107.018547 \nL 227.288727 108.075677 \nL 224.533053 108.569186 \nL 221.641091 109.992758 \nL 218.153084 110.281801 \nL 217.075636 110.637311 \nL 211.95602 110.823917 \nL 214.286921 111.042516 \nL 213.118131 111.353763 \nL 214.51653 112.213416 \nL 212.910014 112.810936 \nL 210.29761 113.304235 \nL 209.495815 113.986228 \nL 207.133919 114.507168 \nL 207.37041 114.901599 \nL 210.259768 114.834179 \nL 210.296596 115.259579 \nL 205.77825 116.304971 \nL 201.359668 115.824115 \nL 196.392707 116.094284 \nL 193.876364 115.883423 \nL 190.679396 115.792117 \nL 190.467322 114.956026 \nL 193.593322 114.561805 \nL 192.760364 113.304078 \nL 193.791818 113.181695 \nL 198.312734 113.9337 \nL 196.006909 112.816094 \nL 193.26439 112.481808 \nL 194.633925 111.807588 \nL 197.632414 111.392401 \nL 198.112175 110.784983 \nL 195.723952 110.103879 \nL 195.006246 109.205971 \nL 199.628092 109.281068 \nL 200.963478 109.469918 \nL 203.602084 108.834806 \nL 199.794545 108.633374 \nL 193.878139 108.744442 \nL 190.889153 108.152901 \nL 189.48 107.448269 \nL 187.505255 106.937455 \nL 187.134675 106.342829 \n\" style=\"fill:#f6f6f6;stroke:#000000;\"/>\n    <path clip-path=\"url(#p520653cbdf)\" d=\"M 214.816633 131.526363 \nL 213.717694 132.041168 \nL 211.822202 132.128535 \nL 211.400269 131.275678 \nL 212.118466 130.298891 \nL 213.668099 130.057252 \nL 214.988209 130.539746 \nL 215.007097 131.286257 \nL 214.816633 131.526363 \n\" style=\"fill:#f6f6f6;stroke:#000000;\"/>\n    <path clip-path=\"url(#p520653cbdf)\" d=\"M 179.237485 127.960976 \nL 180.268466 128.627318 \nL 179.216991 129.238431 \nL 176.937849 128.71038 \nL 175.560773 128.90092 \nL 173.251667 128.117828 \nL 174.739667 127.57756 \nL 175.921849 126.822039 \nL 177.715667 127.31614 \nL 178.730213 127.629844 \nL 179.237485 127.960976 \n\" style=\"fill:#f6f6f6;stroke:#000000;\"/>\n    <path clip-path=\"url(#p520653cbdf)\" d=\"M 232.904033 162.149473 \nL 233.488919 162.002833 \nL 235.712346 162.439876 \nL 237.441647 163.168122 \nL 237.491157 163.487908 \nL 236.667896 163.519087 \nL 234.476342 162.972684 \nL 232.904033 162.149473 \n\" style=\"fill:#f6f6f6;stroke:#000000;\"/>\n    <path clip-path=\"url(#p520653cbdf)\" d=\"M 233.756691 167.093849 \nL 234.349118 167.94085 \nL 235.575365 168.17463 \nL 237.14321 168.127103 \nL 236.31157 168.841216 \nL 235.685224 168.954864 \nL 233.540356 168.215097 \nL 233.11795 167.631573 \nL 233.756691 167.093849 \n\" style=\"fill:#f6f6f6;stroke:#000000;\"/>\n    <path clip-path=\"url(#p520653cbdf)\" d=\"M 546.319133 226.926822 \nL 545.455992 225.598952 \nL 546.90458 225.662941 \nL 547.491775 226.290536 \nL 547.04334 227.796368 \nL 546.319133 226.926822 \n\" style=\"fill:#f6f6f6;stroke:#000000;\"/>\n    <path clip-path=\"url(#p520653cbdf)\" d=\"M 549.281932 231.673254 \nL 549.706338 231.185074 \nL 549.892894 230.103298 \nL 550.825328 230.000898 \nL 550.552964 231.174222 \nL 551.80451 229.491824 \nL 551.643031 231.154363 \nL 551.035564 231.727201 \nL 550.505866 232.82834 \nL 549.974857 233.344349 \nL 548.933547 232.139774 \nL 549.281932 231.673254 \n\" style=\"fill:#f6f6f6;stroke:#000000;\"/>\n    <path clip-path=\"url(#p520653cbdf)\" d=\"M 555.691703 234.403069 \nL 555.863667 235.560902 \nL 555.96328 236.538567 \nL 555.387271 238.13338 \nL 554.769493 236.356733 \nL 553.978877 237.240733 \nL 554.518799 238.524878 \nL 554.034102 239.341648 \nL 552.044368 238.33021 \nL 551.569108 237.068805 \nL 552.084738 236.240148 \nL 551.013632 235.415948 \nL 550.482448 236.138603 \nL 549.686764 236.071507 \nL 548.435481 237.043903 \nL 548.155515 236.533794 \nL 548.819079 235.064888 \nL 549.884418 234.574682 \nL 550.806454 233.918042 \nL 551.404134 234.706982 \nL 552.689758 234.229745 \nL 552.965617 233.452018 \nL 554.160715 233.405681 \nL 554.06049 232.057907 \nL 555.431135 232.884449 \nL 555.573041 233.7621 \nL 555.691703 234.403069 \n\" style=\"fill:#f6f6f6;stroke:#000000;\"/>\n    <path clip-path=\"url(#p520653cbdf)\" d=\"M 542.380473 232.831628 \nL 540.131046 234.48534 \nL 540.959934 233.266445 \nL 542.181509 232.190073 \nL 543.196779 230.984417 \nL 544.083075 229.253161 \nL 544.384362 230.674199 \nL 543.267993 231.633852 \nL 542.380473 232.831628 \n\" style=\"fill:#f6f6f6;stroke:#000000;\"/>\n    <path clip-path=\"url(#p520653cbdf)\" d=\"M 548.860672 217.305891 \nL 548.5856 218.028456 \nL 549.162833 219.277657 \nL 548.717544 220.726029 \nL 547.720711 221.30364 \nL 547.454027 222.708692 \nL 547.832383 224.096723 \nL 548.728728 224.288735 \nL 549.476702 224.082493 \nL 551.588681 225.04872 \nL 551.427726 225.99743 \nL 551.97927 226.416127 \nL 551.803636 227.219297 \nL 550.485768 226.363846 \nL 549.861175 225.448189 \nL 549.426109 226.087942 \nL 548.349499 225.044623 \nL 546.813705 225.302199 \nL 545.972059 224.917095 \nL 546.057867 224.196692 \nL 546.586167 223.753363 \nL 546.081459 223.350292 \nL 545.863009 223.978382 \nL 545.028179 222.976986 \nL 544.775388 222.218036 \nL 544.712562 220.549553 \nL 545.393516 221.123066 \nL 545.568625 218.396538 \nL 546.119557 216.817306 \nL 547.143303 216.819332 \nL 548.185399 217.316923 \nL 548.706883 216.863102 \nL 548.860672 217.305891 \n\" style=\"fill:#f6f6f6;stroke:#000000;\"/>\n    <path clip-path=\"url(#p520653cbdf)\" d=\"M 548.35579 229.172691 \nL 548.093999 228.343268 \nL 549.109007 228.882782 \nL 550.185093 228.880215 \nL 550.152326 229.608229 \nL 549.369225 230.348266 \nL 548.295323 230.871615 \nL 548.23573 230.06178 \nL 548.35579 229.172691 \n\" style=\"fill:#f6f6f6;stroke:#000000;\"/>\n    <path clip-path=\"url(#p520653cbdf)\" d=\"M 554.213406 227.871074 \nL 554.688404 229.817037 \nL 553.383731 229.354615 \nL 553.419033 229.939566 \nL 553.832778 231.015038 \nL 553.028531 231.4055 \nL 552.958102 230.179761 \nL 552.449026 230.089249 \nL 552.184264 229.034086 \nL 553.179349 229.173141 \nL 553.157329 228.513304 \nL 552.123797 227.182552 \nL 553.747669 227.220964 \nL 554.213406 227.871074 \n\" style=\"fill:#f6f6f6;stroke:#000000;\"/>\n    <path clip-path=\"url(#p520653cbdf)\" d=\"M 402.104489 192.611963 \nL 402.399134 192.062631 \nL 404.283051 192.753225 \nL 407.594321 190.895837 \nL 408.275974 193.018006 \nL 407.953716 193.280806 \nL 404.567298 194.15535 \nL 406.252599 195.897999 \nL 405.693366 196.193987 \nL 405.415148 196.777632 \nL 404.124892 197.018997 \nL 403.720235 197.646457 \nL 402.9893 198.182819 \nL 401.107481 197.90561 \nL 401.050946 197.653302 \nL 401.893553 194.867018 \nL 401.854057 194.189033 \nL 402.10379 193.677663 \nL 402.104489 192.611963 \n\" style=\"fill:#f7f7f7;stroke:#000000;\"/>\n    <path clip-path=\"url(#p520653cbdf)\" d=\"M 370.711073 165.198577 \nL 370.582711 165.91074 \nL 369.630443 165.914162 \nL 369.957943 166.291881 \nL 369.396613 167.413869 \nL 369.074268 167.708011 \nL 367.595446 167.751421 \nL 366.742179 168.146837 \nL 365.345495 168.011789 \nL 362.927511 167.561706 \nL 362.549767 166.9555 \nL 360.878709 167.258423 \nL 360.682104 167.58994 \nL 359.657659 167.342135 \nL 358.794867 167.294763 \nL 358.029767 166.97743 \nL 358.288412 166.550808 \nL 358.222964 166.241536 \nL 358.733352 166.14544 \nL 359.588978 166.629432 \nL 359.829798 166.169487 \nL 361.321027 166.243788 \nL 362.529932 165.931274 \nL 363.340557 165.98477 \nL 363.867897 166.341595 \nL 364.02553 166.045427 \nL 363.785847 164.909884 \nL 364.393313 164.688602 \nL 364.989508 163.885072 \nL 366.245773 164.446021 \nL 367.196993 163.733048 \nL 367.792139 163.602909 \nL 369.104676 164.134768 \nL 369.898787 164.044301 \nL 370.678305 164.373386 \nL 370.542517 164.594668 \nL 370.711073 165.198577 \n\" style=\"fill:#f8f8f8;stroke:#000000;\"/>\n    <path clip-path=\"url(#p520653cbdf)\" d=\"M 527.112627 217.353263 \nL 525.726079 216.813028 \nL 525.677059 215.313861 \nL 526.510403 214.52411 \nL 528.357794 214.03575 \nL 529.329986 214.077089 \nL 529.707905 214.742149 \nL 528.964912 215.50907 \nL 528.573536 216.515509 \nL 527.112627 217.353263 \n\" style=\"fill:#fafafa;stroke:#000000;\"/>\n    <path clip-path=\"url(#p520653cbdf)\" d=\"M 477.712347 175.26063 \nL 477.577345 174.267115 \nL 478.737404 173.813474 \nL 477.215416 170.78596 \nL 480.565047 170.089693 \nL 481.430547 169.701707 \nL 482.650636 166.581429 \nL 486.005073 167.154942 \nL 486.945545 166.367172 \nL 487.026285 164.619525 \nL 488.430658 164.456693 \nL 489.717768 163.296338 \nL 490.379411 163.15305 \nL 490.823389 164.369063 \nL 492.24454 165.293412 \nL 494.656669 165.94789 \nL 495.823369 167.351547 \nL 495.172299 169.387887 \nL 495.78064 170.14364 \nL 497.790034 170.441654 \nL 500.067422 170.684955 \nL 502.11037 171.770965 \nL 503.155262 171.964417 \nL 503.925606 173.571073 \nL 504.918069 174.605972 \nL 506.782063 174.565444 \nL 510.2722 174.956177 \nL 512.521191 174.713731 \nL 514.190414 174.973288 \nL 516.691671 176.031874 \nL 518.737677 176.030343 \nL 519.486262 176.572244 \nL 521.455025 175.636503 \nL 524.186615 175.031423 \nL 526.720989 174.965318 \nL 528.696829 174.352223 \nL 529.91019 173.418778 \nL 531.093667 172.832702 \nL 530.819992 172.257478 \nL 530.279983 171.587779 \nL 531.16759 170.464304 \nL 532.11916 170.621912 \nL 533.857151 170.975269 \nL 535.542015 170.049975 \nL 538.120254 169.374783 \nL 539.359305 168.222849 \nL 540.549422 167.726969 \nL 543.005678 167.495736 \nL 544.339711 167.692205 \nL 544.524957 167.072851 \nL 542.992571 165.854631 \nL 541.635732 165.29751 \nL 540.33604 165.94064 \nL 538.667865 165.669284 \nL 537.710616 165.890386 \nL 537.275113 165.177863 \nL 538.469775 163.436429 \nL 539.293245 162.122474 \nL 541.323086 162.780465 \nL 543.705943 161.679191 \nL 543.690605 160.912294 \nL 545.216972 159.063827 \nL 546.15732 158.505155 \nL 546.136334 157.542927 \nL 545.208532 157.128733 \nL 546.605216 156.261664 \nL 548.706446 155.947394 \nL 550.948122 155.900209 \nL 553.478975 156.419137 \nL 554.963826 157.060917 \nL 556.008893 158.818606 \nL 556.642574 159.56864 \nL 557.231516 160.638888 \nL 557.857058 162.346008 \nL 560.799947 162.903129 \nL 562.802787 164.142108 \nL 563.487549 165.779569 \nL 566.056767 165.781608 \nL 567.522626 165.094105 \nL 570.317218 164.580348 \nL 569.428642 166.148485 \nL 568.771792 166.786297 \nL 568.192307 168.695628 \nL 567.05513 170.391088 \nL 565.002932 170.082488 \nL 563.551685 170.698048 \nL 563.997011 172.190652 \nL 563.753745 174.249823 \nL 562.889992 174.296835 \nL 562.900363 175.182161 \nL 561.808488 174.153277 \nL 561.136185 175.129951 \nL 558.524655 175.88057 \nL 558.788805 176.79992 \nL 557.32676 176.736516 \nL 556.524086 176.190292 \nL 555.362367 177.426344 \nL 553.498811 178.363121 \nL 552.121874 179.480832 \nL 549.757892 179.987474 \nL 548.513074 180.801947 \nL 546.692247 181.277698 \nL 547.590864 180.470114 \nL 547.237062 179.791454 \nL 548.575988 178.619977 \nL 547.682788 177.706841 \nL 546.208772 178.322053 \nL 544.299691 179.533878 \nL 543.257857 180.659244 \nL 541.599557 180.743001 \nL 540.737115 181.556258 \nL 541.628217 182.734671 \nL 543.012144 183.020752 \nL 543.068767 183.803028 \nL 544.406557 184.312056 \nL 546.301483 183.067629 \nL 547.802674 183.746109 \nL 548.896149 183.792536 \nL 549.170173 184.705536 \nL 546.776132 185.192275 \nL 545.986215 186.133194 \nL 544.341895 187.007468 \nL 543.473861 188.227309 \nL 545.293815 189.185025 \nL 545.958079 190.899259 \nL 546.987242 192.496369 \nL 548.135592 193.835091 \nL 548.108155 195.129683 \nL 547.046835 195.605614 \nL 547.451405 196.535141 \nL 548.446665 197.076096 \nL 548.186797 198.495604 \nL 547.757323 199.87679 \nL 546.812482 200.033362 \nL 545.5778 201.919885 \nL 544.208204 204.207182 \nL 542.637983 206.287022 \nL 540.312535 207.895434 \nL 537.960698 209.362223 \nL 536.055199 209.562296 \nL 535.021579 210.336646 \nL 534.436919 209.770969 \nL 533.480368 210.637092 \nL 531.117347 211.510015 \nL 529.328151 211.777273 \nL 528.75083 213.617864 \nL 527.813765 213.719949 \nL 527.370399 212.455077 \nL 527.770862 211.780921 \nL 525.502211 211.222943 \nL 524.703032 211.506728 \nL 523.000692 211.054438 \nL 522.195571 210.346328 \nL 522.462955 209.342365 \nL 520.9172 209.024087 \nL 520.102118 208.370239 \nL 518.66087 209.299 \nL 517.016725 209.500108 \nL 515.668187 209.491327 \nL 514.760919 209.916643 \nL 513.884321 210.172058 \nL 514.139821 212.165529 \nL 513.238407 212.117976 \nL 513.086191 211.708556 \nL 513.03551 210.988062 \nL 511.795236 211.49547 \nL 511.062991 211.174625 \nL 509.807338 210.520417 \nL 510.29955 209.07263 \nL 509.228794 208.735079 \nL 508.825535 207.13072 \nL 507.040708 207.419818 \nL 507.24343 205.352451 \nL 508.845108 203.897099 \nL 508.913177 202.459579 \nL 508.863458 201.125856 \nL 508.125445 200.710356 \nL 507.56027 199.684328 \nL 506.571302 199.813927 \nL 504.748027 199.553468 \nL 505.319144 198.821582 \nL 504.526257 197.73787 \nL 503.320847 198.471737 \nL 501.902493 198.043494 \nL 499.953479 199.153324 \nL 498.414365 200.449537 \nL 497.05071 200.667622 \nL 496.310426 200.199031 \nL 495.417051 200.156612 \nL 494.208583 199.75318 \nL 493.295461 200.195293 \nL 492.17682 201.490966 \nL 492.034915 200.118426 \nL 491.003654 200.484977 \nL 489.032183 200.31467 \nL 487.119432 199.915021 \nL 485.746952 199.149587 \nL 484.433017 198.806046 \nL 483.86557 197.968923 \nL 482.915486 197.718822 \nL 481.20834 196.583324 \nL 479.852724 196.047502 \nL 479.15176 196.464442 \nL 476.801584 195.245817 \nL 475.140312 194.142291 \nL 474.6661 192.221275 \nL 475.879636 192.455481 \nL 475.935035 191.565581 \nL 475.262383 190.67361 \nL 475.433473 189.251941 \nL 473.616053 187.209251 \nL 470.83518 186.504474 \nL 470.334754 185.165301 \nL 469.085392 184.352764 \nL 468.784368 183.852652 \nL 468.530703 182.859226 \nL 468.589597 182.181557 \nL 467.562706 181.78479 \nL 467.006968 181.960275 \nL 466.578369 180.34745 \nL 467.059658 179.948747 \nL 466.826703 179.540993 \nL 468.440876 178.717604 \nL 469.609236 178.37663 \nL 471.399131 178.610385 \nL 472.038492 177.497538 \nL 474.207442 177.290441 \nL 474.81019 176.598677 \nL 477.474673 175.654605 \nL 477.712347 175.26063 \n\" style=\"fill:#fafafa;stroke:#000000;\"/>\n    <path clip-path=\"url(#p520653cbdf)\" d=\"M 429.216277 206.813162 \nL 429.517127 206.728504 \nL 429.579604 207.206462 \nL 430.903063 206.931773 \nL 432.301321 206.9773 \nL 433.32262 207.028815 \nL 434.480931 205.850448 \nL 435.742351 204.732872 \nL 436.810661 203.658751 \nL 437.132307 204.252798 \nL 437.361942 205.629391 \nL 436.498539 205.636191 \nL 436.359692 206.771148 \nL 436.659143 207.013504 \nL 435.893868 207.35673 \nL 435.889149 208.069073 \nL 435.3965 208.790377 \nL 435.352286 209.492138 \nL 435.011503 209.860535 \nL 429.928513 208.981803 \nL 429.280851 207.216233 \nL 429.216277 206.813162 \n\" style=\"fill:#fbfbfb;stroke:#000000;\"/>\n    <path clip-path=\"url(#p520653cbdf)\" d=\"M 381.709525 155.109505 \nL 381.782924 155.880478 \nL 382.251981 156.543422 \nL 382.242282 157.238158 \nL 381.228235 157.593902 \nL 381.749895 158.401395 \nL 381.782138 159.177277 \nL 382.632521 160.698824 \nL 382.451208 161.187724 \nL 381.612096 161.390543 \nL 380.076652 162.840086 \nL 380.512854 163.623262 \nL 380.14376 163.521583 \nL 378.536839 162.851704 \nL 377.319634 163.098023 \nL 376.521329 162.91907 \nL 375.522311 163.292601 \nL 374.669568 162.674868 \nL 373.974372 162.911415 \nL 373.878953 162.806178 \nL 373.100745 161.948025 \nL 371.843607 161.842743 \nL 371.683177 161.297059 \nL 370.523555 161.102165 \nL 370.271114 161.552204 \nL 369.352574 161.191687 \nL 369.458042 160.712198 \nL 368.193826 160.560579 \nL 367.392375 159.999495 \nL 366.699276 158.886692 \nL 366.831045 158.285846 \nL 366.412669 157.353617 \nL 365.798736 156.732462 \nL 366.270152 156.267293 \nL 365.875106 155.380455 \nL 367.030359 154.868635 \nL 369.669152 154.062672 \nL 371.798606 153.472948 \nL 373.486179 153.76736 \nL 373.613667 154.192406 \nL 375.244355 154.214426 \nL 377.326886 154.412337 \nL 380.436221 154.386174 \nL 381.303469 154.572602 \nL 381.709525 155.109505 \n\" style=\"fill:#fbfbfb;stroke:#000000;\"/>\n    <path clip-path=\"url(#p520653cbdf)\" d=\"M 367.605132 110.21181 \nL 368.247221 109.616173 \nL 370.729983 109.555559 \nL 372.862185 110.163988 \nL 378.428658 111.46349 \nL 374.173553 112.149299 \nL 373.233999 113.431843 \nL 371.750548 113.760762 \nL 370.94532 115.204759 \nL 368.90769 115.272658 \nL 365.271289 114.209725 \nL 366.804892 113.590508 \nL 364.270287 113.08635 \nL 360.975906 111.614782 \nL 359.660751 110.250013 \nL 364.270575 109.625968 \nL 365.19677 110.23607 \nL 367.605132 110.21181 \n\" style=\"fill:#fcfcfc;stroke:#000000;\"/>\n    <path clip-path=\"url(#p520653cbdf)\" d=\"M 394.589035 127.842342 \nL 391.711966 128.541521 \nL 390.346354 128.702108 \nL 391.062696 127.47916 \nL 388.892785 126.786045 \nL 386.267361 127.37667 \nL 385.438123 128.654465 \nL 383.825785 129.425754 \nL 382.010375 129.004535 \nL 379.802366 129.090814 \nL 377.923256 128.169393 \nL 376.909821 128.629833 \nL 375.860909 128.701477 \nL 375.612837 129.848143 \nL 372.425996 129.568952 \nL 371.978435 130.539412 \nL 370.354649 130.533513 \nL 369.238368 131.773482 \nL 367.54695 133.705531 \nL 364.921439 136.15737 \nL 365.537294 136.752723 \nL 364.948876 137.443407 \nL 363.271527 137.413596 \nL 362.173508 139.048171 \nL 362.27749 141.362532 \nL 363.358121 142.245767 \nL 362.7988 144.29467 \nL 361.391805 145.489429 \nL 360.646278 146.493707 \nL 359.511996 145.424224 \nL 356.173201 147.439805 \nL 353.918793 147.848325 \nL 351.580413 146.960767 \nL 350.975742 145.087123 \nL 350.44115 141.065148 \nL 351.998177 139.943699 \nL 356.463041 138.480557 \nL 359.801399 136.681935 \nL 362.896841 134.253016 \nL 366.959756 130.887815 \nL 369.791659 129.576247 \nL 374.438448 127.390359 \nL 378.148959 126.627491 \nL 380.931055 126.72003 \nL 383.505973 125.276251 \nL 386.589357 125.353344 \nL 389.62538 125.006156 \nL 394.914326 126.281339 \nL 392.736463 126.747589 \nL 394.589035 127.842342 \n\" style=\"fill:#fcfcfc;stroke:#000000;\"/>\n    <path clip-path=\"url(#p520653cbdf)\" d=\"M 388.343601 109.545894 \nL 385.836227 110.484517 \nL 380.932278 110.689858 \nL 375.945319 110.399138 \nL 375.644469 109.918929 \nL 373.218009 109.888398 \nL 371.367735 109.088425 \nL 376.589223 108.601732 \nL 379.044343 109.020834 \nL 380.754373 108.498926 \nL 385.029621 108.934285 \nL 388.343601 109.545894 \n\" style=\"fill:#fcfcfc;stroke:#000000;\"/>\n    <path clip-path=\"url(#p520653cbdf)\" d=\"M 383.806239 113.384509 \nL 380.029087 114.097174 \nL 377.045799 113.692653 \nL 378.212695 113.243011 \nL 377.191031 112.686029 \nL 380.695203 112.336929 \nL 381.366629 112.991176 \nL 383.806239 113.384509 \n\" style=\"fill:#fcfcfc;stroke:#000000;\"/>\n    <path clip-path=\"url(#p520653cbdf)\" d=\"M 518.419875 230.79227 \nL 519.883493 230.090329 \nL 521.658533 229.963973 \nL 520.915976 228.90818 \nL 523.758191 227.566936 \nL 523.966417 225.478495 \nL 523.57443 224.316204 \nL 523.881833 222.57387 \nL 523.45603 221.342816 \nL 522.176522 220.130271 \nL 521.110834 218.594809 \nL 519.705412 216.535413 \nL 517.679591 215.492859 \nL 518.164638 214.866344 \nL 519.245443 214.409777 \nL 518.590092 212.889895 \nL 516.508347 212.876251 \nL 515.749188 211.292786 \nL 514.760919 209.916643 \nL 515.668187 209.491327 \nL 517.016725 209.500108 \nL 518.66087 209.299 \nL 520.102118 208.370239 \nL 520.9172 209.024087 \nL 522.462955 209.342365 \nL 522.195571 210.346328 \nL 523.000692 211.054438 \nL 524.703032 211.506728 \nL 522.445479 212.997744 \nL 521.036299 214.644342 \nL 520.664846 215.853646 \nL 521.958072 217.690634 \nL 523.539303 219.96789 \nL 525.073873 221.044442 \nL 526.101289 222.444001 \nL 526.876002 225.669336 \nL 526.647503 228.735216 \nL 525.237274 229.882917 \nL 523.300843 231.004996 \nL 521.921372 232.457871 \nL 519.813064 234.080558 \nL 519.199131 232.962937 \nL 519.674305 231.782274 \nL 518.419875 230.79227 \n\" style=\"fill:#fcfcfc;stroke:#000000;\"/>\n    <path clip-path=\"url(#p520653cbdf)\" d=\"M 397.346465 187.826174 \nL 397.664004 187.917136 \nL 398.122925 187.76849 \nL 398.449027 187.786637 \nL 398.570923 187.89345 \nL 398.604564 188.069611 \nL 398.688886 188.002785 \nL 398.942026 188.03908 \nL 399.265071 187.907094 \nL 399.446297 187.968246 \nL 399.499162 188.108382 \nL 397.765889 188.816357 \nL 396.938137 188.590167 \nL 396.543092 187.890298 \nL 397.346465 187.826174 \n\" style=\"fill:#fcfcfc;stroke:#000000;\"/>\n    <path clip-path=\"url(#p520653cbdf)\" d=\"M 547.915219 206.553874 \nL 546.896978 209.348309 \nL 546.172335 210.777903 \nL 545.281232 209.306475 \nL 545.088646 208.01436 \nL 546.083731 206.302602 \nL 547.437075 204.983288 \nL 548.208467 205.502404 \nL 547.915219 206.553874 \n\" style=\"fill:#fcfcfc;stroke:#000000;\"/>\n    <path clip-path=\"url(#p520653cbdf)\" d=\"M 641.097847 318.89522 \nL 640.459011 319.834294 \nL 639.621035 321.027791 \nL 638.314178 321.722617 \nL 638.023901 321.265284 \nL 637.318918 321.014192 \nL 638.293993 319.58059 \nL 637.740265 318.621523 \nL 635.920661 317.924265 \nL 635.96837 317.292932 \nL 637.19012 316.684836 \nL 637.475328 315.343097 \nL 637.396774 314.216064 \nL 636.711975 313.048324 \nL 636.757588 312.741124 \nL 635.949321 312.021621 \nL 634.618871 310.479495 \nL 633.911791 309.245559 \nL 634.539181 309.108845 \nL 635.459468 310.077009 \nL 636.775151 310.528938 \nL 637.253033 312.081602 \nL 638.478278 313.916249 \nL 638.513754 312.726084 \nL 639.276845 313.201429 \nL 639.52981 314.519753 \nL 640.890494 315.087682 \nL 642.032902 315.227097 \nL 642.999327 314.562352 \nL 643.856176 314.76373 \nL 643.446363 316.310359 \nL 642.931869 317.327336 \nL 641.640915 317.291491 \nL 641.189422 317.821234 \nL 641.346618 318.570998 \nL 641.097847 318.89522 \n\" style=\"fill:#fdfdfd;stroke:#000000;\"/>\n    <path clip-path=\"url(#p520653cbdf)\" d=\"M 628.89285 324.976456 \nL 630.342137 324.063861 \nL 631.35697 323.159462 \nL 632.108789 321.860502 \nL 632.749635 321.41956 \nL 633.000766 320.446533 \nL 634.186689 319.641111 \nL 634.561725 320.381959 \nL 634.945324 321.101642 \nL 636.147849 320.395288 \nL 636.636828 321.131542 \nL 636.638401 321.865005 \nL 636.009264 322.672228 \nL 634.903905 323.956418 \nL 634.039017 324.657458 \nL 634.662736 325.495842 \nL 633.35815 325.517367 \nL 631.91131 326.174097 \nL 631.458506 327.314909 \nL 630.497324 329.078317 \nL 629.169496 329.85708 \nL 628.325578 330.354581 \nL 626.768289 330.317476 \nL 625.673241 329.742792 \nL 623.835462 329.620308 \nL 623.551826 328.98033 \nL 624.460317 327.687584 \nL 626.586364 325.967495 \nL 627.678091 325.639581 \nL 628.89285 324.976456 \n\" style=\"fill:#fdfdfd;stroke:#000000;\"/>\n    <path clip-path=\"url(#p520653cbdf)\" d=\"M 358.222964 166.241536 \nL 358.288412 166.550808 \nL 358.029767 166.97743 \nL 358.794867 167.294763 \nL 359.657659 167.342135 \nL 359.52353 168.05664 \nL 358.778615 168.350601 \nL 357.527418 168.132202 \nL 357.161208 168.835043 \nL 356.355738 168.890431 \nL 356.062665 168.614212 \nL 355.114677 169.205287 \nL 354.299421 169.288144 \nL 353.571894 168.914838 \nL 352.991078 168.150574 \nL 352.183685 168.423641 \nL 352.208676 167.634521 \nL 353.44528 166.65519 \nL 353.390929 166.212356 \nL 354.16136 166.372756 \nL 354.625611 166.075057 \nL 356.063801 166.087261 \nL 356.410962 165.708641 \nL 358.222964 166.241536 \n\" style=\"fill:#fdfdfd;stroke:#000000;\"/>\n    <path clip-path=\"url(#p520653cbdf)\" d=\"M 326.722945 176.078751 \nL 327.336528 175.635872 \nL 328.026569 175.381808 \nL 328.45045 176.235053 \nL 329.449205 176.232981 \nL 329.738696 176.012916 \nL 330.723994 176.073842 \nL 331.196634 176.947981 \nL 330.415368 177.419815 \nL 330.393566 178.779566 \nL 330.118974 179.034621 \nL 330.051036 179.858325 \nL 329.320494 180.001794 \nL 329.997865 181.046599 \nL 329.531081 182.191644 \nL 330.114125 182.709769 \nL 329.882087 183.183583 \nL 329.25544 183.837116 \nL 329.396428 184.414186 \nL 328.716872 184.866476 \nL 327.82542 184.621418 \nL 326.952842 184.81325 \nL 327.211138 183.449446 \nL 327.052368 182.377801 \nL 326.295743 182.217041 \nL 325.891435 181.556619 \nL 326.026001 180.415717 \nL 326.700138 179.783034 \nL 326.820111 179.078571 \nL 327.172952 178.030568 \nL 327.135466 177.292152 \nL 326.797393 176.666268 \nL 326.722945 176.078751 \n\" style=\"fill:#fdfdfd;stroke:#000000;\"/>\n    <path clip-path=\"url(#p520653cbdf)\" d=\"M 473.616053 187.209251 \nL 471.983093 188.674015 \nL 470.098303 188.933032 \nL 467.533434 188.507851 \nL 466.704458 189.259326 \nL 467.303624 190.786412 \nL 467.890818 191.965545 \nL 469.255522 192.82613 \nL 467.813662 193.83428 \nL 467.839788 195.076591 \nL 466.198352 196.825319 \nL 465.138344 198.593951 \nL 463.369507 200.421123 \nL 461.406075 200.288642 \nL 459.542519 202.115499 \nL 460.649276 202.89818 \nL 460.841949 204.239514 \nL 461.791946 205.123334 \nL 462.127661 206.619665 \nL 458.406577 206.615116 \nL 457.280509 207.777858 \nL 456.041109 207.337141 \nL 455.536838 206.084473 \nL 454.230418 204.757279 \nL 451.115053 205.085103 \nL 448.367821 205.11757 \nL 445.98645 205.361863 \nL 446.623626 203.337186 \nL 449.062668 202.436929 \nL 448.922773 201.634344 \nL 448.11372 201.352226 \nL 448.067059 199.817304 \nL 446.450613 199.051014 \nL 445.769922 197.998463 \nL 444.93282 197.081815 \nL 447.766122 197.971805 \nL 449.457714 197.710806 \nL 450.46844 197.933033 \nL 450.810708 197.550992 \nL 451.98833 197.704096 \nL 454.185854 196.979505 \nL 454.24501 195.496459 \nL 455.18758 194.510013 \nL 456.446466 194.513075 \nL 456.631275 194.025481 \nL 457.92354 193.798256 \nL 458.548745 193.960547 \nL 459.210038 193.470431 \nL 459.116628 192.423824 \nL 459.834631 191.371948 \nL 460.910805 190.930961 \nL 460.246191 189.777946 \nL 461.854685 189.832434 \nL 462.319635 189.204929 \nL 462.249032 188.53532 \nL 463.091202 187.803208 \nL 462.897917 186.936409 \nL 462.498153 186.197768 \nL 463.485548 185.438683 \nL 465.301133 185.072583 \nL 467.241497 184.870124 \nL 468.101055 184.548288 \nL 469.085392 184.352764 \nL 470.334754 185.165301 \nL 470.83518 186.504474 \nL 473.616053 187.209251 \n\" style=\"fill:#fefefe;stroke:#000000;\"/>\n    <path clip-path=\"url(#p520653cbdf)\" d=\"M 402.570225 191.072313 \nL 402.116547 191.095234 \nL 401.960836 191.400633 \nL 401.394962 191.397391 \nL 401.997186 189.977793 \nL 402.83822 188.749802 \nL 402.870026 188.689055 \nL 403.630583 188.777901 \nL 403.907141 189.461334 \nL 402.985106 190.118154 \nL 402.570225 191.072313 \n\" style=\"fill:#fefefe;stroke:#000000;\"/>\n    <path clip-path=\"url(#p520653cbdf)\" d=\"M 401.107481 197.90561 \nL 402.9893 198.182819 \nL 403.720235 197.646457 \nL 404.124892 197.018997 \nL 405.415148 196.777632 \nL 405.693366 196.193987 \nL 406.252599 195.897999 \nL 404.567298 194.15535 \nL 407.953716 193.280806 \nL 408.275974 193.018006 \nL 410.312718 193.490335 \nL 412.83215 194.710265 \nL 417.599698 198.215242 \nL 420.743461 198.354432 \nL 422.250244 198.522622 \nL 422.671329 199.352991 \nL 423.867214 199.30778 \nL 424.529206 200.81073 \nL 425.361065 201.208803 \nL 425.650817 201.820907 \nL 426.803187 202.553469 \nL 426.905509 203.272611 \nL 426.73704 203.853059 \nL 426.951034 204.438505 \nL 427.437217 204.92691 \nL 427.662396 205.498396 \nL 427.915274 205.925649 \nL 428.426448 206.271441 \nL 428.895155 206.147606 \nL 429.216277 206.813162 \nL 429.280851 207.216233 \nL 429.928513 208.981803 \nL 435.011503 209.860535 \nL 435.352286 209.492138 \nL 436.12726 210.726613 \nL 434.999969 214.212226 \nL 429.927289 215.95501 \nL 425.051826 216.623088 \nL 423.473654 217.407345 \nL 422.261866 219.237264 \nL 421.472736 219.527758 \nL 421.04999 218.946815 \nL 420.401804 219.033995 \nL 418.767271 218.85968 \nL 418.457247 218.685411 \nL 416.505873 218.725443 \nL 416.047477 218.882961 \nL 415.352979 218.429816 \nL 414.904894 219.286483 \nL 415.078344 220.021161 \nL 414.335962 220.577112 \nL 414.11655 219.833382 \nL 413.6066 219.308503 \nL 413.476229 218.613271 \nL 412.602864 217.988784 \nL 411.701625 216.527352 \nL 411.224704 215.107169 \nL 410.055121 213.907863 \nL 409.30103 213.621647 \nL 408.181166 211.960684 \nL 407.985522 210.749489 \nL 408.057611 209.716391 \nL 407.087779 207.783982 \nL 406.294891 207.103881 \nL 405.381419 206.743454 \nL 404.825419 205.74485 \nL 404.917867 205.350875 \nL 404.448024 204.447376 \nL 403.954239 204.058265 \nL 403.293995 202.761781 \nL 402.264307 201.356414 \nL 401.401952 200.159404 \nL 400.560132 200.167779 \nL 400.822971 199.211189 \nL 400.898118 198.601111 \nL 401.107481 197.90561 \n\" style=\"fill:#fefefe;stroke:#000000;\"/>\n    <path clip-path=\"url(#p520653cbdf)\" d=\"M 331.51994 155.187813 \nL 331.79877 156.432871 \nL 330.520661 157.989273 \nL 327.523085 159.018948 \nL 325.129655 158.755518 \nL 326.50065 156.935731 \nL 325.617586 155.163767 \nL 327.91813 153.798882 \nL 329.196152 152.984814 \nL 329.544712 153.918574 \nL 329.196152 154.852514 \nL 330.241874 154.828557 \nL 331.51994 155.187813 \n\" style=\"fill:#fefefe;stroke:#000000;\"/>\n    <path clip-path=\"url(#p520653cbdf)\" d=\"M 369.63787 298.871712 \nL 370.447884 298.009821 \nL 371.115643 298.486968 \nL 371.400677 299.232139 \nL 372.159312 299.359126 \nL 373.222466 299.688662 \nL 374.13087 299.561404 \nL 375.640187 298.670244 \nL 375.641935 292.233534 \nL 376.098409 292.495253 \nL 377.100921 294.151218 \nL 376.945122 295.213135 \nL 377.32243 295.825015 \nL 378.533606 295.647233 \nL 379.379184 294.86946 \nL 380.179935 294.345211 \nL 380.593768 293.510429 \nL 381.418636 293.106502 \nL 382.131309 293.318147 \nL 382.939051 293.806282 \nL 384.315288 293.892471 \nL 385.396618 293.486653 \nL 385.567708 292.94295 \nL 385.864975 292.109069 \nL 386.785001 291.969563 \nL 387.293379 291.314905 \nL 387.856456 290.153559 \nL 389.374599 288.852438 \nL 391.767155 287.568968 \nL 392.455099 287.587971 \nL 393.273239 287.883194 \nL 393.843045 287.67398 \nL 394.741837 287.84816 \nL 395.551764 290.30108 \nL 395.991723 291.539248 \nL 395.690436 293.48224 \nL 395.834788 294.107988 \nL 394.981521 293.78881 \nL 394.492716 293.913005 \nL 394.333073 294.420502 \nL 393.871356 295.074801 \nL 393.887172 295.677404 \nL 394.896325 296.622061 \nL 395.885993 296.433922 \nL 396.230271 295.659932 \nL 397.512749 295.674522 \nL 397.090266 296.943221 \nL 396.890515 298.391233 \nL 396.453003 299.177922 \nL 395.299148 300.058005 \nL 394.968676 300.309997 \nL 394.252072 301.195304 \nL 393.780393 302.090787 \nL 392.821484 303.339493 \nL 390.91048 305.137665 \nL 389.717042 306.183191 \nL 388.440156 306.976184 \nL 386.672892 307.652368 \nL 385.810887 307.74315 \nL 385.592699 308.226961 \nL 384.565021 307.969385 \nL 383.728006 308.301082 \nL 381.895382 307.965242 \nL 380.870938 308.177788 \nL 380.170848 308.086555 \nL 378.426915 308.774536 \nL 376.983307 309.050485 \nL 375.938678 309.709197 \nL 375.169558 309.751075 \nL 374.454089 309.12965 \nL 373.882623 309.097768 \nL 373.154397 308.319725 \nL 373.074531 308.56136 \nL 372.849789 308.092949 \nL 372.859227 307.071109 \nL 372.309868 305.903189 \nL 372.855557 305.585722 \nL 372.811342 304.248125 \nL 371.704061 302.617018 \nL 370.854376 301.140726 \nL 370.851842 301.136043 \nL 369.63787 298.871712 \nM 390.999608 299.532044 \nL 390.26142 298.995096 \nL 389.471154 299.35057 \nL 388.554973 300.032427 \nL 387.653297 301.136043 \nL 388.921708 302.476522 \nL 389.526728 302.303333 \nL 389.837626 301.746481 \nL 390.780021 301.474315 \nL 391.067502 300.905665 \nL 391.586191 300.058005 \nL 390.999608 299.532044 \n\" style=\"fill:#fefefe;stroke:#000000;\"/>\n    <path clip-path=\"url(#p520653cbdf)\" d=\"M 229.922429 216.80069 \nL 230.786706 216.9542 \nL 231.091575 217.300397 \nL 230.658432 217.739808 \nL 229.385565 217.729496 \nL 228.397689 217.790963 \nL 228.299168 217.045207 \nL 228.538852 216.790513 \nL 229.922429 216.80069 \n\" style=\"fill:#fefefe;stroke:#000000;\"/>\n    <path clip-path=\"url(#p520653cbdf)\" d=\"M 367.392375 159.999495 \nL 368.193826 160.560579 \nL 369.458042 160.712198 \nL 369.352574 161.191687 \nL 370.271114 161.552204 \nL 370.523555 161.102165 \nL 371.683177 161.297059 \nL 371.843607 161.842743 \nL 373.100745 161.948025 \nL 373.878953 162.806178 \nL 373.374769 162.808294 \nL 373.112716 163.122024 \nL 372.724661 163.197811 \nL 372.613863 163.594353 \nL 372.29012 163.677119 \nL 372.24442 163.83923 \nL 371.667012 164.019534 \nL 370.917902 163.989994 \nL 370.678305 164.373386 \nL 369.898787 164.044301 \nL 369.104676 164.134768 \nL 367.792139 163.602909 \nL 367.196993 163.733048 \nL 366.245773 164.446021 \nL 364.989508 163.885072 \nL 364.034793 163.135849 \nL 363.171914 162.716972 \nL 362.992959 161.982023 \nL 362.696915 161.464033 \nL 363.925742 161.084558 \nL 364.553569 160.650326 \nL 365.767803 160.312774 \nL 366.191859 159.981032 \nL 366.63776 160.181329 \nL 367.392375 159.999495 \n\" style=\"fill:#ffffff;stroke:#000000;\"/>\n    <path clip-path=\"url(#p520653cbdf)\" d=\"M 358.777042 153.243651 \nL 357.695101 153.508973 \nL 356.417079 153.279136 \nL 355.730708 152.311918 \nL 355.679415 150.530272 \nL 355.961129 150.05979 \nL 356.446176 149.536892 \nL 357.93592 149.428728 \nL 358.529581 148.947933 \nL 359.889828 148.456332 \nL 359.832506 149.352626 \nL 359.331818 149.920284 \nL 359.534715 150.408329 \nL 360.451507 150.67212 \nL 360.038287 151.32957 \nL 359.534715 151.14026 \nL 358.317247 152.39509 \nL 358.777042 153.243651 \n\" style=\"fill:#ffffff;stroke:#000000;\"/>\n    <path clip-path=\"url(#p520653cbdf)\" d=\"M 362.918074 151.277244 \nL 363.457647 152.151113 \nL 362.443076 153.56274 \nL 360.673628 152.578321 \nL 360.437527 151.8549 \nL 362.918074 151.277244 \n\" style=\"fill:#ffffff;stroke:#000000;\"/>\n    <path clip-path=\"url(#p520653cbdf)\" d=\"M 379.344756 164.677885 \nL 380.283568 165.15197 \nL 380.401444 165.61912 \nL 379.368698 165.98468 \nL 378.568471 167.16665 \nL 377.54621 168.34853 \nL 376.190507 168.677255 \nL 375.13513 168.600117 \nL 373.839544 169.058216 \nL 373.839522 169.058225 \nL 373.207524 169.318584 \nL 371.810839 168.983465 \nL 370.546798 168.236043 \nL 370.009585 168.021471 \nL 369.681036 167.433143 \nL 369.396613 167.413869 \nL 369.957943 166.291881 \nL 369.630443 165.914162 \nL 370.582711 165.91074 \nL 370.711073 165.198577 \nL 371.571418 165.644787 \nL 372.194788 165.834818 \nL 373.614104 165.621281 \nL 373.750242 165.271302 \nL 374.422108 165.219696 \nL 375.245578 164.949151 \nL 375.428378 165.060557 \nL 376.222401 164.842923 \nL 376.618932 164.432872 \nL 377.173097 164.326554 \nL 378.983963 164.856162 \nL 379.344756 164.677885 \n\" style=\"fill:#ffffff;stroke:#000000;\"/>\n    <path clip-path=\"url(#p520653cbdf)\" d=\"M 417.706527 184.287573 \nL 416.8962 184.581971 \nL 416.302365 184.138057 \nL 414.335612 183.913173 \nL 413.609309 184.183989 \nL 411.685897 184.455029 \nL 410.774784 184.425534 \nL 408.82909 185.079472 \nL 407.437998 185.084921 \nL 406.538157 184.756781 \nL 404.676523 185.241583 \nL 404.123145 184.902636 \nL 404.031658 185.874807 \nL 403.578767 186.256624 \nL 403.125963 186.63844 \nL 402.504253 185.848149 \nL 403.144662 185.193535 \nL 402.113401 185.341957 \nL 400.699154 184.940957 \nL 399.536386 185.944065 \nL 396.970031 186.139949 \nL 395.601134 185.204568 \nL 393.778384 185.146028 \nL 393.388581 185.869088 \nL 392.219959 186.075825 \nL 390.584727 185.147829 \nL 388.738734 185.179216 \nL 387.737008 183.445933 \nL 386.501714 182.479076 \nL 387.324311 181.123827 \nL 386.252419 180.291027 \nL 388.128034 178.62421 \nL 390.731962 178.554502 \nL 391.442188 177.23001 \nL 394.664943 177.460703 \nL 396.697492 176.330248 \nL 398.667915 175.837566 \nL 401.46539 175.800505 \nL 404.416742 177.028947 \nL 406.842415 177.703014 \nL 408.812226 177.434315 \nL 410.267804 177.589581 \nL 412.264179 176.679868 \nL 414.065782 176.597056 \nL 415.694461 177.452822 \nL 415.981767 178.066187 \nL 415.819065 178.914298 \nL 417.076378 179.347495 \nL 417.742564 179.856389 \nL 416.58469 180.352854 \nL 417.112554 182.351593 \nL 416.781732 182.891333 \nL 417.706515 184.28755 \nL 417.706527 184.287573 \n\" style=\"fill:#ffffff;stroke:#000000;\"/>\n    <path clip-path=\"url(#p520653cbdf)\" d=\"M 386.161544 176.17228 \nL 387.884068 175.624029 \nL 389.339909 175.857784 \nL 389.540796 176.527843 \nL 391.016822 177.090684 \nL 390.709069 177.517622 \nL 388.701248 177.613717 \nL 387.979837 178.152692 \nL 386.568997 179.091315 \nL 386.036939 178.279589 \nL 386.05992 177.919927 \nL 386.461782 177.724493 \nL 386.985276 176.633756 \nL 386.161544 176.17228 \n\" style=\"fill:#ffffff;stroke:#000000;\"/>\n    <path clip-path=\"url(#p520653cbdf)\" d=\"M 360.646278 146.493707 \nL 361.391805 145.489429 \nL 362.7988 144.29467 \nL 363.358121 142.245767 \nL 362.27749 141.362532 \nL 362.173508 139.048171 \nL 363.271527 137.413596 \nL 364.948876 137.443407 \nL 365.537294 136.752723 \nL 364.921439 136.15737 \nL 367.54695 133.705531 \nL 369.238368 131.773482 \nL 370.354649 130.533513 \nL 371.978435 130.539412 \nL 372.425996 129.568952 \nL 375.612837 129.848143 \nL 375.860909 128.701477 \nL 376.909821 128.629833 \nL 379.163704 129.482763 \nL 381.803109 130.669326 \nL 381.84776 133.353164 \nL 382.41844 134.031329 \nL 379.50973 134.524867 \nL 377.870129 135.74088 \nL 378.134104 136.808201 \nL 375.444281 138.209471 \nL 372.178972 139.708548 \nL 370.947611 142.16282 \nL 372.151185 143.390766 \nL 373.76833 144.357443 \nL 372.215235 146.32358 \nL 370.456622 146.73129 \nL 369.811582 149.656944 \nL 368.851274 151.289628 \nL 366.800025 151.121302 \nL 365.843037 152.503524 \nL 363.885285 152.583769 \nL 363.347897 150.936226 \nL 361.932339 148.958606 \nL 360.646278 146.493707 \n\" style=\"fill:#ffffff;stroke:#000000;\"/>\n    <path clip-path=\"url(#p520653cbdf)\" d=\"M 563.137097 175.487179 \nL 563.137099 175.487175 \nL 563.137103 175.487181 \nL 563.137097 175.487179 \n\" style=\"fill:#ffffff;stroke:#000000;\"/>\n    <path clip-path=\"url(#p520653cbdf)\" d=\"M 562.900363 175.182161 \nL 562.900364 175.182203 \nL 563.137078 175.487176 \nL 562.494597 175.382619 \nL 561.760604 175.972793 \nL 561.255721 176.565804 \nL 561.319684 177.817617 \nL 560.445358 178.202811 \nL 560.144858 178.510192 \nL 559.507332 179.025345 \nL 558.381264 179.311921 \nL 557.647445 179.779972 \nL 557.594493 180.534463 \nL 557.397189 180.72697 \nL 558.070016 181.010304 \nL 559.027702 181.774793 \nL 558.784261 182.196282 \nL 558.064424 182.311066 \nL 556.869413 182.395453 \nL 556.210654 183.182052 \nL 555.455864 183.12 \nL 555.350047 183.278058 \nL 554.528848 182.946361 \nL 554.324815 183.27387 \nL 553.829195 183.418554 \nL 553.769602 183.09064 \nL 553.331565 182.931005 \nL 552.876926 182.652985 \nL 553.339954 181.885929 \nL 553.738931 181.681354 \nL 553.588288 181.362941 \nL 554.017325 180.422877 \nL 553.906614 180.138057 \nL 552.919743 179.948162 \nL 552.121874 179.480832 \nL 553.498811 178.363121 \nL 555.362367 177.426344 \nL 556.524086 176.190292 \nL 557.32676 176.736516 \nL 558.788805 176.79992 \nL 558.524655 175.88057 \nL 561.136185 175.129951 \nL 561.808488 174.153277 \nL 562.900363 175.182161 \n\" style=\"fill:#ffffff;stroke:#000000;\"/>\n    <path clip-path=\"url(#p520653cbdf)\" d=\"M 386.454005 187.547388 \nL 386.242632 188.061505 \nL 383.807697 188.209657 \nL 383.824649 187.92209 \nL 381.761691 187.582242 \nL 382.074512 186.841529 \nL 382.998906 187.428822 \nL 384.315026 187.329529 \nL 385.573388 187.453229 \nL 385.532494 187.756511 \nL 386.454005 187.547388 \n\" style=\"fill:#ffffff;stroke:#000000;\"/>\n    <path clip-path=\"url(#p520653cbdf)\" d=\"M 380.810383 177.024354 \nL 382.061143 177.074743 \nL 383.414836 176.595795 \nL 384.606177 177.204747 \nL 386.143106 177.040205 \nL 386.161544 176.17228 \nL 386.985276 176.633756 \nL 386.461782 177.724493 \nL 386.05992 177.919927 \nL 385.029708 177.870393 \nL 384.147344 177.70567 \nL 382.09959 178.158681 \nL 383.271707 179.138372 \nL 382.412673 179.422427 \nL 381.47089 179.424183 \nL 380.576379 178.526628 \nL 380.259014 178.909075 \nL 380.636846 179.949963 \nL 381.482773 180.767858 \nL 380.845423 181.14972 \nL 381.787118 181.95298 \nL 382.624133 182.458407 \nL 382.649473 183.443051 \nL 381.085369 182.981215 \nL 381.584134 183.870079 \nL 380.510407 184.053039 \nL 381.15169 185.591068 \nL 380.028593 185.612863 \nL 378.642045 184.854768 \nL 378.007927 183.460523 \nL 377.712058 182.300979 \nL 377.0526 181.49988 \nL 376.186313 180.506049 \nL 376.071845 180.009764 \nL 376.858092 179.16449 \nL 376.95954 178.598092 \nL 377.509074 178.345379 \nL 377.542977 177.887505 \nL 378.649035 177.733184 \nL 379.293639 177.352223 \nL 380.209994 177.385996 \nL 380.488084 177.082204 \nL 380.810383 177.024354 \n\" style=\"fill:#ffffff;stroke:#000000;\"/>\n    <path clip-path=\"url(#p520653cbdf)\" d=\"M 251.74999 307.919761 \nL 251.281807 306.932685 \nL 252.027422 306.106008 \nL 251.049464 304.920166 \nL 249.722946 303.956866 \nL 247.982901 302.840371 \nL 247.354332 302.891256 \nL 245.65872 301.543392 \nL 244.561138 301.72919 \nL 246.817206 299.352822 \nL 248.725589 297.660832 \nL 249.861137 296.951236 \nL 251.284866 295.990458 \nL 251.319337 294.598644 \nL 250.471007 293.592655 \nL 249.633599 293.926604 \nL 249.9656 292.920885 \nL 250.194667 291.890219 \nL 250.195541 290.932052 \nL 249.587026 290.615846 \nL 248.952821 290.897649 \nL 248.322373 290.820376 \nL 248.124719 290.149506 \nL 247.967391 288.552442 \nL 247.650725 288.031886 \nL 246.508754 287.560232 \nL 245.818538 287.901566 \nL 244.033537 287.566987 \nL 244.145951 285.201156 \nL 243.645918 284.232182 \nL 244.174481 283.871936 \nL 244.011823 282.878555 \nL 244.475112 282.114922 \nL 244.775482 280.742201 \nL 244.376111 279.658669 \nL 243.452459 279.169364 \nL 243.271101 278.481653 \nL 243.519392 277.475123 \nL 240.277632 277.403164 \nL 239.627349 275.373893 \nL 240.120785 275.344804 \nL 240.098503 274.593239 \nL 239.768992 274.08439 \nL 239.694413 273.07696 \nL 238.712304 272.560096 \nL 237.648582 272.577207 \nL 236.948754 272.071061 \nL 235.805734 271.725764 \nL 235.140466 271.074618 \nL 233.246894 270.786961 \nL 231.410688 269.225921 \nL 231.546608 268.057551 \nL 231.33873 267.387582 \nL 231.518646 266.081417 \nL 229.306137 266.376549 \nL 228.415209 267.030938 \nL 226.936693 267.737202 \nL 226.559517 268.264333 \nL 225.688861 268.302429 \nL 224.431635 268.154908 \nL 223.477837 268.455083 \nL 222.708586 268.254966 \nL 222.821525 265.607603 \nL 221.434103 266.634666 \nL 219.941912 266.589635 \nL 219.302508 265.660018 \nL 218.180285 265.558969 \nL 218.537626 264.810647 \nL 217.598027 263.75035 \nL 216.894311 262.180755 \nL 217.34043 261.862116 \nL 217.338595 261.125952 \nL 218.360681 260.622867 \nL 218.192125 259.680462 \nL 218.623651 259.074076 \nL 218.746377 258.260729 \nL 220.679968 257.074617 \nL 222.065774 256.739317 \nL 222.292482 256.477327 \nL 223.816217 256.559103 \nL 224.576337 251.78052 \nL 224.616269 251.024722 \nL 224.351508 250.026748 \nL 223.601436 249.390912 \nL 223.610043 248.124645 \nL 224.562312 247.837528 \nL 224.90043 248.017922 \nL 224.957576 247.350384 \nL 223.966773 247.170171 \nL 223.945845 246.079659 \nL 227.240426 246.118611 \nL 227.799703 245.517854 \nL 228.269459 246.070608 \nL 228.5991 247.098662 \nL 228.918213 246.883865 \nL 229.849161 247.805646 \nL 231.163839 247.692709 \nL 231.491121 247.159364 \nL 232.748653 246.75251 \nL 233.44481 246.466474 \nL 233.641328 245.728373 \nL 234.84914 245.232493 \nL 234.757697 244.866212 \nL 233.325274 244.71644 \nL 233.090527 243.618858 \nL 233.158728 242.450442 \nL 232.401928 241.998648 \nL 232.718812 241.838248 \nL 233.97062 242.061241 \nL 235.315139 242.496869 \nL 235.803244 242.084882 \nL 237.019183 241.814472 \nL 238.910526 241.162065 \nL 239.528915 240.496959 \nL 239.305047 240.005177 \nL 240.184135 239.928129 \nL 240.577652 240.329715 \nL 240.35776 241.094969 \nL 240.93875 241.35894 \nL 241.326587 242.168819 \nL 240.857574 242.782815 \nL 240.588531 244.266402 \nL 241.021368 245.147565 \nL 241.143963 245.954023 \nL 242.18418 246.771738 \nL 243.01416 246.858197 \nL 243.201066 246.516863 \nL 243.735439 246.441482 \nL 244.50054 246.135812 \nL 245.050336 245.67231 \nL 245.985609 245.820146 \nL 246.397039 245.757733 \nL 247.316365 245.900391 \nL 247.468712 245.544287 \nL 247.185077 245.19782 \nL 247.354201 244.693159 \nL 248.036596 244.84802 \nL 248.834988 244.669833 \nL 249.803597 245.039131 \nL 250.542003 245.398657 \nL 251.06541 244.926104 \nL 251.443635 244.998963 \nL 251.674232 245.489575 \nL 252.483852 245.365019 \nL 253.131864 244.703021 \nL 253.65112 243.419641 \nL 254.651361 241.824739 \nL 255.227371 241.742377 \nL 255.645659 242.706308 \nL 256.594084 245.754176 \nL 257.498381 246.041878 \nL 257.543993 247.244922 \nL 256.272175 248.679605 \nL 256.798116 249.204935 \nL 259.787042 249.478632 \nL 259.848033 251.225469 \nL 261.132346 250.081866 \nL 263.26014 250.708245 \nL 266.068538 251.772594 \nL 266.893844 252.793894 \nL 266.616587 253.758635 \nL 268.582771 253.221507 \nL 271.873508 254.143288 \nL 274.399711 254.075382 \nL 276.899352 255.51772 \nL 279.058865 257.470168 \nL 280.361397 257.972892 \nL 281.807363 258.04278 \nL 282.42016 258.592516 \nL 282.993986 260.811547 \nL 283.274738 261.865989 \nL 282.601387 264.747153 \nL 281.741129 265.884993 \nL 279.357705 268.309994 \nL 278.280439 270.280184 \nL 277.028718 271.791059 \nL 276.605973 271.825102 \nL 276.133552 273.107311 \nL 276.253569 276.372768 \nL 275.782153 279.059038 \nL 275.602499 280.208135 \nL 275.067864 280.895757 \nL 274.768062 283.225563 \nL 273.05362 285.500611 \nL 272.766139 287.300585 \nL 271.397504 288.055842 \nL 271.001628 289.100468 \nL 269.164592 289.096325 \nL 266.504609 289.766024 \nL 265.313661 290.541365 \nL 263.419915 291.050484 \nL 261.42992 292.438154 \nL 259.998589 294.166709 \nL 259.752483 295.46801 \nL 260.033628 296.430409 \nL 259.717793 298.191026 \nL 259.334063 299.041478 \nL 258.152334 300.000635 \nL 256.276195 303.067957 \nL 254.78929 304.450404 \nL 253.639717 305.265462 \nL 252.868631 306.923228 \nL 251.74999 307.919761 \n\" style=\"fill:#ffffff;stroke:#000000;\"/>\n    <path clip-path=\"url(#p520653cbdf)\" d=\"M 404.337443 210.726615 \nL 397.630909 210.726615 \nL 391.070182 210.726615 \nL 384.272727 210.726615 \nL 384.272727 204.308753 \nL 384.272727 198.111086 \nL 383.765573 196.707198 \nL 384.201067 195.631176 \nL 383.939398 194.885798 \nL 384.551423 194.049498 \nL 386.801194 194.020689 \nL 388.428339 194.48152 \nL 390.107175 194.996501 \nL 390.890151 195.267889 \nL 392.191965 194.715753 \nL 392.88796 194.216371 \nL 394.379173 194.07266 \nL 395.58146 194.292705 \nL 396.042148 195.157134 \nL 396.43454 194.587692 \nL 397.789719 194.999463 \nL 399.107749 195.098123 \nL 399.939735 194.659117 \nL 399.939744 194.659112 \nL 400.882939 197.200601 \nL 401.050942 197.653295 \nL 400.576033 198.353744 \nL 400.212166 199.670308 \nL 399.752171 200.577766 \nL 399.357936 200.882059 \nL 398.794441 200.319727 \nL 398.031249 199.541933 \nL 396.824734 197.043751 \nL 396.65096 197.201735 \nL 397.351605 199.040738 \nL 398.389721 200.792845 \nL 399.667694 203.507466 \nL 400.29218 204.455044 \nL 400.8353 205.439395 \nL 402.352621 207.368744 \nL 402.016654 207.672584 \nL 402.071203 208.805282 \nL 404.040621 210.369603 \nL 404.337443 210.726615 \n\" style=\"fill:#ffffff;stroke:#000000;\"/>\n    <path clip-path=\"url(#p520653cbdf)\" d=\"M 555.350047 183.278058 \nL 555.455864 183.12 \nL 556.210654 183.182052 \nL 556.869413 182.395453 \nL 558.064424 182.311066 \nL 558.784261 182.196282 \nL 559.027702 181.774793 \nL 560.4873 183.831037 \nL 560.905851 184.960726 \nL 560.919133 186.968516 \nL 560.281782 187.926458 \nL 558.75062 188.261262 \nL 557.399024 188.984007 \nL 555.8759 189.13324 \nL 555.68681 188.184259 \nL 556.000155 186.877194 \nL 555.253055 185.063036 \nL 556.50897 184.76948 \nL 555.350047 183.278058 \n\" style=\"fill:#ffffff;stroke:#000000;\"/>\n    <path clip-path=\"url(#p520653cbdf)\" d=\"M 380.31118 171.975585 \nL 380.797626 172.692116 \nL 381.452802 172.564498 \nL 382.752057 172.836304 \nL 385.235314 172.927987 \nL 386.073814 172.483488 \nL 388.064421 172.0783 \nL 389.294908 172.711839 \nL 390.28912 172.894844 \nL 389.411561 173.616869 \nL 388.794045 174.863458 \nL 389.339909 175.857784 \nL 387.884068 175.624029 \nL 386.161544 176.17228 \nL 386.143106 177.040205 \nL 384.606177 177.204747 \nL 383.414836 176.595795 \nL 382.061143 177.074743 \nL 380.810383 177.024354 \nL 380.690323 175.871834 \nL 379.843434 175.312461 \nL 380.121565 175.066547 \nL 379.938242 174.859225 \nL 380.222664 174.30467 \nL 380.867268 173.759797 \nL 380.045719 173.007512 \nL 379.894028 172.370956 \nL 380.31118 171.975585 \n\" style=\"fill:#ffffff;stroke:#000000;\"/>\n    <path clip-path=\"url(#p520653cbdf)\" d=\"M 515.461795 227.82942 \nL 515.061332 225.724724 \nL 516.144059 224.275631 \nL 518.330398 223.942718 \nL 519.915386 224.192864 \nL 521.310673 224.876252 \nL 522.075686 223.674604 \nL 523.57443 224.316204 \nL 523.966417 225.478495 \nL 523.758191 227.566936 \nL 520.915976 228.90818 \nL 521.658533 229.963973 \nL 519.883493 230.090329 \nL 518.419875 230.79227 \nL 517.004491 230.537801 \nL 516.316984 229.629619 \nL 515.461795 227.82942 \n\" style=\"fill:#ffffff;stroke:#000000;\"/>\n    <path clip-path=\"url(#p520653cbdf)\" d=\"M 143.947606 192.365621 \nL 145.869172 192.231339 \nL 148.016559 192.042349 \nL 147.858273 192.383154 \nL 150.411579 193.230399 \nL 154.269169 194.458062 \nL 157.631727 194.445479 \nL 158.97272 194.444991 \nL 158.976 193.725853 \nL 161.905348 193.726435 \nL 162.522005 194.34438 \nL 163.386584 194.895314 \nL 164.391356 195.661815 \nL 164.952095 196.572062 \nL 165.37276 197.530201 \nL 166.246909 198.056457 \nL 167.650364 198.579297 \nL 168.715636 197.202485 \nL 170.098124 197.168849 \nL 171.289876 197.863512 \nL 172.138307 199.056615 \nL 172.723091 200.078105 \nL 173.720727 201.071502 \nL 174.092727 202.291462 \nL 174.566182 203.110578 \nL 175.885091 203.650846 \nL 177.085636 204.034262 \nL 177.745077 203.981982 \nL 177.088896 205.511906 \nL 176.793201 206.766375 \nL 176.669602 209.101315 \nL 176.506725 209.952443 \nL 176.799798 210.903179 \nL 177.324123 211.753091 \nL 177.661673 213.104783 \nL 178.784027 214.402301 \nL 179.178767 215.396673 \nL 179.840322 216.254736 \nL 181.635765 216.717112 \nL 182.334676 217.446207 \nL 183.817735 216.959153 \nL 185.107117 216.783128 \nL 186.373211 216.469893 \nL 187.437545 216.170978 \nL 188.51302 215.459851 \nL 188.91593 214.44328 \nL 189.054777 212.979146 \nL 189.347064 212.469667 \nL 190.492311 212.01328 \nL 192.280371 211.609038 \nL 193.777587 211.669739 \nL 194.803167 211.522128 \nL 195.20883 211.891651 \nL 195.151465 212.731072 \nL 194.242799 213.767096 \nL 193.840762 214.828203 \nL 194.152404 215.131711 \nL 193.899089 215.885077 \nL 193.475295 217.245009 \nL 193.046695 216.797402 \nL 192.692675 216.826447 \nL 192.371247 216.849368 \nL 191.765528 217.901379 \nL 191.458605 217.695182 \nL 191.253917 217.775427 \nL 191.267155 218.031878 \nL 189.703312 218.012695 \nL 188.124703 218.015712 \nL 188.123436 218.996799 \nL 187.359733 219.001122 \nL 187.989176 219.582696 \nL 188.614556 219.985271 \nL 188.802205 220.362945 \nL 189.076098 220.468678 \nL 189.032801 221.062184 \nL 186.86254 221.067408 \nL 186.048725 222.487996 \nL 186.288889 222.813659 \nL 186.092721 223.222314 \nL 186.051259 223.729947 \nL 184.137634 221.853646 \nL 183.265624 221.287699 \nL 181.885017 220.833157 \nL 180.940525 220.959784 \nL 179.582463 221.615478 \nL 178.730157 221.787271 \nL 177.536107 221.327956 \nL 176.268877 220.996394 \nL 174.688476 220.196916 \nL 173.420764 219.952714 \nL 171.506484 219.142474 \nL 170.091886 218.309493 \nL 169.665034 217.844054 \nL 168.718795 217.740078 \nL 166.989236 217.188405 \nL 166.284908 216.393205 \nL 164.468056 215.404058 \nL 163.620862 214.30499 \nL 163.217821 213.455663 \nL 163.781947 213.285536 \nL 163.607974 212.788531 \nL 163.996728 212.336466 \nL 164.005073 211.733773 \nL 163.434655 210.951182 \nL 163.282046 210.257662 \nL 162.71508 209.378119 \nL 161.224942 207.645738 \nL 159.524787 206.284365 \nL 158.702234 205.197906 \nL 157.250937 204.486328 \nL 156.939994 204.060606 \nL 157.197766 202.983468 \nL 156.335717 202.576975 \nL 155.337617 201.73008 \nL 154.916095 200.514022 \nL 154.006555 200.372219 \nL 153.024665 199.454266 \nL 152.232258 198.60647 \nL 152.158553 198.061957 \nL 151.249231 196.747416 \nL 150.650284 195.412837 \nL 150.675886 194.743453 \nL 149.453001 194.052185 \nL 148.888482 194.128107 \nL 147.923455 193.647988 \nL 147.652489 194.355647 \nL 147.932281 195.19196 \nL 148.096861 196.500692 \nL 148.676716 197.219159 \nL 149.931538 198.419637 \nL 150.210237 198.829958 \nL 150.467397 198.954378 \nL 150.690479 199.553018 \nL 150.991023 199.528792 \nL 151.330407 200.652852 \nL 151.843897 201.096225 \nL 152.20399 201.713328 \nL 153.266664 202.600256 \nL 153.827732 204.221457 \nL 154.329687 204.984774 \nL 154.799443 205.801454 \nL 154.892372 206.720624 \nL 155.707716 206.778218 \nL 156.385786 207.570086 \nL 156.999151 208.348264 \nL 156.958082 208.660373 \nL 156.246502 209.300531 \nL 155.946919 209.292155 \nL 155.501062 208.232715 \nL 154.39448 207.239334 \nL 153.175221 206.396762 \nL 152.310376 205.954109 \nL 152.366255 204.67888 \nL 152.109707 203.734493 \nL 151.303844 203.194303 \nL 150.141557 202.41662 \nL 149.918257 202.640964 \nL 149.491798 202.186783 \nL 148.448828 201.764979 \nL 147.452214 200.753045 \nL 147.575464 200.62151 \nL 148.271927 200.720353 \nL 148.899317 200.069387 \nL 148.962405 199.283193 \nL 147.660703 198.039937 \nL 146.668458 197.557386 \nL 146.045001 196.469125 \nL 145.417698 195.326422 \nL 144.63451 193.933438 \nL 143.947606 192.365621 \n\" style=\"fill:#ffffff;stroke:#000000;\"/>\n    <path clip-path=\"url(#p520653cbdf)\" d=\"M 423.12055 196.826355 \nL 423.473391 197.595527 \nL 423.322486 197.993195 \nL 423.867214 199.30778 \nL 422.671329 199.352991 \nL 422.250244 198.522622 \nL 420.743461 198.354432 \nL 421.984434 196.681266 \nL 423.12055 196.826355 \n\" style=\"fill:#ffffff;stroke:#000000;\"/>\n    <path clip-path=\"url(#p520653cbdf)\" d=\"M 401.854057 194.189033 \nL 401.059073 194.425445 \nL 401.131948 193.966491 \nL 401.56378 193.726747 \nL 401.138938 193.531133 \nL 401.492828 192.370552 \nL 402.104489 192.611963 \nL 402.10379 193.677663 \nL 401.854057 194.189033 \n\" style=\"fill:#ffffff;stroke:#000000;\"/>\n    <path clip-path=\"url(#p520653cbdf)\" d=\"M 389.313542 145.414523 \nL 389.31353 145.414529 \nL 389.568146 145.718726 \nL 388.364981 146.723024 \nL 388.866396 148.348483 \nL 388.14184 148.901597 \nL 386.747427 148.898354 \nL 385.292024 148.251531 \nL 384.55104 148.037815 \nL 383.11084 148.345826 \nL 383.307096 147.317591 \nL 382.685299 147.537252 \nL 381.612183 146.917898 \nL 381.465472 145.916682 \nL 383.60349 145.431114 \nL 385.733992 145.177996 \nL 387.568539 145.466058 \nL 389.31352 145.414498 \nL 389.313542 145.414523 \n\" style=\"fill:#ffffff;stroke:#000000;\"/>\n    <path clip-path=\"url(#p520653cbdf)\" d=\"M 342.040248 229.86486 \nL 341.915819 230.408202 \nL 342.621544 231.306973 \nL 342.618704 232.57261 \nL 342.779833 233.945556 \nL 343.203977 234.581256 \nL 342.830164 236.151032 \nL 342.964468 237.017876 \nL 343.415175 238.123473 \nL 343.792569 238.735442 \nL 341.14163 239.755616 \nL 340.201507 240.353266 \nL 338.67786 240.858827 \nL 337.170552 240.363848 \nL 337.247359 239.676182 \nL 336.514065 238.174898 \nL 336.955029 236.20687 \nL 337.66757 234.743052 \nL 337.218961 232.263338 \nL 336.988321 230.951229 \nL 337.028035 229.962442 \nL 339.965232 229.880306 \nL 340.712244 230.007338 \nL 341.258196 229.72603 \nL 342.040248 229.86486 \n\" style=\"fill:#ffffff;stroke:#000000;\"/>\n    <path clip-path=\"url(#p520653cbdf)\" d=\"M 210.836857 216.842929 \nL 211.974809 216.999186 \nL 212.87312 217.417747 \nL 213.153305 217.894984 \nL 211.96476 217.927452 \nL 211.451096 218.218711 \nL 210.504725 217.939025 \nL 209.538038 217.303999 \nL 209.740935 216.905657 \nL 210.451729 216.784208 \nL 210.836857 216.842929 \n\" style=\"fill:#ffffff;stroke:#000000;\"/>\n    <path clip-path=\"url(#p520653cbdf)\" d=\"M 377.542977 177.887505 \nL 377.509074 178.345379 \nL 376.95954 178.598092 \nL 376.858092 179.16449 \nL 376.071845 180.009764 \nL 375.784364 179.887775 \nL 375.750548 179.504338 \nL 374.81392 178.919162 \nL 374.666772 178.088793 \nL 374.809639 176.899618 \nL 375.04041 176.358618 \nL 374.7559 176.084019 \nL 374.755899 176.084014 \nL 374.642131 175.529464 \nL 375.375251 174.671131 \nL 375.482728 174.999046 \nL 375.937729 174.844745 \nL 376.297985 175.312461 \nL 376.702443 175.490905 \nL 376.816235 176.122603 \nL 376.816237 176.122611 \nL 376.601369 176.715712 \nL 376.841489 177.463134 \nL 377.542977 177.887505 \n\" style=\"fill:#ffffff;stroke:#000000;\"/>\n    <path clip-path=\"url(#p520653cbdf)\" d=\"M 511.287034 213.483987 \nL 510.318687 213.887013 \nL 509.331815 214.642721 \nL 508.138115 214.72076 \nL 507.36716 216.604941 \nL 506.653789 216.921507 \nL 507.47088 218.4508 \nL 508.543996 219.723237 \nL 509.236571 220.873505 \nL 508.617745 222.388568 \nL 508.033871 222.710629 \nL 508.437567 223.584948 \nL 509.565295 224.969646 \nL 509.758493 225.942493 \nL 509.732016 226.752102 \nL 510.393047 228.341511 \nL 509.464458 229.966179 \nL 508.645095 231.757056 \nL 508.482131 230.463365 \nL 509.001868 229.128335 \nL 508.433373 228.097129 \nL 508.570734 226.198538 \nL 507.884276 225.295625 \nL 507.333257 223.209796 \nL 507.027776 221.008147 \nL 506.296404 219.564818 \nL 505.182482 220.438822 \nL 503.260905 221.681178 \nL 502.312393 221.525957 \nL 501.264705 221.117302 \nL 501.847531 218.957442 \nL 501.49469 217.325704 \nL 500.169308 215.316293 \nL 500.376049 214.688067 \nL 499.386906 214.464669 \nL 498.186827 213.043 \nL 498.076378 211.64074 \nL 498.666544 211.904665 \nL 498.701146 210.654744 \nL 499.535452 210.241316 \nL 499.356498 209.501234 \nL 499.738698 208.907727 \nL 499.804408 207.104106 \nL 501.125946 207.501143 \nL 501.879949 206.064209 \nL 501.965494 205.215017 \nL 502.898714 203.753136 \nL 502.847334 202.755792 \nL 505.036382 201.551487 \nL 506.244762 201.866613 \nL 506.10609 200.794294 \nL 506.698877 200.474529 \nL 506.571302 199.813927 \nL 507.56027 199.684328 \nL 508.125445 200.710356 \nL 508.863458 201.125856 \nL 508.913177 202.459579 \nL 508.845108 203.897099 \nL 507.24343 205.352451 \nL 507.040708 207.419818 \nL 508.825535 207.13072 \nL 509.228794 208.735079 \nL 510.29955 209.07263 \nL 509.807338 210.520417 \nL 511.062991 211.174625 \nL 511.795236 211.49547 \nL 513.03551 210.988062 \nL 513.086191 211.708556 \nL 511.647389 212.842163 \nL 511.287034 213.483987 \n\" style=\"fill:#ffffff;stroke:#000000;\"/>\n    <path clip-path=\"url(#p520653cbdf)\" d=\"M 379.843434 175.312461 \nL 380.690323 175.871834 \nL 380.810383 177.024354 \nL 380.488084 177.082204 \nL 380.209994 177.385996 \nL 379.293639 177.352223 \nL 378.649035 177.733184 \nL 377.542977 177.887505 \nL 376.841489 177.463134 \nL 376.601369 176.715712 \nL 376.816237 176.122611 \nL 376.816235 176.122603 \nL 377.031088 176.137066 \nL 377.106925 175.780228 \nL 378.105475 175.510198 \nL 378.48413 175.443232 \nL 379.05979 175.341425 \nL 379.843434 175.312461 \n\" style=\"fill:#ffffff;stroke:#000000;\"/>\n    <path clip-path=\"url(#p520653cbdf)\" d=\"M 225.946128 340.802904 \nL 225.947245 344.694803 \nL 227.758056 344.695692 \nL 228.776863 344.742399 \nL 228.216986 345.44724 \nL 226.766862 345.988536 \nL 225.936016 345.933094 \nL 224.934813 345.792 \nL 223.70723 345.268062 \nL 221.93585 345.016053 \nL 219.808315 344.042368 \nL 218.081389 343.105404 \nL 215.752449 341.153415 \nL 217.146485 341.519299 \nL 219.520387 342.683437 \nL 221.763293 343.30898 \nL 222.635717 342.509907 \nL 223.184079 341.316785 \nL 224.74281 340.597131 \nL 225.946128 340.802904 \n\" style=\"fill:#ffffff;stroke:#000000;\"/>\n    <path clip-path=\"url(#p520653cbdf)\" d=\"M 224.32892 279.706672 \nL 225.157764 280.891974 \nL 225.38338 282.149505 \nL 226.270419 282.887381 \nL 225.737881 284.573696 \nL 226.646329 286.528576 \nL 227.308714 288.931152 \nL 228.528716 288.692398 \nL 228.734059 289.128837 \nL 228.153724 290.939528 \nL 226.311969 291.799167 \nL 226.365489 294.703476 \nL 226.012429 295.264471 \nL 226.518448 295.948399 \nL 225.325185 297.032202 \nL 224.217816 298.666822 \nL 223.613451 300.250647 \nL 223.773313 301.938403 \nL 222.731611 303.731171 \nL 223.510561 306.739592 \nL 223.949559 307.05796 \nL 223.945277 308.660789 \nL 222.980207 310.361964 \nL 223.019572 311.817901 \nL 221.739365 312.956011 \nL 221.74487 314.557128 \nL 222.25884 316.258394 \nL 221.246236 316.891077 \nL 220.794349 318.445902 \nL 220.397032 320.230835 \nL 220.682677 322.355391 \nL 220.002772 322.710054 \nL 220.397556 324.720681 \nL 221.160778 325.381284 \nL 220.603511 326.112495 \nL 221.387791 326.461664 \nL 221.568756 327.118214 \nL 220.830612 327.44838 \nL 221.012057 328.471481 \nL 220.394454 330.779132 \nL 219.498108 332.266951 \nL 219.694583 333.148295 \nL 219.158418 334.253892 \nL 217.861172 335.020408 \nL 218.008932 336.868384 \nL 218.604646 337.500437 \nL 219.730408 337.38813 \nL 219.697553 338.693394 \nL 220.398604 339.709562 \nL 224.484588 339.942641 \nL 226.051751 340.215708 \nL 224.547283 340.202649 \nL 223.733118 340.631343 \nL 222.207374 341.260964 \nL 221.934747 342.88883 \nL 221.218711 342.929267 \nL 219.311115 342.362779 \nL 217.375339 341.149197 \nL 217.375339 341.149198 \nL 215.271836 340.151765 \nL 214.742138 339.047877 \nL 215.221331 338.026667 \nL 214.370597 336.867663 \nL 214.15372 333.896888 \nL 214.872771 332.220569 \nL 216.65869 330.873967 \nL 214.092204 330.365749 \nL 215.702358 328.825694 \nL 216.278019 325.93102 \nL 218.157216 326.544341 \nL 219.040804 322.933947 \nL 217.906042 322.47067 \nL 217.377742 324.64611 \nL 216.311442 324.400692 \nL 216.842363 321.908234 \nL 217.418723 318.679522 \nL 218.195707 317.488276 \nL 217.708781 315.787641 \nL 217.569279 313.824206 \nL 218.281733 313.767557 \nL 219.319241 310.953039 \nL 220.488344 308.164999 \nL 221.204075 305.56789 \nL 220.814709 302.956731 \nL 221.319679 301.518986 \nL 221.117088 299.367952 \nL 222.105881 297.239884 \nL 222.410532 293.868514 \nL 222.953294 290.248844 \nL 223.482075 286.352505 \nL 223.358345 283.499801 \nL 223.006378 281.045079 \nL 223.875723 280.600174 \nL 224.32892 279.706672 \n\" style=\"fill:#ffffff;stroke:#000000;\"/>\n    <path clip-path=\"url(#p520653cbdf)\" d=\"M 420.636944 181.498799 \nL 420.024672 181.550044 \nL 419.334369 180.541803 \nL 419.342145 180.272924 \nL 418.595045 180.276842 \nL 418.09427 179.809332 \nL 417.742564 179.856389 \nL 417.076378 179.347495 \nL 415.819065 178.914298 \nL 415.981767 178.066187 \nL 415.694461 177.452822 \nL 418.044375 177.180971 \nL 418.39442 177.638935 \nL 419.038412 177.940551 \nL 418.698241 178.377621 \nL 419.599043 178.97545 \nL 419.122384 179.530501 \nL 419.840212 180.004495 \nL 420.599371 180.290081 \nL 420.636944 181.498799 \n\" style=\"fill:#ffffff;stroke:#000000;\"/>\n    <path clip-path=\"url(#p520653cbdf)\" d=\"M 498.701146 210.654744 \nL 498.666544 211.904665 \nL 498.076378 211.64074 \nL 498.186827 213.043 \nL 497.703789 212.134458 \nL 497.606273 211.24672 \nL 497.284452 210.407795 \nL 496.577984 209.39334 \nL 495.02052 209.323632 \nL 495.174309 210.042054 \nL 494.643387 211.011794 \nL 493.923899 210.658392 \nL 493.678011 210.975634 \nL 493.199168 210.785559 \nL 492.544953 210.629527 \nL 492.281764 209.194439 \nL 491.695792 207.883861 \nL 491.983535 206.833696 \nL 490.94275 206.366726 \nL 491.318048 205.731611 \nL 492.375173 205.082221 \nL 491.154735 204.159629 \nL 491.752065 202.977209 \nL 493.091341 203.730305 \nL 493.898559 203.816269 \nL 494.047717 205.028094 \nL 495.656647 205.267118 \nL 497.224771 205.24127 \nL 498.199759 205.538834 \nL 497.420066 207.01373 \nL 496.663616 207.114419 \nL 496.14152 208.106268 \nL 497.067312 209.009497 \nL 497.343696 207.895704 \nL 497.810568 207.89021 \nL 498.701146 210.654744 \n\" style=\"fill:#ffffff;stroke:#000000;\"/>\n    <path clip-path=\"url(#p520653cbdf)\" d=\"M 389.644254 151.176645 \nL 391.42445 151.613715 \nL 391.664658 152.046371 \nL 392.551916 151.838329 \nL 394.204974 152.253963 \nL 394.370559 153.072084 \nL 394.008194 153.542251 \nL 395.068289 154.683288 \nL 395.756408 155.001205 \nL 395.654698 155.315971 \nL 396.794921 155.622676 \nL 397.281978 156.08735 \nL 396.624006 156.468491 \nL 395.259646 156.408009 \nL 394.934248 156.570846 \nL 395.331304 157.149357 \nL 395.747186 158.265398 \nL 395.747224 158.265402 \nL 394.295674 158.368793 \nL 393.774714 158.75142 \nL 393.665925 159.628576 \nL 392.99336 159.46016 \nL 391.467441 159.543648 \nL 391.024249 159.136163 \nL 390.389782 159.439986 \nL 389.754004 159.188129 \nL 388.42233 159.15314 \nL 386.535094 158.734893 \nL 384.826986 158.598315 \nL 383.517071 158.636996 \nL 382.590404 159.109325 \nL 381.782138 159.177277 \nL 381.749895 158.401395 \nL 381.228235 157.593902 \nL 382.242282 157.238158 \nL 382.251981 156.543422 \nL 381.782924 155.880478 \nL 381.709525 155.109505 \nL 383.343883 155.121348 \nL 385.179653 154.464798 \nL 385.572077 153.480919 \nL 386.958363 152.922852 \nL 386.799506 152.142197 \nL 387.827796 151.849046 \nL 389.644254 151.176645 \n\" style=\"fill:#ffffff;stroke:#000000;\"/>\n    <path clip-path=\"url(#p520653cbdf)\" d=\"M 191.267155 218.031878 \nL 191.253917 217.775427 \nL 191.458605 217.695182 \nL 191.765528 217.901379 \nL 192.371247 216.849368 \nL 192.692675 216.826447 \nL 192.698922 217.082132 \nL 193.019389 217.090148 \nL 192.991209 217.564188 \nL 192.717491 218.318004 \nL 192.865425 218.587559 \nL 192.688262 219.211101 \nL 192.794997 219.37776 \nL 192.599003 220.258384 \nL 192.266915 220.72076 \nL 191.961521 220.776238 \nL 191.626418 221.379877 \nL 191.121667 221.380462 \nL 191.254092 219.41347 \nL 191.267155 218.031878 \n\" style=\"fill:#ffffff;stroke:#000000;\"/>\n    <path clip-path=\"url(#p520653cbdf)\" d=\"M 373.383273 174.737789 \nL 371.886685 174.07803 \nL 371.248286 173.349926 \nL 370.603683 172.964102 \nL 369.826349 172.313136 \nL 369.459789 171.773036 \nL 368.631862 170.958158 \nL 368.985839 170.234782 \nL 369.59252 170.635016 \nL 369.959079 170.273419 \nL 370.749083 170.234782 \nL 372.202652 170.52415 \nL 373.371798 170.500014 \nL 374.136547 170.885792 \nL 374.136539 170.885799 \nL 374.749578 170.880972 \nL 374.326141 171.647682 \nL 375.141412 172.317963 \nL 374.894945 173.137724 \nL 374.49677 173.21486 \nL 374.18079 173.373995 \nL 373.630957 173.779057 \nL 373.383273 174.737789 \n\" style=\"fill:#ffffff;stroke:#000000;\"/>\n    <path clip-path=\"url(#p520653cbdf)\" d=\"M 511.235916 237.801908 \nL 511.529863 237.491105 \nL 512.909508 238.254378 \nL 513.042588 239.149276 \nL 514.158695 238.941143 \nL 514.711462 238.225153 \nL 515.100303 238.387984 \nL 516.098884 239.44013 \nL 516.808236 240.606924 \nL 516.905228 241.780518 \nL 516.725225 242.573332 \nL 516.889761 243.172557 \nL 517.013229 244.204034 \nL 517.608813 244.684288 \nL 518.273776 246.225469 \nL 518.241445 246.814697 \nL 517.042414 246.930967 \nL 515.442659 245.639933 \nL 513.442352 244.256675 \nL 513.244349 243.368757 \nL 512.266827 242.203088 \nL 512.033435 240.759804 \nL 511.423521 239.809608 \nL 511.608767 238.540729 \nL 511.235916 237.801908 \n\" style=\"fill:#ffffff;stroke:#000000;\"/>\n    <path clip-path=\"url(#p520653cbdf)\" d=\"M 541.327805 241.857296 \nL 539.86209 241.56356 \nL 537.918056 241.562749 \nL 537.33226 243.544872 \nL 536.68119 244.150942 \nL 535.814292 246.574818 \nL 534.435346 246.946278 \nL 532.835677 246.457873 \nL 532.02479 246.610663 \nL 531.039491 247.491961 \nL 529.959997 247.366415 \nL 528.86923 247.720808 \nL 527.712929 246.736119 \nL 527.430603 245.571351 \nL 528.669829 246.168595 \nL 529.976424 245.842932 \nL 530.316682 244.367361 \nL 531.038442 244.038681 \nL 533.065312 243.661367 \nL 534.278236 242.282612 \nL 535.10861 241.180527 \nL 535.878953 242.083711 \nL 536.233979 241.489979 \nL 537.04207 241.545187 \nL 537.140548 240.43225 \nL 537.216656 239.573917 \nL 538.518708 238.361866 \nL 539.371538 236.999728 \nL 540.05555 236.994009 \nL 540.924283 237.875668 \nL 541.001527 238.633222 \nL 542.115187 239.119105 \nL 543.525765 239.643444 \nL 543.405355 240.326112 \nL 542.270811 240.412571 \nL 542.572797 241.263609 \nL 541.327805 241.857296 \n\" style=\"fill:#ffffff;stroke:#000000;\"/>\n    <path clip-path=\"url(#p520653cbdf)\" d=\"M 223.816217 256.559103 \nL 222.292482 256.477327 \nL 222.065774 256.739317 \nL 220.679968 257.074617 \nL 218.746377 258.260729 \nL 218.623651 259.074076 \nL 218.192125 259.680462 \nL 218.360681 260.622867 \nL 217.338595 261.125952 \nL 217.34043 261.862116 \nL 216.894311 262.180755 \nL 217.598027 263.75035 \nL 218.537626 264.810647 \nL 218.180285 265.558969 \nL 219.302508 265.660018 \nL 219.941912 266.589635 \nL 221.434103 266.634666 \nL 222.821525 265.607603 \nL 222.708586 268.254966 \nL 223.477837 268.455083 \nL 224.431635 268.154908 \nL 225.893592 270.96006 \nL 225.530047 271.549874 \nL 225.446949 272.774983 \nL 225.413701 274.258029 \nL 224.75315 275.128655 \nL 225.056141 275.774848 \nL 224.668217 276.3607 \nL 225.395526 277.825643 \nL 224.32892 279.706672 \nL 223.875723 280.600174 \nL 223.006378 281.045079 \nL 221.310941 280.044403 \nL 221.164186 279.329313 \nL 217.811977 277.579324 \nL 214.77958 275.673259 \nL 213.475344 274.599003 \nL 212.774861 273.159276 \nL 213.052555 272.657092 \nL 211.620438 270.369975 \nL 209.953269 267.154502 \nL 208.355698 263.684335 \nL 207.664171 262.890081 \nL 207.132113 261.606521 \nL 205.81844 260.469042 \nL 204.613643 259.763499 \nL 205.160904 258.985726 \nL 204.341497 257.323457 \nL 204.867831 256.102851 \nL 206.21567 255.002207 \nL 206.41612 255.727744 \nL 205.933738 256.142748 \nL 205.979482 256.781376 \nL 206.678392 256.642591 \nL 207.361399 256.831 \nL 208.071057 257.710993 \nL 209.027083 256.994101 \nL 209.347025 255.818256 \nL 210.383179 254.301887 \nL 212.416515 253.614626 \nL 214.26028 251.789796 \nL 214.786614 250.65664 \nL 214.550732 249.333183 \nL 215.001526 249.16792 \nL 216.126021 249.993335 \nL 216.665768 250.815959 \nL 217.448476 251.265006 \nL 218.44461 253.092268 \nL 219.70367 253.310578 \nL 220.635405 252.849732 \nL 221.246017 253.151259 \nL 222.26085 253.001486 \nL 223.555693 253.817625 \nL 222.465101 255.5913 \nL 222.970071 255.632639 \nL 223.816217 256.559103 \n\" style=\"fill:#ffffff;stroke:#000000;\"/>\n    <path clip-path=\"url(#p520653cbdf)\" d=\"M 225.946128 340.802904 \nL 226.595455 341.610918 \nL 227.440909 342.918018 \nL 229.639091 343.963698 \nL 232.006364 344.399398 \nL 231.245455 345.270798 \nL 229.639091 345.357939 \nL 228.776863 344.742399 \nL 227.758056 344.695692 \nL 225.947245 344.694803 \nL 225.946128 340.802904 \n\" style=\"fill:#ffffff;stroke:#000000;\"/>\n    <path clip-path=\"url(#p520653cbdf)\" d=\"M 244.561138 301.72919 \nL 244.138742 303.123885 \nL 243.686419 304.915393 \nL 243.702978 306.651332 \nL 243.336112 307.039318 \nL 243.205129 308.165629 \nL 243.089525 309.075433 \nL 245.236324 310.568205 \nL 245.005466 311.769628 \nL 246.062067 312.529029 \nL 245.976172 313.380292 \nL 244.351426 315.615083 \nL 241.844314 316.549833 \nL 238.453047 316.912692 \nL 236.595564 316.737162 \nL 236.950982 317.776564 \nL 236.604739 319.081017 \nL 236.916773 319.95993 \nL 235.902552 320.57316 \nL 234.169891 320.813715 \nL 232.543921 320.17914 \nL 231.891322 320.635122 \nL 232.127161 322.366919 \nL 233.268783 322.891528 \nL 234.194488 322.341972 \nL 234.698191 323.247272 \nL 233.141295 323.788272 \nL 231.783495 324.871985 \nL 231.534899 326.625216 \nL 231.135091 327.558345 \nL 229.537694 327.563299 \nL 228.212312 328.45608 \nL 227.72744 329.762966 \nL 229.390415 331.03896 \nL 231.006991 331.391371 \nL 230.425214 332.954933 \nL 228.428097 333.937956 \nL 227.329161 335.981096 \nL 225.78594 336.668717 \nL 225.093016 337.484856 \nL 225.639141 339.294918 \nL 226.764554 340.303789 \nL 226.051751 340.215708 \nL 224.484588 339.942641 \nL 220.398604 339.709562 \nL 219.697553 338.693394 \nL 219.730408 337.38813 \nL 218.604646 337.500437 \nL 218.008932 336.868384 \nL 217.861172 335.020408 \nL 219.158418 334.253892 \nL 219.694583 333.148295 \nL 219.498108 332.266951 \nL 220.394454 330.779132 \nL 221.012057 328.471481 \nL 220.830612 327.44838 \nL 221.568756 327.118214 \nL 221.387791 326.461664 \nL 220.603511 326.112495 \nL 221.160778 325.381284 \nL 220.397556 324.720681 \nL 220.002772 322.710054 \nL 220.682677 322.355391 \nL 220.397032 320.230835 \nL 220.794349 318.445902 \nL 221.246236 316.891077 \nL 222.25884 316.258394 \nL 221.74487 314.557128 \nL 221.739365 312.956011 \nL 223.019572 311.817901 \nL 222.980207 310.361964 \nL 223.945277 308.660789 \nL 223.949559 307.05796 \nL 223.510561 306.739592 \nL 222.731611 303.731171 \nL 223.773313 301.938403 \nL 223.613451 300.250647 \nL 224.217816 298.666822 \nL 225.325185 297.032202 \nL 226.518448 295.948399 \nL 226.012429 295.264471 \nL 226.365489 294.703476 \nL 226.311969 291.799167 \nL 228.153724 290.939528 \nL 228.734059 289.128837 \nL 228.528716 288.692398 \nL 229.937808 287.117579 \nL 232.150273 287.54204 \nL 233.14431 288.800742 \nL 233.804074 287.398752 \nL 235.732335 287.470801 \nL 236.005267 287.843837 \nL 239.113991 290.687535 \nL 240.496476 290.952587 \nL 242.562492 292.239928 \nL 244.303978 292.921155 \nL 244.54672 293.690282 \nL 242.881997 296.339447 \nL 244.587134 296.813802 \nL 246.486123 297.079754 \nL 247.823389 296.799752 \nL 249.357129 295.464678 \nL 249.633599 293.926604 \nL 250.471007 293.592655 \nL 251.319337 294.598644 \nL 251.284866 295.990458 \nL 249.861137 296.951236 \nL 248.725589 297.660832 \nL 246.817206 299.352822 \nL 244.561138 301.72919 \n\" style=\"fill:#ffffff;stroke:#000000;\"/>\n    <path clip-path=\"url(#p520653cbdf)\" d=\"M 220.747775 217.619396 \nL 220.782553 217.145941 \nL 220.347356 216.622683 \nL 220.759616 216.328991 \nL 220.888851 215.659022 \nL 220.740916 214.709862 \nL 220.952376 214.412794 \nL 222.272297 214.420854 \nL 223.273892 214.869452 \nL 223.719531 214.825682 \nL 224.026541 215.44391 \nL 224.951678 215.409146 \nL 224.897197 215.928532 \nL 225.64954 215.991485 \nL 226.480569 216.630878 \nL 225.852611 217.340294 \nL 225.048364 216.961225 \nL 224.272166 217.03431 \nL 223.715948 216.951363 \nL 223.411079 217.269236 \nL 222.761932 217.376634 \nL 222.504641 216.95384 \nL 221.945539 217.204031 \nL 221.268736 218.397439 \nL 220.833408 218.120319 \nL 220.747775 217.619396 \n\" style=\"fill:#ffffff;stroke:#000000;\"/>\n    <path clip-path=\"url(#p520653cbdf)\" d=\"M 380.14376 163.521583 \nL 379.674878 163.975314 \nL 379.344756 164.677885 \nL 378.983963 164.856162 \nL 377.173097 164.326554 \nL 376.618932 164.432872 \nL 376.222401 164.842923 \nL 375.428378 165.060557 \nL 375.245578 164.949151 \nL 374.422108 165.219696 \nL 373.750242 165.271302 \nL 373.614104 165.621281 \nL 372.194788 165.834818 \nL 371.571418 165.644787 \nL 370.711073 165.198577 \nL 370.542517 164.594668 \nL 370.678305 164.373386 \nL 370.917902 163.989994 \nL 371.667012 164.019534 \nL 372.24442 163.83923 \nL 372.29012 163.677119 \nL 372.613863 163.594353 \nL 372.724661 163.197811 \nL 373.112716 163.122024 \nL 373.374769 162.808294 \nL 373.878953 162.806178 \nL 373.974372 162.911415 \nL 374.669568 162.674868 \nL 375.522311 163.292601 \nL 376.521329 162.91907 \nL 377.319634 163.098023 \nL 378.536839 162.851704 \nL 380.14376 163.521583 \n\" style=\"fill:#ffffff;stroke:#000000;\"/>\n    <path clip-path=\"url(#p520653cbdf)\" d=\"M 214.550732 249.333183 \nL 214.786614 250.65664 \nL 214.26028 251.789796 \nL 212.416515 253.614626 \nL 210.383179 254.301887 \nL 209.347025 255.818256 \nL 209.027083 256.994101 \nL 208.071057 257.710993 \nL 207.361399 256.831 \nL 206.678392 256.642591 \nL 205.979482 256.781376 \nL 205.933738 256.142748 \nL 206.41612 255.727744 \nL 206.21567 255.002207 \nL 207.115686 253.699734 \nL 206.75 252.938623 \nL 206.103693 253.747917 \nL 205.090869 252.984194 \nL 205.434055 252.492908 \nL 205.14854 250.911154 \nL 205.740847 250.648354 \nL 206.052051 249.56266 \nL 206.691936 248.440221 \nL 206.57406 247.729004 \nL 207.500421 247.355158 \nL 208.662926 246.661547 \nL 210.354169 247.656684 \nL 210.669436 247.628855 \nL 211.08139 248.378619 \nL 212.516303 248.620435 \nL 212.996632 248.343135 \nL 213.826612 248.92043 \nL 214.550732 249.333183 \n\" style=\"fill:#ffffff;stroke:#000000;\"/>\n    <path clip-path=\"url(#p520653cbdf)\" d=\"M 338.330873 187.77673 \nL 338.968224 188.892955 \nL 339.068886 189.952936 \nL 339.652935 191.792807 \nL 340.098486 192.16314 \nL 339.788461 192.840449 \nL 337.575559 193.134186 \nL 336.810633 193.778757 \nL 335.832413 193.930736 \nL 335.7598 195.221005 \nL 333.78278 195.910743 \nL 333.136036 196.783441 \nL 331.752022 197.251807 \nL 330.063488 197.517534 \nL 327.332858 198.803615 \nL 327.347276 200.868594 \nL 327.089854 200.868594 \nL 327.128651 201.802264 \nL 326.083409 201.858418 \nL 325.538419 202.254959 \nL 324.77061 202.254959 \nL 324.158774 202.028634 \nL 322.736225 202.215782 \nL 322.185556 203.574003 \nL 321.657081 203.70162 \nL 320.862009 205.898856 \nL 318.511395 207.779524 \nL 317.953298 210.186063 \nL 317.260592 210.968969 \nL 317.057477 211.59697 \nL 313.249537 211.73616 \nL 313.220003 211.733413 \nL 313.299781 210.92574 \nL 313.949278 210.450844 \nL 314.502569 209.542662 \nL 314.393518 208.952848 \nL 314.974858 207.723146 \nL 315.91603 206.615116 \nL 316.485312 206.334304 \nL 316.932873 205.317778 \nL 316.97298 204.389332 \nL 317.583374 203.312013 \nL 318.709748 202.676808 \nL 319.781553 200.896964 \nL 319.812545 200.872565 \nL 320.662694 200.203264 \nL 322.2351 200.010757 \nL 323.567473 198.819556 \nL 324.415235 198.355198 \nL 325.826774 196.899981 \nL 325.404203 194.731655 \nL 326.046622 193.232218 \nL 326.273374 192.314489 \nL 327.360995 191.137112 \nL 329.05748 190.340967 \nL 330.311516 189.620473 \nL 331.441385 187.815997 \nL 331.972919 186.745704 \nL 333.217649 186.75408 \nL 334.237026 187.493846 \nL 335.844995 187.373344 \nL 337.596356 187.758087 \nL 338.330873 187.77673 \n\" style=\"fill:#ffffff;stroke:#000000;\"/>\n    <path clip-path=\"url(#p520653cbdf)\" d=\"M 384.272727 210.726615 \nL 384.272727 214.206918 \nL 382.328182 214.212216 \nL 382.307316 214.943373 \nL 375.563294 211.606573 \nL 368.819255 208.269755 \nL 367.112198 209.222666 \nL 365.916 209.870397 \nL 364.964954 208.913221 \nL 362.290073 208.161791 \nL 361.548041 207.070378 \nL 360.213397 206.260634 \nL 359.422868 206.579947 \nL 358.821606 205.608092 \nL 358.75808 204.8613 \nL 357.758277 203.591025 \nL 358.429356 202.862741 \nL 358.281858 201.76696 \nL 358.496726 200.813116 \nL 358.374569 200.018547 \nL 358.67236 198.596743 \nL 358.580436 197.786953 \nL 358.033437 196.248204 \nL 358.858393 195.844277 \nL 359.004754 195.107933 \nL 358.824926 194.385998 \nL 359.986033 193.714408 \nL 360.506644 193.156026 \nL 361.330901 192.655688 \nL 361.426495 191.317056 \nL 363.412506 191.916955 \nL 364.122603 191.767004 \nL 365.535223 192.057808 \nL 367.778974 192.836631 \nL 368.570844 194.385666 \nL 370.088739 194.723909 \nL 372.472025 195.453463 \nL 374.273384 196.319948 \nL 375.097922 195.867814 \nL 375.908392 195.06623 \nL 375.514376 193.731193 \nL 376.044713 192.883477 \nL 377.263097 192.066801 \nL 378.427221 191.829083 \nL 380.714649 192.185695 \nL 381.291316 192.964883 \nL 381.920893 192.972255 \nL 382.459227 193.26956 \nL 384.139382 193.474008 \nL 384.551423 194.049498 \nL 383.939398 194.885798 \nL 384.201067 195.631176 \nL 383.765573 196.707198 \nL 384.272727 198.111086 \nL 384.272727 204.308753 \nL 384.272727 210.726615 \n\" style=\"fill:#ffffff;stroke:#000000;\"/>\n    <path clip-path=\"url(#p520653cbdf)\" d=\"M 435.352286 209.492138 \nL 435.3965 208.790377 \nL 435.889149 208.069073 \nL 435.893868 207.35673 \nL 436.659143 207.013504 \nL 436.359692 206.771148 \nL 436.498539 205.636191 \nL 437.361942 205.629391 \nL 438.119965 206.819827 \nL 439.06402 207.4526 \nL 440.304294 207.680321 \nL 441.305758 207.997969 \nL 442.068848 208.997068 \nL 442.524711 209.575895 \nL 443.129993 209.796636 \nL 443.12676 210.185432 \nL 442.511341 211.224114 \nL 442.241162 211.713239 \nL 441.528839 212.270676 \nL 440.897867 213.464579 \nL 440.130757 213.373166 \nL 439.779139 213.788711 \nL 439.507561 214.672306 \nL 439.715439 215.837255 \nL 439.55597 216.051376 \nL 438.777937 216.045657 \nL 437.721773 216.696984 \nL 437.556974 217.545995 \nL 437.170317 217.913807 \nL 436.118522 217.899758 \nL 435.456443 218.338628 \nL 435.464831 219.042641 \nL 434.646604 219.526542 \nL 433.713646 219.362225 \nL 432.582859 219.950102 \nL 431.801768 220.048765 \nL 431.249875 218.831086 \nL 429.927289 215.95501 \nL 434.999969 214.212226 \nL 436.12726 210.726613 \nL 435.352286 209.492138 \n\" style=\"fill:#ffffff;stroke:#000000;\"/>\n    <path clip-path=\"url(#p520653cbdf)\" d=\"M 437.132307 204.252798 \nL 436.810661 203.658751 \nL 437.303048 203.065379 \nL 437.512148 203.216683 \nL 437.352767 203.936681 \nL 437.132307 204.252798 \n\" style=\"fill:#ffffff;stroke:#000000;\"/>\n    <path clip-path=\"url(#p520653cbdf)\" d=\"M 408.28739 257.218898 \nL 405.860395 255.476708 \nL 405.745058 254.465657 \nL 399.613703 250.915276 \nL 399.328093 250.723882 \nL 399.310944 248.876839 \nL 399.795273 248.17068 \nL 400.627369 247.01705 \nL 401.242674 245.746723 \nL 400.498809 243.746163 \nL 400.301074 242.871521 \nL 399.499364 241.661521 \nL 400.539605 240.620655 \nL 401.685721 239.472363 \nL 402.564048 239.764749 \nL 402.564048 240.742925 \nL 403.141715 241.316483 \nL 404.318612 241.316483 \nL 406.459002 242.796572 \nL 406.993422 242.814166 \nL 407.389382 242.766134 \nL 407.763699 242.967131 \nL 408.891322 243.104255 \nL 409.39108 242.377977 \nL 410.935793 241.649086 \nL 411.617771 242.238031 \nL 412.773141 242.238341 \nL 411.29523 244.21536 \nL 411.315436 250.56405 \nL 412.316674 252.00179 \nL 411.132429 252.697691 \nL 410.71491 253.424857 \nL 410.08114 253.552604 \nL 409.841285 254.780564 \nL 409.298283 255.483749 \nL 408.968269 256.643356 \nL 408.28739 257.218898 \n\" style=\"fill:#ffffff;stroke:#000000;\"/>\n    <path clip-path=\"url(#p520653cbdf)\" d=\"M 228.918213 246.883865 \nL 228.5991 247.098662 \nL 228.269459 246.070608 \nL 227.799703 245.517854 \nL 227.240426 246.118611 \nL 223.945845 246.079659 \nL 223.966773 247.170171 \nL 224.957576 247.350384 \nL 224.90043 248.017922 \nL 224.562312 247.837528 \nL 223.610043 248.124645 \nL 223.601436 249.390912 \nL 224.351508 250.026748 \nL 224.616269 251.024722 \nL 224.576337 251.78052 \nL 223.816217 256.559103 \nL 222.970071 255.632639 \nL 222.465101 255.5913 \nL 223.555693 253.817625 \nL 222.26085 253.001486 \nL 221.246017 253.151259 \nL 220.635405 252.849732 \nL 219.70367 253.310578 \nL 218.44461 253.092268 \nL 217.448476 251.265006 \nL 216.665768 250.815959 \nL 216.126021 249.993335 \nL 215.001526 249.16792 \nL 214.550732 249.333183 \nL 213.826612 248.92043 \nL 212.996632 248.343135 \nL 212.516303 248.620435 \nL 211.08139 248.378619 \nL 210.669436 247.628855 \nL 210.354169 247.656684 \nL 208.662926 246.661547 \nL 208.43351 246.120502 \nL 209.064394 245.989732 \nL 208.989509 245.116674 \nL 209.386041 244.485432 \nL 210.224846 244.368577 \nL 210.936907 243.273381 \nL 211.584088 242.359075 \nL 210.960849 241.944341 \nL 211.279874 240.932858 \nL 210.898372 239.338495 \nL 211.260913 238.880937 \nL 210.99401 237.406942 \nL 210.309343 236.478631 \nL 210.526046 235.631511 \nL 211.071036 235.756606 \nL 211.389842 235.238617 \nL 210.997287 234.212093 \nL 211.202499 233.957264 \nL 212.076169 234.012607 \nL 213.344842 232.796008 \nL 214.041131 232.610526 \nL 214.057864 232.034086 \nL 214.369462 230.561442 \nL 215.33925 229.752688 \nL 216.404764 229.71959 \nL 216.539242 229.356327 \nL 217.862308 229.501776 \nL 219.192933 228.621738 \nL 219.851779 228.232086 \nL 220.670357 227.392486 \nL 221.269391 227.499254 \nL 221.71302 227.957713 \nL 221.384777 228.54451 \nL 220.298642 228.836626 \nL 219.869736 229.707972 \nL 219.215215 230.20768 \nL 218.723789 230.855359 \nL 218.51696 232.098976 \nL 218.047991 233.118114 \nL 218.920875 233.234834 \nL 219.137709 234.036068 \nL 219.510778 234.419505 \nL 219.644295 235.121221 \nL 219.443452 235.766288 \nL 219.502958 236.130047 \nL 219.91915 236.275317 \nL 220.321885 236.883233 \nL 222.496296 236.715628 \nL 223.47858 236.937676 \nL 224.668698 238.437383 \nL 225.352098 238.251 \nL 226.570002 238.344304 \nL 227.533762 238.145538 \nL 228.131748 238.445038 \nL 227.827228 239.383706 \nL 227.449877 239.968837 \nL 227.317452 241.218759 \nL 227.657623 242.376772 \nL 228.138301 242.894627 \nL 228.196453 243.284819 \nL 227.339559 244.152383 \nL 227.953099 244.536452 \nL 228.402539 245.145809 \nL 228.918213 246.883865 \n\" style=\"fill:#ffffff;stroke:#000000;\"/>\n    <path clip-path=\"url(#p520653cbdf)\" d=\"M 454.476917 183.95235 \nL 455.41905 183.963923 \nL 456.694363 184.331915 \nL 457.211042 184.544326 \nL 458.435063 183.984502 \nL 459.004607 184.321198 \nL 459.549946 183.523251 \nL 460.56076 183.559456 \nL 460.821153 183.303365 \nL 460.999932 182.600614 \nL 461.727896 181.994319 \nL 462.643204 182.39059 \nL 462.459356 182.92326 \nL 462.970879 183.006027 \nL 462.813245 184.470205 \nL 463.482752 185.040926 \nL 464.071869 184.674735 \nL 464.822377 184.501726 \nL 465.876094 183.721477 \nL 467.040522 183.849905 \nL 468.784368 183.852652 \nL 469.085392 184.352764 \nL 468.101055 184.548288 \nL 467.241497 184.870124 \nL 465.301133 185.072583 \nL 463.485548 185.438683 \nL 462.498153 186.197768 \nL 462.897917 186.936409 \nL 463.091202 187.803208 \nL 462.249032 188.53532 \nL 462.319635 189.204929 \nL 461.854685 189.832434 \nL 460.246191 189.777946 \nL 460.910805 190.930961 \nL 459.834631 191.371948 \nL 459.116628 192.423824 \nL 459.210038 193.470431 \nL 458.548745 193.960547 \nL 457.92354 193.798256 \nL 456.631275 194.025481 \nL 456.446466 194.513075 \nL 455.18758 194.510013 \nL 454.24501 195.496459 \nL 454.185854 196.979505 \nL 451.98833 197.704096 \nL 450.810708 197.550992 \nL 450.46844 197.933033 \nL 449.457714 197.710806 \nL 447.766122 197.971805 \nL 444.93282 197.081815 \nL 446.466429 195.501773 \nL 446.327932 194.380009 \nL 445.047288 194.086228 \nL 444.914907 192.97982 \nL 444.361004 191.588457 \nL 445.084075 190.634163 \nL 444.348072 190.376902 \nL 444.812672 189.108743 \nL 445.501927 186.937265 \nL 447.226374 187.598498 \nL 448.501338 187.366049 \nL 448.854529 186.576343 \nL 450.18926 186.313543 \nL 451.142228 185.78353 \nL 451.479778 184.389735 \nL 452.904948 184.052679 \nL 453.169885 183.432334 \nL 453.967578 183.898313 \nL 454.476917 183.95235 \n\" style=\"fill:#ffffff;stroke:#000000;\"/>\n    <path clip-path=\"url(#p520653cbdf)\" d=\"M 327.315469 201.322911 \nL 327.348062 200.985269 \nL 327.347276 200.868594 \nL 327.332858 198.803615 \nL 330.063488 197.517534 \nL 331.752022 197.251807 \nL 333.136036 196.783441 \nL 333.78278 195.910743 \nL 335.7598 195.221005 \nL 335.832413 193.930736 \nL 336.810633 193.778757 \nL 337.575559 193.134186 \nL 339.788461 192.840449 \nL 340.098486 192.16314 \nL 339.652935 191.792807 \nL 339.068886 189.952936 \nL 338.968224 188.892955 \nL 338.330873 187.77673 \nL 339.956362 186.824373 \nL 341.784486 186.52145 \nL 342.852009 185.802352 \nL 344.480426 185.271889 \nL 347.346145 184.961221 \nL 350.143009 184.819824 \nL 350.995839 185.078662 \nL 352.588168 184.391761 \nL 354.395015 184.378297 \nL 355.082696 184.7838 \nL 356.239085 184.677977 \nL 355.895594 185.57247 \nL 356.163676 187.233883 \nL 355.76566 188.671223 \nL 354.723214 189.643304 \nL 354.872285 190.956088 \nL 356.255163 191.99441 \nL 356.269756 192.416259 \nL 357.312201 193.119641 \nL 358.033437 196.248204 \nL 358.580436 197.786953 \nL 358.67236 198.596743 \nL 358.374569 200.018547 \nL 358.496726 200.813116 \nL 358.281858 201.76696 \nL 358.429356 202.862741 \nL 357.758277 203.591025 \nL 358.75808 204.8613 \nL 358.821606 205.608092 \nL 359.422868 206.579947 \nL 360.213397 206.260634 \nL 361.548041 207.070378 \nL 362.290073 208.161791 \nL 356.495983 211.483582 \nL 351.600248 214.907232 \nL 349.215818 215.68442 \nL 347.340116 215.855042 \nL 347.320718 214.746247 \nL 346.537704 214.462778 \nL 345.484948 213.964331 \nL 345.082912 213.147697 \nL 339.378998 209.345157 \nL 333.675084 205.542527 \nL 327.315469 201.322911 \n\" style=\"fill:#ffffff;stroke:#000000;\"/>\n    <path clip-path=\"url(#p520653cbdf)\" d=\"M 363.974238 257.40073 \nL 363.358907 257.767011 \nL 363.082262 258.215068 \nL 363.029309 258.974828 \nL 362.599224 259.158914 \nL 362.147119 257.848427 \nL 362.829646 257.095961 \nL 363.340557 256.80281 \nL 363.974238 257.40073 \n\" style=\"fill:#ffffff;stroke:#000000;\"/>\n    <path clip-path=\"url(#p520653cbdf)\" d=\"M 362.836112 259.699465 \nL 363.534017 259.465214 \nL 364.02387 259.497817 \nL 364.616919 259.288423 \nL 369.606675 259.311479 \nL 370.023741 260.610169 \nL 370.50905 261.655245 \nL 370.89763 262.218851 \nL 371.545204 263.130095 \nL 372.66332 262.989149 \nL 373.221242 262.744001 \nL 374.155598 262.990139 \nL 374.409001 262.554331 \nL 374.833231 261.538705 \nL 375.881968 261.470618 \nL 375.973106 261.168641 \nL 376.83581 261.162067 \nL 376.688574 261.789977 \nL 378.74026 261.774757 \nL 378.77128 262.871348 \nL 379.113985 263.543749 \nL 378.864864 264.594318 \nL 378.988944 265.666143 \nL 379.552983 266.312876 \nL 379.462544 268.386817 \nL 379.881095 268.226957 \nL 380.615875 268.269736 \nL 381.663301 268.008738 \nL 382.433382 268.111498 \nL 382.612074 268.652589 \nL 382.419751 269.497818 \nL 382.716931 270.315218 \nL 382.465014 270.967985 \nL 382.609104 271.569597 \nL 379.088208 271.547622 \nL 379.010352 277.092991 \nL 380.1511 278.518848 \nL 381.254536 279.607514 \nL 378.146861 280.317741 \nL 374.053189 280.071062 \nL 372.881596 279.236009 \nL 366.027322 279.311211 \nL 365.771648 279.433695 \nL 364.76363 278.645655 \nL 363.667446 278.593599 \nL 362.655235 278.890443 \nL 361.841464 279.22196 \nL 361.682344 278.126179 \nL 361.916436 276.593689 \nL 362.499873 274.998156 \nL 362.587865 274.250194 \nL 363.136525 272.679157 \nL 363.539609 271.964968 \nL 364.510927 270.824697 \nL 365.053383 270.049175 \nL 365.230939 268.758141 \nL 365.142423 267.770344 \nL 364.636754 267.147297 \nL 364.186397 266.089973 \nL 363.771079 265.044357 \nL 363.861867 264.682128 \nL 364.381604 263.991175 \nL 363.868596 262.307472 \nL 363.522395 261.140812 \nL 362.675332 260.038187 \nL 362.836112 259.699465 \n\" style=\"fill:#ffffff;stroke:#000000;\"/>\n    <path clip-path=\"url(#p520653cbdf)\" d=\"M 420.466553 176.113425 \nL 420.941901 176.171875 \nL 422.10397 177.23046 \nL 422.851944 177.349521 \nL 423.142133 176.906148 \nL 424.151725 176.203713 \nL 425.040991 177.12144 \nL 425.901074 178.357717 \nL 426.688894 178.439223 \nL 427.209679 178.909075 \nL 425.817014 179.049301 \nL 425.522893 180.402793 \nL 425.232004 181.013231 \nL 424.611955 181.420581 \nL 424.65713 182.283687 \nL 424.236308 182.370596 \nL 423.181804 181.458001 \nL 423.764804 180.59575 \nL 423.265252 180.08429 \nL 422.631134 180.213033 \nL 420.636944 181.498799 \nL 420.599371 180.290081 \nL 419.840212 180.004495 \nL 419.122384 179.530501 \nL 419.599043 178.97545 \nL 418.698241 178.377621 \nL 419.038412 177.940551 \nL 418.39442 177.638935 \nL 418.044375 177.180971 \nL 418.458557 176.896331 \nL 419.718579 177.397524 \nL 420.630041 177.501095 \nL 420.860463 177.29679 \nL 420.02773 176.353709 \nL 420.466553 176.113425 \n\" style=\"fill:#ffffff;stroke:#000000;\"/>\n    <path clip-path=\"url(#p520653cbdf)\" d=\"M 420.024672 181.550044 \nL 418.864875 181.31836 \nL 418.010909 180.513839 \nL 417.742564 179.856389 \nL 418.09427 179.809332 \nL 418.595045 180.276842 \nL 419.342145 180.272924 \nL 419.334369 180.541803 \nL 420.024672 181.550044 \n\" style=\"fill:#ffffff;stroke:#000000;\"/>\n    <path clip-path=\"url(#p520653cbdf)\" d=\"M 208.452 202.378602 \nL 209.246727 202.239178 \nL 210.362727 202.291462 \nL 210.413455 202.74459 \nL 208.570364 203.023438 \nL 208.452 202.378602 \n\" style=\"fill:#ffffff;stroke:#000000;\"/>\n    <path clip-path=\"url(#p520653cbdf)\" d=\"M 210.464182 201.942902 \nL 211.8 202.727162 \nL 211.508234 203.965979 \nL 211.197343 203.742604 \nL 211.225091 202.83173 \nL 210.46753 202.143045 \nL 210.464182 201.942902 \n\" style=\"fill:#ffffff;stroke:#000000;\"/>\n    <path clip-path=\"url(#p520653cbdf)\" d=\"M 209.786347 205.131703 \nL 210.295091 205.201938 \nL 210.886909 206.648463 \nL 210.895939 207.659722 \nL 210.481091 207.746427 \nL 210.051515 206.742312 \nL 209.418388 206.237789 \nL 209.786347 205.131703 \n\" style=\"fill:#ffffff;stroke:#000000;\"/>\n    <path clip-path=\"url(#p520653cbdf)\" d=\"M 346.551423 238.160353 \nL 345.153952 238.363668 \nL 344.737498 237.161344 \nL 344.81448 233.158912 \nL 344.473872 232.799836 \nL 344.409648 231.94452 \nL 343.822453 231.334172 \nL 343.305949 230.819694 \nL 343.521079 229.902055 \nL 344.102594 229.70482 \nL 344.447047 228.942853 \nL 345.273576 228.780022 \nL 345.643019 228.258925 \nL 346.21064 227.748455 \nL 346.816796 227.743952 \nL 348.106178 228.746879 \nL 348.040293 229.325886 \nL 348.420572 230.359704 \nL 348.087391 231.061285 \nL 348.265559 231.530056 \nL 347.445322 232.60895 \nL 346.924449 233.143196 \nL 346.605686 234.242489 \nL 346.648415 235.351104 \nL 346.551423 238.160353 \n\" style=\"fill:#ffffff;stroke:#000000;\"/>\n    <path clip-path=\"url(#p520653cbdf)\" d=\"M 497.05071 200.667622 \nL 497.739004 201.223798 \nL 497.620254 202.294406 \nL 496.240521 202.346102 \nL 494.812992 202.229202 \nL 493.749838 202.501638 \nL 492.212996 201.840135 \nL 492.17682 201.490966 \nL 493.295461 200.195293 \nL 494.208583 199.75318 \nL 495.417051 200.156612 \nL 496.310426 200.199031 \nL 497.05071 200.667622 \n\" style=\"fill:#ffffff;stroke:#000000;\"/>\n    <path clip-path=\"url(#p520653cbdf)\" d=\"M 224.431635 268.154908 \nL 225.688861 268.302429 \nL 226.559517 268.264333 \nL 226.936693 267.737202 \nL 228.415209 267.030938 \nL 229.306137 266.376549 \nL 231.518646 266.081417 \nL 231.33873 267.387582 \nL 231.546608 268.057551 \nL 231.410688 269.225921 \nL 233.246894 270.786961 \nL 235.140466 271.074618 \nL 235.805734 271.725764 \nL 236.948754 272.071061 \nL 237.648582 272.577207 \nL 238.712304 272.560096 \nL 239.694413 273.07696 \nL 239.768992 274.08439 \nL 240.098503 274.593239 \nL 240.120785 275.344804 \nL 239.627349 275.373893 \nL 240.277632 277.403164 \nL 243.519392 277.475123 \nL 243.271101 278.481653 \nL 243.452459 279.169364 \nL 244.376111 279.658669 \nL 244.775482 280.742201 \nL 244.475112 282.114922 \nL 244.011823 282.878555 \nL 244.174481 283.871936 \nL 243.645918 284.232182 \nL 243.617039 283.694874 \nL 242.041837 282.803443 \nL 240.471791 282.778767 \nL 237.524939 283.285904 \nL 236.71392 284.819565 \nL 236.671279 285.757017 \nL 236.005267 287.843837 \nL 235.732335 287.470801 \nL 233.804074 287.398752 \nL 233.14431 288.800742 \nL 232.150273 287.54204 \nL 229.937808 287.117579 \nL 228.528716 288.692398 \nL 227.308714 288.931152 \nL 226.646329 286.528576 \nL 225.737881 284.573696 \nL 226.270419 282.887381 \nL 225.38338 282.149505 \nL 225.157764 280.891974 \nL 224.32892 279.706672 \nL 225.395526 277.825643 \nL 224.668217 276.3607 \nL 225.056141 275.774848 \nL 224.75315 275.128655 \nL 225.413701 274.258029 \nL 225.446949 272.774983 \nL 225.530047 271.549874 \nL 225.893592 270.96006 \nL 224.431635 268.154908 \n\" style=\"fill:#ffffff;stroke:#000000;\"/>\n    <path clip-path=\"url(#p520653cbdf)\" d=\"M 391.767155 287.568968 \nL 389.374599 288.852438 \nL 387.856456 290.153559 \nL 387.293379 291.314905 \nL 386.785001 291.969563 \nL 385.864975 292.109069 \nL 385.567708 292.94295 \nL 385.396618 293.486653 \nL 384.315288 293.892471 \nL 382.939051 293.806282 \nL 382.131309 293.318147 \nL 381.418636 293.106502 \nL 380.593768 293.510429 \nL 380.179935 294.345211 \nL 379.379184 294.86946 \nL 378.533606 295.647233 \nL 377.32243 295.825015 \nL 376.945122 295.213135 \nL 377.100921 294.151218 \nL 376.098409 292.495253 \nL 375.641935 292.233534 \nL 375.64141 287.146939 \nL 377.308099 287.086238 \nL 377.357993 280.878194 \nL 378.616705 280.820555 \nL 381.223779 280.210387 \nL 381.869955 280.928809 \nL 382.949362 280.245781 \nL 383.462283 280.241909 \nL 384.415513 279.84924 \nL 384.719509 279.979469 \nL 385.370404 281.372813 \nL 385.710662 281.683706 \nL 386.242283 282.692217 \nL 388.155908 284.606569 \nL 388.880027 284.793987 \nL 388.884222 285.408748 \nL 389.381589 286.513986 \nL 390.689146 286.781469 \nL 391.767155 287.568968 \n\" style=\"fill:#ffffff;stroke:#000000;\"/>\n    <path clip-path=\"url(#p520653cbdf)\" d=\"M 537.216656 239.573917 \nL 537.140548 240.43225 \nL 537.04207 241.545187 \nL 536.233979 241.489979 \nL 535.878953 242.083711 \nL 535.10861 241.180527 \nL 535.778117 240.528481 \nL 537.216656 239.573917 \n\" style=\"fill:#ffffff;stroke:#000000;\"/>\n    <path clip-path=\"url(#p520653cbdf)\" d=\"M 332.86175 230.994099 \nL 332.749772 229.982345 \nL 333.210921 229.243614 \nL 333.171862 228.653305 \nL 334.514065 227.208895 \nL 334.762224 226.013687 \nL 335.225557 225.58837 \nL 336.043261 225.823341 \nL 336.751914 225.468498 \nL 336.981898 225.020801 \nL 338.293824 224.239561 \nL 338.616432 223.694778 \nL 340.196876 222.971853 \nL 341.127737 222.723778 \nL 341.549783 223.058132 \nL 342.633909 223.050116 \nL 342.499911 223.894805 \nL 342.726968 224.688654 \nL 343.67915 225.826673 \nL 343.731665 226.670056 \nL 345.681291 227.065337 \nL 345.643019 228.258925 \nL 345.273576 228.780022 \nL 344.447047 228.942853 \nL 344.102594 229.70482 \nL 343.521079 229.902055 \nL 342.040248 229.86486 \nL 341.258196 229.72603 \nL 340.712244 230.007338 \nL 339.965232 229.880306 \nL 337.028035 229.962442 \nL 336.988321 230.951229 \nL 337.218961 232.263338 \nL 336.061698 231.81393 \nL 335.269422 231.880126 \nL 334.677946 232.318456 \nL 333.917651 231.950464 \nL 333.622132 231.374069 \nL 332.86175 230.994099 \n\" style=\"fill:#ffffff;stroke:#000000;\"/>\n    <path clip-path=\"url(#p520653cbdf)\" d=\"M 393.521448 253.275089 \nL 393.619498 253.961343 \nL 393.983635 254.356418 \nL 393.999242 254.922828 \nL 393.582095 255.287544 \nL 392.923959 256.196484 \nL 392.310485 256.827847 \nL 391.611269 256.910794 \nL 391.503704 254.808844 \nL 391.078512 254.016481 \nL 392.105316 254.153465 \nL 392.623043 253.161165 \nL 393.521448 253.275089 \n\" style=\"fill:#ffffff;stroke:#000000;\"/>\n    <path clip-path=\"url(#p520653cbdf)\" d=\"M 366.511059 226.656862 \nL 367.183318 227.772858 \nL 367.296257 228.929164 \nL 367.234392 230.086817 \nL 368.154767 231.671002 \nL 367.210362 231.653936 \nL 366.733266 231.778041 \nL 365.962661 231.602961 \nL 365.595315 232.425359 \nL 366.593371 233.442516 \nL 367.329811 233.738369 \nL 367.568009 234.459808 \nL 368.101028 235.661186 \nL 367.836179 236.13329 \nL 366.985795 237.89949 \nL 366.580002 238.215876 \nL 366.449543 239.566892 \nL 366.617837 240.300895 \nL 366.481612 240.820236 \nL 367.280703 241.730354 \nL 367.42488 242.356058 \nL 368.049124 243.255459 \nL 368.822438 243.816228 \nL 368.897935 244.611203 \nL 369.076278 245.116179 \nL 368.954645 246.057233 \nL 367.611087 245.645336 \nL 366.243938 245.185481 \nL 364.110027 245.117124 \nL 363.899528 245.022109 \nL 362.898589 245.246588 \nL 361.870998 245.013148 \nL 361.06745 245.127662 \nL 358.315849 245.087899 \nL 358.562786 243.711892 \nL 357.901929 242.559687 \nL 357.13045 242.264105 \nL 356.786871 241.48318 \nL 356.353815 241.233259 \nL 356.373214 240.751609 \nL 356.808192 239.518259 \nL 357.612439 237.836762 \nL 358.10203 237.821091 \nL 359.109086 236.801052 \nL 359.750107 236.772142 \nL 360.699405 237.488313 \nL 361.861037 236.901066 \nL 362.019195 236.176654 \nL 362.399036 235.474713 \nL 362.661002 234.592829 \nL 363.565299 233.874902 \nL 363.906519 232.654926 \nL 364.265214 232.266535 \nL 364.503762 231.36074 \nL 364.950624 230.248478 \nL 366.375095 228.899894 \nL 366.464398 228.320617 \nL 366.648682 228.005851 \nL 365.97935 227.311701 \nL 366.033788 226.756831 \nL 366.511059 226.656862 \n\" style=\"fill:#ffffff;stroke:#000000;\"/>\n    <path clip-path=\"url(#p520653cbdf)\" d=\"M 388.287328 239.946502 \nL 387.729056 240.131399 \nL 386.644668 240.091276 \nL 385.372588 239.907911 \nL 384.74415 240.057233 \nL 384.490573 240.481018 \nL 383.943049 240.533299 \nL 383.275989 240.164631 \nL 381.393471 241.034447 \nL 380.622865 240.859412 \nL 380.390609 240.993739 \nL 379.885027 242.0462 \nL 378.623608 241.706037 \nL 377.386654 241.53447 \nL 376.309694 240.891564 \nL 374.918252 240.299274 \nL 374.012819 240.860493 \nL 373.354497 241.745349 \nL 373.202456 242.960777 \nL 372.114922 242.86351 \nL 370.970417 242.57072 \nL 369.962662 243.494303 \nL 369.076278 245.116179 \nL 368.897935 244.611203 \nL 368.822438 243.816228 \nL 368.049124 243.255459 \nL 367.42488 242.356058 \nL 367.280703 241.730354 \nL 366.481612 240.820236 \nL 366.617837 240.300895 \nL 366.449543 239.566892 \nL 366.580002 238.215876 \nL 366.985795 237.89949 \nL 367.836179 236.13329 \nL 369.234174 236.002295 \nL 369.545859 235.554013 \nL 369.825912 235.588056 \nL 370.248308 235.982706 \nL 372.377063 235.315935 \nL 373.095066 234.635563 \nL 373.976819 234.026296 \nL 373.809398 233.412796 \nL 374.286232 233.252576 \nL 375.919105 233.360875 \nL 377.510559 232.553472 \nL 378.733008 230.651954 \nL 379.590818 229.946411 \nL 380.661225 229.649252 \nL 380.852937 230.395053 \nL 381.828187 231.484665 \nL 381.833168 232.195792 \nL 381.558445 232.921059 \nL 381.667058 233.46269 \nL 382.253466 233.964559 \nL 383.541188 234.726391 \nL 384.467068 235.430628 \nL 384.482621 235.997071 \nL 385.619787 236.904668 \nL 386.324507 237.6588 \nL 386.751447 238.704281 \nL 388.015401 239.394018 \nL 388.287328 239.946502 \n\" style=\"fill:#ffffff;stroke:#000000;\"/>\n    <path clip-path=\"url(#p520653cbdf)\" d=\"M 382.307316 214.943373 \nL 382.390559 221.861645 \nL 380.932489 221.739858 \nL 380.160352 223.023309 \nL 379.713208 224.099436 \nL 380.065779 224.506623 \nL 379.509927 225.04114 \nL 379.70149 225.762939 \nL 379.263561 226.489442 \nL 379.093151 227.129538 \nL 379.686999 227.028682 \nL 380.04143 227.701072 \nL 380.060149 228.71343 \nL 380.681608 229.22712 \nL 380.661225 229.649252 \nL 379.590818 229.946411 \nL 378.733008 230.651954 \nL 377.510559 232.553472 \nL 375.919105 233.360875 \nL 374.286232 233.252576 \nL 373.809398 233.412796 \nL 373.976819 234.026296 \nL 373.095066 234.635563 \nL 372.377063 235.315935 \nL 370.248308 235.982706 \nL 369.825912 235.588056 \nL 369.545859 235.554013 \nL 369.234174 236.002295 \nL 367.836179 236.13329 \nL 368.101028 235.661186 \nL 367.568009 234.459808 \nL 367.329811 233.738369 \nL 366.593371 233.442516 \nL 365.595315 232.425359 \nL 365.962661 231.602961 \nL 366.733266 231.778041 \nL 367.210362 231.653936 \nL 368.154767 231.671002 \nL 367.234392 230.086817 \nL 367.296257 228.929164 \nL 367.183318 227.772858 \nL 366.511059 226.656862 \nL 366.680139 225.83595 \nL 365.595752 225.795827 \nL 365.599509 224.674784 \nL 364.895574 224.029177 \nL 365.625669 221.733497 \nL 367.782527 220.090148 \nL 367.871655 217.823385 \nL 368.523161 214.286842 \nL 368.890944 213.536673 \nL 368.187359 212.939249 \nL 368.160156 212.384977 \nL 367.527465 211.931729 \nL 367.112198 209.222666 \nL 368.819255 208.269755 \nL 375.563294 211.606573 \nL 382.307316 214.943373 \n\" style=\"fill:#ffffff;stroke:#000000;\"/>\n    <path clip-path=\"url(#p520653cbdf)\" d=\"M 373.202456 242.960777 \nL 373.102231 244.013328 \nL 372.595775 244.945242 \nL 372.265304 246.032557 \nL 372.054543 247.57698 \nL 372.143059 248.564686 \nL 371.867462 249.169451 \nL 371.825345 249.808619 \nL 371.631011 250.364569 \nL 370.517701 251.204575 \nL 369.742901 252.10231 \nL 369.008558 253.79538 \nL 369.06518 255.229252 \nL 368.637804 255.787004 \nL 367.652768 256.638087 \nL 366.657857 257.730356 \nL 366.026186 257.421624 \nL 365.917835 256.928266 \nL 364.996761 256.911064 \nL 364.418479 257.578242 \nL 363.974238 257.40073 \nL 363.340557 256.80281 \nL 362.829646 257.095961 \nL 362.147119 257.848427 \nL 360.758561 256.002522 \nL 362.045933 255.040573 \nL 361.40832 253.888143 \nL 361.988175 253.449903 \nL 363.129097 253.236457 \nL 363.263663 252.464088 \nL 364.167174 253.301031 \nL 365.659889 253.374341 \nL 366.178665 252.550817 \nL 366.392134 251.392083 \nL 366.207762 250.031341 \nL 365.407797 249.000675 \nL 366.139868 246.982212 \nL 365.717822 246.635835 \nL 364.459722 246.777862 \nL 363.987083 245.877335 \nL 364.110027 245.117124 \nL 366.243938 245.185481 \nL 367.611087 245.645336 \nL 368.954645 246.057233 \nL 369.076278 245.116179 \nL 369.962662 243.494303 \nL 370.970417 242.57072 \nL 372.114922 242.86351 \nL 373.202456 242.960777 \n\" style=\"fill:#ffffff;stroke:#000000;\"/>\n    <path clip-path=\"url(#p520653cbdf)\" d=\"M 202.421886 232.396359 \nL 201.768021 232.552031 \nL 201.77772 233.253477 \nL 202.129381 233.512494 \nL 201.876634 233.718915 \nL 201.942388 234.034311 \nL 201.801356 234.387714 \nL 201.712403 234.733641 \nL 200.794824 234.346916 \nL 200.451508 233.981085 \nL 200.646234 233.678523 \nL 200.584806 233.293464 \nL 200.116012 232.876208 \nL 199.450612 232.533658 \nL 198.868529 232.31026 \nL 198.757425 231.800466 \nL 198.313883 231.489078 \nL 198.422584 231.995765 \nL 198.085166 232.41221 \nL 197.698683 231.928579 \nL 197.155397 231.756381 \nL 196.924321 231.40514 \nL 196.93402 230.874542 \nL 197.157888 230.325571 \nL 196.680355 230.079927 \nL 197.067886 229.743277 \nL 197.322687 229.519023 \nL 198.43674 229.980544 \nL 198.825538 229.753364 \nL 199.36179 229.898768 \nL 199.642062 230.257394 \nL 200.14109 230.373483 \nL 200.545966 230.00414 \nL 200.974259 230.951049 \nL 201.628038 231.65245 \nL 202.421886 232.396359 \n\" style=\"fill:#ffffff;stroke:#000000;\"/>\n    <path clip-path=\"url(#p520653cbdf)\" d=\"M 370.009585 168.021471 \nL 370.546798 168.236043 \nL 371.810839 168.983465 \nL 373.207524 169.318584 \nL 373.839522 169.058225 \nL 374.250318 169.733319 \nL 374.787532 170.230009 \nL 374.136547 170.885792 \nL 373.371798 170.500014 \nL 372.202652 170.52415 \nL 370.749083 170.234782 \nL 369.959079 170.273419 \nL 369.59252 170.635016 \nL 368.985839 170.234782 \nL 368.631862 170.958158 \nL 369.459789 171.773036 \nL 369.826349 172.313136 \nL 370.603683 172.964102 \nL 371.248286 173.349926 \nL 371.886685 174.07803 \nL 373.383273 174.737789 \nL 373.197301 175.034079 \nL 373.1973 175.03408 \nL 371.607768 174.389238 \nL 370.627101 173.761823 \nL 369.080559 173.243834 \nL 367.658622 171.961175 \nL 367.999842 171.830946 \nL 367.228887 171.097978 \nL 367.197255 170.50965 \nL 366.110246 170.234782 \nL 365.591994 170.987067 \nL 365.092704 170.403558 \nL 365.130627 169.798433 \nL 365.190919 169.770244 \nL 366.369328 169.829775 \nL 366.679003 169.535633 \nL 367.254139 169.820138 \nL 367.917704 169.853911 \nL 367.911413 169.366857 \nL 368.499132 169.188445 \nL 368.663494 168.484433 \nL 370.009585 168.021471 \n\" style=\"fill:#ffffff;stroke:#000000;\"/>\n    <path clip-path=\"url(#p520653cbdf)\" d=\"M 202.892035 208.655104 \nL 204.352463 208.779434 \nL 205.680991 208.799113 \nL 207.269169 209.392844 \nL 207.942215 210.030887 \nL 209.521611 209.834012 \nL 210.120427 210.243522 \nL 211.552413 211.322912 \nL 212.605169 212.10897 \nL 213.161824 212.085014 \nL 214.170278 212.440442 \nL 214.047116 212.931099 \nL 215.293594 213.002878 \nL 216.571703 213.716166 \nL 216.371122 214.124416 \nL 215.246758 214.345653 \nL 214.108632 214.432202 \nL 212.943636 214.294318 \nL 210.52255 214.464084 \nL 211.656089 213.491823 \nL 210.966966 213.039128 \nL 209.876942 212.922633 \nL 209.292675 212.419548 \nL 208.891862 211.427023 \nL 207.936273 211.494885 \nL 206.359542 211.027554 \nL 205.852169 210.661994 \nL 203.648223 210.391899 \nL 203.058014 210.051961 \nL 203.692088 209.616513 \nL 202.033482 209.527307 \nL 200.818461 210.432922 \nL 200.117847 210.457239 \nL 199.875454 210.882465 \nL 199.038658 211.073036 \nL 198.31515 210.907817 \nL 199.207695 210.369429 \nL 199.574124 209.740618 \nL 200.338613 209.353082 \nL 201.202147 209.013369 \nL 202.482353 208.846575 \nL 202.892035 208.655104 \n\" style=\"fill:#ffffff;stroke:#000000;\"/>\n    <path clip-path=\"url(#p520653cbdf)\" d=\"M 328.422095 231.28027 \nL 328.642512 231.121941 \nL 329.110607 231.383615 \nL 330.416416 231.39798 \nL 330.727621 230.889402 \nL 331.019296 230.9234 \nL 331.507532 230.726886 \nL 331.769236 231.472281 \nL 332.164107 231.252351 \nL 332.86175 230.994099 \nL 333.622132 231.374069 \nL 333.917651 231.950464 \nL 334.677946 232.318456 \nL 335.269422 231.880126 \nL 336.061698 231.81393 \nL 337.218961 232.263338 \nL 337.66757 234.743052 \nL 336.955029 236.20687 \nL 336.514065 238.174898 \nL 337.247359 239.676182 \nL 337.170552 240.363848 \nL 336.401257 240.38159 \nL 335.221451 240.040842 \nL 334.137412 240.06097 \nL 332.134397 240.365199 \nL 330.960445 240.868193 \nL 329.286154 241.507451 \nL 328.95944 241.461655 \nL 329.089286 240.026297 \nL 329.251027 239.808122 \nL 329.19956 239.121447 \nL 328.483393 238.391497 \nL 327.946267 238.275002 \nL 327.453312 237.796549 \nL 327.820964 237.022334 \nL 327.651883 236.179851 \nL 327.729913 235.672984 \nL 327.998083 235.671003 \nL 328.097697 234.910882 \nL 327.967063 234.574321 \nL 328.128629 234.332055 \nL 328.75663 234.122482 \nL 328.338953 232.727336 \nL 327.949194 232.007023 \nL 328.084939 231.415362 \nL 328.422095 231.28027 \n\" style=\"fill:#ffffff;stroke:#000000;\"/>\n    <path clip-path=\"url(#p520653cbdf)\" d=\"M 391.611269 256.910794 \nL 391.915614 258.514163 \nL 391.746533 259.420454 \nL 392.084782 260.431306 \nL 393.065449 261.407215 \nL 393.978572 263.603189 \nL 393.978562 263.603187 \nL 393.312473 263.425858 \nL 391.041288 263.719999 \nL 390.588047 263.928312 \nL 390.106146 265.040844 \nL 390.484589 265.809431 \nL 390.184263 267.872834 \nL 389.974901 269.622193 \nL 390.431724 269.932275 \nL 391.61389 270.61053 \nL 392.077966 270.293603 \nL 392.219347 272.17292 \nL 390.925247 272.158511 \nL 390.23075 271.199353 \nL 389.607729 270.456705 \nL 388.311969 270.213178 \nL 387.932564 269.299952 \nL 386.898857 269.850139 \nL 385.544814 269.607063 \nL 384.979727 268.81578 \nL 383.906087 268.65502 \nL 383.113637 268.697079 \nL 383.016645 268.155358 \nL 382.433382 268.111498 \nL 381.663301 268.008738 \nL 380.615875 268.269736 \nL 379.881095 268.226957 \nL 379.462544 268.386817 \nL 379.552983 266.312876 \nL 378.988944 265.666143 \nL 378.864864 264.594318 \nL 379.113985 263.543749 \nL 378.77128 262.871348 \nL 378.74026 261.774757 \nL 376.688574 261.789977 \nL 376.83581 261.162067 \nL 375.973106 261.168641 \nL 375.881968 261.470618 \nL 374.833231 261.538705 \nL 374.409001 262.554331 \nL 374.155598 262.990139 \nL 373.221242 262.744001 \nL 372.66332 262.989149 \nL 371.545204 263.130095 \nL 370.89763 262.218851 \nL 370.50905 261.655245 \nL 370.023741 260.610169 \nL 369.606675 259.311479 \nL 364.616919 259.288423 \nL 364.02387 259.497817 \nL 363.534017 259.465214 \nL 362.836112 259.699465 \nL 362.599224 259.158914 \nL 363.029309 258.974828 \nL 363.082262 258.215068 \nL 363.358907 257.767011 \nL 363.974238 257.40073 \nL 364.418479 257.578242 \nL 364.996761 256.911064 \nL 365.917835 256.928266 \nL 366.026186 257.421624 \nL 366.657857 257.730356 \nL 367.652768 256.638087 \nL 368.637804 255.787004 \nL 369.06518 255.229252 \nL 369.008558 253.79538 \nL 369.742901 252.10231 \nL 370.517701 251.204575 \nL 371.631011 250.364569 \nL 371.825345 249.808619 \nL 371.867462 249.169451 \nL 372.143059 248.564686 \nL 372.054543 247.57698 \nL 372.265304 246.032557 \nL 372.595775 244.945242 \nL 373.102231 244.013328 \nL 373.202456 242.960777 \nL 373.354497 241.745349 \nL 374.012819 240.860493 \nL 374.918252 240.299274 \nL 376.309694 240.891564 \nL 377.386654 241.53447 \nL 378.623608 241.706037 \nL 379.885027 242.0462 \nL 380.390609 240.993739 \nL 380.622865 240.859412 \nL 381.393471 241.034447 \nL 383.275989 240.164631 \nL 383.943049 240.533299 \nL 384.490573 240.481018 \nL 384.74415 240.057233 \nL 385.372588 239.907911 \nL 386.644668 240.091276 \nL 387.729056 240.131399 \nL 388.287328 239.946502 \nL 389.311598 241.385238 \nL 390.070844 241.596567 \nL 390.523473 241.303912 \nL 391.305351 241.418606 \nL 392.247047 241.049938 \nL 392.648646 241.794298 \nL 394.137241 242.952437 \nL 394.137254 242.952446 \nL 394.034932 244.990272 \nL 394.712652 245.226279 \nL 394.16906 245.845093 \nL 393.519476 246.307965 \nL 392.872951 247.216823 \nL 392.517226 248.027108 \nL 392.422069 249.426036 \nL 392.030344 250.091953 \nL 392.016188 251.405863 \nL 391.529918 251.891656 \nL 391.467266 252.928716 \nL 391.23501 253.063088 \nL 391.078512 254.016481 \nL 391.503704 254.808844 \nL 391.611269 256.910794 \n\" style=\"fill:#ffffff;stroke:#000000;\"/>\n    <path clip-path=\"url(#p520653cbdf)\" d=\"M 413.612638 227.20962 \nL 414.336486 227.36092 \nL 414.846437 226.935288 \nL 415.24655 227.474667 \nL 415.193336 228.198313 \nL 414.228659 228.615344 \nL 414.954788 229.092176 \nL 414.331768 230.024855 \nL 413.956518 229.714233 \nL 413.549364 229.837815 \nL 412.604873 229.808693 \nL 412.577852 229.278533 \nL 412.446249 228.797363 \nL 413.018182 227.980338 \nL 413.612638 227.20962 \n\" style=\"fill:#ffffff;stroke:#000000;\"/>\n    <path clip-path=\"url(#p520653cbdf)\" d=\"M 190.911649 223.929839 \nL 191.410153 224.076414 \nL 191.77444 224.424143 \nL 192.284828 224.703604 \nL 192.347785 224.938305 \nL 193.089512 224.730668 \nL 193.437547 224.854953 \nL 193.667531 225.043632 \nL 193.54983 225.741745 \nL 193.362138 226.152111 \nL 192.382781 226.126084 \nL 191.774178 225.959154 \nL 191.074962 225.612687 \nL 190.135407 225.504478 \nL 189.656608 225.130271 \nL 189.708817 224.874721 \nL 190.288366 224.435085 \nL 190.605775 224.242353 \nL 190.515948 224.037102 \nL 190.911649 223.929839 \n\" style=\"fill:#ffffff;stroke:#000000;\"/>\n    <path clip-path=\"url(#p520653cbdf)\" d=\"M 358.315849 245.087899 \nL 361.06745 245.127662 \nL 361.082043 247.224928 \nL 358.622117 247.207096 \nL 358.051612 247.307785 \nL 357.734946 247.044985 \nL 358.315849 245.087899 \n\" style=\"fill:#ffffff;stroke:#000000;\"/>\n    <path clip-path=\"url(#p520653cbdf)\" d=\"M 403.59899 223.933364 \nL 403.419263 223.235582 \nL 404.147487 220.674763 \nL 404.314278 219.516341 \nL 404.846813 218.982016 \nL 406.092218 218.6955 \nL 406.94797 217.700766 \nL 407.929599 219.718374 \nL 408.395422 221.318095 \nL 409.322351 222.166971 \nL 411.63041 223.813164 \nL 412.570009 224.806635 \nL 413.486277 225.812309 \nL 414.015102 226.411084 \nL 414.846437 226.935288 \nL 414.336486 227.36092 \nL 413.612638 227.20962 \nL 413.034668 226.645667 \nL 412.339383 225.623915 \nL 411.589702 225.064058 \nL 411.152433 224.462252 \nL 409.68075 223.763476 \nL 408.521395 223.742632 \nL 408.113531 223.37823 \nL 407.121897 223.788084 \nL 406.095718 222.996923 \nL 405.567647 224.297627 \nL 403.59899 223.933364 \n\" style=\"fill:#ffffff;stroke:#000000;\"/>\n    <path clip-path=\"url(#p520653cbdf)\" d=\"M 422.807565 235.120591 \nL 418.02936 240.351397 \nL 415.826562 240.428202 \nL 414.319624 241.656807 \nL 413.23565 241.688979 \nL 412.773141 242.238341 \nL 411.617771 242.238031 \nL 410.935793 241.649086 \nL 409.39108 242.377977 \nL 408.891322 243.104255 \nL 407.763699 242.967131 \nL 407.389382 242.766134 \nL 406.993422 242.814166 \nL 406.459002 242.796572 \nL 404.318612 241.316483 \nL 403.141715 241.316483 \nL 402.564048 240.742925 \nL 402.564048 239.764749 \nL 401.685721 239.472363 \nL 400.686416 237.575813 \nL 399.914177 237.171745 \nL 399.617896 236.474834 \nL 398.760927 235.625411 \nL 397.722523 235.500574 \nL 398.29848 234.507857 \nL 399.195845 234.465019 \nL 399.448603 233.932768 \nL 399.426012 232.365956 \nL 399.926234 230.542098 \nL 400.727217 230.053974 \nL 400.89712 229.341535 \nL 401.622283 228.01021 \nL 402.642138 227.146792 \nL 403.329645 225.430046 \nL 403.59899 223.933364 \nL 405.567647 224.297627 \nL 406.095718 222.996923 \nL 407.121897 223.788084 \nL 408.113531 223.37823 \nL 408.521395 223.742632 \nL 409.68075 223.763476 \nL 411.152433 224.462252 \nL 411.589702 225.064058 \nL 412.339383 225.623915 \nL 413.034668 226.645667 \nL 413.612638 227.20962 \nL 413.018182 227.980338 \nL 412.446249 228.797363 \nL 412.577852 229.278533 \nL 412.604873 229.808693 \nL 413.549364 229.837815 \nL 413.956518 229.714233 \nL 414.331768 230.024855 \nL 413.962994 230.642326 \nL 414.587548 231.601982 \nL 415.211274 232.44107 \nL 415.856795 233.063076 \nL 421.385375 235.131257 \nL 422.807565 235.120591 \n\" style=\"fill:#ffffff;stroke:#000000;\"/>\n    <path clip-path=\"url(#p520653cbdf)\" d=\"M 238.516364 339.432417 \nL 240.545455 338.386737 \nL 241.982727 338.822437 \nL 242.997273 338.125317 \nL 244.35 338.909577 \nL 243.842727 339.519558 \nL 241.56 340.042398 \nL 240.799091 339.432417 \nL 239.361818 340.216678 \nL 238.516364 339.432417 \n\" style=\"fill:#ffffff;stroke:#000000;\"/>\n    <path clip-path=\"url(#p520653cbdf)\" d=\"M 646.363636 277.070025 \nL 646.363636 277.920658 \nL 645.288459 278.349627 \nL 644.207828 278.716813 \nL 643.991018 278.066937 \nL 644.836085 277.709375 \nL 645.371934 277.613643 \nL 646.363636 277.070025 \n\" style=\"fill:#ffffff;stroke:#000000;\"/>\n    <path clip-path=\"url(#p520653cbdf)\" d=\"M 643.194146 279.57561 \nL 643.613542 279.28824 \nL 644.195992 279.791107 \nL 643.916401 280.701076 \nL 642.867952 280.940536 \nL 641.935923 280.725004 \nL 641.772886 279.958747 \nL 642.425289 279.360078 \nL 643.194146 279.57561 \n\" style=\"fill:#ffffff;stroke:#000000;\"/>\n    <path clip-path=\"url(#p520653cbdf)\" d=\"M 37.985841 276.98942 \nL 37.776084 277.827534 \nL 37.636364 277.920658 \nL 37.636364 277.070025 \nL 37.985841 276.98942 \n\" style=\"fill:#ffffff;stroke:#000000;\"/>\n    <path clip-path=\"url(#p520653cbdf)\" d=\"M 390.346354 128.702108 \nL 390.099505 129.922354 \nL 392.689103 131.083609 \nL 391.128668 132.3977 \nL 393.095299 134.38154 \nL 391.956945 135.875657 \nL 393.479194 137.172681 \nL 392.78793 138.308359 \nL 395.290847 139.502397 \nL 394.654894 140.391216 \nL 393.084236 141.397971 \nL 389.463818 143.622669 \nL 389.463821 143.62267 \nL 389.463814 143.622675 \nL 386.395111 143.761325 \nL 383.421564 144.400313 \nL 380.670575 144.767945 \nL 379.691655 143.817163 \nL 378.053976 143.245091 \nL 378.43041 141.528155 \nL 377.609211 139.956038 \nL 378.415468 138.941133 \nL 379.94864 137.846523 \nL 383.817047 135.956398 \nL 384.945823 135.592008 \nL 384.769927 134.854943 \nL 382.41844 134.031329 \nL 381.84776 133.353164 \nL 381.803109 130.669326 \nL 379.163704 129.482763 \nL 376.909821 128.629833 \nL 377.923256 128.169393 \nL 379.802366 129.090814 \nL 382.010375 129.004535 \nL 383.825785 129.425754 \nL 385.438123 128.654465 \nL 386.267361 127.37667 \nL 388.892785 126.786045 \nL 391.062696 127.47916 \nL 390.346354 128.702108 \n\" style=\"fill:#ffffff;stroke:#000000;\"/>\n    <path clip-path=\"url(#p520653cbdf)\" d=\"M 458.562818 333.811887 \nL 459.653455 334.360869 \nL 461.251364 334.578719 \nL 461.310545 334.909851 \nL 460.837091 335.702825 \nL 458.241545 335.816107 \nL 458.199273 334.888066 \nL 458.448682 334.169161 \nL 458.562818 333.811887 \n\" style=\"fill:#ffffff;stroke:#000000;\"/>\n    <path clip-path=\"url(#p520653cbdf)\" d=\"M 361.06745 245.127662 \nL 361.870998 245.013148 \nL 362.898589 245.246588 \nL 363.899528 245.022109 \nL 364.110027 245.117124 \nL 363.987083 245.877335 \nL 364.459722 246.777862 \nL 365.717822 246.635835 \nL 366.139868 246.982212 \nL 365.407797 249.000675 \nL 366.207762 250.031341 \nL 366.392134 251.392083 \nL 366.178665 252.550817 \nL 365.659889 253.374341 \nL 364.167174 253.301031 \nL 363.263663 252.464088 \nL 363.129097 253.236457 \nL 361.988175 253.449903 \nL 361.40832 253.888143 \nL 362.045933 255.040573 \nL 360.758561 256.002522 \nL 359.02092 254.243437 \nL 357.903415 252.805332 \nL 356.876611 251.004998 \nL 356.930874 250.425992 \nL 357.300055 249.86878 \nL 357.710829 248.599991 \nL 358.051612 247.307785 \nL 358.622117 247.207096 \nL 361.082043 247.224928 \nL 361.06745 245.127662 \n\" style=\"fill:#ffffff;stroke:#000000;\"/>\n    <path clip-path=\"url(#p520653cbdf)\" d=\"M 313.738604 225.374924 \nL 315.580228 225.32503 \nL 315.962079 224.912367 \nL 316.498157 224.884268 \nL 317.165566 225.313232 \nL 317.690284 225.321382 \nL 318.247813 225.027916 \nL 318.589426 225.531631 \nL 317.857704 225.922814 \nL 317.123012 225.892103 \nL 316.397669 225.523841 \nL 315.770935 225.926327 \nL 315.467945 225.940646 \nL 315.061627 226.184759 \nL 313.522513 226.147969 \nL 313.738604 225.374924 \n\" style=\"fill:#ffffff;stroke:#000000;\"/>\n    <path clip-path=\"url(#p520653cbdf)\" d=\"M 409.560287 173.369695 \nL 409.766504 173.163859 \nL 411.195703 173.461798 \nL 413.685076 173.74387 \nL 415.987401 174.57949 \nL 416.283682 174.903425 \nL 417.309071 174.629748 \nL 418.886108 174.994363 \nL 419.403731 175.709505 \nL 420.466553 176.113425 \nL 420.02773 176.353709 \nL 420.860463 177.29679 \nL 420.630041 177.501095 \nL 419.718579 177.397524 \nL 418.458557 176.896331 \nL 418.044375 177.180971 \nL 415.694461 177.452822 \nL 414.065782 176.597056 \nL 412.264179 176.679868 \nL 412.51627 175.935192 \nL 412.094049 174.746288 \nL 411.116702 174.104058 \nL 410.179812 173.903626 \nL 409.560287 173.369695 \n\" style=\"fill:#ffffff;stroke:#000000;\"/>\n    <path clip-path=\"url(#p520653cbdf)\" d=\"M 262.926682 105.064188 \nL 268.603656 104.023388 \nL 274.536904 104.101779 \nL 276.693472 103.458912 \nL 282.669602 103.291464 \nL 296.175586 103.510133 \nL 306.752341 104.892122 \nL 303.630195 105.563169 \nL 297.161267 105.639853 \nL 288.06 105.810037 \nL 288.91144 106.121057 \nL 294.89692 105.928931 \nL 299.990243 106.529866 \nL 303.272636 105.99622 \nL 304.678677 106.621328 \nL 302.822296 107.635254 \nL 307.127317 106.98709 \nL 315.337441 106.311179 \nL 320.406787 106.648585 \nL 321.356452 107.393301 \nL 314.462987 108.633304 \nL 313.508182 109.034218 \nL 308.103631 109.335583 \nL 312.01959 109.419167 \nL 310.041818 110.689878 \nL 308.680653 111.820467 \nL 308.733849 113.759664 \nL 310.76409 114.897608 \nL 308.122586 114.969603 \nL 305.342038 115.521007 \nL 308.462391 116.444465 \nL 308.85994 117.925322 \nL 307.051987 118.086584 \nL 309.242339 119.58581 \nL 305.486137 119.710926 \nL 307.447051 120.419705 \nL 306.892771 121.034513 \nL 304.508809 121.304316 \nL 302.152155 121.309405 \nL 304.270559 122.489891 \nL 304.293505 123.265768 \nL 300.947534 122.544615 \nL 300.077359 123.011127 \nL 302.360086 123.446897 \nL 304.57543 124.512062 \nL 305.216708 125.915522 \nL 302.202713 126.251342 \nL 300.899039 125.57951 \nL 298.808416 124.578358 \nL 299.386808 125.761162 \nL 297.422969 126.677526 \nL 301.87909 126.751508 \nL 304.209839 126.846578 \nL 299.67778 128.363964 \nL 295.08172 129.737884 \nL 290.133545 130.339899 \nL 288.268574 130.347306 \nL 286.519497 131.018824 \nL 284.167595 132.858751 \nL 280.530652 134.080175 \nL 279.362336 134.152013 \nL 277.111279 134.579958 \nL 274.681155 134.987163 \nL 273.232435 136.065103 \nL 273.209067 137.286718 \nL 272.353653 138.430971 \nL 269.596321 139.825438 \nL 270.277284 141.187262 \nL 269.51717 142.628367 \nL 268.651069 144.329897 \nL 266.268409 144.436138 \nL 263.772391 143.013107 \nL 260.391756 143.004132 \nL 258.751337 142.048415 \nL 257.622977 140.346483 \nL 254.692868 138.179224 \nL 253.835763 137.043772 \nL 253.605039 135.478249 \nL 251.263011 133.869871 \nL 251.871823 132.585549 \nL 250.743141 131.97123 \nL 252.41496 129.934593 \nL 254.959846 129.286289 \nL 255.62767 128.557398 \nL 255.981392 127.195765 \nL 254.049756 127.813022 \nL 253.129335 128.072289 \nL 251.610273 128.320699 \nL 249.535409 127.751841 \nL 249.42271 126.567974 \nL 250.084143 125.640813 \nL 251.652504 125.615647 \nL 255.103945 126.079188 \nL 252.196883 124.972388 \nL 250.683773 124.375758 \nL 249 124.620888 \nL 247.588632 124.188842 \nL 249.476515 122.564883 \nL 248.448189 121.915934 \nL 247.106131 120.71138 \nL 245.070953 118.863158 \nL 242.918155 118.186342 \nL 242.93782 117.456701 \nL 238.40035 116.436971 \nL 234.810483 116.31006 \nL 230.291325 116.380365 \nL 226.165321 116.508374 \nL 224.203072 115.953571 \nL 221.264745 114.857663 \nL 225.704836 114.309465 \nL 229.108196 114.217393 \nL 221.872864 113.764265 \nL 218.061436 113.052784 \nL 218.294139 112.375671 \nL 224.695803 111.537088 \nL 230.88918 110.699707 \nL 231.543224 110.065711 \nL 226.979325 109.439924 \nL 228.453273 108.745226 \nL 234.307268 107.528508 \nL 236.76722 107.341784 \nL 236.062584 106.558709 \nL 240.06779 106.099987 \nL 245.26742 105.826175 \nL 250.463617 105.810699 \nL 252.308636 106.353216 \nL 256.794059 105.393804 \nL 260.829837 106.045646 \nL 263.203907 106.183092 \nL 266.715655 106.749929 \nL 262.69518 105.810403 \nL 262.926682 105.064188 \n\" style=\"fill:#ffffff;stroke:#000000;\"/>\n    <path clip-path=\"url(#p520653cbdf)\" d=\"M 186.051259 223.729947 \nL 186.092721 223.222314 \nL 186.288889 222.813659 \nL 186.048725 222.487996 \nL 186.86254 221.067408 \nL 189.032801 221.062184 \nL 189.076098 220.468678 \nL 188.802205 220.362945 \nL 188.614556 219.985271 \nL 187.989176 219.582696 \nL 187.359733 219.001122 \nL 188.123436 218.996799 \nL 188.124703 218.015712 \nL 189.703312 218.012695 \nL 191.267155 218.031878 \nL 191.254092 219.41347 \nL 191.121667 221.380462 \nL 191.626418 221.379877 \nL 192.1777 221.695138 \nL 192.323494 221.435445 \nL 192.819507 221.657942 \nL 192.049033 222.322778 \nL 191.24732 222.810462 \nL 191.128264 223.145311 \nL 191.263004 223.487366 \nL 190.911649 223.929839 \nL 190.515948 224.037102 \nL 190.605775 224.242353 \nL 190.288366 224.435085 \nL 189.708817 224.874721 \nL 189.656608 225.130271 \nL 188.789054 224.826268 \nL 187.734288 224.794791 \nL 186.960974 224.449045 \nL 186.051259 223.729947 \n\" style=\"fill:#ffffff;stroke:#000000;\"/>\n    <path clip-path=\"url(#p520653cbdf)\" d=\"M 318.833741 227.133018 \nL 319.649871 227.150986 \nL 320.865242 227.575852 \nL 321.238005 227.5369 \nL 321.364881 227.343087 \nL 322.286873 227.480882 \nL 322.530969 227.382579 \nL 322.62866 228.020712 \nL 322.89683 228.01873 \nL 323.338187 227.786461 \nL 323.618415 227.844596 \nL 324.087822 228.287114 \nL 324.811548 228.426349 \nL 325.27523 228.049216 \nL 325.821531 227.816091 \nL 326.227849 227.572024 \nL 326.566272 227.61773 \nL 326.942007 228.000628 \nL 327.143505 228.481287 \nL 327.83643 229.211372 \nL 327.489793 229.65997 \nL 327.423821 230.226998 \nL 327.784002 230.055566 \nL 327.995287 230.25888 \nL 327.905635 230.77786 \nL 328.422095 231.28027 \nL 328.084939 231.415362 \nL 327.949194 232.007023 \nL 328.338953 232.727336 \nL 328.75663 234.122482 \nL 328.128629 234.332055 \nL 327.967063 234.574321 \nL 328.097697 234.910882 \nL 327.998083 235.671003 \nL 327.729913 235.672984 \nL 327.251682 235.628314 \nL 326.906836 236.330029 \nL 326.428779 236.321518 \nL 326.099793 235.950329 \nL 326.211509 235.25037 \nL 325.504603 234.182868 \nL 325.062897 234.379023 \nL 324.701842 234.417884 \nL 324.236193 234.517763 \nL 324.255067 233.878775 \nL 323.983752 233.422793 \nL 324.038495 232.916105 \nL 323.671979 232.183544 \nL 323.20135 231.560272 \nL 321.848967 231.558335 \nL 321.454883 231.8867 \nL 320.988885 231.926327 \nL 320.700093 232.302155 \nL 320.505235 232.785741 \nL 319.601288 233.551986 \nL 318.859649 232.52078 \nL 318.202069 231.838607 \nL 317.769144 231.612823 \nL 317.347055 231.266445 \nL 317.15508 230.496418 \nL 316.907664 230.11253 \nL 316.416019 229.826989 \nL 317.167838 228.977527 \nL 317.681022 229.009859 \nL 318.121986 228.717339 \nL 318.495011 228.714547 \nL 318.761565 228.483539 \nL 318.617649 227.906018 \nL 318.802852 227.723823 \nL 318.833741 227.133018 \n\" style=\"fill:#ffffff;stroke:#000000;\"/>\n    <path clip-path=\"url(#p520653cbdf)\" d=\"M 313.799945 227.483899 \nL 314.695679 227.199979 \nL 315.255611 227.256088 \nL 315.708939 227.059843 \nL 318.833741 227.133018 \nL 318.802852 227.723823 \nL 318.617649 227.906018 \nL 318.761565 228.483539 \nL 318.495011 228.714547 \nL 318.121986 228.717339 \nL 317.681022 229.009859 \nL 317.167838 228.977527 \nL 316.416019 229.826989 \nL 315.513295 229.09839 \nL 314.801365 228.983156 \nL 314.413179 228.491824 \nL 314.423053 228.226593 \nL 313.90751 227.856754 \nL 313.799945 227.483899 \n\" style=\"fill:#ffffff;stroke:#000000;\"/>\n    <path clip-path=\"url(#p520653cbdf)\" d=\"M 246.397039 245.757733 \nL 245.985609 245.820146 \nL 245.050336 245.67231 \nL 244.50054 246.135812 \nL 243.735439 246.441482 \nL 243.201066 246.516863 \nL 243.01416 246.858197 \nL 242.18418 246.771738 \nL 241.143963 245.954023 \nL 241.021368 245.147565 \nL 240.588531 244.266402 \nL 240.857574 242.782815 \nL 241.326587 242.168819 \nL 240.93875 241.35894 \nL 240.35776 241.094969 \nL 240.577652 240.329715 \nL 240.184135 239.928129 \nL 239.305047 240.005177 \nL 238.160761 238.682756 \nL 238.618807 238.203088 \nL 238.585122 237.398296 \nL 239.625601 237.118565 \nL 240.045507 236.792091 \nL 239.466701 236.145358 \nL 239.61446 235.509927 \nL 240.954173 234.486151 \nL 242.064425 235.12721 \nL 243.110628 236.262663 \nL 243.158119 237.160038 \nL 243.795207 237.201331 \nL 244.701339 238.051514 \nL 245.36888 238.658214 \nL 245.098657 240.226008 \nL 244.072202 240.680775 \nL 244.163646 241.091772 \nL 243.851699 241.990948 \nL 244.600983 243.256585 \nL 245.142303 243.258611 \nL 245.36438 244.242535 \nL 246.397039 245.757733 \n\" style=\"fill:#ffffff;stroke:#000000;\"/>\n    <path clip-path=\"url(#p520653cbdf)\" d=\"M 220.740916 214.709862 \nL 220.888851 215.659022 \nL 220.759616 216.328991 \nL 220.347356 216.622683 \nL 220.782553 217.145941 \nL 220.747775 217.619396 \nL 219.624722 217.323183 \nL 218.826723 217.444045 \nL 217.795025 217.318049 \nL 217.003886 217.643802 \nL 216.098234 217.10082 \nL 216.247217 216.539015 \nL 217.803501 216.781011 \nL 219.07947 216.920877 \nL 219.688291 216.532891 \nL 218.915938 215.777904 \nL 218.928696 215.112213 \nL 217.861871 214.840407 \nL 218.242718 214.359162 \nL 219.274371 214.436165 \nL 220.740916 214.709862 \n\" style=\"fill:#ffffff;stroke:#000000;\"/>\n    <path clip-path=\"url(#p520653cbdf)\" d=\"M 201.405612 222.933486 \nL 200.826019 222.897867 \nL 200.591665 223.135224 \nL 200.004689 223.3629 \nL 199.577531 223.364071 \nL 199.20385 223.585668 \nL 198.865252 223.506909 \nL 198.577029 223.240642 \nL 198.40039 223.291346 \nL 198.183469 223.707792 \nL 198.021204 223.692706 \nL 197.993111 224.051422 \nL 197.402902 224.531316 \nL 197.091348 224.738593 \nL 196.917811 224.954741 \nL 196.419045 224.602465 \nL 196.054014 225.067498 \nL 195.701348 225.05507 \nL 195.305035 225.096273 \nL 195.340992 225.9533 \nL 195.092876 225.968791 \nL 194.881154 226.366863 \nL 194.355475 226.438508 \nL 194.063363 225.893274 \nL 193.54983 225.741745 \nL 193.667531 225.043632 \nL 193.437547 224.854953 \nL 193.089512 224.730668 \nL 192.347785 224.938305 \nL 192.284828 224.703604 \nL 191.77444 224.424143 \nL 191.410153 224.076414 \nL 190.911649 223.929839 \nL 191.263004 223.487366 \nL 191.128264 223.145311 \nL 191.24732 222.810462 \nL 192.049033 222.322778 \nL 192.819507 221.657942 \nL 192.995141 221.726029 \nL 193.366026 221.419639 \nL 193.84985 221.394647 \nL 194.006697 221.536719 \nL 194.269056 221.45017 \nL 195.054604 221.607418 \nL 195.836219 221.561892 \nL 196.380204 221.369114 \nL 196.578514 221.173996 \nL 197.1173 221.264193 \nL 197.521957 221.382534 \nL 197.964232 221.341736 \nL 198.300252 221.190522 \nL 199.072562 221.432248 \nL 199.34095 221.470704 \nL 199.857017 221.796457 \nL 200.345821 222.187145 \nL 200.960628 222.454088 \nL 201.405612 222.933486 \n\" style=\"fill:#ffffff;stroke:#000000;\"/>\n    <path clip-path=\"url(#p520653cbdf)\" d=\"M 317.467115 133.248873 \nL 317.076613 134.376716 \nL 318.98718 135.56544 \nL 316.788827 136.89448 \nL 311.911223 138.088879 \nL 310.453984 138.406706 \nL 308.227888 138.150076 \nL 303.509884 137.598403 \nL 305.174563 136.828195 \nL 301.494198 135.975941 \nL 304.488192 135.63812 \nL 304.415448 135.126389 \nL 300.866634 134.721021 \nL 302.00913 133.585884 \nL 304.571858 133.328037 \nL 307.207375 134.510277 \nL 309.776613 133.561342 \nL 311.904145 134.054114 \nL 314.661688 133.125308 \nL 317.467115 133.248873 \n\" style=\"fill:#ffffff;stroke:#000000;\"/>\n    <path clip-path=\"url(#p520653cbdf)\" d=\"M 424.124024 196.911824 \nL 423.18827 195.995671 \nL 423.17158 195.067315 \nL 422.631484 195.06781 \nL 422.908654 193.80546 \nL 422.038609 192.480968 \nL 419.966739 191.525684 \nL 418.795495 189.869134 \nL 419.187395 188.509157 \nL 420.038478 187.90768 \nL 419.910903 186.889667 \nL 418.802136 186.366544 \nL 417.706527 184.287573 \nL 417.706515 184.28755 \nL 416.781732 182.891333 \nL 417.112554 182.351593 \nL 416.58469 180.352854 \nL 417.742564 179.856389 \nL 418.010909 180.513839 \nL 418.864875 181.31836 \nL 420.024672 181.550044 \nL 420.636944 181.498799 \nL 422.631134 180.213033 \nL 423.265252 180.08429 \nL 423.764804 180.59575 \nL 423.181804 181.458001 \nL 424.236308 182.370596 \nL 424.65713 182.283687 \nL 425.192072 183.568777 \nL 426.795323 183.931816 \nL 427.969799 184.80627 \nL 430.373714 185.106716 \nL 433.014517 184.645555 \nL 433.17652 184.237936 \nL 434.662332 183.9007 \nL 435.865033 182.904347 \nL 436.995906 182.954872 \nL 437.738201 182.630244 \nL 438.940552 182.790869 \nL 440.810225 183.67433 \nL 442.160598 183.864855 \nL 444.093097 185.408288 \nL 445.353556 185.470655 \nL 445.501927 186.937265 \nL 444.812672 189.108743 \nL 444.348072 190.376902 \nL 445.084075 190.634163 \nL 444.361004 191.588457 \nL 444.914907 192.97982 \nL 445.047288 194.086228 \nL 446.327932 194.380009 \nL 446.466429 195.501773 \nL 444.93282 197.081815 \nL 445.769922 197.998463 \nL 446.450613 199.051014 \nL 448.067059 199.817304 \nL 448.11372 201.352226 \nL 448.922773 201.634344 \nL 449.062668 202.436929 \nL 446.623626 203.337186 \nL 445.98645 205.361863 \nL 442.805463 204.835677 \nL 440.961742 204.435173 \nL 439.053534 204.208713 \nL 438.332386 202.071684 \nL 437.523071 201.762862 \nL 436.223728 202.07425 \nL 434.518242 202.917723 \nL 432.451964 202.339617 \nL 430.744993 201.00031 \nL 429.116926 200.50389 \nL 427.987712 198.850267 \nL 426.739924 196.526675 \nL 425.829947 196.809108 \nL 424.755346 196.231588 \nL 424.124024 196.911824 \n\" style=\"fill:#ffffff;stroke:#000000;\"/>\n    <path clip-path=\"url(#p520653cbdf)\" d=\"M 408.275974 193.018006 \nL 407.594321 190.895837 \nL 411.337687 189.082129 \nL 411.976523 186.975181 \nL 411.817142 185.702069 \nL 412.742672 185.271529 \nL 413.609309 184.183989 \nL 414.335612 183.913173 \nL 416.302365 184.138057 \nL 416.8962 184.581971 \nL 417.706527 184.287573 \nL 418.802136 186.366544 \nL 419.910903 186.889667 \nL 420.038478 187.90768 \nL 419.187395 188.509157 \nL 418.795495 189.869134 \nL 419.966739 191.525684 \nL 422.038609 192.480968 \nL 422.908654 193.80546 \nL 422.631484 195.06781 \nL 423.17158 195.067315 \nL 423.18827 195.995671 \nL 424.124024 196.911824 \nL 423.12055 196.826355 \nL 421.984434 196.681266 \nL 420.743461 198.354432 \nL 417.599698 198.215242 \nL 412.83215 194.710265 \nL 410.312718 193.490335 \nL 408.275974 193.018006 \n\" style=\"fill:#ffffff;stroke:#000000;\"/>\n    <path clip-path=\"url(#p520653cbdf)\" d=\"M 402.399134 192.062631 \nL 402.104489 192.611963 \nL 401.492828 192.370552 \nL 401.138938 193.531133 \nL 401.56378 193.726747 \nL 401.131948 193.966491 \nL 401.059073 194.425445 \nL 401.854057 194.189033 \nL 401.893553 194.867018 \nL 401.050946 197.653302 \nL 400.882939 197.200601 \nL 399.939744 194.659112 \nL 399.939735 194.659117 \nL 399.939733 194.65911 \nL 400.431683 194.084922 \nL 400.316254 193.986079 \nL 400.763465 193.171516 \nL 401.106433 191.85666 \nL 401.348301 191.415448 \nL 401.394962 191.397391 \nL 401.960836 191.400633 \nL 402.116547 191.095234 \nL 402.570225 191.072313 \nL 402.596089 191.785647 \nL 402.366804 192.050743 \nL 402.399134 192.062631 \n\" style=\"fill:#ffffff;stroke:#000000;\"/>\n    <path clip-path=\"url(#p520653cbdf)\" d=\"M 489.717768 163.296338 \nL 488.430658 164.456693 \nL 487.026285 164.619525 \nL 486.945545 166.367172 \nL 486.005073 167.154942 \nL 482.650636 166.581429 \nL 481.430547 169.701707 \nL 480.565047 170.089693 \nL 477.215416 170.78596 \nL 478.737404 173.813474 \nL 477.577345 174.267115 \nL 477.712347 175.26063 \nL 476.670164 175.00499 \nL 475.822227 174.378611 \nL 473.313281 174.196326 \nL 470.509689 174.148684 \nL 469.895232 174.340605 \nL 467.48721 173.607863 \nL 466.527513 173.96874 \nL 466.264499 174.99765 \nL 463.482752 174.397254 \nL 462.369529 174.643167 \nL 461.990823 175.406755 \nL 461.021341 175.728906 \nL 458.791137 176.943748 \nL 458.051289 178.190833 \nL 457.421278 178.20191 \nL 456.957902 177.376405 \nL 454.807389 177.319846 \nL 454.46346 175.892143 \nL 453.639553 175.87994 \nL 453.76573 174.131887 \nL 451.741394 172.85891 \nL 448.841422 172.994858 \nL 446.858853 173.248607 \nL 445.244068 171.677751 \nL 443.860316 171.018589 \nL 441.239436 169.770784 \nL 440.923469 169.619526 \nL 436.570715 170.649426 \nL 436.637124 177.075509 \nL 435.769788 177.160527 \nL 434.586311 175.793976 \nL 433.443379 175.305751 \nL 431.523987 175.668385 \nL 430.776886 176.248247 \nL 430.681992 175.823291 \nL 431.097572 175.096988 \nL 430.775139 174.489792 \nL 428.815377 173.89606 \nL 428.052548 172.330923 \nL 427.118891 171.890026 \nL 427.062269 171.322187 \nL 428.707288 171.48772 \nL 428.772211 170.213482 \nL 430.210314 169.930464 \nL 431.6873 170.190742 \nL 431.991645 168.490467 \nL 431.690446 167.412789 \nL 429.998329 167.497086 \nL 428.560926 167.071725 \nL 426.603086 167.83806 \nL 425.025598 168.203456 \nL 424.166768 167.921627 \nL 424.338368 167.024803 \nL 423.260441 165.860365 \nL 422.005769 165.909024 \nL 420.570536 164.726879 \nL 421.546572 163.406034 \nL 421.052699 163.05056 \nL 422.401849 161.135758 \nL 424.140714 162.146476 \nL 424.3513 160.873589 \nL 427.841787 158.97806 \nL 430.483114 158.932939 \nL 434.21014 160.139676 \nL 436.21228 160.84469 \nL 438.006403 160.109508 \nL 440.687068 160.074495 \nL 442.849677 160.97761 \nL 443.340929 160.460431 \nL 445.716008 160.535587 \nL 446.139715 159.710217 \nL 443.399648 158.511585 \nL 445.022472 157.662619 \nL 444.705807 157.187814 \nL 446.329068 156.734668 \nL 445.108367 155.540855 \nL 445.883705 154.946113 \nL 452.210975 154.339657 \nL 453.036707 153.909147 \nL 457.267752 153.265807 \nL 458.787991 152.542791 \nL 461.826723 152.918394 \nL 462.359131 154.724716 \nL 464.124472 154.30057 \nL 466.296218 154.894933 \nL 466.156148 155.846164 \nL 467.777968 155.746756 \nL 472.01586 154.102119 \nL 471.397122 154.648524 \nL 473.554275 155.994991 \nL 477.332855 160.421119 \nL 478.233919 159.508614 \nL 480.563212 160.512711 \nL 482.993079 160.064835 \nL 483.926649 160.378429 \nL 484.74042 161.385499 \nL 485.922673 161.723771 \nL 486.642511 162.463493 \nL 488.820549 162.230278 \nL 489.717768 163.296338 \n\" style=\"fill:#ffffff;stroke:#000000;\"/>\n    <path clip-path=\"url(#p520653cbdf)\" d=\"M 376.816235 176.122603 \nL 376.702443 175.490905 \nL 376.297985 175.312461 \nL 375.937729 174.844745 \nL 376.253726 174.454148 \nL 376.658209 174.328771 \nL 376.892044 173.750127 \nL 377.195393 173.65368 \nL 377.435553 173.899607 \nL 377.751559 174.008105 \nL 377.972755 174.285375 \nL 378.250825 174.367357 \nL 378.57947 174.690437 \nL 378.81963 174.680799 \nL 378.630028 175.105136 \nL 378.427796 175.312477 \nL 378.48413 175.443232 \nL 378.105475 175.510198 \nL 377.106925 175.780228 \nL 377.031088 176.137066 \nL 376.816235 176.122603 \n\" style=\"fill:#ffffff;stroke:#000000;\"/>\n    <path clip-path=\"url(#p520653cbdf)\" d=\"M 461.990823 175.406755 \nL 462.369529 174.643167 \nL 463.482752 174.397254 \nL 466.264499 174.99765 \nL 466.527513 173.96874 \nL 467.48721 173.607863 \nL 469.895232 174.340605 \nL 470.509689 174.148684 \nL 473.313281 174.196326 \nL 475.822227 174.378611 \nL 476.670164 175.00499 \nL 477.712347 175.26063 \nL 477.474673 175.654605 \nL 474.81019 176.598677 \nL 474.207442 177.290441 \nL 472.038492 177.497538 \nL 471.399131 178.610385 \nL 469.609236 178.37663 \nL 468.440876 178.717604 \nL 466.826703 179.540993 \nL 467.059658 179.948747 \nL 466.578369 180.34745 \nL 463.381391 180.611962 \nL 461.292219 180.046014 \nL 459.458809 180.181106 \nL 459.618977 179.176333 \nL 461.459377 179.468178 \nL 462.078553 178.930329 \nL 463.364789 179.102032 \nL 465.530069 177.846887 \nL 463.52583 176.928663 \nL 462.32147 177.363166 \nL 461.073856 176.707156 \nL 462.49291 175.578323 \nL 461.990823 175.406755 \n\" style=\"fill:#ffffff;stroke:#000000;\"/>\n    <path clip-path=\"url(#p520653cbdf)\" d=\"M 523.57443 224.316204 \nL 522.075686 223.674604 \nL 521.310673 224.876252 \nL 519.915386 224.192864 \nL 520.465881 223.407346 \nL 520.541465 221.93227 \nL 519.172306 220.413335 \nL 519.066838 218.693201 \nL 517.780951 217.277882 \nL 516.502143 217.15819 \nL 516.161448 217.764575 \nL 515.171081 217.814965 \nL 514.664801 217.507674 \nL 512.882508 218.547436 \nL 512.842575 216.985136 \nL 513.258679 215.148823 \nL 512.116096 215.069073 \nL 512.019017 214.021836 \nL 511.287034 213.483987 \nL 511.647389 212.842163 \nL 513.086191 211.708556 \nL 513.238407 212.117976 \nL 514.139821 212.165529 \nL 513.884321 210.172058 \nL 514.760919 209.916643 \nL 515.749188 211.292786 \nL 516.508347 212.876251 \nL 518.590092 212.889895 \nL 519.245443 214.409777 \nL 518.164638 214.866344 \nL 517.679591 215.492859 \nL 519.705412 216.535413 \nL 521.110834 218.594809 \nL 522.176522 220.130271 \nL 523.45603 221.342816 \nL 523.881833 222.57387 \nL 523.57443 224.316204 \n\" style=\"fill:#ffffff;stroke:#000000;\"/>\n    <path clip-path=\"url(#p520653cbdf)\" d=\"M 388.14184 148.901597 \nL 388.956572 149.302912 \nL 389.10075 150.148051 \nL 389.644254 151.176645 \nL 387.827796 151.849046 \nL 386.799506 152.142197 \nL 385.17406 151.296607 \nL 384.274307 151.184661 \nL 384.037157 150.822162 \nL 382.375973 150.99445 \nL 379.540138 150.882684 \nL 377.603444 151.417245 \nL 377.661989 150.105271 \nL 378.492974 149.010796 \nL 380.086613 148.415624 \nL 381.429384 149.717736 \nL 382.785961 149.683827 \nL 383.11084 148.345826 \nL 384.55104 148.037815 \nL 385.292024 148.251531 \nL 386.747427 148.898354 \nL 388.14184 148.901597 \n\" style=\"fill:#ffffff;stroke:#000000;\"/>\n    <path clip-path=\"url(#p520653cbdf)\" d=\"M 390.999608 299.532044 \nL 391.586191 300.058005 \nL 391.067502 300.905665 \nL 390.780021 301.474315 \nL 389.837626 301.746481 \nL 389.526728 302.303333 \nL 388.921708 302.476522 \nL 387.653297 301.136043 \nL 388.554973 300.032427 \nL 389.471154 299.35057 \nL 390.26142 298.995096 \nL 390.999608 299.532044 \n\" style=\"fill:#ffffff;stroke:#000000;\"/>\n    <path clip-path=\"url(#p520653cbdf)\" d=\"M 327.729913 235.672984 \nL 327.651883 236.179851 \nL 327.820964 237.022334 \nL 327.453312 237.796549 \nL 327.946267 238.275002 \nL 328.483393 238.391497 \nL 329.19956 239.121447 \nL 329.251027 239.808122 \nL 329.089286 240.026297 \nL 328.95944 241.461655 \nL 328.51651 241.477011 \nL 326.773713 240.646281 \nL 325.237307 239.319763 \nL 323.796715 238.366189 \nL 322.658064 237.241724 \nL 323.062153 236.684152 \nL 323.151936 236.17724 \nL 323.914721 235.231322 \nL 324.701842 234.417884 \nL 325.062897 234.379023 \nL 325.504603 234.182868 \nL 326.211509 235.25037 \nL 326.099793 235.950329 \nL 326.428779 236.321518 \nL 326.906836 236.330029 \nL 327.251682 235.628314 \nL 327.729913 235.672984 \n\" style=\"fill:#ffffff;stroke:#000000;\"/>\n    <path clip-path=\"url(#p520653cbdf)\" d=\"M 386.799506 152.142197 \nL 386.958363 152.922852 \nL 385.572077 153.480919 \nL 385.179653 154.464798 \nL 383.343883 155.121348 \nL 381.709525 155.109505 \nL 381.303469 154.572602 \nL 380.436221 154.386174 \nL 380.30087 153.941404 \nL 380.48131 153.464167 \nL 379.73386 153.187543 \nL 377.963014 152.882234 \nL 377.603444 151.417245 \nL 379.540138 150.882684 \nL 382.375973 150.99445 \nL 384.037157 150.822162 \nL 384.274307 151.184661 \nL 385.17406 151.296607 \nL 386.799506 152.142197 \n\" style=\"fill:#ffffff;stroke:#000000;\"/>\n    <path clip-path=\"url(#p520653cbdf)\" d=\"M 425.773587 270.80065 \nL 426.222458 271.542128 \nL 426.641009 272.693207 \nL 426.913111 274.789843 \nL 427.351235 275.604992 \nL 427.183116 276.440764 \nL 426.884101 276.953486 \nL 426.309751 275.932186 \nL 425.991862 276.447969 \nL 426.314382 277.739094 \nL 426.164263 278.47805 \nL 425.697653 278.880626 \nL 425.591137 280.356827 \nL 424.925213 282.388439 \nL 424.091169 284.790205 \nL 423.046539 288.092137 \nL 422.398878 290.515427 \nL 421.634651 292.536502 \nL 420.259462 292.949254 \nL 418.783349 293.686409 \nL 417.809498 293.241415 \nL 416.467164 292.617917 \nL 416.000554 291.698297 \nL 415.888969 290.153199 \nL 415.293561 288.763817 \nL 415.138898 287.509888 \nL 415.441758 286.253437 \nL 416.220227 285.95164 \nL 416.224771 285.371553 \nL 417.03295 284.050348 \nL 417.185254 282.940337 \nL 416.793004 282.115192 \nL 416.472669 281.016169 \nL 416.337579 279.410279 \nL 416.928356 278.435271 \nL 417.15502 277.329854 \nL 417.997802 277.26564 \nL 418.940983 276.908365 \nL 419.567062 276.593059 \nL 420.309793 276.569643 \nL 421.273509 275.576532 \nL 422.665038 274.503177 \nL 423.172454 273.626426 \nL 422.942208 272.881616 \nL 423.660472 273.0911 \nL 424.592556 271.88004 \nL 424.623751 270.832082 \nL 425.183683 270.052508 \nL 425.773587 270.80065 \n\" style=\"fill:#ffffff;stroke:#000000;\"/>\n    <path clip-path=\"url(#p520653cbdf)\" d=\"M 397.393126 265.155313 \nL 399.050799 265.480434 \nL 399.390871 265.96236 \nL 399.964364 266.775073 \nL 400.4378 269.145316 \nL 399.964374 270.469854 \nL 400.4378 272.735446 \nL 401.02482 272.710048 \nL 401.634908 273.271943 \nL 402.343211 274.532357 \nL 402.487039 276.773272 \nL 401.755143 277.140274 \nL 401.238988 278.349532 \nL 400.135639 277.272935 \nL 400.010511 276.044403 \nL 400.366235 275.234118 \nL 400.268107 274.535779 \nL 399.600523 274.094747 \nL 399.135311 274.254877 \nL 398.161896 273.418384 \nL 397.272716 272.966994 \nL 397.786074 271.347955 \nL 398.318132 270.7413 \nL 397.993253 269.29725 \nL 398.333161 267.884452 \nL 398.621254 267.412169 \nL 398.191256 265.932815 \nL 397.393126 265.155313 \n\" style=\"fill:#ffffff;stroke:#000000;\"/>\n    <path clip-path=\"url(#p520653cbdf)\" d=\"M 322.530969 227.382579 \nL 322.608825 226.839642 \nL 322.464255 226.165711 \nL 321.831317 225.676225 \nL 321.497918 224.678207 \nL 321.420368 223.593999 \nL 321.989431 223.276351 \nL 322.273722 222.249648 \nL 322.809712 222.20948 \nL 323.99048 222.694868 \nL 324.94406 222.350247 \nL 325.59775 222.465931 \nL 325.851415 222.07835 \nL 332.636178 222.051872 \nL 333.012349 220.831626 \nL 332.719407 220.616829 \nL 331.903364 213.095371 \nL 331.087234 205.573868 \nL 333.675084 205.542527 \nL 339.378998 209.345157 \nL 345.082912 213.147697 \nL 345.484948 213.964331 \nL 346.537704 214.462778 \nL 347.320718 214.746247 \nL 347.340116 215.855042 \nL 349.215818 215.68442 \nL 349.220537 219.698155 \nL 348.295968 220.862247 \nL 348.151965 221.936098 \nL 346.649988 222.212497 \nL 344.342802 222.362315 \nL 343.717597 222.981669 \nL 342.633909 223.050116 \nL 341.549783 223.058132 \nL 341.127737 222.723778 \nL 340.196876 222.971853 \nL 338.616432 223.694778 \nL 338.293824 224.239561 \nL 336.981898 225.020801 \nL 336.751914 225.468498 \nL 336.043261 225.823341 \nL 335.225557 225.58837 \nL 334.762224 226.013687 \nL 334.514065 227.208895 \nL 333.171862 228.653305 \nL 333.210921 229.243614 \nL 332.749772 229.982345 \nL 332.86175 230.994099 \nL 332.164107 231.252351 \nL 331.769236 231.472281 \nL 331.507532 230.726886 \nL 331.019296 230.9234 \nL 330.727621 230.889402 \nL 330.416416 231.39798 \nL 329.110607 231.383615 \nL 328.642512 231.121941 \nL 328.422095 231.28027 \nL 327.905635 230.77786 \nL 327.995287 230.25888 \nL 327.784002 230.055566 \nL 327.423821 230.226998 \nL 327.489793 229.65997 \nL 327.83643 229.211372 \nL 327.143505 228.481287 \nL 326.942007 228.000628 \nL 326.566272 227.61773 \nL 326.227849 227.572024 \nL 325.821531 227.816091 \nL 325.27523 228.049216 \nL 324.811548 228.426349 \nL 324.087822 228.287114 \nL 323.618415 227.844596 \nL 323.338187 227.786461 \nL 322.89683 228.01873 \nL 322.62866 228.020712 \nL 322.530969 227.382579 \n\" style=\"fill:#ffffff;stroke:#000000;\"/>\n    <path clip-path=\"url(#p520653cbdf)\" d=\"M 313.147303 212.469848 \nL 313.516309 211.888499 \nL 320.138064 211.899397 \nL 319.817379 209.382532 \nL 320.230862 208.487409 \nL 321.815239 208.330972 \nL 321.760801 203.871567 \nL 327.310576 203.962709 \nL 327.315469 201.322911 \nL 333.675084 205.542527 \nL 331.087234 205.573868 \nL 331.903364 213.095371 \nL 332.719407 220.616829 \nL 333.012349 220.831626 \nL 332.636178 222.051872 \nL 325.851415 222.07835 \nL 325.59775 222.465931 \nL 324.94406 222.350247 \nL 323.99048 222.694868 \nL 322.809712 222.20948 \nL 322.273722 222.249648 \nL 321.989431 223.276351 \nL 321.420368 223.593999 \nL 320.304523 222.396944 \nL 319.281389 221.11478 \nL 318.158991 220.653079 \nL 317.35103 220.140763 \nL 316.406844 220.159901 \nL 315.581801 220.539736 \nL 314.741379 220.389288 \nL 314.162398 220.948076 \nL 314.015949 220.008958 \nL 314.487976 219.149634 \nL 314.697994 217.508755 \nL 314.511088 215.78646 \nL 314.306881 214.920111 \nL 314.475656 214.050971 \nL 314.03858 213.222538 \nL 313.147303 212.469848 \n\" style=\"fill:#ffffff;stroke:#000000;\"/>\n    <path clip-path=\"url(#p520653cbdf)\" d=\"M 387.010879 165.029126 \nL 387.414138 164.77209 \nL 388.538109 164.599711 \nL 389.784324 165.142693 \nL 390.47987 165.207898 \nL 391.243835 165.676804 \nL 391.122377 166.267384 \nL 391.738319 166.552474 \nL 391.982722 167.281073 \nL 392.573149 167.724132 \nL 392.453701 167.98387 \nL 392.768968 168.160571 \nL 392.321407 168.289449 \nL 391.324924 168.238429 \nL 391.15829 167.997199 \nL 390.804663 168.136254 \nL 390.924286 168.448318 \nL 390.461433 169.003999 \nL 390.166001 169.601918 \nL 389.740372 169.791228 \nL 389.437513 168.995983 \nL 389.61603 168.251849 \nL 389.561942 167.486909 \nL 388.586517 166.450569 \nL 388.050003 165.715711 \nL 387.526334 165.198982 \nL 387.010879 165.029126 \n\" style=\"fill:#ffffff;stroke:#000000;\"/>\n    <path clip-path=\"url(#p520653cbdf)\" d=\"M 490.379411 163.15305 \nL 492.16214 162.850983 \nL 495.388565 161.349925 \nL 497.960512 160.530183 \nL 499.430755 161.065015 \nL 501.194976 161.090727 \nL 502.325151 161.904795 \nL 504.012797 161.967489 \nL 506.457412 162.405647 \nL 508.100979 161.192047 \nL 507.414433 160.166244 \nL 509.165793 158.360057 \nL 511.06002 159.08046 \nL 512.59494 159.28463 \nL 514.582991 159.732435 \nL 514.905414 161.038403 \nL 517.307613 161.771414 \nL 518.905581 161.448379 \nL 521.0446 161.220596 \nL 522.739251 161.450164 \nL 524.395279 162.287738 \nL 525.421646 163.178583 \nL 526.989596 163.160435 \nL 529.1194 163.44422 \nL 530.673718 163.012284 \nL 532.899814 162.723681 \nL 535.376517 161.495465 \nL 536.390477 161.683784 \nL 537.275812 162.267744 \nL 539.293245 162.122474 \nL 538.469775 163.436429 \nL 537.275113 165.177863 \nL 537.710616 165.890386 \nL 538.667865 165.669284 \nL 540.33604 165.94064 \nL 541.635732 165.29751 \nL 542.992571 165.854631 \nL 544.524957 167.072851 \nL 544.339711 167.692205 \nL 543.005678 167.495736 \nL 540.549422 167.726969 \nL 539.359305 168.222849 \nL 538.120254 169.374783 \nL 535.542015 170.049975 \nL 533.857151 170.975269 \nL 532.11916 170.621912 \nL 531.16759 170.464304 \nL 530.279983 171.587779 \nL 530.819992 172.257478 \nL 531.093667 172.832702 \nL 529.91019 173.418778 \nL 528.696829 174.352223 \nL 526.720989 174.965318 \nL 524.186615 175.031423 \nL 521.455025 175.636503 \nL 519.486262 176.572244 \nL 518.737677 176.030343 \nL 516.691671 176.031874 \nL 514.190414 174.973288 \nL 512.521191 174.713731 \nL 510.2722 174.956177 \nL 506.782063 174.565444 \nL 504.918069 174.605972 \nL 503.925606 173.571073 \nL 503.155262 171.964417 \nL 502.11037 171.770965 \nL 500.067422 170.684955 \nL 497.790034 170.441654 \nL 495.78064 170.14364 \nL 495.172299 169.387887 \nL 495.823369 167.351547 \nL 494.656669 165.94789 \nL 492.24454 165.293412 \nL 490.823389 164.369063 \nL 490.379411 163.15305 \n\" style=\"fill:#ffffff;stroke:#000000;\"/>\n    <path clip-path=\"url(#p520653cbdf)\" d=\"M 375.937729 174.844745 \nL 375.482728 174.999046 \nL 375.375251 174.671131 \nL 374.642131 175.529464 \nL 374.755899 176.084014 \nL 374.401978 175.949 \nL 373.927982 175.379993 \nL 373.197301 175.034079 \nL 373.383273 174.737789 \nL 373.630957 173.779057 \nL 374.18079 173.373995 \nL 374.49677 173.21486 \nL 374.945487 173.513838 \nL 375.192545 173.755233 \nL 375.748127 173.943002 \nL 376.392753 174.304668 \nL 376.253726 174.454148 \nL 375.937729 174.844745 \n\" style=\"fill:#ffffff;stroke:#000000;\"/>\n    <path clip-path=\"url(#p520653cbdf)\" d=\"M 400.4378 269.145316 \nL 401.710055 269.00437 \nL 403.741993 269.495476 \nL 404.183437 269.275185 \nL 405.360545 269.23026 \nL 405.9631 268.707472 \nL 406.977505 268.736076 \nL 408.826418 268.059308 \nL 410.171689 267.048867 \nL 410.171682 267.048863 \nL 410.171686 267.04886 \nL 410.445273 267.830235 \nL 410.375719 269.566535 \nL 410.584645 271.095783 \nL 410.650267 273.819428 \nL 410.947622 274.673033 \nL 410.443351 275.918316 \nL 409.787301 277.128656 \nL 408.71069 278.209396 \nL 407.164848 278.87189 \nL 405.258825 279.717749 \nL 403.348345 281.588331 \nL 402.697712 281.906519 \nL 401.517294 283.144867 \nL 400.820612 283.547803 \nL 400.677746 284.790475 \nL 401.479633 286.110329 \nL 401.813251 287.132439 \nL 401.834253 287.653821 \nL 402.133032 287.566681 \nL 402.084653 289.275998 \nL 401.810454 290.085653 \nL 402.208995 290.384027 \nL 401.957515 291.109114 \nL 401.250697 291.729099 \nL 399.855848 292.318102 \nL 397.822337 293.261408 \nL 397.080742 293.9058 \nL 397.225705 294.639983 \nL 397.657888 294.757243 \nL 397.512749 295.674522 \nL 396.230271 295.659932 \nL 396.085045 294.889544 \nL 395.834788 294.107988 \nL 395.690436 293.48224 \nL 395.991723 291.539248 \nL 395.551764 290.30108 \nL 394.741837 287.84816 \nL 396.523344 285.870044 \nL 396.969245 284.613143 \nL 397.224657 284.454545 \nL 397.41567 283.428562 \nL 397.143918 282.912328 \nL 397.216443 281.609946 \nL 397.546128 280.402128 \nL 397.542371 278.196337 \nL 396.664113 277.636333 \nL 395.858905 277.509707 \nL 395.494442 277.078491 \nL 394.710817 276.710679 \nL 393.300414 276.745353 \nL 393.191014 276.095198 \nL 393.030759 274.854868 \nL 398.161896 273.418384 \nL 399.135311 274.254877 \nL 399.600523 274.094747 \nL 400.268107 274.535779 \nL 400.366235 275.234118 \nL 400.010511 276.044403 \nL 400.135639 277.272935 \nL 401.238988 278.349532 \nL 401.755143 277.140274 \nL 402.487039 276.773272 \nL 402.343211 274.532357 \nL 401.634908 273.271943 \nL 401.02482 272.710048 \nL 400.4378 272.735446 \nL 399.964374 270.469854 \nL 400.4378 269.145316 \n\" style=\"fill:#ffffff;stroke:#000000;\"/>\n    <path clip-path=\"url(#p520653cbdf)\" d=\"M 397.346465 187.826174 \nL 397.466001 187.816627 \nL 397.710316 187.396264 \nL 398.92822 187.419771 \nL 400.465674 186.899754 \nL 399.323178 187.641908 \nL 399.446297 187.968246 \nL 399.265071 187.907094 \nL 398.942026 188.03908 \nL 398.688886 188.002785 \nL 398.604564 188.069611 \nL 398.570923 187.89345 \nL 398.449027 187.786637 \nL 398.122925 187.76849 \nL 397.664004 187.917136 \nL 397.346465 187.826174 \n\" style=\"fill:#ffffff;stroke:#000000;\"/>\n    <path clip-path=\"url(#p520653cbdf)\" d=\"M 375.641935 292.233534 \nL 375.640187 298.670244 \nL 374.13087 299.561404 \nL 373.222466 299.688662 \nL 372.159312 299.359126 \nL 371.400677 299.232139 \nL 371.115643 298.486968 \nL 370.447884 298.009821 \nL 369.63787 298.871712 \nL 368.381256 297.5551 \nL 367.719526 296.282348 \nL 367.346238 294.585586 \nL 366.929435 293.323011 \nL 366.362862 290.639262 \nL 366.324939 288.554243 \nL 366.108498 287.603642 \nL 365.450613 286.88531 \nL 364.57786 285.445404 \nL 363.689029 283.354621 \nL 363.319936 282.260461 \nL 361.944135 280.559106 \nL 361.841464 279.22196 \nL 362.655235 278.890443 \nL 363.667446 278.593599 \nL 364.76363 278.645655 \nL 365.771648 279.433695 \nL 366.027322 279.311211 \nL 372.881596 279.236009 \nL 374.053189 280.071062 \nL 378.146861 280.317741 \nL 381.254536 279.607514 \nL 382.639075 279.211423 \nL 383.735608 279.311751 \nL 384.402843 279.7046 \nL 384.415513 279.84924 \nL 383.462283 280.241909 \nL 382.949362 280.245781 \nL 381.869955 280.928809 \nL 381.223779 280.210387 \nL 378.616705 280.820555 \nL 377.357993 280.878194 \nL 377.308099 287.086238 \nL 375.64141 287.146939 \nL 375.641935 292.233534 \n\" style=\"fill:#ffffff;stroke:#000000;\"/>\n    <path clip-path=\"url(#p520653cbdf)\" d=\"M 491.003654 200.484977 \nL 490.872934 201.235641 \nL 491.095578 202.34304 \nL 490.901856 203.032822 \nL 489.493725 203.061957 \nL 487.459428 202.655734 \nL 486.153007 202.489795 \nL 485.177758 201.603228 \nL 482.859912 201.377353 \nL 480.654524 200.399688 \nL 479.060361 199.544642 \nL 477.422245 198.885211 \nL 478.07882 197.255004 \nL 479.15176 196.464442 \nL 479.852724 196.047502 \nL 481.20834 196.583324 \nL 482.915486 197.718822 \nL 483.86557 197.968923 \nL 484.433017 198.806046 \nL 485.746952 199.149587 \nL 487.119432 199.915021 \nL 489.032183 200.31467 \nL 491.003654 200.484977 \n\" style=\"fill:#ffffff;stroke:#000000;\"/>\n    <path clip-path=\"url(#p520653cbdf)\" d=\"M 622.318892 285.806461 \nL 623.70544 286.887021 \nL 624.584747 287.68866 \nL 623.94224 288.106907 \nL 623.011729 287.635884 \nL 621.802126 286.851447 \nL 620.712233 285.928134 \nL 619.593156 284.699332 \nL 619.359152 284.108347 \nL 620.086853 284.133385 \nL 621.033879 284.725901 \nL 621.777834 285.318507 \nL 622.318892 285.806461 \n\" style=\"fill:#ffffff;stroke:#000000;\"/>\n    <path clip-path=\"url(#p520653cbdf)\" d=\"M 200.545966 230.00414 \nL 200.14109 230.373483 \nL 199.642062 230.257394 \nL 199.36179 229.898768 \nL 198.825538 229.753364 \nL 198.43674 229.980544 \nL 197.322687 229.519023 \nL 197.067886 229.743277 \nL 196.48292 229.194306 \nL 195.692654 228.491194 \nL 195.320414 227.903721 \nL 194.607654 227.355966 \nL 193.760547 226.568827 \nL 193.948284 226.299317 \nL 194.22742 226.561667 \nL 194.355475 226.438508 \nL 194.881154 226.366863 \nL 195.092876 225.968791 \nL 195.340992 225.9533 \nL 195.305035 225.096273 \nL 195.701348 225.05507 \nL 196.054014 225.067498 \nL 196.419045 224.602465 \nL 196.917811 224.954741 \nL 197.091348 224.738593 \nL 197.402902 224.531316 \nL 197.993111 224.051422 \nL 198.021204 223.692706 \nL 198.183469 223.707792 \nL 198.40039 223.291346 \nL 198.577029 223.240642 \nL 198.865252 223.506909 \nL 199.20385 223.585668 \nL 199.577531 223.364071 \nL 200.004689 223.3629 \nL 200.591665 223.135224 \nL 200.826019 222.897867 \nL 201.405612 222.933486 \nL 201.260167 223.100731 \nL 201.174054 223.489797 \nL 201.346586 224.127524 \nL 200.957046 224.721166 \nL 200.775557 225.422431 \nL 200.720813 226.190388 \nL 200.811601 226.639615 \nL 200.854199 227.424233 \nL 200.59586 227.59544 \nL 200.437745 228.340881 \nL 200.554005 228.801141 \nL 200.208023 229.246812 \nL 200.286709 229.717834 \nL 200.545966 230.00414 \n\" style=\"fill:#ffffff;stroke:#000000;\"/>\n    <path clip-path=\"url(#p520653cbdf)\" d=\"M 367.112198 209.222666 \nL 367.527465 211.931729 \nL 368.160156 212.384977 \nL 368.187359 212.939249 \nL 368.890944 213.536673 \nL 368.523161 214.286842 \nL 367.871655 217.823385 \nL 367.782527 220.090148 \nL 365.625669 221.733497 \nL 364.895574 224.029177 \nL 365.599509 224.674784 \nL 365.595752 225.795827 \nL 366.680139 225.83595 \nL 366.511059 226.656862 \nL 366.033788 226.756831 \nL 365.97935 227.311701 \nL 365.664869 227.350202 \nL 364.520714 225.4422 \nL 364.123833 225.372852 \nL 362.801684 226.347005 \nL 361.492467 225.838471 \nL 360.582403 225.736792 \nL 360.094472 225.981489 \nL 359.103232 225.928623 \nL 358.105787 226.671317 \nL 357.243433 226.713916 \nL 355.19699 225.813119 \nL 354.395626 226.240957 \nL 353.532747 226.211237 \nL 352.89863 225.553021 \nL 351.203717 224.902685 \nL 349.386472 225.109107 \nL 348.946163 225.486015 \nL 348.708314 226.488312 \nL 348.223617 227.191018 \nL 348.106178 228.746879 \nL 346.816796 227.743952 \nL 346.21064 227.748455 \nL 345.643019 228.258925 \nL 345.681291 227.065337 \nL 343.731665 226.670056 \nL 343.67915 225.826673 \nL 342.726968 224.688654 \nL 342.499911 223.894805 \nL 342.633909 223.050116 \nL 343.717597 222.981669 \nL 344.342802 222.362315 \nL 346.649988 222.212497 \nL 348.151965 221.936098 \nL 348.295968 220.862247 \nL 349.220537 219.698155 \nL 349.215818 215.68442 \nL 351.600248 214.907232 \nL 356.495983 211.483582 \nL 362.290073 208.161791 \nL 364.964954 208.913221 \nL 365.916 209.870397 \nL 367.112198 209.222666 \n\" style=\"fill:#ffffff;stroke:#000000;\"/>\n    <path clip-path=\"url(#p520653cbdf)\" d=\"M 346.551423 238.160353 \nL 346.648415 235.351104 \nL 346.605686 234.242489 \nL 346.924449 233.143196 \nL 347.445322 232.60895 \nL 348.265559 231.530056 \nL 348.087391 231.061285 \nL 348.420572 230.359704 \nL 348.040293 229.325886 \nL 348.106178 228.746879 \nL 348.223617 227.191018 \nL 348.708314 226.488312 \nL 348.946163 225.486015 \nL 349.386472 225.109107 \nL 351.203717 224.902685 \nL 352.89863 225.553021 \nL 353.532747 226.211237 \nL 354.395626 226.240957 \nL 355.19699 225.813119 \nL 357.243433 226.713916 \nL 358.105787 226.671317 \nL 359.103232 225.928623 \nL 360.094472 225.981489 \nL 360.582403 225.736792 \nL 361.492467 225.838471 \nL 362.801684 226.347005 \nL 364.123833 225.372852 \nL 364.520714 225.4422 \nL 365.664869 227.350202 \nL 365.97935 227.311701 \nL 366.648682 228.005851 \nL 366.464398 228.320617 \nL 366.375095 228.899894 \nL 364.950624 230.248478 \nL 364.503762 231.36074 \nL 364.265214 232.266535 \nL 363.906519 232.654926 \nL 363.565299 233.874902 \nL 362.661002 234.592829 \nL 362.399036 235.474713 \nL 362.019195 236.176654 \nL 361.861037 236.901066 \nL 360.699405 237.488313 \nL 359.750107 236.772142 \nL 359.109086 236.801052 \nL 358.10203 237.821091 \nL 357.612439 237.836762 \nL 356.808192 239.518259 \nL 356.373214 240.751609 \nL 354.617747 241.378798 \nL 353.976027 241.28716 \nL 353.325831 241.677713 \nL 351.973274 241.639617 \nL 351.068015 240.549465 \nL 350.511316 239.287971 \nL 349.314208 238.139729 \nL 348.043614 238.161254 \nL 346.551423 238.160353 \n\" style=\"fill:#ffffff;stroke:#000000;\"/>\n    <path clip-path=\"url(#p520653cbdf)\" d=\"M 211.202499 233.957264 \nL 210.997287 234.212093 \nL 211.389842 235.238617 \nL 211.071036 235.756606 \nL 210.526046 235.631511 \nL 210.309343 236.478631 \nL 209.745654 235.975862 \nL 209.383419 235.035122 \nL 209.801184 234.569548 \nL 209.372759 234.450126 \nL 209.057142 233.874272 \nL 208.214753 233.38983 \nL 207.474862 233.500876 \nL 207.132113 234.107126 \nL 206.44915 234.544916 \nL 206.080231 234.605753 \nL 205.914471 234.968431 \nL 206.721033 235.914395 \nL 206.259448 236.137072 \nL 206.015133 236.395324 \nL 205.228449 236.48426 \nL 204.935682 235.443147 \nL 204.715572 235.73945 \nL 204.157911 235.63714 \nL 203.816692 234.935919 \nL 203.123199 234.820145 \nL 202.68442 234.61629 \nL 201.958772 234.618902 \nL 201.906562 234.997161 \nL 201.712403 234.733641 \nL 201.801356 234.387714 \nL 201.942388 234.034311 \nL 201.876634 233.718915 \nL 202.129381 233.512494 \nL 201.77772 233.253477 \nL 201.768021 232.552031 \nL 202.421886 232.396359 \nL 203.029047 233.021478 \nL 202.994445 233.390731 \nL 203.669151 233.469084 \nL 203.828794 233.327327 \nL 204.293569 233.755571 \nL 205.125472 233.629619 \nL 205.844785 233.189443 \nL 206.871677 232.837932 \nL 207.448779 232.317105 \nL 208.382348 232.41937 \nL 208.319347 232.590803 \nL 209.262135 232.650243 \nL 210.014522 232.951274 \nL 210.566459 233.475659 \nL 211.202499 233.957264 \n\" style=\"fill:#ffffff;stroke:#000000;\"/>\n    <path clip-path=\"url(#p520653cbdf)\" d=\"M 580.418538 253.599766 \nL 583.352326 254.800559 \nL 586.478351 255.797902 \nL 587.64374 256.690774 \nL 588.584912 257.566984 \nL 588.842159 258.593687 \nL 591.659469 259.670825 \nL 592.070418 260.595128 \nL 590.51444 260.782727 \nL 590.888078 261.944073 \nL 592.397657 263.087496 \nL 593.495851 264.935832 \nL 594.464285 264.877923 \nL 594.396303 265.649932 \nL 595.70185 265.946054 \nL 595.194696 266.27478 \nL 596.991843 267.008062 \nL 596.804063 267.511777 \nL 595.684374 267.63336 \nL 595.26827 267.181611 \nL 593.815487 266.985817 \nL 592.107468 266.723557 \nL 590.792658 265.611655 \nL 589.832962 264.653309 \nL 588.954704 263.128114 \nL 586.749229 262.366012 \nL 585.316894 262.863062 \nL 584.284235 263.438466 \nL 584.49989 264.723917 \nL 583.171711 265.323008 \nL 582.224511 265.031568 \nL 580.475422 264.958888 \nL 580.447024 259.279327 \nL 580.418538 253.599766 \n\" style=\"fill:#ffffff;stroke:#000000;\"/>\n    <path clip-path=\"url(#p520653cbdf)\" d=\"M 600.100392 255.446841 \nL 600.742898 256.004593 \nL 600.945882 256.910794 \nL 600.417058 257.375152 \nL 600.09812 256.346378 \nL 599.704735 255.672986 \nL 598.93911 255.101905 \nL 597.977054 254.358356 \nL 596.755829 253.846085 \nL 597.22576 253.425226 \nL 598.138882 253.913181 \nL 598.713844 254.296573 \nL 599.423982 254.71491 \nL 600.100392 255.446841 \n\" style=\"fill:#ffffff;stroke:#000000;\"/>\n    <path clip-path=\"url(#p520653cbdf)\" d=\"M 597.836897 259.247445 \nL 596.912065 259.671005 \nL 596.044205 260.078805 \nL 595.145937 260.076643 \nL 593.759564 259.570406 \nL 592.793839 259.084343 \nL 592.933996 258.545144 \nL 594.450042 258.799568 \nL 595.375223 258.663215 \nL 595.630023 257.827712 \nL 595.872678 257.784573 \nL 596.036953 258.709777 \nL 597.001717 258.576666 \nL 597.4789 257.980367 \nL 598.42278 257.358851 \nL 598.236748 256.331878 \nL 599.249484 256.298735 \nL 599.590966 256.584861 \nL 599.557062 257.551583 \nL 598.989091 258.615392 \nL 598.103581 258.75868 \nL 597.836897 259.247445 \n\" style=\"fill:#ffffff;stroke:#000000;\"/>\n    <path clip-path=\"url(#p520653cbdf)\" d=\"M 603.685075 258.374747 \nL 604.197298 258.770028 \nL 605.017098 259.874725 \nL 605.815578 260.46616 \nL 605.578952 260.954114 \nL 605.105439 261.128384 \nL 604.373281 260.459045 \nL 603.632997 259.352187 \nL 603.26932 258.024677 \nL 603.503324 257.856172 \nL 603.685075 258.374747 \n\" style=\"fill:#ffffff;stroke:#000000;\"/>\n    <path clip-path=\"url(#p520653cbdf)\" d=\"M 243.645918 284.232182 \nL 244.145951 285.201156 \nL 244.033537 287.566987 \nL 245.818538 287.901566 \nL 246.508754 287.560232 \nL 247.650725 288.031886 \nL 247.967391 288.552442 \nL 248.124719 290.149506 \nL 248.322373 290.820376 \nL 248.952821 290.897649 \nL 249.587026 290.615846 \nL 250.195541 290.932052 \nL 250.194667 291.890219 \nL 249.9656 292.920885 \nL 249.633599 293.926604 \nL 249.357129 295.464678 \nL 247.823389 296.799752 \nL 246.486123 297.079754 \nL 244.587134 296.813802 \nL 242.881997 296.339447 \nL 244.54672 293.690282 \nL 244.303978 292.921155 \nL 242.562492 292.239928 \nL 240.496476 290.952587 \nL 239.113991 290.687535 \nL 236.005267 287.843837 \nL 236.671279 285.757017 \nL 236.71392 284.819565 \nL 237.524939 283.285904 \nL 240.471791 282.778767 \nL 242.041837 282.803443 \nL 243.617039 283.694874 \nL 243.645918 284.232182 \n\" style=\"fill:#ffffff;stroke:#000000;\"/>\n    <path clip-path=\"url(#p520653cbdf)\" d=\"M 427.915274 205.925649 \nL 427.80334 204.657445 \nL 428.25894 203.743229 \nL 428.720744 203.55572 \nL 429.232442 204.102035 \nL 429.262239 205.122344 \nL 428.895155 206.147606 \nL 428.426448 206.271441 \nL 427.915274 205.925649 \n\" style=\"fill:#ffffff;stroke:#000000;\"/>\n    <path clip-path=\"url(#p520653cbdf)\" d=\"M 389.740372 169.791228 \nL 390.4949 170.112343 \nL 391.289535 169.831936 \nL 392.056471 170.131031 \nL 392.095792 170.580529 \nL 391.275816 170.955546 \nL 390.762196 170.792309 \nL 390.28912 172.894844 \nL 389.294908 172.711839 \nL 388.064421 172.0783 \nL 386.073814 172.483488 \nL 385.235314 172.927987 \nL 382.752057 172.836304 \nL 381.452802 172.564498 \nL 380.797626 172.692116 \nL 380.31118 171.975585 \nL 380.001505 171.671807 \nL 380.393318 171.377665 \nL 379.976165 171.160661 \nL 379.44533 171.551214 \nL 378.45942 171.044887 \nL 378.32669 170.326465 \nL 377.296565 169.916549 \nL 377.10695 169.361994 \nL 376.190507 168.677255 \nL 377.54621 168.34853 \nL 378.568471 167.16665 \nL 379.368698 165.98468 \nL 380.401444 165.61912 \nL 381.131418 165.245904 \nL 382.17762 165.438906 \nL 383.261659 165.445391 \nL 384.046682 165.871248 \nL 384.624002 165.603674 \nL 385.872228 165.436205 \nL 386.297507 165.028855 \nL 387.010879 165.029126 \nL 387.526334 165.198982 \nL 388.050003 165.715711 \nL 388.586517 166.450569 \nL 389.561942 167.486909 \nL 389.61603 168.251849 \nL 389.437513 168.995983 \nL 389.740372 169.791228 \n\" style=\"fill:#ffffff;stroke:#000000;\"/>\n    <path clip-path=\"url(#p520653cbdf)\" d=\"M 644.208235 125.157212 \nL 646.363636 124.430613 \nL 646.363636 125.621844 \nL 644.509428 125.71083 \nL 644.208235 125.157212 \n\" style=\"fill:#ffffff;stroke:#000000;\"/>\n    <path clip-path=\"url(#p520653cbdf)\" d=\"M 425.025598 168.203456 \nL 424.254966 169.237006 \nL 422.61563 169.524219 \nL 420.935035 171.323295 \nL 422.471953 172.977282 \nL 422.305534 174.151197 \nL 424.151753 176.203693 \nL 424.151725 176.203713 \nL 423.142133 176.906148 \nL 422.851944 177.349521 \nL 422.10397 177.23046 \nL 420.941901 176.171875 \nL 420.466553 176.113425 \nL 419.403731 175.709505 \nL 418.886108 174.994363 \nL 417.309071 174.629748 \nL 416.283682 174.903425 \nL 415.987401 174.57949 \nL 413.685076 173.74387 \nL 411.195703 173.461798 \nL 409.766504 173.163859 \nL 409.560287 173.369695 \nL 407.404364 171.897024 \nL 405.475239 171.239623 \nL 404.014869 170.215762 \nL 405.24536 169.937228 \nL 406.648443 168.47962 \nL 405.702836 167.789994 \nL 408.195151 167.078617 \nL 408.150393 166.697624 \nL 406.632528 166.978511 \nL 406.685917 166.204341 \nL 407.557509 165.717717 \nL 409.193815 165.58994 \nL 409.459867 165.008763 \nL 409.086226 164.047766 \nL 409.772971 163.135218 \nL 409.753104 162.623497 \nL 407.260616 162.056369 \nL 406.272522 162.075192 \nL 405.228941 161.259053 \nL 403.93152 161.535047 \nL 401.783978 160.922267 \nL 401.82083 160.579384 \nL 401.219328 159.823649 \nL 399.871052 159.739262 \nL 399.730982 159.198261 \nL 400.15329 158.845399 \nL 399.072747 157.858638 \nL 397.319377 158.027008 \nL 396.805844 157.939468 \nL 396.378689 158.33586 \nL 395.747224 158.265402 \nL 395.747186 158.265398 \nL 395.331304 157.149357 \nL 394.934248 156.570846 \nL 395.259646 156.408009 \nL 396.624006 156.468491 \nL 397.281978 156.08735 \nL 396.794921 155.622676 \nL 395.654698 155.315971 \nL 395.756408 155.001205 \nL 395.068289 154.683288 \nL 394.008194 153.542251 \nL 394.370559 153.072084 \nL 394.204974 152.253963 \nL 392.551916 151.838329 \nL 391.664658 152.046371 \nL 391.42445 151.613715 \nL 389.644254 151.176645 \nL 389.10075 150.148051 \nL 388.956572 149.302912 \nL 388.14184 148.901597 \nL 388.866396 148.348483 \nL 388.364981 146.723024 \nL 389.568146 145.718726 \nL 389.31353 145.414529 \nL 389.313542 145.414523 \nL 391.235384 144.451318 \nL 389.463821 143.62267 \nL 389.463818 143.622669 \nL 393.084236 141.397971 \nL 394.654894 140.391216 \nL 395.290847 139.502397 \nL 392.78793 138.308359 \nL 393.479194 137.172681 \nL 391.956945 135.875657 \nL 393.095299 134.38154 \nL 391.128668 132.3977 \nL 392.689103 131.083609 \nL 390.099505 129.922354 \nL 390.346354 128.702108 \nL 391.711966 128.541521 \nL 394.589035 127.842342 \nL 394.589099 127.842327 \nL 396.333508 127.236111 \nL 399.111249 128.289686 \nL 403.741787 128.704473 \nL 410.130684 130.675615 \nL 411.428507 131.503915 \nL 411.540243 132.663836 \nL 409.663131 133.579503 \nL 406.902079 134.044221 \nL 399.353455 132.719553 \nL 398.111871 132.941028 \nL 400.868611 134.217421 \nL 400.976498 135.02597 \nL 401.086975 136.806838 \nL 403.263818 137.338253 \nL 404.585162 137.790719 \nL 404.803695 136.94567 \nL 403.785106 136.196701 \nL 404.861304 135.536598 \nL 408.948925 136.62137 \nL 410.372924 136.196701 \nL 409.234942 134.920344 \nL 413.175589 133.213428 \nL 414.736213 133.313901 \nL 416.315032 133.923009 \nL 417.300003 132.725252 \nL 415.890005 131.686352 \nL 416.717806 130.644053 \nL 415.474768 129.563028 \nL 420.204545 130.122101 \nL 421.170629 131.098122 \nL 419.029651 131.31327 \nL 419.041234 132.283086 \nL 420.372199 132.879786 \nL 422.984671 132.501808 \nL 423.398267 131.390198 \nL 426.930407 130.560119 \nL 432.831291 129.063559 \nL 434.10671 129.149357 \nL 432.439659 130.206958 \nL 434.537164 130.388715 \nL 435.748532 129.793305 \nL 438.91787 129.745168 \nL 441.428836 129.022708 \nL 443.355492 130.072536 \nL 445.277075 128.918367 \nL 443.505273 127.908745 \nL 444.384545 127.333621 \nL 449.379491 127.86101 \nL 451.719904 128.405731 \nL 457.847834 130.396889 \nL 458.978241 129.484881 \nL 457.259871 128.56341 \nL 457.210463 128.19371 \nL 455.172681 128.022707 \nL 455.73014 127.19641 \nL 454.825774 125.836747 \nL 454.774607 125.278912 \nL 457.895011 123.700754 \nL 459.004754 122.116792 \nL 460.262182 121.774088 \nL 464.738931 122.233682 \nL 465.091469 123.203079 \nL 463.488622 124.61663 \nL 464.540368 125.172217 \nL 465.084452 126.390522 \nL 464.700311 128.778664 \nL 466.565671 129.846913 \nL 465.839984 131.010232 \nL 462.528 133.485706 \nL 464.460726 133.742473 \nL 465.133302 133.115065 \nL 466.993674 132.667531 \nL 467.442644 131.805141 \nL 468.906109 130.975254 \nL 467.920749 129.984437 \nL 468.709693 128.833858 \nL 466.860718 128.690461 \nL 466.454071 127.721167 \nL 467.803298 125.971187 \nL 465.607315 124.550072 \nL 468.633568 123.37539 \nL 468.242021 122.13612 \nL 469.085362 122.096558 \nL 469.973935 123.062784 \nL 469.306821 124.744586 \nL 471.116313 125.062979 \nL 470.345293 123.806176 \nL 473.175063 123.120976 \nL 476.684325 123.028712 \nL 479.809091 124.0223 \nL 478.305382 122.570809 \nL 478.136934 120.714117 \nL 481.077273 120.36242 \nL 485.144349 120.43926 \nL 488.808616 120.211005 \nL 487.434347 119.299887 \nL 489.391168 118.155285 \nL 491.333837 118.107358 \nL 494.621455 117.242807 \nL 499.086435 117.010439 \nL 499.650573 116.533139 \nL 504.090545 116.371407 \nL 505.474064 116.7627 \nL 509.269022 115.836559 \nL 512.375442 115.865507 \nL 512.841541 115.113297 \nL 514.457239 114.371474 \nL 518.449069 113.656263 \nL 521.349046 114.220983 \nL 519.046636 114.650566 \nL 522.876765 114.91758 \nL 523.333091 115.778855 \nL 524.878244 115.354744 \nL 529.821549 115.378011 \nL 533.633281 116.228079 \nL 534.990506 116.880932 \nL 534.569841 117.786927 \nL 532.699341 118.302674 \nL 528.25575 119.270154 \nL 526.985455 119.787295 \nL 529.082182 120.031288 \nL 531.583358 120.470926 \nL 533.105768 120.141206 \nL 533.968199 121.259875 \nL 534.710897 120.807043 \nL 537.414677 120.531733 \nL 542.839976 120.819521 \nL 543.252 121.634664 \nL 550.321116 121.893958 \nL 550.417684 120.562789 \nL 554.006182 120.867832 \nL 556.705617 120.858264 \nL 559.436131 121.776336 \nL 560.214473 122.891711 \nL 559.214182 123.621456 \nL 561.337947 124.99297 \nL 563.997053 125.700634 \nL 565.628645 123.871897 \nL 568.341134 124.655948 \nL 571.2229 124.187431 \nL 574.495857 124.723551 \nL 575.741279 124.23487 \nL 578.507167 124.47921 \nL 577.286466 122.861264 \nL 579.518906 122.106248 \nL 594.790909 123.23804 \nL 596.230177 124.272514 \nL 600.656504 125.604379 \nL 607.484361 125.274659 \nL 610.850809 125.561681 \nL 612.258524 126.282294 \nL 612.052825 127.556734 \nL 614.135805 128.052909 \nL 616.399155 127.696054 \nL 619.39783 127.65041 \nL 622.59008 127.992417 \nL 625.79486 127.799489 \nL 628.740356 129.348646 \nL 630.835815 128.791247 \nL 629.468411 127.677371 \nL 630.221288 126.903097 \nL 635.616066 127.390384 \nL 639.13336 127.286129 \nL 643.996364 128.117881 \nL 646.363636 128.878376 \nL 646.363636 135.821566 \nL 646.351479 135.83094 \nL 644.177629 136.596726 \nL 641.986346 136.469014 \nL 643.511073 137.396672 \nL 644.517586 138.832669 \nL 645.298939 139.302093 \nL 645.495118 140.023054 \nL 645.058677 140.484618 \nL 641.906907 140.105036 \nL 637.180799 141.416929 \nL 635.677311 141.620035 \nL 633.09 142.844543 \nL 630.635645 143.914309 \nL 630.013983 144.706255 \nL 627.595323 143.500621 \nL 623.189693 144.868719 \nL 622.420364 144.221356 \nL 620.791579 144.967971 \nL 618.530072 144.729016 \nL 617.985295 145.875256 \nL 615.956576 147.561816 \nL 616.01684 148.266186 \nL 617.942684 148.65673 \nL 617.716153 151.193881 \nL 616.146381 151.258452 \nL 615.422469 152.716322 \nL 616.125938 153.466667 \nL 613.169011 154.356907 \nL 612.582198 156.346767 \nL 610.061408 156.771818 \nL 609.554541 158.542486 \nL 607.117281 160.166149 \nL 606.492 158.965446 \nL 605.767987 156.422788 \nL 604.824189 152.550146 \nL 605.63711 150.133074 \nL 607.063781 149.093005 \nL 607.152046 148.278525 \nL 609.779685 147.888643 \nL 612.800173 145.694423 \nL 615.710904 143.902423 \nL 618.750567 142.511843 \nL 620.109821 140.055 \nL 618.055147 140.201988 \nL 617.039739 141.637654 \nL 612.750866 143.55172 \nL 611.365741 141.408546 \nL 607.000423 142.000296 \nL 602.76872 144.921648 \nL 604.164886 145.990385 \nL 600.390946 146.44543 \nL 597.776598 146.624869 \nL 597.899054 145.364702 \nL 595.270637 145.100198 \nL 593.17577 145.956348 \nL 588.005663 145.656778 \nL 582.443587 146.173327 \nL 576.966157 149.575151 \nL 570.486103 153.685476 \nL 573.150164 153.905138 \nL 573.981601 154.996532 \nL 575.623947 155.383974 \nL 576.706011 154.513376 \nL 578.560735 154.626431 \nL 581.00207 156.543703 \nL 581.059425 158.026478 \nL 579.737456 159.76771 \nL 579.594844 161.848857 \nL 578.831991 164.635281 \nL 576.283436 167.157218 \nL 575.716964 168.362713 \nL 573.421741 170.392116 \nL 571.144137 172.404179 \nL 570.051878 173.433808 \nL 567.798707 174.456379 \nL 566.73242 174.479001 \nL 565.670191 173.631878 \nL 563.400653 174.907294 \nL 563.137099 175.487175 \nL 563.137097 175.487179 \nL 563.137091 175.487193 \nL 563.137078 175.487176 \nL 562.900364 175.182203 \nL 562.900363 175.182161 \nL 562.889992 174.296835 \nL 563.753745 174.249823 \nL 563.997011 172.190652 \nL 563.551685 170.698048 \nL 565.002932 170.082488 \nL 567.05513 170.391088 \nL 568.192307 168.695628 \nL 568.771792 166.786297 \nL 569.428642 166.148485 \nL 570.317218 164.580348 \nL 567.522626 165.094105 \nL 566.056767 165.781608 \nL 563.487549 165.779569 \nL 562.802787 164.142108 \nL 560.799947 162.903129 \nL 557.857058 162.346008 \nL 557.231516 160.638888 \nL 556.642574 159.56864 \nL 556.008893 158.818606 \nL 554.963826 157.060917 \nL 553.478975 156.419137 \nL 550.948122 155.900209 \nL 548.706446 155.947394 \nL 546.605216 156.261664 \nL 545.208532 157.128733 \nL 546.136334 157.542927 \nL 546.15732 158.505155 \nL 545.216972 159.063827 \nL 543.690605 160.912294 \nL 543.705943 161.679191 \nL 541.323086 162.780465 \nL 539.293245 162.122474 \nL 537.275812 162.267744 \nL 536.390477 161.683784 \nL 535.376517 161.495465 \nL 532.899814 162.723681 \nL 530.673718 163.012284 \nL 529.1194 163.44422 \nL 526.989596 163.160435 \nL 525.421646 163.178583 \nL 524.395279 162.287738 \nL 522.739251 161.450164 \nL 521.0446 161.220596 \nL 518.905581 161.448379 \nL 517.307613 161.771414 \nL 514.905414 161.038403 \nL 514.582991 159.732435 \nL 512.59494 159.28463 \nL 511.06002 159.08046 \nL 509.165793 158.360057 \nL 507.414433 160.166244 \nL 508.100979 161.192047 \nL 506.457412 162.405647 \nL 504.012797 161.967489 \nL 502.325151 161.904795 \nL 501.194976 161.090727 \nL 499.430755 161.065015 \nL 497.960512 160.530183 \nL 495.388565 161.349925 \nL 492.16214 162.850983 \nL 490.379411 163.15305 \nL 489.717768 163.296338 \nL 488.820549 162.230278 \nL 486.642511 162.463493 \nL 485.922673 161.723771 \nL 484.74042 161.385499 \nL 483.926649 160.378429 \nL 482.993079 160.064835 \nL 480.563212 160.512711 \nL 478.233919 159.508614 \nL 477.332855 160.421119 \nL 473.554275 155.994991 \nL 471.397122 154.648524 \nL 472.01586 154.102119 \nL 467.777968 155.746756 \nL 466.156148 155.846164 \nL 466.296218 154.894933 \nL 464.124472 154.30057 \nL 462.359131 154.724716 \nL 461.826723 152.918394 \nL 458.787991 152.542791 \nL 457.267752 153.265807 \nL 453.036707 153.909147 \nL 452.210975 154.339657 \nL 445.883705 154.946113 \nL 445.108367 155.540855 \nL 446.329068 156.734668 \nL 444.705807 157.187814 \nL 445.022472 157.662619 \nL 443.399648 158.511585 \nL 446.139715 159.710217 \nL 445.716008 160.535587 \nL 443.340929 160.460431 \nL 442.849677 160.97761 \nL 440.687068 160.074495 \nL 438.006403 160.109508 \nL 436.21228 160.84469 \nL 434.21014 160.139676 \nL 430.483114 158.932939 \nL 427.841787 158.97806 \nL 424.3513 160.873589 \nL 424.140714 162.146476 \nL 422.401849 161.135758 \nL 421.052699 163.05056 \nL 421.546572 163.406034 \nL 420.570536 164.726879 \nL 422.005769 165.909024 \nL 423.260441 165.860365 \nL 424.338368 167.024803 \nL 424.166768 167.921627 \nL 425.025598 168.203456 \n\" style=\"fill:#ffffff;stroke:#000000;\"/>\n    <path clip-path=\"url(#p520653cbdf)\" d=\"M 500.569498 107.858525 \nL 504.227332 107.465 \nL 507.512692 108.342369 \nL 511.406526 110.027379 \nL 510.989049 111.594496 \nL 507.299789 111.811893 \nL 502.590016 111.309016 \nL 499.783597 110.643694 \nL 498.485858 109.3936 \nL 496.1789 109.049101 \nL 500.569498 107.858525 \n\" style=\"fill:#ffffff;stroke:#000000;\"/>\n    <path clip-path=\"url(#p520653cbdf)\" d=\"M 515.889396 110.896766 \nL 520.1752 111.886589 \nL 519.673067 112.59495 \nL 510.140855 113.26748 \nL 513.22974 110.9792 \nL 514.618737 110.783275 \nL 515.889396 110.896766 \n\" style=\"fill:#ffffff;stroke:#000000;\"/>\n    <path clip-path=\"url(#p520653cbdf)\" d=\"M 576.750727 116.377054 \nL 581.21564 116.45351 \nL 587.327718 117.377656 \nL 585.998182 118.671903 \nL 579.76517 118.623663 \nL 576.961017 119.035312 \nL 573.611241 117.902161 \nL 574.519885 116.703985 \nL 576.750727 116.377054 \n\" style=\"fill:#ffffff;stroke:#000000;\"/>\n    <path clip-path=\"url(#p520653cbdf)\" d=\"M 592.630316 117.75546 \nL 596.873551 118.211699 \nL 594.919291 118.90035 \nL 592.216441 118.744482 \nL 589.074267 118.05673 \nL 589.478893 117.492341 \nL 592.630316 117.75546 \n\" style=\"fill:#ffffff;stroke:#000000;\"/>\n    <path clip-path=\"url(#p520653cbdf)\" d=\"M 578.495821 121.19926 \nL 580.099801 120.510453 \nL 582.214046 120.349209 \nL 584.616422 121.015534 \nL 584.821055 121.473559 \nL 582.257265 121.485759 \nL 578.791789 121.291472 \nL 578.495821 121.19926 \n\" style=\"fill:#ffffff;stroke:#000000;\"/>\n    <path clip-path=\"url(#p520653cbdf)\" d=\"M 417.832129 108.616277 \nL 421.133089 108.298899 \nL 423.702153 108.277825 \nL 424.047654 108.747407 \nL 425.018884 108.330151 \nL 426.612698 108.042764 \nL 429.120596 108.424716 \nL 428.466643 108.690398 \nL 426.196594 108.92019 \nL 424.676004 109.052401 \nL 424.440165 109.338392 \nL 422.463801 109.626454 \nL 420.632051 109.213296 \nL 421.595243 108.669233 \nL 417.832129 108.616277 \n\" style=\"fill:#ffffff;stroke:#000000;\"/>\n    <path clip-path=\"url(#p520653cbdf)\" d=\"M 380.436221 154.386174 \nL 377.326886 154.412337 \nL 375.244355 154.214426 \nL 375.629614 153.447461 \nL 377.963014 152.882234 \nL 379.73386 153.187543 \nL 380.48131 153.464167 \nL 380.30087 153.941404 \nL 380.436221 154.386174 \n\" style=\"fill:#ffffff;stroke:#000000;\"/>\n    <path clip-path=\"url(#p520653cbdf)\" d=\"M 432.477654 120.537024 \nL 436.525976 119.007416 \nL 436.068541 118.216314 \nL 439.850616 117.296154 \nL 445.432984 116.176416 \nL 451.060877 115.850213 \nL 453.956743 115.20411 \nL 457.247392 114.977695 \nL 458.42283 115.665902 \nL 457.28715 116.208208 \nL 451.295843 117.07244 \nL 446.132113 117.90353 \nL 440.87943 119.562376 \nL 438.359474 121.263371 \nL 435.709059 122.939555 \nL 436.053162 124.387252 \nL 439.287626 125.816576 \nL 438.288783 125.969456 \nL 432.763562 125.743041 \nL 432.314864 124.96923 \nL 429.254113 124.50199 \nL 429.007002 123.560665 \nL 430.735993 123.186729 \nL 430.678322 122.236398 \nL 434.032147 120.75011 \nL 432.477654 120.537024 \n\" style=\"fill:#ffffff;stroke:#000000;\"/>\n    <path clip-path=\"url(#p520653cbdf)\" d=\"M 583.655623 155.471868 \nL 584.24107 157.151609 \nL 584.197816 158.866699 \nL 584.895722 160.625289 \nL 586.597013 163.712153 \nL 584.094096 163.136749 \nL 583.053748 165.655054 \nL 584.702087 167.441158 \nL 584.654378 168.659063 \nL 583.373385 167.608403 \nL 582.264705 168.957347 \nL 581.95171 167.494835 \nL 582.140276 165.796992 \nL 581.947515 163.916413 \nL 582.338716 162.598901 \nL 582.413426 160.268464 \nL 581.42271 158.55513 \nL 581.572305 156.173539 \nL 583.135361 155.371539 \nL 582.463757 154.564046 \nL 583.216275 154.319348 \nL 583.655623 155.471868 \n\" style=\"fill:#ffffff;stroke:#000000;\"/>\n    <path clip-path=\"url(#p520653cbdf)\" d=\"M 46.212232 131.941776 \nL 46.066814 133.024997 \nL 47.207197 133.458588 \nL 46.814923 132.192217 \nL 51.404912 132.452086 \nL 54.715256 134.083068 \nL 53.038736 134.842668 \nL 50.267032 135.023013 \nL 50.225182 136.725938 \nL 49.54826 137.088614 \nL 47.964707 137.036487 \nL 46.676099 136.42886 \nL 44.427849 135.920607 \nL 44.049711 135.164598 \nL 42.332593 134.879528 \nL 40.409573 135.105604 \nL 39.49075 134.495763 \nL 39.858032 133.848017 \nL 37.832898 134.262019 \nL 38.59565 135.081919 \nL 37.636364 135.821566 \nL 37.636364 128.878376 \nL 41.779091 130.209241 \nL 46.212232 131.941776 \n\" style=\"fill:#ffffff;stroke:#000000;\"/>\n    <path clip-path=\"url(#p520653cbdf)\" d=\"M 39.845063 125.515845 \nL 37.636364 125.621844 \nL 37.636364 124.430613 \nL 37.853011 124.35758 \nL 39.286133 124.361223 \nL 41.731838 124.859751 \nL 41.587046 125.098009 \nL 39.845063 125.515845 \n\" style=\"fill:#ffffff;stroke:#000000;\"/>\n    <path clip-path=\"url(#p520653cbdf)\" d=\"M 398.537216 168.94835 \nL 398.982726 168.516736 \nL 400.184861 168.890411 \nL 400.728684 168.959246 \nL 400.948121 169.30342 \nL 401.203223 169.356501 \nL 401.216968 169.507264 \nL 402.044196 169.927672 \nL 403.768906 169.82311 \nL 403.438696 170.444896 \nL 401.587635 170.746783 \nL 399.292246 171.755024 \nL 398.351948 171.400541 \nL 398.724799 170.58161 \nL 396.877059 170.0715 \nL 397.175724 169.737371 \nL 398.794529 169.158094 \nL 398.537216 168.94835 \n\" style=\"fill:#ffffff;stroke:#000000;\"/>\n    <path clip-path=\"url(#p520653cbdf)\" d=\"M 393.435941 251.045706 \nL 394.107283 252.02909 \nL 394.009504 253.054442 \nL 393.521442 253.275045 \nL 393.521448 253.275089 \nL 392.623043 253.161165 \nL 392.105316 254.153465 \nL 391.078512 254.016481 \nL 391.23501 253.063088 \nL 391.467266 252.928716 \nL 391.529918 251.891656 \nL 392.016188 251.405863 \nL 392.425477 251.583645 \nL 393.435941 251.045706 \n\" style=\"fill:#ffffff;stroke:#000000;\"/>\n    <path clip-path=\"url(#p520653cbdf)\" d=\"M 394.137241 242.952437 \nL 392.648646 241.794298 \nL 392.247047 241.049938 \nL 391.305351 241.418606 \nL 390.523473 241.303912 \nL 390.070844 241.596567 \nL 389.311598 241.385238 \nL 388.287328 239.946502 \nL 388.015401 239.394018 \nL 386.751447 238.704281 \nL 386.324507 237.6588 \nL 385.619787 236.904668 \nL 384.482621 235.997071 \nL 384.467068 235.430628 \nL 383.541188 234.726391 \nL 382.390711 234.045754 \nL 382.909969 233.855847 \nL 383.490538 233.526735 \nL 383.925965 231.970931 \nL 384.390421 231.16311 \nL 385.609616 230.923755 \nL 385.899901 231.402464 \nL 386.770755 232.419721 \nL 387.23521 232.569317 \nL 387.844808 232.270124 \nL 389.064004 232.329963 \nL 389.296231 232.688994 \nL 390.979882 232.688994 \nL 391.037939 232.329963 \nL 391.908793 232.00085 \nL 392.082964 231.492222 \nL 392.72159 231.133191 \nL 394.143985 232.150447 \nL 395.014839 231.970931 \nL 395.856665 230.71432 \nL 396.785576 229.756903 \nL 396.640433 228.709727 \nL 396.234035 228.201099 \nL 397.250031 228.111341 \nL 397.366145 227.72239 \nL 398.149913 227.842067 \nL 397.946714 229.128597 \nL 398.149913 230.385208 \nL 399.020767 231.073352 \nL 399.223967 231.671738 \nL 399.194938 232.539398 \nL 399.42901 232.573863 \nL 399.448603 233.932768 \nL 399.195845 234.465019 \nL 398.29848 234.507857 \nL 397.722523 235.500574 \nL 398.760927 235.625411 \nL 399.617896 236.474834 \nL 399.914177 237.171745 \nL 400.686416 237.575813 \nL 401.685721 239.472363 \nL 400.539605 240.620655 \nL 399.499364 241.661521 \nL 398.459455 242.463009 \nL 397.269765 242.458965 \nL 395.908634 242.866868 \nL 394.833401 242.477125 \nL 394.137241 242.952437 \n\" style=\"fill:#ffffff;stroke:#000000;\"/>\n    <path clip-path=\"url(#p520653cbdf)\" d=\"M 313.738604 225.374924 \nL 313.04131 224.018054 \nL 312.197655 223.397574 \nL 312.941435 223.066552 \nL 313.760624 221.843019 \nL 314.162398 220.948076 \nL 314.741379 220.389288 \nL 315.581801 220.539736 \nL 316.406844 220.159901 \nL 317.35103 220.140763 \nL 318.158991 220.653079 \nL 319.281389 221.11478 \nL 320.304523 222.396944 \nL 321.420368 223.593999 \nL 321.497918 224.678207 \nL 321.831317 225.676225 \nL 322.464255 226.165711 \nL 322.608825 226.839642 \nL 322.530969 227.382579 \nL 322.286873 227.480882 \nL 321.364881 227.343087 \nL 321.238005 227.5369 \nL 320.865242 227.575852 \nL 319.649871 227.150986 \nL 318.833741 227.133018 \nL 315.708939 227.059843 \nL 315.255611 227.256088 \nL 314.695679 227.199979 \nL 313.799945 227.483899 \nL 313.522513 226.147969 \nL 315.061627 226.184759 \nL 315.467945 225.940646 \nL 315.770935 225.926327 \nL 316.397669 225.523841 \nL 317.123012 225.892103 \nL 317.857704 225.922814 \nL 318.589426 225.531631 \nL 318.247813 225.027916 \nL 317.690284 225.321382 \nL 317.165566 225.313232 \nL 316.498157 224.884268 \nL 315.962079 224.912367 \nL 315.580228 225.32503 \nL 313.738604 225.374924 \n\" style=\"fill:#ffffff;stroke:#000000;\"/>\n    <path clip-path=\"url(#p520653cbdf)\" d=\"M 373.839522 169.058225 \nL 373.839544 169.058216 \nL 375.13513 168.600117 \nL 376.190507 168.677255 \nL 377.10695 169.361994 \nL 377.296565 169.916549 \nL 378.32669 170.326465 \nL 378.45942 171.044887 \nL 379.44533 171.551214 \nL 379.976165 171.160661 \nL 380.393318 171.377665 \nL 380.001505 171.671807 \nL 380.31118 171.975585 \nL 379.894028 172.370956 \nL 380.045719 173.007512 \nL 380.867268 173.759797 \nL 380.222664 174.30467 \nL 379.938242 174.859225 \nL 380.121565 175.066547 \nL 379.843434 175.312461 \nL 379.05979 175.341425 \nL 378.48413 175.443232 \nL 378.427796 175.312477 \nL 378.630028 175.105136 \nL 378.81963 174.680799 \nL 378.57947 174.690437 \nL 378.250825 174.367357 \nL 377.972755 174.285375 \nL 377.751559 174.008105 \nL 377.435553 173.899607 \nL 377.195393 173.65368 \nL 376.892044 173.750127 \nL 376.658209 174.328771 \nL 376.253726 174.454148 \nL 376.392753 174.304668 \nL 375.748127 173.943002 \nL 375.192545 173.755233 \nL 374.945487 173.513838 \nL 374.49677 173.21486 \nL 374.894945 173.137724 \nL 375.141412 172.317963 \nL 374.326141 171.647682 \nL 374.749578 170.880972 \nL 374.136539 170.885799 \nL 374.136547 170.885792 \nL 374.787532 170.230009 \nL 374.250318 169.733319 \nL 373.839522 169.058225 \n\" style=\"fill:#ffffff;stroke:#000000;\"/>\n    <path clip-path=\"url(#p520653cbdf)\" d=\"M 319.601288 233.551986 \nL 320.505235 232.785741 \nL 320.700093 232.302155 \nL 320.988885 231.926327 \nL 321.454883 231.8867 \nL 321.848967 231.558335 \nL 323.20135 231.560272 \nL 323.671979 232.183544 \nL 324.038495 232.916105 \nL 323.983752 233.422793 \nL 324.255067 233.878775 \nL 324.236193 234.517763 \nL 324.701842 234.417884 \nL 323.914721 235.231322 \nL 323.151936 236.17724 \nL 323.062153 236.684152 \nL 322.658064 237.241724 \nL 322.202507 237.11244 \nL 320.985215 236.410364 \nL 320.104335 235.47674 \nL 319.808466 234.840094 \nL 319.601288 233.551986 \n\" style=\"fill:#ffffff;stroke:#000000;\"/>\n    <path clip-path=\"url(#p520653cbdf)\" d=\"M 365.345495 168.011789 \nL 366.742179 168.146837 \nL 367.595446 167.751421 \nL 369.074268 167.708011 \nL 369.396613 167.413869 \nL 369.681036 167.433143 \nL 370.009585 168.021471 \nL 368.663494 168.484433 \nL 368.499132 169.188445 \nL 367.911413 169.366857 \nL 367.917704 169.853911 \nL 367.254139 169.820138 \nL 366.679003 169.535633 \nL 366.369328 169.829775 \nL 365.190919 169.770244 \nL 365.567266 169.612186 \nL 365.162259 168.870167 \nL 365.345495 168.011789 \n\" style=\"fill:#ffffff;stroke:#000000;\"/>\n    <path clip-path=\"url(#p520653cbdf)\" d=\"M 616.128533 267.337508 \nL 616.601347 267.936418 \nL 615.420054 267.92534 \nL 614.777111 266.853066 \nL 615.787575 267.274735 \nL 616.128533 267.337508 \n\" style=\"fill:#ffffff;stroke:#000000;\"/>\n    <path clip-path=\"url(#p520653cbdf)\" d=\"M 615.386151 265.799074 \nL 615.131525 266.120324 \nL 613.878319 264.609719 \nL 613.526177 263.568335 \nL 614.101138 263.568335 \nL 614.709829 264.962581 \nL 615.386151 265.799074 \n\" style=\"fill:#ffffff;stroke:#000000;\"/>\n    <path clip-path=\"url(#p520653cbdf)\" d=\"M 613.986496 266.27478 \nL 613.327649 266.313596 \nL 612.290884 266.137255 \nL 611.936732 265.868781 \nL 612.043161 265.176837 \nL 613.15918 265.451075 \nL 613.709675 265.816816 \nL 613.986496 266.27478 \n\" style=\"fill:#ffffff;stroke:#000000;\"/>\n    <path clip-path=\"url(#p520653cbdf)\" d=\"M 611.936732 263.045527 \nL 612.334137 263.598506 \nL 612.405789 263.948756 \nL 611.080581 263.20962 \nL 610.154701 262.583331 \nL 609.520671 262.003063 \nL 609.772326 261.825551 \nL 610.550184 262.243798 \nL 611.936732 263.045527 \n\" style=\"fill:#ffffff;stroke:#000000;\"/>\n    <path clip-path=\"url(#p520653cbdf)\" d=\"M 607.709455 261.305535 \nL 608.383156 261.874005 \nL 608.046655 261.973253 \nL 607.30707 261.576081 \nL 606.61266 260.85991 \nL 606.69969 260.569551 \nL 607.709455 261.305535 \n\" style=\"fill:#ffffff;stroke:#000000;\"/>\n    <path clip-path=\"url(#p520653cbdf)\" d=\"M 412.316674 252.00179 \nL 411.315436 250.56405 \nL 411.29523 244.21536 \nL 412.773141 242.238341 \nL 413.23565 241.688979 \nL 414.319624 241.656807 \nL 415.826562 240.428202 \nL 418.02936 240.351397 \nL 422.807565 235.120591 \nL 423.986662 233.666004 \nL 424.749928 232.595711 \nL 424.750103 231.686403 \nL 424.75054 229.928218 \nL 424.756482 229.210292 \nL 424.766964 229.181795 \nL 424.766964 229.181795 \nL 425.307303 229.147439 \nL 426.086576 228.888511 \nL 426.983028 228.713064 \nL 427.783234 228.116451 \nL 428.424393 228.111676 \nL 428.462726 228.593542 \nL 428.306587 229.607225 \nL 428.312979 230.523258 \nL 427.955977 231.152723 \nL 427.479496 233.036655 \nL 426.665374 234.98338 \nL 425.62002 237.209058 \nL 424.168966 239.763219 \nL 422.725336 241.71465 \nL 420.736776 244.092022 \nL 419.044565 245.502871 \nL 416.515235 247.233349 \nL 414.939004 248.558976 \nL 413.088473 250.670134 \nL 412.698515 251.58913 \nL 412.316674 252.00179 \n\" style=\"fill:#ffffff;stroke:#000000;\"/>\n    <path clip-path=\"url(#p520653cbdf)\" d=\"M 424.766964 229.181795 \nL 424.766964 229.181795 \nL 424.756482 229.210292 \nL 424.75054 229.928218 \nL 424.750103 231.686403 \nL 424.749928 232.595711 \nL 423.986662 233.666004 \nL 422.807565 235.120591 \nL 421.385375 235.131257 \nL 415.856795 233.063076 \nL 415.211274 232.44107 \nL 414.587548 231.601982 \nL 413.962994 230.642326 \nL 414.331768 230.024855 \nL 414.954788 229.092176 \nL 415.504934 229.413426 \nL 415.836366 230.134144 \nL 416.599195 230.863734 \nL 417.438656 230.869543 \nL 419.032645 230.423693 \nL 420.873133 230.217136 \nL 422.361566 229.675685 \nL 423.200154 229.560947 \nL 423.804125 229.243029 \nL 424.766967 229.181787 \nL 424.766964 229.181795 \n\" style=\"fill:#ffffff;stroke:#000000;\"/>\n    <path clip-path=\"url(#p520653cbdf)\" d=\"M 383.541188 234.726391 \nL 382.253466 233.964559 \nL 381.667058 233.46269 \nL 381.558445 232.921059 \nL 381.833168 232.195792 \nL 381.828187 231.484665 \nL 380.852937 230.395053 \nL 380.661225 229.649252 \nL 380.681608 229.22712 \nL 380.060149 228.71343 \nL 380.04143 227.701072 \nL 379.686999 227.028682 \nL 379.093151 227.129538 \nL 379.263561 226.489442 \nL 379.70149 225.762939 \nL 379.509927 225.04114 \nL 380.065779 224.506623 \nL 379.713208 224.099436 \nL 380.160352 223.023309 \nL 380.932489 221.739858 \nL 382.390559 221.861645 \nL 382.307316 214.943373 \nL 382.328182 214.212216 \nL 384.272727 214.206918 \nL 384.272727 210.726615 \nL 391.070182 210.726615 \nL 397.630909 210.726615 \nL 404.337443 210.726615 \nL 404.882745 212.436564 \nL 404.511911 212.752725 \nL 404.757584 214.546903 \nL 405.378299 216.62758 \nL 406.022485 217.05671 \nL 406.94797 217.700766 \nL 406.092218 218.6955 \nL 404.846813 218.982016 \nL 404.314278 219.516341 \nL 404.147487 220.674763 \nL 403.419263 223.235582 \nL 403.59899 223.933364 \nL 403.329645 225.430046 \nL 402.642138 227.146792 \nL 401.622283 228.01021 \nL 400.89712 229.341535 \nL 400.727217 230.053974 \nL 399.926234 230.542098 \nL 399.426012 232.365956 \nL 399.448603 233.932768 \nL 399.42901 232.573863 \nL 399.194938 232.539398 \nL 399.223967 231.671738 \nL 399.020767 231.073352 \nL 398.149913 230.385208 \nL 397.946714 229.128597 \nL 398.149913 227.842067 \nL 397.366145 227.72239 \nL 397.250031 228.111341 \nL 396.234035 228.201099 \nL 396.640433 228.709727 \nL 396.785576 229.756903 \nL 395.856665 230.71432 \nL 395.014839 231.970931 \nL 394.143985 232.150447 \nL 392.72159 231.133191 \nL 392.082964 231.492222 \nL 391.908793 232.00085 \nL 391.037939 232.329963 \nL 390.979882 232.688994 \nL 389.296231 232.688994 \nL 389.064004 232.329963 \nL 387.844808 232.270124 \nL 387.23521 232.569317 \nL 386.770755 232.419721 \nL 385.899901 231.402464 \nL 385.609616 230.923755 \nL 384.390421 231.16311 \nL 383.925965 231.970931 \nL 383.490538 233.526735 \nL 382.909969 233.855847 \nL 382.390711 234.045754 \nL 383.541188 234.726391 \n\" style=\"fill:#ffffff;stroke:#000000;\"/>\n    <path clip-path=\"url(#p520653cbdf)\" d=\"M 249.803597 245.039131 \nL 248.834988 244.669833 \nL 248.036596 244.84802 \nL 247.354201 244.693159 \nL 247.185077 245.19782 \nL 247.468712 245.544287 \nL 247.316365 245.900391 \nL 246.397039 245.757733 \nL 245.36438 244.242535 \nL 245.142303 243.258611 \nL 244.600983 243.256585 \nL 243.851699 241.990948 \nL 244.163646 241.091772 \nL 244.072202 240.680775 \nL 245.098657 240.226008 \nL 245.36888 238.658214 \nL 247.394789 239.007248 \nL 247.576627 238.693113 \nL 248.943777 238.567342 \nL 250.761852 239.035708 \nL 249.881584 240.534155 \nL 250.01532 241.726481 \nL 250.67919 242.759219 \nL 250.383627 243.509073 \nL 250.234862 244.306209 \nL 249.803597 245.039131 \n\" style=\"fill:#ffffff;stroke:#000000;\"/>\n    <path clip-path=\"url(#p520653cbdf)\" d=\"M 402.399134 192.062631 \nL 402.366804 192.050743 \nL 402.596089 191.785647 \nL 402.570225 191.072313 \nL 402.985106 190.118154 \nL 403.907141 189.461334 \nL 403.630583 188.777901 \nL 402.870026 188.689055 \nL 402.71213 187.355647 \nL 403.125963 186.63844 \nL 403.578767 186.256624 \nL 404.031658 185.874807 \nL 404.123145 184.902636 \nL 404.676523 185.241583 \nL 406.538157 184.756781 \nL 407.437998 185.084921 \nL 408.82909 185.079472 \nL 410.774784 184.425534 \nL 411.685897 184.455029 \nL 413.609309 184.183989 \nL 412.742672 185.271529 \nL 411.817142 185.702069 \nL 411.976523 186.975181 \nL 411.337687 189.082129 \nL 407.594321 190.895837 \nL 404.283051 192.753225 \nL 402.399134 192.062631 \n\" style=\"fill:#ffffff;stroke:#000000;\"/>\n    <path clip-path=\"url(#p520653cbdf)\" d=\"M 456.694363 184.331915 \nL 457.64471 182.568147 \nL 457.27946 181.270583 \nL 456.038662 180.854768 \nL 456.476961 180.087352 \nL 457.88885 180.169308 \nL 458.692397 179.206053 \nL 459.229873 178.087757 \nL 461.490834 177.68275 \nL 461.138343 178.490918 \nL 461.38056 178.97536 \nL 462.078553 178.930329 \nL 461.459377 179.468178 \nL 459.618977 179.176333 \nL 459.458809 180.181106 \nL 461.292219 180.046014 \nL 463.381391 180.611962 \nL 466.578369 180.34745 \nL 467.006968 181.960275 \nL 467.562706 181.78479 \nL 468.589597 182.181557 \nL 468.530703 182.859226 \nL 468.784368 183.852652 \nL 467.040522 183.849905 \nL 465.876094 183.721477 \nL 464.822377 184.501726 \nL 464.071869 184.674735 \nL 463.482752 185.040926 \nL 462.813245 184.470205 \nL 462.970879 183.006027 \nL 462.459356 182.92326 \nL 462.643204 182.39059 \nL 461.727896 181.994319 \nL 460.999932 182.600614 \nL 460.821153 183.303365 \nL 460.56076 183.559456 \nL 459.549946 183.523251 \nL 459.004607 184.321198 \nL 458.435063 183.984502 \nL 457.211042 184.544326 \nL 456.694363 184.331915 \n\" style=\"fill:#ffffff;stroke:#000000;\"/>\n    <path clip-path=\"url(#p520653cbdf)\" d=\"M 399.328093 250.723882 \nL 399.613703 250.915276 \nL 405.745058 254.465657 \nL 405.860395 255.476708 \nL 408.28739 257.218898 \nL 407.506731 259.366342 \nL 407.606884 260.354004 \nL 408.689455 260.988976 \nL 408.740182 261.442104 \nL 408.274658 262.494581 \nL 408.371614 263.024236 \nL 408.260843 263.856771 \nL 408.851342 264.949263 \nL 409.551142 266.667716 \nL 410.171682 267.048863 \nL 410.171689 267.048867 \nL 408.826418 268.059308 \nL 406.977505 268.736076 \nL 405.9631 268.707472 \nL 405.360545 269.23026 \nL 404.183437 269.275185 \nL 403.741993 269.495476 \nL 401.710055 269.00437 \nL 400.4378 269.145316 \nL 399.964364 266.775073 \nL 399.390871 265.96236 \nL 399.050799 265.480434 \nL 397.393126 265.155313 \nL 396.433517 264.632054 \nL 395.358916 264.338723 \nL 394.684925 264.046856 \nL 393.978562 263.603187 \nL 393.978572 263.603189 \nL 393.065449 261.407215 \nL 392.084782 260.431306 \nL 391.746533 259.420454 \nL 391.915614 258.514163 \nL 391.611269 256.910794 \nL 392.310485 256.827847 \nL 392.923959 256.196484 \nL 393.582095 255.287544 \nL 393.999242 254.922828 \nL 393.983635 254.356418 \nL 393.619498 253.961343 \nL 393.521448 253.275089 \nL 393.521442 253.275045 \nL 394.009504 253.054442 \nL 394.107283 252.02909 \nL 393.435941 251.045706 \nL 394.029036 250.83638 \nL 395.882797 250.858705 \nL 399.328093 250.723882 \n\" style=\"fill:#ffffff;stroke:#000000;\"/>\n    <path clip-path=\"url(#p520653cbdf)\" d=\"M 553.310681 264.566579 \nL 553.509471 264.155448 \nL 554.96505 263.763679 \nL 556.144682 263.704689 \nL 556.673157 263.48701 \nL 557.313479 263.703068 \nL 556.691332 264.175261 \nL 554.929224 264.938174 \nL 553.513316 265.438647 \nL 553.482034 264.910255 \nL 553.310681 264.566579 \n\" style=\"fill:#ffffff;stroke:#000000;\"/>\n    <path clip-path=\"url(#p520653cbdf)\" d=\"M 343.521079 229.902055 \nL 343.305949 230.819694 \nL 343.822453 231.334172 \nL 344.409648 231.94452 \nL 344.473872 232.799836 \nL 344.81448 233.158912 \nL 344.737498 237.161344 \nL 345.153952 238.363668 \nL 343.792569 238.735442 \nL 343.415175 238.123473 \nL 342.964468 237.017876 \nL 342.830164 236.151032 \nL 343.203977 234.581256 \nL 342.779833 233.945556 \nL 342.618704 232.57261 \nL 342.621544 231.306973 \nL 341.915819 230.408202 \nL 342.040248 229.86486 \nL 343.521079 229.902055 \n\" style=\"fill:#ffffff;stroke:#000000;\"/>\n    <path clip-path=\"url(#p520653cbdf)\" d=\"M 237.704727 230.315691 \nL 238.677 230.089127 \nL 239.032091 230.150125 \nL 238.964455 231.448511 \nL 237.552545 231.640219 \nL 237.248182 231.483367 \nL 237.738545 231.004097 \nL 237.704727 230.315691 \n\" style=\"fill:#ffffff;stroke:#000000;\"/>\n    <path clip-path=\"url(#p520653cbdf)\" d=\"M 358.033437 196.248204 \nL 357.312201 193.119641 \nL 356.269756 192.416259 \nL 356.255163 191.99441 \nL 354.872285 190.956088 \nL 354.723214 189.643304 \nL 355.76566 188.671223 \nL 356.163676 187.233883 \nL 355.895594 185.57247 \nL 356.239085 184.677977 \nL 358.080535 183.97464 \nL 359.264186 184.183764 \nL 359.214554 185.065558 \nL 360.648812 184.424093 \nL 360.769134 184.758898 \nL 359.923644 185.612863 \nL 359.912285 186.419005 \nL 360.497732 186.852022 \nL 360.275087 188.360375 \nL 359.162039 189.23654 \nL 359.483423 190.186421 \nL 360.357923 190.216051 \nL 360.783465 191.044574 \nL 361.426495 191.317056 \nL 361.330901 192.655688 \nL 360.506644 193.156026 \nL 359.986033 193.714408 \nL 358.824926 194.385998 \nL 359.004754 195.107933 \nL 358.858393 195.844277 \nL 358.033437 196.248204 \n\" style=\"fill:#ffffff;stroke:#000000;\"/>\n    <path clip-path=\"url(#p520653cbdf)\" d=\"M 430.776886 176.248247 \nL 431.523987 175.668385 \nL 433.443379 175.305751 \nL 434.586311 175.793976 \nL 435.769788 177.160527 \nL 436.637124 177.075509 \nL 438.544807 177.051687 \nL 438.2672 176.173811 \nL 439.711769 175.57337 \nL 441.136327 174.560806 \nL 443.414677 175.481822 \nL 443.595467 176.872465 \nL 444.24243 177.229424 \nL 446.070684 177.149179 \nL 446.638044 177.465521 \nL 447.469204 179.262297 \nL 449.403189 180.465926 \nL 450.506013 181.286524 \nL 452.274326 182.139993 \nL 454.523491 182.885929 \nL 454.476917 183.95235 \nL 453.967578 183.898313 \nL 453.169885 183.432334 \nL 452.904948 184.052679 \nL 451.479778 184.389735 \nL 451.142228 185.78353 \nL 450.18926 186.313543 \nL 448.854529 186.576343 \nL 448.501338 187.366049 \nL 447.226374 187.598498 \nL 445.501927 186.937265 \nL 445.353556 185.470655 \nL 444.093097 185.408288 \nL 442.160598 183.864855 \nL 440.810225 183.67433 \nL 438.940552 182.790869 \nL 437.738201 182.630244 \nL 436.995906 182.954872 \nL 435.865033 182.904347 \nL 434.662332 183.9007 \nL 433.17652 184.237936 \nL 432.861864 183.005396 \nL 433.107752 181.182502 \nL 431.789011 180.592598 \nL 432.223203 179.399281 \nL 431.100717 179.297601 \nL 431.474879 177.828605 \nL 433.069217 178.256443 \nL 434.555029 177.698781 \nL 433.323144 176.652759 \nL 432.838534 175.655911 \nL 431.477413 176.100456 \nL 431.304837 177.377486 \nL 430.776886 176.248247 \n\" style=\"fill:#ffffff;stroke:#000000;\"/>\n    <path clip-path=\"url(#p520653cbdf)\" d=\"M 399.328093 250.723882 \nL 395.882797 250.858705 \nL 394.029036 250.83638 \nL 393.435941 251.045706 \nL 392.425477 251.583645 \nL 392.016188 251.405863 \nL 392.030344 250.091953 \nL 392.422069 249.426036 \nL 392.517226 248.027108 \nL 392.872951 247.216823 \nL 393.519476 246.307965 \nL 394.16906 245.845093 \nL 394.712652 245.226279 \nL 394.034932 244.990272 \nL 394.137254 242.952446 \nL 394.137241 242.952437 \nL 394.833401 242.477125 \nL 395.908634 242.866868 \nL 397.269765 242.458965 \nL 398.459455 242.463009 \nL 399.499364 241.661521 \nL 400.301074 242.871521 \nL 400.498809 243.746163 \nL 401.242674 245.746723 \nL 400.627369 247.01705 \nL 399.795273 248.17068 \nL 399.310944 248.876839 \nL 399.328093 250.723882 \n\" style=\"fill:#ffffff;stroke:#000000;\"/>\n    <path clip-path=\"url(#p520653cbdf)\" d=\"M 395.747224 158.265402 \nL 396.378689 158.33586 \nL 396.805844 157.939468 \nL 397.319377 158.027008 \nL 399.072747 157.858638 \nL 400.15329 158.845399 \nL 399.730982 159.198261 \nL 399.871052 159.739262 \nL 401.219328 159.823649 \nL 401.82083 160.579384 \nL 401.783978 160.922267 \nL 403.93152 161.535047 \nL 405.228941 161.259053 \nL 406.272522 162.075192 \nL 407.260616 162.056369 \nL 409.753104 162.623497 \nL 409.772971 163.135218 \nL 409.086226 164.047766 \nL 409.459867 165.008763 \nL 409.193815 165.58994 \nL 407.557509 165.717717 \nL 406.685917 166.204341 \nL 406.632528 166.978511 \nL 405.282505 167.117882 \nL 404.157573 167.681713 \nL 402.574594 167.773621 \nL 401.118142 168.423281 \nL 401.203223 169.356501 \nL 400.948121 169.30342 \nL 400.728684 168.959246 \nL 400.184861 168.890411 \nL 398.982726 168.516736 \nL 398.537216 168.94835 \nL 398.30485 168.758941 \nL 395.676455 168.318449 \nL 395.560065 167.668564 \nL 393.993339 167.883181 \nL 393.365775 168.842923 \nL 392.056471 170.131031 \nL 391.289535 169.831936 \nL 390.4949 170.112343 \nL 389.740372 169.791228 \nL 390.166001 169.601918 \nL 390.461433 169.003999 \nL 390.924286 168.448318 \nL 390.804663 168.136254 \nL 391.15829 167.997199 \nL 391.324924 168.238429 \nL 392.321407 168.289449 \nL 392.768968 168.160571 \nL 392.453701 167.98387 \nL 392.573149 167.724132 \nL 391.982722 167.281073 \nL 391.738319 166.552474 \nL 391.122377 166.267384 \nL 391.243835 165.676804 \nL 390.47987 165.207898 \nL 389.784324 165.142693 \nL 388.538109 164.599711 \nL 387.414138 164.77209 \nL 387.010879 165.029126 \nL 386.297507 165.028855 \nL 385.872228 165.436205 \nL 384.624002 165.603674 \nL 384.046682 165.871248 \nL 383.261659 165.445391 \nL 382.17762 165.438906 \nL 381.131418 165.245904 \nL 380.401444 165.61912 \nL 380.283568 165.15197 \nL 379.344756 164.677885 \nL 379.674878 163.975314 \nL 380.14376 163.521583 \nL 380.512854 163.623262 \nL 380.076652 162.840086 \nL 381.612096 161.390543 \nL 382.451208 161.187724 \nL 382.632521 160.698824 \nL 381.782138 159.177277 \nL 382.590404 159.109325 \nL 383.517071 158.636996 \nL 384.826986 158.598315 \nL 386.535094 158.734893 \nL 388.42233 159.15314 \nL 389.754004 159.188129 \nL 390.389782 159.439986 \nL 391.024249 159.136163 \nL 391.467441 159.543648 \nL 392.99336 159.46016 \nL 393.665925 159.628576 \nL 393.774714 158.75142 \nL 394.295674 158.368793 \nL 395.747224 158.265402 \n\" style=\"fill:#ffffff;stroke:#000000;\"/>\n    <path clip-path=\"url(#p520653cbdf)\" d=\"M 244.561138 301.72919 \nL 245.65872 301.543392 \nL 247.354332 302.891256 \nL 247.982901 302.840371 \nL 249.722946 303.956866 \nL 251.049464 304.920166 \nL 252.027422 306.106008 \nL 251.281807 306.932685 \nL 251.74999 307.919761 \nL 251.018225 309.015001 \nL 249.108445 309.983705 \nL 247.860176 309.635166 \nL 246.945043 309.821954 \nL 245.381987 309.073631 \nL 244.235254 309.12956 \nL 243.205129 308.165629 \nL 243.336112 307.039318 \nL 243.702978 306.651332 \nL 243.686419 304.915393 \nL 244.138742 303.123885 \nL 244.561138 301.72919 \n\" style=\"fill:#ffffff;stroke:#000000;\"/>\n    <path clip-path=\"url(#p520653cbdf)\" d=\"M 436.637124 177.075509 \nL 436.570715 170.649426 \nL 440.923469 169.619526 \nL 441.239436 169.770784 \nL 443.860316 171.018589 \nL 445.244068 171.677751 \nL 446.858853 173.248607 \nL 448.841422 172.994858 \nL 451.741394 172.85891 \nL 453.76573 174.131887 \nL 453.639553 175.87994 \nL 454.46346 175.892143 \nL 454.807389 177.319846 \nL 456.957902 177.376405 \nL 457.421278 178.20191 \nL 458.051289 178.190833 \nL 458.791137 176.943748 \nL 461.021341 175.728906 \nL 461.990823 175.406755 \nL 462.49291 175.578323 \nL 461.073856 176.707156 \nL 462.32147 177.363166 \nL 463.52583 176.928663 \nL 465.530069 177.846887 \nL 463.364789 179.102032 \nL 462.078553 178.930329 \nL 461.38056 178.97536 \nL 461.138343 178.490918 \nL 461.490834 177.68275 \nL 459.229873 178.087757 \nL 458.692397 179.206053 \nL 457.88885 180.169308 \nL 456.476961 180.087352 \nL 456.038662 180.854768 \nL 457.27946 181.270583 \nL 457.64471 182.568147 \nL 456.694363 184.331915 \nL 455.41905 183.963923 \nL 454.476917 183.95235 \nL 454.523491 182.885929 \nL 452.274326 182.139993 \nL 450.506013 181.286524 \nL 449.403189 180.465926 \nL 447.469204 179.262297 \nL 446.638044 177.465521 \nL 446.070684 177.149179 \nL 444.24243 177.229424 \nL 443.595467 176.872465 \nL 443.414677 175.481822 \nL 441.136327 174.560806 \nL 439.711769 175.57337 \nL 438.2672 176.173811 \nL 438.544807 177.051687 \nL 436.637124 177.075509 \n\" style=\"fill:#ffffff;stroke:#000000;\"/>\n    <path clip-path=\"url(#p520653cbdf)\" d=\"M 624.74841 276.764536 \nL 625.810428 277.765752 \nL 625.252943 277.994959 \nL 624.686195 277.231866 \nL 624.74841 276.764536 \n\" style=\"fill:#ffffff;stroke:#000000;\"/>\n    <path clip-path=\"url(#p520653cbdf)\" d=\"M 624.032067 276.37583 \nL 623.789762 275.89463 \nL 623.754723 274.559285 \nL 624.56395 275.095062 \nL 624.838411 276.499935 \nL 624.38386 276.281355 \nL 624.032067 276.37583 \n\" style=\"fill:#ffffff;stroke:#000000;\"/>\n    <path clip-path=\"url(#p520653cbdf)\" d=\"M 239.305047 240.005177 \nL 239.528915 240.496959 \nL 238.910526 241.162065 \nL 237.019183 241.814472 \nL 235.803244 242.084882 \nL 235.315139 242.496869 \nL 233.97062 242.061241 \nL 232.718812 241.838248 \nL 232.401928 241.998648 \nL 233.158728 242.450442 \nL 233.090527 243.618858 \nL 233.325274 244.71644 \nL 234.757697 244.866212 \nL 234.84914 245.232493 \nL 233.641328 245.728373 \nL 233.44481 246.466474 \nL 232.748653 246.75251 \nL 231.491121 247.159364 \nL 231.163839 247.692709 \nL 229.849161 247.805646 \nL 228.918213 246.883865 \nL 228.402539 245.145809 \nL 227.953099 244.536452 \nL 227.339559 244.152383 \nL 228.196453 243.284819 \nL 228.138301 242.894627 \nL 227.657623 242.376772 \nL 227.317452 241.218759 \nL 227.449877 239.968837 \nL 227.827228 239.383706 \nL 228.131748 238.445038 \nL 227.533762 238.145538 \nL 226.570002 238.344304 \nL 225.352098 238.251 \nL 224.668698 238.437383 \nL 223.47858 236.937676 \nL 222.496296 236.715628 \nL 220.321885 236.883233 \nL 219.91915 236.275317 \nL 219.502958 236.130047 \nL 219.443452 235.766288 \nL 219.644295 235.121221 \nL 219.510778 234.419505 \nL 219.137709 234.036068 \nL 218.920875 233.234834 \nL 218.047991 233.118114 \nL 218.51696 232.098976 \nL 218.723789 230.855359 \nL 219.215215 230.20768 \nL 219.869736 229.707972 \nL 220.298642 228.836626 \nL 221.384777 228.54451 \nL 221.336718 228.956318 \nL 220.344079 229.159722 \nL 220.895623 229.950644 \nL 220.875001 230.862068 \nL 220.129124 231.874362 \nL 220.769184 233.257079 \nL 221.498109 233.143916 \nL 221.877819 231.884223 \nL 221.353495 231.270858 \nL 221.268037 229.951499 \nL 223.373767 229.243029 \nL 223.139501 228.421576 \nL 223.732332 227.871749 \nL 224.339274 229.096409 \nL 225.52511 229.124688 \nL 226.623741 230.096544 \nL 226.689931 230.673569 \nL 228.208162 230.68888 \nL 230.014702 230.509792 \nL 230.982962 231.290267 \nL 232.276144 231.505649 \nL 233.2247 230.961226 \nL 233.244098 230.522355 \nL 235.3386 230.417253 \nL 237.364946 230.393027 \nL 235.929072 230.907774 \nL 236.506698 231.730488 \nL 237.858993 231.861438 \nL 239.140991 232.71842 \nL 239.410428 234.114692 \nL 240.291657 234.075335 \nL 240.954173 234.486151 \nL 239.61446 235.509927 \nL 239.466701 236.145358 \nL 240.045507 236.792091 \nL 239.625601 237.118565 \nL 238.585122 237.398296 \nL 238.618807 238.203088 \nL 238.160761 238.682756 \nL 239.305047 240.005177 \n\" style=\"fill:#ffffff;stroke:#000000;\"/>\n    <path clip-path=\"url(#p520653cbdf)\" d=\"M 327.347276 200.868594 \nL 327.348062 200.985269 \nL 327.315469 201.322911 \nL 327.310576 203.962709 \nL 321.760801 203.871567 \nL 321.815239 208.330972 \nL 320.230862 208.487409 \nL 319.817379 209.382532 \nL 320.138064 211.899397 \nL 313.516309 211.888499 \nL 313.147303 212.469848 \nL 313.220003 211.733413 \nL 313.249537 211.73616 \nL 317.057477 211.59697 \nL 317.260592 210.968969 \nL 317.953298 210.186063 \nL 318.511395 207.779524 \nL 320.862009 205.898856 \nL 321.657081 203.70162 \nL 322.185556 203.574003 \nL 322.736225 202.215782 \nL 324.158774 202.028634 \nL 324.77061 202.254959 \nL 325.538419 202.254959 \nL 326.083409 201.858418 \nL 327.128651 201.802264 \nL 327.089854 200.868594 \nL 327.347276 200.868594 \n\" style=\"fill:#ffffff;stroke:#000000;\"/>\n    <path clip-path=\"url(#p520653cbdf)\" d=\"M 429.927289 215.95501 \nL 431.249875 218.831086 \nL 431.801768 220.048765 \nL 430.578621 220.516951 \nL 430.25147 221.290716 \nL 430.211624 221.885033 \nL 428.528071 222.620792 \nL 425.826102 223.433779 \nL 424.312154 224.663436 \nL 423.567675 224.759487 \nL 423.060346 224.656412 \nL 422.072076 225.379697 \nL 420.994329 225.715222 \nL 419.574839 225.805734 \nL 419.147812 225.904757 \nL 418.778194 226.364927 \nL 418.335002 226.492094 \nL 418.073211 226.935378 \nL 417.236284 226.896922 \nL 416.6961 227.133424 \nL 415.52573 227.044803 \nL 415.085946 226.026745 \nL 415.134267 225.074073 \nL 414.857796 224.559865 \nL 414.526888 223.270857 \nL 414.040967 222.554417 \nL 414.37939 222.469668 \nL 414.20594 221.673343 \nL 414.410934 221.337233 \nL 414.335962 220.577112 \nL 415.078344 220.021161 \nL 414.904894 219.286483 \nL 415.352979 218.429816 \nL 416.047477 218.882961 \nL 416.505873 218.725443 \nL 418.457247 218.685411 \nL 418.767271 218.85968 \nL 420.401804 219.033995 \nL 421.04999 218.946815 \nL 421.472736 219.527758 \nL 422.261866 219.237264 \nL 423.473654 217.407345 \nL 425.051826 216.623088 \nL 429.927289 215.95501 \n\" style=\"fill:#ffffff;stroke:#000000;\"/>\n    <path clip-path=\"url(#p520653cbdf)\" d=\"M 393.978562 263.603187 \nL 394.684925 264.046856 \nL 395.358916 264.338723 \nL 396.433517 264.632054 \nL 397.393126 265.155313 \nL 398.191256 265.932815 \nL 398.621254 267.412169 \nL 398.333161 267.884452 \nL 397.993253 269.29725 \nL 398.318132 270.7413 \nL 397.786074 271.347955 \nL 397.272716 272.966994 \nL 398.161896 273.418384 \nL 393.030759 274.854868 \nL 393.191014 276.095198 \nL 391.910284 276.333771 \nL 390.947529 277.028057 \nL 390.741924 277.632281 \nL 390.136641 277.769355 \nL 388.666121 279.202687 \nL 387.729668 280.330619 \nL 387.158726 280.371057 \nL 386.609454 280.17031 \nL 384.719509 279.979469 \nL 384.415513 279.84924 \nL 384.402843 279.7046 \nL 383.735608 279.311751 \nL 382.639075 279.211423 \nL 381.254536 279.607514 \nL 380.1511 278.518848 \nL 379.010352 277.092991 \nL 379.088208 271.547622 \nL 382.609104 271.569597 \nL 382.465014 270.967985 \nL 382.716931 270.315218 \nL 382.419751 269.497818 \nL 382.612074 268.652589 \nL 382.433382 268.111498 \nL 383.016645 268.155358 \nL 383.113637 268.697079 \nL 383.906087 268.65502 \nL 384.979727 268.81578 \nL 385.544814 269.607063 \nL 386.898857 269.850139 \nL 387.932564 269.299952 \nL 388.311969 270.213178 \nL 389.607729 270.456705 \nL 390.23075 271.199353 \nL 390.925247 272.158511 \nL 392.219347 272.17292 \nL 392.077966 270.293603 \nL 391.61389 270.61053 \nL 390.431724 269.932275 \nL 389.974901 269.622193 \nL 390.184263 267.872834 \nL 390.484589 265.809431 \nL 390.106146 265.040844 \nL 390.588047 263.928312 \nL 391.041288 263.719999 \nL 393.312473 263.425858 \nL 393.978562 263.603187 \n\" style=\"fill:#ffffff;stroke:#000000;\"/>\n    <path clip-path=\"url(#p520653cbdf)\" d=\"M 394.741837 287.84816 \nL 393.843045 287.67398 \nL 393.273239 287.883194 \nL 392.455099 287.587971 \nL 391.767155 287.568968 \nL 390.689146 286.781469 \nL 389.381589 286.513986 \nL 388.884222 285.408748 \nL 388.880027 284.793987 \nL 388.155908 284.606569 \nL 386.242283 282.692217 \nL 385.710662 281.683706 \nL 385.370404 281.372813 \nL 384.719509 279.979469 \nL 386.609454 280.17031 \nL 387.158726 280.371057 \nL 387.729668 280.330619 \nL 388.666121 279.202687 \nL 390.136641 277.769355 \nL 390.741924 277.632281 \nL 390.947529 277.028057 \nL 391.910284 276.333771 \nL 393.191014 276.095198 \nL 393.300414 276.745353 \nL 394.710817 276.710679 \nL 395.494442 277.078491 \nL 395.858905 277.509707 \nL 396.664113 277.636333 \nL 397.542371 278.196337 \nL 397.546128 280.402128 \nL 397.216443 281.609946 \nL 397.143918 282.912328 \nL 397.41567 283.428562 \nL 397.224657 284.454545 \nL 396.969245 284.613143 \nL 396.523344 285.870044 \nL 394.741837 287.84816 \n\" style=\"fill:#ffffff;stroke:#000000;\"/>\n    <path clip-path=\"url(#p520653cbdf)\" d=\"M 396.230271 295.659932 \nL 395.885993 296.433922 \nL 394.896325 296.622061 \nL 393.887172 295.677404 \nL 393.871356 295.074801 \nL 394.333073 294.420502 \nL 394.492716 293.913005 \nL 394.981521 293.78881 \nL 395.834788 294.107988 \nL 396.085045 294.889544 \nL 396.230271 295.659932 \n\" style=\"fill:#ffffff;stroke:#000000;\"/>\n   </g>\n  </g>\n  <g id=\"axes_2\">\n   <g id=\"patch_2\">\n    <path clip-path=\"url(#p49ce034895)\" d=\"M 718.65 442.08 \nL 718.65 440.38125 \nL 718.65 8.89875 \nL 718.65 7.2 \nL 740.394 7.2 \nL 740.394 8.89875 \nL 740.394 440.38125 \nL 740.394 442.08 \nz\n\" style=\"fill:#ffffff;stroke:#ffffff;stroke-linejoin:miter;stroke-width:0.01;\"/>\n   </g>\n   <image height=\"435\" id=\"imageb969ff20b0\" transform=\"scale(1 -1)translate(0 -435)\" width=\"21\" x=\"719\" xlink:href=\"data:image/png;base64,\niVBORw0KGgoAAAANSUhEUgAAABUAAAGzCAYAAADAJVzRAAABU0lEQVR4nO3SwQnEQBDEwPXh/FPeS6L9EFIHMJRgnnvvPeO9H9w8v/nFo5fK8zlSeX7SXmo8jlSez5HK85P2UuNxpPJ8jlSen7SXGo8jledzpPL8pL3UeBypPJ8jlecn7aXG40jl+RypPD9pLzUeRyrP50jl+RypPD9pLzUeRyrP50jl+Ul7qfE4Unk+RyrPT9pLjceRyvM5Unl+0l5qPI5Uns+RyvOT9lLjcaTyfI5Unp+0lxqPI5Xnc6Ty/KS91HgcqTyfI5XnJ+2lxuNI5fkcqTyfI5XnJ+2lxuNI5fkcqTw/aS81Hkcqz+dI5flJe6nxOFJ5Pkcqz0/aS43HkcrzOVJ5ftJeajyOVJ7Pkcrzk/ZS43Gk8nyOVJ6ftJcajyOV53Ok8nyOVJ6ftJcajyOV53Ok8vykvdR4HKk8nyOV5yftpcbjSOX5n0ifc86c+on0D8YZAY9freigAAAAAElFTkSuQmCC\" y=\"-7\"/>\n   <g id=\"matplotlib.axis_1\"/>\n   <g id=\"matplotlib.axis_2\">\n    <g id=\"ytick_1\">\n     <g id=\"line2d_1\">\n      <defs>\n       <path d=\"M 0 0 \nL 3.5 0 \n\" id=\"m36a794e6f4\" style=\"stroke:#000000;stroke-width:0.8;\"/>\n      </defs>\n      <g>\n       <use style=\"stroke:#000000;stroke-width:0.8;\" x=\"740.394\" xlink:href=\"#m36a794e6f4\" y=\"442.08\"/>\n      </g>\n     </g>\n     <g id=\"text_1\">\n      <!-- 0 -->\n      <g transform=\"translate(747.394 445.879219)scale(0.1 -0.1)\">\n       <defs>\n        <path d=\"M 31.78125 66.40625 \nQ 24.171875 66.40625 20.328125 58.90625 \nQ 16.5 51.421875 16.5 36.375 \nQ 16.5 21.390625 20.328125 13.890625 \nQ 24.171875 6.390625 31.78125 6.390625 \nQ 39.453125 6.390625 43.28125 13.890625 \nQ 47.125 21.390625 47.125 36.375 \nQ 47.125 51.421875 43.28125 58.90625 \nQ 39.453125 66.40625 31.78125 66.40625 \nz\nM 31.78125 74.21875 \nQ 44.046875 74.21875 50.515625 64.515625 \nQ 56.984375 54.828125 56.984375 36.375 \nQ 56.984375 17.96875 50.515625 8.265625 \nQ 44.046875 -1.421875 31.78125 -1.421875 \nQ 19.53125 -1.421875 13.0625 8.265625 \nQ 6.59375 17.96875 6.59375 36.375 \nQ 6.59375 54.828125 13.0625 64.515625 \nQ 19.53125 74.21875 31.78125 74.21875 \nz\n\" id=\"DejaVuSans-48\"/>\n       </defs>\n       <use xlink:href=\"#DejaVuSans-48\"/>\n      </g>\n     </g>\n    </g>\n    <g id=\"ytick_2\">\n     <g id=\"line2d_2\">\n      <g>\n       <use style=\"stroke:#000000;stroke-width:0.8;\" x=\"740.394\" xlink:href=\"#m36a794e6f4\" y=\"349.55234\"/>\n      </g>\n     </g>\n     <g id=\"text_2\">\n      <!-- 500 -->\n      <g transform=\"translate(747.394 353.351559)scale(0.1 -0.1)\">\n       <defs>\n        <path d=\"M 10.796875 72.90625 \nL 49.515625 72.90625 \nL 49.515625 64.59375 \nL 19.828125 64.59375 \nL 19.828125 46.734375 \nQ 21.96875 47.46875 24.109375 47.828125 \nQ 26.265625 48.1875 28.421875 48.1875 \nQ 40.625 48.1875 47.75 41.5 \nQ 54.890625 34.8125 54.890625 23.390625 \nQ 54.890625 11.625 47.5625 5.09375 \nQ 40.234375 -1.421875 26.90625 -1.421875 \nQ 22.3125 -1.421875 17.546875 -0.640625 \nQ 12.796875 0.140625 7.71875 1.703125 \nL 7.71875 11.625 \nQ 12.109375 9.234375 16.796875 8.0625 \nQ 21.484375 6.890625 26.703125 6.890625 \nQ 35.15625 6.890625 40.078125 11.328125 \nQ 45.015625 15.765625 45.015625 23.390625 \nQ 45.015625 31 40.078125 35.4375 \nQ 35.15625 39.890625 26.703125 39.890625 \nQ 22.75 39.890625 18.8125 39.015625 \nQ 14.890625 38.140625 10.796875 36.28125 \nz\n\" id=\"DejaVuSans-53\"/>\n       </defs>\n       <use xlink:href=\"#DejaVuSans-53\"/>\n       <use x=\"63.623047\" xlink:href=\"#DejaVuSans-48\"/>\n       <use x=\"127.246094\" xlink:href=\"#DejaVuSans-48\"/>\n      </g>\n     </g>\n    </g>\n    <g id=\"ytick_3\">\n     <g id=\"line2d_3\">\n      <g>\n       <use style=\"stroke:#000000;stroke-width:0.8;\" x=\"740.394\" xlink:href=\"#m36a794e6f4\" y=\"257.024681\"/>\n      </g>\n     </g>\n     <g id=\"text_3\">\n      <!-- 1000 -->\n      <g transform=\"translate(747.394 260.8239)scale(0.1 -0.1)\">\n       <defs>\n        <path d=\"M 12.40625 8.296875 \nL 28.515625 8.296875 \nL 28.515625 63.921875 \nL 10.984375 60.40625 \nL 10.984375 69.390625 \nL 28.421875 72.90625 \nL 38.28125 72.90625 \nL 38.28125 8.296875 \nL 54.390625 8.296875 \nL 54.390625 0 \nL 12.40625 0 \nz\n\" id=\"DejaVuSans-49\"/>\n       </defs>\n       <use xlink:href=\"#DejaVuSans-49\"/>\n       <use x=\"63.623047\" xlink:href=\"#DejaVuSans-48\"/>\n       <use x=\"127.246094\" xlink:href=\"#DejaVuSans-48\"/>\n       <use x=\"190.869141\" xlink:href=\"#DejaVuSans-48\"/>\n      </g>\n     </g>\n    </g>\n    <g id=\"ytick_4\">\n     <g id=\"line2d_4\">\n      <g>\n       <use style=\"stroke:#000000;stroke-width:0.8;\" x=\"740.394\" xlink:href=\"#m36a794e6f4\" y=\"164.497021\"/>\n      </g>\n     </g>\n     <g id=\"text_4\">\n      <!-- 1500 -->\n      <g transform=\"translate(747.394 168.29624)scale(0.1 -0.1)\">\n       <use xlink:href=\"#DejaVuSans-49\"/>\n       <use x=\"63.623047\" xlink:href=\"#DejaVuSans-53\"/>\n       <use x=\"127.246094\" xlink:href=\"#DejaVuSans-48\"/>\n       <use x=\"190.869141\" xlink:href=\"#DejaVuSans-48\"/>\n      </g>\n     </g>\n    </g>\n    <g id=\"ytick_5\">\n     <g id=\"line2d_5\">\n      <g>\n       <use style=\"stroke:#000000;stroke-width:0.8;\" x=\"740.394\" xlink:href=\"#m36a794e6f4\" y=\"71.969362\"/>\n      </g>\n     </g>\n     <g id=\"text_5\">\n      <!-- 2000 -->\n      <g transform=\"translate(747.394 75.76858)scale(0.1 -0.1)\">\n       <defs>\n        <path d=\"M 19.1875 8.296875 \nL 53.609375 8.296875 \nL 53.609375 0 \nL 7.328125 0 \nL 7.328125 8.296875 \nQ 12.9375 14.109375 22.625 23.890625 \nQ 32.328125 33.6875 34.8125 36.53125 \nQ 39.546875 41.84375 41.421875 45.53125 \nQ 43.3125 49.21875 43.3125 52.78125 \nQ 43.3125 58.59375 39.234375 62.25 \nQ 35.15625 65.921875 28.609375 65.921875 \nQ 23.96875 65.921875 18.8125 64.3125 \nQ 13.671875 62.703125 7.8125 59.421875 \nL 7.8125 69.390625 \nQ 13.765625 71.78125 18.9375 73 \nQ 24.125 74.21875 28.421875 74.21875 \nQ 39.75 74.21875 46.484375 68.546875 \nQ 53.21875 62.890625 53.21875 53.421875 \nQ 53.21875 48.921875 51.53125 44.890625 \nQ 49.859375 40.875 45.40625 35.40625 \nQ 44.1875 33.984375 37.640625 27.21875 \nQ 31.109375 20.453125 19.1875 8.296875 \nz\n\" id=\"DejaVuSans-50\"/>\n       </defs>\n       <use xlink:href=\"#DejaVuSans-50\"/>\n       <use x=\"63.623047\" xlink:href=\"#DejaVuSans-48\"/>\n       <use x=\"127.246094\" xlink:href=\"#DejaVuSans-48\"/>\n       <use x=\"190.869141\" xlink:href=\"#DejaVuSans-48\"/>\n      </g>\n     </g>\n    </g>\n   </g>\n   <g id=\"patch_3\">\n    <path d=\"M 718.65 442.08 \nL 718.65 440.38125 \nL 718.65 8.89875 \nL 718.65 7.2 \nL 740.394 7.2 \nL 740.394 8.89875 \nL 740.394 440.38125 \nL 740.394 442.08 \nz\n\" style=\"fill:none;stroke:#000000;stroke-linejoin:miter;stroke-width:0.8;\"/>\n   </g>\n  </g>\n </g>\n <defs>\n  <clipPath id=\"p520653cbdf\">\n   <rect height=\"266.966779\" width=\"669.6\" x=\"7.2\" y=\"91.15661\"/>\n  </clipPath>\n  <clipPath id=\"p49ce034895\">\n   <rect height=\"434.88\" width=\"21.744\" x=\"718.65\" y=\"7.2\"/>\n  </clipPath>\n </defs>\n</svg>\n",
            "image/png": "[encoded data removed]"
          },
          "metadata": {
            "needs_background": "light"
          }
        }
      ]
    },
    {
      "cell_type": "code",
      "execution_count": 227,
      "metadata": {},
      "outputs": [],
      "source": [
        "colores = [\"#ff9999\", \"#66b3ff\", \"#ffcc99\", \"#dfa7f2\", \"#99ff99\"]\n",
        "facturacion_por_pais.rename(columns={\"Billing_Country\": \"País\", \"Total_Facturas\": \"Frecuencia\"}, inplace=True)\n",
        "facturacion_por_pais.replace({\"United States of America\": \"USA\"}, inplace=True)"
      ]
    },
    {
      "cell_type": "code",
      "metadata": {
        "id": "bt1Z_b_0dklQ",
        "outputId": "cef48ee2-91f9-49d0-9aa9-2e714a28e34a",
        "colab": {
          "base_uri": "https://localhost:8080/",
          "height": 600
        }
      },
      "source": [
        "\n",
        "plt.figure(100, facecolor=\"w\")\n",
        "\n",
        "facturacion_por_pais.head(5).plot(x= 'País', y='Frecuencia' ,kind = 'bar', color = colores, legend=None)\n",
        "\n",
        "#Corregí el procesamiento de datos, regenere este gráfico y me lo adueñé en billing_country.py (BySanti)\n",
        "plt.title('Países con más Oportunidades', pad=10)\n",
        "plt.grid(b=True, axis=\"y\")\n",
        "plt.ylabel(\"Frecuencia\")\n",
        "plt.xticks(rotation=0)\n",
        "plt.tight_layout()\n",
        "plt.savefig(\"../BySanti/graphics/billing_country.png\")"
      ],
      "execution_count": 287,
      "outputs": [
        {
          "output_type": "display_data",
          "data": {
            "text/plain": "<Figure size 432x288 with 0 Axes>"
          },
          "metadata": {}
        },
        {
          "output_type": "display_data",
          "data": {
            "text/plain": "<Figure size 432x288 with 1 Axes>",
            "image/svg+xml": "<?xml version=\"1.0\" encoding=\"utf-8\" standalone=\"no\"?>\n<!DOCTYPE svg PUBLIC \"-//W3C//DTD SVG 1.1//EN\"\n  \"http://www.w3.org/Graphics/SVG/1.1/DTD/svg11.dtd\">\n<!-- Created with matplotlib (https://matplotlib.org/) -->\n<svg height=\"279.754375pt\" version=\"1.1\" viewBox=\"0 0 424.678125 279.754375\" width=\"424.678125pt\" xmlns=\"http://www.w3.org/2000/svg\" xmlns:xlink=\"http://www.w3.org/1999/xlink\">\n <metadata>\n  <rdf:RDF xmlns:cc=\"http://creativecommons.org/ns#\" xmlns:dc=\"http://purl.org/dc/elements/1.1/\" xmlns:rdf=\"http://www.w3.org/1999/02/22-rdf-syntax-ns#\">\n   <cc:Work>\n    <dc:type rdf:resource=\"http://purl.org/dc/dcmitype/StillImage\"/>\n    <dc:date>2020-11-16T17:45:16.183053</dc:date>\n    <dc:format>image/svg+xml</dc:format>\n    <dc:creator>\n     <cc:Agent>\n      <dc:title>Matplotlib v3.3.2, https://matplotlib.org/</dc:title>\n     </cc:Agent>\n    </dc:creator>\n   </cc:Work>\n  </rdf:RDF>\n </metadata>\n <defs>\n  <style type=\"text/css\">*{stroke-linecap:butt;stroke-linejoin:round;}</style>\n </defs>\n <g id=\"figure_1\">\n  <g id=\"patch_1\">\n   <path d=\"M 0 279.754375 \nL 424.678125 279.754375 \nL 424.678125 0 \nL 0 0 \nz\n\" style=\"fill:none;\"/>\n  </g>\n  <g id=\"axes_1\">\n   <g id=\"patch_2\">\n    <path d=\"M 53.328125 242.198125 \nL 417.478125 242.198125 \nL 417.478125 26.798125 \nL 53.328125 26.798125 \nz\n\" style=\"fill:#ffffff;\"/>\n   </g>\n   <g id=\"patch_3\">\n    <path clip-path=\"url(#p4678a4d531)\" d=\"M 71.535625 242.198125 \nL 107.950625 242.198125 \nL 107.950625 37.055268 \nL 71.535625 37.055268 \nz\n\" style=\"fill:#ff9999;\"/>\n   </g>\n   <g id=\"patch_4\">\n    <path clip-path=\"url(#p4678a4d531)\" d=\"M 144.365625 242.198125 \nL 180.780625 242.198125 \nL 180.780625 76.425237 \nL 144.365625 76.425237 \nz\n\" style=\"fill:#66b3ff;\"/>\n   </g>\n   <g id=\"patch_5\">\n    <path clip-path=\"url(#p4678a4d531)\" d=\"M 217.195625 242.198125 \nL 253.610625 242.198125 \nL 253.610625 128.016484 \nL 217.195625 128.016484 \nz\n\" style=\"fill:#ffcc99;\"/>\n   </g>\n   <g id=\"patch_6\">\n    <path clip-path=\"url(#p4678a4d531)\" d=\"M 290.025625 242.198125 \nL 326.440625 242.198125 \nL 326.440625 193.313019 \nL 290.025625 193.313019 \nz\n\" style=\"fill:#dfa7f2;\"/>\n   </g>\n   <g id=\"patch_7\">\n    <path clip-path=\"url(#p4678a4d531)\" d=\"M 362.855625 242.198125 \nL 399.270625 242.198125 \nL 399.270625 193.400313 \nL 362.855625 193.400313 \nz\n\" style=\"fill:#99ff99;\"/>\n   </g>\n   <g id=\"matplotlib.axis_1\">\n    <g id=\"xtick_1\">\n     <g id=\"line2d_1\">\n      <defs>\n       <path d=\"M 0 0 \nL 0 3.5 \n\" id=\"m23bce903a5\" style=\"stroke:#000000;stroke-width:0.8;\"/>\n      </defs>\n      <g>\n       <use style=\"stroke:#000000;stroke-width:0.8;\" x=\"89.743125\" xlink:href=\"#m23bce903a5\" y=\"242.198125\"/>\n      </g>\n     </g>\n     <g id=\"text_1\">\n      <!-- USA -->\n      <g transform=\"translate(79.395469 256.796562)scale(0.1 -0.1)\">\n       <defs>\n        <path d=\"M 8.6875 72.90625 \nL 18.609375 72.90625 \nL 18.609375 28.609375 \nQ 18.609375 16.890625 22.84375 11.734375 \nQ 27.09375 6.59375 36.625 6.59375 \nQ 46.09375 6.59375 50.34375 11.734375 \nQ 54.59375 16.890625 54.59375 28.609375 \nL 54.59375 72.90625 \nL 64.5 72.90625 \nL 64.5 27.390625 \nQ 64.5 13.140625 57.4375 5.859375 \nQ 50.390625 -1.421875 36.625 -1.421875 \nQ 22.796875 -1.421875 15.734375 5.859375 \nQ 8.6875 13.140625 8.6875 27.390625 \nz\n\" id=\"DejaVuSans-85\"/>\n        <path d=\"M 53.515625 70.515625 \nL 53.515625 60.890625 \nQ 47.90625 63.578125 42.921875 64.890625 \nQ 37.9375 66.21875 33.296875 66.21875 \nQ 25.25 66.21875 20.875 63.09375 \nQ 16.5 59.96875 16.5 54.203125 \nQ 16.5 49.359375 19.40625 46.890625 \nQ 22.3125 44.4375 30.421875 42.921875 \nL 36.375 41.703125 \nQ 47.40625 39.59375 52.65625 34.296875 \nQ 57.90625 29 57.90625 20.125 \nQ 57.90625 9.515625 50.796875 4.046875 \nQ 43.703125 -1.421875 29.984375 -1.421875 \nQ 24.8125 -1.421875 18.96875 -0.25 \nQ 13.140625 0.921875 6.890625 3.21875 \nL 6.890625 13.375 \nQ 12.890625 10.015625 18.65625 8.296875 \nQ 24.421875 6.59375 29.984375 6.59375 \nQ 38.421875 6.59375 43.015625 9.90625 \nQ 47.609375 13.234375 47.609375 19.390625 \nQ 47.609375 24.75 44.3125 27.78125 \nQ 41.015625 30.8125 33.5 32.328125 \nL 27.484375 33.5 \nQ 16.453125 35.6875 11.515625 40.375 \nQ 6.59375 45.0625 6.59375 53.421875 \nQ 6.59375 63.09375 13.40625 68.65625 \nQ 20.21875 74.21875 32.171875 74.21875 \nQ 37.3125 74.21875 42.625 73.28125 \nQ 47.953125 72.359375 53.515625 70.515625 \nz\n\" id=\"DejaVuSans-83\"/>\n        <path d=\"M 34.1875 63.1875 \nL 20.796875 26.90625 \nL 47.609375 26.90625 \nz\nM 28.609375 72.90625 \nL 39.796875 72.90625 \nL 67.578125 0 \nL 57.328125 0 \nL 50.6875 18.703125 \nL 17.828125 18.703125 \nL 11.1875 0 \nL 0.78125 0 \nz\n\" id=\"DejaVuSans-65\"/>\n       </defs>\n       <use xlink:href=\"#DejaVuSans-85\"/>\n       <use x=\"73.193359\" xlink:href=\"#DejaVuSans-83\"/>\n       <use x=\"138.544922\" xlink:href=\"#DejaVuSans-65\"/>\n      </g>\n     </g>\n    </g>\n    <g id=\"xtick_2\">\n     <g id=\"line2d_2\">\n      <g>\n       <use style=\"stroke:#000000;stroke-width:0.8;\" x=\"162.573125\" xlink:href=\"#m23bce903a5\" y=\"242.198125\"/>\n      </g>\n     </g>\n     <g id=\"text_2\">\n      <!-- Japan -->\n      <g transform=\"translate(148.627031 256.796562)scale(0.1 -0.1)\">\n       <defs>\n        <path d=\"M 9.8125 72.90625 \nL 19.671875 72.90625 \nL 19.671875 5.078125 \nQ 19.671875 -8.109375 14.671875 -14.0625 \nQ 9.671875 -20.015625 -1.421875 -20.015625 \nL -5.171875 -20.015625 \nL -5.171875 -11.71875 \nL -2.09375 -11.71875 \nQ 4.4375 -11.71875 7.125 -8.046875 \nQ 9.8125 -4.390625 9.8125 5.078125 \nz\n\" id=\"DejaVuSans-74\"/>\n        <path d=\"M 34.28125 27.484375 \nQ 23.390625 27.484375 19.1875 25 \nQ 14.984375 22.515625 14.984375 16.5 \nQ 14.984375 11.71875 18.140625 8.90625 \nQ 21.296875 6.109375 26.703125 6.109375 \nQ 34.1875 6.109375 38.703125 11.40625 \nQ 43.21875 16.703125 43.21875 25.484375 \nL 43.21875 27.484375 \nz\nM 52.203125 31.203125 \nL 52.203125 0 \nL 43.21875 0 \nL 43.21875 8.296875 \nQ 40.140625 3.328125 35.546875 0.953125 \nQ 30.953125 -1.421875 24.3125 -1.421875 \nQ 15.921875 -1.421875 10.953125 3.296875 \nQ 6 8.015625 6 15.921875 \nQ 6 25.140625 12.171875 29.828125 \nQ 18.359375 34.515625 30.609375 34.515625 \nL 43.21875 34.515625 \nL 43.21875 35.40625 \nQ 43.21875 41.609375 39.140625 45 \nQ 35.0625 48.390625 27.6875 48.390625 \nQ 23 48.390625 18.546875 47.265625 \nQ 14.109375 46.140625 10.015625 43.890625 \nL 10.015625 52.203125 \nQ 14.9375 54.109375 19.578125 55.046875 \nQ 24.21875 56 28.609375 56 \nQ 40.484375 56 46.34375 49.84375 \nQ 52.203125 43.703125 52.203125 31.203125 \nz\n\" id=\"DejaVuSans-97\"/>\n        <path d=\"M 18.109375 8.203125 \nL 18.109375 -20.796875 \nL 9.078125 -20.796875 \nL 9.078125 54.6875 \nL 18.109375 54.6875 \nL 18.109375 46.390625 \nQ 20.953125 51.265625 25.265625 53.625 \nQ 29.59375 56 35.59375 56 \nQ 45.5625 56 51.78125 48.09375 \nQ 58.015625 40.1875 58.015625 27.296875 \nQ 58.015625 14.40625 51.78125 6.484375 \nQ 45.5625 -1.421875 35.59375 -1.421875 \nQ 29.59375 -1.421875 25.265625 0.953125 \nQ 20.953125 3.328125 18.109375 8.203125 \nz\nM 48.6875 27.296875 \nQ 48.6875 37.203125 44.609375 42.84375 \nQ 40.53125 48.484375 33.40625 48.484375 \nQ 26.265625 48.484375 22.1875 42.84375 \nQ 18.109375 37.203125 18.109375 27.296875 \nQ 18.109375 17.390625 22.1875 11.75 \nQ 26.265625 6.109375 33.40625 6.109375 \nQ 40.53125 6.109375 44.609375 11.75 \nQ 48.6875 17.390625 48.6875 27.296875 \nz\n\" id=\"DejaVuSans-112\"/>\n        <path d=\"M 54.890625 33.015625 \nL 54.890625 0 \nL 45.90625 0 \nL 45.90625 32.71875 \nQ 45.90625 40.484375 42.875 44.328125 \nQ 39.84375 48.1875 33.796875 48.1875 \nQ 26.515625 48.1875 22.3125 43.546875 \nQ 18.109375 38.921875 18.109375 30.90625 \nL 18.109375 0 \nL 9.078125 0 \nL 9.078125 54.6875 \nL 18.109375 54.6875 \nL 18.109375 46.1875 \nQ 21.34375 51.125 25.703125 53.5625 \nQ 30.078125 56 35.796875 56 \nQ 45.21875 56 50.046875 50.171875 \nQ 54.890625 44.34375 54.890625 33.015625 \nz\n\" id=\"DejaVuSans-110\"/>\n       </defs>\n       <use xlink:href=\"#DejaVuSans-74\"/>\n       <use x=\"29.492188\" xlink:href=\"#DejaVuSans-97\"/>\n       <use x=\"90.771484\" xlink:href=\"#DejaVuSans-112\"/>\n       <use x=\"154.248047\" xlink:href=\"#DejaVuSans-97\"/>\n       <use x=\"215.527344\" xlink:href=\"#DejaVuSans-110\"/>\n      </g>\n     </g>\n    </g>\n    <g id=\"xtick_3\">\n     <g id=\"line2d_3\">\n      <g>\n       <use style=\"stroke:#000000;stroke-width:0.8;\" x=\"235.403125\" xlink:href=\"#m23bce903a5\" y=\"242.198125\"/>\n      </g>\n     </g>\n     <g id=\"text_3\">\n      <!-- Germany -->\n      <g transform=\"translate(212.421875 256.796562)scale(0.1 -0.1)\">\n       <defs>\n        <path d=\"M 59.515625 10.40625 \nL 59.515625 29.984375 \nL 43.40625 29.984375 \nL 43.40625 38.09375 \nL 69.28125 38.09375 \nL 69.28125 6.78125 \nQ 63.578125 2.734375 56.6875 0.65625 \nQ 49.8125 -1.421875 42 -1.421875 \nQ 24.90625 -1.421875 15.25 8.5625 \nQ 5.609375 18.5625 5.609375 36.375 \nQ 5.609375 54.25 15.25 64.234375 \nQ 24.90625 74.21875 42 74.21875 \nQ 49.125 74.21875 55.546875 72.453125 \nQ 61.96875 70.703125 67.390625 67.28125 \nL 67.390625 56.78125 \nQ 61.921875 61.421875 55.765625 63.765625 \nQ 49.609375 66.109375 42.828125 66.109375 \nQ 29.4375 66.109375 22.71875 58.640625 \nQ 16.015625 51.171875 16.015625 36.375 \nQ 16.015625 21.625 22.71875 14.15625 \nQ 29.4375 6.6875 42.828125 6.6875 \nQ 48.046875 6.6875 52.140625 7.59375 \nQ 56.25 8.5 59.515625 10.40625 \nz\n\" id=\"DejaVuSans-71\"/>\n        <path d=\"M 56.203125 29.59375 \nL 56.203125 25.203125 \nL 14.890625 25.203125 \nQ 15.484375 15.921875 20.484375 11.0625 \nQ 25.484375 6.203125 34.421875 6.203125 \nQ 39.59375 6.203125 44.453125 7.46875 \nQ 49.3125 8.734375 54.109375 11.28125 \nL 54.109375 2.78125 \nQ 49.265625 0.734375 44.1875 -0.34375 \nQ 39.109375 -1.421875 33.890625 -1.421875 \nQ 20.796875 -1.421875 13.15625 6.1875 \nQ 5.515625 13.8125 5.515625 26.8125 \nQ 5.515625 40.234375 12.765625 48.109375 \nQ 20.015625 56 32.328125 56 \nQ 43.359375 56 49.78125 48.890625 \nQ 56.203125 41.796875 56.203125 29.59375 \nz\nM 47.21875 32.234375 \nQ 47.125 39.59375 43.09375 43.984375 \nQ 39.0625 48.390625 32.421875 48.390625 \nQ 24.90625 48.390625 20.390625 44.140625 \nQ 15.875 39.890625 15.1875 32.171875 \nz\n\" id=\"DejaVuSans-101\"/>\n        <path d=\"M 41.109375 46.296875 \nQ 39.59375 47.171875 37.8125 47.578125 \nQ 36.03125 48 33.890625 48 \nQ 26.265625 48 22.1875 43.046875 \nQ 18.109375 38.09375 18.109375 28.8125 \nL 18.109375 0 \nL 9.078125 0 \nL 9.078125 54.6875 \nL 18.109375 54.6875 \nL 18.109375 46.1875 \nQ 20.953125 51.171875 25.484375 53.578125 \nQ 30.03125 56 36.53125 56 \nQ 37.453125 56 38.578125 55.875 \nQ 39.703125 55.765625 41.0625 55.515625 \nz\n\" id=\"DejaVuSans-114\"/>\n        <path d=\"M 52 44.1875 \nQ 55.375 50.25 60.0625 53.125 \nQ 64.75 56 71.09375 56 \nQ 79.640625 56 84.28125 50.015625 \nQ 88.921875 44.046875 88.921875 33.015625 \nL 88.921875 0 \nL 79.890625 0 \nL 79.890625 32.71875 \nQ 79.890625 40.578125 77.09375 44.375 \nQ 74.3125 48.1875 68.609375 48.1875 \nQ 61.625 48.1875 57.5625 43.546875 \nQ 53.515625 38.921875 53.515625 30.90625 \nL 53.515625 0 \nL 44.484375 0 \nL 44.484375 32.71875 \nQ 44.484375 40.625 41.703125 44.40625 \nQ 38.921875 48.1875 33.109375 48.1875 \nQ 26.21875 48.1875 22.15625 43.53125 \nQ 18.109375 38.875 18.109375 30.90625 \nL 18.109375 0 \nL 9.078125 0 \nL 9.078125 54.6875 \nL 18.109375 54.6875 \nL 18.109375 46.1875 \nQ 21.1875 51.21875 25.484375 53.609375 \nQ 29.78125 56 35.6875 56 \nQ 41.65625 56 45.828125 52.96875 \nQ 50 49.953125 52 44.1875 \nz\n\" id=\"DejaVuSans-109\"/>\n        <path d=\"M 32.171875 -5.078125 \nQ 28.375 -14.84375 24.75 -17.8125 \nQ 21.140625 -20.796875 15.09375 -20.796875 \nL 7.90625 -20.796875 \nL 7.90625 -13.28125 \nL 13.1875 -13.28125 \nQ 16.890625 -13.28125 18.9375 -11.515625 \nQ 21 -9.765625 23.484375 -3.21875 \nL 25.09375 0.875 \nL 2.984375 54.6875 \nL 12.5 54.6875 \nL 29.59375 11.921875 \nL 46.6875 54.6875 \nL 56.203125 54.6875 \nz\n\" id=\"DejaVuSans-121\"/>\n       </defs>\n       <use xlink:href=\"#DejaVuSans-71\"/>\n       <use x=\"77.490234\" xlink:href=\"#DejaVuSans-101\"/>\n       <use x=\"139.013672\" xlink:href=\"#DejaVuSans-114\"/>\n       <use x=\"178.376953\" xlink:href=\"#DejaVuSans-109\"/>\n       <use x=\"275.789062\" xlink:href=\"#DejaVuSans-97\"/>\n       <use x=\"337.068359\" xlink:href=\"#DejaVuSans-110\"/>\n       <use x=\"400.447266\" xlink:href=\"#DejaVuSans-121\"/>\n      </g>\n     </g>\n    </g>\n    <g id=\"xtick_4\">\n     <g id=\"line2d_4\">\n      <g>\n       <use style=\"stroke:#000000;stroke-width:0.8;\" x=\"308.233125\" xlink:href=\"#m23bce903a5\" y=\"242.198125\"/>\n      </g>\n     </g>\n     <g id=\"text_4\">\n      <!-- India -->\n      <g transform=\"translate(295.962031 256.796562)scale(0.1 -0.1)\">\n       <defs>\n        <path d=\"M 9.8125 72.90625 \nL 19.671875 72.90625 \nL 19.671875 0 \nL 9.8125 0 \nz\n\" id=\"DejaVuSans-73\"/>\n        <path d=\"M 45.40625 46.390625 \nL 45.40625 75.984375 \nL 54.390625 75.984375 \nL 54.390625 0 \nL 45.40625 0 \nL 45.40625 8.203125 \nQ 42.578125 3.328125 38.25 0.953125 \nQ 33.9375 -1.421875 27.875 -1.421875 \nQ 17.96875 -1.421875 11.734375 6.484375 \nQ 5.515625 14.40625 5.515625 27.296875 \nQ 5.515625 40.1875 11.734375 48.09375 \nQ 17.96875 56 27.875 56 \nQ 33.9375 56 38.25 53.625 \nQ 42.578125 51.265625 45.40625 46.390625 \nz\nM 14.796875 27.296875 \nQ 14.796875 17.390625 18.875 11.75 \nQ 22.953125 6.109375 30.078125 6.109375 \nQ 37.203125 6.109375 41.296875 11.75 \nQ 45.40625 17.390625 45.40625 27.296875 \nQ 45.40625 37.203125 41.296875 42.84375 \nQ 37.203125 48.484375 30.078125 48.484375 \nQ 22.953125 48.484375 18.875 42.84375 \nQ 14.796875 37.203125 14.796875 27.296875 \nz\n\" id=\"DejaVuSans-100\"/>\n        <path d=\"M 9.421875 54.6875 \nL 18.40625 54.6875 \nL 18.40625 0 \nL 9.421875 0 \nz\nM 9.421875 75.984375 \nL 18.40625 75.984375 \nL 18.40625 64.59375 \nL 9.421875 64.59375 \nz\n\" id=\"DejaVuSans-105\"/>\n       </defs>\n       <use xlink:href=\"#DejaVuSans-73\"/>\n       <use x=\"29.492188\" xlink:href=\"#DejaVuSans-110\"/>\n       <use x=\"92.871094\" xlink:href=\"#DejaVuSans-100\"/>\n       <use x=\"156.347656\" xlink:href=\"#DejaVuSans-105\"/>\n       <use x=\"184.130859\" xlink:href=\"#DejaVuSans-97\"/>\n      </g>\n     </g>\n    </g>\n    <g id=\"xtick_5\">\n     <g id=\"line2d_5\">\n      <g>\n       <use style=\"stroke:#000000;stroke-width:0.8;\" x=\"381.063125\" xlink:href=\"#m23bce903a5\" y=\"242.198125\"/>\n      </g>\n     </g>\n     <g id=\"text_5\">\n      <!-- Australia -->\n      <g transform=\"translate(358.9475 256.796562)scale(0.1 -0.1)\">\n       <defs>\n        <path d=\"M 8.5 21.578125 \nL 8.5 54.6875 \nL 17.484375 54.6875 \nL 17.484375 21.921875 \nQ 17.484375 14.15625 20.5 10.265625 \nQ 23.53125 6.390625 29.59375 6.390625 \nQ 36.859375 6.390625 41.078125 11.03125 \nQ 45.3125 15.671875 45.3125 23.6875 \nL 45.3125 54.6875 \nL 54.296875 54.6875 \nL 54.296875 0 \nL 45.3125 0 \nL 45.3125 8.40625 \nQ 42.046875 3.421875 37.71875 1 \nQ 33.40625 -1.421875 27.6875 -1.421875 \nQ 18.265625 -1.421875 13.375 4.4375 \nQ 8.5 10.296875 8.5 21.578125 \nz\nM 31.109375 56 \nz\n\" id=\"DejaVuSans-117\"/>\n        <path d=\"M 44.28125 53.078125 \nL 44.28125 44.578125 \nQ 40.484375 46.53125 36.375 47.5 \nQ 32.28125 48.484375 27.875 48.484375 \nQ 21.1875 48.484375 17.84375 46.4375 \nQ 14.5 44.390625 14.5 40.28125 \nQ 14.5 37.15625 16.890625 35.375 \nQ 19.28125 33.59375 26.515625 31.984375 \nL 29.59375 31.296875 \nQ 39.15625 29.25 43.1875 25.515625 \nQ 47.21875 21.78125 47.21875 15.09375 \nQ 47.21875 7.46875 41.1875 3.015625 \nQ 35.15625 -1.421875 24.609375 -1.421875 \nQ 20.21875 -1.421875 15.453125 -0.5625 \nQ 10.6875 0.296875 5.421875 2 \nL 5.421875 11.28125 \nQ 10.40625 8.6875 15.234375 7.390625 \nQ 20.0625 6.109375 24.8125 6.109375 \nQ 31.15625 6.109375 34.5625 8.28125 \nQ 37.984375 10.453125 37.984375 14.40625 \nQ 37.984375 18.0625 35.515625 20.015625 \nQ 33.0625 21.96875 24.703125 23.78125 \nL 21.578125 24.515625 \nQ 13.234375 26.265625 9.515625 29.90625 \nQ 5.8125 33.546875 5.8125 39.890625 \nQ 5.8125 47.609375 11.28125 51.796875 \nQ 16.75 56 26.8125 56 \nQ 31.78125 56 36.171875 55.265625 \nQ 40.578125 54.546875 44.28125 53.078125 \nz\n\" id=\"DejaVuSans-115\"/>\n        <path d=\"M 18.3125 70.21875 \nL 18.3125 54.6875 \nL 36.8125 54.6875 \nL 36.8125 47.703125 \nL 18.3125 47.703125 \nL 18.3125 18.015625 \nQ 18.3125 11.328125 20.140625 9.421875 \nQ 21.96875 7.515625 27.59375 7.515625 \nL 36.8125 7.515625 \nL 36.8125 0 \nL 27.59375 0 \nQ 17.1875 0 13.234375 3.875 \nQ 9.28125 7.765625 9.28125 18.015625 \nL 9.28125 47.703125 \nL 2.6875 47.703125 \nL 2.6875 54.6875 \nL 9.28125 54.6875 \nL 9.28125 70.21875 \nz\n\" id=\"DejaVuSans-116\"/>\n        <path d=\"M 9.421875 75.984375 \nL 18.40625 75.984375 \nL 18.40625 0 \nL 9.421875 0 \nz\n\" id=\"DejaVuSans-108\"/>\n       </defs>\n       <use xlink:href=\"#DejaVuSans-65\"/>\n       <use x=\"68.408203\" xlink:href=\"#DejaVuSans-117\"/>\n       <use x=\"131.787109\" xlink:href=\"#DejaVuSans-115\"/>\n       <use x=\"183.886719\" xlink:href=\"#DejaVuSans-116\"/>\n       <use x=\"223.095703\" xlink:href=\"#DejaVuSans-114\"/>\n       <use x=\"264.208984\" xlink:href=\"#DejaVuSans-97\"/>\n       <use x=\"325.488281\" xlink:href=\"#DejaVuSans-108\"/>\n       <use x=\"353.271484\" xlink:href=\"#DejaVuSans-105\"/>\n       <use x=\"381.054688\" xlink:href=\"#DejaVuSans-97\"/>\n      </g>\n     </g>\n    </g>\n    <g id=\"text_6\">\n     <!-- País -->\n     <g transform=\"translate(225.555469 270.474687)scale(0.1 -0.1)\">\n      <defs>\n       <path d=\"M 19.671875 64.796875 \nL 19.671875 37.40625 \nL 32.078125 37.40625 \nQ 38.96875 37.40625 42.71875 40.96875 \nQ 46.484375 44.53125 46.484375 51.125 \nQ 46.484375 57.671875 42.71875 61.234375 \nQ 38.96875 64.796875 32.078125 64.796875 \nz\nM 9.8125 72.90625 \nL 32.078125 72.90625 \nQ 44.34375 72.90625 50.609375 67.359375 \nQ 56.890625 61.8125 56.890625 51.125 \nQ 56.890625 40.328125 50.609375 34.8125 \nQ 44.34375 29.296875 32.078125 29.296875 \nL 19.671875 29.296875 \nL 19.671875 0 \nL 9.8125 0 \nz\n\" id=\"DejaVuSans-80\"/>\n       <path d=\"M 20.65625 79.984375 \nL 30.375 79.984375 \nL 14.46875 61.625 \nL 6.984375 61.625 \nz\nM 9.421875 54.6875 \nL 18.40625 54.6875 \nL 18.40625 0 \nL 9.421875 0 \nz\nM 13.921875 56 \nz\n\" id=\"DejaVuSans-237\"/>\n      </defs>\n      <use xlink:href=\"#DejaVuSans-80\"/>\n      <use x=\"55.802734\" xlink:href=\"#DejaVuSans-97\"/>\n      <use x=\"117.082031\" xlink:href=\"#DejaVuSans-237\"/>\n      <use x=\"144.865234\" xlink:href=\"#DejaVuSans-115\"/>\n     </g>\n    </g>\n   </g>\n   <g id=\"matplotlib.axis_2\">\n    <g id=\"ytick_1\">\n     <g id=\"line2d_6\">\n      <path clip-path=\"url(#p4678a4d531)\" d=\"M 53.328125 242.198125 \nL 417.478125 242.198125 \n\" style=\"fill:none;stroke:#b0b0b0;stroke-linecap:square;stroke-width:0.8;\"/>\n     </g>\n     <g id=\"line2d_7\">\n      <defs>\n       <path d=\"M 0 0 \nL -3.5 0 \n\" id=\"m19f48fc1a1\" style=\"stroke:#000000;stroke-width:0.8;\"/>\n      </defs>\n      <g>\n       <use style=\"stroke:#000000;stroke-width:0.8;\" x=\"53.328125\" xlink:href=\"#m19f48fc1a1\" y=\"242.198125\"/>\n      </g>\n     </g>\n     <g id=\"text_7\">\n      <!-- 0 -->\n      <g transform=\"translate(39.965625 245.997344)scale(0.1 -0.1)\">\n       <defs>\n        <path d=\"M 31.78125 66.40625 \nQ 24.171875 66.40625 20.328125 58.90625 \nQ 16.5 51.421875 16.5 36.375 \nQ 16.5 21.390625 20.328125 13.890625 \nQ 24.171875 6.390625 31.78125 6.390625 \nQ 39.453125 6.390625 43.28125 13.890625 \nQ 47.125 21.390625 47.125 36.375 \nQ 47.125 51.421875 43.28125 58.90625 \nQ 39.453125 66.40625 31.78125 66.40625 \nz\nM 31.78125 74.21875 \nQ 44.046875 74.21875 50.515625 64.515625 \nQ 56.984375 54.828125 56.984375 36.375 \nQ 56.984375 17.96875 50.515625 8.265625 \nQ 44.046875 -1.421875 31.78125 -1.421875 \nQ 19.53125 -1.421875 13.0625 8.265625 \nQ 6.59375 17.96875 6.59375 36.375 \nQ 6.59375 54.828125 13.0625 64.515625 \nQ 19.53125 74.21875 31.78125 74.21875 \nz\n\" id=\"DejaVuSans-48\"/>\n       </defs>\n       <use xlink:href=\"#DejaVuSans-48\"/>\n      </g>\n     </g>\n    </g>\n    <g id=\"ytick_2\">\n     <g id=\"line2d_8\">\n      <path clip-path=\"url(#p4678a4d531)\" d=\"M 53.328125 198.550709 \nL 417.478125 198.550709 \n\" style=\"fill:none;stroke:#b0b0b0;stroke-linecap:square;stroke-width:0.8;\"/>\n     </g>\n     <g id=\"line2d_9\">\n      <g>\n       <use style=\"stroke:#000000;stroke-width:0.8;\" x=\"53.328125\" xlink:href=\"#m19f48fc1a1\" y=\"198.550709\"/>\n      </g>\n     </g>\n     <g id=\"text_8\">\n      <!-- 500 -->\n      <g transform=\"translate(27.240625 202.349927)scale(0.1 -0.1)\">\n       <defs>\n        <path d=\"M 10.796875 72.90625 \nL 49.515625 72.90625 \nL 49.515625 64.59375 \nL 19.828125 64.59375 \nL 19.828125 46.734375 \nQ 21.96875 47.46875 24.109375 47.828125 \nQ 26.265625 48.1875 28.421875 48.1875 \nQ 40.625 48.1875 47.75 41.5 \nQ 54.890625 34.8125 54.890625 23.390625 \nQ 54.890625 11.625 47.5625 5.09375 \nQ 40.234375 -1.421875 26.90625 -1.421875 \nQ 22.3125 -1.421875 17.546875 -0.640625 \nQ 12.796875 0.140625 7.71875 1.703125 \nL 7.71875 11.625 \nQ 12.109375 9.234375 16.796875 8.0625 \nQ 21.484375 6.890625 26.703125 6.890625 \nQ 35.15625 6.890625 40.078125 11.328125 \nQ 45.015625 15.765625 45.015625 23.390625 \nQ 45.015625 31 40.078125 35.4375 \nQ 35.15625 39.890625 26.703125 39.890625 \nQ 22.75 39.890625 18.8125 39.015625 \nQ 14.890625 38.140625 10.796875 36.28125 \nz\n\" id=\"DejaVuSans-53\"/>\n       </defs>\n       <use xlink:href=\"#DejaVuSans-53\"/>\n       <use x=\"63.623047\" xlink:href=\"#DejaVuSans-48\"/>\n       <use x=\"127.246094\" xlink:href=\"#DejaVuSans-48\"/>\n      </g>\n     </g>\n    </g>\n    <g id=\"ytick_3\">\n     <g id=\"line2d_10\">\n      <path clip-path=\"url(#p4678a4d531)\" d=\"M 53.328125 154.903292 \nL 417.478125 154.903292 \n\" style=\"fill:none;stroke:#b0b0b0;stroke-linecap:square;stroke-width:0.8;\"/>\n     </g>\n     <g id=\"line2d_11\">\n      <g>\n       <use style=\"stroke:#000000;stroke-width:0.8;\" x=\"53.328125\" xlink:href=\"#m19f48fc1a1\" y=\"154.903292\"/>\n      </g>\n     </g>\n     <g id=\"text_9\">\n      <!-- 1000 -->\n      <g transform=\"translate(20.878125 158.702511)scale(0.1 -0.1)\">\n       <defs>\n        <path d=\"M 12.40625 8.296875 \nL 28.515625 8.296875 \nL 28.515625 63.921875 \nL 10.984375 60.40625 \nL 10.984375 69.390625 \nL 28.421875 72.90625 \nL 38.28125 72.90625 \nL 38.28125 8.296875 \nL 54.390625 8.296875 \nL 54.390625 0 \nL 12.40625 0 \nz\n\" id=\"DejaVuSans-49\"/>\n       </defs>\n       <use xlink:href=\"#DejaVuSans-49\"/>\n       <use x=\"63.623047\" xlink:href=\"#DejaVuSans-48\"/>\n       <use x=\"127.246094\" xlink:href=\"#DejaVuSans-48\"/>\n       <use x=\"190.869141\" xlink:href=\"#DejaVuSans-48\"/>\n      </g>\n     </g>\n    </g>\n    <g id=\"ytick_4\">\n     <g id=\"line2d_12\">\n      <path clip-path=\"url(#p4678a4d531)\" d=\"M 53.328125 111.255876 \nL 417.478125 111.255876 \n\" style=\"fill:none;stroke:#b0b0b0;stroke-linecap:square;stroke-width:0.8;\"/>\n     </g>\n     <g id=\"line2d_13\">\n      <g>\n       <use style=\"stroke:#000000;stroke-width:0.8;\" x=\"53.328125\" xlink:href=\"#m19f48fc1a1\" y=\"111.255876\"/>\n      </g>\n     </g>\n     <g id=\"text_10\">\n      <!-- 1500 -->\n      <g transform=\"translate(20.878125 115.055095)scale(0.1 -0.1)\">\n       <use xlink:href=\"#DejaVuSans-49\"/>\n       <use x=\"63.623047\" xlink:href=\"#DejaVuSans-53\"/>\n       <use x=\"127.246094\" xlink:href=\"#DejaVuSans-48\"/>\n       <use x=\"190.869141\" xlink:href=\"#DejaVuSans-48\"/>\n      </g>\n     </g>\n    </g>\n    <g id=\"ytick_5\">\n     <g id=\"line2d_14\">\n      <path clip-path=\"url(#p4678a4d531)\" d=\"M 53.328125 67.608459 \nL 417.478125 67.608459 \n\" style=\"fill:none;stroke:#b0b0b0;stroke-linecap:square;stroke-width:0.8;\"/>\n     </g>\n     <g id=\"line2d_15\">\n      <g>\n       <use style=\"stroke:#000000;stroke-width:0.8;\" x=\"53.328125\" xlink:href=\"#m19f48fc1a1\" y=\"67.608459\"/>\n      </g>\n     </g>\n     <g id=\"text_11\">\n      <!-- 2000 -->\n      <g transform=\"translate(20.878125 71.407678)scale(0.1 -0.1)\">\n       <defs>\n        <path d=\"M 19.1875 8.296875 \nL 53.609375 8.296875 \nL 53.609375 0 \nL 7.328125 0 \nL 7.328125 8.296875 \nQ 12.9375 14.109375 22.625 23.890625 \nQ 32.328125 33.6875 34.8125 36.53125 \nQ 39.546875 41.84375 41.421875 45.53125 \nQ 43.3125 49.21875 43.3125 52.78125 \nQ 43.3125 58.59375 39.234375 62.25 \nQ 35.15625 65.921875 28.609375 65.921875 \nQ 23.96875 65.921875 18.8125 64.3125 \nQ 13.671875 62.703125 7.8125 59.421875 \nL 7.8125 69.390625 \nQ 13.765625 71.78125 18.9375 73 \nQ 24.125 74.21875 28.421875 74.21875 \nQ 39.75 74.21875 46.484375 68.546875 \nQ 53.21875 62.890625 53.21875 53.421875 \nQ 53.21875 48.921875 51.53125 44.890625 \nQ 49.859375 40.875 45.40625 35.40625 \nQ 44.1875 33.984375 37.640625 27.21875 \nQ 31.109375 20.453125 19.1875 8.296875 \nz\n\" id=\"DejaVuSans-50\"/>\n       </defs>\n       <use xlink:href=\"#DejaVuSans-50\"/>\n       <use x=\"63.623047\" xlink:href=\"#DejaVuSans-48\"/>\n       <use x=\"127.246094\" xlink:href=\"#DejaVuSans-48\"/>\n       <use x=\"190.869141\" xlink:href=\"#DejaVuSans-48\"/>\n      </g>\n     </g>\n    </g>\n    <g id=\"text_12\">\n     <!-- Frecuencia -->\n     <g transform=\"translate(14.798438 161.396562)rotate(-90)scale(0.1 -0.1)\">\n      <defs>\n       <path d=\"M 9.8125 72.90625 \nL 51.703125 72.90625 \nL 51.703125 64.59375 \nL 19.671875 64.59375 \nL 19.671875 43.109375 \nL 48.578125 43.109375 \nL 48.578125 34.8125 \nL 19.671875 34.8125 \nL 19.671875 0 \nL 9.8125 0 \nz\n\" id=\"DejaVuSans-70\"/>\n       <path d=\"M 48.78125 52.59375 \nL 48.78125 44.1875 \nQ 44.96875 46.296875 41.140625 47.34375 \nQ 37.3125 48.390625 33.40625 48.390625 \nQ 24.65625 48.390625 19.8125 42.84375 \nQ 14.984375 37.3125 14.984375 27.296875 \nQ 14.984375 17.28125 19.8125 11.734375 \nQ 24.65625 6.203125 33.40625 6.203125 \nQ 37.3125 6.203125 41.140625 7.25 \nQ 44.96875 8.296875 48.78125 10.40625 \nL 48.78125 2.09375 \nQ 45.015625 0.34375 40.984375 -0.53125 \nQ 36.96875 -1.421875 32.421875 -1.421875 \nQ 20.0625 -1.421875 12.78125 6.34375 \nQ 5.515625 14.109375 5.515625 27.296875 \nQ 5.515625 40.671875 12.859375 48.328125 \nQ 20.21875 56 33.015625 56 \nQ 37.15625 56 41.109375 55.140625 \nQ 45.0625 54.296875 48.78125 52.59375 \nz\n\" id=\"DejaVuSans-99\"/>\n      </defs>\n      <use xlink:href=\"#DejaVuSans-70\"/>\n      <use x=\"50.269531\" xlink:href=\"#DejaVuSans-114\"/>\n      <use x=\"89.132812\" xlink:href=\"#DejaVuSans-101\"/>\n      <use x=\"150.65625\" xlink:href=\"#DejaVuSans-99\"/>\n      <use x=\"205.636719\" xlink:href=\"#DejaVuSans-117\"/>\n      <use x=\"269.015625\" xlink:href=\"#DejaVuSans-101\"/>\n      <use x=\"330.539062\" xlink:href=\"#DejaVuSans-110\"/>\n      <use x=\"393.917969\" xlink:href=\"#DejaVuSans-99\"/>\n      <use x=\"448.898438\" xlink:href=\"#DejaVuSans-105\"/>\n      <use x=\"476.681641\" xlink:href=\"#DejaVuSans-97\"/>\n     </g>\n    </g>\n   </g>\n   <g id=\"patch_8\">\n    <path d=\"M 53.328125 242.198125 \nL 53.328125 26.798125 \n\" style=\"fill:none;stroke:#000000;stroke-linecap:square;stroke-linejoin:miter;stroke-width:0.8;\"/>\n   </g>\n   <g id=\"patch_9\">\n    <path d=\"M 417.478125 242.198125 \nL 417.478125 26.798125 \n\" style=\"fill:none;stroke:#000000;stroke-linecap:square;stroke-linejoin:miter;stroke-width:0.8;\"/>\n   </g>\n   <g id=\"patch_10\">\n    <path d=\"M 53.328125 242.198125 \nL 417.478125 242.198125 \n\" style=\"fill:none;stroke:#000000;stroke-linecap:square;stroke-linejoin:miter;stroke-width:0.8;\"/>\n   </g>\n   <g id=\"patch_11\">\n    <path d=\"M 53.328125 26.798125 \nL 417.478125 26.798125 \n\" style=\"fill:none;stroke:#000000;stroke-linecap:square;stroke-linejoin:miter;stroke-width:0.8;\"/>\n   </g>\n   <g id=\"text_13\">\n    <!-- Países con más Oportunidades -->\n    <g transform=\"translate(143.221562 16.798125)scale(0.12 -0.12)\">\n     <defs>\n      <path id=\"DejaVuSans-32\"/>\n      <path d=\"M 30.609375 48.390625 \nQ 23.390625 48.390625 19.1875 42.75 \nQ 14.984375 37.109375 14.984375 27.296875 \nQ 14.984375 17.484375 19.15625 11.84375 \nQ 23.34375 6.203125 30.609375 6.203125 \nQ 37.796875 6.203125 41.984375 11.859375 \nQ 46.1875 17.53125 46.1875 27.296875 \nQ 46.1875 37.015625 41.984375 42.703125 \nQ 37.796875 48.390625 30.609375 48.390625 \nz\nM 30.609375 56 \nQ 42.328125 56 49.015625 48.375 \nQ 55.71875 40.765625 55.71875 27.296875 \nQ 55.71875 13.875 49.015625 6.21875 \nQ 42.328125 -1.421875 30.609375 -1.421875 \nQ 18.84375 -1.421875 12.171875 6.21875 \nQ 5.515625 13.875 5.515625 27.296875 \nQ 5.515625 40.765625 12.171875 48.375 \nQ 18.84375 56 30.609375 56 \nz\n\" id=\"DejaVuSans-111\"/>\n      <path d=\"M 34.28125 27.484375 \nQ 23.390625 27.484375 19.1875 25 \nQ 14.984375 22.515625 14.984375 16.5 \nQ 14.984375 11.71875 18.140625 8.90625 \nQ 21.296875 6.109375 26.703125 6.109375 \nQ 34.1875 6.109375 38.703125 11.40625 \nQ 43.21875 16.703125 43.21875 25.484375 \nL 43.21875 27.484375 \nz\nM 52.203125 31.203125 \nL 52.203125 0 \nL 43.21875 0 \nL 43.21875 8.296875 \nQ 40.140625 3.328125 35.546875 0.953125 \nQ 30.953125 -1.421875 24.3125 -1.421875 \nQ 15.921875 -1.421875 10.953125 3.296875 \nQ 6 8.015625 6 15.921875 \nQ 6 25.140625 12.171875 29.828125 \nQ 18.359375 34.515625 30.609375 34.515625 \nL 43.21875 34.515625 \nL 43.21875 35.40625 \nQ 43.21875 41.609375 39.140625 45 \nQ 35.0625 48.390625 27.6875 48.390625 \nQ 23 48.390625 18.546875 47.265625 \nQ 14.109375 46.140625 10.015625 43.890625 \nL 10.015625 52.203125 \nQ 14.9375 54.109375 19.578125 55.046875 \nQ 24.21875 56 28.609375 56 \nQ 40.484375 56 46.34375 49.84375 \nQ 52.203125 43.703125 52.203125 31.203125 \nz\nM 35.78125 79.984375 \nL 45.5 79.984375 \nL 29.59375 61.625 \nL 22.109375 61.625 \nz\n\" id=\"DejaVuSans-225\"/>\n      <path d=\"M 39.40625 66.21875 \nQ 28.65625 66.21875 22.328125 58.203125 \nQ 16.015625 50.203125 16.015625 36.375 \nQ 16.015625 22.609375 22.328125 14.59375 \nQ 28.65625 6.59375 39.40625 6.59375 \nQ 50.140625 6.59375 56.421875 14.59375 \nQ 62.703125 22.609375 62.703125 36.375 \nQ 62.703125 50.203125 56.421875 58.203125 \nQ 50.140625 66.21875 39.40625 66.21875 \nz\nM 39.40625 74.21875 \nQ 54.734375 74.21875 63.90625 63.9375 \nQ 73.09375 53.65625 73.09375 36.375 \nQ 73.09375 19.140625 63.90625 8.859375 \nQ 54.734375 -1.421875 39.40625 -1.421875 \nQ 24.03125 -1.421875 14.8125 8.828125 \nQ 5.609375 19.09375 5.609375 36.375 \nQ 5.609375 53.65625 14.8125 63.9375 \nQ 24.03125 74.21875 39.40625 74.21875 \nz\n\" id=\"DejaVuSans-79\"/>\n     </defs>\n     <use xlink:href=\"#DejaVuSans-80\"/>\n     <use x=\"55.802734\" xlink:href=\"#DejaVuSans-97\"/>\n     <use x=\"117.082031\" xlink:href=\"#DejaVuSans-237\"/>\n     <use x=\"144.865234\" xlink:href=\"#DejaVuSans-115\"/>\n     <use x=\"196.964844\" xlink:href=\"#DejaVuSans-101\"/>\n     <use x=\"258.488281\" xlink:href=\"#DejaVuSans-115\"/>\n     <use x=\"310.587891\" xlink:href=\"#DejaVuSans-32\"/>\n     <use x=\"342.375\" xlink:href=\"#DejaVuSans-99\"/>\n     <use x=\"397.355469\" xlink:href=\"#DejaVuSans-111\"/>\n     <use x=\"458.537109\" xlink:href=\"#DejaVuSans-110\"/>\n     <use x=\"521.916016\" xlink:href=\"#DejaVuSans-32\"/>\n     <use x=\"553.703125\" xlink:href=\"#DejaVuSans-109\"/>\n     <use x=\"651.115234\" xlink:href=\"#DejaVuSans-225\"/>\n     <use x=\"712.394531\" xlink:href=\"#DejaVuSans-115\"/>\n     <use x=\"764.494141\" xlink:href=\"#DejaVuSans-32\"/>\n     <use x=\"796.28125\" xlink:href=\"#DejaVuSans-79\"/>\n     <use x=\"874.992188\" xlink:href=\"#DejaVuSans-112\"/>\n     <use x=\"938.46875\" xlink:href=\"#DejaVuSans-111\"/>\n     <use x=\"999.650391\" xlink:href=\"#DejaVuSans-114\"/>\n     <use x=\"1040.763672\" xlink:href=\"#DejaVuSans-116\"/>\n     <use x=\"1079.972656\" xlink:href=\"#DejaVuSans-117\"/>\n     <use x=\"1143.351562\" xlink:href=\"#DejaVuSans-110\"/>\n     <use x=\"1206.730469\" xlink:href=\"#DejaVuSans-105\"/>\n     <use x=\"1234.513672\" xlink:href=\"#DejaVuSans-100\"/>\n     <use x=\"1297.990234\" xlink:href=\"#DejaVuSans-97\"/>\n     <use x=\"1359.269531\" xlink:href=\"#DejaVuSans-100\"/>\n     <use x=\"1422.746094\" xlink:href=\"#DejaVuSans-101\"/>\n     <use x=\"1484.269531\" xlink:href=\"#DejaVuSans-115\"/>\n    </g>\n   </g>\n  </g>\n </g>\n <defs>\n  <clipPath id=\"p4678a4d531\">\n   <rect height=\"215.4\" width=\"364.15\" x=\"53.328125\" y=\"26.798125\"/>\n  </clipPath>\n </defs>\n</svg>\n",
            "image/png": "[encoded data removed]"
          },
          "metadata": {
            "needs_background": "light"
          }
        }
      ]
    },
    {
      "cell_type": "markdown",
      "metadata": {
        "id": "DkURFZqTm2uM"
      },
      "source": [
        "#Analizo\n",
        "Opportunity_Name"
      ]
    },
    {
      "cell_type": "markdown",
      "metadata": {
        "id": "-knAYnbAtJ9H"
      },
      "source": [
        "Oportunidades con mas de 10 casos"
      ]
    },
    {
      "cell_type": "code",
      "metadata": {
        "id": "OSvEtf-rh8xb"
      },
      "source": [
        "    df_si_dupl = df[[\"Billing_Country\",\"Opportunity_Name\",\"Stage\"]]\n",
        "    df_sin_dupli = df.drop_duplicates(subset=\"Opportunity_Name\")\n",
        "    oportunidades = df_sin_dupli.loc[df_sin_dupli[\"Stage\"] == \"Closed Won\", :]\n",
        "    oportunidades = oportunidades[['Billing_Country']]\n",
        "    oportunidades['Total_Oportunidades_exitosa'] = '1'\n",
        "    oportunidades = oportunidades.groupby('Billing_Country').count().sort_values(by=['Total_Oportunidades_exitosa'],ascending=False)\n",
        "    oportunidades = oportunidades.reset_index()"
      ],
      "execution_count": 288,
      "outputs": []
    },
    {
      "cell_type": "code",
      "metadata": {
        "id": "nkpgBBR52cmK",
        "outputId": "14036079-7816-467d-c3d9-3e75e5bde869",
        "colab": {
          "base_uri": "https://localhost:8080/",
          "height": 1000
        }
      },
      "source": [
        "oportunidades.loc[(oportunidades.Billing_Country =='Korea, Democratic People\\'s Republic of'),'Billing_Country'] = 'Korea, Dem. Rep.'\n",
        "oportunidades.loc[(oportunidades.Billing_Country =='Korea, Republic of'),'Billing_Country'] = 'Korea, Rep.'\n",
        "oportunidades"
      ],
      "execution_count": 289,
      "outputs": [
        {
          "output_type": "execute_result",
          "data": {
            "text/plain": [
              "                               Billing_Country  Total_Oportunidades_exitosa\n",
              "0                                        Japan                         1290\n",
              "1                                United States                         1059\n",
              "2                                      Germany                          670\n",
              "3                                    Australia                          382\n",
              "4                                        India                          236\n",
              "5                                    Singapore                          209\n",
              "6                                  Netherlands                          188\n",
              "7                                        Spain                          104\n",
              "8                                        Italy                           93\n",
              "9                                       France                           90\n",
              "10                              United Kingdom                           88\n",
              "11                                    Thailand                           75\n",
              "12                                     Belgium                           70\n",
              "13                                   Sri Lanka                           67\n",
              "14                                     Austria                           56\n",
              "15                                  Luxembourg                           52\n",
              "16                                   Indonesia                           48\n",
              "17                                       China                           45\n",
              "18                                 Philippines                           35\n",
              "19                                      Canada                           28\n",
              "20                                      Jordan                           25\n",
              "21                                      Cyprus                           24\n",
              "22                                 New Zealand                           18\n",
              "23                                    Viet Nam                           12\n",
              "24                                      Norway                           11\n",
              "25                                      Poland                           10\n",
              "26                                    Portugal                           10\n",
              "27                                      Taiwan                            8\n",
              "28                                 Puerto Rico                            7\n",
              "29                                South Africa                            6\n",
              "30                            Korea, Dem. Rep.                            6\n",
              "31                                 Switzerland                            6\n",
              "32                                     Hungary                            5\n",
              "33                        United Arab Emirates                            5\n",
              "34                                    Pakistan                            5\n",
              "35                                      Sweden                            4\n",
              "36                                       Malta                            4\n",
              "37                              Czech Republic                            3\n",
              "38                                    Cambodia                            3\n",
              "39                                      Turkey                            3\n",
              "40                                     Lebanon                            3\n",
              "41                                     Reunion                            2\n",
              "42                                     Myanmar                            1\n",
              "43                                     Estonia                            1\n",
              "44                                Saudi Arabia                            1\n",
              "45                                 Korea, Rep.                            1\n",
              "46                                    Bulgaria                            1\n",
              "47                                     Bahrain                            1\n",
              "48  Macedonia, the former Yugoslav Republic of                            1"
            ],
            "text/html": "<div>\n<style scoped>\n    .dataframe tbody tr th:only-of-type {\n        vertical-align: middle;\n    }\n\n    .dataframe tbody tr th {\n        vertical-align: top;\n    }\n\n    .dataframe thead th {\n        text-align: right;\n    }\n</style>\n<table border=\"1\" class=\"dataframe\">\n  <thead>\n    <tr style=\"text-align: right;\">\n      <th></th>\n      <th>Billing_Country</th>\n      <th>Total_Oportunidades_exitosa</th>\n    </tr>\n  </thead>\n  <tbody>\n    <tr>\n      <th>0</th>\n      <td>Japan</td>\n      <td>1290</td>\n    </tr>\n    <tr>\n      <th>1</th>\n      <td>United States</td>\n      <td>1059</td>\n    </tr>\n    <tr>\n      <th>2</th>\n      <td>Germany</td>\n      <td>670</td>\n    </tr>\n    <tr>\n      <th>3</th>\n      <td>Australia</td>\n      <td>382</td>\n    </tr>\n    <tr>\n      <th>4</th>\n      <td>India</td>\n      <td>236</td>\n    </tr>\n    <tr>\n      <th>5</th>\n      <td>Singapore</td>\n      <td>209</td>\n    </tr>\n    <tr>\n      <th>6</th>\n      <td>Netherlands</td>\n      <td>188</td>\n    </tr>\n    <tr>\n      <th>7</th>\n      <td>Spain</td>\n      <td>104</td>\n    </tr>\n    <tr>\n      <th>8</th>\n      <td>Italy</td>\n      <td>93</td>\n    </tr>\n    <tr>\n      <th>9</th>\n      <td>France</td>\n      <td>90</td>\n    </tr>\n    <tr>\n      <th>10</th>\n      <td>United Kingdom</td>\n      <td>88</td>\n    </tr>\n    <tr>\n      <th>11</th>\n      <td>Thailand</td>\n      <td>75</td>\n    </tr>\n    <tr>\n      <th>12</th>\n      <td>Belgium</td>\n      <td>70</td>\n    </tr>\n    <tr>\n      <th>13</th>\n      <td>Sri Lanka</td>\n      <td>67</td>\n    </tr>\n    <tr>\n      <th>14</th>\n      <td>Austria</td>\n      <td>56</td>\n    </tr>\n    <tr>\n      <th>15</th>\n      <td>Luxembourg</td>\n      <td>52</td>\n    </tr>\n    <tr>\n      <th>16</th>\n      <td>Indonesia</td>\n      <td>48</td>\n    </tr>\n    <tr>\n      <th>17</th>\n      <td>China</td>\n      <td>45</td>\n    </tr>\n    <tr>\n      <th>18</th>\n      <td>Philippines</td>\n      <td>35</td>\n    </tr>\n    <tr>\n      <th>19</th>\n      <td>Canada</td>\n      <td>28</td>\n    </tr>\n    <tr>\n      <th>20</th>\n      <td>Jordan</td>\n      <td>25</td>\n    </tr>\n    <tr>\n      <th>21</th>\n      <td>Cyprus</td>\n      <td>24</td>\n    </tr>\n    <tr>\n      <th>22</th>\n      <td>New Zealand</td>\n      <td>18</td>\n    </tr>\n    <tr>\n      <th>23</th>\n      <td>Viet Nam</td>\n      <td>12</td>\n    </tr>\n    <tr>\n      <th>24</th>\n      <td>Norway</td>\n      <td>11</td>\n    </tr>\n    <tr>\n      <th>25</th>\n      <td>Poland</td>\n      <td>10</td>\n    </tr>\n    <tr>\n      <th>26</th>\n      <td>Portugal</td>\n      <td>10</td>\n    </tr>\n    <tr>\n      <th>27</th>\n      <td>Taiwan</td>\n      <td>8</td>\n    </tr>\n    <tr>\n      <th>28</th>\n      <td>Puerto Rico</td>\n      <td>7</td>\n    </tr>\n    <tr>\n      <th>29</th>\n      <td>South Africa</td>\n      <td>6</td>\n    </tr>\n    <tr>\n      <th>30</th>\n      <td>Korea, Dem. Rep.</td>\n      <td>6</td>\n    </tr>\n    <tr>\n      <th>31</th>\n      <td>Switzerland</td>\n      <td>6</td>\n    </tr>\n    <tr>\n      <th>32</th>\n      <td>Hungary</td>\n      <td>5</td>\n    </tr>\n    <tr>\n      <th>33</th>\n      <td>United Arab Emirates</td>\n      <td>5</td>\n    </tr>\n    <tr>\n      <th>34</th>\n      <td>Pakistan</td>\n      <td>5</td>\n    </tr>\n    <tr>\n      <th>35</th>\n      <td>Sweden</td>\n      <td>4</td>\n    </tr>\n    <tr>\n      <th>36</th>\n      <td>Malta</td>\n      <td>4</td>\n    </tr>\n    <tr>\n      <th>37</th>\n      <td>Czech Republic</td>\n      <td>3</td>\n    </tr>\n    <tr>\n      <th>38</th>\n      <td>Cambodia</td>\n      <td>3</td>\n    </tr>\n    <tr>\n      <th>39</th>\n      <td>Turkey</td>\n      <td>3</td>\n    </tr>\n    <tr>\n      <th>40</th>\n      <td>Lebanon</td>\n      <td>3</td>\n    </tr>\n    <tr>\n      <th>41</th>\n      <td>Reunion</td>\n      <td>2</td>\n    </tr>\n    <tr>\n      <th>42</th>\n      <td>Myanmar</td>\n      <td>1</td>\n    </tr>\n    <tr>\n      <th>43</th>\n      <td>Estonia</td>\n      <td>1</td>\n    </tr>\n    <tr>\n      <th>44</th>\n      <td>Saudi Arabia</td>\n      <td>1</td>\n    </tr>\n    <tr>\n      <th>45</th>\n      <td>Korea, Rep.</td>\n      <td>1</td>\n    </tr>\n    <tr>\n      <th>46</th>\n      <td>Bulgaria</td>\n      <td>1</td>\n    </tr>\n    <tr>\n      <th>47</th>\n      <td>Bahrain</td>\n      <td>1</td>\n    </tr>\n    <tr>\n      <th>48</th>\n      <td>Macedonia, the former Yugoslav Republic of</td>\n      <td>1</td>\n    </tr>\n  </tbody>\n</table>\n</div>"
          },
          "metadata": {},
          "execution_count": 289
        }
      ]
    },
    {
      "cell_type": "markdown",
      "metadata": {
        "id": "O5EePx5rJmye"
      },
      "source": [
        "#Paises con más Oportunidades concretadas"
      ]
    },
    {
      "cell_type": "code",
      "metadata": {
        "id": "hZ2LKMdQRLqN"
      },
      "source": [
        "df_b = px.data.gapminder()\n",
        "df_b = df_b[['country','continent','iso_alpha']]\n",
        "oportunidades = pd.merge(oportunidades,df_b,left_on=\"Billing_Country\",right_on=\"country\",how='left')\n"
      ],
      "execution_count": 290,
      "outputs": []
    },
    {
      "cell_type": "code",
      "metadata": {
        "id": "tBBhYBOugDh1",
        "outputId": "862cd9db-8176-494a-b8c7-84d55dadf2d5",
        "colab": {
          "base_uri": "https://localhost:8080/",
          "height": 542
        }
      },
      "source": [
        "fig = px.scatter_geo(oportunidades, locations=\"iso_alpha\", color=\"Billing_Country\",\n",
        "                     hover_name=\"Billing_Country\", size=\"Total_Oportunidades_exitosa\",\n",
        "                     projection=\"natural earth\",title='Oportunidades Exitosas por Región')\n",
        "fig.show()"
      ],
      "execution_count": 291,
      "outputs": [
        {
          "output_type": "display_data",
          "data": {
            "application/vnd.plotly.v1+json": {
              "config": {
                "plotlyServerURL": "https://plot.ly"
              },
              "data": [
                {
                  "geo": "geo",
                  "hovertemplate": "<b>%{hovertext}</b><br><br>Billing_Country=Japan<br>Total_Oportunidades_exitosa=%{marker.size}<br>iso_alpha=%{location}<extra></extra>",
                  "hovertext": [
                    "Japan",
                    "Japan",
                    "Japan",
                    "Japan",
                    "Japan",
                    "Japan",
                    "Japan",
                    "Japan",
                    "Japan",
                    "Japan",
                    "Japan",
                    "Japan"
                  ],
                  "legendgroup": "Japan",
                  "locations": [
                    "JPN",
                    "JPN",
                    "JPN",
                    "JPN",
                    "JPN",
                    "JPN",
                    "JPN",
                    "JPN",
                    "JPN",
                    "JPN",
                    "JPN",
                    "JPN"
                  ],
                  "marker": {
                    "color": "#636efa",
                    "size": [
                      1290,
                      1290,
                      1290,
                      1290,
                      1290,
                      1290,
                      1290,
                      1290,
                      1290,
                      1290,
                      1290,
                      1290
                    ],
                    "sizemode": "area",
                    "sizeref": 3.225
                  },
                  "name": "Japan",
                  "showlegend": true,
                  "type": "scattergeo"
                },
                {
                  "geo": "geo",
                  "hovertemplate": "<b>%{hovertext}</b><br><br>Billing_Country=United States<br>Total_Oportunidades_exitosa=%{marker.size}<br>iso_alpha=%{location}<extra></extra>",
                  "hovertext": [
                    "United States",
                    "United States",
                    "United States",
                    "United States",
                    "United States",
                    "United States",
                    "United States",
                    "United States",
                    "United States",
                    "United States",
                    "United States",
                    "United States"
                  ],
                  "legendgroup": "United States",
                  "locations": [
                    "USA",
                    "USA",
                    "USA",
                    "USA",
                    "USA",
                    "USA",
                    "USA",
                    "USA",
                    "USA",
                    "USA",
                    "USA",
                    "USA"
                  ],
                  "marker": {
                    "color": "#EF553B",
                    "size": [
                      1059,
                      1059,
                      1059,
                      1059,
                      1059,
                      1059,
                      1059,
                      1059,
                      1059,
                      1059,
                      1059,
                      1059
                    ],
                    "sizemode": "area",
                    "sizeref": 3.225
                  },
                  "name": "United States",
                  "showlegend": true,
                  "type": "scattergeo"
                },
                {
                  "geo": "geo",
                  "hovertemplate": "<b>%{hovertext}</b><br><br>Billing_Country=Germany<br>Total_Oportunidades_exitosa=%{marker.size}<br>iso_alpha=%{location}<extra></extra>",
                  "hovertext": [
                    "Germany",
                    "Germany",
                    "Germany",
                    "Germany",
                    "Germany",
                    "Germany",
                    "Germany",
                    "Germany",
                    "Germany",
                    "Germany",
                    "Germany",
                    "Germany"
                  ],
                  "legendgroup": "Germany",
                  "locations": [
                    "DEU",
                    "DEU",
                    "DEU",
                    "DEU",
                    "DEU",
                    "DEU",
                    "DEU",
                    "DEU",
                    "DEU",
                    "DEU",
                    "DEU",
                    "DEU"
                  ],
                  "marker": {
                    "color": "#00cc96",
                    "size": [
                      670,
                      670,
                      670,
                      670,
                      670,
                      670,
                      670,
                      670,
                      670,
                      670,
                      670,
                      670
                    ],
                    "sizemode": "area",
                    "sizeref": 3.225
                  },
                  "name": "Germany",
                  "showlegend": true,
                  "type": "scattergeo"
                },
                {
                  "geo": "geo",
                  "hovertemplate": "<b>%{hovertext}</b><br><br>Billing_Country=Australia<br>Total_Oportunidades_exitosa=%{marker.size}<br>iso_alpha=%{location}<extra></extra>",
                  "hovertext": [
                    "Australia",
                    "Australia",
                    "Australia",
                    "Australia",
                    "Australia",
                    "Australia",
                    "Australia",
                    "Australia",
                    "Australia",
                    "Australia",
                    "Australia",
                    "Australia"
                  ],
                  "legendgroup": "Australia",
                  "locations": [
                    "AUS",
                    "AUS",
                    "AUS",
                    "AUS",
                    "AUS",
                    "AUS",
                    "AUS",
                    "AUS",
                    "AUS",
                    "AUS",
                    "AUS",
                    "AUS"
                  ],
                  "marker": {
                    "color": "#ab63fa",
                    "size": [
                      382,
                      382,
                      382,
                      382,
                      382,
                      382,
                      382,
                      382,
                      382,
                      382,
                      382,
                      382
                    ],
                    "sizemode": "area",
                    "sizeref": 3.225
                  },
                  "name": "Australia",
                  "showlegend": true,
                  "type": "scattergeo"
                },
                {
                  "geo": "geo",
                  "hovertemplate": "<b>%{hovertext}</b><br><br>Billing_Country=India<br>Total_Oportunidades_exitosa=%{marker.size}<br>iso_alpha=%{location}<extra></extra>",
                  "hovertext": [
                    "India",
                    "India",
                    "India",
                    "India",
                    "India",
                    "India",
                    "India",
                    "India",
                    "India",
                    "India",
                    "India",
                    "India"
                  ],
                  "legendgroup": "India",
                  "locations": [
                    "IND",
                    "IND",
                    "IND",
                    "IND",
                    "IND",
                    "IND",
                    "IND",
                    "IND",
                    "IND",
                    "IND",
                    "IND",
                    "IND"
                  ],
                  "marker": {
                    "color": "#FFA15A",
                    "size": [
                      236,
                      236,
                      236,
                      236,
                      236,
                      236,
                      236,
                      236,
                      236,
                      236,
                      236,
                      236
                    ],
                    "sizemode": "area",
                    "sizeref": 3.225
                  },
                  "name": "India",
                  "showlegend": true,
                  "type": "scattergeo"
                },
                {
                  "geo": "geo",
                  "hovertemplate": "<b>%{hovertext}</b><br><br>Billing_Country=Singapore<br>Total_Oportunidades_exitosa=%{marker.size}<br>iso_alpha=%{location}<extra></extra>",
                  "hovertext": [
                    "Singapore",
                    "Singapore",
                    "Singapore",
                    "Singapore",
                    "Singapore",
                    "Singapore",
                    "Singapore",
                    "Singapore",
                    "Singapore",
                    "Singapore",
                    "Singapore",
                    "Singapore"
                  ],
                  "legendgroup": "Singapore",
                  "locations": [
                    "SGP",
                    "SGP",
                    "SGP",
                    "SGP",
                    "SGP",
                    "SGP",
                    "SGP",
                    "SGP",
                    "SGP",
                    "SGP",
                    "SGP",
                    "SGP"
                  ],
                  "marker": {
                    "color": "#19d3f3",
                    "size": [
                      209,
                      209,
                      209,
                      209,
                      209,
                      209,
                      209,
                      209,
                      209,
                      209,
                      209,
                      209
                    ],
                    "sizemode": "area",
                    "sizeref": 3.225
                  },
                  "name": "Singapore",
                  "showlegend": true,
                  "type": "scattergeo"
                },
                {
                  "geo": "geo",
                  "hovertemplate": "<b>%{hovertext}</b><br><br>Billing_Country=Netherlands<br>Total_Oportunidades_exitosa=%{marker.size}<br>iso_alpha=%{location}<extra></extra>",
                  "hovertext": [
                    "Netherlands",
                    "Netherlands",
                    "Netherlands",
                    "Netherlands",
                    "Netherlands",
                    "Netherlands",
                    "Netherlands",
                    "Netherlands",
                    "Netherlands",
                    "Netherlands",
                    "Netherlands",
                    "Netherlands"
                  ],
                  "legendgroup": "Netherlands",
                  "locations": [
                    "NLD",
                    "NLD",
                    "NLD",
                    "NLD",
                    "NLD",
                    "NLD",
                    "NLD",
                    "NLD",
                    "NLD",
                    "NLD",
                    "NLD",
                    "NLD"
                  ],
                  "marker": {
                    "color": "#FF6692",
                    "size": [
                      188,
                      188,
                      188,
                      188,
                      188,
                      188,
                      188,
                      188,
                      188,
                      188,
                      188,
                      188
                    ],
                    "sizemode": "area",
                    "sizeref": 3.225
                  },
                  "name": "Netherlands",
                  "showlegend": true,
                  "type": "scattergeo"
                },
                {
                  "geo": "geo",
                  "hovertemplate": "<b>%{hovertext}</b><br><br>Billing_Country=Spain<br>Total_Oportunidades_exitosa=%{marker.size}<br>iso_alpha=%{location}<extra></extra>",
                  "hovertext": [
                    "Spain",
                    "Spain",
                    "Spain",
                    "Spain",
                    "Spain",
                    "Spain",
                    "Spain",
                    "Spain",
                    "Spain",
                    "Spain",
                    "Spain",
                    "Spain"
                  ],
                  "legendgroup": "Spain",
                  "locations": [
                    "ESP",
                    "ESP",
                    "ESP",
                    "ESP",
                    "ESP",
                    "ESP",
                    "ESP",
                    "ESP",
                    "ESP",
                    "ESP",
                    "ESP",
                    "ESP"
                  ],
                  "marker": {
                    "color": "#B6E880",
                    "size": [
                      104,
                      104,
                      104,
                      104,
                      104,
                      104,
                      104,
                      104,
                      104,
                      104,
                      104,
                      104
                    ],
                    "sizemode": "area",
                    "sizeref": 3.225
                  },
                  "name": "Spain",
                  "showlegend": true,
                  "type": "scattergeo"
                },
                {
                  "geo": "geo",
                  "hovertemplate": "<b>%{hovertext}</b><br><br>Billing_Country=Italy<br>Total_Oportunidades_exitosa=%{marker.size}<br>iso_alpha=%{location}<extra></extra>",
                  "hovertext": [
                    "Italy",
                    "Italy",
                    "Italy",
                    "Italy",
                    "Italy",
                    "Italy",
                    "Italy",
                    "Italy",
                    "Italy",
                    "Italy",
                    "Italy",
                    "Italy"
                  ],
                  "legendgroup": "Italy",
                  "locations": [
                    "ITA",
                    "ITA",
                    "ITA",
                    "ITA",
                    "ITA",
                    "ITA",
                    "ITA",
                    "ITA",
                    "ITA",
                    "ITA",
                    "ITA",
                    "ITA"
                  ],
                  "marker": {
                    "color": "#FF97FF",
                    "size": [
                      93,
                      93,
                      93,
                      93,
                      93,
                      93,
                      93,
                      93,
                      93,
                      93,
                      93,
                      93
                    ],
                    "sizemode": "area",
                    "sizeref": 3.225
                  },
                  "name": "Italy",
                  "showlegend": true,
                  "type": "scattergeo"
                },
                {
                  "geo": "geo",
                  "hovertemplate": "<b>%{hovertext}</b><br><br>Billing_Country=France<br>Total_Oportunidades_exitosa=%{marker.size}<br>iso_alpha=%{location}<extra></extra>",
                  "hovertext": [
                    "France",
                    "France",
                    "France",
                    "France",
                    "France",
                    "France",
                    "France",
                    "France",
                    "France",
                    "France",
                    "France",
                    "France"
                  ],
                  "legendgroup": "France",
                  "locations": [
                    "FRA",
                    "FRA",
                    "FRA",
                    "FRA",
                    "FRA",
                    "FRA",
                    "FRA",
                    "FRA",
                    "FRA",
                    "FRA",
                    "FRA",
                    "FRA"
                  ],
                  "marker": {
                    "color": "#FECB52",
                    "size": [
                      90,
                      90,
                      90,
                      90,
                      90,
                      90,
                      90,
                      90,
                      90,
                      90,
                      90,
                      90
                    ],
                    "sizemode": "area",
                    "sizeref": 3.225
                  },
                  "name": "France",
                  "showlegend": true,
                  "type": "scattergeo"
                },
                {
                  "geo": "geo",
                  "hovertemplate": "<b>%{hovertext}</b><br><br>Billing_Country=United Kingdom<br>Total_Oportunidades_exitosa=%{marker.size}<br>iso_alpha=%{location}<extra></extra>",
                  "hovertext": [
                    "United Kingdom",
                    "United Kingdom",
                    "United Kingdom",
                    "United Kingdom",
                    "United Kingdom",
                    "United Kingdom",
                    "United Kingdom",
                    "United Kingdom",
                    "United Kingdom",
                    "United Kingdom",
                    "United Kingdom",
                    "United Kingdom"
                  ],
                  "legendgroup": "United Kingdom",
                  "locations": [
                    "GBR",
                    "GBR",
                    "GBR",
                    "GBR",
                    "GBR",
                    "GBR",
                    "GBR",
                    "GBR",
                    "GBR",
                    "GBR",
                    "GBR",
                    "GBR"
                  ],
                  "marker": {
                    "color": "#636efa",
                    "size": [
                      88,
                      88,
                      88,
                      88,
                      88,
                      88,
                      88,
                      88,
                      88,
                      88,
                      88,
                      88
                    ],
                    "sizemode": "area",
                    "sizeref": 3.225
                  },
                  "name": "United Kingdom",
                  "showlegend": true,
                  "type": "scattergeo"
                },
                {
                  "geo": "geo",
                  "hovertemplate": "<b>%{hovertext}</b><br><br>Billing_Country=Thailand<br>Total_Oportunidades_exitosa=%{marker.size}<br>iso_alpha=%{location}<extra></extra>",
                  "hovertext": [
                    "Thailand",
                    "Thailand",
                    "Thailand",
                    "Thailand",
                    "Thailand",
                    "Thailand",
                    "Thailand",
                    "Thailand",
                    "Thailand",
                    "Thailand",
                    "Thailand",
                    "Thailand"
                  ],
                  "legendgroup": "Thailand",
                  "locations": [
                    "THA",
                    "THA",
                    "THA",
                    "THA",
                    "THA",
                    "THA",
                    "THA",
                    "THA",
                    "THA",
                    "THA",
                    "THA",
                    "THA"
                  ],
                  "marker": {
                    "color": "#EF553B",
                    "size": [
                      75,
                      75,
                      75,
                      75,
                      75,
                      75,
                      75,
                      75,
                      75,
                      75,
                      75,
                      75
                    ],
                    "sizemode": "area",
                    "sizeref": 3.225
                  },
                  "name": "Thailand",
                  "showlegend": true,
                  "type": "scattergeo"
                },
                {
                  "geo": "geo",
                  "hovertemplate": "<b>%{hovertext}</b><br><br>Billing_Country=Belgium<br>Total_Oportunidades_exitosa=%{marker.size}<br>iso_alpha=%{location}<extra></extra>",
                  "hovertext": [
                    "Belgium",
                    "Belgium",
                    "Belgium",
                    "Belgium",
                    "Belgium",
                    "Belgium",
                    "Belgium",
                    "Belgium",
                    "Belgium",
                    "Belgium",
                    "Belgium",
                    "Belgium"
                  ],
                  "legendgroup": "Belgium",
                  "locations": [
                    "BEL",
                    "BEL",
                    "BEL",
                    "BEL",
                    "BEL",
                    "BEL",
                    "BEL",
                    "BEL",
                    "BEL",
                    "BEL",
                    "BEL",
                    "BEL"
                  ],
                  "marker": {
                    "color": "#00cc96",
                    "size": [
                      70,
                      70,
                      70,
                      70,
                      70,
                      70,
                      70,
                      70,
                      70,
                      70,
                      70,
                      70
                    ],
                    "sizemode": "area",
                    "sizeref": 3.225
                  },
                  "name": "Belgium",
                  "showlegend": true,
                  "type": "scattergeo"
                },
                {
                  "geo": "geo",
                  "hovertemplate": "<b>%{hovertext}</b><br><br>Billing_Country=Sri Lanka<br>Total_Oportunidades_exitosa=%{marker.size}<br>iso_alpha=%{location}<extra></extra>",
                  "hovertext": [
                    "Sri Lanka",
                    "Sri Lanka",
                    "Sri Lanka",
                    "Sri Lanka",
                    "Sri Lanka",
                    "Sri Lanka",
                    "Sri Lanka",
                    "Sri Lanka",
                    "Sri Lanka",
                    "Sri Lanka",
                    "Sri Lanka",
                    "Sri Lanka"
                  ],
                  "legendgroup": "Sri Lanka",
                  "locations": [
                    "LKA",
                    "LKA",
                    "LKA",
                    "LKA",
                    "LKA",
                    "LKA",
                    "LKA",
                    "LKA",
                    "LKA",
                    "LKA",
                    "LKA",
                    "LKA"
                  ],
                  "marker": {
                    "color": "#ab63fa",
                    "size": [
                      67,
                      67,
                      67,
                      67,
                      67,
                      67,
                      67,
                      67,
                      67,
                      67,
                      67,
                      67
                    ],
                    "sizemode": "area",
                    "sizeref": 3.225
                  },
                  "name": "Sri Lanka",
                  "showlegend": true,
                  "type": "scattergeo"
                },
                {
                  "geo": "geo",
                  "hovertemplate": "<b>%{hovertext}</b><br><br>Billing_Country=Austria<br>Total_Oportunidades_exitosa=%{marker.size}<br>iso_alpha=%{location}<extra></extra>",
                  "hovertext": [
                    "Austria",
                    "Austria",
                    "Austria",
                    "Austria",
                    "Austria",
                    "Austria",
                    "Austria",
                    "Austria",
                    "Austria",
                    "Austria",
                    "Austria",
                    "Austria"
                  ],
                  "legendgroup": "Austria",
                  "locations": [
                    "AUT",
                    "AUT",
                    "AUT",
                    "AUT",
                    "AUT",
                    "AUT",
                    "AUT",
                    "AUT",
                    "AUT",
                    "AUT",
                    "AUT",
                    "AUT"
                  ],
                  "marker": {
                    "color": "#FFA15A",
                    "size": [
                      56,
                      56,
                      56,
                      56,
                      56,
                      56,
                      56,
                      56,
                      56,
                      56,
                      56,
                      56
                    ],
                    "sizemode": "area",
                    "sizeref": 3.225
                  },
                  "name": "Austria",
                  "showlegend": true,
                  "type": "scattergeo"
                },
                {
                  "geo": "geo",
                  "hovertemplate": "<b>%{hovertext}</b><br><br>Billing_Country=Luxembourg<br>Total_Oportunidades_exitosa=%{marker.size}<br>iso_alpha=%{location}<extra></extra>",
                  "hovertext": [
                    "Luxembourg"
                  ],
                  "legendgroup": "Luxembourg",
                  "locations": [
                    null
                  ],
                  "marker": {
                    "color": "#19d3f3",
                    "size": [
                      52
                    ],
                    "sizemode": "area",
                    "sizeref": 3.225
                  },
                  "name": "Luxembourg",
                  "showlegend": true,
                  "type": "scattergeo"
                },
                {
                  "geo": "geo",
                  "hovertemplate": "<b>%{hovertext}</b><br><br>Billing_Country=Indonesia<br>Total_Oportunidades_exitosa=%{marker.size}<br>iso_alpha=%{location}<extra></extra>",
                  "hovertext": [
                    "Indonesia",
                    "Indonesia",
                    "Indonesia",
                    "Indonesia",
                    "Indonesia",
                    "Indonesia",
                    "Indonesia",
                    "Indonesia",
                    "Indonesia",
                    "Indonesia",
                    "Indonesia",
                    "Indonesia"
                  ],
                  "legendgroup": "Indonesia",
                  "locations": [
                    "IDN",
                    "IDN",
                    "IDN",
                    "IDN",
                    "IDN",
                    "IDN",
                    "IDN",
                    "IDN",
                    "IDN",
                    "IDN",
                    "IDN",
                    "IDN"
                  ],
                  "marker": {
                    "color": "#FF6692",
                    "size": [
                      48,
                      48,
                      48,
                      48,
                      48,
                      48,
                      48,
                      48,
                      48,
                      48,
                      48,
                      48
                    ],
                    "sizemode": "area",
                    "sizeref": 3.225
                  },
                  "name": "Indonesia",
                  "showlegend": true,
                  "type": "scattergeo"
                },
                {
                  "geo": "geo",
                  "hovertemplate": "<b>%{hovertext}</b><br><br>Billing_Country=China<br>Total_Oportunidades_exitosa=%{marker.size}<br>iso_alpha=%{location}<extra></extra>",
                  "hovertext": [
                    "China",
                    "China",
                    "China",
                    "China",
                    "China",
                    "China",
                    "China",
                    "China",
                    "China",
                    "China",
                    "China",
                    "China"
                  ],
                  "legendgroup": "China",
                  "locations": [
                    "CHN",
                    "CHN",
                    "CHN",
                    "CHN",
                    "CHN",
                    "CHN",
                    "CHN",
                    "CHN",
                    "CHN",
                    "CHN",
                    "CHN",
                    "CHN"
                  ],
                  "marker": {
                    "color": "#B6E880",
                    "size": [
                      45,
                      45,
                      45,
                      45,
                      45,
                      45,
                      45,
                      45,
                      45,
                      45,
                      45,
                      45
                    ],
                    "sizemode": "area",
                    "sizeref": 3.225
                  },
                  "name": "China",
                  "showlegend": true,
                  "type": "scattergeo"
                },
                {
                  "geo": "geo",
                  "hovertemplate": "<b>%{hovertext}</b><br><br>Billing_Country=Philippines<br>Total_Oportunidades_exitosa=%{marker.size}<br>iso_alpha=%{location}<extra></extra>",
                  "hovertext": [
                    "Philippines",
                    "Philippines",
                    "Philippines",
                    "Philippines",
                    "Philippines",
                    "Philippines",
                    "Philippines",
                    "Philippines",
                    "Philippines",
                    "Philippines",
                    "Philippines",
                    "Philippines"
                  ],
                  "legendgroup": "Philippines",
                  "locations": [
                    "PHL",
                    "PHL",
                    "PHL",
                    "PHL",
                    "PHL",
                    "PHL",
                    "PHL",
                    "PHL",
                    "PHL",
                    "PHL",
                    "PHL",
                    "PHL"
                  ],
                  "marker": {
                    "color": "#FF97FF",
                    "size": [
                      35,
                      35,
                      35,
                      35,
                      35,
                      35,
                      35,
                      35,
                      35,
                      35,
                      35,
                      35
                    ],
                    "sizemode": "area",
                    "sizeref": 3.225
                  },
                  "name": "Philippines",
                  "showlegend": true,
                  "type": "scattergeo"
                },
                {
                  "geo": "geo",
                  "hovertemplate": "<b>%{hovertext}</b><br><br>Billing_Country=Canada<br>Total_Oportunidades_exitosa=%{marker.size}<br>iso_alpha=%{location}<extra></extra>",
                  "hovertext": [
                    "Canada",
                    "Canada",
                    "Canada",
                    "Canada",
                    "Canada",
                    "Canada",
                    "Canada",
                    "Canada",
                    "Canada",
                    "Canada",
                    "Canada",
                    "Canada"
                  ],
                  "legendgroup": "Canada",
                  "locations": [
                    "CAN",
                    "CAN",
                    "CAN",
                    "CAN",
                    "CAN",
                    "CAN",
                    "CAN",
                    "CAN",
                    "CAN",
                    "CAN",
                    "CAN",
                    "CAN"
                  ],
                  "marker": {
                    "color": "#FECB52",
                    "size": [
                      28,
                      28,
                      28,
                      28,
                      28,
                      28,
                      28,
                      28,
                      28,
                      28,
                      28,
                      28
                    ],
                    "sizemode": "area",
                    "sizeref": 3.225
                  },
                  "name": "Canada",
                  "showlegend": true,
                  "type": "scattergeo"
                },
                {
                  "geo": "geo",
                  "hovertemplate": "<b>%{hovertext}</b><br><br>Billing_Country=Jordan<br>Total_Oportunidades_exitosa=%{marker.size}<br>iso_alpha=%{location}<extra></extra>",
                  "hovertext": [
                    "Jordan",
                    "Jordan",
                    "Jordan",
                    "Jordan",
                    "Jordan",
                    "Jordan",
                    "Jordan",
                    "Jordan",
                    "Jordan",
                    "Jordan",
                    "Jordan",
                    "Jordan"
                  ],
                  "legendgroup": "Jordan",
                  "locations": [
                    "JOR",
                    "JOR",
                    "JOR",
                    "JOR",
                    "JOR",
                    "JOR",
                    "JOR",
                    "JOR",
                    "JOR",
                    "JOR",
                    "JOR",
                    "JOR"
                  ],
                  "marker": {
                    "color": "#636efa",
                    "size": [
                      25,
                      25,
                      25,
                      25,
                      25,
                      25,
                      25,
                      25,
                      25,
                      25,
                      25,
                      25
                    ],
                    "sizemode": "area",
                    "sizeref": 3.225
                  },
                  "name": "Jordan",
                  "showlegend": true,
                  "type": "scattergeo"
                },
                {
                  "geo": "geo",
                  "hovertemplate": "<b>%{hovertext}</b><br><br>Billing_Country=Cyprus<br>Total_Oportunidades_exitosa=%{marker.size}<br>iso_alpha=%{location}<extra></extra>",
                  "hovertext": [
                    "Cyprus"
                  ],
                  "legendgroup": "Cyprus",
                  "locations": [
                    null
                  ],
                  "marker": {
                    "color": "#EF553B",
                    "size": [
                      24
                    ],
                    "sizemode": "area",
                    "sizeref": 3.225
                  },
                  "name": "Cyprus",
                  "showlegend": true,
                  "type": "scattergeo"
                },
                {
                  "geo": "geo",
                  "hovertemplate": "<b>%{hovertext}</b><br><br>Billing_Country=New Zealand<br>Total_Oportunidades_exitosa=%{marker.size}<br>iso_alpha=%{location}<extra></extra>",
                  "hovertext": [
                    "New Zealand",
                    "New Zealand",
                    "New Zealand",
                    "New Zealand",
                    "New Zealand",
                    "New Zealand",
                    "New Zealand",
                    "New Zealand",
                    "New Zealand",
                    "New Zealand",
                    "New Zealand",
                    "New Zealand"
                  ],
                  "legendgroup": "New Zealand",
                  "locations": [
                    "NZL",
                    "NZL",
                    "NZL",
                    "NZL",
                    "NZL",
                    "NZL",
                    "NZL",
                    "NZL",
                    "NZL",
                    "NZL",
                    "NZL",
                    "NZL"
                  ],
                  "marker": {
                    "color": "#00cc96",
                    "size": [
                      18,
                      18,
                      18,
                      18,
                      18,
                      18,
                      18,
                      18,
                      18,
                      18,
                      18,
                      18
                    ],
                    "sizemode": "area",
                    "sizeref": 3.225
                  },
                  "name": "New Zealand",
                  "showlegend": true,
                  "type": "scattergeo"
                },
                {
                  "geo": "geo",
                  "hovertemplate": "<b>%{hovertext}</b><br><br>Billing_Country=Viet Nam<br>Total_Oportunidades_exitosa=%{marker.size}<br>iso_alpha=%{location}<extra></extra>",
                  "hovertext": [
                    "Viet Nam"
                  ],
                  "legendgroup": "Viet Nam",
                  "locations": [
                    null
                  ],
                  "marker": {
                    "color": "#ab63fa",
                    "size": [
                      12
                    ],
                    "sizemode": "area",
                    "sizeref": 3.225
                  },
                  "name": "Viet Nam",
                  "showlegend": true,
                  "type": "scattergeo"
                },
                {
                  "geo": "geo",
                  "hovertemplate": "<b>%{hovertext}</b><br><br>Billing_Country=Norway<br>Total_Oportunidades_exitosa=%{marker.size}<br>iso_alpha=%{location}<extra></extra>",
                  "hovertext": [
                    "Norway",
                    "Norway",
                    "Norway",
                    "Norway",
                    "Norway",
                    "Norway",
                    "Norway",
                    "Norway",
                    "Norway",
                    "Norway",
                    "Norway",
                    "Norway"
                  ],
                  "legendgroup": "Norway",
                  "locations": [
                    "NOR",
                    "NOR",
                    "NOR",
                    "NOR",
                    "NOR",
                    "NOR",
                    "NOR",
                    "NOR",
                    "NOR",
                    "NOR",
                    "NOR",
                    "NOR"
                  ],
                  "marker": {
                    "color": "#FFA15A",
                    "size": [
                      11,
                      11,
                      11,
                      11,
                      11,
                      11,
                      11,
                      11,
                      11,
                      11,
                      11,
                      11
                    ],
                    "sizemode": "area",
                    "sizeref": 3.225
                  },
                  "name": "Norway",
                  "showlegend": true,
                  "type": "scattergeo"
                },
                {
                  "geo": "geo",
                  "hovertemplate": "<b>%{hovertext}</b><br><br>Billing_Country=Poland<br>Total_Oportunidades_exitosa=%{marker.size}<br>iso_alpha=%{location}<extra></extra>",
                  "hovertext": [
                    "Poland",
                    "Poland",
                    "Poland",
                    "Poland",
                    "Poland",
                    "Poland",
                    "Poland",
                    "Poland",
                    "Poland",
                    "Poland",
                    "Poland",
                    "Poland"
                  ],
                  "legendgroup": "Poland",
                  "locations": [
                    "POL",
                    "POL",
                    "POL",
                    "POL",
                    "POL",
                    "POL",
                    "POL",
                    "POL",
                    "POL",
                    "POL",
                    "POL",
                    "POL"
                  ],
                  "marker": {
                    "color": "#19d3f3",
                    "size": [
                      10,
                      10,
                      10,
                      10,
                      10,
                      10,
                      10,
                      10,
                      10,
                      10,
                      10,
                      10
                    ],
                    "sizemode": "area",
                    "sizeref": 3.225
                  },
                  "name": "Poland",
                  "showlegend": true,
                  "type": "scattergeo"
                },
                {
                  "geo": "geo",
                  "hovertemplate": "<b>%{hovertext}</b><br><br>Billing_Country=Portugal<br>Total_Oportunidades_exitosa=%{marker.size}<br>iso_alpha=%{location}<extra></extra>",
                  "hovertext": [
                    "Portugal",
                    "Portugal",
                    "Portugal",
                    "Portugal",
                    "Portugal",
                    "Portugal",
                    "Portugal",
                    "Portugal",
                    "Portugal",
                    "Portugal",
                    "Portugal",
                    "Portugal"
                  ],
                  "legendgroup": "Portugal",
                  "locations": [
                    "PRT",
                    "PRT",
                    "PRT",
                    "PRT",
                    "PRT",
                    "PRT",
                    "PRT",
                    "PRT",
                    "PRT",
                    "PRT",
                    "PRT",
                    "PRT"
                  ],
                  "marker": {
                    "color": "#FF6692",
                    "size": [
                      10,
                      10,
                      10,
                      10,
                      10,
                      10,
                      10,
                      10,
                      10,
                      10,
                      10,
                      10
                    ],
                    "sizemode": "area",
                    "sizeref": 3.225
                  },
                  "name": "Portugal",
                  "showlegend": true,
                  "type": "scattergeo"
                },
                {
                  "geo": "geo",
                  "hovertemplate": "<b>%{hovertext}</b><br><br>Billing_Country=Taiwan<br>Total_Oportunidades_exitosa=%{marker.size}<br>iso_alpha=%{location}<extra></extra>",
                  "hovertext": [
                    "Taiwan",
                    "Taiwan",
                    "Taiwan",
                    "Taiwan",
                    "Taiwan",
                    "Taiwan",
                    "Taiwan",
                    "Taiwan",
                    "Taiwan",
                    "Taiwan",
                    "Taiwan",
                    "Taiwan"
                  ],
                  "legendgroup": "Taiwan",
                  "locations": [
                    "TWN",
                    "TWN",
                    "TWN",
                    "TWN",
                    "TWN",
                    "TWN",
                    "TWN",
                    "TWN",
                    "TWN",
                    "TWN",
                    "TWN",
                    "TWN"
                  ],
                  "marker": {
                    "color": "#B6E880",
                    "size": [
                      8,
                      8,
                      8,
                      8,
                      8,
                      8,
                      8,
                      8,
                      8,
                      8,
                      8,
                      8
                    ],
                    "sizemode": "area",
                    "sizeref": 3.225
                  },
                  "name": "Taiwan",
                  "showlegend": true,
                  "type": "scattergeo"
                },
                {
                  "geo": "geo",
                  "hovertemplate": "<b>%{hovertext}</b><br><br>Billing_Country=Puerto Rico<br>Total_Oportunidades_exitosa=%{marker.size}<br>iso_alpha=%{location}<extra></extra>",
                  "hovertext": [
                    "Puerto Rico",
                    "Puerto Rico",
                    "Puerto Rico",
                    "Puerto Rico",
                    "Puerto Rico",
                    "Puerto Rico",
                    "Puerto Rico",
                    "Puerto Rico",
                    "Puerto Rico",
                    "Puerto Rico",
                    "Puerto Rico",
                    "Puerto Rico"
                  ],
                  "legendgroup": "Puerto Rico",
                  "locations": [
                    "PRI",
                    "PRI",
                    "PRI",
                    "PRI",
                    "PRI",
                    "PRI",
                    "PRI",
                    "PRI",
                    "PRI",
                    "PRI",
                    "PRI",
                    "PRI"
                  ],
                  "marker": {
                    "color": "#FF97FF",
                    "size": [
                      7,
                      7,
                      7,
                      7,
                      7,
                      7,
                      7,
                      7,
                      7,
                      7,
                      7,
                      7
                    ],
                    "sizemode": "area",
                    "sizeref": 3.225
                  },
                  "name": "Puerto Rico",
                  "showlegend": true,
                  "type": "scattergeo"
                },
                {
                  "geo": "geo",
                  "hovertemplate": "<b>%{hovertext}</b><br><br>Billing_Country=South Africa<br>Total_Oportunidades_exitosa=%{marker.size}<br>iso_alpha=%{location}<extra></extra>",
                  "hovertext": [
                    "South Africa",
                    "South Africa",
                    "South Africa",
                    "South Africa",
                    "South Africa",
                    "South Africa",
                    "South Africa",
                    "South Africa",
                    "South Africa",
                    "South Africa",
                    "South Africa",
                    "South Africa"
                  ],
                  "legendgroup": "South Africa",
                  "locations": [
                    "ZAF",
                    "ZAF",
                    "ZAF",
                    "ZAF",
                    "ZAF",
                    "ZAF",
                    "ZAF",
                    "ZAF",
                    "ZAF",
                    "ZAF",
                    "ZAF",
                    "ZAF"
                  ],
                  "marker": {
                    "color": "#FECB52",
                    "size": [
                      6,
                      6,
                      6,
                      6,
                      6,
                      6,
                      6,
                      6,
                      6,
                      6,
                      6,
                      6
                    ],
                    "sizemode": "area",
                    "sizeref": 3.225
                  },
                  "name": "South Africa",
                  "showlegend": true,
                  "type": "scattergeo"
                },
                {
                  "geo": "geo",
                  "hovertemplate": "<b>%{hovertext}</b><br><br>Billing_Country=Korea, Dem. Rep.<br>Total_Oportunidades_exitosa=%{marker.size}<br>iso_alpha=%{location}<extra></extra>",
                  "hovertext": [
                    "Korea, Dem. Rep.",
                    "Korea, Dem. Rep.",
                    "Korea, Dem. Rep.",
                    "Korea, Dem. Rep.",
                    "Korea, Dem. Rep.",
                    "Korea, Dem. Rep.",
                    "Korea, Dem. Rep.",
                    "Korea, Dem. Rep.",
                    "Korea, Dem. Rep.",
                    "Korea, Dem. Rep.",
                    "Korea, Dem. Rep.",
                    "Korea, Dem. Rep."
                  ],
                  "legendgroup": "Korea, Dem. Rep.",
                  "locations": [
                    "KOR",
                    "KOR",
                    "KOR",
                    "KOR",
                    "KOR",
                    "KOR",
                    "KOR",
                    "KOR",
                    "KOR",
                    "KOR",
                    "KOR",
                    "KOR"
                  ],
                  "marker": {
                    "color": "#636efa",
                    "size": [
                      6,
                      6,
                      6,
                      6,
                      6,
                      6,
                      6,
                      6,
                      6,
                      6,
                      6,
                      6
                    ],
                    "sizemode": "area",
                    "sizeref": 3.225
                  },
                  "name": "Korea, Dem. Rep.",
                  "showlegend": true,
                  "type": "scattergeo"
                },
                {
                  "geo": "geo",
                  "hovertemplate": "<b>%{hovertext}</b><br><br>Billing_Country=Switzerland<br>Total_Oportunidades_exitosa=%{marker.size}<br>iso_alpha=%{location}<extra></extra>",
                  "hovertext": [
                    "Switzerland",
                    "Switzerland",
                    "Switzerland",
                    "Switzerland",
                    "Switzerland",
                    "Switzerland",
                    "Switzerland",
                    "Switzerland",
                    "Switzerland",
                    "Switzerland",
                    "Switzerland",
                    "Switzerland"
                  ],
                  "legendgroup": "Switzerland",
                  "locations": [
                    "CHE",
                    "CHE",
                    "CHE",
                    "CHE",
                    "CHE",
                    "CHE",
                    "CHE",
                    "CHE",
                    "CHE",
                    "CHE",
                    "CHE",
                    "CHE"
                  ],
                  "marker": {
                    "color": "#EF553B",
                    "size": [
                      6,
                      6,
                      6,
                      6,
                      6,
                      6,
                      6,
                      6,
                      6,
                      6,
                      6,
                      6
                    ],
                    "sizemode": "area",
                    "sizeref": 3.225
                  },
                  "name": "Switzerland",
                  "showlegend": true,
                  "type": "scattergeo"
                },
                {
                  "geo": "geo",
                  "hovertemplate": "<b>%{hovertext}</b><br><br>Billing_Country=Hungary<br>Total_Oportunidades_exitosa=%{marker.size}<br>iso_alpha=%{location}<extra></extra>",
                  "hovertext": [
                    "Hungary",
                    "Hungary",
                    "Hungary",
                    "Hungary",
                    "Hungary",
                    "Hungary",
                    "Hungary",
                    "Hungary",
                    "Hungary",
                    "Hungary",
                    "Hungary",
                    "Hungary"
                  ],
                  "legendgroup": "Hungary",
                  "locations": [
                    "HUN",
                    "HUN",
                    "HUN",
                    "HUN",
                    "HUN",
                    "HUN",
                    "HUN",
                    "HUN",
                    "HUN",
                    "HUN",
                    "HUN",
                    "HUN"
                  ],
                  "marker": {
                    "color": "#00cc96",
                    "size": [
                      5,
                      5,
                      5,
                      5,
                      5,
                      5,
                      5,
                      5,
                      5,
                      5,
                      5,
                      5
                    ],
                    "sizemode": "area",
                    "sizeref": 3.225
                  },
                  "name": "Hungary",
                  "showlegend": true,
                  "type": "scattergeo"
                },
                {
                  "geo": "geo",
                  "hovertemplate": "<b>%{hovertext}</b><br><br>Billing_Country=United Arab Emirates<br>Total_Oportunidades_exitosa=%{marker.size}<br>iso_alpha=%{location}<extra></extra>",
                  "hovertext": [
                    "United Arab Emirates"
                  ],
                  "legendgroup": "United Arab Emirates",
                  "locations": [
                    null
                  ],
                  "marker": {
                    "color": "#ab63fa",
                    "size": [
                      5
                    ],
                    "sizemode": "area",
                    "sizeref": 3.225
                  },
                  "name": "United Arab Emirates",
                  "showlegend": true,
                  "type": "scattergeo"
                },
                {
                  "geo": "geo",
                  "hovertemplate": "<b>%{hovertext}</b><br><br>Billing_Country=Pakistan<br>Total_Oportunidades_exitosa=%{marker.size}<br>iso_alpha=%{location}<extra></extra>",
                  "hovertext": [
                    "Pakistan",
                    "Pakistan",
                    "Pakistan",
                    "Pakistan",
                    "Pakistan",
                    "Pakistan",
                    "Pakistan",
                    "Pakistan",
                    "Pakistan",
                    "Pakistan",
                    "Pakistan",
                    "Pakistan"
                  ],
                  "legendgroup": "Pakistan",
                  "locations": [
                    "PAK",
                    "PAK",
                    "PAK",
                    "PAK",
                    "PAK",
                    "PAK",
                    "PAK",
                    "PAK",
                    "PAK",
                    "PAK",
                    "PAK",
                    "PAK"
                  ],
                  "marker": {
                    "color": "#FFA15A",
                    "size": [
                      5,
                      5,
                      5,
                      5,
                      5,
                      5,
                      5,
                      5,
                      5,
                      5,
                      5,
                      5
                    ],
                    "sizemode": "area",
                    "sizeref": 3.225
                  },
                  "name": "Pakistan",
                  "showlegend": true,
                  "type": "scattergeo"
                },
                {
                  "geo": "geo",
                  "hovertemplate": "<b>%{hovertext}</b><br><br>Billing_Country=Sweden<br>Total_Oportunidades_exitosa=%{marker.size}<br>iso_alpha=%{location}<extra></extra>",
                  "hovertext": [
                    "Sweden",
                    "Sweden",
                    "Sweden",
                    "Sweden",
                    "Sweden",
                    "Sweden",
                    "Sweden",
                    "Sweden",
                    "Sweden",
                    "Sweden",
                    "Sweden",
                    "Sweden"
                  ],
                  "legendgroup": "Sweden",
                  "locations": [
                    "SWE",
                    "SWE",
                    "SWE",
                    "SWE",
                    "SWE",
                    "SWE",
                    "SWE",
                    "SWE",
                    "SWE",
                    "SWE",
                    "SWE",
                    "SWE"
                  ],
                  "marker": {
                    "color": "#19d3f3",
                    "size": [
                      4,
                      4,
                      4,
                      4,
                      4,
                      4,
                      4,
                      4,
                      4,
                      4,
                      4,
                      4
                    ],
                    "sizemode": "area",
                    "sizeref": 3.225
                  },
                  "name": "Sweden",
                  "showlegend": true,
                  "type": "scattergeo"
                },
                {
                  "geo": "geo",
                  "hovertemplate": "<b>%{hovertext}</b><br><br>Billing_Country=Malta<br>Total_Oportunidades_exitosa=%{marker.size}<br>iso_alpha=%{location}<extra></extra>",
                  "hovertext": [
                    "Malta"
                  ],
                  "legendgroup": "Malta",
                  "locations": [
                    null
                  ],
                  "marker": {
                    "color": "#FF6692",
                    "size": [
                      4
                    ],
                    "sizemode": "area",
                    "sizeref": 3.225
                  },
                  "name": "Malta",
                  "showlegend": true,
                  "type": "scattergeo"
                },
                {
                  "geo": "geo",
                  "hovertemplate": "<b>%{hovertext}</b><br><br>Billing_Country=Czech Republic<br>Total_Oportunidades_exitosa=%{marker.size}<br>iso_alpha=%{location}<extra></extra>",
                  "hovertext": [
                    "Czech Republic",
                    "Czech Republic",
                    "Czech Republic",
                    "Czech Republic",
                    "Czech Republic",
                    "Czech Republic",
                    "Czech Republic",
                    "Czech Republic",
                    "Czech Republic",
                    "Czech Republic",
                    "Czech Republic",
                    "Czech Republic"
                  ],
                  "legendgroup": "Czech Republic",
                  "locations": [
                    "CZE",
                    "CZE",
                    "CZE",
                    "CZE",
                    "CZE",
                    "CZE",
                    "CZE",
                    "CZE",
                    "CZE",
                    "CZE",
                    "CZE",
                    "CZE"
                  ],
                  "marker": {
                    "color": "#B6E880",
                    "size": [
                      3,
                      3,
                      3,
                      3,
                      3,
                      3,
                      3,
                      3,
                      3,
                      3,
                      3,
                      3
                    ],
                    "sizemode": "area",
                    "sizeref": 3.225
                  },
                  "name": "Czech Republic",
                  "showlegend": true,
                  "type": "scattergeo"
                },
                {
                  "geo": "geo",
                  "hovertemplate": "<b>%{hovertext}</b><br><br>Billing_Country=Cambodia<br>Total_Oportunidades_exitosa=%{marker.size}<br>iso_alpha=%{location}<extra></extra>",
                  "hovertext": [
                    "Cambodia",
                    "Cambodia",
                    "Cambodia",
                    "Cambodia",
                    "Cambodia",
                    "Cambodia",
                    "Cambodia",
                    "Cambodia",
                    "Cambodia",
                    "Cambodia",
                    "Cambodia",
                    "Cambodia"
                  ],
                  "legendgroup": "Cambodia",
                  "locations": [
                    "KHM",
                    "KHM",
                    "KHM",
                    "KHM",
                    "KHM",
                    "KHM",
                    "KHM",
                    "KHM",
                    "KHM",
                    "KHM",
                    "KHM",
                    "KHM"
                  ],
                  "marker": {
                    "color": "#FF97FF",
                    "size": [
                      3,
                      3,
                      3,
                      3,
                      3,
                      3,
                      3,
                      3,
                      3,
                      3,
                      3,
                      3
                    ],
                    "sizemode": "area",
                    "sizeref": 3.225
                  },
                  "name": "Cambodia",
                  "showlegend": true,
                  "type": "scattergeo"
                },
                {
                  "geo": "geo",
                  "hovertemplate": "<b>%{hovertext}</b><br><br>Billing_Country=Turkey<br>Total_Oportunidades_exitosa=%{marker.size}<br>iso_alpha=%{location}<extra></extra>",
                  "hovertext": [
                    "Turkey",
                    "Turkey",
                    "Turkey",
                    "Turkey",
                    "Turkey",
                    "Turkey",
                    "Turkey",
                    "Turkey",
                    "Turkey",
                    "Turkey",
                    "Turkey",
                    "Turkey"
                  ],
                  "legendgroup": "Turkey",
                  "locations": [
                    "TUR",
                    "TUR",
                    "TUR",
                    "TUR",
                    "TUR",
                    "TUR",
                    "TUR",
                    "TUR",
                    "TUR",
                    "TUR",
                    "TUR",
                    "TUR"
                  ],
                  "marker": {
                    "color": "#FECB52",
                    "size": [
                      3,
                      3,
                      3,
                      3,
                      3,
                      3,
                      3,
                      3,
                      3,
                      3,
                      3,
                      3
                    ],
                    "sizemode": "area",
                    "sizeref": 3.225
                  },
                  "name": "Turkey",
                  "showlegend": true,
                  "type": "scattergeo"
                },
                {
                  "geo": "geo",
                  "hovertemplate": "<b>%{hovertext}</b><br><br>Billing_Country=Lebanon<br>Total_Oportunidades_exitosa=%{marker.size}<br>iso_alpha=%{location}<extra></extra>",
                  "hovertext": [
                    "Lebanon",
                    "Lebanon",
                    "Lebanon",
                    "Lebanon",
                    "Lebanon",
                    "Lebanon",
                    "Lebanon",
                    "Lebanon",
                    "Lebanon",
                    "Lebanon",
                    "Lebanon",
                    "Lebanon"
                  ],
                  "legendgroup": "Lebanon",
                  "locations": [
                    "LBN",
                    "LBN",
                    "LBN",
                    "LBN",
                    "LBN",
                    "LBN",
                    "LBN",
                    "LBN",
                    "LBN",
                    "LBN",
                    "LBN",
                    "LBN"
                  ],
                  "marker": {
                    "color": "#636efa",
                    "size": [
                      3,
                      3,
                      3,
                      3,
                      3,
                      3,
                      3,
                      3,
                      3,
                      3,
                      3,
                      3
                    ],
                    "sizemode": "area",
                    "sizeref": 3.225
                  },
                  "name": "Lebanon",
                  "showlegend": true,
                  "type": "scattergeo"
                },
                {
                  "geo": "geo",
                  "hovertemplate": "<b>%{hovertext}</b><br><br>Billing_Country=Reunion<br>Total_Oportunidades_exitosa=%{marker.size}<br>iso_alpha=%{location}<extra></extra>",
                  "hovertext": [
                    "Reunion",
                    "Reunion",
                    "Reunion",
                    "Reunion",
                    "Reunion",
                    "Reunion",
                    "Reunion",
                    "Reunion",
                    "Reunion",
                    "Reunion",
                    "Reunion",
                    "Reunion"
                  ],
                  "legendgroup": "Reunion",
                  "locations": [
                    "REU",
                    "REU",
                    "REU",
                    "REU",
                    "REU",
                    "REU",
                    "REU",
                    "REU",
                    "REU",
                    "REU",
                    "REU",
                    "REU"
                  ],
                  "marker": {
                    "color": "#EF553B",
                    "size": [
                      2,
                      2,
                      2,
                      2,
                      2,
                      2,
                      2,
                      2,
                      2,
                      2,
                      2,
                      2
                    ],
                    "sizemode": "area",
                    "sizeref": 3.225
                  },
                  "name": "Reunion",
                  "showlegend": true,
                  "type": "scattergeo"
                },
                {
                  "geo": "geo",
                  "hovertemplate": "<b>%{hovertext}</b><br><br>Billing_Country=Myanmar<br>Total_Oportunidades_exitosa=%{marker.size}<br>iso_alpha=%{location}<extra></extra>",
                  "hovertext": [
                    "Myanmar",
                    "Myanmar",
                    "Myanmar",
                    "Myanmar",
                    "Myanmar",
                    "Myanmar",
                    "Myanmar",
                    "Myanmar",
                    "Myanmar",
                    "Myanmar",
                    "Myanmar",
                    "Myanmar"
                  ],
                  "legendgroup": "Myanmar",
                  "locations": [
                    "MMR",
                    "MMR",
                    "MMR",
                    "MMR",
                    "MMR",
                    "MMR",
                    "MMR",
                    "MMR",
                    "MMR",
                    "MMR",
                    "MMR",
                    "MMR"
                  ],
                  "marker": {
                    "color": "#00cc96",
                    "size": [
                      1,
                      1,
                      1,
                      1,
                      1,
                      1,
                      1,
                      1,
                      1,
                      1,
                      1,
                      1
                    ],
                    "sizemode": "area",
                    "sizeref": 3.225
                  },
                  "name": "Myanmar",
                  "showlegend": true,
                  "type": "scattergeo"
                },
                {
                  "geo": "geo",
                  "hovertemplate": "<b>%{hovertext}</b><br><br>Billing_Country=Estonia<br>Total_Oportunidades_exitosa=%{marker.size}<br>iso_alpha=%{location}<extra></extra>",
                  "hovertext": [
                    "Estonia"
                  ],
                  "legendgroup": "Estonia",
                  "locations": [
                    null
                  ],
                  "marker": {
                    "color": "#ab63fa",
                    "size": [
                      1
                    ],
                    "sizemode": "area",
                    "sizeref": 3.225
                  },
                  "name": "Estonia",
                  "showlegend": true,
                  "type": "scattergeo"
                },
                {
                  "geo": "geo",
                  "hovertemplate": "<b>%{hovertext}</b><br><br>Billing_Country=Saudi Arabia<br>Total_Oportunidades_exitosa=%{marker.size}<br>iso_alpha=%{location}<extra></extra>",
                  "hovertext": [
                    "Saudi Arabia",
                    "Saudi Arabia",
                    "Saudi Arabia",
                    "Saudi Arabia",
                    "Saudi Arabia",
                    "Saudi Arabia",
                    "Saudi Arabia",
                    "Saudi Arabia",
                    "Saudi Arabia",
                    "Saudi Arabia",
                    "Saudi Arabia",
                    "Saudi Arabia"
                  ],
                  "legendgroup": "Saudi Arabia",
                  "locations": [
                    "SAU",
                    "SAU",
                    "SAU",
                    "SAU",
                    "SAU",
                    "SAU",
                    "SAU",
                    "SAU",
                    "SAU",
                    "SAU",
                    "SAU",
                    "SAU"
                  ],
                  "marker": {
                    "color": "#FFA15A",
                    "size": [
                      1,
                      1,
                      1,
                      1,
                      1,
                      1,
                      1,
                      1,
                      1,
                      1,
                      1,
                      1
                    ],
                    "sizemode": "area",
                    "sizeref": 3.225
                  },
                  "name": "Saudi Arabia",
                  "showlegend": true,
                  "type": "scattergeo"
                },
                {
                  "geo": "geo",
                  "hovertemplate": "<b>%{hovertext}</b><br><br>Billing_Country=Korea, Rep.<br>Total_Oportunidades_exitosa=%{marker.size}<br>iso_alpha=%{location}<extra></extra>",
                  "hovertext": [
                    "Korea, Rep.",
                    "Korea, Rep.",
                    "Korea, Rep.",
                    "Korea, Rep.",
                    "Korea, Rep.",
                    "Korea, Rep.",
                    "Korea, Rep.",
                    "Korea, Rep.",
                    "Korea, Rep.",
                    "Korea, Rep.",
                    "Korea, Rep.",
                    "Korea, Rep."
                  ],
                  "legendgroup": "Korea, Rep.",
                  "locations": [
                    "KOR",
                    "KOR",
                    "KOR",
                    "KOR",
                    "KOR",
                    "KOR",
                    "KOR",
                    "KOR",
                    "KOR",
                    "KOR",
                    "KOR",
                    "KOR"
                  ],
                  "marker": {
                    "color": "#19d3f3",
                    "size": [
                      1,
                      1,
                      1,
                      1,
                      1,
                      1,
                      1,
                      1,
                      1,
                      1,
                      1,
                      1
                    ],
                    "sizemode": "area",
                    "sizeref": 3.225
                  },
                  "name": "Korea, Rep.",
                  "showlegend": true,
                  "type": "scattergeo"
                },
                {
                  "geo": "geo",
                  "hovertemplate": "<b>%{hovertext}</b><br><br>Billing_Country=Bulgaria<br>Total_Oportunidades_exitosa=%{marker.size}<br>iso_alpha=%{location}<extra></extra>",
                  "hovertext": [
                    "Bulgaria",
                    "Bulgaria",
                    "Bulgaria",
                    "Bulgaria",
                    "Bulgaria",
                    "Bulgaria",
                    "Bulgaria",
                    "Bulgaria",
                    "Bulgaria",
                    "Bulgaria",
                    "Bulgaria",
                    "Bulgaria"
                  ],
                  "legendgroup": "Bulgaria",
                  "locations": [
                    "BGR",
                    "BGR",
                    "BGR",
                    "BGR",
                    "BGR",
                    "BGR",
                    "BGR",
                    "BGR",
                    "BGR",
                    "BGR",
                    "BGR",
                    "BGR"
                  ],
                  "marker": {
                    "color": "#FF6692",
                    "size": [
                      1,
                      1,
                      1,
                      1,
                      1,
                      1,
                      1,
                      1,
                      1,
                      1,
                      1,
                      1
                    ],
                    "sizemode": "area",
                    "sizeref": 3.225
                  },
                  "name": "Bulgaria",
                  "showlegend": true,
                  "type": "scattergeo"
                },
                {
                  "geo": "geo",
                  "hovertemplate": "<b>%{hovertext}</b><br><br>Billing_Country=Bahrain<br>Total_Oportunidades_exitosa=%{marker.size}<br>iso_alpha=%{location}<extra></extra>",
                  "hovertext": [
                    "Bahrain",
                    "Bahrain",
                    "Bahrain",
                    "Bahrain",
                    "Bahrain",
                    "Bahrain",
                    "Bahrain",
                    "Bahrain",
                    "Bahrain",
                    "Bahrain",
                    "Bahrain",
                    "Bahrain"
                  ],
                  "legendgroup": "Bahrain",
                  "locations": [
                    "BHR",
                    "BHR",
                    "BHR",
                    "BHR",
                    "BHR",
                    "BHR",
                    "BHR",
                    "BHR",
                    "BHR",
                    "BHR",
                    "BHR",
                    "BHR"
                  ],
                  "marker": {
                    "color": "#B6E880",
                    "size": [
                      1,
                      1,
                      1,
                      1,
                      1,
                      1,
                      1,
                      1,
                      1,
                      1,
                      1,
                      1
                    ],
                    "sizemode": "area",
                    "sizeref": 3.225
                  },
                  "name": "Bahrain",
                  "showlegend": true,
                  "type": "scattergeo"
                },
                {
                  "geo": "geo",
                  "hovertemplate": "<b>%{hovertext}</b><br><br>Billing_Country=Macedonia, the former Yugoslav Republic of<br>Total_Oportunidades_exitosa=%{marker.size}<br>iso_alpha=%{location}<extra></extra>",
                  "hovertext": [
                    "Macedonia, the former Yugoslav Republic of"
                  ],
                  "legendgroup": "Macedonia, the former Yugoslav Republic of",
                  "locations": [
                    null
                  ],
                  "marker": {
                    "color": "#FF97FF",
                    "size": [
                      1
                    ],
                    "sizemode": "area",
                    "sizeref": 3.225
                  },
                  "name": "Macedonia, the former Yugoslav Republic of",
                  "showlegend": true,
                  "type": "scattergeo"
                }
              ],
              "layout": {
                "geo": {
                  "center": {},
                  "domain": {
                    "x": [
                      0,
                      1
                    ],
                    "y": [
                      0,
                      1
                    ]
                  },
                  "projection": {
                    "type": "natural earth"
                  }
                },
                "legend": {
                  "itemsizing": "constant",
                  "title": {
                    "text": "Billing_Country"
                  },
                  "tracegroupgap": 0
                },
                "template": {
                  "data": {
                    "bar": [
                      {
                        "error_x": {
                          "color": "#2a3f5f"
                        },
                        "error_y": {
                          "color": "#2a3f5f"
                        },
                        "marker": {
                          "line": {
                            "color": "#E5ECF6",
                            "width": 0.5
                          }
                        },
                        "type": "bar"
                      }
                    ],
                    "barpolar": [
                      {
                        "marker": {
                          "line": {
                            "color": "#E5ECF6",
                            "width": 0.5
                          }
                        },
                        "type": "barpolar"
                      }
                    ],
                    "carpet": [
                      {
                        "aaxis": {
                          "endlinecolor": "#2a3f5f",
                          "gridcolor": "white",
                          "linecolor": "white",
                          "minorgridcolor": "white",
                          "startlinecolor": "#2a3f5f"
                        },
                        "baxis": {
                          "endlinecolor": "#2a3f5f",
                          "gridcolor": "white",
                          "linecolor": "white",
                          "minorgridcolor": "white",
                          "startlinecolor": "#2a3f5f"
                        },
                        "type": "carpet"
                      }
                    ],
                    "choropleth": [
                      {
                        "colorbar": {
                          "outlinewidth": 0,
                          "ticks": ""
                        },
                        "type": "choropleth"
                      }
                    ],
                    "contour": [
                      {
                        "colorbar": {
                          "outlinewidth": 0,
                          "ticks": ""
                        },
                        "colorscale": [
                          [
                            0,
                            "#0d0887"
                          ],
                          [
                            0.1111111111111111,
                            "#46039f"
                          ],
                          [
                            0.2222222222222222,
                            "#7201a8"
                          ],
                          [
                            0.3333333333333333,
                            "#9c179e"
                          ],
                          [
                            0.4444444444444444,
                            "#bd3786"
                          ],
                          [
                            0.5555555555555556,
                            "#d8576b"
                          ],
                          [
                            0.6666666666666666,
                            "#ed7953"
                          ],
                          [
                            0.7777777777777778,
                            "#fb9f3a"
                          ],
                          [
                            0.8888888888888888,
                            "#fdca26"
                          ],
                          [
                            1,
                            "#f0f921"
                          ]
                        ],
                        "type": "contour"
                      }
                    ],
                    "contourcarpet": [
                      {
                        "colorbar": {
                          "outlinewidth": 0,
                          "ticks": ""
                        },
                        "type": "contourcarpet"
                      }
                    ],
                    "heatmap": [
                      {
                        "colorbar": {
                          "outlinewidth": 0,
                          "ticks": ""
                        },
                        "colorscale": [
                          [
                            0,
                            "#0d0887"
                          ],
                          [
                            0.1111111111111111,
                            "#46039f"
                          ],
                          [
                            0.2222222222222222,
                            "#7201a8"
                          ],
                          [
                            0.3333333333333333,
                            "#9c179e"
                          ],
                          [
                            0.4444444444444444,
                            "#bd3786"
                          ],
                          [
                            0.5555555555555556,
                            "#d8576b"
                          ],
                          [
                            0.6666666666666666,
                            "#ed7953"
                          ],
                          [
                            0.7777777777777778,
                            "#fb9f3a"
                          ],
                          [
                            0.8888888888888888,
                            "#fdca26"
                          ],
                          [
                            1,
                            "#f0f921"
                          ]
                        ],
                        "type": "heatmap"
                      }
                    ],
                    "heatmapgl": [
                      {
                        "colorbar": {
                          "outlinewidth": 0,
                          "ticks": ""
                        },
                        "colorscale": [
                          [
                            0,
                            "#0d0887"
                          ],
                          [
                            0.1111111111111111,
                            "#46039f"
                          ],
                          [
                            0.2222222222222222,
                            "#7201a8"
                          ],
                          [
                            0.3333333333333333,
                            "#9c179e"
                          ],
                          [
                            0.4444444444444444,
                            "#bd3786"
                          ],
                          [
                            0.5555555555555556,
                            "#d8576b"
                          ],
                          [
                            0.6666666666666666,
                            "#ed7953"
                          ],
                          [
                            0.7777777777777778,
                            "#fb9f3a"
                          ],
                          [
                            0.8888888888888888,
                            "#fdca26"
                          ],
                          [
                            1,
                            "#f0f921"
                          ]
                        ],
                        "type": "heatmapgl"
                      }
                    ],
                    "histogram": [
                      {
                        "marker": {
                          "colorbar": {
                            "outlinewidth": 0,
                            "ticks": ""
                          }
                        },
                        "type": "histogram"
                      }
                    ],
                    "histogram2d": [
                      {
                        "colorbar": {
                          "outlinewidth": 0,
                          "ticks": ""
                        },
                        "colorscale": [
                          [
                            0,
                            "#0d0887"
                          ],
                          [
                            0.1111111111111111,
                            "#46039f"
                          ],
                          [
                            0.2222222222222222,
                            "#7201a8"
                          ],
                          [
                            0.3333333333333333,
                            "#9c179e"
                          ],
                          [
                            0.4444444444444444,
                            "#bd3786"
                          ],
                          [
                            0.5555555555555556,
                            "#d8576b"
                          ],
                          [
                            0.6666666666666666,
                            "#ed7953"
                          ],
                          [
                            0.7777777777777778,
                            "#fb9f3a"
                          ],
                          [
                            0.8888888888888888,
                            "#fdca26"
                          ],
                          [
                            1,
                            "#f0f921"
                          ]
                        ],
                        "type": "histogram2d"
                      }
                    ],
                    "histogram2dcontour": [
                      {
                        "colorbar": {
                          "outlinewidth": 0,
                          "ticks": ""
                        },
                        "colorscale": [
                          [
                            0,
                            "#0d0887"
                          ],
                          [
                            0.1111111111111111,
                            "#46039f"
                          ],
                          [
                            0.2222222222222222,
                            "#7201a8"
                          ],
                          [
                            0.3333333333333333,
                            "#9c179e"
                          ],
                          [
                            0.4444444444444444,
                            "#bd3786"
                          ],
                          [
                            0.5555555555555556,
                            "#d8576b"
                          ],
                          [
                            0.6666666666666666,
                            "#ed7953"
                          ],
                          [
                            0.7777777777777778,
                            "#fb9f3a"
                          ],
                          [
                            0.8888888888888888,
                            "#fdca26"
                          ],
                          [
                            1,
                            "#f0f921"
                          ]
                        ],
                        "type": "histogram2dcontour"
                      }
                    ],
                    "mesh3d": [
                      {
                        "colorbar": {
                          "outlinewidth": 0,
                          "ticks": ""
                        },
                        "type": "mesh3d"
                      }
                    ],
                    "parcoords": [
                      {
                        "line": {
                          "colorbar": {
                            "outlinewidth": 0,
                            "ticks": ""
                          }
                        },
                        "type": "parcoords"
                      }
                    ],
                    "pie": [
                      {
                        "automargin": true,
                        "type": "pie"
                      }
                    ],
                    "scatter": [
                      {
                        "marker": {
                          "colorbar": {
                            "outlinewidth": 0,
                            "ticks": ""
                          }
                        },
                        "type": "scatter"
                      }
                    ],
                    "scatter3d": [
                      {
                        "line": {
                          "colorbar": {
                            "outlinewidth": 0,
                            "ticks": ""
                          }
                        },
                        "marker": {
                          "colorbar": {
                            "outlinewidth": 0,
                            "ticks": ""
                          }
                        },
                        "type": "scatter3d"
                      }
                    ],
                    "scattercarpet": [
                      {
                        "marker": {
                          "colorbar": {
                            "outlinewidth": 0,
                            "ticks": ""
                          }
                        },
                        "type": "scattercarpet"
                      }
                    ],
                    "scattergeo": [
                      {
                        "marker": {
                          "colorbar": {
                            "outlinewidth": 0,
                            "ticks": ""
                          }
                        },
                        "type": "scattergeo"
                      }
                    ],
                    "scattergl": [
                      {
                        "marker": {
                          "colorbar": {
                            "outlinewidth": 0,
                            "ticks": ""
                          }
                        },
                        "type": "scattergl"
                      }
                    ],
                    "scattermapbox": [
                      {
                        "marker": {
                          "colorbar": {
                            "outlinewidth": 0,
                            "ticks": ""
                          }
                        },
                        "type": "scattermapbox"
                      }
                    ],
                    "scatterpolar": [
                      {
                        "marker": {
                          "colorbar": {
                            "outlinewidth": 0,
                            "ticks": ""
                          }
                        },
                        "type": "scatterpolar"
                      }
                    ],
                    "scatterpolargl": [
                      {
                        "marker": {
                          "colorbar": {
                            "outlinewidth": 0,
                            "ticks": ""
                          }
                        },
                        "type": "scatterpolargl"
                      }
                    ],
                    "scatterternary": [
                      {
                        "marker": {
                          "colorbar": {
                            "outlinewidth": 0,
                            "ticks": ""
                          }
                        },
                        "type": "scatterternary"
                      }
                    ],
                    "surface": [
                      {
                        "colorbar": {
                          "outlinewidth": 0,
                          "ticks": ""
                        },
                        "colorscale": [
                          [
                            0,
                            "#0d0887"
                          ],
                          [
                            0.1111111111111111,
                            "#46039f"
                          ],
                          [
                            0.2222222222222222,
                            "#7201a8"
                          ],
                          [
                            0.3333333333333333,
                            "#9c179e"
                          ],
                          [
                            0.4444444444444444,
                            "#bd3786"
                          ],
                          [
                            0.5555555555555556,
                            "#d8576b"
                          ],
                          [
                            0.6666666666666666,
                            "#ed7953"
                          ],
                          [
                            0.7777777777777778,
                            "#fb9f3a"
                          ],
                          [
                            0.8888888888888888,
                            "#fdca26"
                          ],
                          [
                            1,
                            "#f0f921"
                          ]
                        ],
                        "type": "surface"
                      }
                    ],
                    "table": [
                      {
                        "cells": {
                          "fill": {
                            "color": "#EBF0F8"
                          },
                          "line": {
                            "color": "white"
                          }
                        },
                        "header": {
                          "fill": {
                            "color": "#C8D4E3"
                          },
                          "line": {
                            "color": "white"
                          }
                        },
                        "type": "table"
                      }
                    ]
                  },
                  "layout": {
                    "annotationdefaults": {
                      "arrowcolor": "#2a3f5f",
                      "arrowhead": 0,
                      "arrowwidth": 1
                    },
                    "coloraxis": {
                      "colorbar": {
                        "outlinewidth": 0,
                        "ticks": ""
                      }
                    },
                    "colorscale": {
                      "diverging": [
                        [
                          0,
                          "#8e0152"
                        ],
                        [
                          0.1,
                          "#c51b7d"
                        ],
                        [
                          0.2,
                          "#de77ae"
                        ],
                        [
                          0.3,
                          "#f1b6da"
                        ],
                        [
                          0.4,
                          "#fde0ef"
                        ],
                        [
                          0.5,
                          "#f7f7f7"
                        ],
                        [
                          0.6,
                          "#e6f5d0"
                        ],
                        [
                          0.7,
                          "#b8e186"
                        ],
                        [
                          0.8,
                          "#7fbc41"
                        ],
                        [
                          0.9,
                          "#4d9221"
                        ],
                        [
                          1,
                          "#276419"
                        ]
                      ],
                      "sequential": [
                        [
                          0,
                          "#0d0887"
                        ],
                        [
                          0.1111111111111111,
                          "#46039f"
                        ],
                        [
                          0.2222222222222222,
                          "#7201a8"
                        ],
                        [
                          0.3333333333333333,
                          "#9c179e"
                        ],
                        [
                          0.4444444444444444,
                          "#bd3786"
                        ],
                        [
                          0.5555555555555556,
                          "#d8576b"
                        ],
                        [
                          0.6666666666666666,
                          "#ed7953"
                        ],
                        [
                          0.7777777777777778,
                          "#fb9f3a"
                        ],
                        [
                          0.8888888888888888,
                          "#fdca26"
                        ],
                        [
                          1,
                          "#f0f921"
                        ]
                      ],
                      "sequentialminus": [
                        [
                          0,
                          "#0d0887"
                        ],
                        [
                          0.1111111111111111,
                          "#46039f"
                        ],
                        [
                          0.2222222222222222,
                          "#7201a8"
                        ],
                        [
                          0.3333333333333333,
                          "#9c179e"
                        ],
                        [
                          0.4444444444444444,
                          "#bd3786"
                        ],
                        [
                          0.5555555555555556,
                          "#d8576b"
                        ],
                        [
                          0.6666666666666666,
                          "#ed7953"
                        ],
                        [
                          0.7777777777777778,
                          "#fb9f3a"
                        ],
                        [
                          0.8888888888888888,
                          "#fdca26"
                        ],
                        [
                          1,
                          "#f0f921"
                        ]
                      ]
                    },
                    "colorway": [
                      "#636efa",
                      "#EF553B",
                      "#00cc96",
                      "#ab63fa",
                      "#FFA15A",
                      "#19d3f3",
                      "#FF6692",
                      "#B6E880",
                      "#FF97FF",
                      "#FECB52"
                    ],
                    "font": {
                      "color": "#2a3f5f"
                    },
                    "geo": {
                      "bgcolor": "white",
                      "lakecolor": "white",
                      "landcolor": "#E5ECF6",
                      "showlakes": true,
                      "showland": true,
                      "subunitcolor": "white"
                    },
                    "hoverlabel": {
                      "align": "left"
                    },
                    "hovermode": "closest",
                    "mapbox": {
                      "style": "light"
                    },
                    "paper_bgcolor": "white",
                    "plot_bgcolor": "#E5ECF6",
                    "polar": {
                      "angularaxis": {
                        "gridcolor": "white",
                        "linecolor": "white",
                        "ticks": ""
                      },
                      "bgcolor": "#E5ECF6",
                      "radialaxis": {
                        "gridcolor": "white",
                        "linecolor": "white",
                        "ticks": ""
                      }
                    },
                    "scene": {
                      "xaxis": {
                        "backgroundcolor": "#E5ECF6",
                        "gridcolor": "white",
                        "gridwidth": 2,
                        "linecolor": "white",
                        "showbackground": true,
                        "ticks": "",
                        "zerolinecolor": "white"
                      },
                      "yaxis": {
                        "backgroundcolor": "#E5ECF6",
                        "gridcolor": "white",
                        "gridwidth": 2,
                        "linecolor": "white",
                        "showbackground": true,
                        "ticks": "",
                        "zerolinecolor": "white"
                      },
                      "zaxis": {
                        "backgroundcolor": "#E5ECF6",
                        "gridcolor": "white",
                        "gridwidth": 2,
                        "linecolor": "white",
                        "showbackground": true,
                        "ticks": "",
                        "zerolinecolor": "white"
                      }
                    },
                    "shapedefaults": {
                      "line": {
                        "color": "#2a3f5f"
                      }
                    },
                    "ternary": {
                      "aaxis": {
                        "gridcolor": "white",
                        "linecolor": "white",
                        "ticks": ""
                      },
                      "baxis": {
                        "gridcolor": "white",
                        "linecolor": "white",
                        "ticks": ""
                      },
                      "bgcolor": "#E5ECF6",
                      "caxis": {
                        "gridcolor": "white",
                        "linecolor": "white",
                        "ticks": ""
                      }
                    },
                    "title": {
                      "x": 0.05
                    },
                    "xaxis": {
                      "automargin": true,
                      "gridcolor": "white",
                      "linecolor": "white",
                      "ticks": "",
                      "title": {
                        "standoff": 15
                      },
                      "zerolinecolor": "white",
                      "zerolinewidth": 2
                    },
                    "yaxis": {
                      "automargin": true,
                      "gridcolor": "white",
                      "linecolor": "white",
                      "ticks": "",
                      "title": {
                        "standoff": 15
                      },
                      "zerolinecolor": "white",
                      "zerolinewidth": 2
                    }
                  }
                },
                "title": {
                  "text": "Oportunidades Exitosas por Región"
                }
              }
            }
          },
          "metadata": {}
        }
      ]
    },
    {
      "cell_type": "markdown",
      "metadata": {
        "id": "hR5AGIPMCI-D"
      },
      "source": [
        "#Analisis de las oportunidades teniendo encuenta si requieren aprobacion o no"
      ]
    },
    {
      "cell_type": "code",
      "metadata": {
        "id": "xWRYqE5kQzsp",
        "outputId": "235d5186-adc0-462a-c73d-0d4543afde1b",
        "colab": {
          "base_uri": "https://localhost:8080/",
          "height": 626
        }
      },
      "source": [
        "df"
      ],
      "execution_count": 292,
      "outputs": [
        {
          "output_type": "execute_result",
          "data": {
            "text/plain": [
              "          ID    Region   Territory  Pricing, Delivery_Terms_Quote_Appr  \\\n",
              "0      27761      EMEA        None                                   1   \n",
              "1      27760      EMEA        None                                   0   \n",
              "2      27446  Americas  NW America                                   0   \n",
              "3      16808  Americas  NW America                                   1   \n",
              "4      16805  Americas  NW America                                   1   \n",
              "...      ...       ...         ...                                 ...   \n",
              "16942   8781      EMEA     Austria                                   1   \n",
              "16943   8786      EMEA     Austria                                   1   \n",
              "16944   8792      EMEA     Austria                                   1   \n",
              "16945  28561  Americas  NE America                                   1   \n",
              "16946  28318  Americas  NE America                                   1   \n",
              "\n",
              "       Pricing, Delivery_Terms_Approved  Bureaucratic_Code_0_Approval  \\\n",
              "0                                     1                             1   \n",
              "1                                     0                             0   \n",
              "2                                     0                             0   \n",
              "3                                     0                             1   \n",
              "4                                     0                             1   \n",
              "...                                 ...                           ...   \n",
              "16942                                 1                             1   \n",
              "16943                                 1                             1   \n",
              "16944                                 1                             1   \n",
              "16945                                 1                             1   \n",
              "16946                                 1                             1   \n",
              "\n",
              "       Bureaucratic_Code_0_Approved  Submitted_for_Approval  \\\n",
              "0                                 1                       0   \n",
              "1                                 0                       0   \n",
              "2                                 0                       0   \n",
              "3                                 0                       0   \n",
              "4                                 0                       0   \n",
              "...                             ...                     ...   \n",
              "16942                             1                       0   \n",
              "16943                             1                       0   \n",
              "16944                             1                       0   \n",
              "16945                             1                       0   \n",
              "16946                             1                       0   \n",
              "\n",
              "         Bureaucratic_Code Account_Created_Date  ... Delivery_Quarter  \\\n",
              "0      Bureaucratic_Code_4            6/16/2015  ...               Q2   \n",
              "1      Bureaucratic_Code_4            6/16/2015  ...               Q1   \n",
              "2      Bureaucratic_Code_4            4/21/2015  ...               Q1   \n",
              "3      Bureaucratic_Code_5            7/27/2013  ...               Q1   \n",
              "4      Bureaucratic_Code_5            7/27/2013  ...               Q1   \n",
              "...                    ...                  ...  ...              ...   \n",
              "16942  Bureaucratic_Code_4            1/15/2016  ...               Q1   \n",
              "16943  Bureaucratic_Code_4            1/15/2016  ...               Q2   \n",
              "16944  Bureaucratic_Code_4            1/15/2016  ...               Q1   \n",
              "16945  Bureaucratic_Code_4           10/20/2015  ...               Q2   \n",
              "16946  Bureaucratic_Code_4             9/3/2015  ...               Q3   \n",
              "\n",
              "      Delivery_Year Actual_Delivery_Date TRF  Total_Amount_Currency  \\\n",
              "0              2016                  NaT  10                    EUR   \n",
              "1              2016                  NaT   0                    EUR   \n",
              "2              2016                  NaT   0                    USD   \n",
              "3              2018                  NaT  14                    USD   \n",
              "4              2018                  NaT  25                    USD   \n",
              "...             ...                  ...  ..                    ...   \n",
              "16942          2016                  NaT   0                    EUR   \n",
              "16943          2016                  NaT   0                    EUR   \n",
              "16944          2016                  NaT   0                    EUR   \n",
              "16945          2016                  NaT   4                    USD   \n",
              "16946          2016                  NaT  40                    USD   \n",
              "\n",
              "      Total_Amount Total_Taxable_Amount_Currency Total_Taxable_Amount  \\\n",
              "0       5272800.00                           EUR            5272800.0   \n",
              "1         48230.00                           EUR              48230.0   \n",
              "2         83865.60                           USD              83865.6   \n",
              "3       7421881.50                           USD            7421881.5   \n",
              "4      13357192.50                           USD           13357192.5   \n",
              "...            ...                           ...                  ...   \n",
              "16942    103350.00                           EUR             299715.0   \n",
              "16943     93015.00                           EUR             299715.0   \n",
              "16944    103350.00                           EUR             299715.0   \n",
              "16945   2346796.88                           USD                  0.0   \n",
              "16946  25603200.00                           USD                  0.0   \n",
              "\n",
              "             Stage       Prod_Category_A  \n",
              "0      Closed Lost  Prod_Category_A_None  \n",
              "1       Closed Won  Prod_Category_A_None  \n",
              "2       Closed Won  Prod_Category_A_None  \n",
              "3      Closed Lost  Prod_Category_A_None  \n",
              "4      Closed Lost  Prod_Category_A_None  \n",
              "...            ...                   ...  \n",
              "16942   Closed Won  Prod_Category_A_None  \n",
              "16943   Closed Won  Prod_Category_A_None  \n",
              "16944   Closed Won  Prod_Category_A_None  \n",
              "16945  Closed Lost  Prod_Category_A_None  \n",
              "16946  Closed Lost  Prod_Category_A_None  \n",
              "\n",
              "[16947 rows x 52 columns]"
            ],
            "text/html": "<div>\n<style scoped>\n    .dataframe tbody tr th:only-of-type {\n        vertical-align: middle;\n    }\n\n    .dataframe tbody tr th {\n        vertical-align: top;\n    }\n\n    .dataframe thead th {\n        text-align: right;\n    }\n</style>\n<table border=\"1\" class=\"dataframe\">\n  <thead>\n    <tr style=\"text-align: right;\">\n      <th></th>\n      <th>ID</th>\n      <th>Region</th>\n      <th>Territory</th>\n      <th>Pricing, Delivery_Terms_Quote_Appr</th>\n      <th>Pricing, Delivery_Terms_Approved</th>\n      <th>Bureaucratic_Code_0_Approval</th>\n      <th>Bureaucratic_Code_0_Approved</th>\n      <th>Submitted_for_Approval</th>\n      <th>Bureaucratic_Code</th>\n      <th>Account_Created_Date</th>\n      <th>...</th>\n      <th>Delivery_Quarter</th>\n      <th>Delivery_Year</th>\n      <th>Actual_Delivery_Date</th>\n      <th>TRF</th>\n      <th>Total_Amount_Currency</th>\n      <th>Total_Amount</th>\n      <th>Total_Taxable_Amount_Currency</th>\n      <th>Total_Taxable_Amount</th>\n      <th>Stage</th>\n      <th>Prod_Category_A</th>\n    </tr>\n  </thead>\n  <tbody>\n    <tr>\n      <th>0</th>\n      <td>27761</td>\n      <td>EMEA</td>\n      <td>None</td>\n      <td>1</td>\n      <td>1</td>\n      <td>1</td>\n      <td>1</td>\n      <td>0</td>\n      <td>Bureaucratic_Code_4</td>\n      <td>6/16/2015</td>\n      <td>...</td>\n      <td>Q2</td>\n      <td>2016</td>\n      <td>NaT</td>\n      <td>10</td>\n      <td>EUR</td>\n      <td>5272800.00</td>\n      <td>EUR</td>\n      <td>5272800.0</td>\n      <td>Closed Lost</td>\n      <td>Prod_Category_A_None</td>\n    </tr>\n    <tr>\n      <th>1</th>\n      <td>27760</td>\n      <td>EMEA</td>\n      <td>None</td>\n      <td>0</td>\n      <td>0</td>\n      <td>0</td>\n      <td>0</td>\n      <td>0</td>\n      <td>Bureaucratic_Code_4</td>\n      <td>6/16/2015</td>\n      <td>...</td>\n      <td>Q1</td>\n      <td>2016</td>\n      <td>NaT</td>\n      <td>0</td>\n      <td>EUR</td>\n      <td>48230.00</td>\n      <td>EUR</td>\n      <td>48230.0</td>\n      <td>Closed Won</td>\n      <td>Prod_Category_A_None</td>\n    </tr>\n    <tr>\n      <th>2</th>\n      <td>27446</td>\n      <td>Americas</td>\n      <td>NW America</td>\n      <td>0</td>\n      <td>0</td>\n      <td>0</td>\n      <td>0</td>\n      <td>0</td>\n      <td>Bureaucratic_Code_4</td>\n      <td>4/21/2015</td>\n      <td>...</td>\n      <td>Q1</td>\n      <td>2016</td>\n      <td>NaT</td>\n      <td>0</td>\n      <td>USD</td>\n      <td>83865.60</td>\n      <td>USD</td>\n      <td>83865.6</td>\n      <td>Closed Won</td>\n      <td>Prod_Category_A_None</td>\n    </tr>\n    <tr>\n      <th>3</th>\n      <td>16808</td>\n      <td>Americas</td>\n      <td>NW America</td>\n      <td>1</td>\n      <td>0</td>\n      <td>1</td>\n      <td>0</td>\n      <td>0</td>\n      <td>Bureaucratic_Code_5</td>\n      <td>7/27/2013</td>\n      <td>...</td>\n      <td>Q1</td>\n      <td>2018</td>\n      <td>NaT</td>\n      <td>14</td>\n      <td>USD</td>\n      <td>7421881.50</td>\n      <td>USD</td>\n      <td>7421881.5</td>\n      <td>Closed Lost</td>\n      <td>Prod_Category_A_None</td>\n    </tr>\n    <tr>\n      <th>4</th>\n      <td>16805</td>\n      <td>Americas</td>\n      <td>NW America</td>\n      <td>1</td>\n      <td>0</td>\n      <td>1</td>\n      <td>0</td>\n      <td>0</td>\n      <td>Bureaucratic_Code_5</td>\n      <td>7/27/2013</td>\n      <td>...</td>\n      <td>Q1</td>\n      <td>2018</td>\n      <td>NaT</td>\n      <td>25</td>\n      <td>USD</td>\n      <td>13357192.50</td>\n      <td>USD</td>\n      <td>13357192.5</td>\n      <td>Closed Lost</td>\n      <td>Prod_Category_A_None</td>\n    </tr>\n    <tr>\n      <th>...</th>\n      <td>...</td>\n      <td>...</td>\n      <td>...</td>\n      <td>...</td>\n      <td>...</td>\n      <td>...</td>\n      <td>...</td>\n      <td>...</td>\n      <td>...</td>\n      <td>...</td>\n      <td>...</td>\n      <td>...</td>\n      <td>...</td>\n      <td>...</td>\n      <td>...</td>\n      <td>...</td>\n      <td>...</td>\n      <td>...</td>\n      <td>...</td>\n      <td>...</td>\n      <td>...</td>\n    </tr>\n    <tr>\n      <th>16942</th>\n      <td>8781</td>\n      <td>EMEA</td>\n      <td>Austria</td>\n      <td>1</td>\n      <td>1</td>\n      <td>1</td>\n      <td>1</td>\n      <td>0</td>\n      <td>Bureaucratic_Code_4</td>\n      <td>1/15/2016</td>\n      <td>...</td>\n      <td>Q1</td>\n      <td>2016</td>\n      <td>NaT</td>\n      <td>0</td>\n      <td>EUR</td>\n      <td>103350.00</td>\n      <td>EUR</td>\n      <td>299715.0</td>\n      <td>Closed Won</td>\n      <td>Prod_Category_A_None</td>\n    </tr>\n    <tr>\n      <th>16943</th>\n      <td>8786</td>\n      <td>EMEA</td>\n      <td>Austria</td>\n      <td>1</td>\n      <td>1</td>\n      <td>1</td>\n      <td>1</td>\n      <td>0</td>\n      <td>Bureaucratic_Code_4</td>\n      <td>1/15/2016</td>\n      <td>...</td>\n      <td>Q2</td>\n      <td>2016</td>\n      <td>NaT</td>\n      <td>0</td>\n      <td>EUR</td>\n      <td>93015.00</td>\n      <td>EUR</td>\n      <td>299715.0</td>\n      <td>Closed Won</td>\n      <td>Prod_Category_A_None</td>\n    </tr>\n    <tr>\n      <th>16944</th>\n      <td>8792</td>\n      <td>EMEA</td>\n      <td>Austria</td>\n      <td>1</td>\n      <td>1</td>\n      <td>1</td>\n      <td>1</td>\n      <td>0</td>\n      <td>Bureaucratic_Code_4</td>\n      <td>1/15/2016</td>\n      <td>...</td>\n      <td>Q1</td>\n      <td>2016</td>\n      <td>NaT</td>\n      <td>0</td>\n      <td>EUR</td>\n      <td>103350.00</td>\n      <td>EUR</td>\n      <td>299715.0</td>\n      <td>Closed Won</td>\n      <td>Prod_Category_A_None</td>\n    </tr>\n    <tr>\n      <th>16945</th>\n      <td>28561</td>\n      <td>Americas</td>\n      <td>NE America</td>\n      <td>1</td>\n      <td>1</td>\n      <td>1</td>\n      <td>1</td>\n      <td>0</td>\n      <td>Bureaucratic_Code_4</td>\n      <td>10/20/2015</td>\n      <td>...</td>\n      <td>Q2</td>\n      <td>2016</td>\n      <td>NaT</td>\n      <td>4</td>\n      <td>USD</td>\n      <td>2346796.88</td>\n      <td>USD</td>\n      <td>0.0</td>\n      <td>Closed Lost</td>\n      <td>Prod_Category_A_None</td>\n    </tr>\n    <tr>\n      <th>16946</th>\n      <td>28318</td>\n      <td>Americas</td>\n      <td>NE America</td>\n      <td>1</td>\n      <td>1</td>\n      <td>1</td>\n      <td>1</td>\n      <td>0</td>\n      <td>Bureaucratic_Code_4</td>\n      <td>9/3/2015</td>\n      <td>...</td>\n      <td>Q3</td>\n      <td>2016</td>\n      <td>NaT</td>\n      <td>40</td>\n      <td>USD</td>\n      <td>25603200.00</td>\n      <td>USD</td>\n      <td>0.0</td>\n      <td>Closed Lost</td>\n      <td>Prod_Category_A_None</td>\n    </tr>\n  </tbody>\n</table>\n<p>16947 rows × 52 columns</p>\n</div>"
          },
          "metadata": {},
          "execution_count": 292
        }
      ]
    },
    {
      "cell_type": "markdown",
      "metadata": {
        "id": "adc2a1h2Doub"
      },
      "source": [
        "modifico los nombres de dos columnas"
      ]
    },
    {
      "cell_type": "code",
      "metadata": {
        "id": "yyYiS7JhGgbJ",
        "outputId": "a602e88c-7ffe-4cb8-99a6-9c277e128e1d",
        "colab": {
          "base_uri": "https://localhost:8080/"
        }
      },
      "source": [
        "df.columns"
      ],
      "execution_count": 293,
      "outputs": [
        {
          "output_type": "execute_result",
          "data": {
            "text/plain": [
              "Index(['ID', 'Region', 'Territory', 'Pricing, Delivery_Terms_Quote_Appr',\n",
              "       'Pricing, Delivery_Terms_Approved', 'Bureaucratic_Code_0_Approval',\n",
              "       'Bureaucratic_Code_0_Approved', 'Submitted_for_Approval',\n",
              "       'Bureaucratic_Code', 'Account_Created_Date', 'Source ',\n",
              "       'Billing_Country', 'Account_Name', 'Opportunity_Name', 'Opportunity_ID',\n",
              "       'Sales_Contract_No', 'Account_Owner', 'Opportunity_Owner',\n",
              "       'Account_Type', 'Opportunity_Type', 'Quote_Type', 'Delivery_Terms',\n",
              "       'Opportunity_Created_Date', 'Brand', 'Product_Type', 'Size',\n",
              "       'Product_Category_B', 'Price', 'Currency', 'Last_Activity',\n",
              "       'Quote_Expiry_Date', 'Last_Modified_Date', 'Last_Modified_By',\n",
              "       'Product_Family', 'Product_Name', 'ASP_Currency', 'ASP',\n",
              "       'ASP_(converted)_Currency', 'ASP_(converted)',\n",
              "       'Planned_Delivery_Start_Date', 'Planned_Delivery_End_Date', 'Month',\n",
              "       'Delivery_Quarter', 'Delivery_Year', 'Actual_Delivery_Date', 'TRF',\n",
              "       'Total_Amount_Currency', 'Total_Amount',\n",
              "       'Total_Taxable_Amount_Currency', 'Total_Taxable_Amount', 'Stage',\n",
              "       'Prod_Category_A'],\n",
              "      dtype='object')"
            ]
          },
          "metadata": {},
          "execution_count": 293
        }
      ]
    },
    {
      "cell_type": "code",
      "metadata": {
        "id": "CvowjUHlCHuG"
      },
      "source": [
        "dfBiss = pd.read_csv(url)\n",
        "dfBis = dfBiss.drop_duplicates(subset=\"Opportunity_Name\")\n",
        "dfBis.columns = ['ID', 'Region', 'Territory', 'Pricing_Delivery_Terms_Quote_Approval','Pricing_Delivery_Terms_Approved', 'Bureaucratic_Code_0_Approval','Bureaucratic_Code_0_Approved', 'Submitted_for_Approval','Bureaucratic_Code', 'Account_Created_Date', 'Source ','Billing_Country', 'Account_Name', 'Opportunity_Name', 'Opportunity_ID','Sales_Contract_No', 'Account_Owner', 'Opportunity_Owner','Account_Type', 'Opportunity_Type', 'Quote_Type', 'Delivery_Terms','Opportunity_Created_Date', 'Brand', 'Product_Type', 'Size','Product_Category_B', 'Price', 'Currency', 'Last_Activity','Quote_Expiry_Date', 'Last_Modified_Date', 'Last_Modified_By','Product_Family', 'Product_Name', 'ASP_Currency', 'ASP','ASP_(converted)_Currency', 'ASP_(converted)','Planned_Delivery_Start_Date', 'Planned_Delivery_End_Date', 'Month','Delivery_Quarter', 'Delivery_Year', 'Actual_Delivery_Date', 'TRF','Total_Amount_Currency', 'Total_Amount','Total_Taxable_Amount_Currency', 'Total_Taxable_Amount', 'Stage','Prod_Category_A']"
      ],
      "execution_count": 294,
      "outputs": [
        {
          "output_type": "error",
          "ename": "KeyError",
          "evalue": "Index(['Opportunity_Name'], dtype='object')",
          "traceback": [
            "\u001b[0;31m---------------------------------------------------------------------------\u001b[0m",
            "\u001b[0;31mKeyError\u001b[0m                                  Traceback (most recent call last)",
            "\u001b[0;32m<ipython-input-294-6af33cb2d4c0>\u001b[0m in \u001b[0;36m<module>\u001b[0;34m\u001b[0m\n\u001b[1;32m      1\u001b[0m \u001b[0mdfBiss\u001b[0m \u001b[0;34m=\u001b[0m \u001b[0mpd\u001b[0m\u001b[0;34m.\u001b[0m\u001b[0mread_csv\u001b[0m\u001b[0;34m(\u001b[0m\u001b[0murl\u001b[0m\u001b[0;34m)\u001b[0m\u001b[0;34m\u001b[0m\u001b[0;34m\u001b[0m\u001b[0m\n\u001b[0;32m----> 2\u001b[0;31m \u001b[0mdfBis\u001b[0m \u001b[0;34m=\u001b[0m \u001b[0mdfBiss\u001b[0m\u001b[0;34m.\u001b[0m\u001b[0mdrop_duplicates\u001b[0m\u001b[0;34m(\u001b[0m\u001b[0msubset\u001b[0m\u001b[0;34m=\u001b[0m\u001b[0;34m\"Opportunity_Name\"\u001b[0m\u001b[0;34m)\u001b[0m\u001b[0;34m\u001b[0m\u001b[0;34m\u001b[0m\u001b[0m\n\u001b[0m\u001b[1;32m      3\u001b[0m \u001b[0mdfBis\u001b[0m\u001b[0;34m.\u001b[0m\u001b[0mcolumns\u001b[0m \u001b[0;34m=\u001b[0m \u001b[0;34m[\u001b[0m\u001b[0;34m'ID'\u001b[0m\u001b[0;34m,\u001b[0m \u001b[0;34m'Region'\u001b[0m\u001b[0;34m,\u001b[0m \u001b[0;34m'Territory'\u001b[0m\u001b[0;34m,\u001b[0m \u001b[0;34m'Pricing_Delivery_Terms_Quote_Approval'\u001b[0m\u001b[0;34m,\u001b[0m\u001b[0;34m'Pricing_Delivery_Terms_Approved'\u001b[0m\u001b[0;34m,\u001b[0m \u001b[0;34m'Bureaucratic_Code_0_Approval'\u001b[0m\u001b[0;34m,\u001b[0m\u001b[0;34m'Bureaucratic_Code_0_Approved'\u001b[0m\u001b[0;34m,\u001b[0m \u001b[0;34m'Submitted_for_Approval'\u001b[0m\u001b[0;34m,\u001b[0m\u001b[0;34m'Bureaucratic_Code'\u001b[0m\u001b[0;34m,\u001b[0m \u001b[0;34m'Account_Created_Date'\u001b[0m\u001b[0;34m,\u001b[0m \u001b[0;34m'Source '\u001b[0m\u001b[0;34m,\u001b[0m\u001b[0;34m'Billing_Country'\u001b[0m\u001b[0;34m,\u001b[0m \u001b[0;34m'Account_Name'\u001b[0m\u001b[0;34m,\u001b[0m \u001b[0;34m'Opportunity_Name'\u001b[0m\u001b[0;34m,\u001b[0m \u001b[0;34m'Opportunity_ID'\u001b[0m\u001b[0;34m,\u001b[0m\u001b[0;34m'Sales_Contract_No'\u001b[0m\u001b[0;34m,\u001b[0m \u001b[0;34m'Account_Owner'\u001b[0m\u001b[0;34m,\u001b[0m \u001b[0;34m'Opportunity_Owner'\u001b[0m\u001b[0;34m,\u001b[0m\u001b[0;34m'Account_Type'\u001b[0m\u001b[0;34m,\u001b[0m \u001b[0;34m'Opportunity_Type'\u001b[0m\u001b[0;34m,\u001b[0m \u001b[0;34m'Quote_Type'\u001b[0m\u001b[0;34m,\u001b[0m \u001b[0;34m'Delivery_Terms'\u001b[0m\u001b[0;34m,\u001b[0m\u001b[0;34m'Opportunity_Created_Date'\u001b[0m\u001b[0;34m,\u001b[0m \u001b[0;34m'Brand'\u001b[0m\u001b[0;34m,\u001b[0m \u001b[0;34m'Product_Type'\u001b[0m\u001b[0;34m,\u001b[0m \u001b[0;34m'Size'\u001b[0m\u001b[0;34m,\u001b[0m\u001b[0;34m'Product_Category_B'\u001b[0m\u001b[0;34m,\u001b[0m \u001b[0;34m'Price'\u001b[0m\u001b[0;34m,\u001b[0m \u001b[0;34m'Currency'\u001b[0m\u001b[0;34m,\u001b[0m \u001b[0;34m'Last_Activity'\u001b[0m\u001b[0;34m,\u001b[0m\u001b[0;34m'Quote_Expiry_Date'\u001b[0m\u001b[0;34m,\u001b[0m \u001b[0;34m'Last_Modified_Date'\u001b[0m\u001b[0;34m,\u001b[0m \u001b[0;34m'Last_Modified_By'\u001b[0m\u001b[0;34m,\u001b[0m\u001b[0;34m'Product_Family'\u001b[0m\u001b[0;34m,\u001b[0m \u001b[0;34m'Product_Name'\u001b[0m\u001b[0;34m,\u001b[0m \u001b[0;34m'ASP_Currency'\u001b[0m\u001b[0;34m,\u001b[0m \u001b[0;34m'ASP'\u001b[0m\u001b[0;34m,\u001b[0m\u001b[0;34m'ASP_(converted)_Currency'\u001b[0m\u001b[0;34m,\u001b[0m \u001b[0;34m'ASP_(converted)'\u001b[0m\u001b[0;34m,\u001b[0m\u001b[0;34m'Planned_Delivery_Start_Date'\u001b[0m\u001b[0;34m,\u001b[0m \u001b[0;34m'Planned_Delivery_End_Date'\u001b[0m\u001b[0;34m,\u001b[0m \u001b[0;34m'Month'\u001b[0m\u001b[0;34m,\u001b[0m\u001b[0;34m'Delivery_Quarter'\u001b[0m\u001b[0;34m,\u001b[0m \u001b[0;34m'Delivery_Year'\u001b[0m\u001b[0;34m,\u001b[0m \u001b[0;34m'Actual_Delivery_Date'\u001b[0m\u001b[0;34m,\u001b[0m \u001b[0;34m'TRF'\u001b[0m\u001b[0;34m,\u001b[0m\u001b[0;34m'Total_Amount_Currency'\u001b[0m\u001b[0;34m,\u001b[0m \u001b[0;34m'Total_Amount'\u001b[0m\u001b[0;34m,\u001b[0m\u001b[0;34m'Total_Taxable_Amount_Currency'\u001b[0m\u001b[0;34m,\u001b[0m \u001b[0;34m'Total_Taxable_Amount'\u001b[0m\u001b[0;34m,\u001b[0m \u001b[0;34m'Stage'\u001b[0m\u001b[0;34m,\u001b[0m\u001b[0;34m'Prod_Category_A'\u001b[0m\u001b[0;34m]\u001b[0m\u001b[0;34m\u001b[0m\u001b[0;34m\u001b[0m\u001b[0m\n",
            "\u001b[0;32m/usr/lib64/python3.8/site-packages/pandas/core/frame.py\u001b[0m in \u001b[0;36mdrop_duplicates\u001b[0;34m(self, subset, keep, inplace)\u001b[0m\n\u001b[1;32m   4907\u001b[0m \u001b[0;34m\u001b[0m\u001b[0m\n\u001b[1;32m   4908\u001b[0m         \u001b[0minplace\u001b[0m \u001b[0;34m=\u001b[0m \u001b[0mvalidate_bool_kwarg\u001b[0m\u001b[0;34m(\u001b[0m\u001b[0minplace\u001b[0m\u001b[0;34m,\u001b[0m \u001b[0;34m\"inplace\"\u001b[0m\u001b[0;34m)\u001b[0m\u001b[0;34m\u001b[0m\u001b[0;34m\u001b[0m\u001b[0m\n\u001b[0;32m-> 4909\u001b[0;31m         \u001b[0mduplicated\u001b[0m \u001b[0;34m=\u001b[0m \u001b[0mself\u001b[0m\u001b[0;34m.\u001b[0m\u001b[0mduplicated\u001b[0m\u001b[0;34m(\u001b[0m\u001b[0msubset\u001b[0m\u001b[0;34m,\u001b[0m \u001b[0mkeep\u001b[0m\u001b[0;34m=\u001b[0m\u001b[0mkeep\u001b[0m\u001b[0;34m)\u001b[0m\u001b[0;34m\u001b[0m\u001b[0;34m\u001b[0m\u001b[0m\n\u001b[0m\u001b[1;32m   4910\u001b[0m \u001b[0;34m\u001b[0m\u001b[0m\n\u001b[1;32m   4911\u001b[0m         \u001b[0;32mif\u001b[0m \u001b[0minplace\u001b[0m\u001b[0;34m:\u001b[0m\u001b[0;34m\u001b[0m\u001b[0;34m\u001b[0m\u001b[0m\n",
            "\u001b[0;32m/usr/lib64/python3.8/site-packages/pandas/core/frame.py\u001b[0m in \u001b[0;36mduplicated\u001b[0;34m(self, subset, keep)\u001b[0m\n\u001b[1;32m   4964\u001b[0m         \u001b[0mdiff\u001b[0m \u001b[0;34m=\u001b[0m \u001b[0mIndex\u001b[0m\u001b[0;34m(\u001b[0m\u001b[0msubset\u001b[0m\u001b[0;34m)\u001b[0m\u001b[0;34m.\u001b[0m\u001b[0mdifference\u001b[0m\u001b[0;34m(\u001b[0m\u001b[0mself\u001b[0m\u001b[0;34m.\u001b[0m\u001b[0mcolumns\u001b[0m\u001b[0;34m)\u001b[0m\u001b[0;34m\u001b[0m\u001b[0;34m\u001b[0m\u001b[0m\n\u001b[1;32m   4965\u001b[0m         \u001b[0;32mif\u001b[0m \u001b[0;32mnot\u001b[0m \u001b[0mdiff\u001b[0m\u001b[0;34m.\u001b[0m\u001b[0mempty\u001b[0m\u001b[0;34m:\u001b[0m\u001b[0;34m\u001b[0m\u001b[0;34m\u001b[0m\u001b[0m\n\u001b[0;32m-> 4966\u001b[0;31m             \u001b[0;32mraise\u001b[0m \u001b[0mKeyError\u001b[0m\u001b[0;34m(\u001b[0m\u001b[0mdiff\u001b[0m\u001b[0;34m)\u001b[0m\u001b[0;34m\u001b[0m\u001b[0;34m\u001b[0m\u001b[0m\n\u001b[0m\u001b[1;32m   4967\u001b[0m \u001b[0;34m\u001b[0m\u001b[0m\n\u001b[1;32m   4968\u001b[0m         \u001b[0mvals\u001b[0m \u001b[0;34m=\u001b[0m \u001b[0;34m(\u001b[0m\u001b[0mcol\u001b[0m\u001b[0;34m.\u001b[0m\u001b[0mvalues\u001b[0m \u001b[0;32mfor\u001b[0m \u001b[0mname\u001b[0m\u001b[0;34m,\u001b[0m \u001b[0mcol\u001b[0m \u001b[0;32min\u001b[0m \u001b[0mself\u001b[0m\u001b[0;34m.\u001b[0m\u001b[0mitems\u001b[0m\u001b[0;34m(\u001b[0m\u001b[0;34m)\u001b[0m \u001b[0;32mif\u001b[0m \u001b[0mname\u001b[0m \u001b[0;32min\u001b[0m \u001b[0msubset\u001b[0m\u001b[0;34m)\u001b[0m\u001b[0;34m\u001b[0m\u001b[0;34m\u001b[0m\u001b[0m\n",
            "\u001b[0;31mKeyError\u001b[0m: Index(['Opportunity_Name'], dtype='object')"
          ]
        }
      ]
    },
    {
      "cell_type": "markdown",
      "metadata": {
        "id": "AyJC0qW1IgsF"
      },
      "source": [
        "Recupero la cantidad de oportunidades que necesitan aprobacion y los que no nequieren aprobacion"
      ]
    },
    {
      "cell_type": "code",
      "metadata": {
        "id": "5pm-aDehI5k-",
        "outputId": "8f4c4aff-dde9-4964-af74-c2f297ad0772",
        "colab": {
          "base_uri": "https://localhost:8080/",
          "height": 111
        }
      },
      "source": [
        "df_apro = dfBis[['Pricing_Delivery_Terms_Quote_Approval', 'Pricing_Delivery_Terms_Quote_Approval']]\n",
        "df_apro.columns = ['Pricing_Delivery_Terms_Quote_Approval', 'Total_Precios_apro']\n",
        "df_apro = df_apro.groupby('Pricing_Delivery_Terms_Quote_Approval').count().sort_values(by=['Total_Precios_apro'],ascending=False).reset_index()\n",
        "df_apro.loc[df_apro[\"Pricing_Delivery_Terms_Quote_Approval\"] == 1,\"Pricing_Delivery_Terms_Quote_Approval\"] = 'requiere_aprobacion'\n",
        "df_apro.loc[df_apro[\"Pricing_Delivery_Terms_Quote_Approval\"] == 0,\"Pricing_Delivery_Terms_Quote_Approval\"] = 'no_requiere_aprobacion'\n",
        "df_apro"
      ],
      "execution_count": 54,
      "outputs": [
        {
          "output_type": "execute_result",
          "data": {
            "text/plain": [
              "  Pricing_Delivery_Terms_Quote_Approval  Total_Precios_apro\n",
              "0                   requiere_aprobacion                7514\n",
              "1                no_requiere_aprobacion                2327"
            ],
            "text/html": "<div>\n<style scoped>\n    .dataframe tbody tr th:only-of-type {\n        vertical-align: middle;\n    }\n\n    .dataframe tbody tr th {\n        vertical-align: top;\n    }\n\n    .dataframe thead th {\n        text-align: right;\n    }\n</style>\n<table border=\"1\" class=\"dataframe\">\n  <thead>\n    <tr style=\"text-align: right;\">\n      <th></th>\n      <th>Pricing_Delivery_Terms_Quote_Approval</th>\n      <th>Total_Precios_apro</th>\n    </tr>\n  </thead>\n  <tbody>\n    <tr>\n      <th>0</th>\n      <td>requiere_aprobacion</td>\n      <td>7514</td>\n    </tr>\n    <tr>\n      <th>1</th>\n      <td>no_requiere_aprobacion</td>\n      <td>2327</td>\n    </tr>\n  </tbody>\n</table>\n</div>"
          },
          "metadata": {},
          "execution_count": 54
        }
      ]
    },
    {
      "cell_type": "markdown",
      "metadata": {
        "id": "UPUZZXPQLskW"
      },
      "source": [
        "Recupero la cantidad total de los aprobados de los que necesitaban aprobacion"
      ]
    },
    {
      "cell_type": "code",
      "metadata": {
        "id": "NdODyzrzL9lc",
        "outputId": "a9063df4-504c-4b4c-9724-da54e04e9159",
        "colab": {
          "base_uri": "https://localhost:8080/",
          "height": 111
        }
      },
      "source": [
        "df_aprobados = dfBis.loc[dfBis.Pricing_Delivery_Terms_Quote_Approval == 1, : ]\n",
        "df_aprobados = df_aprobados[['Pricing_Delivery_Terms_Approved','Pricing_Delivery_Terms_Approved']]\n",
        "df_aprobados.columns = ['Pricing_Delivery_Terms_Approved', 'Total_Precios_aprobados']\n",
        "df_aprobados = df_aprobados.groupby('Pricing_Delivery_Terms_Approved').count().sort_values(by=['Total_Precios_aprobados'],ascending=False).reset_index()\n",
        "df_aprobados.loc[df_aprobados[\"Pricing_Delivery_Terms_Approved\"] == 1,\"Pricing_Delivery_Terms_Approved\"] = 'aprobado'\n",
        "df_aprobados.loc[df_aprobados[\"Pricing_Delivery_Terms_Approved\"] == 0,\"Pricing_Delivery_Terms_Approved\"] = 'no_aprobaron'\n",
        "df_aprobados"
      ],
      "execution_count": 55,
      "outputs": [
        {
          "output_type": "execute_result",
          "data": {
            "text/plain": [
              "  Pricing_Delivery_Terms_Approved  Total_Precios_aprobados\n",
              "0                        aprobado                     5416\n",
              "1                    no_aprobaron                     2098"
            ],
            "text/html": "<div>\n<style scoped>\n    .dataframe tbody tr th:only-of-type {\n        vertical-align: middle;\n    }\n\n    .dataframe tbody tr th {\n        vertical-align: top;\n    }\n\n    .dataframe thead th {\n        text-align: right;\n    }\n</style>\n<table border=\"1\" class=\"dataframe\">\n  <thead>\n    <tr style=\"text-align: right;\">\n      <th></th>\n      <th>Pricing_Delivery_Terms_Approved</th>\n      <th>Total_Precios_aprobados</th>\n    </tr>\n  </thead>\n  <tbody>\n    <tr>\n      <th>0</th>\n      <td>aprobado</td>\n      <td>5416</td>\n    </tr>\n    <tr>\n      <th>1</th>\n      <td>no_aprobaron</td>\n      <td>2098</td>\n    </tr>\n  </tbody>\n</table>\n</div>"
          },
          "metadata": {},
          "execution_count": 55
        }
      ]
    },
    {
      "cell_type": "markdown",
      "metadata": {
        "id": "jyCz8ovxdYFi"
      },
      "source": [
        "Los que se aprobaron y los que no requieren aprobacion forman los aprobados"
      ]
    },
    {
      "cell_type": "code",
      "metadata": {
        "id": "PhNeGNsQu5TJ"
      },
      "source": [
        ""
      ],
      "execution_count": 258,
      "outputs": []
    },
    {
      "cell_type": "code",
      "metadata": {
        "id": "z5J8AbZ0sl1M",
        "outputId": "16e563c9-416a-4d19-a285-4a1af7b9842f",
        "colab": {
          "base_uri": "https://localhost:8080/",
          "height": 111
        }
      },
      "source": [
        "df_aux1 = df_apro[['Pricing_Delivery_Terms_Quote_Approval', 'Total_Precios_apro']]\n",
        "df_aux1.loc[df_aux1[\"Pricing_Delivery_Terms_Quote_Approval\"] == 'no_requiere_aprobacion',\"Pricing_Delivery_Terms_Quote_Approval\"] = 'aprobado'\n",
        "df_aux1.columns = ['Pricing_Delivery_Terms_Approved', 'Total_Precios_apro']\n",
        "df_aux1"
      ],
      "execution_count": 56,
      "outputs": [
        {
          "output_type": "execute_result",
          "data": {
            "text/plain": [
              "  Pricing_Delivery_Terms_Approved  Total_Precios_apro\n",
              "0             requiere_aprobacion                7514\n",
              "1                        aprobado                2327"
            ],
            "text/html": "<div>\n<style scoped>\n    .dataframe tbody tr th:only-of-type {\n        vertical-align: middle;\n    }\n\n    .dataframe tbody tr th {\n        vertical-align: top;\n    }\n\n    .dataframe thead th {\n        text-align: right;\n    }\n</style>\n<table border=\"1\" class=\"dataframe\">\n  <thead>\n    <tr style=\"text-align: right;\">\n      <th></th>\n      <th>Pricing_Delivery_Terms_Approved</th>\n      <th>Total_Precios_apro</th>\n    </tr>\n  </thead>\n  <tbody>\n    <tr>\n      <th>0</th>\n      <td>requiere_aprobacion</td>\n      <td>7514</td>\n    </tr>\n    <tr>\n      <th>1</th>\n      <td>aprobado</td>\n      <td>2327</td>\n    </tr>\n  </tbody>\n</table>\n</div>"
          },
          "metadata": {},
          "execution_count": 56
        }
      ]
    },
    {
      "cell_type": "code",
      "metadata": {
        "id": "hAMm254VdxqY",
        "outputId": "d6d73836-5bc7-48d3-f813-a03e9432c4ed",
        "colab": {
          "base_uri": "https://localhost:8080/",
          "height": 111
        }
      },
      "source": [
        "df_aprob_no_aprob = df_aprobados.merge(df_aux1, left_on='Pricing_Delivery_Terms_Approved', right_on='Pricing_Delivery_Terms_Approved',how='left')\n",
        "df_aprob_no_aprob['Total_Precios_apro'] = df_aprob_no_aprob['Total_Precios_apro'].replace(np.nan, 0)\n",
        "df_aprob_no_aprob "
      ],
      "execution_count": 57,
      "outputs": [
        {
          "output_type": "execute_result",
          "data": {
            "text/plain": [
              "  Pricing_Delivery_Terms_Approved  Total_Precios_aprobados  Total_Precios_apro\n",
              "0                        aprobado                     5416              2327.0\n",
              "1                    no_aprobaron                     2098                 0.0"
            ],
            "text/html": "<div>\n<style scoped>\n    .dataframe tbody tr th:only-of-type {\n        vertical-align: middle;\n    }\n\n    .dataframe tbody tr th {\n        vertical-align: top;\n    }\n\n    .dataframe thead th {\n        text-align: right;\n    }\n</style>\n<table border=\"1\" class=\"dataframe\">\n  <thead>\n    <tr style=\"text-align: right;\">\n      <th></th>\n      <th>Pricing_Delivery_Terms_Approved</th>\n      <th>Total_Precios_aprobados</th>\n      <th>Total_Precios_apro</th>\n    </tr>\n  </thead>\n  <tbody>\n    <tr>\n      <th>0</th>\n      <td>aprobado</td>\n      <td>5416</td>\n      <td>2327.0</td>\n    </tr>\n    <tr>\n      <th>1</th>\n      <td>no_aprobaron</td>\n      <td>2098</td>\n      <td>0.0</td>\n    </tr>\n  </tbody>\n</table>\n</div>"
          },
          "metadata": {},
          "execution_count": 57
        }
      ]
    },
    {
      "cell_type": "code",
      "metadata": {
        "id": "sGvdQUS7ud-3",
        "outputId": "de0e1a0c-4e9a-4884-c809-9f6bf3547b52",
        "colab": {
          "base_uri": "https://localhost:8080/",
          "height": 111
        }
      },
      "source": [
        "df_aprob_no_aprob['Total_aprobados_y_no_aprobados'] = df_aprob_no_aprob.Total_Precios_aprobados + df_aprob_no_aprob.Total_Precios_apro\n",
        "df_aprob_no_aprob = df_aprob_no_aprob[['Pricing_Delivery_Terms_Approved','Total_aprobados_y_no_aprobados']]\n",
        "df_aprob_no_aprob"
      ],
      "execution_count": 58,
      "outputs": [
        {
          "output_type": "execute_result",
          "data": {
            "text/plain": [
              "  Pricing_Delivery_Terms_Approved  Total_aprobados_y_no_aprobados\n",
              "0                        aprobado                          7743.0\n",
              "1                    no_aprobaron                          2098.0"
            ],
            "text/html": "<div>\n<style scoped>\n    .dataframe tbody tr th:only-of-type {\n        vertical-align: middle;\n    }\n\n    .dataframe tbody tr th {\n        vertical-align: top;\n    }\n\n    .dataframe thead th {\n        text-align: right;\n    }\n</style>\n<table border=\"1\" class=\"dataframe\">\n  <thead>\n    <tr style=\"text-align: right;\">\n      <th></th>\n      <th>Pricing_Delivery_Terms_Approved</th>\n      <th>Total_aprobados_y_no_aprobados</th>\n    </tr>\n  </thead>\n  <tbody>\n    <tr>\n      <th>0</th>\n      <td>aprobado</td>\n      <td>7743.0</td>\n    </tr>\n    <tr>\n      <th>1</th>\n      <td>no_aprobaron</td>\n      <td>2098.0</td>\n    </tr>\n  </tbody>\n</table>\n</div>"
          },
          "metadata": {},
          "execution_count": 58
        }
      ]
    },
    {
      "cell_type": "markdown",
      "metadata": {
        "id": "AEWTuPsIPLGB"
      },
      "source": [
        "Recupero totales de oportunidades ganadas y perdidas segun con criterio de si vienen de las oportunidades que necesitaron aprobacion o no"
      ]
    },
    {
      "cell_type": "code",
      "metadata": {
        "id": "YnjJGu3hPgHv",
        "outputId": "c7d185d2-9354-4948-b081-453835f997e4",
        "colab": {
          "base_uri": "https://localhost:8080/",
          "height": 111
        }
      },
      "source": [
        "df_oport_aprobacion_true = dfBis.loc[(dfBis.Pricing_Delivery_Terms_Approved == 1), : ]\n",
        "df_oport_aprobacion_true = df_oport_aprobacion_true[['Stage']]\n",
        "df_oport_aprobacion_true['Total_oportinudades'] = '1'\n",
        "df_oport_aprobacion_true = df_oport_aprobacion_true.groupby('Stage').count().sort_values(by=['Total_oportinudades'],ascending=False).reset_index()\n",
        "df_oport_aprobacion_true = df_oport_aprobacion_true.loc[((df_oport_aprobacion_true.Stage == 'Closed Lost') | (df_oport_aprobacion_true.Stage == 'Closed Won')), : ]\n",
        "df_oport_aprobacion_true"
      ],
      "execution_count": 59,
      "outputs": [
        {
          "output_type": "execute_result",
          "data": {
            "text/plain": [
              "         Stage  Total_oportinudades\n",
              "0   Closed Won                 3066\n",
              "1  Closed Lost                 2318"
            ],
            "text/html": "<div>\n<style scoped>\n    .dataframe tbody tr th:only-of-type {\n        vertical-align: middle;\n    }\n\n    .dataframe tbody tr th {\n        vertical-align: top;\n    }\n\n    .dataframe thead th {\n        text-align: right;\n    }\n</style>\n<table border=\"1\" class=\"dataframe\">\n  <thead>\n    <tr style=\"text-align: right;\">\n      <th></th>\n      <th>Stage</th>\n      <th>Total_oportinudades</th>\n    </tr>\n  </thead>\n  <tbody>\n    <tr>\n      <th>0</th>\n      <td>Closed Won</td>\n      <td>3066</td>\n    </tr>\n    <tr>\n      <th>1</th>\n      <td>Closed Lost</td>\n      <td>2318</td>\n    </tr>\n  </tbody>\n</table>\n</div>"
          },
          "metadata": {},
          "execution_count": 59
        }
      ]
    },
    {
      "cell_type": "code",
      "metadata": {
        "id": "Hv3Rkpl4Y981",
        "outputId": "6d76d23f-51c9-48bb-9363-b049b654470b",
        "colab": {
          "base_uri": "https://localhost:8080/",
          "height": 49
        }
      },
      "source": [
        "df_oport_aprobacion_false = dfBis.loc[((df_apro.Pricing_Delivery_Terms_Quote_Approval == 1) & (dfBis.Pricing_Delivery_Terms_Approved == 0)), : ]\n",
        "df_oport_aprobacion_false = df_oport_aprobacion_false[['Stage']]\n",
        "df_oport_aprobacion_false['Total_oportinudades'] = '1'\n",
        "df_oport_aprobacion_false = df_oport_aprobacion_false.groupby('Stage').count().sort_values(by=['Total_oportinudades'],ascending=False).reset_index()\n",
        "df_oport_aprobacion_false = df_oport_aprobacion_false.loc[((df_oport_aprobacion_false.Stage == 'Closed Lost') | (df_oport_aprobacion_false.Stage == 'Closed Won')), : ]\n",
        "df_oport_aprobacion_false"
      ],
      "execution_count": 60,
      "outputs": [
        {
          "output_type": "execute_result",
          "data": {
            "text/plain": [
              "Empty DataFrame\n",
              "Columns: [Stage, Total_oportinudades]\n",
              "Index: []"
            ],
            "text/html": "<div>\n<style scoped>\n    .dataframe tbody tr th:only-of-type {\n        vertical-align: middle;\n    }\n\n    .dataframe tbody tr th {\n        vertical-align: top;\n    }\n\n    .dataframe thead th {\n        text-align: right;\n    }\n</style>\n<table border=\"1\" class=\"dataframe\">\n  <thead>\n    <tr style=\"text-align: right;\">\n      <th></th>\n      <th>Stage</th>\n      <th>Total_oportinudades</th>\n    </tr>\n  </thead>\n  <tbody>\n  </tbody>\n</table>\n</div>"
          },
          "metadata": {},
          "execution_count": 60
        }
      ]
    },
    {
      "cell_type": "markdown",
      "metadata": {
        "id": "6nIqop5_Rwbm"
      },
      "source": [
        "Recupero regiones con lost o won"
      ]
    },
    {
      "cell_type": "code",
      "metadata": {
        "id": "ZRYcKRUxHypz",
        "outputId": "9cc882ce-ba0d-4a81-bb20-69ab76a610be",
        "colab": {
          "base_uri": "https://localhost:8080/",
          "height": 204
        }
      },
      "source": [
        "df_region_opor_won = dfBis.loc[(dfBis.Stage == 'Closed Won'), : ]\n",
        "df_region_opor_won = df_region_opor_won[['Region']]\n",
        "df_region_opor_won['Total_oportunidades'] = '1'\n",
        "df_region_opor_won = df_region_opor_won.groupby('Region').count().sort_values(by=['Total_oportunidades'],ascending=False).reset_index()\n",
        "df_region_opor_won"
      ],
      "execution_count": 61,
      "outputs": [
        {
          "output_type": "execute_result",
          "data": {
            "text/plain": [
              "        Region  Total_oportunidades\n",
              "0         EMEA                 1500\n",
              "1        Japan                 1290\n",
              "2         APAC                 1155\n",
              "3     Americas                 1094\n",
              "4  Middle East                   33"
            ],
            "text/html": "<div>\n<style scoped>\n    .dataframe tbody tr th:only-of-type {\n        vertical-align: middle;\n    }\n\n    .dataframe tbody tr th {\n        vertical-align: top;\n    }\n\n    .dataframe thead th {\n        text-align: right;\n    }\n</style>\n<table border=\"1\" class=\"dataframe\">\n  <thead>\n    <tr style=\"text-align: right;\">\n      <th></th>\n      <th>Region</th>\n      <th>Total_oportunidades</th>\n    </tr>\n  </thead>\n  <tbody>\n    <tr>\n      <th>0</th>\n      <td>EMEA</td>\n      <td>1500</td>\n    </tr>\n    <tr>\n      <th>1</th>\n      <td>Japan</td>\n      <td>1290</td>\n    </tr>\n    <tr>\n      <th>2</th>\n      <td>APAC</td>\n      <td>1155</td>\n    </tr>\n    <tr>\n      <th>3</th>\n      <td>Americas</td>\n      <td>1094</td>\n    </tr>\n    <tr>\n      <th>4</th>\n      <td>Middle East</td>\n      <td>33</td>\n    </tr>\n  </tbody>\n</table>\n</div>"
          },
          "metadata": {},
          "execution_count": 61
        }
      ]
    },
    {
      "cell_type": "code",
      "metadata": {
        "id": "3xq4zLajJIwq",
        "outputId": "791faff5-65fd-4abb-a7e3-918fe459c314",
        "colab": {
          "base_uri": "https://localhost:8080/",
          "height": 204
        }
      },
      "source": [
        "df_region_opor_lost = dfBis.loc[(dfBis.Stage == 'Closed Lost'), : ]\n",
        "df_region_opor_lost = df_region_opor_lost[['Region']]\n",
        "df_region_opor_lost['Total_oportunidades'] = '1'\n",
        "df_region_opor_lost = df_region_opor_lost.groupby('Region').count().sort_values(by=['Total_oportunidades'],ascending=False).reset_index()\n",
        "df_region_opor_lost"
      ],
      "execution_count": 62,
      "outputs": [
        {
          "output_type": "execute_result",
          "data": {
            "text/plain": [
              "        Region  Total_oportunidades\n",
              "0         EMEA                 1737\n",
              "1     Americas                 1358\n",
              "2         APAC                  924\n",
              "3        Japan                  595\n",
              "4  Middle East                  105"
            ],
            "text/html": "<div>\n<style scoped>\n    .dataframe tbody tr th:only-of-type {\n        vertical-align: middle;\n    }\n\n    .dataframe tbody tr th {\n        vertical-align: top;\n    }\n\n    .dataframe thead th {\n        text-align: right;\n    }\n</style>\n<table border=\"1\" class=\"dataframe\">\n  <thead>\n    <tr style=\"text-align: right;\">\n      <th></th>\n      <th>Region</th>\n      <th>Total_oportunidades</th>\n    </tr>\n  </thead>\n  <tbody>\n    <tr>\n      <th>0</th>\n      <td>EMEA</td>\n      <td>1737</td>\n    </tr>\n    <tr>\n      <th>1</th>\n      <td>Americas</td>\n      <td>1358</td>\n    </tr>\n    <tr>\n      <th>2</th>\n      <td>APAC</td>\n      <td>924</td>\n    </tr>\n    <tr>\n      <th>3</th>\n      <td>Japan</td>\n      <td>595</td>\n    </tr>\n    <tr>\n      <th>4</th>\n      <td>Middle East</td>\n      <td>105</td>\n    </tr>\n  </tbody>\n</table>\n</div>"
          },
          "metadata": {},
          "execution_count": 62
        }
      ]
    },
    {
      "cell_type": "markdown",
      "metadata": {
        "id": "Tpc6wsKpA2_P"
      },
      "source": [
        "Con los datos recolectados se pude construir la siguiente estructura"
      ]
    },
    {
      "cell_type": "code",
      "metadata": {
        "id": "9hlOIO3v66UI",
        "outputId": "999826b8-a039-4d69-e15c-f6bb27c6ff3c",
        "colab": {
          "base_uri": "https://localhost:8080/",
          "height": 576
        }
      },
      "source": [
        "url = 'https://github.com/Fiuba-Big-Data-Analytics/Fiuba-Big-Data-Analytics-TPs/raw/main/Tp1/Datos/oportunidades_por_region.csv'\n",
        "oportunidades_po_region = pd.read_csv(url)\n",
        "oportunidades_po_region"
      ],
      "execution_count": 63,
      "outputs": [
        {
          "output_type": "execute_result",
          "data": {
            "text/plain": [
              "                     Source          Dest  Value\n",
              "0      requieren_aprobacion      aprobado   5416\n",
              "1      requieren_aprobacion   no_aprobado   2098\n",
              "2   no_requieren_aprobacion      aprobado   2327\n",
              "3                  aprobado   Closed Won    2327\n",
              "4                  aprobado   Closed Won    3066\n",
              "5                  aprobado  Closed Lost    2318\n",
              "6               no_aprobado  Closed Lost    2098\n",
              "7               Closed Lost         Japan    598\n",
              "8               Closed Lost          EMEA   1737\n",
              "9               Closed Lost          APAC    924\n",
              "10              Closed Lost      Americas   1358\n",
              "11              Closed Lost   Middle East    105\n",
              "12               Closed Won         Japan   1290\n",
              "13               Closed Won          EMEA   1500\n",
              "14               Closed Won          APAC   1155\n",
              "15               Closed Won      Americas   1094\n",
              "16               Closed Won   Middle East     33"
            ],
            "text/html": "<div>\n<style scoped>\n    .dataframe tbody tr th:only-of-type {\n        vertical-align: middle;\n    }\n\n    .dataframe tbody tr th {\n        vertical-align: top;\n    }\n\n    .dataframe thead th {\n        text-align: right;\n    }\n</style>\n<table border=\"1\" class=\"dataframe\">\n  <thead>\n    <tr style=\"text-align: right;\">\n      <th></th>\n      <th>Source</th>\n      <th>Dest</th>\n      <th>Value</th>\n    </tr>\n  </thead>\n  <tbody>\n    <tr>\n      <th>0</th>\n      <td>requieren_aprobacion</td>\n      <td>aprobado</td>\n      <td>5416</td>\n    </tr>\n    <tr>\n      <th>1</th>\n      <td>requieren_aprobacion</td>\n      <td>no_aprobado</td>\n      <td>2098</td>\n    </tr>\n    <tr>\n      <th>2</th>\n      <td>no_requieren_aprobacion</td>\n      <td>aprobado</td>\n      <td>2327</td>\n    </tr>\n    <tr>\n      <th>3</th>\n      <td>aprobado</td>\n      <td>Closed Won</td>\n      <td>2327</td>\n    </tr>\n    <tr>\n      <th>4</th>\n      <td>aprobado</td>\n      <td>Closed Won</td>\n      <td>3066</td>\n    </tr>\n    <tr>\n      <th>5</th>\n      <td>aprobado</td>\n      <td>Closed Lost</td>\n      <td>2318</td>\n    </tr>\n    <tr>\n      <th>6</th>\n      <td>no_aprobado</td>\n      <td>Closed Lost</td>\n      <td>2098</td>\n    </tr>\n    <tr>\n      <th>7</th>\n      <td>Closed Lost</td>\n      <td>Japan</td>\n      <td>598</td>\n    </tr>\n    <tr>\n      <th>8</th>\n      <td>Closed Lost</td>\n      <td>EMEA</td>\n      <td>1737</td>\n    </tr>\n    <tr>\n      <th>9</th>\n      <td>Closed Lost</td>\n      <td>APAC</td>\n      <td>924</td>\n    </tr>\n    <tr>\n      <th>10</th>\n      <td>Closed Lost</td>\n      <td>Americas</td>\n      <td>1358</td>\n    </tr>\n    <tr>\n      <th>11</th>\n      <td>Closed Lost</td>\n      <td>Middle East</td>\n      <td>105</td>\n    </tr>\n    <tr>\n      <th>12</th>\n      <td>Closed Won</td>\n      <td>Japan</td>\n      <td>1290</td>\n    </tr>\n    <tr>\n      <th>13</th>\n      <td>Closed Won</td>\n      <td>EMEA</td>\n      <td>1500</td>\n    </tr>\n    <tr>\n      <th>14</th>\n      <td>Closed Won</td>\n      <td>APAC</td>\n      <td>1155</td>\n    </tr>\n    <tr>\n      <th>15</th>\n      <td>Closed Won</td>\n      <td>Americas</td>\n      <td>1094</td>\n    </tr>\n    <tr>\n      <th>16</th>\n      <td>Closed Won</td>\n      <td>Middle East</td>\n      <td>33</td>\n    </tr>\n  </tbody>\n</table>\n</div>"
          },
          "metadata": {},
          "execution_count": 63
        }
      ]
    },
    {
      "cell_type": "markdown",
      "metadata": {
        "id": "uYYmmdTyCQBW"
      },
      "source": [
        "Con dichos datos y una herramienta externa se genera la siguiente imagen\n",
        "![picture](https://github.com/Fiuba-Big-Data-Analytics/Fiuba-Big-Data-Analytics-TPs/raw/main/Tp1/Elvis/Imagenes/Oportudidad_permiso.png)"
      ]
    },
    {
      "cell_type": "code",
      "metadata": {
        "id": "ma2l40QOC42r"
      },
      "source": [
        ""
      ],
      "execution_count": 267,
      "outputs": []
    }
  ]
}