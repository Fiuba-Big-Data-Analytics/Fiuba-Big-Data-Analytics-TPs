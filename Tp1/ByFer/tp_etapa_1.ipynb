{
  "nbformat": 4,
  "nbformat_minor": 0,
  "metadata": {
    "colab": {
      "name": "tp1-visu.ipynb",
      "provenance": [],
      "collapsed_sections": []
    },
    "kernelspec": {
      "name": "python3",
      "display_name": "Python 3"
    }
  },
  "cells": [
    {
      "cell_type": "code",
      "metadata": {
        "id": "5Zy9qjR-hiJp"
      },
      "source": [
        "import pandas as pd\n",
        "import numpy as np\n",
        "import seaborn as sns\n",
        "import matplotlib.pyplot as plt\n",
        "%matplotlib inline"
      ],
      "execution_count": 3,
      "outputs": []
    },
    {
      "cell_type": "code",
      "metadata": {
        "id": "TOWK7WLSh3U9"
      },
      "source": [
        "import sys\n",
        "sys.path.append('/content/drive/My Drive/Colab Notebooks/res/')\n",
        "from BySanti import filter"
      ],
      "execution_count": 4,
      "outputs": []
    },
    {
      "cell_type": "code",
      "metadata": {
        "id": "Kppu-oAWjHjl"
      },
      "source": [
        "train = pd.read_csv('/content/drive/My Drive/Colab Notebooks/data_sets/Entrenamieto_ECI_2020.csv')\n",
        "filter.full_correction(train)"
      ],
      "execution_count": 5,
      "outputs": []
    },
    {
      "cell_type": "code",
      "metadata": {
        "id": "h41fnRMSEadc",
        "outputId": "d5260aa2-9109-42e6-9c60-c6c833f347f3",
        "colab": {
          "base_uri": "https://localhost:8080/",
          "height": 198
        }
      },
      "source": [
        "# empezamos por obtener un DF reducido con los campos de interes\n",
        "# - Opportunity_ID  (nos permitira agrupar los renglones de la misma oportunidad)\n",
        "# - ASP / ASP_(converted)_Currency nos permitira obtener un ratio de relacion de \n",
        "#   forma de expresar todas las ventas en la misma\n",
        "#   moneda (USD) y de esta forma al estar poder compararlas\n",
        "red_op = train[[\"Region\", \"ASP\", \"ASP_(converted)_Currency\", \"Opportunity_ID\", \"Stage\"]]\n",
        "red_op.head(5)"
      ],
      "execution_count": 5,
      "outputs": [
        {
          "output_type": "execute_result",
          "data": {
            "text/html": [
              "<div>\n",
              "<style scoped>\n",
              "    .dataframe tbody tr th:only-of-type {\n",
              "        vertical-align: middle;\n",
              "    }\n",
              "\n",
              "    .dataframe tbody tr th {\n",
              "        vertical-align: top;\n",
              "    }\n",
              "\n",
              "    .dataframe thead th {\n",
              "        text-align: right;\n",
              "    }\n",
              "</style>\n",
              "<table border=\"1\" class=\"dataframe\">\n",
              "  <thead>\n",
              "    <tr style=\"text-align: right;\">\n",
              "      <th></th>\n",
              "      <th>Region</th>\n",
              "      <th>ASP</th>\n",
              "      <th>ASP_(converted)_Currency</th>\n",
              "      <th>Opportunity_ID</th>\n",
              "      <th>Stage</th>\n",
              "    </tr>\n",
              "  </thead>\n",
              "  <tbody>\n",
              "    <tr>\n",
              "      <th>0</th>\n",
              "      <td>EMEA</td>\n",
              "      <td>0.52</td>\n",
              "      <td>USD</td>\n",
              "      <td>0</td>\n",
              "      <td>Closed Lost</td>\n",
              "    </tr>\n",
              "    <tr>\n",
              "      <th>1</th>\n",
              "      <td>EMEA</td>\n",
              "      <td>0.53</td>\n",
              "      <td>USD</td>\n",
              "      <td>1</td>\n",
              "      <td>Closed Won</td>\n",
              "    </tr>\n",
              "    <tr>\n",
              "      <th>2</th>\n",
              "      <td>Americas</td>\n",
              "      <td>0.48</td>\n",
              "      <td>USD</td>\n",
              "      <td>2</td>\n",
              "      <td>Closed Won</td>\n",
              "    </tr>\n",
              "    <tr>\n",
              "      <th>3</th>\n",
              "      <td>Americas</td>\n",
              "      <td>0.53</td>\n",
              "      <td>USD</td>\n",
              "      <td>3</td>\n",
              "      <td>Closed Lost</td>\n",
              "    </tr>\n",
              "    <tr>\n",
              "      <th>4</th>\n",
              "      <td>Americas</td>\n",
              "      <td>0.53</td>\n",
              "      <td>USD</td>\n",
              "      <td>4</td>\n",
              "      <td>Closed Lost</td>\n",
              "    </tr>\n",
              "  </tbody>\n",
              "</table>\n",
              "</div>"
            ],
            "text/plain": [
              "     Region   ASP ASP_(converted)_Currency  Opportunity_ID        Stage\n",
              "0      EMEA  0.52                      USD               0  Closed Lost\n",
              "1      EMEA  0.53                      USD               1   Closed Won\n",
              "2  Americas  0.48                      USD               2   Closed Won\n",
              "3  Americas  0.53                      USD               3  Closed Lost\n",
              "4  Americas  0.53                      USD               4  Closed Lost"
            ]
          },
          "metadata": {
            "tags": []
          },
          "execution_count": 5
        }
      ]
    },
    {
      "cell_type": "code",
      "metadata": {
        "id": "qujVzsG4fVXr"
      },
      "source": [
        "# nos enfocamos en un dataset constituido solo por las columnas relevantes\n",
        "# para el analisis que encaramos\n",
        "part_train = train[[\"Region\", \"Bureaucratic_Code\", \"Opportunity_ID\", \"Stage\"]]\n",
        "\n",
        "# agrupamos todos los registros que pertencen a la misma oportunidad\n",
        "# -> con la hipotesis de que cada renglon que compoaarten la misma Opportunity_ID\n",
        "#    son parte de la misma oportunidad\n",
        "grouped_part_train = part_train.groupby([\"Region\", \"Bureaucratic_Code\", \"Opportunity_ID\", \"Stage\"]).last().reset_index()\n",
        "\n",
        "# realizamos las operaciones necesarias para obtener el porcentaje de oportunidad\n",
        "# en cierto Stage relacionado con el Bureaucratic_Code\n",
        "tot_disc_grouped_part_train  = grouped_part_train.groupby([\"Region\", \"Stage\", \"Bureaucratic_Code\", ])[\"Stage\"].count().to_frame('op_count').reset_index()\n",
        "\n",
        "tot_grouped_part_train  = tot_disc_grouped_part_train.groupby([\"Region\"])[\"op_count\"].sum().to_frame('tot_op').reset_index()\n",
        "\n",
        "merge_df = tot_disc_grouped_part_train.merge(tot_grouped_part_train)"
      ],
      "execution_count": 6,
      "outputs": []
    },
    {
      "cell_type": "code",
      "metadata": {
        "id": "F0Pbn_I_Nq8u",
        "outputId": "2b4c3d1b-0941-4864-f723-2dbddb432d7b",
        "colab": {
          "base_uri": "https://localhost:8080/",
          "height": 348
        }
      },
      "source": [
        "merge_df[\"op_ratio\"] = merge_df.apply (lambda row: round(row[\"op_count\"] / row[\"tot_op\"] * 100, 2), axis=1)\n",
        "merge_df.loc[(merge_df[\"Region\"] == \"Japan\")].head(10)"
      ],
      "execution_count": 7,
      "outputs": [
        {
          "output_type": "execute_result",
          "data": {
            "text/html": [
              "<div>\n",
              "<style scoped>\n",
              "    .dataframe tbody tr th:only-of-type {\n",
              "        vertical-align: middle;\n",
              "    }\n",
              "\n",
              "    .dataframe tbody tr th {\n",
              "        vertical-align: top;\n",
              "    }\n",
              "\n",
              "    .dataframe thead th {\n",
              "        text-align: right;\n",
              "    }\n",
              "</style>\n",
              "<table border=\"1\" class=\"dataframe\">\n",
              "  <thead>\n",
              "    <tr style=\"text-align: right;\">\n",
              "      <th></th>\n",
              "      <th>Region</th>\n",
              "      <th>Stage</th>\n",
              "      <th>Bureaucratic_Code</th>\n",
              "      <th>op_count</th>\n",
              "      <th>tot_op</th>\n",
              "      <th>op_ratio</th>\n",
              "    </tr>\n",
              "  </thead>\n",
              "  <tbody>\n",
              "    <tr>\n",
              "      <th>36</th>\n",
              "      <td>Japan</td>\n",
              "      <td>Closed Lost</td>\n",
              "      <td>1</td>\n",
              "      <td>10</td>\n",
              "      <td>1906</td>\n",
              "      <td>0.52</td>\n",
              "    </tr>\n",
              "    <tr>\n",
              "      <th>37</th>\n",
              "      <td>Japan</td>\n",
              "      <td>Closed Lost</td>\n",
              "      <td>2</td>\n",
              "      <td>10</td>\n",
              "      <td>1906</td>\n",
              "      <td>0.52</td>\n",
              "    </tr>\n",
              "    <tr>\n",
              "      <th>38</th>\n",
              "      <td>Japan</td>\n",
              "      <td>Closed Lost</td>\n",
              "      <td>4</td>\n",
              "      <td>191</td>\n",
              "      <td>1906</td>\n",
              "      <td>10.02</td>\n",
              "    </tr>\n",
              "    <tr>\n",
              "      <th>39</th>\n",
              "      <td>Japan</td>\n",
              "      <td>Closed Lost</td>\n",
              "      <td>5</td>\n",
              "      <td>384</td>\n",
              "      <td>1906</td>\n",
              "      <td>20.15</td>\n",
              "    </tr>\n",
              "    <tr>\n",
              "      <th>40</th>\n",
              "      <td>Japan</td>\n",
              "      <td>Closed Won</td>\n",
              "      <td>0</td>\n",
              "      <td>1</td>\n",
              "      <td>1906</td>\n",
              "      <td>0.05</td>\n",
              "    </tr>\n",
              "    <tr>\n",
              "      <th>41</th>\n",
              "      <td>Japan</td>\n",
              "      <td>Closed Won</td>\n",
              "      <td>1</td>\n",
              "      <td>6</td>\n",
              "      <td>1906</td>\n",
              "      <td>0.31</td>\n",
              "    </tr>\n",
              "    <tr>\n",
              "      <th>42</th>\n",
              "      <td>Japan</td>\n",
              "      <td>Closed Won</td>\n",
              "      <td>2</td>\n",
              "      <td>6</td>\n",
              "      <td>1906</td>\n",
              "      <td>0.31</td>\n",
              "    </tr>\n",
              "    <tr>\n",
              "      <th>43</th>\n",
              "      <td>Japan</td>\n",
              "      <td>Closed Won</td>\n",
              "      <td>4</td>\n",
              "      <td>1223</td>\n",
              "      <td>1906</td>\n",
              "      <td>64.17</td>\n",
              "    </tr>\n",
              "    <tr>\n",
              "      <th>44</th>\n",
              "      <td>Japan</td>\n",
              "      <td>Closed Won</td>\n",
              "      <td>5</td>\n",
              "      <td>53</td>\n",
              "      <td>1906</td>\n",
              "      <td>2.78</td>\n",
              "    </tr>\n",
              "    <tr>\n",
              "      <th>45</th>\n",
              "      <td>Japan</td>\n",
              "      <td>Closed Won</td>\n",
              "      <td>6</td>\n",
              "      <td>1</td>\n",
              "      <td>1906</td>\n",
              "      <td>0.05</td>\n",
              "    </tr>\n",
              "  </tbody>\n",
              "</table>\n",
              "</div>"
            ],
            "text/plain": [
              "   Region        Stage  Bureaucratic_Code  op_count  tot_op  op_ratio\n",
              "36  Japan  Closed Lost                  1        10    1906      0.52\n",
              "37  Japan  Closed Lost                  2        10    1906      0.52\n",
              "38  Japan  Closed Lost                  4       191    1906     10.02\n",
              "39  Japan  Closed Lost                  5       384    1906     20.15\n",
              "40  Japan   Closed Won                  0         1    1906      0.05\n",
              "41  Japan   Closed Won                  1         6    1906      0.31\n",
              "42  Japan   Closed Won                  2         6    1906      0.31\n",
              "43  Japan   Closed Won                  4      1223    1906     64.17\n",
              "44  Japan   Closed Won                  5        53    1906      2.78\n",
              "45  Japan   Closed Won                  6         1    1906      0.05"
            ]
          },
          "metadata": {
            "tags": []
          },
          "execution_count": 7
        }
      ]
    },
    {
      "cell_type": "code",
      "metadata": {
        "id": "GTDUNGDNybqw"
      },
      "source": [
        "# Ahora solo me enfoco en el segmento en el que se completo el proceso con exito\n",
        "prospects_stage_won = (merge_df.loc[merge_df[\"Stage\"] == 'Closed Won'])\n",
        "prospects_stage_lost = (merge_df.loc[merge_df[\"Stage\"] == 'Closed Lost'])"
      ],
      "execution_count": 8,
      "outputs": []
    },
    {
      "cell_type": "code",
      "metadata": {
        "id": "ZdC1NJGmzVmh",
        "outputId": "8727e5bb-1f7c-418c-a2a1-2dbe63178745",
        "colab": {
          "base_uri": "https://localhost:8080/",
          "height": 228
        }
      },
      "source": [
        "# y dispongo la información para visualizarlo en un grafico\n",
        "pvt_won = prospects_stage_won.pivot_table(values=\"op_ratio\", index=\"Bureaucratic_Code\", columns=\"Region\", aggfunc='mean')\n",
        "pvt_lost = prospects_stage_lost.pivot_table(values=\"op_ratio\", index=\"Bureaucratic_Code\", columns=\"Region\", aggfunc='mean')\n",
        "# para el proposito las celdas con valor Nan pueden ser interpretadas con porcentaje igual a 0\n",
        "#pvt = pvt.fillna(0)\n",
        "\n",
        "pvt_lost"
      ],
      "execution_count": 9,
      "outputs": [
        {
          "output_type": "execute_result",
          "data": {
            "text/html": [
              "<div>\n",
              "<style scoped>\n",
              "    .dataframe tbody tr th:only-of-type {\n",
              "        vertical-align: middle;\n",
              "    }\n",
              "\n",
              "    .dataframe tbody tr th {\n",
              "        vertical-align: top;\n",
              "    }\n",
              "\n",
              "    .dataframe thead th {\n",
              "        text-align: right;\n",
              "    }\n",
              "</style>\n",
              "<table border=\"1\" class=\"dataframe\">\n",
              "  <thead>\n",
              "    <tr style=\"text-align: right;\">\n",
              "      <th>Region</th>\n",
              "      <th>APAC</th>\n",
              "      <th>Americas</th>\n",
              "      <th>EMEA</th>\n",
              "      <th>Japan</th>\n",
              "      <th>Middle East</th>\n",
              "    </tr>\n",
              "    <tr>\n",
              "      <th>Bureaucratic_Code</th>\n",
              "      <th></th>\n",
              "      <th></th>\n",
              "      <th></th>\n",
              "      <th></th>\n",
              "      <th></th>\n",
              "    </tr>\n",
              "  </thead>\n",
              "  <tbody>\n",
              "    <tr>\n",
              "      <th>1</th>\n",
              "      <td>1.77</td>\n",
              "      <td>1.79</td>\n",
              "      <td>0.86</td>\n",
              "      <td>0.52</td>\n",
              "      <td>NaN</td>\n",
              "    </tr>\n",
              "    <tr>\n",
              "      <th>2</th>\n",
              "      <td>1.29</td>\n",
              "      <td>0.77</td>\n",
              "      <td>0.77</td>\n",
              "      <td>0.52</td>\n",
              "      <td>3.36</td>\n",
              "    </tr>\n",
              "    <tr>\n",
              "      <th>3</th>\n",
              "      <td>0.05</td>\n",
              "      <td>NaN</td>\n",
              "      <td>NaN</td>\n",
              "      <td>NaN</td>\n",
              "      <td>NaN</td>\n",
              "    </tr>\n",
              "    <tr>\n",
              "      <th>4</th>\n",
              "      <td>26.56</td>\n",
              "      <td>34.44</td>\n",
              "      <td>40.70</td>\n",
              "      <td>10.02</td>\n",
              "      <td>54.36</td>\n",
              "    </tr>\n",
              "    <tr>\n",
              "      <th>5</th>\n",
              "      <td>14.62</td>\n",
              "      <td>18.22</td>\n",
              "      <td>11.26</td>\n",
              "      <td>20.15</td>\n",
              "      <td>12.75</td>\n",
              "    </tr>\n",
              "  </tbody>\n",
              "</table>\n",
              "</div>"
            ],
            "text/plain": [
              "Region              APAC  Americas   EMEA  Japan  Middle East\n",
              "Bureaucratic_Code                                            \n",
              "1                   1.77      1.79   0.86   0.52          NaN\n",
              "2                   1.29      0.77   0.77   0.52         3.36\n",
              "3                   0.05       NaN    NaN    NaN          NaN\n",
              "4                  26.56     34.44  40.70  10.02        54.36\n",
              "5                  14.62     18.22  11.26  20.15        12.75"
            ]
          },
          "metadata": {
            "tags": []
          },
          "execution_count": 9
        }
      ]
    },
    {
      "cell_type": "markdown",
      "metadata": {
        "id": "NzIYSieT3Xqu"
      },
      "source": [
        "# Relación de la incidencia del Bureaucratic_Code \n",
        "# en la tasa de exito de la oportunidad por Región\n",
        "\n",
        "Podemos obervar que hay una marcada relación entre la tasa de exito de \n",
        "\n",
        "la propuesta y la aplicación del Bureaucratic_Code 4 (principalmente) y en \n",
        "\n",
        "varios ordenes de medida menor del Bureaucratic_Code 5 en todas las regiones\n"
      ]
    },
    {
      "cell_type": "code",
      "metadata": {
        "id": "JnyKSE5YzyMp",
        "outputId": "0ed86988-6a26-4fa1-c34f-6869f9468d1b",
        "colab": {
          "base_uri": "https://localhost:8080/",
          "height": 625
        }
      },
      "source": [
        "f, ax = plt.subplots(figsize=(10, 10))\n",
        "sns.heatmap(pvt_won, annot=True, linewidths=.5, ax=ax, cmap='Greens')"
      ],
      "execution_count": 10,
      "outputs": [
        {
          "output_type": "execute_result",
          "data": {
            "text/plain": [
              "<matplotlib.axes._subplots.AxesSubplot at 0x7f7c1e3af780>"
            ]
          },
          "metadata": {
            "tags": []
          },
          "execution_count": 10
        },
        {
          "output_type": "display_data",
          "data": {
            "image/png": "[encoded data removed]",
            "text/plain": [
              "<Figure size 720x720 with 2 Axes>"
            ]
          },
          "metadata": {
            "tags": [],
            "needs_background": "light"
          }
        }
      ]
    },
    {
      "cell_type": "code",
      "metadata": {
        "id": "UcrRphRfO1HG",
        "outputId": "0f886ae9-5dc2-4468-c7b5-c42fc4d686cd",
        "colab": {
          "base_uri": "https://localhost:8080/",
          "height": 625
        }
      },
      "source": [
        "f, ax = plt.subplots(figsize=(10, 10))\n",
        "sns.heatmap(pvt_lost, annot=True, linewidths=.5, ax=ax, cmap='Reds', fmt='g')"
      ],
      "execution_count": 11,
      "outputs": [
        {
          "output_type": "execute_result",
          "data": {
            "text/plain": [
              "<matplotlib.axes._subplots.AxesSubplot at 0x7f7c1dc73908>"
            ]
          },
          "metadata": {
            "tags": []
          },
          "execution_count": 11
        },
        {
          "output_type": "display_data",
          "data": {
            "image/png": "[encoded data removed]",
            "text/plain": [
              "<Figure size 720x720 with 2 Axes>"
            ]
          },
          "metadata": {
            "tags": [],
            "needs_background": "light"
          }
        }
      ]
    }
  ]
}