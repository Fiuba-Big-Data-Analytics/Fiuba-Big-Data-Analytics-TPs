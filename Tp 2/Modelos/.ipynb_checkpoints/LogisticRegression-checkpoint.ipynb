{
 "cells": [
  {
   "cell_type": "code",
   "execution_count": 27,
   "metadata": {},
   "outputs": [],
   "source": [
    "import pandas as pd\n",
    "import numpy as np\n",
    "from sklearn.datasets import load_digits\n",
    "import matplotlib.pyplot as plt\n",
    "\n",
    "from sklearn.preprocessing import OneHotEncoder\n",
    "\n",
    "\n",
    "from sklearn.linear_model import LogisticRegression"
   ]
  },
  {
   "cell_type": "code",
   "execution_count": 28,
   "metadata": {},
   "outputs": [],
   "source": [
    "test = pd.read_csv('/home/leandro/Documentos/Organizacion de datos/Fiuba-Big-Data-Analytics-TPs/Tp 2/Datos/Test_TP2_Datos_2020-2C.csv')\n",
    "\n",
    "train = pd.read_csv('/home/leandro/Documentos/Organizacion de datos/Fiuba-Big-Data-Analytics-TPs/Tp 2/Datos/Train_TP2_Datos_2020-2C.csv')"
   ]
  },
  {
   "cell_type": "code",
   "execution_count": 29,
   "metadata": {},
   "outputs": [],
   "source": [
    "\n",
    "def normaliza_df(df, ones_hots):\n",
    "    # inicialmente voy con el tratamiento mas simple sobre los datos faltantes\n",
    "    df = df.fillna(0)\n",
    "    df = df.dropna()\n",
    "    '''\n",
    "      removemos la columna de la cual el modelo podria aprender que su existencia\n",
    "      implica el Closed_won (ya que es un valor que se obtiene a posteriori de haber\n",
    "      ganado y estaria mal usarlo ya que los modelos entrenadas con ella serian \n",
    "      incapaces de poder predecir correctamente)\n",
    "    '''\n",
    "    df = df.drop(['Sales_Contract_No'], axis=1)\n",
    "    \n",
    "    # irrelevantes\n",
    "    df = df.drop(['Opportunity_Name'], axis=1)\n",
    "\n",
    "    # dato cte = NaT\n",
    "    df = df.drop(['Last_Activity'], axis=1)\n",
    "\n",
    "    # basado en lo charlado con el grupo, ahora subdividimos el df de forma de tener\n",
    "    # en cuenta los casos cerrados y cobertimos las varaibles categorias en su\n",
    "    # representacion mas simple (siendo dos casos en Cloased_Won = 1 y Closed:_lost = 0)\n",
    "    if 'Stage' in df.columns:\n",
    "        df = df[((df['Stage'] == 'Closed Won') | (df['Stage'] == 'Closed Lost'))]\n",
    "        df['Stage'] = df['Stage'].apply(lambda x: 1 if x == 'Closed Won' else 0)\n",
    "    \n",
    "    # hacemos que las variables temporales en las que nos vanos a enfocar sean del tipo correcto\n",
    "    df['Account_Created_Date'] = pd.to_datetime(df['Account_Created_Date'], format=\"%m/%d/%Y\")\n",
    "    df['Opportunity_Created_Date'] = pd.to_datetime(df['Opportunity_Created_Date'], format=\"%m/%d/%Y\")\n",
    "\n",
    "    df['Quote_Type'] = df['Quote_Type'].apply(lambda x: 1 if x == 'Binding' else 0)\n",
    "    \n",
    "    # todo: convertir estas en una ventana de tiempo\n",
    "    df = df.drop(['Planned_Delivery_Start_Date'], axis=1)\n",
    "    df = df.drop(['Planned_Delivery_End_Date'], axis=1)\n",
    "\n",
    "    categoric_cols = df.columns[df.dtypes==object].tolist() \n",
    "    numeric_cols = df.columns[df.dtypes=='float64'].tolist() \n",
    "    numeric_cols_2 = df.columns[df.dtypes=='int64'].tolist() \n",
    "    date_cols = df.columns[df.dtypes=='datetime64[ns]'].tolist() \n",
    "    \n",
    "    print(categoric_cols)\n",
    "    print('--------------')\n",
    "    \n",
    "    \n",
    "    def crearOneHotDF(c1):\n",
    "        if 'Stage' in df.columns:\n",
    "            onehotencoder = OneHotEncoder(handle_unknown = 'ignore')\n",
    "            onehotencoder.fit(df[[c1]])\n",
    "            ones_hots[c1] = onehotencoder\n",
    "        else:\n",
    "            onehotencoder = ones_hots[c1]\n",
    "        \n",
    "        M = pd.DataFrame(onehotencoder.transform(df[[c1]]).toarray())\n",
    "            \n",
    "        num_cols = len(list(M))\n",
    "        rng = range(0, num_cols)\n",
    "        new_cols = [c1 + str(i) for i in rng] \n",
    "        M.columns = new_cols[:num_cols]\n",
    "        return M\n",
    "\n",
    "    categorical = pd.concat([crearOneHotDF(i) for i in categoric_cols], axis=1)\n",
    "\n",
    "    df = pd.concat([categorical, df[numeric_cols], df[numeric_cols_2], df[date_cols]], axis=1)\n",
    "    \n",
    "    df = df.sort_values(by=\"Opportunity_Created_Date\")\n",
    "    \n",
    "    df = df.drop(columns = 'Opportunity_Created_Date')\n",
    "    df = df.drop(columns = 'Account_Created_Date')\n",
    "\n",
    "    df = df.fillna(0)\n",
    "    df = df.dropna()\n",
    "    \n",
    "    return df"
   ]
  },
  {
   "cell_type": "markdown",
   "metadata": {},
   "source": [
    "# One hot"
   ]
  },
  {
   "cell_type": "code",
   "execution_count": 30,
   "metadata": {},
   "outputs": [
    {
     "name": "stdout",
     "output_type": "stream",
     "text": [
      "['Region', 'Territory', 'Bureaucratic_Code', 'Source ', 'Billing_Country', 'Account_Name', 'Account_Owner', 'Opportunity_Owner', 'Account_Type', 'Opportunity_Type', 'Delivery_Terms', 'Brand', 'Product_Type', 'Size', 'Product_Category_B', 'Price', 'Currency', 'Quote_Expiry_Date', 'Last_Modified_Date', 'Last_Modified_By', 'Product_Family', 'Product_Name', 'ASP_Currency', 'ASP_(converted)_Currency', 'Month', 'Delivery_Quarter', 'Actual_Delivery_Date', 'Total_Amount_Currency', 'Total_Taxable_Amount_Currency', 'Prod_Category_A']\n",
      "--------------\n",
      "['Region', 'Territory', 'Bureaucratic_Code', 'Source ', 'Billing_Country', 'Account_Name', 'Account_Owner', 'Opportunity_Owner', 'Account_Type', 'Opportunity_Type', 'Delivery_Terms', 'Brand', 'Product_Type', 'Size', 'Product_Category_B', 'Price', 'Currency', 'Quote_Expiry_Date', 'Last_Modified_Date', 'Last_Modified_By', 'Product_Family', 'Product_Name', 'ASP_Currency', 'ASP_(converted)_Currency', 'Month', 'Delivery_Quarter', 'Actual_Delivery_Date', 'Total_Amount_Currency', 'Total_Taxable_Amount_Currency', 'Prod_Category_A']\n",
      "--------------\n"
     ]
    }
   ],
   "source": [
    "one_hots = {}\n",
    "train_encodiado = normaliza_df(train,one_hots)\n",
    "test_encodiado = normaliza_df(test,one_hots)"
   ]
  },
  {
   "cell_type": "code",
   "execution_count": 31,
   "metadata": {},
   "outputs": [],
   "source": [
    "from sklearn.model_selection import train_test_split\n",
    "X_train, X_test, y_train, y_test = train_test_split(train_encodiado.drop(columns = 'Stage'),train_encodiado['Stage'],test_size=0.3)"
   ]
  },
  {
   "cell_type": "code",
   "execution_count": 32,
   "metadata": {},
   "outputs": [
    {
     "data": {
      "text/plain": [
       "0.5874139626352016"
      ]
     },
     "execution_count": 32,
     "metadata": {},
     "output_type": "execute_result"
    }
   ],
   "source": [
    "#Logistic Regression\n",
    "\n",
    "lr = LogisticRegression(solver='liblinear',multi_class='ovr')\n",
    "lr.fit(X_train, y_train)\n",
    "lr.score(X_test, y_test)"
   ]
  },
  {
   "cell_type": "code",
   "execution_count": 33,
   "metadata": {},
   "outputs": [
    {
     "data": {
      "text/plain": [
       "array([[0.42008006, 0.57991994],\n",
       "       [0.38152639, 0.61847361],\n",
       "       [0.38467439, 0.61532561],\n",
       "       ...,\n",
       "       [0.39663106, 0.60336894],\n",
       "       [0.39737688, 0.60262312],\n",
       "       [0.4230635 , 0.5769365 ]])"
      ]
     },
     "execution_count": 33,
     "metadata": {},
     "output_type": "execute_result"
    }
   ],
   "source": [
    "predicts = lr.predict_proba(test_encodiado)\n",
    "predicts"
   ]
  },
  {
   "cell_type": "code",
   "execution_count": 34,
   "metadata": {},
   "outputs": [
    {
     "data": {
      "text/html": [
       "<div>\n",
       "<style scoped>\n",
       "    .dataframe tbody tr th:only-of-type {\n",
       "        vertical-align: middle;\n",
       "    }\n",
       "\n",
       "    .dataframe tbody tr th {\n",
       "        vertical-align: top;\n",
       "    }\n",
       "\n",
       "    .dataframe thead th {\n",
       "        text-align: right;\n",
       "    }\n",
       "</style>\n",
       "<table border=\"1\" class=\"dataframe\">\n",
       "  <thead>\n",
       "    <tr style=\"text-align: right;\">\n",
       "      <th></th>\n",
       "      <th>Target</th>\n",
       "    </tr>\n",
       "    <tr>\n",
       "      <th>Opportunity_ID</th>\n",
       "      <th></th>\n",
       "    </tr>\n",
       "  </thead>\n",
       "  <tbody>\n",
       "    <tr>\n",
       "      <th>10689</th>\n",
       "      <td>0.562394</td>\n",
       "    </tr>\n",
       "    <tr>\n",
       "      <th>10690</th>\n",
       "      <td>0.561509</td>\n",
       "    </tr>\n",
       "    <tr>\n",
       "      <th>10691</th>\n",
       "      <td>0.584086</td>\n",
       "    </tr>\n",
       "    <tr>\n",
       "      <th>10692</th>\n",
       "      <td>0.613095</td>\n",
       "    </tr>\n",
       "    <tr>\n",
       "      <th>10693</th>\n",
       "      <td>0.568657</td>\n",
       "    </tr>\n",
       "    <tr>\n",
       "      <th>...</th>\n",
       "      <td>...</td>\n",
       "    </tr>\n",
       "    <tr>\n",
       "      <th>12364</th>\n",
       "      <td>0.607576</td>\n",
       "    </tr>\n",
       "    <tr>\n",
       "      <th>12365</th>\n",
       "      <td>0.603369</td>\n",
       "    </tr>\n",
       "    <tr>\n",
       "      <th>12366</th>\n",
       "      <td>0.602623</td>\n",
       "    </tr>\n",
       "    <tr>\n",
       "      <th>12367</th>\n",
       "      <td>0.572346</td>\n",
       "    </tr>\n",
       "    <tr>\n",
       "      <th>12368</th>\n",
       "      <td>0.576937</td>\n",
       "    </tr>\n",
       "  </tbody>\n",
       "</table>\n",
       "<p>1567 rows × 1 columns</p>\n",
       "</div>"
      ],
      "text/plain": [
       "                  Target\n",
       "Opportunity_ID          \n",
       "10689           0.562394\n",
       "10690           0.561509\n",
       "10691           0.584086\n",
       "10692           0.613095\n",
       "10693           0.568657\n",
       "...                  ...\n",
       "12364           0.607576\n",
       "12365           0.603369\n",
       "12366           0.602623\n",
       "12367           0.572346\n",
       "12368           0.576937\n",
       "\n",
       "[1567 rows x 1 columns]"
      ]
     },
     "execution_count": 34,
     "metadata": {},
     "output_type": "execute_result"
    }
   ],
   "source": [
    "outputOneHot = pd.DataFrame({'Opportunity_ID':test_encodiado.Opportunity_ID, 'Target': predicts[:,1]})\n",
    "outputOneHot = outputOneHot.groupby('Opportunity_ID').max()\n",
    "outputOneHot"
   ]
  },
  {
   "cell_type": "code",
   "execution_count": 59,
   "metadata": {},
   "outputs": [],
   "source": [
    "outputOneHot.to_csv('/home/leandro/Documentos/Organizacion de datos/Fiuba-Big-Data-Analytics-TPs/Tp 2/Resultados/LogisticRegressionScore1.csv')"
   ]
  },
  {
   "cell_type": "markdown",
   "metadata": {},
   "source": [
    "# Funciones para variar parametros\n"
   ]
  },
  {
   "cell_type": "code",
   "execution_count": 60,
   "metadata": {},
   "outputs": [],
   "source": [
    "def variar_penalty(X_train, y_train,X_test, y_test):\n",
    "    scores = []\n",
    "    for i in [ \"l2\", \"none\"]:\n",
    "\n",
    "        lr = LogisticRegression(penalty =i)\n",
    "        lr.fit(X_train, y_train)\n",
    "        scores.append(lr.score(X_test, y_test))\n",
    "    \n",
    "    return scores"
   ]
  },
  {
   "cell_type": "code",
   "execution_count": 61,
   "metadata": {},
   "outputs": [],
   "source": [
    "def variar_C(X_train, y_train,X_test, y_test):\n",
    "    scores = []\n",
    "    for i in np.linspace(0.01,1,50):\n",
    "\n",
    "        lr = LogisticRegression(C=i)\n",
    "        lr.fit(X_train, y_train)\n",
    "        scores.append(lr.score(X_test, y_test))\n",
    "    \n",
    "    return scores"
   ]
  },
  {
   "cell_type": "code",
   "execution_count": 62,
   "metadata": {},
   "outputs": [],
   "source": [
    "def variar_solver(X_train, y_train,X_test, y_test):\n",
    "    scores = []\n",
    "    \n",
    "    for i in [\"newton-cg\", \"lbfgs\", \"liblinear\", \"sag\", \"saga\"]:\n",
    "\n",
    "        lr = LogisticRegression(solver = i)\n",
    "        lr.fit(X_train, y_train)\n",
    "        scores.append(lr.score(X_test, y_test))\n",
    "    \n",
    "    return scores"
   ]
  },
  {
   "cell_type": "markdown",
   "metadata": {},
   "source": [
    "# Pruebo variendo los hiper parametros con OneHot\n"
   ]
  },
  {
   "cell_type": "code",
   "execution_count": 63,
   "metadata": {},
   "outputs": [
    {
     "data": {
      "text/plain": [
       "[0.5860373647984267, 0.5860373647984267]"
      ]
     },
     "execution_count": 63,
     "metadata": {},
     "output_type": "execute_result"
    }
   ],
   "source": [
    "#Variar el penalty tampoco influye\n",
    "scores=variar_penalty(X_train, y_train,X_test, y_test)\n",
    "\n",
    "scores   "
   ]
  },
  {
   "cell_type": "code",
   "execution_count": 64,
   "metadata": {
    "scrolled": true
   },
   "outputs": [
    {
     "data": {
      "text/plain": [
       "[0.5860373647984267,\n",
       " 0.5860373647984267,\n",
       " 0.5860373647984267,\n",
       " 0.5860373647984267,\n",
       " 0.5860373647984267,\n",
       " 0.5860373647984267,\n",
       " 0.5860373647984267,\n",
       " 0.5860373647984267,\n",
       " 0.5860373647984267,\n",
       " 0.5860373647984267,\n",
       " 0.5860373647984267,\n",
       " 0.5860373647984267,\n",
       " 0.5860373647984267,\n",
       " 0.5860373647984267,\n",
       " 0.5860373647984267,\n",
       " 0.5860373647984267,\n",
       " 0.5860373647984267,\n",
       " 0.5860373647984267,\n",
       " 0.5860373647984267,\n",
       " 0.5860373647984267,\n",
       " 0.5860373647984267,\n",
       " 0.5860373647984267,\n",
       " 0.5860373647984267,\n",
       " 0.5860373647984267,\n",
       " 0.5860373647984267,\n",
       " 0.5860373647984267,\n",
       " 0.5860373647984267,\n",
       " 0.5860373647984267,\n",
       " 0.5860373647984267,\n",
       " 0.5860373647984267,\n",
       " 0.5860373647984267,\n",
       " 0.5860373647984267,\n",
       " 0.5860373647984267,\n",
       " 0.5860373647984267,\n",
       " 0.5860373647984267,\n",
       " 0.5860373647984267,\n",
       " 0.5860373647984267,\n",
       " 0.5860373647984267,\n",
       " 0.5860373647984267,\n",
       " 0.5860373647984267,\n",
       " 0.5860373647984267,\n",
       " 0.5860373647984267,\n",
       " 0.5860373647984267,\n",
       " 0.5860373647984267,\n",
       " 0.5860373647984267,\n",
       " 0.5860373647984267,\n",
       " 0.5860373647984267,\n",
       " 0.5860373647984267,\n",
       " 0.5860373647984267,\n",
       " 0.5860373647984267]"
      ]
     },
     "execution_count": 64,
     "metadata": {},
     "output_type": "execute_result"
    }
   ],
   "source": [
    "#Variar c no mejora nada\n",
    "scores2=variar_C(X_train, y_train,X_test, y_test)\n",
    "scores2"
   ]
  },
  {
   "cell_type": "code",
   "execution_count": 65,
   "metadata": {},
   "outputs": [
    {
     "name": "stderr",
     "output_type": "stream",
     "text": [
      "/home/leandro/anaconda3/lib/python3.8/site-packages/scipy/optimize/linesearch.py:477: LineSearchWarning: The line search algorithm did not converge\n",
      "  warn('The line search algorithm did not converge', LineSearchWarning)\n",
      "/home/leandro/anaconda3/lib/python3.8/site-packages/scipy/optimize/linesearch.py:327: LineSearchWarning: The line search algorithm did not converge\n",
      "  warn('The line search algorithm did not converge', LineSearchWarning)\n",
      "/home/leandro/anaconda3/lib/python3.8/site-packages/scipy/optimize/linesearch.py:477: LineSearchWarning: The line search algorithm did not converge\n",
      "  warn('The line search algorithm did not converge', LineSearchWarning)\n",
      "/home/leandro/anaconda3/lib/python3.8/site-packages/scipy/optimize/linesearch.py:327: LineSearchWarning: The line search algorithm did not converge\n",
      "  warn('The line search algorithm did not converge', LineSearchWarning)\n",
      "/home/leandro/anaconda3/lib/python3.8/site-packages/scipy/optimize/linesearch.py:477: LineSearchWarning: The line search algorithm did not converge\n",
      "  warn('The line search algorithm did not converge', LineSearchWarning)\n",
      "/home/leandro/anaconda3/lib/python3.8/site-packages/scipy/optimize/linesearch.py:327: LineSearchWarning: The line search algorithm did not converge\n",
      "  warn('The line search algorithm did not converge', LineSearchWarning)\n",
      "/home/leandro/anaconda3/lib/python3.8/site-packages/sklearn/utils/optimize.py:211: ConvergenceWarning: newton-cg failed to converge. Increase the number of iterations.\n",
      "  warnings.warn(\"newton-cg failed to converge. Increase the \"\n",
      "/home/leandro/anaconda3/lib/python3.8/site-packages/sklearn/linear_model/_sag.py:329: ConvergenceWarning: The max_iter was reached which means the coef_ did not converge\n",
      "  warnings.warn(\"The max_iter was reached which means \"\n",
      "/home/leandro/anaconda3/lib/python3.8/site-packages/sklearn/linear_model/_sag.py:329: ConvergenceWarning: The max_iter was reached which means the coef_ did not converge\n",
      "  warnings.warn(\"The max_iter was reached which means \"\n"
     ]
    },
    {
     "data": {
      "text/plain": [
       "[0.7567354965585054,\n",
       " 0.5860373647984267,\n",
       " 0.5874139626352016,\n",
       " 0.4407079646017699,\n",
       " 0.43716814159292033]"
      ]
     },
     "execution_count": 65,
     "metadata": {},
     "output_type": "execute_result"
    }
   ],
   "source": [
    "scores3=variar_solver(X_train, y_train,X_test, y_test)\n",
    "scores3"
   ]
  },
  {
   "cell_type": "markdown",
   "metadata": {},
   "source": [
    "# Binary"
   ]
  },
  {
   "cell_type": "code",
   "execution_count": 73,
   "metadata": {},
   "outputs": [],
   "source": [
    "train_binary =  pd.read_csv('/home/leandro/Documentos/Organizacion de datos/Fiuba-Big-Data-Analytics-TPs/Tp 2/Datos/TrainBinaryEncoding.csv')\n",
    "test_binary =  pd.read_csv('/home/leandro/Documentos/Organizacion de datos/Fiuba-Big-Data-Analytics-TPs/Tp 2/Datos/TestBinaryEncoding.csv')\n",
    "\n",
    "test_binary = test_binary.drop(columns =\"Unnamed: 0\")\n",
    "train_binary = train_binary.drop(columns =\"Unnamed: 0\")\n",
    "\n",
    "\n",
    "\n",
    "X_train, X_test, y_train, y_test = \\\n",
    "    train_test_split(train_binary.drop(columns = 'Stage'), train_binary['Stage'], test_size=0.2, random_state=123)\n"
   ]
  },
  {
   "cell_type": "code",
   "execution_count": 11,
   "metadata": {},
   "outputs": [
    {
     "data": {
      "text/plain": [
       "0.5960912052117264"
      ]
     },
     "execution_count": 11,
     "metadata": {},
     "output_type": "execute_result"
    }
   ],
   "source": [
    "\n",
    "lr = LogisticRegression(solver='liblinear',multi_class='ovr')\n",
    "lr.fit(X_train, y_train)\n",
    "lr.score(X_test, y_test)"
   ]
  },
  {
   "cell_type": "code",
   "execution_count": 12,
   "metadata": {},
   "outputs": [
    {
     "data": {
      "text/plain": [
       "array([[0.49954235, 0.50045765],\n",
       "       [0.49965422, 0.50034578],\n",
       "       [0.49959009, 0.50040991],\n",
       "       ...,\n",
       "       [0.49980847, 0.50019153],\n",
       "       [0.49972159, 0.50027841],\n",
       "       [0.49825442, 0.50174558]])"
      ]
     },
     "execution_count": 12,
     "metadata": {},
     "output_type": "execute_result"
    }
   ],
   "source": [
    "predicts = lr.predict_proba(test_binary)\n",
    "predicts"
   ]
  },
  {
   "cell_type": "code",
   "execution_count": 13,
   "metadata": {},
   "outputs": [
    {
     "data": {
      "text/html": [
       "<div>\n",
       "<style scoped>\n",
       "    .dataframe tbody tr th:only-of-type {\n",
       "        vertical-align: middle;\n",
       "    }\n",
       "\n",
       "    .dataframe tbody tr th {\n",
       "        vertical-align: top;\n",
       "    }\n",
       "\n",
       "    .dataframe thead th {\n",
       "        text-align: right;\n",
       "    }\n",
       "</style>\n",
       "<table border=\"1\" class=\"dataframe\">\n",
       "  <thead>\n",
       "    <tr style=\"text-align: right;\">\n",
       "      <th></th>\n",
       "      <th>Target</th>\n",
       "    </tr>\n",
       "    <tr>\n",
       "      <th>Opportunity_ID</th>\n",
       "      <th></th>\n",
       "    </tr>\n",
       "  </thead>\n",
       "  <tbody>\n",
       "    <tr>\n",
       "      <th>10689</th>\n",
       "      <td>0.500458</td>\n",
       "    </tr>\n",
       "    <tr>\n",
       "      <th>10690</th>\n",
       "      <td>0.500831</td>\n",
       "    </tr>\n",
       "    <tr>\n",
       "      <th>10691</th>\n",
       "      <td>0.500034</td>\n",
       "    </tr>\n",
       "    <tr>\n",
       "      <th>10692</th>\n",
       "      <td>0.502073</td>\n",
       "    </tr>\n",
       "    <tr>\n",
       "      <th>10693</th>\n",
       "      <td>0.500003</td>\n",
       "    </tr>\n",
       "    <tr>\n",
       "      <th>...</th>\n",
       "      <td>...</td>\n",
       "    </tr>\n",
       "    <tr>\n",
       "      <th>12364</th>\n",
       "      <td>0.500257</td>\n",
       "    </tr>\n",
       "    <tr>\n",
       "      <th>12365</th>\n",
       "      <td>0.500081</td>\n",
       "    </tr>\n",
       "    <tr>\n",
       "      <th>12366</th>\n",
       "      <td>0.500192</td>\n",
       "    </tr>\n",
       "    <tr>\n",
       "      <th>12367</th>\n",
       "      <td>0.500278</td>\n",
       "    </tr>\n",
       "    <tr>\n",
       "      <th>12368</th>\n",
       "      <td>0.501746</td>\n",
       "    </tr>\n",
       "  </tbody>\n",
       "</table>\n",
       "<p>1567 rows × 1 columns</p>\n",
       "</div>"
      ],
      "text/plain": [
       "                  Target\n",
       "Opportunity_ID          \n",
       "10689           0.500458\n",
       "10690           0.500831\n",
       "10691           0.500034\n",
       "10692           0.502073\n",
       "10693           0.500003\n",
       "...                  ...\n",
       "12364           0.500257\n",
       "12365           0.500081\n",
       "12366           0.500192\n",
       "12367           0.500278\n",
       "12368           0.501746\n",
       "\n",
       "[1567 rows x 1 columns]"
      ]
     },
     "execution_count": 13,
     "metadata": {},
     "output_type": "execute_result"
    }
   ],
   "source": [
    "outputBinary = pd.DataFrame({'Opportunity_ID':test_binary.Opportunity_ID, 'Target': predicts[:,1]})\n",
    "outputBinary = outputBinary.groupby('Opportunity_ID').max()\n",
    "outputBinary"
   ]
  },
  {
   "cell_type": "code",
   "execution_count": 14,
   "metadata": {},
   "outputs": [],
   "source": [
    "outputBinary.to_csv('/home/leandro/Documentos/Organizacion de datos/Fiuba-Big-Data-Analytics-TPs/Tp 2/Resultados/LogisticRegressionScore2.csv')"
   ]
  },
  {
   "cell_type": "markdown",
   "metadata": {},
   "source": [
    "# Vario parametro con el Binary"
   ]
  },
  {
   "cell_type": "code",
   "execution_count": 70,
   "metadata": {},
   "outputs": [
    {
     "data": {
      "text/plain": [
       "[0.5943144803079656, 0.5943144803079656]"
      ]
     },
     "execution_count": 70,
     "metadata": {},
     "output_type": "execute_result"
    }
   ],
   "source": [
    "#Variar el penalty tampoco influye\n",
    "scores=variar_penalty(X_train, y_train,X_test, y_test)\n",
    "scores  "
   ]
  },
  {
   "cell_type": "code",
   "execution_count": 71,
   "metadata": {
    "scrolled": true
   },
   "outputs": [
    {
     "data": {
      "text/plain": [
       "[0.5943144803079656,\n",
       " 0.5943144803079656,\n",
       " 0.5943144803079656,\n",
       " 0.5943144803079656,\n",
       " 0.5943144803079656,\n",
       " 0.5943144803079656,\n",
       " 0.5943144803079656,\n",
       " 0.5943144803079656,\n",
       " 0.5943144803079656,\n",
       " 0.5943144803079656,\n",
       " 0.5943144803079656,\n",
       " 0.5943144803079656,\n",
       " 0.5943144803079656,\n",
       " 0.5943144803079656,\n",
       " 0.5943144803079656,\n",
       " 0.5943144803079656,\n",
       " 0.5943144803079656,\n",
       " 0.5943144803079656,\n",
       " 0.5943144803079656,\n",
       " 0.5943144803079656,\n",
       " 0.5943144803079656,\n",
       " 0.5943144803079656,\n",
       " 0.5943144803079656,\n",
       " 0.5943144803079656,\n",
       " 0.5943144803079656,\n",
       " 0.5943144803079656,\n",
       " 0.5943144803079656,\n",
       " 0.5943144803079656,\n",
       " 0.5943144803079656,\n",
       " 0.5943144803079656,\n",
       " 0.5943144803079656,\n",
       " 0.5943144803079656,\n",
       " 0.5943144803079656,\n",
       " 0.5943144803079656,\n",
       " 0.5943144803079656,\n",
       " 0.5943144803079656,\n",
       " 0.5943144803079656,\n",
       " 0.5943144803079656,\n",
       " 0.5943144803079656,\n",
       " 0.5943144803079656,\n",
       " 0.5943144803079656,\n",
       " 0.5943144803079656,\n",
       " 0.5943144803079656,\n",
       " 0.5943144803079656,\n",
       " 0.5943144803079656,\n",
       " 0.5943144803079656,\n",
       " 0.5943144803079656,\n",
       " 0.5943144803079656,\n",
       " 0.5943144803079656,\n",
       " 0.5943144803079656]"
      ]
     },
     "execution_count": 71,
     "metadata": {},
     "output_type": "execute_result"
    }
   ],
   "source": [
    "#Variar c no mejora nada\n",
    "scores2=variar_C(X_train, y_train,X_test, y_test)\n",
    "scores2"
   ]
  },
  {
   "cell_type": "code",
   "execution_count": 72,
   "metadata": {
    "scrolled": true
   },
   "outputs": [
    {
     "name": "stderr",
     "output_type": "stream",
     "text": [
      "/home/leandro/anaconda3/lib/python3.8/site-packages/scipy/optimize/linesearch.py:477: LineSearchWarning: The line search algorithm did not converge\n",
      "  warn('The line search algorithm did not converge', LineSearchWarning)\n",
      "/home/leandro/anaconda3/lib/python3.8/site-packages/scipy/optimize/linesearch.py:327: LineSearchWarning: The line search algorithm did not converge\n",
      "  warn('The line search algorithm did not converge', LineSearchWarning)\n",
      "/home/leandro/anaconda3/lib/python3.8/site-packages/sklearn/utils/optimize.py:211: ConvergenceWarning: newton-cg failed to converge. Increase the number of iterations.\n",
      "  warnings.warn(\"newton-cg failed to converge. Increase the \"\n",
      "/home/leandro/anaconda3/lib/python3.8/site-packages/sklearn/linear_model/_sag.py:329: ConvergenceWarning: The max_iter was reached which means the coef_ did not converge\n",
      "  warnings.warn(\"The max_iter was reached which means \"\n",
      "/home/leandro/anaconda3/lib/python3.8/site-packages/sklearn/linear_model/_sag.py:329: ConvergenceWarning: The max_iter was reached which means the coef_ did not converge\n",
      "  warnings.warn(\"The max_iter was reached which means \"\n"
     ]
    },
    {
     "data": {
      "text/plain": [
       "[0.8092981936630145,\n",
       " 0.5943144803079656,\n",
       " 0.5960912052117264,\n",
       " 0.431448030796565,\n",
       " 0.4284868226236304]"
      ]
     },
     "execution_count": 72,
     "metadata": {},
     "output_type": "execute_result"
    }
   ],
   "source": [
    "scores3=variar_solver(X_train, y_train,X_test, y_test)\n",
    "scores3"
   ]
  },
  {
   "cell_type": "markdown",
   "metadata": {},
   "source": [
    "# Archivos Fernando"
   ]
  },
  {
   "cell_type": "code",
   "execution_count": 75,
   "metadata": {},
   "outputs": [],
   "source": [
    "test_fer = pd.read_csv('/home/leandro/Documentos/Organizacion de datos/Datos Pesados/210227_tp2_test_feng.csv')\n",
    "train_fer = pd.read_csv('/home/leandro/Documentos/Organizacion de datos/Datos Pesados/210227_tp2_train_feng.csv')"
   ]
  },
  {
   "cell_type": "code",
   "execution_count": 76,
   "metadata": {},
   "outputs": [],
   "source": [
    "X_train, X_test, y_train, y_test = \\\n",
    "    train_test_split(train_fer.drop(columns = 'Stage'), train_fer['Stage'], test_size=0.2, random_state=123)\n"
   ]
  },
  {
   "cell_type": "code",
   "execution_count": 26,
   "metadata": {},
   "outputs": [
    {
     "data": {
      "text/plain": [
       "0.5666156202143952"
      ]
     },
     "execution_count": 26,
     "metadata": {},
     "output_type": "execute_result"
    }
   ],
   "source": [
    "\n",
    "lr = LogisticRegression(solver='liblinear',multi_class='ovr')\n",
    "lr.fit(X_train, y_train)\n",
    "lr.score(X_test, y_test)"
   ]
  },
  {
   "cell_type": "code",
   "execution_count": 18,
   "metadata": {},
   "outputs": [
    {
     "data": {
      "text/plain": [
       "array([[0.4706627 , 0.5293373 ],\n",
       "       [0.48115587, 0.51884413],\n",
       "       [0.46300304, 0.53699696],\n",
       "       ...,\n",
       "       [0.45276036, 0.54723964],\n",
       "       [0.45301865, 0.54698135],\n",
       "       [0.45778136, 0.54221864]])"
      ]
     },
     "execution_count": 18,
     "metadata": {},
     "output_type": "execute_result"
    }
   ],
   "source": [
    "predicts = lr.predict_proba(test_fer)\n",
    "predicts"
   ]
  },
  {
   "cell_type": "code",
   "execution_count": 19,
   "metadata": {},
   "outputs": [
    {
     "data": {
      "text/html": [
       "<div>\n",
       "<style scoped>\n",
       "    .dataframe tbody tr th:only-of-type {\n",
       "        vertical-align: middle;\n",
       "    }\n",
       "\n",
       "    .dataframe tbody tr th {\n",
       "        vertical-align: top;\n",
       "    }\n",
       "\n",
       "    .dataframe thead th {\n",
       "        text-align: right;\n",
       "    }\n",
       "</style>\n",
       "<table border=\"1\" class=\"dataframe\">\n",
       "  <thead>\n",
       "    <tr style=\"text-align: right;\">\n",
       "      <th></th>\n",
       "      <th>Target</th>\n",
       "    </tr>\n",
       "    <tr>\n",
       "      <th>Opportunity_ID</th>\n",
       "      <th></th>\n",
       "    </tr>\n",
       "  </thead>\n",
       "  <tbody>\n",
       "    <tr>\n",
       "      <th>10689</th>\n",
       "      <td>0.529337</td>\n",
       "    </tr>\n",
       "    <tr>\n",
       "      <th>10690</th>\n",
       "      <td>0.518844</td>\n",
       "    </tr>\n",
       "    <tr>\n",
       "      <th>10691</th>\n",
       "      <td>0.536997</td>\n",
       "    </tr>\n",
       "    <tr>\n",
       "      <th>10692</th>\n",
       "      <td>0.483132</td>\n",
       "    </tr>\n",
       "    <tr>\n",
       "      <th>10693</th>\n",
       "      <td>0.537111</td>\n",
       "    </tr>\n",
       "    <tr>\n",
       "      <th>...</th>\n",
       "      <td>...</td>\n",
       "    </tr>\n",
       "    <tr>\n",
       "      <th>12364</th>\n",
       "      <td>0.545318</td>\n",
       "    </tr>\n",
       "    <tr>\n",
       "      <th>12365</th>\n",
       "      <td>0.547593</td>\n",
       "    </tr>\n",
       "    <tr>\n",
       "      <th>12366</th>\n",
       "      <td>0.547240</td>\n",
       "    </tr>\n",
       "    <tr>\n",
       "      <th>12367</th>\n",
       "      <td>0.546981</td>\n",
       "    </tr>\n",
       "    <tr>\n",
       "      <th>12368</th>\n",
       "      <td>0.542219</td>\n",
       "    </tr>\n",
       "  </tbody>\n",
       "</table>\n",
       "<p>1567 rows × 1 columns</p>\n",
       "</div>"
      ],
      "text/plain": [
       "                  Target\n",
       "Opportunity_ID          \n",
       "10689           0.529337\n",
       "10690           0.518844\n",
       "10691           0.536997\n",
       "10692           0.483132\n",
       "10693           0.537111\n",
       "...                  ...\n",
       "12364           0.545318\n",
       "12365           0.547593\n",
       "12366           0.547240\n",
       "12367           0.546981\n",
       "12368           0.542219\n",
       "\n",
       "[1567 rows x 1 columns]"
      ]
     },
     "execution_count": 19,
     "metadata": {},
     "output_type": "execute_result"
    }
   ],
   "source": [
    "output = pd.DataFrame({'Opportunity_ID':test_fer.Opportunity_ID, 'Target': predicts[:,1]})\n",
    "output = output.groupby('Opportunity_ID').max()\n",
    "output"
   ]
  },
  {
   "cell_type": "code",
   "execution_count": 20,
   "metadata": {},
   "outputs": [],
   "source": [
    "output.to_csv('/home/leandro/Documentos/Organizacion de datos/Fiuba-Big-Data-Analytics-TPs/Tp 2/Resultados/LogisticRegressionScore3.csv')"
   ]
  },
  {
   "cell_type": "markdown",
   "metadata": {},
   "source": [
    "# Variando parametros con los datos de fernando"
   ]
  },
  {
   "cell_type": "code",
   "execution_count": 77,
   "metadata": {},
   "outputs": [
    {
     "data": {
      "text/plain": [
       "[0.5666156202143952, 0.5666156202143952]"
      ]
     },
     "execution_count": 77,
     "metadata": {},
     "output_type": "execute_result"
    }
   ],
   "source": [
    "#Variar el penalty tampoco influye\n",
    "scores=variar_penalty(X_train, y_train,X_test, y_test)\n",
    "scores  \n",
    "\n",
    "\n"
   ]
  },
  {
   "cell_type": "code",
   "execution_count": 78,
   "metadata": {
    "scrolled": true
   },
   "outputs": [
    {
     "data": {
      "text/plain": [
       "[0.5666156202143952,\n",
       " 0.5666156202143952,\n",
       " 0.5666156202143952,\n",
       " 0.5666156202143952,\n",
       " 0.5666156202143952,\n",
       " 0.5666156202143952,\n",
       " 0.5666156202143952,\n",
       " 0.5666156202143952,\n",
       " 0.5666156202143952,\n",
       " 0.5666156202143952,\n",
       " 0.5666156202143952,\n",
       " 0.5666156202143952,\n",
       " 0.5666156202143952,\n",
       " 0.5666156202143952,\n",
       " 0.5666156202143952,\n",
       " 0.5666156202143952,\n",
       " 0.5666156202143952,\n",
       " 0.5666156202143952,\n",
       " 0.5666156202143952,\n",
       " 0.5666156202143952,\n",
       " 0.5666156202143952,\n",
       " 0.5666156202143952,\n",
       " 0.5666156202143952,\n",
       " 0.5666156202143952,\n",
       " 0.5666156202143952,\n",
       " 0.5666156202143952,\n",
       " 0.5666156202143952,\n",
       " 0.5666156202143952,\n",
       " 0.5666156202143952,\n",
       " 0.5666156202143952,\n",
       " 0.5666156202143952,\n",
       " 0.5666156202143952,\n",
       " 0.5666156202143952,\n",
       " 0.5666156202143952,\n",
       " 0.5666156202143952,\n",
       " 0.5666156202143952,\n",
       " 0.5666156202143952,\n",
       " 0.5666156202143952,\n",
       " 0.5666156202143952,\n",
       " 0.5666156202143952,\n",
       " 0.5666156202143952,\n",
       " 0.5666156202143952,\n",
       " 0.5666156202143952,\n",
       " 0.5666156202143952,\n",
       " 0.5666156202143952,\n",
       " 0.5666156202143952,\n",
       " 0.5666156202143952,\n",
       " 0.5666156202143952,\n",
       " 0.5666156202143952,\n",
       " 0.5666156202143952]"
      ]
     },
     "execution_count": 78,
     "metadata": {},
     "output_type": "execute_result"
    }
   ],
   "source": [
    "#Variar c no mejora nada\n",
    "scores2=variar_C(X_train, y_train,X_test, y_test)\n",
    "scores2"
   ]
  },
  {
   "cell_type": "code",
   "execution_count": 79,
   "metadata": {},
   "outputs": [
    {
     "name": "stderr",
     "output_type": "stream",
     "text": [
      "/home/leandro/anaconda3/lib/python3.8/site-packages/scipy/optimize/linesearch.py:477: LineSearchWarning: The line search algorithm did not converge\n",
      "  warn('The line search algorithm did not converge', LineSearchWarning)\n",
      "/home/leandro/anaconda3/lib/python3.8/site-packages/scipy/optimize/linesearch.py:327: LineSearchWarning: The line search algorithm did not converge\n",
      "  warn('The line search algorithm did not converge', LineSearchWarning)\n",
      "/home/leandro/anaconda3/lib/python3.8/site-packages/sklearn/utils/optimize.py:211: ConvergenceWarning: newton-cg failed to converge. Increase the number of iterations.\n",
      "  warnings.warn(\"newton-cg failed to converge. Increase the \"\n",
      "/home/leandro/anaconda3/lib/python3.8/site-packages/sklearn/linear_model/_sag.py:329: ConvergenceWarning: The max_iter was reached which means the coef_ did not converge\n",
      "  warnings.warn(\"The max_iter was reached which means \"\n",
      "/home/leandro/anaconda3/lib/python3.8/site-packages/sklearn/linear_model/_sag.py:329: ConvergenceWarning: The max_iter was reached which means the coef_ did not converge\n",
      "  warnings.warn(\"The max_iter was reached which means \"\n"
     ]
    },
    {
     "data": {
      "text/plain": [
       "[0.7799897907095457,\n",
       " 0.5666156202143952,\n",
       " 0.5666156202143952,\n",
       " 0.47371107708014293,\n",
       " 0.47320061255742724]"
      ]
     },
     "execution_count": 79,
     "metadata": {},
     "output_type": "execute_result"
    }
   ],
   "source": [
    "\n",
    "scores3=variar_solver(X_train, y_train,X_test, y_test)\n",
    "scores3"
   ]
  },
  {
   "cell_type": "code",
   "execution_count": null,
   "metadata": {},
   "outputs": [],
   "source": []
  }
 ],
 "metadata": {
  "kernelspec": {
   "display_name": "Python 3",
   "language": "python",
   "name": "python3"
  },
  "language_info": {
   "codemirror_mode": {
    "name": "ipython",
    "version": 3
   },
   "file_extension": ".py",
   "mimetype": "text/x-python",
   "name": "python",
   "nbconvert_exporter": "python",
   "pygments_lexer": "ipython3",
   "version": "3.8.5"
  }
 },
 "nbformat": 4,
 "nbformat_minor": 4
}
