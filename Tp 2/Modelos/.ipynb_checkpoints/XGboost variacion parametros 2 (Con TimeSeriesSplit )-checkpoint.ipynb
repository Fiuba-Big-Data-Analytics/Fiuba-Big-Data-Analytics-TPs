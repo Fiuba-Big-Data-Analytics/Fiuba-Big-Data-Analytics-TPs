{
 "cells": [
  {
   "cell_type": "code",
   "execution_count": 16,
   "metadata": {},
   "outputs": [],
   "source": [
    "import pandas as pd\n",
    "import numpy as np\n",
    "import matplotlib.pyplot as plt\n",
    "from matplotlib.colors import ListedColormap\n",
    "import matplotlib.patches as mpatches\n",
    "import seaborn as sb\n",
    "\n",
    "from sklearn.preprocessing import OneHotEncoder\n",
    "from sklearn.ensemble import RandomForestRegressor\n",
    "from sklearn.metrics import mean_squared_error\n",
    "from sklearn import tree\n",
    "\n",
    "import xgboost as xgb\n",
    "from xgboost.sklearn import XGBClassifier\n",
    "from sklearn.model_selection import cross_validate\n",
    "from sklearn import  metrics   #Additional scklearn functions\n",
    "from sklearn.model_selection import GridSearchCV  #Perforing grid search\n",
    "\n",
    "from sklearn.model_selection import TimeSeriesSplit\n",
    "\n",
    "import matplotlib.pylab as plt"
   ]
  },
  {
   "cell_type": "code",
   "execution_count": 17,
   "metadata": {},
   "outputs": [],
   "source": [
    "test = pd.read_csv('/home/leandro/Documentos/Organizacion de datos/Datos Pesados/210301_feng_Test_TP2_Datos_2020-2C.csv')\n",
    "train = pd.read_csv('/home/leandro/Documentos/Organizacion de datos/Datos Pesados/210301_feng_Train_TP2_Datos_2020-2C.csv')\n",
    "\n",
    "\n",
    "test = test.drop(columns =\"Unnamed: 0\")\n",
    "train = train.drop(columns =\"Unnamed: 0\")"
   ]
  },
  {
   "cell_type": "code",
   "execution_count": 18,
   "metadata": {},
   "outputs": [],
   "source": [
    "tscv = TimeSeriesSplit(n_splits=5)"
   ]
  },
  {
   "cell_type": "code",
   "execution_count": 19,
   "metadata": {},
   "outputs": [],
   "source": [
    "from sklearn.model_selection import train_test_split\n",
    "\n",
    "X_train, X_test, y_train, y_test = \\\n",
    "    train_test_split(train.drop(columns = 'Stage'), train['Stage'], test_size=0.2, random_state=123)\n"
   ]
  },
  {
   "cell_type": "code",
   "execution_count": 13,
   "metadata": {},
   "outputs": [
    {
     "name": "stdout",
     "output_type": "stream",
     "text": [
      "RMSE: 0.334591\n"
     ]
    },
    {
     "data": {
      "text/plain": [
       "0.5515726830790533"
      ]
     },
     "execution_count": 13,
     "metadata": {},
     "output_type": "execute_result"
    }
   ],
   "source": [
    "xg_reg = xgb.XGBRegressor(\n",
    "                colsample_bytree = 0.3, learning_rate = 0.1,\n",
    "                max_depth = 50, alpha = 25, n_estimators = 100)\n",
    "\n",
    "\n",
    "xg_reg.fit(X_train,y_train)\n",
    "\n",
    "\n",
    "\n",
    "preds = xg_reg.predict(X_test)\n",
    "rmse = np.sqrt(mean_squared_error(y_test, preds))\n",
    "print(\"RMSE: %f\" % (rmse))\n",
    "\n",
    "xg_reg.score(X_test,y_test)"
   ]
  },
  {
   "cell_type": "code",
   "execution_count": 14,
   "metadata": {},
   "outputs": [
    {
     "name": "stdout",
     "output_type": "stream",
     "text": [
      "RMSE: 0.322070\n"
     ]
    },
    {
     "data": {
      "text/plain": [
       "0.5845059160966137"
      ]
     },
     "execution_count": 14,
     "metadata": {},
     "output_type": "execute_result"
    }
   ],
   "source": [
    "xg_reg = xgb.XGBRegressor(max_depth = 5,min_child_weight = 1,gamma = 0,subsample = 0.8\n",
    "                          , colsample_bytree = 0.8,scale_pos_weight = 1 )\n",
    "\n",
    "\n",
    "xg_reg.fit(X_train,y_train)\n",
    "\n",
    "\n",
    "\n",
    "preds = xg_reg.predict(X_test)\n",
    "rmse = np.sqrt(mean_squared_error(y_test, preds))\n",
    "print(\"RMSE: %f\" % (rmse))\n",
    "xg_reg.score(X_test,y_test)"
   ]
  },
  {
   "cell_type": "code",
   "execution_count": 20,
   "metadata": {},
   "outputs": [],
   "source": [
    "def modelfit(alg, dtrain, predictors,useTrainCV=True, cv_folds=5, early_stopping_rounds=50):\n",
    "    \n",
    "    if useTrainCV:\n",
    "        xgb_param = alg.get_xgb_params()\n",
    "        xgtrain = xgb.DMatrix(dtrain[predictors].values, label=dtrain[\"Stage\"].values)\n",
    "        cvresult = xgb.cv(xgb_param, xgtrain, num_boost_round=alg.get_params()['n_estimators'], nfold=cv_folds,\n",
    "            metrics='auc', early_stopping_rounds=early_stopping_rounds)#, show_progress=False)\n",
    "        alg.set_params(n_estimators=cvresult.shape[0])\n",
    "    \n",
    "    #Fit the algorithm on the data\n",
    "    alg.fit(dtrain[predictors], dtrain['Stage'],eval_metric='auc')\n",
    "        \n",
    "    #Predict training set:\n",
    "    dtrain_predictions = alg.predict(dtrain[predictors])\n",
    "    dtrain_predprob = alg.predict_proba(dtrain[predictors])[:,1]\n",
    "        \n",
    "    #Print model report:\n",
    "    print(\"\\nModel Report\")\n",
    "    print( \"Accuracy : %.4g\" % metrics.accuracy_score(dtrain['Stage'].values, dtrain_predictions))\n",
    "    print( \"AUC Score (Train): %f\" % metrics.roc_auc_score(dtrain['Stage'], dtrain_predprob))\n",
    "                    \n",
    "    feat_imp = pd.Series(alg.get_booster().get_score(importance_type='gain')).sort_values(ascending=False)\n",
    "    feat_imp.drop('Opportunity_ID').head(10).plot(kind='bar', title='Feature Importances')\n",
    "    plt.ylabel('Feature Importance Score')"
   ]
  },
  {
   "cell_type": "code",
   "execution_count": 21,
   "metadata": {},
   "outputs": [],
   "source": [
    "predictors = [x for x in train.columns if x not in [\"Stage\"]]\n",
    "xgb1 = XGBClassifier(\n",
    " learning_rate =0.1,\n",
    " n_estimators=1000,\n",
    " max_depth=5,\n",
    " min_child_weight=1,\n",
    " gamma=0,\n",
    " subsample=0.8,\n",
    " colsample_bytree=0.8,\n",
    " objective= 'binary:logistic',\n",
    " nthread=4,\n",
    " scale_pos_weight=1,\n",
    " seed=27)"
   ]
  },
  {
   "cell_type": "code",
   "execution_count": 11,
   "metadata": {},
   "outputs": [
    {
     "name": "stdout",
     "output_type": "stream",
     "text": [
      "\n",
      "Model Report\n",
      "Accuracy : 0.9679\n",
      "AUC Score (Train): 0.995247\n"
     ]
    },
    {
     "data": {
      "image/png": "[encoded data removed]",
      "text/plain": [
       "<Figure size 432x288 with 1 Axes>"
      ]
     },
     "metadata": {
      "needs_background": "light"
     },
     "output_type": "display_data"
    }
   ],
   "source": [
    "modelfit(xgb1, train, predictors)"
   ]
  },
  {
   "cell_type": "markdown",
   "metadata": {},
   "source": [
    "# Tune max_depth and min_child_weight"
   ]
  },
  {
   "cell_type": "code",
   "execution_count": 12,
   "metadata": {},
   "outputs": [
    {
     "name": "stderr",
     "output_type": "stream",
     "text": [
      "/home/leandro/anaconda3/lib/python3.8/site-packages/sklearn/model_selection/_search.py:847: FutureWarning: The parameter 'iid' is deprecated in 0.22 and will be removed in 0.24.\n",
      "  warnings.warn(\n"
     ]
    },
    {
     "data": {
      "text/plain": [
       "({'mean_fit_time': array([ 50.73302817,  53.97526097,  52.84548211,  81.16221981,\n",
       "          84.69644628,  85.92160287, 119.76211934, 119.87061644,\n",
       "         121.67541237, 155.77842326, 156.0815587 , 124.44345655]),\n",
       "  'std_fit_time': array([19.01684299, 20.3343945 , 21.20514425, 31.39115207, 32.3013088 ,\n",
       "         32.32152059, 43.63630453, 42.63461213, 47.64553964, 54.79714177,\n",
       "         61.19074202, 32.0797741 ]),\n",
       "  'mean_score_time': array([0.99174294, 0.87080317, 0.86549478, 0.90478959, 0.9497354 ,\n",
       "         0.93956757, 0.78528395, 0.9338707 , 0.89821715, 0.86653523,\n",
       "         1.02046885, 0.57857156]),\n",
       "  'std_score_time': array([0.15343537, 0.18196474, 0.22820943, 0.17717767, 0.18154905,\n",
       "         0.17262373, 0.21352253, 0.05915702, 0.13248853, 0.26381222,\n",
       "         0.20976181, 0.22125572]),\n",
       "  'param_max_depth': masked_array(data=[3, 3, 3, 5, 5, 5, 7, 7, 7, 9, 9, 9],\n",
       "               mask=[False, False, False, False, False, False, False, False,\n",
       "                     False, False, False, False],\n",
       "         fill_value='?',\n",
       "              dtype=object),\n",
       "  'param_min_child_weight': masked_array(data=[1, 3, 5, 1, 3, 5, 1, 3, 5, 1, 3, 5],\n",
       "               mask=[False, False, False, False, False, False, False, False,\n",
       "                     False, False, False, False],\n",
       "         fill_value='?',\n",
       "              dtype=object),\n",
       "  'params': [{'max_depth': 3, 'min_child_weight': 1},\n",
       "   {'max_depth': 3, 'min_child_weight': 3},\n",
       "   {'max_depth': 3, 'min_child_weight': 5},\n",
       "   {'max_depth': 5, 'min_child_weight': 1},\n",
       "   {'max_depth': 5, 'min_child_weight': 3},\n",
       "   {'max_depth': 5, 'min_child_weight': 5},\n",
       "   {'max_depth': 7, 'min_child_weight': 1},\n",
       "   {'max_depth': 7, 'min_child_weight': 3},\n",
       "   {'max_depth': 7, 'min_child_weight': 5},\n",
       "   {'max_depth': 9, 'min_child_weight': 1},\n",
       "   {'max_depth': 9, 'min_child_weight': 3},\n",
       "   {'max_depth': 9, 'min_child_weight': 5}],\n",
       "  'split0_test_score': array([0.92140745, 0.91994962, 0.9183417 , 0.92394452, 0.91881382,\n",
       "         0.91896768, 0.91829193, 0.91770367, 0.91630541, 0.92206586,\n",
       "         0.9217672 , 0.91474878]),\n",
       "  'split1_test_score': array([0.87234513, 0.87216701, 0.86831414, 0.87179862, 0.86100331,\n",
       "         0.86015057, 0.86790179, 0.86132394, 0.86303548, 0.8676941 ,\n",
       "         0.86266104, 0.86435211]),\n",
       "  'split2_test_score': array([0.81347718, 0.8138388 , 0.8114971 , 0.82530319, 0.82160944,\n",
       "         0.81570065, 0.82778924, 0.82434655, 0.8155256 , 0.82579534,\n",
       "         0.82280716, 0.82272885]),\n",
       "  'split3_test_score': array([0.89333291, 0.89280168, 0.89203041, 0.89753013, 0.89060525,\n",
       "         0.88751565, 0.90024049, 0.89005671, 0.87991958, 0.89757076,\n",
       "         0.8926858 , 0.8787164 ]),\n",
       "  'split4_test_score': array([0.91831056, 0.91737399, 0.91602947, 0.91828643, 0.9192788 ,\n",
       "         0.91431092, 0.91532214, 0.91598347, 0.91579193, 0.9137514 ,\n",
       "         0.91333816, 0.91393464]),\n",
       "  'mean_test_score': array([0.88377465, 0.88322622, 0.88124256, 0.88737258, 0.88226212,\n",
       "         0.87932909, 0.88590912, 0.88188287, 0.8781156 , 0.88537549,\n",
       "         0.88265187, 0.87889616]),\n",
       "  'std_test_score': array([0.03942762, 0.03884144, 0.03933046, 0.03603195, 0.03716599,\n",
       "         0.03815327, 0.03412138, 0.03534371, 0.03748637, 0.03510705,\n",
       "         0.0362032 , 0.0342912 ]),\n",
       "  'rank_test_score': array([ 4,  5,  9,  1,  7, 10,  2,  8, 12,  3,  6, 11], dtype=int32)},\n",
       " {'max_depth': 5, 'min_child_weight': 1},\n",
       " 0.8873725793861589)"
      ]
     },
     "execution_count": 12,
     "metadata": {},
     "output_type": "execute_result"
    }
   ],
   "source": [
    "param_test1 = {\n",
    " 'max_depth':range(3,10,2),\n",
    " 'min_child_weight':range(1,6,2)\n",
    "}\n",
    "gsearch1 = GridSearchCV(estimator = XGBClassifier( learning_rate =0.1, n_estimators=140, max_depth=5,\n",
    " min_child_weight=1, gamma=0, subsample=0.8, colsample_bytree=0.8,\n",
    " objective= 'binary:logistic', nthread=4, scale_pos_weight=1, seed=27), \n",
    " param_grid = param_test1, scoring='roc_auc',n_jobs=4,iid=False, cv=tscv)\n",
    "gsearch1.fit(train[predictors],train[\"Stage\"])\n",
    "\n",
    "gsearch1.cv_results_, gsearch1.best_params_, gsearch1.best_score_"
   ]
  },
  {
   "cell_type": "code",
   "execution_count": 15,
   "metadata": {},
   "outputs": [
    {
     "data": {
      "text/plain": [
       "({'mean_fit_time': array([ 50.73302817,  53.97526097,  52.84548211,  81.16221981,\n",
       "          84.69644628,  85.92160287, 119.76211934, 119.87061644,\n",
       "         121.67541237, 155.77842326, 156.0815587 , 124.44345655]),\n",
       "  'std_fit_time': array([19.01684299, 20.3343945 , 21.20514425, 31.39115207, 32.3013088 ,\n",
       "         32.32152059, 43.63630453, 42.63461213, 47.64553964, 54.79714177,\n",
       "         61.19074202, 32.0797741 ]),\n",
       "  'mean_score_time': array([0.99174294, 0.87080317, 0.86549478, 0.90478959, 0.9497354 ,\n",
       "         0.93956757, 0.78528395, 0.9338707 , 0.89821715, 0.86653523,\n",
       "         1.02046885, 0.57857156]),\n",
       "  'std_score_time': array([0.15343537, 0.18196474, 0.22820943, 0.17717767, 0.18154905,\n",
       "         0.17262373, 0.21352253, 0.05915702, 0.13248853, 0.26381222,\n",
       "         0.20976181, 0.22125572]),\n",
       "  'param_max_depth': masked_array(data=[3, 3, 3, 5, 5, 5, 7, 7, 7, 9, 9, 9],\n",
       "               mask=[False, False, False, False, False, False, False, False,\n",
       "                     False, False, False, False],\n",
       "         fill_value='?',\n",
       "              dtype=object),\n",
       "  'param_min_child_weight': masked_array(data=[1, 3, 5, 1, 3, 5, 1, 3, 5, 1, 3, 5],\n",
       "               mask=[False, False, False, False, False, False, False, False,\n",
       "                     False, False, False, False],\n",
       "         fill_value='?',\n",
       "              dtype=object),\n",
       "  'params': [{'max_depth': 3, 'min_child_weight': 1},\n",
       "   {'max_depth': 3, 'min_child_weight': 3},\n",
       "   {'max_depth': 3, 'min_child_weight': 5},\n",
       "   {'max_depth': 5, 'min_child_weight': 1},\n",
       "   {'max_depth': 5, 'min_child_weight': 3},\n",
       "   {'max_depth': 5, 'min_child_weight': 5},\n",
       "   {'max_depth': 7, 'min_child_weight': 1},\n",
       "   {'max_depth': 7, 'min_child_weight': 3},\n",
       "   {'max_depth': 7, 'min_child_weight': 5},\n",
       "   {'max_depth': 9, 'min_child_weight': 1},\n",
       "   {'max_depth': 9, 'min_child_weight': 3},\n",
       "   {'max_depth': 9, 'min_child_weight': 5}],\n",
       "  'split0_test_score': array([0.92140745, 0.91994962, 0.9183417 , 0.92394452, 0.91881382,\n",
       "         0.91896768, 0.91829193, 0.91770367, 0.91630541, 0.92206586,\n",
       "         0.9217672 , 0.91474878]),\n",
       "  'split1_test_score': array([0.87234513, 0.87216701, 0.86831414, 0.87179862, 0.86100331,\n",
       "         0.86015057, 0.86790179, 0.86132394, 0.86303548, 0.8676941 ,\n",
       "         0.86266104, 0.86435211]),\n",
       "  'split2_test_score': array([0.81347718, 0.8138388 , 0.8114971 , 0.82530319, 0.82160944,\n",
       "         0.81570065, 0.82778924, 0.82434655, 0.8155256 , 0.82579534,\n",
       "         0.82280716, 0.82272885]),\n",
       "  'split3_test_score': array([0.89333291, 0.89280168, 0.89203041, 0.89753013, 0.89060525,\n",
       "         0.88751565, 0.90024049, 0.89005671, 0.87991958, 0.89757076,\n",
       "         0.8926858 , 0.8787164 ]),\n",
       "  'split4_test_score': array([0.91831056, 0.91737399, 0.91602947, 0.91828643, 0.9192788 ,\n",
       "         0.91431092, 0.91532214, 0.91598347, 0.91579193, 0.9137514 ,\n",
       "         0.91333816, 0.91393464]),\n",
       "  'mean_test_score': array([0.88377465, 0.88322622, 0.88124256, 0.88737258, 0.88226212,\n",
       "         0.87932909, 0.88590912, 0.88188287, 0.8781156 , 0.88537549,\n",
       "         0.88265187, 0.87889616]),\n",
       "  'std_test_score': array([0.03942762, 0.03884144, 0.03933046, 0.03603195, 0.03716599,\n",
       "         0.03815327, 0.03412138, 0.03534371, 0.03748637, 0.03510705,\n",
       "         0.0362032 , 0.0342912 ]),\n",
       "  'rank_test_score': array([ 4,  5,  9,  1,  7, 10,  2,  8, 12,  3,  6, 11], dtype=int32)},\n",
       " {'max_depth': 5, 'min_child_weight': 1},\n",
       " 0.8873725793861589)"
      ]
     },
     "execution_count": 15,
     "metadata": {},
     "output_type": "execute_result"
    }
   ],
   "source": [
    "\n",
    "gsearch1.cv_results_, gsearch1.best_params_, gsearch1.best_score_"
   ]
  },
  {
   "cell_type": "code",
   "execution_count": 20,
   "metadata": {},
   "outputs": [
    {
     "name": "stderr",
     "output_type": "stream",
     "text": [
      "/home/leandro/anaconda3/lib/python3.8/site-packages/sklearn/model_selection/_search.py:847: FutureWarning: The parameter 'iid' is deprecated in 0.22 and will be removed in 0.24.\n",
      "  warnings.warn(\n"
     ]
    },
    {
     "data": {
      "text/plain": [
       "({'mean_fit_time': array([47.76903796, 47.20524249, 48.55128784, 58.41580453, 58.8877305 ,\n",
       "         58.65454402, 68.78006229, 68.6558692 , 58.50417256]),\n",
       "  'std_fit_time': array([ 0.8151399 ,  0.37421055,  0.46165504,  0.59362976,  0.27956825,\n",
       "          0.58772381,  0.6215374 ,  0.73575335, 15.98070237]),\n",
       "  'mean_score_time': array([0.37123828, 0.39295635, 0.40255332, 0.43442278, 0.4409297 ,\n",
       "         0.41628232, 0.38759789, 0.38561516, 0.3183641 ]),\n",
       "  'std_score_time': array([0.06587819, 0.12773404, 0.07286085, 0.06208985, 0.03649653,\n",
       "         0.08138821, 0.07616717, 0.04768696, 0.1046329 ]),\n",
       "  'param_max_depth': masked_array(data=[4, 4, 4, 5, 5, 5, 6, 6, 6],\n",
       "               mask=[False, False, False, False, False, False, False, False,\n",
       "                     False],\n",
       "         fill_value='?',\n",
       "              dtype=object),\n",
       "  'param_min_child_weight': masked_array(data=[4, 5, 6, 4, 5, 6, 4, 5, 6],\n",
       "               mask=[False, False, False, False, False, False, False, False,\n",
       "                     False],\n",
       "         fill_value='?',\n",
       "              dtype=object),\n",
       "  'params': [{'max_depth': 4, 'min_child_weight': 4},\n",
       "   {'max_depth': 4, 'min_child_weight': 5},\n",
       "   {'max_depth': 4, 'min_child_weight': 6},\n",
       "   {'max_depth': 5, 'min_child_weight': 4},\n",
       "   {'max_depth': 5, 'min_child_weight': 5},\n",
       "   {'max_depth': 5, 'min_child_weight': 6},\n",
       "   {'max_depth': 6, 'min_child_weight': 4},\n",
       "   {'max_depth': 6, 'min_child_weight': 5},\n",
       "   {'max_depth': 6, 'min_child_weight': 6}],\n",
       "  'split0_test_score': array([0.89140436, 0.8933868 , 0.89273399, 0.87912196, 0.88624134,\n",
       "         0.88442588, 0.87014173, 0.87537572, 0.88173896]),\n",
       "  'split1_test_score': array([0.79176957, 0.79779329, 0.78144954, 0.74004143, 0.75471001,\n",
       "         0.73471818, 0.72558127, 0.73367192, 0.70682584]),\n",
       "  'split2_test_score': array([0.74775808, 0.7880515 , 0.77984018, 0.74681681, 0.77858341,\n",
       "         0.71107096, 0.7230975 , 0.74149983, 0.73165304]),\n",
       "  'split3_test_score': array([0.8681703 , 0.86688428, 0.8672191 , 0.87245042, 0.87000844,\n",
       "         0.87460667, 0.87309082, 0.87524603, 0.87011918]),\n",
       "  'split4_test_score': array([0.9168731 , 0.91287057, 0.91688772, 0.91768906, 0.91288676,\n",
       "         0.91763735, 0.918201  , 0.91179602, 0.91065617]),\n",
       "  'mean_test_score': array([0.84319508, 0.85179729, 0.84762611, 0.83122394, 0.84048599,\n",
       "         0.82449181, 0.82202246, 0.8275179 , 0.82019864]),\n",
       "  'std_test_score': array([0.06344943, 0.05033331, 0.05690351, 0.07336058, 0.06228394,\n",
       "         0.0845024 , 0.08156078, 0.07466903, 0.08385172]),\n",
       "  'rank_test_score': array([3, 1, 2, 5, 4, 7, 8, 6, 9], dtype=int32)},\n",
       " {'max_depth': 4, 'min_child_weight': 5},\n",
       " 0.8517972864363916)"
      ]
     },
     "execution_count": 20,
     "metadata": {},
     "output_type": "execute_result"
    }
   ],
   "source": [
    "param_test2 = {\n",
    " 'max_depth':[4,5,6],\n",
    " 'min_child_weight':[4,5,6]\n",
    "}\n",
    "gsearch2 = GridSearchCV(estimator = XGBClassifier( learning_rate=0.1, n_estimators=140, max_depth=5,\n",
    " min_child_weight=2, gamma=0, subsample=0.8, colsample_bytree=0.8,\n",
    " objective= 'binary:logistic', nthread=4, scale_pos_weight=1,seed=27), \n",
    " param_grid = param_test2, scoring='roc_auc',n_jobs=4,iid=False, cv=tscv)\n",
    "gsearch2.fit(train[predictors],train[\"Stage\"])\n",
    "gsearch2.cv_results_, gsearch2.best_params_, gsearch2.best_score_"
   ]
  },
  {
   "cell_type": "code",
   "execution_count": 21,
   "metadata": {},
   "outputs": [
    {
     "name": "stderr",
     "output_type": "stream",
     "text": [
      "/home/leandro/anaconda3/lib/python3.8/site-packages/sklearn/model_selection/_search.py:847: FutureWarning: The parameter 'iid' is deprecated in 0.22 and will be removed in 0.24.\n",
      "  warnings.warn(\n"
     ]
    },
    {
     "data": {
      "text/plain": [
       "GridSearchCV(cv=5,\n",
       "             estimator=XGBClassifier(base_score=None, booster=None,\n",
       "                                     colsample_bylevel=None,\n",
       "                                     colsample_bynode=None,\n",
       "                                     colsample_bytree=0.8, gamma=0, gpu_id=None,\n",
       "                                     importance_type='gain',\n",
       "                                     interaction_constraints=None,\n",
       "                                     learning_rate=0.1, max_delta_step=None,\n",
       "                                     max_depth=4, min_child_weight=2,\n",
       "                                     missing=nan, monotone_constraints=None,\n",
       "                                     n_estimators=140, n_jobs=None, nthread=4,\n",
       "                                     num_parallel_tree=None, random_state=None,\n",
       "                                     reg_alpha=None, reg_lambda=None,\n",
       "                                     scale_pos_weight=1, seed=27, subsample=0.8,\n",
       "                                     tree_method=None, validate_parameters=None,\n",
       "                                     verbosity=None),\n",
       "             iid=False, n_jobs=4,\n",
       "             param_grid={'min_child_weight': [6, 8, 10, 12]},\n",
       "             scoring='roc_auc')"
      ]
     },
     "execution_count": 21,
     "metadata": {},
     "output_type": "execute_result"
    }
   ],
   "source": [
    "param_test2b = {\n",
    " 'min_child_weight':[6,8,10,12]\n",
    "}\n",
    "gsearch2b = GridSearchCV(estimator = XGBClassifier( learning_rate=0.1, n_estimators=140, max_depth=4,\n",
    " min_child_weight=2, gamma=0, subsample=0.8, colsample_bytree=0.8,\n",
    " objective= 'binary:logistic', nthread=4, scale_pos_weight=1,seed=27), \n",
    " param_grid = param_test2b, scoring='roc_auc',n_jobs=4,iid=False, cv=tscv)\n",
    "gsearch2b.fit(train[predictors],train[\"Stage\"])"
   ]
  },
  {
   "cell_type": "code",
   "execution_count": 22,
   "metadata": {},
   "outputs": [],
   "source": [
    "#modelfit(gsearch3.best_estimator_, train, predictors)\n",
    "#gsearch2b.grid_scores_, gsearch2b.best_params_, gsearch2b.best_score_"
   ]
  },
  {
   "cell_type": "code",
   "execution_count": 23,
   "metadata": {},
   "outputs": [
    {
     "name": "stdout",
     "output_type": "stream",
     "text": [
      "\n",
      "Model Report\n",
      "Accuracy : 0.8602\n",
      "AUC Score (Train): 0.938701\n"
     ]
    },
    {
     "data": {
      "text/plain": [
       "({'mean_fit_time': array([48.30391641, 47.61711683, 47.53398614, 47.13289957]),\n",
       "  'std_fit_time': array([0.54787308, 0.47248295, 0.5953419 , 0.57091136]),\n",
       "  'mean_score_time': array([0.36942301, 0.32418504, 0.37635694, 0.34894238]),\n",
       "  'std_score_time': array([0.06344989, 0.03131428, 0.05733904, 0.13129781]),\n",
       "  'param_min_child_weight': masked_array(data=[6, 8, 10, 12],\n",
       "               mask=[False, False, False, False],\n",
       "         fill_value='?',\n",
       "              dtype=object),\n",
       "  'params': [{'min_child_weight': 6},\n",
       "   {'min_child_weight': 8},\n",
       "   {'min_child_weight': 10},\n",
       "   {'min_child_weight': 12}],\n",
       "  'split0_test_score': array([0.89273399, 0.89277678, 0.89254404, 0.89359502]),\n",
       "  'split1_test_score': array([0.78144954, 0.77887749, 0.79598962, 0.74391151]),\n",
       "  'split2_test_score': array([0.77984018, 0.76770656, 0.75897655, 0.78062005]),\n",
       "  'split3_test_score': array([0.8672191 , 0.86795666, 0.86653274, 0.86601039]),\n",
       "  'split4_test_score': array([0.91688772, 0.91697705, 0.91409504, 0.90935908]),\n",
       "  'mean_test_score': array([0.84762611, 0.84485891, 0.8456276 , 0.83869921]),\n",
       "  'std_test_score': array([0.05690351, 0.06055855, 0.05881888, 0.06497717]),\n",
       "  'rank_test_score': array([1, 3, 2, 4], dtype=int32)},\n",
       " {'min_child_weight': 6},\n",
       " 0.847626106989783)"
      ]
     },
     "execution_count": 23,
     "metadata": {},
     "output_type": "execute_result"
    },
    {
     "data": {
      "image/png": "[encoded data removed]",
      "text/plain": [
       "<Figure size 432x288 with 1 Axes>"
      ]
     },
     "metadata": {
      "needs_background": "light"
     },
     "output_type": "display_data"
    }
   ],
   "source": [
    "modelfit(gsearch2b.best_estimator_, train, predictors)\n",
    "gsearch2b.cv_results_, gsearch2b.best_params_, gsearch2b.best_score_"
   ]
  },
  {
   "cell_type": "code",
   "execution_count": null,
   "metadata": {},
   "outputs": [],
   "source": []
  },
  {
   "cell_type": "code",
   "execution_count": null,
   "metadata": {
    "scrolled": false
   },
   "outputs": [],
   "source": [
    "param_test1b = {\n",
    " 'max_depth':range(10,60,10)},\n",
    " #'min_child_weight':range(1,6,2)}\n",
    "gsearch1b = GridSearchCV(estimator = XGBClassifier( learning_rate =0.1, n_estimators=140, max_depth=5,\n",
    " min_child_weight=1, gamma=0, subsample=0.8, colsample_bytree=0.8,\n",
    " objective= 'binary:logistic', nthread=4, scale_pos_weight=1, seed=27), \n",
    " param_grid = param_test1b, scoring='roc_auc',n_jobs=4,iid=False, cv=tscv)\n",
    "gsearch1b.fit(train[predictors],train[\"Stage\"])\n",
    "\n",
    "gsearch1b.cv_results_, gsearch1b.best_params_, gsearch1b.best_score_"
   ]
  },
  {
   "cell_type": "code",
   "execution_count": 25,
   "metadata": {},
   "outputs": [],
   "source": [
    "#Con max_depth  saco mejor score"
   ]
  },
  {
   "cell_type": "markdown",
   "metadata": {},
   "source": [
    "# Tune gamma"
   ]
  },
  {
   "cell_type": "code",
   "execution_count": 26,
   "metadata": {},
   "outputs": [
    {
     "name": "stderr",
     "output_type": "stream",
     "text": [
      "/home/leandro/anaconda3/lib/python3.8/site-packages/sklearn/model_selection/_search.py:847: FutureWarning: The parameter 'iid' is deprecated in 0.22 and will be removed in 0.24.\n",
      "  warnings.warn(\n"
     ]
    },
    {
     "data": {
      "text/plain": [
       "({'mean_fit_time': array([48.50106969, 48.46684909, 48.21478744, 48.2872489 , 42.18192973]),\n",
       "  'std_fit_time': array([ 0.28995612,  0.42278291,  0.67688737,  0.17935531, 13.48504509]),\n",
       "  'mean_score_time': array([0.37230105, 0.37533412, 0.33310843, 0.34196277, 0.31383348]),\n",
       "  'std_score_time': array([0.03316191, 0.08930673, 0.05822198, 0.04393531, 0.08682133]),\n",
       "  'param_gamma': masked_array(data=[0.0, 0.1, 0.2, 0.3, 0.4],\n",
       "               mask=[False, False, False, False, False],\n",
       "         fill_value='?',\n",
       "              dtype=object),\n",
       "  'params': [{'gamma': 0.0},\n",
       "   {'gamma': 0.1},\n",
       "   {'gamma': 0.2},\n",
       "   {'gamma': 0.3},\n",
       "   {'gamma': 0.4}],\n",
       "  'split0_test_score': array([0.89273399, 0.89555607, 0.89907531, 0.8945124 , 0.8898326 ]),\n",
       "  'split1_test_score': array([0.78144954, 0.7784429 , 0.78371601, 0.8091857 , 0.8091857 ]),\n",
       "  'split2_test_score': array([0.77984018, 0.80674111, 0.78893792, 0.79072592, 0.7903164 ]),\n",
       "  'split3_test_score': array([0.8672191 , 0.86657139, 0.86733454, 0.86771063, 0.8687172 ]),\n",
       "  'split4_test_score': array([0.91688772, 0.9200304 , 0.91981988, 0.91541877, 0.91831227]),\n",
       "  'mean_test_score': array([0.84762611, 0.85346837, 0.85177673, 0.85551068, 0.85527283]),\n",
       "  'std_test_score': array([0.05690351, 0.05326505, 0.05601794, 0.04817057, 0.04835796]),\n",
       "  'rank_test_score': array([5, 3, 4, 1, 2], dtype=int32)},\n",
       " {'gamma': 0.3},\n",
       " 0.8555106841148369)"
      ]
     },
     "execution_count": 26,
     "metadata": {},
     "output_type": "execute_result"
    }
   ],
   "source": [
    "param_test3 = {\n",
    " 'gamma':[i/10.0 for i in range(0,5)]\n",
    "}\n",
    "gsearch3 = GridSearchCV(estimator = XGBClassifier( learning_rate =0.1, n_estimators=140, max_depth=4,\n",
    " min_child_weight=6, gamma=0, subsample=0.8, colsample_bytree=0.8,\n",
    " objective= 'binary:logistic', nthread=4, scale_pos_weight=1,seed=27), \n",
    " param_grid = param_test3, scoring='roc_auc',n_jobs=4,iid=False, cv=tscv)\n",
    "gsearch3.fit(train[predictors],train[\"Stage\"])\n",
    "gsearch3.cv_results_, gsearch3.best_params_, gsearch3.best_score_"
   ]
  },
  {
   "cell_type": "code",
   "execution_count": 27,
   "metadata": {
    "scrolled": true
   },
   "outputs": [
    {
     "name": "stdout",
     "output_type": "stream",
     "text": [
      "\n",
      "Model Report\n",
      "Accuracy : 0.937\n",
      "AUC Score (Train): 0.984875\n"
     ]
    },
    {
     "data": {
      "image/png": "[encoded data removed]",
      "text/plain": [
       "<Figure size 432x288 with 1 Axes>"
      ]
     },
     "metadata": {
      "needs_background": "light"
     },
     "output_type": "display_data"
    }
   ],
   "source": [
    "xgb2 = XGBClassifier(\n",
    " learning_rate =0.1,\n",
    " n_estimators=1000,\n",
    " max_depth=4,\n",
    " min_child_weight=6,\n",
    " gamma=0,\n",
    " subsample=0.8,\n",
    " colsample_bytree=0.8,\n",
    " objective= 'binary:logistic',\n",
    " nthread=4,\n",
    " scale_pos_weight=1,\n",
    " seed=27)\n",
    "modelfit(xgb2, train, predictors)"
   ]
  },
  {
   "cell_type": "code",
   "execution_count": 28,
   "metadata": {},
   "outputs": [],
   "source": [
    "#ganma = "
   ]
  },
  {
   "cell_type": "markdown",
   "metadata": {},
   "source": [
    "# Tune subsample and colsample_bytree"
   ]
  },
  {
   "cell_type": "code",
   "execution_count": 29,
   "metadata": {},
   "outputs": [
    {
     "name": "stderr",
     "output_type": "stream",
     "text": [
      "/home/leandro/anaconda3/lib/python3.8/site-packages/sklearn/model_selection/_search.py:847: FutureWarning: The parameter 'iid' is deprecated in 0.22 and will be removed in 0.24.\n",
      "  warnings.warn(\n"
     ]
    },
    {
     "data": {
      "text/plain": [
       "({'mean_fit_time': array([62.99115424, 60.12091546, 58.22143393, 52.73179669, 67.80670047,\n",
       "         66.32492476, 61.88831854, 60.08285098, 75.85054603, 70.66940017,\n",
       "         71.98304524, 66.67072258, 84.02731662, 80.22604828, 77.13516607,\n",
       "         70.84260254]),\n",
       "  'std_fit_time': array([1.832009  , 1.81984718, 0.58877355, 0.88712153, 1.06941085,\n",
       "         1.29528514, 1.43088815, 0.82110307, 3.54156035, 1.86358165,\n",
       "         1.97213115, 2.14123722, 2.50339354, 2.06109639, 3.34406751,\n",
       "         1.17805806]),\n",
       "  'mean_score_time': array([0.49489617, 0.4727387 , 0.4277813 , 0.49657817, 0.50345454,\n",
       "         0.49045014, 0.5177865 , 0.42477255, 0.47170796, 0.48692818,\n",
       "         0.59638162, 0.36915364, 0.40489745, 0.46925511, 0.40463886,\n",
       "         0.41007051]),\n",
       "  'std_score_time': array([0.13516727, 0.07608335, 0.11895938, 0.08300341, 0.08695011,\n",
       "         0.11380712, 0.13922373, 0.12152677, 0.10366522, 0.13616851,\n",
       "         0.0704909 , 0.08513556, 0.1517501 , 0.09663706, 0.10364408,\n",
       "         0.17026994]),\n",
       "  'param_colsample_bytree': masked_array(data=[0.6, 0.6, 0.6, 0.6, 0.7, 0.7, 0.7, 0.7, 0.8, 0.8, 0.8,\n",
       "                     0.8, 0.9, 0.9, 0.9, 0.9],\n",
       "               mask=[False, False, False, False, False, False, False, False,\n",
       "                     False, False, False, False, False, False, False, False],\n",
       "         fill_value='?',\n",
       "              dtype=object),\n",
       "  'param_subsample': masked_array(data=[0.6, 0.7, 0.8, 0.9, 0.6, 0.7, 0.8, 0.9, 0.6, 0.7, 0.8,\n",
       "                     0.9, 0.6, 0.7, 0.8, 0.9],\n",
       "               mask=[False, False, False, False, False, False, False, False,\n",
       "                     False, False, False, False, False, False, False, False],\n",
       "         fill_value='?',\n",
       "              dtype=object),\n",
       "  'params': [{'colsample_bytree': 0.6, 'subsample': 0.6},\n",
       "   {'colsample_bytree': 0.6, 'subsample': 0.7},\n",
       "   {'colsample_bytree': 0.6, 'subsample': 0.8},\n",
       "   {'colsample_bytree': 0.6, 'subsample': 0.9},\n",
       "   {'colsample_bytree': 0.7, 'subsample': 0.6},\n",
       "   {'colsample_bytree': 0.7, 'subsample': 0.7},\n",
       "   {'colsample_bytree': 0.7, 'subsample': 0.8},\n",
       "   {'colsample_bytree': 0.7, 'subsample': 0.9},\n",
       "   {'colsample_bytree': 0.8, 'subsample': 0.6},\n",
       "   {'colsample_bytree': 0.8, 'subsample': 0.7},\n",
       "   {'colsample_bytree': 0.8, 'subsample': 0.8},\n",
       "   {'colsample_bytree': 0.8, 'subsample': 0.9},\n",
       "   {'colsample_bytree': 0.9, 'subsample': 0.6},\n",
       "   {'colsample_bytree': 0.9, 'subsample': 0.7},\n",
       "   {'colsample_bytree': 0.9, 'subsample': 0.8},\n",
       "   {'colsample_bytree': 0.9, 'subsample': 0.9}],\n",
       "  'split0_test_score': array([0.90110316, 0.89321616, 0.88465027, 0.8922539 , 0.88688267,\n",
       "         0.89230713, 0.88947201, 0.88058623, 0.89070823, 0.89553676,\n",
       "         0.89707825, 0.88484387, 0.88692546, 0.88778596, 0.89442264,\n",
       "         0.86643723]),\n",
       "  'split1_test_score': array([0.78565026, 0.76741143, 0.74727334, 0.79774837, 0.77798115,\n",
       "         0.77868475, 0.73781414, 0.78456116, 0.75606394, 0.75732854,\n",
       "         0.73011159, 0.7605927 , 0.74000644, 0.77758207, 0.78299934,\n",
       "         0.796279  ]),\n",
       "  'split2_test_score': array([0.71858703, 0.74538035, 0.76410183, 0.78713321, 0.75393433,\n",
       "         0.73337   , 0.74324656, 0.77002526, 0.73225218, 0.76001603,\n",
       "         0.75300716, 0.72767014, 0.76399736, 0.72821338, 0.76731898,\n",
       "         0.75380322]),\n",
       "  'split3_test_score': array([0.86872921, 0.8682732 , 0.87072876, 0.87058564, 0.86415292,\n",
       "         0.86473899, 0.872242  , 0.87142453, 0.86809612, 0.87006694,\n",
       "         0.86907657, 0.87138848, 0.86278019, 0.86988099, 0.87094188,\n",
       "         0.87094762]),\n",
       "  'split4_test_score': array([0.91500452, 0.91747959, 0.91650063, 0.91524168, 0.91633034,\n",
       "         0.91333393, 0.9175219 , 0.91596676, 0.91594168, 0.91689138,\n",
       "         0.91711966, 0.91247303, 0.91951794, 0.91787033, 0.91721892,\n",
       "         0.91092781]),\n",
       "  'mean_test_score': array([0.83781483, 0.83835215, 0.83665097, 0.85259256, 0.83985628,\n",
       "         0.83648696, 0.83205932, 0.84451279, 0.83261243, 0.83996793,\n",
       "         0.83327865, 0.83139364, 0.83464548, 0.83626655, 0.84658035,\n",
       "         0.83967898]),\n",
       "  'std_test_score': array([0.07464016, 0.06905479, 0.06796019, 0.05121425, 0.06302572,\n",
       "         0.06898366, 0.07613748, 0.05705049, 0.07417524, 0.06801858,\n",
       "         0.07676998, 0.07321437, 0.07025069, 0.07150205, 0.06032758,\n",
       "         0.05661861]),\n",
       "  'rank_test_score': array([ 8,  7,  9,  1,  5, 10, 15,  3, 14,  4, 13, 16, 12, 11,  2,  6],\n",
       "        dtype=int32)},\n",
       " {'colsample_bytree': 0.6, 'subsample': 0.9},\n",
       " 0.8525925589364812)"
      ]
     },
     "execution_count": 29,
     "metadata": {},
     "output_type": "execute_result"
    }
   ],
   "source": [
    "param_test4 = {\n",
    " 'subsample':[i/10.0 for i in range(6,10)],\n",
    " 'colsample_bytree':[i/10.0 for i in range(6,10)]\n",
    "}\n",
    "gsearch4 = GridSearchCV(estimator = XGBClassifier( learning_rate =0.1, n_estimators=177, max_depth=4,\n",
    " min_child_weight=6, gamma=0, subsample=0.8, colsample_bytree=0.8,\n",
    " objective= 'binary:logistic', nthread=4, scale_pos_weight=1,seed=27), \n",
    " param_grid = param_test4, scoring='roc_auc',n_jobs=4,iid=False, cv=tscv)\n",
    "gsearch4.fit(train[predictors],train[\"Stage\"])\n",
    "gsearch4.cv_results_, gsearch4.best_params_, gsearch4.best_score_"
   ]
  },
  {
   "cell_type": "code",
   "execution_count": 30,
   "metadata": {
    "scrolled": false
   },
   "outputs": [
    {
     "name": "stderr",
     "output_type": "stream",
     "text": [
      "/home/leandro/anaconda3/lib/python3.8/site-packages/sklearn/model_selection/_search.py:847: FutureWarning: The parameter 'iid' is deprecated in 0.22 and will be removed in 0.24.\n",
      "  warnings.warn(\n"
     ]
    },
    {
     "data": {
      "text/plain": [
       "GridSearchCV(cv=5,\n",
       "             estimator=XGBClassifier(base_score=None, booster=None,\n",
       "                                     colsample_bylevel=None,\n",
       "                                     colsample_bynode=None,\n",
       "                                     colsample_bytree=0.8, gamma=0, gpu_id=None,\n",
       "                                     importance_type='gain',\n",
       "                                     interaction_constraints=None,\n",
       "                                     learning_rate=0.1, max_delta_step=None,\n",
       "                                     max_depth=4, min_child_weight=6,\n",
       "                                     missing=nan, monotone_constraints=None,\n",
       "                                     n_estimators=177, n_jobs=None, nthread=4,\n",
       "                                     num_parallel_tree=None, random_state=None,\n",
       "                                     reg_alpha=None, reg_lambda=None,\n",
       "                                     scale_pos_weight=1, seed=27, subsample=0.8,\n",
       "                                     tree_method=None, validate_parameters=None,\n",
       "                                     verbosity=None),\n",
       "             iid=False, n_jobs=4,\n",
       "             param_grid={'colsample_bytree': [0.75, 0.8, 0.85],\n",
       "                         'subsample': [0.75, 0.8, 0.85]},\n",
       "             scoring='roc_auc')"
      ]
     },
     "execution_count": 30,
     "metadata": {},
     "output_type": "execute_result"
    }
   ],
   "source": [
    "param_test5 = {\n",
    " 'subsample':[i/100.0 for i in range(75,90,5)],\n",
    " 'colsample_bytree':[i/100.0 for i in range(75,90,5)]\n",
    "}\n",
    "gsearch5 = GridSearchCV(estimator = XGBClassifier( learning_rate =0.1, n_estimators=177, max_depth=4,\n",
    " min_child_weight=6, gamma=0, subsample=0.8, colsample_bytree=0.8,\n",
    " objective= 'binary:logistic', nthread=4, scale_pos_weight=1,seed=27), \n",
    " param_grid = param_test5, scoring='roc_auc',n_jobs=4,iid=False, cv=tscv)\n",
    "gsearch5.fit(train[predictors],train[\"Stage\"])"
   ]
  },
  {
   "cell_type": "code",
   "execution_count": 31,
   "metadata": {},
   "outputs": [],
   "source": [
    "#{'colsample_bytree': , 'subsample': }, es la mejor score"
   ]
  },
  {
   "cell_type": "markdown",
   "metadata": {},
   "source": [
    "# Tuning Regularization Parameters"
   ]
  },
  {
   "cell_type": "code",
   "execution_count": null,
   "metadata": {},
   "outputs": [],
   "source": [
    "param_test6 = {\n",
    " 'reg_alpha':[1e-5, 1e-2, 0.1, 1, 100]\n",
    "}\n",
    "gsearch6 = GridSearchCV(estimator = XGBClassifier( learning_rate =0.1, n_estimators=177, max_depth=4,\n",
    " min_child_weight=6, gamma=0.1, subsample=0.8, colsample_bytree=0.8,\n",
    " objective= 'binary:logistic', nthread=4, scale_pos_weight=1,seed=27), \n",
    " param_grid = param_test6, scoring='roc_auc',n_jobs=4,iid=False, cv=tscv)\n",
    "gsearch6.fit(train[predictors],train[\"Stage\"])\n",
    "gsearch6.cv_results_, gsearch6.best_params_, gsearch6.best_score_"
   ]
  },
  {
   "cell_type": "code",
   "execution_count": null,
   "metadata": {},
   "outputs": [],
   "source": [
    "param_test6b = {\n",
    " 'reg_alpha':[110, 120, 130,140,150]\n",
    "}\n",
    "gsearch6b = GridSearchCV(estimator = XGBClassifier( learning_rate =0.1, n_estimators=177, max_depth=4,\n",
    " min_child_weight=6, gamma=0.1, subsample=0.8, colsample_bytree=0.8,\n",
    " objective= 'binary:logistic', nthread=4, scale_pos_weight=1,seed=27), \n",
    " param_grid = param_test6b, scoring='roc_auc',n_jobs=4,iid=False, cv=tscv)\n",
    "gsearch6b.fit(train[predictors],train[\"Stage\"])\n",
    "gsearch6b.cv_results_, gsearch6.best_params_, gsearch6.best_score_"
   ]
  },
  {
   "cell_type": "code",
   "execution_count": null,
   "metadata": {},
   "outputs": [],
   "source": [
    "param_test7 = {\n",
    " 'reg_alpha':[0, 0.001, 0.005, 0.01, 0.05]\n",
    "}\n",
    "gsearch7 = GridSearchCV(estimator = XGBClassifier( learning_rate =0.1, n_estimators=177, max_depth=4,\n",
    " min_child_weight=6, gamma=0.1, subsample=0.8, colsample_bytree=0.8,\n",
    " objective= 'binary:logistic', nthread=4, scale_pos_weight=1,seed=27), \n",
    " param_grid = param_test7, scoring='roc_auc',n_jobs=4,iid=False, cv=tscv)\n",
    "gsearch7.fit(train[predictors],train[\"Stage\"])\n",
    "gsearch7.cv_results_, gsearch7.best_params_, gsearch7.best_score_"
   ]
  },
  {
   "cell_type": "code",
   "execution_count": null,
   "metadata": {
    "scrolled": true
   },
   "outputs": [],
   "source": [
    "xgb3 = XGBClassifier(\n",
    " learning_rate =0.1,\n",
    " n_estimators=1000,\n",
    " max_depth=3,\n",
    " min_child_weight=6,\n",
    " gamma=0,\n",
    " subsample=0.8,\n",
    " colsample_bytree=0.8,\n",
    " reg_alpha=0.005,\n",
    " objective= 'binary:logistic',\n",
    " nthread=4,\n",
    " scale_pos_weight=1,\n",
    " seed=27)\n",
    "modelfit(xgb3, train, predictors)"
   ]
  },
  {
   "cell_type": "code",
   "execution_count": null,
   "metadata": {},
   "outputs": [],
   "source": [
    "#Con reg_alpha =  mando el mejor score"
   ]
  },
  {
   "cell_type": "markdown",
   "metadata": {},
   "source": [
    "# Reducing Learning Rate"
   ]
  },
  {
   "cell_type": "code",
   "execution_count": null,
   "metadata": {},
   "outputs": [],
   "source": [
    "xgb4 = XGBClassifier(\n",
    " learning_rate =0.01,\n",
    " n_estimators=5000,\n",
    " max_depth=4,\n",
    " min_child_weight=5,\n",
    " gamma=0.3,\n",
    " subsample=0.7,\n",
    " colsample_bytree=0.7,\n",
    " reg_alpha=100,\n",
    " objective= 'binary:logistic',\n",
    " nthread=4,\n",
    " scale_pos_weight=1,\n",
    " seed=27)\n",
    "modelfit(xgb4, train, predictors)"
   ]
  },
  {
   "cell_type": "code",
   "execution_count": null,
   "metadata": {},
   "outputs": [],
   "source": [
    "prediccion = xgb4.predict_proba(testOneHot)\n",
    "prediccion"
   ]
  },
  {
   "cell_type": "code",
   "execution_count": null,
   "metadata": {},
   "outputs": [],
   "source": [
    "output = pd.DataFrame({'Opportunity_ID':testOneHot.Opportunity_ID, 'Target': prediccion[:,1]}) \n",
    "output"
   ]
  },
  {
   "cell_type": "code",
   "execution_count": null,
   "metadata": {},
   "outputs": [],
   "source": [
    "final=output.groupby('Opportunity_ID').max()\n",
    "final"
   ]
  },
  {
   "cell_type": "code",
   "execution_count": null,
   "metadata": {},
   "outputs": [],
   "source": [
    "final.to_csv('/home/leandro/Documentos/Organizacion de datos/Fiuba-Big-Data-Analytics-TPs/Tp 2/Resultados/XGBoostScoreArchivosPesados.csv')"
   ]
  },
  {
   "cell_type": "code",
   "execution_count": null,
   "metadata": {},
   "outputs": [],
   "source": []
  }
 ],
 "metadata": {
  "kernelspec": {
   "display_name": "Python 3",
   "language": "python",
   "name": "python3"
  },
  "language_info": {
   "codemirror_mode": {
    "name": "ipython",
    "version": 3
   },
   "file_extension": ".py",
   "mimetype": "text/x-python",
   "name": "python",
   "nbconvert_exporter": "python",
   "pygments_lexer": "ipython3",
   "version": "3.8.5"
  }
 },
 "nbformat": 4,
 "nbformat_minor": 4
}
