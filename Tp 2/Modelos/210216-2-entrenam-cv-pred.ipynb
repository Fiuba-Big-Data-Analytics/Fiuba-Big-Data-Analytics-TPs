{
 "cells": [
  {
   "cell_type": "code",
   "execution_count": 1,
   "id": "cloudy-mills",
   "metadata": {},
   "outputs": [],
   "source": [
    "import pandas as pd"
   ]
  },
  {
   "cell_type": "code",
   "execution_count": 2,
   "id": "disturbed-pharmacology",
   "metadata": {},
   "outputs": [],
   "source": [
    "train_source_file = '/usr/src/tp2-1/210227_tp2_train_feng.csv'\n",
    "test_source_file = '/usr/src/tp2-1/210227_tp2_test_feng.csv'\n",
    "kaggle_predict_file =  '/usr/src/tp2-1/210227_random_forest_TimeSeriesSplit.csv'"
   ]
  },
  {
   "cell_type": "code",
   "execution_count": 3,
   "id": "departmental-tutorial",
   "metadata": {},
   "outputs": [],
   "source": [
    "df_train_feng = pd.read_csv(train_source_file)"
   ]
  },
  {
   "cell_type": "code",
   "execution_count": 4,
   "id": "meaning-sterling",
   "metadata": {},
   "outputs": [
    {
     "data": {
      "text/plain": [
       "(9791, 2868)"
      ]
     },
     "execution_count": 4,
     "metadata": {},
     "output_type": "execute_result"
    }
   ],
   "source": [
    "df_train_feng.shape"
   ]
  },
  {
   "cell_type": "code",
   "execution_count": 5,
   "id": "primary-daisy",
   "metadata": {},
   "outputs": [],
   "source": [
    "X = df_train_feng.drop(columns = 'Stage')\n",
    "y = df_train_feng['Stage']"
   ]
  },
  {
   "cell_type": "code",
   "execution_count": 6,
   "id": "advance-islam",
   "metadata": {},
   "outputs": [
    {
     "data": {
      "text/plain": [
       "(9791, 2867)"
      ]
     },
     "execution_count": 6,
     "metadata": {},
     "output_type": "execute_result"
    }
   ],
   "source": [
    "X.shape"
   ]
  },
  {
   "cell_type": "code",
   "execution_count": 7,
   "id": "organizational-bracelet",
   "metadata": {},
   "outputs": [],
   "source": [
    "from sklearn.model_selection import TimeSeriesSplit, ParameterGrid\n",
    "import numpy as np"
   ]
  },
  {
   "cell_type": "code",
   "execution_count": 8,
   "id": "continuous-broad",
   "metadata": {},
   "outputs": [
    {
     "name": "stdout",
     "output_type": "stream",
     "text": [
      "Best-Fold HyperParams::  {'random_state': 123, 'n_estimators': 20, 'max_features': 59, 'max_depth': 12}\n",
      "Best-Fold Train RMSE:  0.07086579877881519\n",
      "Best-Fold Val RMSE:  0.16744309567525462\n",
      "\n",
      "\n",
      "Best-Fold HyperParams::  {'random_state': 123, 'n_estimators': 100, 'max_features': 59, 'max_depth': 12}\n",
      "Best-Fold Train RMSE:  0.07953735682771122\n",
      "Best-Fold Val RMSE:  0.1808170940666602\n",
      "\n",
      "\n",
      "Best-Fold HyperParams::  {'random_state': 123, 'n_estimators': 20, 'max_features': 59, 'max_depth': 10}\n",
      "Best-Fold Train RMSE:  0.11246033714439639\n",
      "Best-Fold Val RMSE:  0.1638176507303994\n",
      "\n",
      "\n"
     ]
    }
   ],
   "source": [
    "from sklearn.ensemble import RandomForestRegressor\n",
    "\n",
    "splits = TimeSeriesSplit(n_splits=3, max_train_size=365*2)\n",
    "rfr = RandomForestRegressor()\n",
    "\n",
    "# Create a dictionary of hyperparameters to search\n",
    "rfr_grid = {\"n_estimators\": [10, 20, 30, 40, 50, 100], \n",
    "        'max_depth': [3, 5, 8, 10, 12], \n",
    "        'max_features': [4, 8, 16, 32, 59], \n",
    "        'random_state': [123]}\n",
    "\n",
    "rfr_paramGrid = ParameterGrid(rfr_grid)\n",
    "\n",
    "def TimeSplit_ModBuild(model, paramGrid, splits, X, y):\n",
    "    from sklearn.model_selection import TimeSeriesSplit\n",
    "    from sklearn.metrics import mean_squared_error\n",
    "\n",
    "    #Loop over each time split and for each\n",
    "    for train_index, val_index in splits.split(X):\n",
    "        _X_train_ = X.iloc[train_index]\n",
    "        _y_train_ = y.iloc[train_index]\n",
    "        _X_val_ = X.iloc[val_index]\n",
    "        _y_val_ = y.iloc[val_index]\n",
    "\n",
    "        train_scores = []\n",
    "        val_scores = []\n",
    "        #models = []\n",
    "        \n",
    "        # Loop through the parameter grid, set the hyperparameters, and save the scores\n",
    "        for g in paramGrid:\n",
    "            model.set_params(**g)\n",
    "            model.fit(_X_train_, _y_train_)\n",
    "            p_train = model.predict(_X_train_)\n",
    "            p_val = model.predict(_X_val_)\n",
    "            score_train = np.mean(mean_squared_error(_y_train_, p_train))\n",
    "            score_val = np.mean(mean_squared_error(_y_val_, p_val))\n",
    "            train_scores.append(score_train)\n",
    "            val_scores.append(score_val)\n",
    "            #models.append(model)\n",
    "            best_idx = np.argmin(val_scores)\n",
    "            \n",
    "        print(\"Best-Fold HyperParams:: \", paramGrid[best_idx])\n",
    "        print(\"Best-Fold Train RMSE: \", train_scores[best_idx])\n",
    "        print(\"Best-Fold Val RMSE: \",val_scores[best_idx])\n",
    "        print(\"\\n\")\n",
    "        \n",
    "    #Return most recent model\n",
    "    return train_scores, val_scores, best_idx\n",
    "\n",
    "\n",
    "CV_rfr_tup = TimeSplit_ModBuild(rfr, rfr_paramGrid, splits, X, y)"
   ]
  },
  {
   "cell_type": "code",
   "execution_count": 9,
   "id": "intensive-palestinian",
   "metadata": {},
   "outputs": [],
   "source": [
    "df_frio_frio_test = pd.read_csv(test_source_file)"
   ]
  },
  {
   "cell_type": "code",
   "execution_count": 10,
   "id": "forty-ottawa",
   "metadata": {},
   "outputs": [
    {
     "data": {
      "text/html": [
       "<div>\n",
       "<style scoped>\n",
       "    .dataframe tbody tr th:only-of-type {\n",
       "        vertical-align: middle;\n",
       "    }\n",
       "\n",
       "    .dataframe tbody tr th {\n",
       "        vertical-align: top;\n",
       "    }\n",
       "\n",
       "    .dataframe thead th {\n",
       "        text-align: right;\n",
       "    }\n",
       "</style>\n",
       "<table border=\"1\" class=\"dataframe\">\n",
       "  <thead>\n",
       "    <tr style=\"text-align: right;\">\n",
       "      <th></th>\n",
       "      <th>Unnamed: 0</th>\n",
       "      <th>Opportunity_ID</th>\n",
       "      <th>Region_APAC</th>\n",
       "      <th>Region_Americas</th>\n",
       "      <th>Region_EMEA</th>\n",
       "      <th>Region_Japan</th>\n",
       "      <th>Region_Middle East</th>\n",
       "      <th>Territory_Albania</th>\n",
       "      <th>Territory_Armenia</th>\n",
       "      <th>Territory_Australia</th>\n",
       "      <th>...</th>\n",
       "      <th>Total_Amount_sum</th>\n",
       "      <th>Planned_Delivery_Date_diff</th>\n",
       "      <th>Pricing, Delivery_Terms_Quote_Appr</th>\n",
       "      <th>Pricing, Delivery_Terms_Approved</th>\n",
       "      <th>Bureaucratic_Code_0_Approval</th>\n",
       "      <th>Bureaucratic_Code_0_Approved</th>\n",
       "      <th>Submitted_for_Approval</th>\n",
       "      <th>Quote_Type</th>\n",
       "      <th>Delivery_Year</th>\n",
       "      <th>TRF</th>\n",
       "    </tr>\n",
       "  </thead>\n",
       "  <tbody>\n",
       "    <tr>\n",
       "      <th>0</th>\n",
       "      <td>0</td>\n",
       "      <td>10689</td>\n",
       "      <td>0.0</td>\n",
       "      <td>0.0</td>\n",
       "      <td>1.0</td>\n",
       "      <td>0.0</td>\n",
       "      <td>0.0</td>\n",
       "      <td>0.0</td>\n",
       "      <td>0.0</td>\n",
       "      <td>0.0</td>\n",
       "      <td>...</td>\n",
       "      <td>367419.0</td>\n",
       "      <td>30.0</td>\n",
       "      <td>1.0</td>\n",
       "      <td>1.0</td>\n",
       "      <td>1.0</td>\n",
       "      <td>1.0</td>\n",
       "      <td>0.0</td>\n",
       "      <td>0.0</td>\n",
       "      <td>2019.0</td>\n",
       "      <td>0.0</td>\n",
       "    </tr>\n",
       "    <tr>\n",
       "      <th>1</th>\n",
       "      <td>1</td>\n",
       "      <td>10690</td>\n",
       "      <td>0.0</td>\n",
       "      <td>0.0</td>\n",
       "      <td>1.0</td>\n",
       "      <td>0.0</td>\n",
       "      <td>0.0</td>\n",
       "      <td>0.0</td>\n",
       "      <td>0.0</td>\n",
       "      <td>0.0</td>\n",
       "      <td>...</td>\n",
       "      <td>757783.5</td>\n",
       "      <td>27.4</td>\n",
       "      <td>1.0</td>\n",
       "      <td>1.0</td>\n",
       "      <td>1.0</td>\n",
       "      <td>1.0</td>\n",
       "      <td>0.0</td>\n",
       "      <td>0.0</td>\n",
       "      <td>2019.0</td>\n",
       "      <td>0.2</td>\n",
       "    </tr>\n",
       "    <tr>\n",
       "      <th>2</th>\n",
       "      <td>2</td>\n",
       "      <td>10691</td>\n",
       "      <td>0.0</td>\n",
       "      <td>1.0</td>\n",
       "      <td>0.0</td>\n",
       "      <td>0.0</td>\n",
       "      <td>0.0</td>\n",
       "      <td>0.0</td>\n",
       "      <td>0.0</td>\n",
       "      <td>0.0</td>\n",
       "      <td>...</td>\n",
       "      <td>21037.5</td>\n",
       "      <td>0.0</td>\n",
       "      <td>1.0</td>\n",
       "      <td>1.0</td>\n",
       "      <td>0.0</td>\n",
       "      <td>0.0</td>\n",
       "      <td>0.0</td>\n",
       "      <td>0.0</td>\n",
       "      <td>2019.0</td>\n",
       "      <td>0.0</td>\n",
       "    </tr>\n",
       "    <tr>\n",
       "      <th>3</th>\n",
       "      <td>3</td>\n",
       "      <td>10692</td>\n",
       "      <td>0.0</td>\n",
       "      <td>1.0</td>\n",
       "      <td>0.0</td>\n",
       "      <td>0.0</td>\n",
       "      <td>0.0</td>\n",
       "      <td>0.0</td>\n",
       "      <td>0.0</td>\n",
       "      <td>0.0</td>\n",
       "      <td>...</td>\n",
       "      <td>2169106.5</td>\n",
       "      <td>0.0</td>\n",
       "      <td>1.0</td>\n",
       "      <td>1.0</td>\n",
       "      <td>1.0</td>\n",
       "      <td>0.0</td>\n",
       "      <td>0.0</td>\n",
       "      <td>0.0</td>\n",
       "      <td>2019.0</td>\n",
       "      <td>1.0</td>\n",
       "    </tr>\n",
       "    <tr>\n",
       "      <th>4</th>\n",
       "      <td>4</td>\n",
       "      <td>10693</td>\n",
       "      <td>0.0</td>\n",
       "      <td>1.0</td>\n",
       "      <td>0.0</td>\n",
       "      <td>0.0</td>\n",
       "      <td>0.0</td>\n",
       "      <td>0.0</td>\n",
       "      <td>0.0</td>\n",
       "      <td>0.0</td>\n",
       "      <td>...</td>\n",
       "      <td>5752.5</td>\n",
       "      <td>0.0</td>\n",
       "      <td>0.0</td>\n",
       "      <td>0.0</td>\n",
       "      <td>0.0</td>\n",
       "      <td>0.0</td>\n",
       "      <td>0.0</td>\n",
       "      <td>0.0</td>\n",
       "      <td>2019.0</td>\n",
       "      <td>0.0</td>\n",
       "    </tr>\n",
       "    <tr>\n",
       "      <th>...</th>\n",
       "      <td>...</td>\n",
       "      <td>...</td>\n",
       "      <td>...</td>\n",
       "      <td>...</td>\n",
       "      <td>...</td>\n",
       "      <td>...</td>\n",
       "      <td>...</td>\n",
       "      <td>...</td>\n",
       "      <td>...</td>\n",
       "      <td>...</td>\n",
       "      <td>...</td>\n",
       "      <td>...</td>\n",
       "      <td>...</td>\n",
       "      <td>...</td>\n",
       "      <td>...</td>\n",
       "      <td>...</td>\n",
       "      <td>...</td>\n",
       "      <td>...</td>\n",
       "      <td>...</td>\n",
       "      <td>...</td>\n",
       "      <td>...</td>\n",
       "    </tr>\n",
       "    <tr>\n",
       "      <th>1562</th>\n",
       "      <td>1562</td>\n",
       "      <td>12364</td>\n",
       "      <td>0.0</td>\n",
       "      <td>0.0</td>\n",
       "      <td>1.0</td>\n",
       "      <td>0.0</td>\n",
       "      <td>0.0</td>\n",
       "      <td>0.0</td>\n",
       "      <td>0.0</td>\n",
       "      <td>0.0</td>\n",
       "      <td>...</td>\n",
       "      <td>147750.0</td>\n",
       "      <td>9.0</td>\n",
       "      <td>1.0</td>\n",
       "      <td>1.0</td>\n",
       "      <td>0.0</td>\n",
       "      <td>0.0</td>\n",
       "      <td>0.0</td>\n",
       "      <td>0.0</td>\n",
       "      <td>2019.0</td>\n",
       "      <td>0.0</td>\n",
       "    </tr>\n",
       "    <tr>\n",
       "      <th>1563</th>\n",
       "      <td>1563</td>\n",
       "      <td>12365</td>\n",
       "      <td>0.0</td>\n",
       "      <td>1.0</td>\n",
       "      <td>0.0</td>\n",
       "      <td>0.0</td>\n",
       "      <td>0.0</td>\n",
       "      <td>0.0</td>\n",
       "      <td>0.0</td>\n",
       "      <td>0.0</td>\n",
       "      <td>...</td>\n",
       "      <td>45054.9</td>\n",
       "      <td>91.0</td>\n",
       "      <td>1.0</td>\n",
       "      <td>1.0</td>\n",
       "      <td>0.0</td>\n",
       "      <td>0.0</td>\n",
       "      <td>0.0</td>\n",
       "      <td>0.0</td>\n",
       "      <td>2019.0</td>\n",
       "      <td>0.0</td>\n",
       "    </tr>\n",
       "    <tr>\n",
       "      <th>1564</th>\n",
       "      <td>1564</td>\n",
       "      <td>12366</td>\n",
       "      <td>0.0</td>\n",
       "      <td>1.0</td>\n",
       "      <td>0.0</td>\n",
       "      <td>0.0</td>\n",
       "      <td>0.0</td>\n",
       "      <td>0.0</td>\n",
       "      <td>0.0</td>\n",
       "      <td>0.0</td>\n",
       "      <td>...</td>\n",
       "      <td>100122.0</td>\n",
       "      <td>91.0</td>\n",
       "      <td>1.0</td>\n",
       "      <td>1.0</td>\n",
       "      <td>1.0</td>\n",
       "      <td>1.0</td>\n",
       "      <td>0.0</td>\n",
       "      <td>0.0</td>\n",
       "      <td>2019.0</td>\n",
       "      <td>0.0</td>\n",
       "    </tr>\n",
       "    <tr>\n",
       "      <th>1565</th>\n",
       "      <td>1565</td>\n",
       "      <td>12367</td>\n",
       "      <td>0.0</td>\n",
       "      <td>1.0</td>\n",
       "      <td>0.0</td>\n",
       "      <td>0.0</td>\n",
       "      <td>0.0</td>\n",
       "      <td>0.0</td>\n",
       "      <td>0.0</td>\n",
       "      <td>0.0</td>\n",
       "      <td>...</td>\n",
       "      <td>143220.0</td>\n",
       "      <td>0.0</td>\n",
       "      <td>1.0</td>\n",
       "      <td>1.0</td>\n",
       "      <td>0.0</td>\n",
       "      <td>0.0</td>\n",
       "      <td>0.0</td>\n",
       "      <td>0.0</td>\n",
       "      <td>2019.0</td>\n",
       "      <td>0.0</td>\n",
       "    </tr>\n",
       "    <tr>\n",
       "      <th>1566</th>\n",
       "      <td>1566</td>\n",
       "      <td>12368</td>\n",
       "      <td>0.0</td>\n",
       "      <td>0.0</td>\n",
       "      <td>1.0</td>\n",
       "      <td>0.0</td>\n",
       "      <td>0.0</td>\n",
       "      <td>0.0</td>\n",
       "      <td>0.0</td>\n",
       "      <td>0.0</td>\n",
       "      <td>...</td>\n",
       "      <td>871020.8</td>\n",
       "      <td>53.0</td>\n",
       "      <td>1.0</td>\n",
       "      <td>0.0</td>\n",
       "      <td>0.0</td>\n",
       "      <td>0.0</td>\n",
       "      <td>0.0</td>\n",
       "      <td>0.0</td>\n",
       "      <td>2019.0</td>\n",
       "      <td>3.0</td>\n",
       "    </tr>\n",
       "  </tbody>\n",
       "</table>\n",
       "<p>1567 rows × 2867 columns</p>\n",
       "</div>"
      ],
      "text/plain": [
       "      Unnamed: 0  Opportunity_ID  Region_APAC  Region_Americas  Region_EMEA  \\\n",
       "0              0           10689          0.0              0.0          1.0   \n",
       "1              1           10690          0.0              0.0          1.0   \n",
       "2              2           10691          0.0              1.0          0.0   \n",
       "3              3           10692          0.0              1.0          0.0   \n",
       "4              4           10693          0.0              1.0          0.0   \n",
       "...          ...             ...          ...              ...          ...   \n",
       "1562        1562           12364          0.0              0.0          1.0   \n",
       "1563        1563           12365          0.0              1.0          0.0   \n",
       "1564        1564           12366          0.0              1.0          0.0   \n",
       "1565        1565           12367          0.0              1.0          0.0   \n",
       "1566        1566           12368          0.0              0.0          1.0   \n",
       "\n",
       "      Region_Japan  Region_Middle East  Territory_Albania  Territory_Armenia  \\\n",
       "0              0.0                 0.0                0.0                0.0   \n",
       "1              0.0                 0.0                0.0                0.0   \n",
       "2              0.0                 0.0                0.0                0.0   \n",
       "3              0.0                 0.0                0.0                0.0   \n",
       "4              0.0                 0.0                0.0                0.0   \n",
       "...            ...                 ...                ...                ...   \n",
       "1562           0.0                 0.0                0.0                0.0   \n",
       "1563           0.0                 0.0                0.0                0.0   \n",
       "1564           0.0                 0.0                0.0                0.0   \n",
       "1565           0.0                 0.0                0.0                0.0   \n",
       "1566           0.0                 0.0                0.0                0.0   \n",
       "\n",
       "      Territory_Australia  ...  Total_Amount_sum  Planned_Delivery_Date_diff  \\\n",
       "0                     0.0  ...          367419.0                        30.0   \n",
       "1                     0.0  ...          757783.5                        27.4   \n",
       "2                     0.0  ...           21037.5                         0.0   \n",
       "3                     0.0  ...         2169106.5                         0.0   \n",
       "4                     0.0  ...            5752.5                         0.0   \n",
       "...                   ...  ...               ...                         ...   \n",
       "1562                  0.0  ...          147750.0                         9.0   \n",
       "1563                  0.0  ...           45054.9                        91.0   \n",
       "1564                  0.0  ...          100122.0                        91.0   \n",
       "1565                  0.0  ...          143220.0                         0.0   \n",
       "1566                  0.0  ...          871020.8                        53.0   \n",
       "\n",
       "      Pricing, Delivery_Terms_Quote_Appr  Pricing, Delivery_Terms_Approved  \\\n",
       "0                                    1.0                               1.0   \n",
       "1                                    1.0                               1.0   \n",
       "2                                    1.0                               1.0   \n",
       "3                                    1.0                               1.0   \n",
       "4                                    0.0                               0.0   \n",
       "...                                  ...                               ...   \n",
       "1562                                 1.0                               1.0   \n",
       "1563                                 1.0                               1.0   \n",
       "1564                                 1.0                               1.0   \n",
       "1565                                 1.0                               1.0   \n",
       "1566                                 1.0                               0.0   \n",
       "\n",
       "      Bureaucratic_Code_0_Approval  Bureaucratic_Code_0_Approved  \\\n",
       "0                              1.0                           1.0   \n",
       "1                              1.0                           1.0   \n",
       "2                              0.0                           0.0   \n",
       "3                              1.0                           0.0   \n",
       "4                              0.0                           0.0   \n",
       "...                            ...                           ...   \n",
       "1562                           0.0                           0.0   \n",
       "1563                           0.0                           0.0   \n",
       "1564                           1.0                           1.0   \n",
       "1565                           0.0                           0.0   \n",
       "1566                           0.0                           0.0   \n",
       "\n",
       "      Submitted_for_Approval  Quote_Type  Delivery_Year  TRF  \n",
       "0                        0.0         0.0         2019.0  0.0  \n",
       "1                        0.0         0.0         2019.0  0.2  \n",
       "2                        0.0         0.0         2019.0  0.0  \n",
       "3                        0.0         0.0         2019.0  1.0  \n",
       "4                        0.0         0.0         2019.0  0.0  \n",
       "...                      ...         ...            ...  ...  \n",
       "1562                     0.0         0.0         2019.0  0.0  \n",
       "1563                     0.0         0.0         2019.0  0.0  \n",
       "1564                     0.0         0.0         2019.0  0.0  \n",
       "1565                     0.0         0.0         2019.0  0.0  \n",
       "1566                     0.0         0.0         2019.0  3.0  \n",
       "\n",
       "[1567 rows x 2867 columns]"
      ]
     },
     "execution_count": 10,
     "metadata": {},
     "output_type": "execute_result"
    }
   ],
   "source": [
    "df_frio_frio_test"
   ]
  },
  {
   "cell_type": "code",
   "execution_count": 11,
   "id": "level-street",
   "metadata": {},
   "outputs": [],
   "source": [
    "best_rfr_idx = CV_rfr_tup[2]"
   ]
  },
  {
   "cell_type": "code",
   "execution_count": 12,
   "id": "variable-article",
   "metadata": {},
   "outputs": [
    {
     "data": {
      "text/plain": [
       "RandomForestRegressor(max_depth=10, max_features=59, n_estimators=20,\n",
       "                      random_state=123)"
      ]
     },
     "execution_count": 12,
     "metadata": {},
     "output_type": "execute_result"
    }
   ],
   "source": [
    "best_rfr_grid = rfr_paramGrid[best_rfr_idx]\n",
    "\n",
    "best_rfr = RandomForestRegressor()\n",
    "best_rfr.set_params(**best_rfr_grid)\n"
   ]
  },
  {
   "cell_type": "code",
   "execution_count": 13,
   "id": "criminal-confidence",
   "metadata": {},
   "outputs": [
    {
     "data": {
      "text/plain": [
       "RandomForestRegressor(max_depth=10, max_features=59, n_estimators=20,\n",
       "                      random_state=123)"
      ]
     },
     "execution_count": 13,
     "metadata": {},
     "output_type": "execute_result"
    }
   ],
   "source": [
    "best_rfr.fit(X, y)"
   ]
  },
  {
   "cell_type": "code",
   "execution_count": 14,
   "id": "cardiac-basic",
   "metadata": {},
   "outputs": [],
   "source": [
    "predicts = best_rfr.predict(df_frio_frio_test)\n"
   ]
  },
  {
   "cell_type": "code",
   "execution_count": 15,
   "id": "frozen-bidding",
   "metadata": {},
   "outputs": [
    {
     "data": {
      "text/plain": [
       "array([0.58576202, 0.53712465, 0.69021093, ..., 0.53545808, 0.56985299,\n",
       "       0.31935487])"
      ]
     },
     "execution_count": 15,
     "metadata": {},
     "output_type": "execute_result"
    }
   ],
   "source": [
    "predicts"
   ]
  },
  {
   "cell_type": "code",
   "execution_count": 16,
   "id": "coral-gregory",
   "metadata": {},
   "outputs": [],
   "source": [
    "output = pd.DataFrame({'Opportunity_ID':df_frio_frio_test.Opportunity_ID, 'Target': predicts})\n"
   ]
  },
  {
   "cell_type": "code",
   "execution_count": 17,
   "id": "exciting-finger",
   "metadata": {},
   "outputs": [
    {
     "data": {
      "text/html": [
       "<div>\n",
       "<style scoped>\n",
       "    .dataframe tbody tr th:only-of-type {\n",
       "        vertical-align: middle;\n",
       "    }\n",
       "\n",
       "    .dataframe tbody tr th {\n",
       "        vertical-align: top;\n",
       "    }\n",
       "\n",
       "    .dataframe thead th {\n",
       "        text-align: right;\n",
       "    }\n",
       "</style>\n",
       "<table border=\"1\" class=\"dataframe\">\n",
       "  <thead>\n",
       "    <tr style=\"text-align: right;\">\n",
       "      <th></th>\n",
       "      <th>Target</th>\n",
       "    </tr>\n",
       "    <tr>\n",
       "      <th>Opportunity_ID</th>\n",
       "      <th></th>\n",
       "    </tr>\n",
       "  </thead>\n",
       "  <tbody>\n",
       "    <tr>\n",
       "      <th>10689</th>\n",
       "      <td>0.585762</td>\n",
       "    </tr>\n",
       "    <tr>\n",
       "      <th>10690</th>\n",
       "      <td>0.537125</td>\n",
       "    </tr>\n",
       "    <tr>\n",
       "      <th>10691</th>\n",
       "      <td>0.690211</td>\n",
       "    </tr>\n",
       "    <tr>\n",
       "      <th>10692</th>\n",
       "      <td>0.418541</td>\n",
       "    </tr>\n",
       "    <tr>\n",
       "      <th>10693</th>\n",
       "      <td>0.725301</td>\n",
       "    </tr>\n",
       "    <tr>\n",
       "      <th>...</th>\n",
       "      <td>...</td>\n",
       "    </tr>\n",
       "    <tr>\n",
       "      <th>12364</th>\n",
       "      <td>0.656015</td>\n",
       "    </tr>\n",
       "    <tr>\n",
       "      <th>12365</th>\n",
       "      <td>0.565009</td>\n",
       "    </tr>\n",
       "    <tr>\n",
       "      <th>12366</th>\n",
       "      <td>0.535458</td>\n",
       "    </tr>\n",
       "    <tr>\n",
       "      <th>12367</th>\n",
       "      <td>0.569853</td>\n",
       "    </tr>\n",
       "    <tr>\n",
       "      <th>12368</th>\n",
       "      <td>0.319355</td>\n",
       "    </tr>\n",
       "  </tbody>\n",
       "</table>\n",
       "<p>1567 rows × 1 columns</p>\n",
       "</div>"
      ],
      "text/plain": [
       "                  Target\n",
       "Opportunity_ID          \n",
       "10689           0.585762\n",
       "10690           0.537125\n",
       "10691           0.690211\n",
       "10692           0.418541\n",
       "10693           0.725301\n",
       "...                  ...\n",
       "12364           0.656015\n",
       "12365           0.565009\n",
       "12366           0.535458\n",
       "12367           0.569853\n",
       "12368           0.319355\n",
       "\n",
       "[1567 rows x 1 columns]"
      ]
     },
     "execution_count": 17,
     "metadata": {},
     "output_type": "execute_result"
    }
   ],
   "source": [
    "final=output.groupby('Opportunity_ID').mean()\n",
    "final"
   ]
  },
  {
   "cell_type": "code",
   "execution_count": 18,
   "id": "paperback-wednesday",
   "metadata": {},
   "outputs": [],
   "source": [
    "output.to_csv(kaggle_predict_file, index=False)"
   ]
  },
  {
   "cell_type": "code",
   "execution_count": 19,
   "id": "nearby-qualification",
   "metadata": {},
   "outputs": [
    {
     "data": {
      "text/plain": [
       "'\\n    de aqui en adelante eran pruebas para ver si puedo determinar que features tiene mayor\\n    peso para mejorar el feng\\n'"
      ]
     },
     "execution_count": 19,
     "metadata": {},
     "output_type": "execute_result"
    }
   ],
   "source": [
    "'''\n",
    "    de aqui en adelante eran pruebas para ver si puedo determinar que features tiene mayor\n",
    "    peso para mejorar el feng\n",
    "'''"
   ]
  },
  {
   "cell_type": "code",
   "execution_count": 20,
   "id": "alike-horse",
   "metadata": {},
   "outputs": [],
   "source": [
    "import matplotlib.pyplot as plt"
   ]
  },
  {
   "cell_type": "code",
   "execution_count": 21,
   "id": "indie-forth",
   "metadata": {},
   "outputs": [
    {
     "data": {
      "text/plain": [
       "array([1.91391963e-02, 1.71044031e-02, 2.67533527e-03, ...,\n",
       "       5.46848449e-05, 3.53900961e-03, 4.44069448e-02])"
      ]
     },
     "execution_count": 21,
     "metadata": {},
     "output_type": "execute_result"
    }
   ],
   "source": [
    "rfr.feature_importances_"
   ]
  },
  {
   "cell_type": "code",
   "execution_count": 26,
   "id": "suspended-chocolate",
   "metadata": {},
   "outputs": [],
   "source": [
    "rfr_series = pd.Series(rfr.feature_importances_)"
   ]
  },
  {
   "cell_type": "code",
   "execution_count": 30,
   "id": "disturbed-belarus",
   "metadata": {},
   "outputs": [],
   "source": [
    "X_series = pd.Series(X.columns)"
   ]
  },
  {
   "cell_type": "code",
   "execution_count": 40,
   "id": "japanese-rebound",
   "metadata": {},
   "outputs": [
    {
     "data": {
      "text/plain": [
       "pandas.core.frame.DataFrame"
      ]
     },
     "execution_count": 40,
     "metadata": {},
     "output_type": "execute_result"
    }
   ],
   "source": [
    "Comb = pd.concat([X_series, rfr_series], axis=1)\n",
    "type(Comb)"
   ]
  },
  {
   "cell_type": "code",
   "execution_count": 51,
   "id": "portable-metadata",
   "metadata": {},
   "outputs": [
    {
     "data": {
      "text/plain": [
       "2856                           Total_Amount\n",
       "2866                                    TRF\n",
       "2857                       Total_Amount_sum\n",
       "2858             Planned_Delivery_Date_diff\n",
       "1984                Product_Category_B_None\n",
       "1977                              Size_None\n",
       "2854                                    ASP\n",
       "1970                      Product_Type_None\n",
       "0                                Unnamed: 0\n",
       "1968                             Brand_None\n",
       "1                            Opportunity_ID\n",
       "2066                          Currency_None\n",
       "2855                        ASP_(converted)\n",
       "5                              Region_Japan\n",
       "2795                       ASP_Currency_JPY\n",
       "1932    Opportunity_Type_Opportunity_Type_7\n",
       "2851      Total_Taxable_Amount_Currency_JPY\n",
       "2843                    Delivery_Quarter_Q1\n",
       "1834           Account_Owner_Person_Name_50\n",
       "2063                             Price_None\n",
       "Name: 0, dtype: object"
      ]
     },
     "execution_count": 51,
     "metadata": {},
     "output_type": "execute_result"
    }
   ],
   "source": [
    "Comb.nlargest(20, 1)[0]"
   ]
  },
  {
   "cell_type": "code",
   "execution_count": 50,
   "id": "secondary-session",
   "metadata": {},
   "outputs": [
    {
     "data": {
      "image/png": "[encoded data removed]",
      "text/plain": [
       "<Figure size 432x288 with 1 Axes>"
      ]
     },
     "metadata": {
      "needs_background": "light"
     },
     "output_type": "display_data"
    }
   ],
   "source": [
    "plt.bar(Comb.nlargest(20, 1)[0], Comb.nlargest(20, 1)[1])\n",
    "plt.xlabel('features')\n",
    "plt.ylabel('importance ')\n",
    "plt.show()"
   ]
  },
  {
   "cell_type": "code",
   "execution_count": null,
   "id": "excess-gibraltar",
   "metadata": {},
   "outputs": [],
   "source": []
  }
 ],
 "metadata": {
  "kernelspec": {
   "display_name": "Python 3",
   "language": "python",
   "name": "python3"
  },
  "language_info": {
   "codemirror_mode": {
    "name": "ipython",
    "version": 3
   },
   "file_extension": ".py",
   "mimetype": "text/x-python",
   "name": "python",
   "nbconvert_exporter": "python",
   "pygments_lexer": "ipython3",
   "version": "3.9.1"
  }
 },
 "nbformat": 4,
 "nbformat_minor": 5
}
