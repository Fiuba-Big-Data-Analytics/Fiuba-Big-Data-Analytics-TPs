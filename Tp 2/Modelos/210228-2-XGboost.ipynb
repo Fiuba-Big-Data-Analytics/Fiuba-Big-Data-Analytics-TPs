{
 "cells": [
  {
   "cell_type": "code",
   "execution_count": 1,
   "id": "fatal-office",
   "metadata": {},
   "outputs": [],
   "source": [
    "import pandas as pd"
   ]
  },
  {
   "cell_type": "code",
   "execution_count": 2,
   "id": "particular-january",
   "metadata": {},
   "outputs": [],
   "source": [
    "#train_source_file = '/usr/src/tp2-1/data-in/210227_tp2_train_feng.csv'\n",
    "#test_source_file = '/usr/src/tp2-1/data-in/210227_tp2_test_feng.csv'\n",
    "#kaggle_predict_file =  '/usr/src/tp2-1/data-out/210228_XGBoost_CV_TimeSeriesSplit.csv'\n",
    "\n",
    "\n",
    "feng_trainning_set = '/usr/src/tp2-1/data-in/210301_feng_Train_TP2_Datos_2020-2C.csv'\n",
    "feng_eval_set = '/usr/src/tp2-1/data-in/210301_feng_Test_TP2_Datos_2020-2C.csv'\n",
    "\n",
    "train_source_file = feng_trainning_set\n",
    "test_source_file = feng_eval_set\n",
    "\n",
    "kaggle_predict_file =  '/usr/src/tp2-1/data-out/2100301_XGBoost_CV_TimeSeriesSplit.csv'\n"
   ]
  },
  {
   "cell_type": "code",
   "execution_count": 3,
   "id": "nasty-library",
   "metadata": {},
   "outputs": [],
   "source": [
    "df_train_feng = pd.read_csv(train_source_file)"
   ]
  },
  {
   "cell_type": "code",
   "execution_count": 4,
   "id": "passive-declaration",
   "metadata": {},
   "outputs": [
    {
     "data": {
      "text/plain": [
       "(9791, 2866)"
      ]
     },
     "execution_count": 4,
     "metadata": {},
     "output_type": "execute_result"
    }
   ],
   "source": [
    "df_train_feng.shape"
   ]
  },
  {
   "cell_type": "code",
   "execution_count": 5,
   "id": "demanding-consciousness",
   "metadata": {},
   "outputs": [],
   "source": [
    "X = df_train_feng.drop(columns = 'Stage')\n",
    "y = df_train_feng['Stage']"
   ]
  },
  {
   "cell_type": "code",
   "execution_count": 6,
   "id": "lyric-welsh",
   "metadata": {},
   "outputs": [
    {
     "data": {
      "text/plain": [
       "(9791, 2865)"
      ]
     },
     "execution_count": 6,
     "metadata": {},
     "output_type": "execute_result"
    }
   ],
   "source": [
    "X.shape"
   ]
  },
  {
   "cell_type": "code",
   "execution_count": 7,
   "id": "documentary-guarantee",
   "metadata": {},
   "outputs": [],
   "source": [
    "from sklearn.model_selection import TimeSeriesSplit, ParameterGrid\n",
    "import numpy as np\n",
    "\n",
    "import xgboost as xgb\n",
    "from sklearn.ensemble import RandomForestRegressor\n",
    "\n",
    "from sklearn.metrics import log_loss, make_scorer\n",
    "from sklearn.model_selection import TimeSeriesSplit, GridSearchCV\n"
   ]
  },
  {
   "cell_type": "code",
   "execution_count": 8,
   "id": "governing-volume",
   "metadata": {},
   "outputs": [],
   "source": [
    "xgbt_grid = {\"learning_rate\": [0.05, 0.1, 0.15], \n",
    "        'max_depth': [25, 30, 35], \n",
    "        'alpha': [24], \n",
    "        'n_estimators': [85, 90, 95]}\n",
    "\n",
    "xgbt_paramGrid = ParameterGrid(xgbt_grid)\n",
    "\n",
    "xgbt = xgb.XGBRegressor(objective ='reg:squarederror', colsample_bytree = 0.3, eval_metric='logloss')    "
   ]
  },
  {
   "cell_type": "code",
   "execution_count": 9,
   "id": "neither-warrant",
   "metadata": {},
   "outputs": [],
   "source": [
    "tscv = TimeSeriesSplit(n_splits=5)\n",
    "\n",
    "#LogLoss = make_scorer(log_loss, greater_is_better=False)\n",
    "\n",
    "#scoring=LogLoss,\\\n",
    "gsearch = GridSearchCV(estimator=xgbt, cv=tscv, param_grid=xgbt_grid, \\\n",
    "                       verbose=3, return_train_score = True)\n"
   ]
  },
  {
   "cell_type": "code",
   "execution_count": null,
   "id": "guilty-domain",
   "metadata": {},
   "outputs": [
    {
     "name": "stdout",
     "output_type": "stream",
     "text": [
      "Fitting 5 folds for each of 27 candidates, totalling 135 fits\n",
      "[CV 1/5] END alpha=24, learning_rate=0.05, max_depth=25, n_estimators=85; total time=   4.2s\n",
      "[CV 2/5] END alpha=24, learning_rate=0.05, max_depth=25, n_estimators=85; total time=  11.5s\n",
      "[CV 3/5] END alpha=24, learning_rate=0.05, max_depth=25, n_estimators=85; total time=  15.0s\n",
      "[CV 4/5] END alpha=24, learning_rate=0.05, max_depth=25, n_estimators=85; total time=  20.2s\n",
      "[CV 5/5] END alpha=24, learning_rate=0.05, max_depth=25, n_estimators=85; total time=  28.3s\n",
      "[CV 1/5] END alpha=24, learning_rate=0.05, max_depth=25, n_estimators=90; total time=   3.8s\n",
      "[CV 2/5] END alpha=24, learning_rate=0.05, max_depth=25, n_estimators=90; total time=   9.5s\n",
      "[CV 3/5] END alpha=24, learning_rate=0.05, max_depth=25, n_estimators=90; total time=  14.5s\n",
      "[CV 4/5] END alpha=24, learning_rate=0.05, max_depth=25, n_estimators=90; total time=  19.9s\n",
      "[CV 5/5] END alpha=24, learning_rate=0.05, max_depth=25, n_estimators=90; total time=  23.9s\n",
      "[CV 1/5] END alpha=24, learning_rate=0.05, max_depth=25, n_estimators=95; total time=   3.9s\n",
      "[CV 2/5] END alpha=24, learning_rate=0.05, max_depth=25, n_estimators=95; total time=   9.7s\n",
      "[CV 3/5] END alpha=24, learning_rate=0.05, max_depth=25, n_estimators=95; total time=  15.5s\n",
      "[CV 4/5] END alpha=24, learning_rate=0.05, max_depth=25, n_estimators=95; total time=  22.4s\n",
      "[CV 5/5] END alpha=24, learning_rate=0.05, max_depth=25, n_estimators=95; total time=  25.7s\n",
      "[CV 1/5] END alpha=24, learning_rate=0.05, max_depth=30, n_estimators=85; total time=   4.3s\n",
      "[CV 2/5] END alpha=24, learning_rate=0.05, max_depth=30, n_estimators=85; total time=  10.3s\n",
      "[CV 3/5] END alpha=24, learning_rate=0.05, max_depth=30, n_estimators=85; total time=  16.1s\n",
      "[CV 4/5] END alpha=24, learning_rate=0.05, max_depth=30, n_estimators=85; total time=  22.5s\n",
      "[CV 5/5] END alpha=24, learning_rate=0.05, max_depth=30, n_estimators=85; total time=  27.6s\n",
      "[CV 1/5] END alpha=24, learning_rate=0.05, max_depth=30, n_estimators=90; total time=   4.4s\n",
      "[CV 2/5] END alpha=24, learning_rate=0.05, max_depth=30, n_estimators=90; total time=  10.9s\n",
      "[CV 3/5] END alpha=24, learning_rate=0.05, max_depth=30, n_estimators=90; total time=  17.0s\n",
      "[CV 4/5] END alpha=24, learning_rate=0.05, max_depth=30, n_estimators=90; total time=  23.5s\n",
      "[CV 5/5] END alpha=24, learning_rate=0.05, max_depth=30, n_estimators=90; total time=  28.8s\n",
      "[CV 1/5] END alpha=24, learning_rate=0.05, max_depth=30, n_estimators=95; total time=   4.3s\n",
      "[CV 2/5] END alpha=24, learning_rate=0.05, max_depth=30, n_estimators=95; total time=  11.1s\n",
      "[CV 3/5] END alpha=24, learning_rate=0.05, max_depth=30, n_estimators=95; total time=  18.7s\n",
      "[CV 4/5] END alpha=24, learning_rate=0.05, max_depth=30, n_estimators=95; total time=  23.9s\n",
      "[CV 5/5] END alpha=24, learning_rate=0.05, max_depth=30, n_estimators=95; total time=  32.4s\n",
      "[CV 1/5] END alpha=24, learning_rate=0.05, max_depth=35, n_estimators=85; total time=   4.5s\n",
      "[CV 2/5] END alpha=24, learning_rate=0.05, max_depth=35, n_estimators=85; total time=  11.9s\n",
      "[CV 3/5] END alpha=24, learning_rate=0.05, max_depth=35, n_estimators=85; total time=  18.7s\n",
      "[CV 4/5] END alpha=24, learning_rate=0.05, max_depth=35, n_estimators=85; total time=  26.2s\n",
      "[CV 5/5] END alpha=24, learning_rate=0.05, max_depth=35, n_estimators=85; total time=  37.6s\n",
      "[CV 1/5] END alpha=24, learning_rate=0.05, max_depth=35, n_estimators=90; total time=   5.2s\n",
      "[CV 2/5] END alpha=24, learning_rate=0.05, max_depth=35, n_estimators=90; total time=  14.4s\n",
      "[CV 3/5] END alpha=24, learning_rate=0.05, max_depth=35, n_estimators=90; total time= 1.5min\n",
      "[CV 4/5] END alpha=24, learning_rate=0.05, max_depth=35, n_estimators=90; total time= 2.0min\n",
      "[CV 5/5] END alpha=24, learning_rate=0.05, max_depth=35, n_estimators=90; total time= 2.4min\n",
      "[CV 1/5] END alpha=24, learning_rate=0.05, max_depth=35, n_estimators=95; total time=  28.0s\n",
      "[CV 2/5] END alpha=24, learning_rate=0.05, max_depth=35, n_estimators=95; total time= 1.1min\n",
      "[CV 3/5] END alpha=24, learning_rate=0.05, max_depth=35, n_estimators=95; total time= 1.6min\n",
      "[CV 4/5] END alpha=24, learning_rate=0.05, max_depth=35, n_estimators=95; total time= 2.1min\n",
      "[CV 5/5] END alpha=24, learning_rate=0.05, max_depth=35, n_estimators=95; total time= 2.6min\n",
      "[CV 1/5] END alpha=24, learning_rate=0.1, max_depth=25, n_estimators=85; total time=  20.9s\n",
      "[CV 2/5] END alpha=24, learning_rate=0.1, max_depth=25, n_estimators=85; total time=  44.9s\n",
      "[CV 3/5] END alpha=24, learning_rate=0.1, max_depth=25, n_estimators=85; total time=  54.3s\n",
      "[CV 4/5] END alpha=24, learning_rate=0.1, max_depth=25, n_estimators=85; total time= 1.0min\n",
      "[CV 5/5] END alpha=24, learning_rate=0.1, max_depth=25, n_estimators=85; total time= 1.3min\n",
      "[CV 1/5] END alpha=24, learning_rate=0.1, max_depth=25, n_estimators=90; total time=   7.4s\n",
      "[CV 2/5] END alpha=24, learning_rate=0.1, max_depth=25, n_estimators=90; total time=  18.0s\n",
      "[CV 3/5] END alpha=24, learning_rate=0.1, max_depth=25, n_estimators=90; total time=  37.7s\n",
      "[CV 4/5] END alpha=24, learning_rate=0.1, max_depth=25, n_estimators=90; total time=  51.0s\n",
      "[CV 5/5] END alpha=24, learning_rate=0.1, max_depth=25, n_estimators=90; total time= 1.3min\n",
      "[CV 1/5] END alpha=24, learning_rate=0.1, max_depth=25, n_estimators=95; total time=   8.0s\n",
      "[CV 2/5] END alpha=24, learning_rate=0.1, max_depth=25, n_estimators=95; total time=  20.6s\n",
      "[CV 3/5] END alpha=24, learning_rate=0.1, max_depth=25, n_estimators=95; total time=  36.2s\n",
      "[CV 4/5] END alpha=24, learning_rate=0.1, max_depth=25, n_estimators=95; total time=  50.1s\n",
      "[CV 5/5] END alpha=24, learning_rate=0.1, max_depth=25, n_estimators=95; total time= 1.2min\n",
      "[CV 1/5] END alpha=24, learning_rate=0.1, max_depth=30, n_estimators=85; total time=   7.8s\n",
      "[CV 2/5] END alpha=24, learning_rate=0.1, max_depth=30, n_estimators=85; total time=  22.9s\n",
      "[CV 3/5] END alpha=24, learning_rate=0.1, max_depth=30, n_estimators=85; total time=  35.5s\n",
      "[CV 4/5] END alpha=24, learning_rate=0.1, max_depth=30, n_estimators=85; total time=  55.1s\n",
      "[CV 5/5] END alpha=24, learning_rate=0.1, max_depth=30, n_estimators=85; total time= 1.5min\n",
      "[CV 1/5] END alpha=24, learning_rate=0.1, max_depth=30, n_estimators=90; total time=   7.6s\n",
      "[CV 2/5] END alpha=24, learning_rate=0.1, max_depth=30, n_estimators=90; total time=  23.1s\n",
      "[CV 3/5] END alpha=24, learning_rate=0.1, max_depth=30, n_estimators=90; total time=  39.3s\n",
      "[CV 4/5] END alpha=24, learning_rate=0.1, max_depth=30, n_estimators=90; total time=  58.1s\n",
      "[CV 5/5] END alpha=24, learning_rate=0.1, max_depth=30, n_estimators=90; total time= 1.4min\n",
      "[CV 1/5] END alpha=24, learning_rate=0.1, max_depth=30, n_estimators=95; total time=  13.8s\n",
      "[CV 2/5] END alpha=24, learning_rate=0.1, max_depth=30, n_estimators=95; total time=  27.2s\n",
      "[CV 3/5] END alpha=24, learning_rate=0.1, max_depth=30, n_estimators=95; total time=  45.2s\n",
      "[CV 4/5] END alpha=24, learning_rate=0.1, max_depth=30, n_estimators=95; total time=  57.7s\n",
      "[CV 5/5] END alpha=24, learning_rate=0.1, max_depth=30, n_estimators=95; total time= 1.4min\n",
      "[CV 1/5] END alpha=24, learning_rate=0.1, max_depth=35, n_estimators=85; total time=  12.3s\n",
      "[CV 2/5] END alpha=24, learning_rate=0.1, max_depth=35, n_estimators=85; total time=  46.6s\n",
      "[CV 3/5] END alpha=24, learning_rate=0.1, max_depth=35, n_estimators=85; total time=  44.9s\n"
     ]
    }
   ],
   "source": [
    "gsearch.fit(X, y)"
   ]
  },
  {
   "cell_type": "code",
   "execution_count": null,
   "id": "about-whole",
   "metadata": {},
   "outputs": [],
   "source": [
    "print(gsearch.best_score_)\n",
    "print(gsearch.best_params_)\n",
    "\n",
    "'''\n",
    "0.3829190278056018 > {'alpha': 24, 'learning_rate': 0.1, 'max_depth': 30, 'n_estimators': 90}\n",
    "'''"
   ]
  },
  {
   "cell_type": "code",
   "execution_count": 49,
   "id": "grave-banks",
   "metadata": {},
   "outputs": [
    {
     "data": {
      "text/plain": [
       "\"\\nfor train_index, val_index in splits.split(X):\\n    _X_train_ = X.iloc[train_index]\\n    _y_train_ = y.iloc[train_index]\\n    _X_val_ = X.iloc[val_index]\\n    _y_val_ = y.iloc[val_index]\\n    \\n    \\n    p_train = gsearch.predict(_X_train_)\\n    p_val = gsearch.predict(_X_val_)\\n    \\n    print(p_train)\\n    #score_train = np.mean(log_loss(_y_train_, p_train))\\n    #score_val = np.mean(log_loss(_y_val_, p_val))\\n#print(':::' + str()\\n#print(':::' + str()\\nscore_train = np.mean(log_loss(_y_train_, p_train))\\nscore_val = np.mean(log_loss(_y_val_, p_val))\\n\""
      ]
     },
     "execution_count": 49,
     "metadata": {},
     "output_type": "execute_result"
    }
   ],
   "source": [
    "'''\n",
    "for train_index, val_index in splits.split(X):\n",
    "    _X_train_ = X.iloc[train_index]\n",
    "    _y_train_ = y.iloc[train_index]\n",
    "    _X_val_ = X.iloc[val_index]\n",
    "    _y_val_ = y.iloc[val_index]\n",
    "    \n",
    "    \n",
    "    p_train = gsearch.predict(_X_train_)\n",
    "    p_val = gsearch.predict(_X_val_)\n",
    "    \n",
    "    print(p_train)\n",
    "    #score_train = np.mean(log_loss(_y_train_, p_train))\n",
    "    #score_val = np.mean(log_loss(_y_val_, p_val))\n",
    "#print(':::' + str()\n",
    "#print(':::' + str()\n",
    "score_train = np.mean(log_loss(_y_train_, p_train))\n",
    "score_val = np.mean(log_loss(_y_val_, p_val))\n",
    "'''"
   ]
  },
  {
   "cell_type": "code",
   "execution_count": null,
   "id": "negative-element",
   "metadata": {},
   "outputs": [],
   "source": [
    "gsearch"
   ]
  },
  {
   "cell_type": "code",
   "execution_count": 18,
   "id": "attempted-rover",
   "metadata": {},
   "outputs": [
    {
     "data": {
      "text/plain": [
       "'\\nrfr = RandomForestRegressor()\\n\\n# Create a dictionary of hyperparameters to search\\nrfr_grid = {\"n_estimators\": [28, 29, 30, 31], \\n        \\'max_depth\\': [20, 21, 22, 23, 24], \\n        \\'max_features\\': [67, 68, 69, 70, 71, 72, 73, 80, 85], \\n        \\'random_state\\': [123]}\\n\\nrfr_paramGrid = ParameterGrid(rfr_grid)\\n'"
      ]
     },
     "execution_count": 18,
     "metadata": {},
     "output_type": "execute_result"
    }
   ],
   "source": [
    "'''\n",
    "rfr = RandomForestRegressor()\n",
    "\n",
    "# Create a dictionary of hyperparameters to search\n",
    "rfr_grid = {\"n_estimators\": [28, 29, 30, 31], \n",
    "        'max_depth': [20, 21, 22, 23, 24], \n",
    "        'max_features': [67, 68, 69, 70, 71, 72, 73, 80, 85], \n",
    "        'random_state': [123]}\n",
    "\n",
    "rfr_paramGrid = ParameterGrid(rfr_grid)\n",
    "'''"
   ]
  },
  {
   "cell_type": "code",
   "execution_count": 50,
   "id": "serial-coaching",
   "metadata": {},
   "outputs": [
    {
     "data": {
      "text/plain": [
       "'\\nsplits = TimeSeriesSplit(n_splits=5, max_train_size=365*2)\\n\\ndef TimeSplit_ModBuild(model, paramGrid, splits, X, y):\\n\\n    #Loop over each time split and for each\\n    for train_index, val_index in splits.split(X):\\n        _X_train_ = X.iloc[train_index]\\n        _y_train_ = y.iloc[train_index]\\n        _X_val_ = X.iloc[val_index]\\n        _y_val_ = y.iloc[val_index]\\n\\n        train_scores = []\\n        val_scores = []\\n        #models = []\\n        \\n        # Loop through the parameter grid, set the hyperparameters, and save the scores\\n        for g in paramGrid:\\n            \\n            print(g)\\n            \\n            \\n\\n            model.set_params(**g)\\n            model.fit(_X_train_, _y_train_)\\n            p_train = model.predict(_X_train_)\\n            p_val = model.predict(_X_val_)\\n            \\n            #print(\\':::\\' + str()\\n            #print(\\':::\\' + str()\\n            score_train = np.mean(log_loss(_y_train_, p_train))\\n            score_val = np.mean(log_loss(_y_val_, p_val))\\n            #score_train = np.mean(mean_squared_error(_y_train_, p_train))\\n            #score_val = np.mean(mean_squared_error(_y_val_, p_val))\\n            \\n            train_scores.append(score_train)\\n            val_scores.append(score_val)\\n            #models.append(model)\\n            best_idx = np.argmin(val_scores)\\n            \\n        print(\"Best-Fold HyperParams:: \", paramGrid[best_idx])\\n        print(\"Best-Fold Train log_loss: \", train_scores[best_idx])\\n        print(\"Best-Fold Val log_loss: \",val_scores[best_idx])\\n        print(\"\\n\")\\n        \\n    #Return most recent model\\n    return train_scores, val_scores, best_idx\\n\\n\\n# CV_rfr_tup = TimeSplit_ModBuild(rfr, rfr_paramGrid, splits, X, y)\\nCV_rfr_tup = TimeSplit_ModBuild(xgbt, xgbt_paramGrid, splits, X, y)\\n'"
      ]
     },
     "execution_count": 50,
     "metadata": {},
     "output_type": "execute_result"
    }
   ],
   "source": [
    "'''\n",
    "splits = TimeSeriesSplit(n_splits=5, max_train_size=365*2)\n",
    "\n",
    "def TimeSplit_ModBuild(model, paramGrid, splits, X, y):\n",
    "\n",
    "    #Loop over each time split and for each\n",
    "    for train_index, val_index in splits.split(X):\n",
    "        _X_train_ = X.iloc[train_index]\n",
    "        _y_train_ = y.iloc[train_index]\n",
    "        _X_val_ = X.iloc[val_index]\n",
    "        _y_val_ = y.iloc[val_index]\n",
    "\n",
    "        train_scores = []\n",
    "        val_scores = []\n",
    "        #models = []\n",
    "        \n",
    "        # Loop through the parameter grid, set the hyperparameters, and save the scores\n",
    "        for g in paramGrid:\n",
    "            \n",
    "            print(g)\n",
    "            \n",
    "            \n",
    "\n",
    "            model.set_params(**g)\n",
    "            model.fit(_X_train_, _y_train_)\n",
    "            p_train = model.predict(_X_train_)\n",
    "            p_val = model.predict(_X_val_)\n",
    "            \n",
    "            #print(':::' + str()\n",
    "            #print(':::' + str()\n",
    "            score_train = np.mean(log_loss(_y_train_, p_train))\n",
    "            score_val = np.mean(log_loss(_y_val_, p_val))\n",
    "            #score_train = np.mean(mean_squared_error(_y_train_, p_train))\n",
    "            #score_val = np.mean(mean_squared_error(_y_val_, p_val))\n",
    "            \n",
    "            train_scores.append(score_train)\n",
    "            val_scores.append(score_val)\n",
    "            #models.append(model)\n",
    "            best_idx = np.argmin(val_scores)\n",
    "            \n",
    "        print(\"Best-Fold HyperParams:: \", paramGrid[best_idx])\n",
    "        print(\"Best-Fold Train log_loss: \", train_scores[best_idx])\n",
    "        print(\"Best-Fold Val log_loss: \",val_scores[best_idx])\n",
    "        print(\"\\n\")\n",
    "        \n",
    "    #Return most recent model\n",
    "    return train_scores, val_scores, best_idx\n",
    "\n",
    "\n",
    "# CV_rfr_tup = TimeSplit_ModBuild(rfr, rfr_paramGrid, splits, X, y)\n",
    "CV_rfr_tup = TimeSplit_ModBuild(xgbt, xgbt_paramGrid, splits, X, y)\n",
    "'''"
   ]
  },
  {
   "cell_type": "code",
   "execution_count": 51,
   "id": "adjacent-peninsula",
   "metadata": {},
   "outputs": [],
   "source": [
    "df_frio_frio_test = pd.read_csv(test_source_file)"
   ]
  },
  {
   "cell_type": "code",
   "execution_count": 53,
   "id": "personal-mounting",
   "metadata": {},
   "outputs": [
    {
     "data": {
      "text/html": [
       "<div>\n",
       "<style scoped>\n",
       "    .dataframe tbody tr th:only-of-type {\n",
       "        vertical-align: middle;\n",
       "    }\n",
       "\n",
       "    .dataframe tbody tr th {\n",
       "        vertical-align: top;\n",
       "    }\n",
       "\n",
       "    .dataframe thead th {\n",
       "        text-align: right;\n",
       "    }\n",
       "</style>\n",
       "<table border=\"1\" class=\"dataframe\">\n",
       "  <thead>\n",
       "    <tr style=\"text-align: right;\">\n",
       "      <th></th>\n",
       "      <th>Unnamed: 0</th>\n",
       "      <th>Opportunity_ID</th>\n",
       "      <th>Region_APAC</th>\n",
       "      <th>Region_Americas</th>\n",
       "      <th>Region_EMEA</th>\n",
       "      <th>Region_Japan</th>\n",
       "      <th>Region_Middle East</th>\n",
       "      <th>Territory_Albania</th>\n",
       "      <th>Territory_Armenia</th>\n",
       "      <th>Territory_Australia</th>\n",
       "      <th>...</th>\n",
       "      <th>Total_Amount_sum</th>\n",
       "      <th>Planned_Delivery_Date_diff</th>\n",
       "      <th>Pricing, Delivery_Terms_Quote_Appr</th>\n",
       "      <th>Pricing, Delivery_Terms_Approved</th>\n",
       "      <th>Bureaucratic_Code_0_Approval</th>\n",
       "      <th>Bureaucratic_Code_0_Approved</th>\n",
       "      <th>Submitted_for_Approval</th>\n",
       "      <th>Quote_Type</th>\n",
       "      <th>Delivery_Year</th>\n",
       "      <th>TRF</th>\n",
       "    </tr>\n",
       "  </thead>\n",
       "  <tbody>\n",
       "    <tr>\n",
       "      <th>0</th>\n",
       "      <td>0</td>\n",
       "      <td>10689</td>\n",
       "      <td>0.0</td>\n",
       "      <td>0.0</td>\n",
       "      <td>1.0</td>\n",
       "      <td>0.0</td>\n",
       "      <td>0.0</td>\n",
       "      <td>0.0</td>\n",
       "      <td>0.0</td>\n",
       "      <td>0.0</td>\n",
       "      <td>...</td>\n",
       "      <td>367419.0</td>\n",
       "      <td>30.0</td>\n",
       "      <td>1.0</td>\n",
       "      <td>1.0</td>\n",
       "      <td>1.0</td>\n",
       "      <td>1.0</td>\n",
       "      <td>0.0</td>\n",
       "      <td>0.0</td>\n",
       "      <td>2019.0</td>\n",
       "      <td>0.0</td>\n",
       "    </tr>\n",
       "    <tr>\n",
       "      <th>1</th>\n",
       "      <td>1</td>\n",
       "      <td>10690</td>\n",
       "      <td>0.0</td>\n",
       "      <td>0.0</td>\n",
       "      <td>1.0</td>\n",
       "      <td>0.0</td>\n",
       "      <td>0.0</td>\n",
       "      <td>0.0</td>\n",
       "      <td>0.0</td>\n",
       "      <td>0.0</td>\n",
       "      <td>...</td>\n",
       "      <td>757783.5</td>\n",
       "      <td>27.4</td>\n",
       "      <td>1.0</td>\n",
       "      <td>1.0</td>\n",
       "      <td>1.0</td>\n",
       "      <td>1.0</td>\n",
       "      <td>0.0</td>\n",
       "      <td>0.0</td>\n",
       "      <td>2019.0</td>\n",
       "      <td>0.2</td>\n",
       "    </tr>\n",
       "    <tr>\n",
       "      <th>2</th>\n",
       "      <td>2</td>\n",
       "      <td>10691</td>\n",
       "      <td>0.0</td>\n",
       "      <td>1.0</td>\n",
       "      <td>0.0</td>\n",
       "      <td>0.0</td>\n",
       "      <td>0.0</td>\n",
       "      <td>0.0</td>\n",
       "      <td>0.0</td>\n",
       "      <td>0.0</td>\n",
       "      <td>...</td>\n",
       "      <td>21037.5</td>\n",
       "      <td>0.0</td>\n",
       "      <td>1.0</td>\n",
       "      <td>1.0</td>\n",
       "      <td>0.0</td>\n",
       "      <td>0.0</td>\n",
       "      <td>0.0</td>\n",
       "      <td>0.0</td>\n",
       "      <td>2019.0</td>\n",
       "      <td>0.0</td>\n",
       "    </tr>\n",
       "    <tr>\n",
       "      <th>3</th>\n",
       "      <td>3</td>\n",
       "      <td>10692</td>\n",
       "      <td>0.0</td>\n",
       "      <td>1.0</td>\n",
       "      <td>0.0</td>\n",
       "      <td>0.0</td>\n",
       "      <td>0.0</td>\n",
       "      <td>0.0</td>\n",
       "      <td>0.0</td>\n",
       "      <td>0.0</td>\n",
       "      <td>...</td>\n",
       "      <td>2169106.5</td>\n",
       "      <td>0.0</td>\n",
       "      <td>1.0</td>\n",
       "      <td>1.0</td>\n",
       "      <td>1.0</td>\n",
       "      <td>0.0</td>\n",
       "      <td>0.0</td>\n",
       "      <td>0.0</td>\n",
       "      <td>2019.0</td>\n",
       "      <td>1.0</td>\n",
       "    </tr>\n",
       "    <tr>\n",
       "      <th>4</th>\n",
       "      <td>4</td>\n",
       "      <td>10693</td>\n",
       "      <td>0.0</td>\n",
       "      <td>1.0</td>\n",
       "      <td>0.0</td>\n",
       "      <td>0.0</td>\n",
       "      <td>0.0</td>\n",
       "      <td>0.0</td>\n",
       "      <td>0.0</td>\n",
       "      <td>0.0</td>\n",
       "      <td>...</td>\n",
       "      <td>5752.5</td>\n",
       "      <td>0.0</td>\n",
       "      <td>0.0</td>\n",
       "      <td>0.0</td>\n",
       "      <td>0.0</td>\n",
       "      <td>0.0</td>\n",
       "      <td>0.0</td>\n",
       "      <td>0.0</td>\n",
       "      <td>2019.0</td>\n",
       "      <td>0.0</td>\n",
       "    </tr>\n",
       "    <tr>\n",
       "      <th>...</th>\n",
       "      <td>...</td>\n",
       "      <td>...</td>\n",
       "      <td>...</td>\n",
       "      <td>...</td>\n",
       "      <td>...</td>\n",
       "      <td>...</td>\n",
       "      <td>...</td>\n",
       "      <td>...</td>\n",
       "      <td>...</td>\n",
       "      <td>...</td>\n",
       "      <td>...</td>\n",
       "      <td>...</td>\n",
       "      <td>...</td>\n",
       "      <td>...</td>\n",
       "      <td>...</td>\n",
       "      <td>...</td>\n",
       "      <td>...</td>\n",
       "      <td>...</td>\n",
       "      <td>...</td>\n",
       "      <td>...</td>\n",
       "      <td>...</td>\n",
       "    </tr>\n",
       "    <tr>\n",
       "      <th>1562</th>\n",
       "      <td>1562</td>\n",
       "      <td>12364</td>\n",
       "      <td>0.0</td>\n",
       "      <td>0.0</td>\n",
       "      <td>1.0</td>\n",
       "      <td>0.0</td>\n",
       "      <td>0.0</td>\n",
       "      <td>0.0</td>\n",
       "      <td>0.0</td>\n",
       "      <td>0.0</td>\n",
       "      <td>...</td>\n",
       "      <td>147750.0</td>\n",
       "      <td>9.0</td>\n",
       "      <td>1.0</td>\n",
       "      <td>1.0</td>\n",
       "      <td>0.0</td>\n",
       "      <td>0.0</td>\n",
       "      <td>0.0</td>\n",
       "      <td>0.0</td>\n",
       "      <td>2019.0</td>\n",
       "      <td>0.0</td>\n",
       "    </tr>\n",
       "    <tr>\n",
       "      <th>1563</th>\n",
       "      <td>1563</td>\n",
       "      <td>12365</td>\n",
       "      <td>0.0</td>\n",
       "      <td>1.0</td>\n",
       "      <td>0.0</td>\n",
       "      <td>0.0</td>\n",
       "      <td>0.0</td>\n",
       "      <td>0.0</td>\n",
       "      <td>0.0</td>\n",
       "      <td>0.0</td>\n",
       "      <td>...</td>\n",
       "      <td>45054.9</td>\n",
       "      <td>91.0</td>\n",
       "      <td>1.0</td>\n",
       "      <td>1.0</td>\n",
       "      <td>0.0</td>\n",
       "      <td>0.0</td>\n",
       "      <td>0.0</td>\n",
       "      <td>0.0</td>\n",
       "      <td>2019.0</td>\n",
       "      <td>0.0</td>\n",
       "    </tr>\n",
       "    <tr>\n",
       "      <th>1564</th>\n",
       "      <td>1564</td>\n",
       "      <td>12366</td>\n",
       "      <td>0.0</td>\n",
       "      <td>1.0</td>\n",
       "      <td>0.0</td>\n",
       "      <td>0.0</td>\n",
       "      <td>0.0</td>\n",
       "      <td>0.0</td>\n",
       "      <td>0.0</td>\n",
       "      <td>0.0</td>\n",
       "      <td>...</td>\n",
       "      <td>100122.0</td>\n",
       "      <td>91.0</td>\n",
       "      <td>1.0</td>\n",
       "      <td>1.0</td>\n",
       "      <td>1.0</td>\n",
       "      <td>1.0</td>\n",
       "      <td>0.0</td>\n",
       "      <td>0.0</td>\n",
       "      <td>2019.0</td>\n",
       "      <td>0.0</td>\n",
       "    </tr>\n",
       "    <tr>\n",
       "      <th>1565</th>\n",
       "      <td>1565</td>\n",
       "      <td>12367</td>\n",
       "      <td>0.0</td>\n",
       "      <td>1.0</td>\n",
       "      <td>0.0</td>\n",
       "      <td>0.0</td>\n",
       "      <td>0.0</td>\n",
       "      <td>0.0</td>\n",
       "      <td>0.0</td>\n",
       "      <td>0.0</td>\n",
       "      <td>...</td>\n",
       "      <td>143220.0</td>\n",
       "      <td>0.0</td>\n",
       "      <td>1.0</td>\n",
       "      <td>1.0</td>\n",
       "      <td>0.0</td>\n",
       "      <td>0.0</td>\n",
       "      <td>0.0</td>\n",
       "      <td>0.0</td>\n",
       "      <td>2019.0</td>\n",
       "      <td>0.0</td>\n",
       "    </tr>\n",
       "    <tr>\n",
       "      <th>1566</th>\n",
       "      <td>1566</td>\n",
       "      <td>12368</td>\n",
       "      <td>0.0</td>\n",
       "      <td>0.0</td>\n",
       "      <td>1.0</td>\n",
       "      <td>0.0</td>\n",
       "      <td>0.0</td>\n",
       "      <td>0.0</td>\n",
       "      <td>0.0</td>\n",
       "      <td>0.0</td>\n",
       "      <td>...</td>\n",
       "      <td>871020.8</td>\n",
       "      <td>53.0</td>\n",
       "      <td>1.0</td>\n",
       "      <td>0.0</td>\n",
       "      <td>0.0</td>\n",
       "      <td>0.0</td>\n",
       "      <td>0.0</td>\n",
       "      <td>0.0</td>\n",
       "      <td>2019.0</td>\n",
       "      <td>3.0</td>\n",
       "    </tr>\n",
       "  </tbody>\n",
       "</table>\n",
       "<p>1567 rows × 2867 columns</p>\n",
       "</div>"
      ],
      "text/plain": [
       "      Unnamed: 0  Opportunity_ID  Region_APAC  Region_Americas  Region_EMEA  \\\n",
       "0              0           10689          0.0              0.0          1.0   \n",
       "1              1           10690          0.0              0.0          1.0   \n",
       "2              2           10691          0.0              1.0          0.0   \n",
       "3              3           10692          0.0              1.0          0.0   \n",
       "4              4           10693          0.0              1.0          0.0   \n",
       "...          ...             ...          ...              ...          ...   \n",
       "1562        1562           12364          0.0              0.0          1.0   \n",
       "1563        1563           12365          0.0              1.0          0.0   \n",
       "1564        1564           12366          0.0              1.0          0.0   \n",
       "1565        1565           12367          0.0              1.0          0.0   \n",
       "1566        1566           12368          0.0              0.0          1.0   \n",
       "\n",
       "      Region_Japan  Region_Middle East  Territory_Albania  Territory_Armenia  \\\n",
       "0              0.0                 0.0                0.0                0.0   \n",
       "1              0.0                 0.0                0.0                0.0   \n",
       "2              0.0                 0.0                0.0                0.0   \n",
       "3              0.0                 0.0                0.0                0.0   \n",
       "4              0.0                 0.0                0.0                0.0   \n",
       "...            ...                 ...                ...                ...   \n",
       "1562           0.0                 0.0                0.0                0.0   \n",
       "1563           0.0                 0.0                0.0                0.0   \n",
       "1564           0.0                 0.0                0.0                0.0   \n",
       "1565           0.0                 0.0                0.0                0.0   \n",
       "1566           0.0                 0.0                0.0                0.0   \n",
       "\n",
       "      Territory_Australia  ...  Total_Amount_sum  Planned_Delivery_Date_diff  \\\n",
       "0                     0.0  ...          367419.0                        30.0   \n",
       "1                     0.0  ...          757783.5                        27.4   \n",
       "2                     0.0  ...           21037.5                         0.0   \n",
       "3                     0.0  ...         2169106.5                         0.0   \n",
       "4                     0.0  ...            5752.5                         0.0   \n",
       "...                   ...  ...               ...                         ...   \n",
       "1562                  0.0  ...          147750.0                         9.0   \n",
       "1563                  0.0  ...           45054.9                        91.0   \n",
       "1564                  0.0  ...          100122.0                        91.0   \n",
       "1565                  0.0  ...          143220.0                         0.0   \n",
       "1566                  0.0  ...          871020.8                        53.0   \n",
       "\n",
       "      Pricing, Delivery_Terms_Quote_Appr  Pricing, Delivery_Terms_Approved  \\\n",
       "0                                    1.0                               1.0   \n",
       "1                                    1.0                               1.0   \n",
       "2                                    1.0                               1.0   \n",
       "3                                    1.0                               1.0   \n",
       "4                                    0.0                               0.0   \n",
       "...                                  ...                               ...   \n",
       "1562                                 1.0                               1.0   \n",
       "1563                                 1.0                               1.0   \n",
       "1564                                 1.0                               1.0   \n",
       "1565                                 1.0                               1.0   \n",
       "1566                                 1.0                               0.0   \n",
       "\n",
       "      Bureaucratic_Code_0_Approval  Bureaucratic_Code_0_Approved  \\\n",
       "0                              1.0                           1.0   \n",
       "1                              1.0                           1.0   \n",
       "2                              0.0                           0.0   \n",
       "3                              1.0                           0.0   \n",
       "4                              0.0                           0.0   \n",
       "...                            ...                           ...   \n",
       "1562                           0.0                           0.0   \n",
       "1563                           0.0                           0.0   \n",
       "1564                           1.0                           1.0   \n",
       "1565                           0.0                           0.0   \n",
       "1566                           0.0                           0.0   \n",
       "\n",
       "      Submitted_for_Approval  Quote_Type  Delivery_Year  TRF  \n",
       "0                        0.0         0.0         2019.0  0.0  \n",
       "1                        0.0         0.0         2019.0  0.2  \n",
       "2                        0.0         0.0         2019.0  0.0  \n",
       "3                        0.0         0.0         2019.0  1.0  \n",
       "4                        0.0         0.0         2019.0  0.0  \n",
       "...                      ...         ...            ...  ...  \n",
       "1562                     0.0         0.0         2019.0  0.0  \n",
       "1563                     0.0         0.0         2019.0  0.0  \n",
       "1564                     0.0         0.0         2019.0  0.0  \n",
       "1565                     0.0         0.0         2019.0  0.0  \n",
       "1566                     0.0         0.0         2019.0  3.0  \n",
       "\n",
       "[1567 rows x 2867 columns]"
      ]
     },
     "execution_count": 53,
     "metadata": {},
     "output_type": "execute_result"
    }
   ],
   "source": [
    "df_frio_frio_test"
   ]
  },
  {
   "cell_type": "code",
   "execution_count": 63,
   "id": "beautiful-tennis",
   "metadata": {},
   "outputs": [],
   "source": [
    "#predicts = best_rfr.predict(df_frio_frio_test)\n",
    "predicts = gsearch.predict(df_frio_frio_test)\n"
   ]
  },
  {
   "cell_type": "code",
   "execution_count": 64,
   "id": "reasonable-owner",
   "metadata": {},
   "outputs": [
    {
     "data": {
      "text/plain": [
       "array([0.5997573 , 0.5703797 , 0.85874844, ..., 0.31926543, 0.56196475,\n",
       "       0.22847621], dtype=float32)"
      ]
     },
     "execution_count": 64,
     "metadata": {},
     "output_type": "execute_result"
    }
   ],
   "source": [
    "predicts"
   ]
  },
  {
   "cell_type": "code",
   "execution_count": 58,
   "id": "forbidden-formation",
   "metadata": {},
   "outputs": [],
   "source": [
    "output = pd.DataFrame({'Opportunity_ID':df_frio_frio_test.Opportunity_ID, 'Target': predicts})\n"
   ]
  },
  {
   "cell_type": "code",
   "execution_count": 59,
   "id": "surprising-capacity",
   "metadata": {},
   "outputs": [
    {
     "data": {
      "text/html": [
       "<div>\n",
       "<style scoped>\n",
       "    .dataframe tbody tr th:only-of-type {\n",
       "        vertical-align: middle;\n",
       "    }\n",
       "\n",
       "    .dataframe tbody tr th {\n",
       "        vertical-align: top;\n",
       "    }\n",
       "\n",
       "    .dataframe thead th {\n",
       "        text-align: right;\n",
       "    }\n",
       "</style>\n",
       "<table border=\"1\" class=\"dataframe\">\n",
       "  <thead>\n",
       "    <tr style=\"text-align: right;\">\n",
       "      <th></th>\n",
       "      <th>Target</th>\n",
       "    </tr>\n",
       "    <tr>\n",
       "      <th>Opportunity_ID</th>\n",
       "      <th></th>\n",
       "    </tr>\n",
       "  </thead>\n",
       "  <tbody>\n",
       "    <tr>\n",
       "      <th>10689</th>\n",
       "      <td>0.599757</td>\n",
       "    </tr>\n",
       "    <tr>\n",
       "      <th>10690</th>\n",
       "      <td>0.570380</td>\n",
       "    </tr>\n",
       "    <tr>\n",
       "      <th>10691</th>\n",
       "      <td>0.858748</td>\n",
       "    </tr>\n",
       "    <tr>\n",
       "      <th>10692</th>\n",
       "      <td>0.521195</td>\n",
       "    </tr>\n",
       "    <tr>\n",
       "      <th>10693</th>\n",
       "      <td>0.959178</td>\n",
       "    </tr>\n",
       "    <tr>\n",
       "      <th>...</th>\n",
       "      <td>...</td>\n",
       "    </tr>\n",
       "    <tr>\n",
       "      <th>12364</th>\n",
       "      <td>0.794151</td>\n",
       "    </tr>\n",
       "    <tr>\n",
       "      <th>12365</th>\n",
       "      <td>0.462796</td>\n",
       "    </tr>\n",
       "    <tr>\n",
       "      <th>12366</th>\n",
       "      <td>0.319265</td>\n",
       "    </tr>\n",
       "    <tr>\n",
       "      <th>12367</th>\n",
       "      <td>0.561965</td>\n",
       "    </tr>\n",
       "    <tr>\n",
       "      <th>12368</th>\n",
       "      <td>0.228476</td>\n",
       "    </tr>\n",
       "  </tbody>\n",
       "</table>\n",
       "<p>1567 rows × 1 columns</p>\n",
       "</div>"
      ],
      "text/plain": [
       "                  Target\n",
       "Opportunity_ID          \n",
       "10689           0.599757\n",
       "10690           0.570380\n",
       "10691           0.858748\n",
       "10692           0.521195\n",
       "10693           0.959178\n",
       "...                  ...\n",
       "12364           0.794151\n",
       "12365           0.462796\n",
       "12366           0.319265\n",
       "12367           0.561965\n",
       "12368           0.228476\n",
       "\n",
       "[1567 rows x 1 columns]"
      ]
     },
     "execution_count": 59,
     "metadata": {},
     "output_type": "execute_result"
    }
   ],
   "source": [
    "final=output.groupby('Opportunity_ID').mean()\n",
    "final"
   ]
  },
  {
   "cell_type": "code",
   "execution_count": 60,
   "id": "improved-carolina",
   "metadata": {},
   "outputs": [],
   "source": [
    "output.to_csv(kaggle_predict_file, index=False)"
   ]
  },
  {
   "cell_type": "code",
   "execution_count": 53,
   "id": "local-programming",
   "metadata": {},
   "outputs": [
    {
     "data": {
      "text/plain": [
       "'\\n    de aqui en adelante eran pruebas para ver si puedo determinar que features tiene mayor\\n    peso para mejorar el feng\\n'"
      ]
     },
     "execution_count": 53,
     "metadata": {},
     "output_type": "execute_result"
    }
   ],
   "source": [
    "'''\n",
    "    de aqui en adelante eran pruebas para ver si puedo determinar que features tiene mayor\n",
    "    peso para mejorar el feng\n",
    "'''"
   ]
  },
  {
   "cell_type": "code",
   "execution_count": 54,
   "id": "touched-fortune",
   "metadata": {},
   "outputs": [],
   "source": [
    "import matplotlib.pyplot as plt"
   ]
  },
  {
   "cell_type": "code",
   "execution_count": 55,
   "id": "current-father",
   "metadata": {},
   "outputs": [
    {
     "data": {
      "text/plain": [
       "array([0.01906076, 0.02379769, 0.00168856, ..., 0.00053891, 0.00372354,\n",
       "       0.03004665])"
      ]
     },
     "execution_count": 55,
     "metadata": {},
     "output_type": "execute_result"
    }
   ],
   "source": [
    "rfr.feature_importances_"
   ]
  },
  {
   "cell_type": "code",
   "execution_count": 56,
   "id": "ongoing-solution",
   "metadata": {},
   "outputs": [],
   "source": [
    "rfr_series = pd.Series(rfr.feature_importances_)"
   ]
  },
  {
   "cell_type": "code",
   "execution_count": 57,
   "id": "presidential-proposal",
   "metadata": {},
   "outputs": [],
   "source": [
    "X_series = pd.Series(X.columns)"
   ]
  },
  {
   "cell_type": "code",
   "execution_count": 58,
   "id": "quarterly-waters",
   "metadata": {},
   "outputs": [
    {
     "data": {
      "text/plain": [
       "pandas.core.frame.DataFrame"
      ]
     },
     "execution_count": 58,
     "metadata": {},
     "output_type": "execute_result"
    }
   ],
   "source": [
    "Comb = pd.concat([X_series, rfr_series], axis=1)\n",
    "type(Comb)"
   ]
  },
  {
   "cell_type": "code",
   "execution_count": 59,
   "id": "variable-honduras",
   "metadata": {},
   "outputs": [
    {
     "data": {
      "text/plain": [
       "2856                   Total_Amount\n",
       "1984        Product_Category_B_None\n",
       "2066                  Currency_None\n",
       "1970              Product_Type_None\n",
       "2063                     Price_None\n",
       "1985       Product_Category_B_Other\n",
       "2866                            TRF\n",
       "2858     Planned_Delivery_Date_diff\n",
       "1968                     Brand_None\n",
       "1                    Opportunity_ID\n",
       "2857               Total_Amount_sum\n",
       "2855                ASP_(converted)\n",
       "2844            Delivery_Quarter_Q2\n",
       "0                        Unnamed: 0\n",
       "2854                            ASP\n",
       "2830                 Month_2018 - 6\n",
       "2064                    Price_Other\n",
       "1903    Account_Type_Account_Type_0\n",
       "1977                      Size_None\n",
       "2067                   Currency_USD\n",
       "Name: 0, dtype: object"
      ]
     },
     "execution_count": 59,
     "metadata": {},
     "output_type": "execute_result"
    }
   ],
   "source": [
    "Comb.nlargest(20, 1)[0]"
   ]
  },
  {
   "cell_type": "code",
   "execution_count": 60,
   "id": "olive-rebound",
   "metadata": {},
   "outputs": [
    {
     "data": {
      "image/png": "[encoded data removed]",
      "text/plain": [
       "<Figure size 432x288 with 1 Axes>"
      ]
     },
     "metadata": {
      "needs_background": "light"
     },
     "output_type": "display_data"
    }
   ],
   "source": [
    "plt.bar(Comb.nlargest(20, 1)[0], Comb.nlargest(20, 1)[1])\n",
    "plt.xlabel('features')\n",
    "plt.ylabel('importance ')\n",
    "plt.show()"
   ]
  },
  {
   "cell_type": "code",
   "execution_count": 27,
   "id": "micro-ideal",
   "metadata": {},
   "outputs": [],
   "source": [
    "X_train = pd.DataFrame(columns=['mascota', 'edad', 'sexo', 'estado'], data=[\n",
    "['perro',50,'M','feliz'],\n",
    "['gato',5,'M','feliz'],\n",
    "['perro',80,'M','trsite'],\n",
    "['gato',80,'M','feliz'],\n",
    "['perro',25,'M','feliz']\n",
    "])"
   ]
  },
  {
   "cell_type": "code",
   "execution_count": 28,
   "id": "spoken-nancy",
   "metadata": {},
   "outputs": [],
   "source": [
    "import pandas as pd"
   ]
  },
  {
   "cell_type": "code",
   "execution_count": 29,
   "id": "dental-steel",
   "metadata": {},
   "outputs": [
    {
     "data": {
      "text/html": [
       "<div>\n",
       "<style scoped>\n",
       "    .dataframe tbody tr th:only-of-type {\n",
       "        vertical-align: middle;\n",
       "    }\n",
       "\n",
       "    .dataframe tbody tr th {\n",
       "        vertical-align: top;\n",
       "    }\n",
       "\n",
       "    .dataframe thead th {\n",
       "        text-align: right;\n",
       "    }\n",
       "</style>\n",
       "<table border=\"1\" class=\"dataframe\">\n",
       "  <thead>\n",
       "    <tr style=\"text-align: right;\">\n",
       "      <th></th>\n",
       "      <th>mascota</th>\n",
       "      <th>edad</th>\n",
       "      <th>sexo</th>\n",
       "      <th>estado</th>\n",
       "    </tr>\n",
       "  </thead>\n",
       "  <tbody>\n",
       "    <tr>\n",
       "      <th>0</th>\n",
       "      <td>perro</td>\n",
       "      <td>50</td>\n",
       "      <td>M</td>\n",
       "      <td>feliz</td>\n",
       "    </tr>\n",
       "    <tr>\n",
       "      <th>1</th>\n",
       "      <td>gato</td>\n",
       "      <td>5</td>\n",
       "      <td>M</td>\n",
       "      <td>feliz</td>\n",
       "    </tr>\n",
       "    <tr>\n",
       "      <th>2</th>\n",
       "      <td>perro</td>\n",
       "      <td>80</td>\n",
       "      <td>M</td>\n",
       "      <td>trsite</td>\n",
       "    </tr>\n",
       "    <tr>\n",
       "      <th>3</th>\n",
       "      <td>gato</td>\n",
       "      <td>80</td>\n",
       "      <td>M</td>\n",
       "      <td>feliz</td>\n",
       "    </tr>\n",
       "    <tr>\n",
       "      <th>4</th>\n",
       "      <td>perro</td>\n",
       "      <td>25</td>\n",
       "      <td>M</td>\n",
       "      <td>feliz</td>\n",
       "    </tr>\n",
       "  </tbody>\n",
       "</table>\n",
       "</div>"
      ],
      "text/plain": [
       "  mascota  edad sexo  estado\n",
       "0   perro    50    M   feliz\n",
       "1    gato     5    M   feliz\n",
       "2   perro    80    M  trsite\n",
       "3    gato    80    M   feliz\n",
       "4   perro    25    M   feliz"
      ]
     },
     "execution_count": 29,
     "metadata": {},
     "output_type": "execute_result"
    }
   ],
   "source": [
    "X_train"
   ]
  },
  {
   "cell_type": "code",
   "execution_count": null,
   "id": "authentic-jungle",
   "metadata": {},
   "outputs": [],
   "source": []
  }
 ],
 "metadata": {
  "kernelspec": {
   "display_name": "Python 3",
   "language": "python",
   "name": "python3"
  },
  "language_info": {
   "codemirror_mode": {
    "name": "ipython",
    "version": 3
   },
   "file_extension": ".py",
   "mimetype": "text/x-python",
   "name": "python",
   "nbconvert_exporter": "python",
   "pygments_lexer": "ipython3",
   "version": "3.9.1"
  }
 },
 "nbformat": 4,
 "nbformat_minor": 5
}
