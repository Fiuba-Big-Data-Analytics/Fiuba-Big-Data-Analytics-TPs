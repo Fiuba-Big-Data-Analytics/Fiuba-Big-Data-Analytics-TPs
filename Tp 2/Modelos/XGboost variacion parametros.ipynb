{
 "cells": [
  {
   "cell_type": "code",
   "execution_count": 1,
   "metadata": {},
   "outputs": [],
   "source": [
    "import pandas as pd\n",
    "import numpy as np\n",
    "import matplotlib.pyplot as plt\n",
    "from matplotlib.colors import ListedColormap\n",
    "import matplotlib.patches as mpatches\n",
    "import seaborn as sb\n",
    "\n",
    "from sklearn.preprocessing import OneHotEncoder\n",
    "from sklearn.ensemble import RandomForestRegressor\n",
    "from sklearn.metrics import mean_squared_error\n",
    "from sklearn import tree\n",
    "\n",
    "import xgboost as xgb\n",
    "from xgboost.sklearn import XGBClassifier\n",
    "from sklearn.model_selection import cross_validate\n",
    "from sklearn import  metrics   #Additional scklearn functions\n",
    "from sklearn.model_selection import GridSearchCV  #Perforing grid search\n",
    "\n",
    "import matplotlib.pylab as plt"
   ]
  },
  {
   "cell_type": "code",
   "execution_count": 2,
   "metadata": {},
   "outputs": [],
   "source": [
    "def normaliza_df(df, onehotencoder = None):\n",
    "    print(df.shape)\n",
    "\n",
    "    # drops -------------------------------------------------\n",
    "    '''\n",
    "      removemos la columna de la cual el modelo podria aprender que su existencia\n",
    "      implica el Closed_won (ya que es un valor que se obtiene a posteriori de haber\n",
    "      ganado y estaria mal usarlo ya que los modelos entrenadas con ella serian \n",
    "      incapaces de poder predecir correctamente)\n",
    "    '''\n",
    "    df = df.drop(['Sales_Contract_No'], axis=1)\n",
    "    \n",
    "    # irrelevantes (se eliminan) ----------------------------------------------\n",
    "    \n",
    "    # Total_Taxable_Amount = Sum rows[Total_Amount]\n",
    "    \n",
    "    # preparamos la columna Total_Taxable_Amount para ser aplanada\n",
    "    df[\"Total_Amount_sum\"] = df.groupby(\"Opportunity_ID\")[\"Total_Amount\"].transform(\"sum\")\n",
    "\n",
    "    df = df.drop(['Total_Taxable_Amount'], axis=1)\n",
    "    df = df.drop(['Total_Amount_Currency'], axis=1)\n",
    "\n",
    "    \n",
    "    # esta columna es equivalente a oportunity_id\n",
    "    df = df.drop(['Opportunity_Name'], axis=1)\n",
    "    \n",
    "    # dato cte = NaT\n",
    "    df = df.drop(['Last_Activity'], axis=1)\n",
    "    \n",
    "    # todo: convertir estas en una ventana de tiempo\n",
    "    df['Planned_Delivery_Start_Date'] = pd.to_datetime(df['Planned_Delivery_Start_Date'], format=\"%m/%d/%Y\")\n",
    "    df['Planned_Delivery_End_Date'] = pd.to_datetime(df['Planned_Delivery_End_Date'], format=\"%m/%d/%Y\")\n",
    "    \n",
    "    df['Planned_Delivery_Date_diff'] = (df['Planned_Delivery_End_Date'] - df['Planned_Delivery_Start_Date']).dt.days\n",
    "    \n",
    "    df = df.drop(['Planned_Delivery_Start_Date'], axis=1)\n",
    "    df = df.drop(['Planned_Delivery_End_Date'], axis=1)\n",
    "    \n",
    "    # @todo: no estoy seguro si esto aporta\n",
    "    df = df.drop(['Quote_Expiry_Date'], axis=1)\n",
    "    \n",
    "    # @todo: convertirla a una diferencia de dias?\n",
    "    df = df.drop(['Last_Modified_Date'], axis=1)\n",
    "    \n",
    "    # @todo: existe Opportunity_id \n",
    "    df = df.drop(['ID'], axis=1)\n",
    "\n",
    "    # basado en lo charlado con el grupo, ahora subdividimos el df de forma de tener\n",
    "    # en cuenta los casos cerrados y cobertimos las varaibles categorias en su\n",
    "    # representacion mas simple (siendo dos casos en Cloased_Won = 1 y Closed:_lost = 0)\n",
    "    if 'Stage' in df.columns:\n",
    "        df = df[((df['Stage'] == 'Closed Won') | (df['Stage'] == 'Closed Lost'))]\n",
    "        df['Stage'] = df['Stage'].apply(lambda x: 1 if x == 'Closed Won' else 0)\n",
    "    \n",
    "    # hacemos que las variables temporales en las que nos vanos a enfocar sean del tipo correcto\n",
    "    df['Account_Created_Date'] = pd.to_datetime(df['Account_Created_Date'], format=\"%m/%d/%Y\")\n",
    "    df['Opportunity_Created_Date'] = pd.to_datetime(df['Opportunity_Created_Date'], format=\"%m/%d/%Y\")\n",
    "    \n",
    "    df['Quote_Type'] = df['Quote_Type'].apply(lambda x: 1 if x == 'Binding' else 0)\n",
    "    \n",
    "    #------------------------------------------\n",
    "    df = df.sort_values(by=\"Opportunity_Created_Date\")\n",
    "    \n",
    "    df = df.drop(columns = 'Opportunity_Created_Date')\n",
    "    df = df.drop(columns = 'Account_Created_Date')\n",
    "    #------------------------------------------\n",
    "    \n",
    "    categoric_cols = df.columns[df.dtypes==object].tolist() \n",
    "    numeric_cols = df.columns[df.dtypes=='float64'].tolist() \n",
    "    numeric_cols_2 = df.columns[df.dtypes=='int64'].tolist() \n",
    "    date_cols = df.columns[df.dtypes=='datetime64[ns]'].tolist() \n",
    "\n",
    "    if 'Stage' in df.columns:\n",
    "        onehotencoder = OneHotEncoder(handle_unknown = 'ignore')\n",
    "        onehotencoder.fit(df[categoric_cols])\n",
    "    \n",
    "    cat_rel = 0\n",
    "    all_col_names = []\n",
    "    for cat in onehotencoder.categories_:\n",
    "        for col in cat:\n",
    "            all_col_names.append(categoric_cols[cat_rel] + '_' + col)\n",
    "        cat_rel = cat_rel + 1\n",
    "    \n",
    "    categorical = pd.DataFrame(onehotencoder.transform(df[categoric_cols]).toarray(), columns=all_col_names)\n",
    "    \n",
    "    categorical = categorical.reset_index()\n",
    "    df = df.reset_index()\n",
    "    \n",
    "    frames_to_concat = [categorical, df[numeric_cols], df[numeric_cols_2]]\n",
    "    df_r =  pd.concat(frames_to_concat, axis=1)\n",
    "       \n",
    "    df_r = df_r.drop(columns = 'index')\n",
    "    \n",
    "    return df_r, onehotencoder"
   ]
  },
  {
   "cell_type": "code",
   "execution_count": 3,
   "metadata": {},
   "outputs": [],
   "source": [
    "test = pd.read_csv('/home/leandro/Documentos/Organizacion de datos/Fiuba-Big-Data-Analytics-TPs/Tp 2/Datos/Test_TP2_Datos_2020-2C.csv')\n",
    "\n",
    "train = pd.read_csv('/home/leandro/Documentos/Organizacion de datos/Fiuba-Big-Data-Analytics-TPs/Tp 2/Datos/Train_TP2_Datos_2020-2C.csv')"
   ]
  },
  {
   "cell_type": "code",
   "execution_count": 4,
   "metadata": {},
   "outputs": [
    {
     "name": "stdout",
     "output_type": "stream",
     "text": [
      "(16947, 52)\n",
      "(2551, 51)\n"
     ]
    }
   ],
   "source": [
    "[trainOneHot, onehotencoder] = normaliza_df(train)\n",
    "[testOneHot,_ ] = normaliza_df(test,onehotencoder)"
   ]
  },
  {
   "cell_type": "code",
   "execution_count": 5,
   "metadata": {},
   "outputs": [],
   "source": [
    "from sklearn.model_selection import train_test_split\n",
    "\n",
    "X_train, X_test, y_train, y_test = \\\n",
    "    train_test_split(trainOneHot.drop(columns = 'Stage'), trainOneHot['Stage'], test_size=0.2, random_state=123)\n"
   ]
  },
  {
   "cell_type": "code",
   "execution_count": null,
   "metadata": {},
   "outputs": [],
   "source": [
    "xg_reg = xgb.XGBRegressor(\n",
    "                colsample_bytree = 0.3, learning_rate = 0.1,\n",
    "                max_depth = 50, alpha = 25, n_estimators = 100)\n",
    "\n",
    "\n",
    "xg_reg.fit(X_train,y_train)\n",
    "\n",
    "\n",
    "\n",
    "preds = xg_reg.predict(X_test)\n",
    "rmse = np.sqrt(mean_squared_error(y_test, preds))\n",
    "print(\"RMSE: %f\" % (rmse))\n",
    "\n",
    "xg_reg.score(X_test,y_test)"
   ]
  },
  {
   "cell_type": "code",
   "execution_count": null,
   "metadata": {},
   "outputs": [],
   "source": [
    "xg_reg = xgb.XGBRegressor(max_depth = 5,min_child_weight = 1,gamma = 0,subsample = 0.8\n",
    "                          , colsample_bytree = 0.8,scale_pos_weight = 1 )\n",
    "\n",
    "\n",
    "xg_reg.fit(X_train,y_train)\n",
    "\n",
    "\n",
    "\n",
    "preds = xg_reg.predict(X_test)\n",
    "rmse = np.sqrt(mean_squared_error(y_test, preds))\n",
    "print(\"RMSE: %f\" % (rmse))\n",
    "xg_reg.score(X_test,y_test)"
   ]
  },
  {
   "cell_type": "code",
   "execution_count": 8,
   "metadata": {},
   "outputs": [],
   "source": [
    "def modelfit(alg, dtrain, predictors,useTrainCV=True, cv_folds=5, early_stopping_rounds=50):\n",
    "    \n",
    "    if useTrainCV:\n",
    "        xgb_param = alg.get_xgb_params()\n",
    "        xgtrain = xgb.DMatrix(dtrain[predictors].values, label=dtrain[\"Stage\"].values)\n",
    "        cvresult = xgb.cv(xgb_param, xgtrain, num_boost_round=alg.get_params()['n_estimators'], nfold=cv_folds,\n",
    "            metrics='auc', early_stopping_rounds=early_stopping_rounds)#, show_progress=False)\n",
    "        alg.set_params(n_estimators=cvresult.shape[0])\n",
    "    \n",
    "    #Fit the algorithm on the data\n",
    "    alg.fit(dtrain[predictors], dtrain['Stage'],eval_metric='auc')\n",
    "        \n",
    "    #Predict training set:\n",
    "    dtrain_predictions = alg.predict(dtrain[predictors])\n",
    "    dtrain_predprob = alg.predict_proba(dtrain[predictors])[:,1]\n",
    "        \n",
    "    #Print model report:\n",
    "    print(\"\\nModel Report\")\n",
    "    print( \"Accuracy : %.4g\" % metrics.accuracy_score(dtrain['Stage'].values, dtrain_predictions))\n",
    "    print( \"AUC Score (Train): %f\" % metrics.roc_auc_score(dtrain['Stage'], dtrain_predprob))\n",
    "                    \n",
    "    feat_imp = pd.Series(alg.get_booster().get_score(importance_type='weight')).sort_values(ascending=False)\n",
    "    feat_imp.head(10).plot(kind='bar', title='Feature Importances')\n",
    "    plt.ylabel('Feature Importance Score')"
   ]
  },
  {
   "cell_type": "code",
   "execution_count": 9,
   "metadata": {},
   "outputs": [],
   "source": [
    "predictors = [x for x in trainOneHot.columns if x not in [\"Stage\"]]\n",
    "xgb1 = XGBClassifier(\n",
    " learning_rate =0.1,\n",
    " n_estimators=1000,\n",
    " max_depth=5,\n",
    " min_child_weight=1,\n",
    " gamma=0,\n",
    " subsample=0.8,\n",
    " colsample_bytree=0.8,\n",
    " objective= 'binary:logistic',\n",
    " nthread=4,\n",
    " scale_pos_weight=1,\n",
    " seed=27)"
   ]
  },
  {
   "cell_type": "code",
   "execution_count": 10,
   "metadata": {},
   "outputs": [
    {
     "name": "stdout",
     "output_type": "stream",
     "text": [
      "\n",
      "Model Report\n",
      "Accuracy : 0.9855\n",
      "AUC Score (Train): 0.998969\n"
     ]
    },
    {
     "data": {
      "image/png": "[encoded data removed]",
      "text/plain": [
       "<Figure size 432x288 with 1 Axes>"
      ]
     },
     "metadata": {
      "needs_background": "light"
     },
     "output_type": "display_data"
    }
   ],
   "source": [
    "modelfit(xgb1, trainOneHot, predictors)"
   ]
  },
  {
   "cell_type": "markdown",
   "metadata": {},
   "source": [
    "# Tune max_depth and min_child_weight"
   ]
  },
  {
   "cell_type": "code",
   "execution_count": 11,
   "metadata": {},
   "outputs": [
    {
     "name": "stderr",
     "output_type": "stream",
     "text": [
      "/home/leandro/anaconda3/lib/python3.8/site-packages/sklearn/model_selection/_search.py:847: FutureWarning: The parameter 'iid' is deprecated in 0.22 and will be removed in 0.24.\n",
      "  warnings.warn(\n"
     ]
    },
    {
     "ename": "AttributeError",
     "evalue": "'GridSearchCV' object has no attribute 'grid_scores_'",
     "output_type": "error",
     "traceback": [
      "\u001b[0;31m---------------------------------------------------------------------------\u001b[0m",
      "\u001b[0;31mAttributeError\u001b[0m                            Traceback (most recent call last)",
      "\u001b[0;32m<ipython-input-11-da67b7cd9873>\u001b[0m in \u001b[0;36m<module>\u001b[0;34m\u001b[0m\n\u001b[1;32m      8\u001b[0m  param_grid = param_test1, scoring='roc_auc',n_jobs=4,iid=False, cv=5)\n\u001b[1;32m      9\u001b[0m \u001b[0mgsearch1\u001b[0m\u001b[0;34m.\u001b[0m\u001b[0mfit\u001b[0m\u001b[0;34m(\u001b[0m\u001b[0mtrainOneHot\u001b[0m\u001b[0;34m[\u001b[0m\u001b[0mpredictors\u001b[0m\u001b[0;34m]\u001b[0m\u001b[0;34m,\u001b[0m\u001b[0mtrainOneHot\u001b[0m\u001b[0;34m[\u001b[0m\u001b[0;34m\"Stage\"\u001b[0m\u001b[0;34m]\u001b[0m\u001b[0;34m)\u001b[0m\u001b[0;34m\u001b[0m\u001b[0;34m\u001b[0m\u001b[0m\n\u001b[0;32m---> 10\u001b[0;31m \u001b[0mgsearch1\u001b[0m\u001b[0;34m.\u001b[0m\u001b[0mgrid_scores_\u001b[0m\u001b[0;34m,\u001b[0m \u001b[0mgsearch1\u001b[0m\u001b[0;34m.\u001b[0m\u001b[0mbest_params_\u001b[0m\u001b[0;34m,\u001b[0m \u001b[0mgsearch1\u001b[0m\u001b[0;34m.\u001b[0m\u001b[0mbest_score_\u001b[0m\u001b[0;34m\u001b[0m\u001b[0;34m\u001b[0m\u001b[0m\n\u001b[0m",
      "\u001b[0;31mAttributeError\u001b[0m: 'GridSearchCV' object has no attribute 'grid_scores_'"
     ]
    }
   ],
   "source": [
    "param_test1 = {\n",
    " 'max_depth':range(3,10,2),\n",
    " 'min_child_weight':range(1,6,2)\n",
    "}\n",
    "gsearch1 = GridSearchCV(estimator = XGBClassifier( learning_rate =0.1, n_estimators=140, max_depth=5,\n",
    " min_child_weight=1, gamma=0, subsample=0.8, colsample_bytree=0.8,\n",
    " objective= 'binary:logistic', nthread=4, scale_pos_weight=1, seed=27), \n",
    " param_grid = param_test1, scoring='roc_auc',n_jobs=4,iid=False, cv=5)\n",
    "gsearch1.fit(trainOneHot[predictors],trainOneHot[\"Stage\"])\n",
    "\n",
    "gsearch1.cv_results_, gsearch1.best_params_, gsearch1.best_score_"
   ]
  },
  {
   "cell_type": "code",
   "execution_count": 13,
   "metadata": {},
   "outputs": [
    {
     "data": {
      "text/plain": [
       "({'mean_fit_time': array([ 61.01616249,  62.03416166,  61.73850632,  95.30421834,\n",
       "          95.09405322,  95.69119635, 129.81066542, 130.93719077,\n",
       "         130.88903308, 166.37948203, 166.95444498, 151.51132784]),\n",
       "  'std_fit_time': array([ 0.28779644,  0.52241626,  0.60717928,  0.83731072,  0.65041585,\n",
       "          0.51168333,  1.06840992,  0.93270113,  0.97634587,  0.91573166,\n",
       "          0.67611523, 17.91839146]),\n",
       "  'mean_score_time': array([0.53149018, 0.43694448, 0.51206617, 0.60708694, 0.59519439,\n",
       "         0.56202936, 0.64463558, 0.60324669, 0.63892274, 0.58289394,\n",
       "         0.68786716, 0.52933016]),\n",
       "  'std_score_time': array([0.11676947, 0.08899433, 0.13152541, 0.06960849, 0.09285908,\n",
       "         0.09731032, 0.13815472, 0.07509786, 0.11339865, 0.11986144,\n",
       "         0.08313589, 0.22372396]),\n",
       "  'param_max_depth': masked_array(data=[3, 3, 3, 5, 5, 5, 7, 7, 7, 9, 9, 9],\n",
       "               mask=[False, False, False, False, False, False, False, False,\n",
       "                     False, False, False, False],\n",
       "         fill_value='?',\n",
       "              dtype=object),\n",
       "  'param_min_child_weight': masked_array(data=[1, 3, 5, 1, 3, 5, 1, 3, 5, 1, 3, 5],\n",
       "               mask=[False, False, False, False, False, False, False, False,\n",
       "                     False, False, False, False],\n",
       "         fill_value='?',\n",
       "              dtype=object),\n",
       "  'params': [{'max_depth': 3, 'min_child_weight': 1},\n",
       "   {'max_depth': 3, 'min_child_weight': 3},\n",
       "   {'max_depth': 3, 'min_child_weight': 5},\n",
       "   {'max_depth': 5, 'min_child_weight': 1},\n",
       "   {'max_depth': 5, 'min_child_weight': 3},\n",
       "   {'max_depth': 5, 'min_child_weight': 5},\n",
       "   {'max_depth': 7, 'min_child_weight': 1},\n",
       "   {'max_depth': 7, 'min_child_weight': 3},\n",
       "   {'max_depth': 7, 'min_child_weight': 5},\n",
       "   {'max_depth': 9, 'min_child_weight': 1},\n",
       "   {'max_depth': 9, 'min_child_weight': 3},\n",
       "   {'max_depth': 9, 'min_child_weight': 5}],\n",
       "  'split0_test_score': array([0.67442059, 0.64373005, 0.67013509, 0.51144512, 0.42452333,\n",
       "         0.43389125, 0.45661098, 0.45566317, 0.46177242, 0.50780708,\n",
       "         0.45781903, 0.45514182]),\n",
       "  'split1_test_score': array([0.37123041, 0.43077295, 0.3823552 , 0.30539045, 0.32523927,\n",
       "         0.29321101, 0.29694805, 0.27631836, 0.28556821, 0.27943006,\n",
       "         0.27920069, 0.28099251]),\n",
       "  'split2_test_score': array([0.6878862 , 0.68142147, 0.66493121, 0.52300547, 0.51041954,\n",
       "         0.50157511, 0.5013832 , 0.50133629, 0.48424102, 0.50692436,\n",
       "         0.48794113, 0.47563577]),\n",
       "  'split3_test_score': array([0.77809638, 0.73995439, 0.79476804, 0.75490056, 0.78149417,\n",
       "         0.75203386, 0.78517374, 0.74210656, 0.74999054, 0.7637209 ,\n",
       "         0.75460504, 0.74940717]),\n",
       "  'split4_test_score': array([0.92304502, 0.92396621, 0.92314353, 0.92301183, 0.92025148,\n",
       "         0.91257593, 0.9233616 , 0.91984317, 0.91681514, 0.91636383,\n",
       "         0.91999986, 0.92195948]),\n",
       "  'mean_test_score': array([0.68693572, 0.68396901, 0.68706661, 0.60355069, 0.59238556,\n",
       "         0.57865743, 0.59269551, 0.57905351, 0.57967747, 0.59484925,\n",
       "         0.57991315, 0.57662735]),\n",
       "  'std_test_score': array([0.18104433, 0.15903894, 0.17941996, 0.21393116, 0.22339267,\n",
       "         0.22357976, 0.22834686, 0.22611396, 0.22457886, 0.22211963,\n",
       "         0.22802194, 0.22867669]),\n",
       "  'rank_test_score': array([ 2,  3,  1,  4,  7, 11,  6, 10,  9,  5,  8, 12], dtype=int32)},\n",
       " {'max_depth': 3, 'min_child_weight': 5},\n",
       " 0.6870666131588592)"
      ]
     },
     "execution_count": 13,
     "metadata": {},
     "output_type": "execute_result"
    }
   ],
   "source": [
    "\n",
    "gsearch1.cv_results_, gsearch1.best_params_, gsearch1.best_score_"
   ]
  },
  {
   "cell_type": "code",
   "execution_count": 14,
   "metadata": {},
   "outputs": [
    {
     "name": "stderr",
     "output_type": "stream",
     "text": [
      "/home/leandro/anaconda3/lib/python3.8/site-packages/sklearn/model_selection/_search.py:847: FutureWarning: The parameter 'iid' is deprecated in 0.22 and will be removed in 0.24.\n",
      "  warnings.warn(\n"
     ]
    },
    {
     "data": {
      "text/plain": [
       "({'mean_fit_time': array([ 82.93035812,  83.55887079,  79.85332689,  95.5109271 ,\n",
       "          94.82222686,  94.75396934, 112.49310637, 112.95645261,\n",
       "          96.13107762]),\n",
       "  'std_fit_time': array([ 0.79945037,  1.1526131 ,  2.29533143,  0.99077242,  0.27380576,\n",
       "          0.73125553,  1.08704948,  0.94498888, 25.01897802]),\n",
       "  'mean_score_time': array([0.5275929 , 0.54077358, 0.44695721, 0.55973396, 0.59043646,\n",
       "         0.54923511, 0.56172018, 0.62574615, 0.44597783]),\n",
       "  'std_score_time': array([0.07251595, 0.10473783, 0.05708084, 0.10305109, 0.07479511,\n",
       "         0.10928174, 0.10664203, 0.08773789, 0.21879852]),\n",
       "  'param_max_depth': masked_array(data=[4, 4, 4, 5, 5, 5, 6, 6, 6],\n",
       "               mask=[False, False, False, False, False, False, False, False,\n",
       "                     False],\n",
       "         fill_value='?',\n",
       "              dtype=object),\n",
       "  'param_min_child_weight': masked_array(data=[4, 5, 6, 4, 5, 6, 4, 5, 6],\n",
       "               mask=[False, False, False, False, False, False, False, False,\n",
       "                     False],\n",
       "         fill_value='?',\n",
       "              dtype=object),\n",
       "  'params': [{'max_depth': 4, 'min_child_weight': 4},\n",
       "   {'max_depth': 4, 'min_child_weight': 5},\n",
       "   {'max_depth': 4, 'min_child_weight': 6},\n",
       "   {'max_depth': 5, 'min_child_weight': 4},\n",
       "   {'max_depth': 5, 'min_child_weight': 5},\n",
       "   {'max_depth': 5, 'min_child_weight': 6},\n",
       "   {'max_depth': 6, 'min_child_weight': 4},\n",
       "   {'max_depth': 6, 'min_child_weight': 5},\n",
       "   {'max_depth': 6, 'min_child_weight': 6}],\n",
       "  'split0_test_score': array([0.54962009, 0.51314402, 0.50735047, 0.43937177, 0.43389125,\n",
       "         0.45330647, 0.40068188, 0.43677554, 0.41498703]),\n",
       "  'split1_test_score': array([0.37944273, 0.36369427, 0.35537315, 0.2874699 , 0.29321101,\n",
       "         0.30926501, 0.29557645, 0.29720275, 0.28643219]),\n",
       "  'split2_test_score': array([0.54964149, 0.56325657, 0.54235042, 0.49071198, 0.50157511,\n",
       "         0.48026926, 0.51637094, 0.4659163 , 0.4741732 ]),\n",
       "  'split3_test_score': array([0.76982658, 0.77717912, 0.76321802, 0.78724026, 0.75203386,\n",
       "         0.76312861, 0.75953737, 0.75790986, 0.76216281]),\n",
       "  'split4_test_score': array([0.92088767, 0.91843159, 0.9189707 , 0.91933779, 0.91257593,\n",
       "         0.91446667, 0.91950232, 0.92037372, 0.91835842]),\n",
       "  'mean_test_score': array([0.63388371, 0.62714111, 0.61745255, 0.58482634, 0.57865743,\n",
       "         0.5840872 , 0.57833379, 0.57563563, 0.57122273]),\n",
       "  'std_test_score': array([0.18962545, 0.19689711, 0.19930338, 0.23293978, 0.22357976,\n",
       "         0.22118563, 0.23003566, 0.22843536, 0.23319312]),\n",
       "  'rank_test_score': array([1, 2, 3, 4, 6, 5, 7, 8, 9], dtype=int32)},\n",
       " {'max_depth': 4, 'min_child_weight': 4},\n",
       " 0.6338837116350813)"
      ]
     },
     "execution_count": 14,
     "metadata": {},
     "output_type": "execute_result"
    }
   ],
   "source": [
    "param_test2 = {\n",
    " 'max_depth':[4,5,6],\n",
    " 'min_child_weight':[4,5,6]\n",
    "}\n",
    "gsearch2 = GridSearchCV(estimator = XGBClassifier( learning_rate=0.1, n_estimators=140, max_depth=5,\n",
    " min_child_weight=2, gamma=0, subsample=0.8, colsample_bytree=0.8,\n",
    " objective= 'binary:logistic', nthread=4, scale_pos_weight=1,seed=27), \n",
    " param_grid = param_test2, scoring='roc_auc',n_jobs=4,iid=False, cv=5)\n",
    "gsearch2.fit(trainOneHot[predictors],trainOneHot[\"Stage\"])\n",
    "gsearch2.cv_results_, gsearch2.best_params_, gsearch2.best_score_"
   ]
  },
  {
   "cell_type": "code",
   "execution_count": 15,
   "metadata": {},
   "outputs": [
    {
     "name": "stderr",
     "output_type": "stream",
     "text": [
      "/home/leandro/anaconda3/lib/python3.8/site-packages/sklearn/model_selection/_search.py:847: FutureWarning: The parameter 'iid' is deprecated in 0.22 and will be removed in 0.24.\n",
      "  warnings.warn(\n"
     ]
    },
    {
     "data": {
      "text/plain": [
       "GridSearchCV(cv=5,\n",
       "             estimator=XGBClassifier(base_score=None, booster=None,\n",
       "                                     colsample_bylevel=None,\n",
       "                                     colsample_bynode=None,\n",
       "                                     colsample_bytree=0.8, gamma=0, gpu_id=None,\n",
       "                                     importance_type='gain',\n",
       "                                     interaction_constraints=None,\n",
       "                                     learning_rate=0.1, max_delta_step=None,\n",
       "                                     max_depth=4, min_child_weight=2,\n",
       "                                     missing=nan, monotone_constraints=None,\n",
       "                                     n_estimators=140, n_jobs=None, nthread=4,\n",
       "                                     num_parallel_tree=None, random_state=None,\n",
       "                                     reg_alpha=None, reg_lambda=None,\n",
       "                                     scale_pos_weight=1, seed=27, subsample=0.8,\n",
       "                                     tree_method=None, validate_parameters=None,\n",
       "                                     verbosity=None),\n",
       "             iid=False, n_jobs=4,\n",
       "             param_grid={'min_child_weight': [6, 8, 10, 12]},\n",
       "             scoring='roc_auc')"
      ]
     },
     "execution_count": 15,
     "metadata": {},
     "output_type": "execute_result"
    }
   ],
   "source": [
    "param_test2b = {\n",
    " 'min_child_weight':[6,8,10,12]\n",
    "}\n",
    "gsearch2b = GridSearchCV(estimator = XGBClassifier( learning_rate=0.1, n_estimators=140, max_depth=4,\n",
    " min_child_weight=2, gamma=0, subsample=0.8, colsample_bytree=0.8,\n",
    " objective= 'binary:logistic', nthread=4, scale_pos_weight=1,seed=27), \n",
    " param_grid = param_test2b, scoring='roc_auc',n_jobs=4,iid=False, cv=5)\n",
    "gsearch2b.fit(trainOneHot[predictors],trainOneHot[\"Stage\"])"
   ]
  },
  {
   "cell_type": "code",
   "execution_count": 16,
   "metadata": {},
   "outputs": [],
   "source": [
    "#modelfit(gsearch3.best_estimator_, trainOneHot, predictors)\n",
    "#gsearch2b.grid_scores_, gsearch2b.best_params_, gsearch2b.best_score_"
   ]
  },
  {
   "cell_type": "code",
   "execution_count": 17,
   "metadata": {},
   "outputs": [
    {
     "name": "stdout",
     "output_type": "stream",
     "text": [
      "\n",
      "Model Report\n",
      "Accuracy : 0.8837\n",
      "AUC Score (Train): 0.955718\n"
     ]
    },
    {
     "data": {
      "text/plain": [
       "({'mean_fit_time': array([78.39437528, 78.08182154, 78.17174644, 77.59521117]),\n",
       "  'std_fit_time': array([0.96873977, 0.56970917, 0.22475522, 0.61809204]),\n",
       "  'mean_score_time': array([0.53881826, 0.47756872, 0.41007233, 0.40950842]),\n",
       "  'std_score_time': array([0.17470324, 0.0473316 , 0.07086782, 0.11656306]),\n",
       "  'param_min_child_weight': masked_array(data=[6, 8, 10, 12],\n",
       "               mask=[False, False, False, False],\n",
       "         fill_value='?',\n",
       "              dtype=object),\n",
       "  'params': [{'min_child_weight': 6},\n",
       "   {'min_child_weight': 8},\n",
       "   {'min_child_weight': 10},\n",
       "   {'min_child_weight': 12}],\n",
       "  'split0_test_score': array([0.50735047, 0.51013345, 0.49322635, 0.57373711]),\n",
       "  'split1_test_score': array([0.35537315, 0.34842382, 0.33084679, 0.31914625]),\n",
       "  'split2_test_score': array([0.54235042, 0.56313546, 0.55545573, 0.54190005]),\n",
       "  'split3_test_score': array([0.76321802, 0.76209874, 0.77119408, 0.76781235]),\n",
       "  'split4_test_score': array([0.9189707 , 0.92295026, 0.92365373, 0.91679034]),\n",
       "  'mean_test_score': array([0.61745255, 0.62134835, 0.61487534, 0.62387722]),\n",
       "  'std_test_score': array([0.19930338, 0.20050919, 0.20917984, 0.20425996]),\n",
       "  'rank_test_score': array([3, 2, 4, 1], dtype=int32)},\n",
       " {'min_child_weight': 12},\n",
       " 0.6238772204052834)"
      ]
     },
     "execution_count": 17,
     "metadata": {},
     "output_type": "execute_result"
    },
    {
     "data": {
      "image/png": "[encoded data removed]",
      "text/plain": [
       "<Figure size 432x288 with 1 Axes>"
      ]
     },
     "metadata": {
      "needs_background": "light"
     },
     "output_type": "display_data"
    }
   ],
   "source": [
    "modelfit(gsearch2b.best_estimator_, trainOneHot, predictors)\n",
    "gsearch2b.cv_results_, gsearch2b.best_params_, gsearch2b.best_score_"
   ]
  },
  {
   "cell_type": "code",
   "execution_count": null,
   "metadata": {},
   "outputs": [],
   "source": []
  },
  {
   "cell_type": "code",
   "execution_count": 30,
   "metadata": {
    "scrolled": false
   },
   "outputs": [
    {
     "name": "stderr",
     "output_type": "stream",
     "text": [
      "/home/leandro/anaconda3/lib/python3.8/site-packages/sklearn/model_selection/_search.py:847: FutureWarning: The parameter 'iid' is deprecated in 0.22 and will be removed in 0.24.\n",
      "  warnings.warn(\n"
     ]
    },
    {
     "data": {
      "text/plain": [
       "({'mean_fit_time': array([242.99461837, 471.25145345, 555.83429255, 599.61673141,\n",
       "         553.49291501]),\n",
       "  'std_fit_time': array([ 5.61761972,  9.24890979, 19.13707336, 23.57333309, 74.39662519]),\n",
       "  'mean_score_time': array([0.77977476, 1.32571144, 0.88542213, 1.34325747, 0.75541248]),\n",
       "  'std_score_time': array([0.18755004, 0.23169766, 0.25298499, 0.3374963 , 0.38993839]),\n",
       "  'param_max_depth': masked_array(data=[10, 20, 30, 40, 50],\n",
       "               mask=[False, False, False, False, False],\n",
       "         fill_value='?',\n",
       "              dtype=object),\n",
       "  'params': [{'max_depth': 10},\n",
       "   {'max_depth': 20},\n",
       "   {'max_depth': 30},\n",
       "   {'max_depth': 40},\n",
       "   {'max_depth': 50}],\n",
       "  'split0_test_score': array([0.47843445, 0.49887917, 0.49062619, 0.47944076, 0.47702218]),\n",
       "  'split1_test_score': array([0.28501065, 0.29251219, 0.29125884, 0.29259085, 0.29024414]),\n",
       "  'split2_test_score': array([0.52171948, 0.51122039, 0.51297315, 0.51241613, 0.51470451]),\n",
       "  'split3_test_score': array([0.75226513, 0.75633213, 0.76512071, 0.76107905, 0.76997452]),\n",
       "  'split4_test_score': array([0.91660456, 0.91420987, 0.91440046, 0.91226364, 0.91465762]),\n",
       "  'mean_test_score': array([0.59080685, 0.59463075, 0.59487587, 0.59155808, 0.59332059]),\n",
       "  'std_test_score': array([0.22051071, 0.217108  , 0.21947146, 0.2189998 , 0.22182211]),\n",
       "  'rank_test_score': array([5, 2, 1, 4, 3], dtype=int32)},\n",
       " {'max_depth': 30},\n",
       " 0.5948758705747549)"
      ]
     },
     "execution_count": 30,
     "metadata": {},
     "output_type": "execute_result"
    }
   ],
   "source": [
    "param_test1b = {\n",
    " 'max_depth':range(10,60,10)},\n",
    " #'min_child_weight':range(1,6,2)}\n",
    "gsearch1b = GridSearchCV(estimator = XGBClassifier( learning_rate =0.1, n_estimators=140, max_depth=5,\n",
    " min_child_weight=1, gamma=0, subsample=0.8, colsample_bytree=0.8,\n",
    " objective= 'binary:logistic', nthread=4, scale_pos_weight=1, seed=27), \n",
    " param_grid = param_test1b, scoring='roc_auc',n_jobs=4,iid=False, cv=5)\n",
    "gsearch1b.fit(trainOneHot[predictors],trainOneHot[\"Stage\"])\n",
    "\n",
    "gsearch1b.cv_results_, gsearch1b.best_params_, gsearch1b.best_score_"
   ]
  },
  {
   "cell_type": "code",
   "execution_count": null,
   "metadata": {},
   "outputs": [],
   "source": [
    "#Con max_depth 3 saco mejor score"
   ]
  },
  {
   "cell_type": "markdown",
   "metadata": {},
   "source": [
    "# Tune gamma"
   ]
  },
  {
   "cell_type": "code",
   "execution_count": 18,
   "metadata": {},
   "outputs": [
    {
     "name": "stderr",
     "output_type": "stream",
     "text": [
      "/home/leandro/anaconda3/lib/python3.8/site-packages/sklearn/model_selection/_search.py:847: FutureWarning: The parameter 'iid' is deprecated in 0.22 and will be removed in 0.24.\n",
      "  warnings.warn(\n"
     ]
    },
    {
     "data": {
      "text/plain": [
       "({'mean_fit_time': array([78.58070192, 77.97474976, 78.50783935, 78.51384668, 67.56039505]),\n",
       "  'std_fit_time': array([ 0.37422746,  0.38121044,  0.48132609,  0.47528104, 20.30124489]),\n",
       "  'mean_score_time': array([0.53466086, 0.49570746, 0.50268154, 0.47620692, 0.38758183]),\n",
       "  'std_score_time': array([0.09441813, 0.07801381, 0.16460609, 0.07994853, 0.09391039]),\n",
       "  'param_gamma': masked_array(data=[0.0, 0.1, 0.2, 0.3, 0.4],\n",
       "               mask=[False, False, False, False, False],\n",
       "         fill_value='?',\n",
       "              dtype=object),\n",
       "  'params': [{'gamma': 0.0},\n",
       "   {'gamma': 0.1},\n",
       "   {'gamma': 0.2},\n",
       "   {'gamma': 0.3},\n",
       "   {'gamma': 0.4}],\n",
       "  'split0_test_score': array([0.50735047, 0.48439334, 0.52005536, 0.51939435, 0.47116388]),\n",
       "  'split1_test_score': array([0.35537315, 0.34859255, 0.34869332, 0.3553876 , 0.35568297]),\n",
       "  'split2_test_score': array([0.54235042, 0.54231885, 0.54212301, 0.55423502, 0.57252585]),\n",
       "  'split3_test_score': array([0.76321802, 0.76920252, 0.75912746, 0.76791907, 0.75683966]),\n",
       "  'split4_test_score': array([0.9189707 , 0.92474499, 0.91892038, 0.9203673 , 0.92016529]),\n",
       "  'mean_test_score': array([0.61745255, 0.61385045, 0.61778391, 0.62346067, 0.61527553]),\n",
       "  'std_test_score': array([0.19930338, 0.20641092, 0.19917146, 0.19824577, 0.20148557]),\n",
       "  'rank_test_score': array([3, 5, 2, 1, 4], dtype=int32)},\n",
       " {'gamma': 0.3},\n",
       " 0.623460668068939)"
      ]
     },
     "execution_count": 18,
     "metadata": {},
     "output_type": "execute_result"
    }
   ],
   "source": [
    "param_test3 = {\n",
    " 'gamma':[i/10.0 for i in range(0,5)]\n",
    "}\n",
    "gsearch3 = GridSearchCV(estimator = XGBClassifier( learning_rate =0.1, n_estimators=140, max_depth=4,\n",
    " min_child_weight=6, gamma=0, subsample=0.8, colsample_bytree=0.8,\n",
    " objective= 'binary:logistic', nthread=4, scale_pos_weight=1,seed=27), \n",
    " param_grid = param_test3, scoring='roc_auc',n_jobs=4,iid=False, cv=5)\n",
    "gsearch3.fit(trainOneHot[predictors],trainOneHot[\"Stage\"])\n",
    "gsearch3.cv_results_, gsearch3.best_params_, gsearch3.best_score_"
   ]
  },
  {
   "cell_type": "code",
   "execution_count": 31,
   "metadata": {
    "scrolled": true
   },
   "outputs": [
    {
     "name": "stdout",
     "output_type": "stream",
     "text": [
      "\n",
      "Model Report\n",
      "Accuracy : 0.9591\n",
      "AUC Score (Train): 0.993127\n"
     ]
    },
    {
     "data": {
      "image/png": "[encoded data removed]",
      "text/plain": [
       "<Figure size 432x288 with 1 Axes>"
      ]
     },
     "metadata": {
      "needs_background": "light"
     },
     "output_type": "display_data"
    }
   ],
   "source": [
    "xgb2 = XGBClassifier(\n",
    " learning_rate =0.1,\n",
    " n_estimators=1000,\n",
    " max_depth=4,\n",
    " min_child_weight=6,\n",
    " gamma=0,\n",
    " subsample=0.8,\n",
    " colsample_bytree=0.8,\n",
    " objective= 'binary:logistic',\n",
    " nthread=4,\n",
    " scale_pos_weight=1,\n",
    " seed=27)\n",
    "modelfit(xgb2, trainOneHot, predictors)"
   ]
  },
  {
   "cell_type": "code",
   "execution_count": null,
   "metadata": {},
   "outputs": [],
   "source": [
    "#ganma = 0.3"
   ]
  },
  {
   "cell_type": "markdown",
   "metadata": {},
   "source": [
    "# Tune subsample and colsample_bytree"
   ]
  },
  {
   "cell_type": "code",
   "execution_count": 20,
   "metadata": {},
   "outputs": [
    {
     "name": "stderr",
     "output_type": "stream",
     "text": [
      "/home/leandro/anaconda3/lib/python3.8/site-packages/sklearn/model_selection/_search.py:847: FutureWarning: The parameter 'iid' is deprecated in 0.22 and will be removed in 0.24.\n",
      "  warnings.warn(\n"
     ]
    },
    {
     "data": {
      "text/plain": [
       "({'mean_fit_time': array([ 86.75348182,  83.42237535,  78.72070041,  75.10979948,\n",
       "          96.68029261,  92.99086556,  88.35478268,  84.96365876,\n",
       "         107.87602639, 103.71084852,  98.70934105,  94.37020144,\n",
       "         118.65402975, 114.5952704 , 107.80931325, 103.15802517]),\n",
       "  'std_fit_time': array([1.20990431, 0.93942429, 1.89698552, 0.56006349, 1.49843173,\n",
       "         1.10493194, 0.84329283, 1.04267487, 1.1421291 , 0.35350141,\n",
       "         1.23292718, 0.42825043, 0.79717982, 0.65320714, 0.53266375,\n",
       "         0.58118395]),\n",
       "  'mean_score_time': array([0.49532394, 0.54505615, 0.56165977, 0.57016931, 0.55440302,\n",
       "         0.53535218, 0.5526823 , 0.52796082, 0.58243351, 0.65018635,\n",
       "         0.50567651, 0.48320017, 0.49585972, 0.53314157, 0.59164777,\n",
       "         0.43383303]),\n",
       "  'std_score_time': array([0.11703394, 0.10310169, 0.09384282, 0.04853249, 0.08405161,\n",
       "         0.10556908, 0.09161194, 0.1258818 , 0.07467773, 0.10401368,\n",
       "         0.08972052, 0.10132661, 0.14178033, 0.15010637, 0.06366848,\n",
       "         0.13833181]),\n",
       "  'param_colsample_bytree': masked_array(data=[0.6, 0.6, 0.6, 0.6, 0.7, 0.7, 0.7, 0.7, 0.8, 0.8, 0.8,\n",
       "                     0.8, 0.9, 0.9, 0.9, 0.9],\n",
       "               mask=[False, False, False, False, False, False, False, False,\n",
       "                     False, False, False, False, False, False, False, False],\n",
       "         fill_value='?',\n",
       "              dtype=object),\n",
       "  'param_subsample': masked_array(data=[0.6, 0.7, 0.8, 0.9, 0.6, 0.7, 0.8, 0.9, 0.6, 0.7, 0.8,\n",
       "                     0.9, 0.6, 0.7, 0.8, 0.9],\n",
       "               mask=[False, False, False, False, False, False, False, False,\n",
       "                     False, False, False, False, False, False, False, False],\n",
       "         fill_value='?',\n",
       "              dtype=object),\n",
       "  'params': [{'colsample_bytree': 0.6, 'subsample': 0.6},\n",
       "   {'colsample_bytree': 0.6, 'subsample': 0.7},\n",
       "   {'colsample_bytree': 0.6, 'subsample': 0.8},\n",
       "   {'colsample_bytree': 0.6, 'subsample': 0.9},\n",
       "   {'colsample_bytree': 0.7, 'subsample': 0.6},\n",
       "   {'colsample_bytree': 0.7, 'subsample': 0.7},\n",
       "   {'colsample_bytree': 0.7, 'subsample': 0.8},\n",
       "   {'colsample_bytree': 0.7, 'subsample': 0.9},\n",
       "   {'colsample_bytree': 0.8, 'subsample': 0.6},\n",
       "   {'colsample_bytree': 0.8, 'subsample': 0.7},\n",
       "   {'colsample_bytree': 0.8, 'subsample': 0.8},\n",
       "   {'colsample_bytree': 0.8, 'subsample': 0.9},\n",
       "   {'colsample_bytree': 0.9, 'subsample': 0.6},\n",
       "   {'colsample_bytree': 0.9, 'subsample': 0.7},\n",
       "   {'colsample_bytree': 0.9, 'subsample': 0.8},\n",
       "   {'colsample_bytree': 0.9, 'subsample': 0.9}],\n",
       "  'split0_test_score': array([0.52671629, 0.56527562, 0.52083177, 0.44637979, 0.49876074,\n",
       "         0.59162948, 0.55190794, 0.48887718, 0.54403968, 0.52508713,\n",
       "         0.46174263, 0.53568735, 0.53778614, 0.46097568, 0.50506655,\n",
       "         0.47526959]),\n",
       "  'split1_test_score': array([0.29708396, 0.28510233, 0.31630709, 0.332159  , 0.29353331,\n",
       "         0.28841558, 0.3042179 , 0.32527245, 0.28598343, 0.30013716,\n",
       "         0.32759062, 0.33756104, 0.33832693, 0.31489411, 0.31268973,\n",
       "         0.35222899]),\n",
       "  'split2_test_score': array([0.47488326, 0.48128092, 0.49487013, 0.50647882, 0.50214373,\n",
       "         0.5300183 , 0.48981893, 0.51009796, 0.50907095, 0.50307567,\n",
       "         0.52614696, 0.51357762, 0.49516711, 0.54180677, 0.50037848,\n",
       "         0.52188553]),\n",
       "  'split3_test_score': array([0.7514396 , 0.73275657, 0.74971929, 0.767199  , 0.73951164,\n",
       "         0.73431841, 0.73476651, 0.76464102, 0.71930317, 0.74410026,\n",
       "         0.75283298, 0.74090377, 0.76118808, 0.72617495, 0.735271  ,\n",
       "         0.76504129]),\n",
       "  'split4_test_score': array([0.9211384 , 0.92455529, 0.92357949, 0.91851404, 0.92282606,\n",
       "         0.92182956, 0.92254356, 0.92028467, 0.92399423, 0.92084324,\n",
       "         0.92028521, 0.91852706, 0.92528446, 0.92225446, 0.91780914,\n",
       "         0.92105631]),\n",
       "  'mean_test_score': array([0.5942523 , 0.59779415, 0.60106156, 0.59414613, 0.5913551 ,\n",
       "         0.61324226, 0.60065097, 0.60183465, 0.59647829, 0.59864869,\n",
       "         0.59771968, 0.60925137, 0.61155054, 0.59322119, 0.59424298,\n",
       "         0.60709634]),\n",
       "  'std_test_score': array([0.21848637, 0.21789753, 0.21209219, 0.21601831, 0.21774001,\n",
       "         0.21108826, 0.21172341, 0.21240433, 0.21407921, 0.21383177,\n",
       "         0.21198622, 0.20068113, 0.20710278, 0.21144166, 0.21005674,\n",
       "         0.20645291]),\n",
       "  'rank_test_score': array([12,  9,  6, 14, 16,  1,  7,  5, 11,  8, 10,  3,  2, 15, 13,  4],\n",
       "        dtype=int32)},\n",
       " {'colsample_bytree': 0.7, 'subsample': 0.7},\n",
       " 0.6132422644473541)"
      ]
     },
     "execution_count": 20,
     "metadata": {},
     "output_type": "execute_result"
    }
   ],
   "source": [
    "param_test4 = {\n",
    " 'subsample':[i/10.0 for i in range(6,10)],\n",
    " 'colsample_bytree':[i/10.0 for i in range(6,10)]\n",
    "}\n",
    "gsearch4 = GridSearchCV(estimator = XGBClassifier( learning_rate =0.1, n_estimators=177, max_depth=4,\n",
    " min_child_weight=6, gamma=0, subsample=0.8, colsample_bytree=0.8,\n",
    " objective= 'binary:logistic', nthread=4, scale_pos_weight=1,seed=27), \n",
    " param_grid = param_test4, scoring='roc_auc',n_jobs=4,iid=False, cv=5)\n",
    "gsearch4.fit(trainOneHot[predictors],trainOneHot[\"Stage\"])\n",
    "gsearch4.cv_results_, gsearch4.best_params_, gsearch4.best_score_"
   ]
  },
  {
   "cell_type": "code",
   "execution_count": 21,
   "metadata": {
    "scrolled": false
   },
   "outputs": [
    {
     "name": "stderr",
     "output_type": "stream",
     "text": [
      "/home/leandro/anaconda3/lib/python3.8/site-packages/sklearn/model_selection/_search.py:847: FutureWarning: The parameter 'iid' is deprecated in 0.22 and will be removed in 0.24.\n",
      "  warnings.warn(\n"
     ]
    },
    {
     "data": {
      "text/plain": [
       "GridSearchCV(cv=5,\n",
       "             estimator=XGBClassifier(base_score=None, booster=None,\n",
       "                                     colsample_bylevel=None,\n",
       "                                     colsample_bynode=None,\n",
       "                                     colsample_bytree=0.8, gamma=0, gpu_id=None,\n",
       "                                     importance_type='gain',\n",
       "                                     interaction_constraints=None,\n",
       "                                     learning_rate=0.1, max_delta_step=None,\n",
       "                                     max_depth=4, min_child_weight=6,\n",
       "                                     missing=nan, monotone_constraints=None,\n",
       "                                     n_estimators=177, n_jobs=None, nthread=4,\n",
       "                                     num_parallel_tree=None, random_state=None,\n",
       "                                     reg_alpha=None, reg_lambda=None,\n",
       "                                     scale_pos_weight=1, seed=27, subsample=0.8,\n",
       "                                     tree_method=None, validate_parameters=None,\n",
       "                                     verbosity=None),\n",
       "             iid=False, n_jobs=4,\n",
       "             param_grid={'colsample_bytree': [0.75, 0.8, 0.85],\n",
       "                         'subsample': [0.75, 0.8, 0.85]},\n",
       "             scoring='roc_auc')"
      ]
     },
     "execution_count": 21,
     "metadata": {},
     "output_type": "execute_result"
    }
   ],
   "source": [
    "param_test5 = {\n",
    " 'subsample':[i/100.0 for i in range(75,90,5)],\n",
    " 'colsample_bytree':[i/100.0 for i in range(75,90,5)]\n",
    "}\n",
    "gsearch5 = GridSearchCV(estimator = XGBClassifier( learning_rate =0.1, n_estimators=177, max_depth=4,\n",
    " min_child_weight=6, gamma=0, subsample=0.8, colsample_bytree=0.8,\n",
    " objective= 'binary:logistic', nthread=4, scale_pos_weight=1,seed=27), \n",
    " param_grid = param_test5, scoring='roc_auc',n_jobs=4,iid=False, cv=5)\n",
    "gsearch5.fit(trainOneHot[predictors],trainOneHot[\"Stage\"])"
   ]
  },
  {
   "cell_type": "code",
   "execution_count": null,
   "metadata": {},
   "outputs": [],
   "source": [
    "#{'colsample_bytree': 0.7, 'subsample': 0.7}, es la mejor score"
   ]
  },
  {
   "cell_type": "markdown",
   "metadata": {},
   "source": [
    "# Tuning Regularization Parameters"
   ]
  },
  {
   "cell_type": "code",
   "execution_count": 22,
   "metadata": {},
   "outputs": [
    {
     "name": "stderr",
     "output_type": "stream",
     "text": [
      "/home/leandro/anaconda3/lib/python3.8/site-packages/sklearn/model_selection/_search.py:847: FutureWarning: The parameter 'iid' is deprecated in 0.22 and will be removed in 0.24.\n",
      "  warnings.warn(\n"
     ]
    },
    {
     "data": {
      "text/plain": [
       "({'mean_fit_time': array([98.7369535 , 97.9632473 , 98.4220531 , 98.32800846, 58.84017138]),\n",
       "  'std_fit_time': array([ 0.53868568,  0.56926102,  0.44431853,  0.20561013, 18.2183851 ]),\n",
       "  'mean_score_time': array([0.52409577, 0.47407489, 0.42859335, 0.43409705, 0.44166622]),\n",
       "  'std_score_time': array([0.12296092, 0.0902389 , 0.082107  , 0.08786557, 0.15204712]),\n",
       "  'param_reg_alpha': masked_array(data=[1e-05, 0.01, 0.1, 1, 100],\n",
       "               mask=[False, False, False, False, False],\n",
       "         fill_value='?',\n",
       "              dtype=object),\n",
       "  'params': [{'reg_alpha': 1e-05},\n",
       "   {'reg_alpha': 0.01},\n",
       "   {'reg_alpha': 0.1},\n",
       "   {'reg_alpha': 1},\n",
       "   {'reg_alpha': 100}],\n",
       "  'split0_test_score': array([0.47083837, 0.51942521, 0.49219292, 0.48752163, 0.49486782]),\n",
       "  'split1_test_score': array([0.31351555, 0.31158656, 0.30682555, 0.30116345, 0.68843769]),\n",
       "  'split2_test_score': array([0.49656796, 0.49486478, 0.51757417, 0.48986405, 0.74100967]),\n",
       "  'split3_test_score': array([0.75423261, 0.74529931, 0.7652094 , 0.76161441, 0.81869107]),\n",
       "  'split4_test_score': array([0.9249602 , 0.91896267, 0.92448444, 0.92207922, 0.85542165]),\n",
       "  'mean_test_score': array([0.59202294, 0.59802771, 0.6012573 , 0.59244855, 0.71968558]),\n",
       "  'std_test_score': array([0.21841379, 0.21145101, 0.2176897 , 0.22075041, 0.12664955]),\n",
       "  'rank_test_score': array([5, 3, 2, 4, 1], dtype=int32)},\n",
       " {'reg_alpha': 100},\n",
       " 0.719685579850661)"
      ]
     },
     "execution_count": 22,
     "metadata": {},
     "output_type": "execute_result"
    }
   ],
   "source": [
    "param_test6 = {\n",
    " 'reg_alpha':[1e-5, 1e-2, 0.1, 1, 100]\n",
    "}\n",
    "gsearch6 = GridSearchCV(estimator = XGBClassifier( learning_rate =0.1, n_estimators=177, max_depth=4,\n",
    " min_child_weight=6, gamma=0.1, subsample=0.8, colsample_bytree=0.8,\n",
    " objective= 'binary:logistic', nthread=4, scale_pos_weight=1,seed=27), \n",
    " param_grid = param_test6, scoring='roc_auc',n_jobs=4,iid=False, cv=5)\n",
    "gsearch6.fit(trainOneHot[predictors],trainOneHot[\"Stage\"])\n",
    "gsearch6.cv_results_, gsearch6.best_params_, gsearch6.best_score_"
   ]
  },
  {
   "cell_type": "code",
   "execution_count": 29,
   "metadata": {},
   "outputs": [
    {
     "name": "stderr",
     "output_type": "stream",
     "text": [
      "/home/leandro/anaconda3/lib/python3.8/site-packages/sklearn/model_selection/_search.py:847: FutureWarning: The parameter 'iid' is deprecated in 0.22 and will be removed in 0.24.\n",
      "  warnings.warn(\n"
     ]
    },
    {
     "data": {
      "text/plain": [
       "({'mean_fit_time': array([ 89.97248616,  99.41490245, 106.5416923 ,  84.95680189,\n",
       "          66.40272722]),\n",
       "  'std_fit_time': array([ 3.22023721,  5.82062219,  6.39334509,  8.22601987, 22.15601155]),\n",
       "  'mean_score_time': array([0.87404852, 1.02235885, 0.98667693, 0.64468799, 0.46712222]),\n",
       "  'std_score_time': array([0.33818281, 0.31057104, 0.36888173, 0.17191986, 0.16513723]),\n",
       "  'param_reg_alpha': masked_array(data=[110, 120, 130, 140, 150],\n",
       "               mask=[False, False, False, False, False],\n",
       "         fill_value='?',\n",
       "              dtype=object),\n",
       "  'params': [{'reg_alpha': 110},\n",
       "   {'reg_alpha': 120},\n",
       "   {'reg_alpha': 130},\n",
       "   {'reg_alpha': 140},\n",
       "   {'reg_alpha': 150}],\n",
       "  'split0_test_score': array([0.4736226 , 0.48668154, 0.50895216, 0.5289879 , 0.54788053]),\n",
       "  'split1_test_score': array([0.71903353, 0.73172362, 0.7445951 , 0.75565371, 0.77302313]),\n",
       "  'split2_test_score': array([0.77777415, 0.78262613, 0.80002051, 0.80807605, 0.80537922]),\n",
       "  'split3_test_score': array([0.81311986, 0.81543693, 0.81326959, 0.81438422, 0.8115698 ]),\n",
       "  'split4_test_score': array([0.8477843 , 0.84047458, 0.83331049, 0.83261344, 0.82663287]),\n",
       "  'mean_test_score': array([0.72626689, 0.73138856, 0.74002957, 0.74794307, 0.75289711]),\n",
       "  'std_test_score': array([0.13329994, 0.12764859, 0.11923251, 0.11242801, 0.10399103]),\n",
       "  'rank_test_score': array([5, 4, 3, 2, 1], dtype=int32)},\n",
       " {'reg_alpha': 100},\n",
       " 0.719685579850661)"
      ]
     },
     "execution_count": 29,
     "metadata": {},
     "output_type": "execute_result"
    }
   ],
   "source": [
    "param_test6b = {\n",
    " 'reg_alpha':[110, 120, 130,140,150]\n",
    "}\n",
    "gsearch6b = GridSearchCV(estimator = XGBClassifier( learning_rate =0.1, n_estimators=177, max_depth=4,\n",
    " min_child_weight=6, gamma=0.1, subsample=0.8, colsample_bytree=0.8,\n",
    " objective= 'binary:logistic', nthread=4, scale_pos_weight=1,seed=27), \n",
    " param_grid = param_test6b, scoring='roc_auc',n_jobs=4,iid=False, cv=5)\n",
    "gsearch6b.fit(trainOneHot[predictors],trainOneHot[\"Stage\"])\n",
    "gsearch6b.cv_results_, gsearch6.best_params_, gsearch6.best_score_"
   ]
  },
  {
   "cell_type": "code",
   "execution_count": 25,
   "metadata": {},
   "outputs": [
    {
     "name": "stderr",
     "output_type": "stream",
     "text": [
      "/home/leandro/anaconda3/lib/python3.8/site-packages/sklearn/model_selection/_search.py:847: FutureWarning: The parameter 'iid' is deprecated in 0.22 and will be removed in 0.24.\n",
      "  warnings.warn(\n"
     ]
    },
    {
     "data": {
      "text/plain": [
       "({'mean_fit_time': array([104.75198464, 100.89393978,  98.02232018,  97.58725996,\n",
       "          84.79944077]),\n",
       "  'std_fit_time': array([ 1.46961787,  2.66427137,  0.12449177,  0.22030372, 25.9799726 ]),\n",
       "  'mean_score_time': array([0.52996426, 0.49929504, 0.56409249, 0.49583216, 0.50858665]),\n",
       "  'std_score_time': array([0.10387917, 0.07056488, 0.14254433, 0.08689554, 0.16212271]),\n",
       "  'param_reg_alpha': masked_array(data=[0, 0.001, 0.005, 0.01, 0.05],\n",
       "               mask=[False, False, False, False, False],\n",
       "         fill_value='?',\n",
       "              dtype=object),\n",
       "  'params': [{'reg_alpha': 0},\n",
       "   {'reg_alpha': 0.001},\n",
       "   {'reg_alpha': 0.005},\n",
       "   {'reg_alpha': 0.01},\n",
       "   {'reg_alpha': 0.05}],\n",
       "  'split0_test_score': array([0.47083837, 0.52115835, 0.49080687, 0.51942521, 0.4719353 ]),\n",
       "  'split1_test_score': array([0.31351555, 0.31351519, 0.31885713, 0.31158656, 0.29652391]),\n",
       "  'split2_test_score': array([0.49656796, 0.49657759, 0.49803392, 0.49486478, 0.48946238]),\n",
       "  'split3_test_score': array([0.75423261, 0.76224722, 0.74530073, 0.74529931, 0.76304902]),\n",
       "  'split4_test_score': array([0.92496038, 0.9251781 , 0.92462114, 0.91896267, 0.92272255]),\n",
       "  'mean_test_score': array([0.59202297, 0.60373529, 0.59552396, 0.59802771, 0.58873863]),\n",
       "  'std_test_score': array([0.21841384, 0.21493298, 0.21342565, 0.21145101, 0.22397214]),\n",
       "  'rank_test_score': array([4, 1, 3, 2, 5], dtype=int32)},\n",
       " {'reg_alpha': 0.001},\n",
       " 0.6037352906916594)"
      ]
     },
     "execution_count": 25,
     "metadata": {},
     "output_type": "execute_result"
    }
   ],
   "source": [
    "param_test7 = {\n",
    " 'reg_alpha':[0, 0.001, 0.005, 0.01, 0.05]\n",
    "}\n",
    "gsearch7 = GridSearchCV(estimator = XGBClassifier( learning_rate =0.1, n_estimators=177, max_depth=4,\n",
    " min_child_weight=6, gamma=0.1, subsample=0.8, colsample_bytree=0.8,\n",
    " objective= 'binary:logistic', nthread=4, scale_pos_weight=1,seed=27), \n",
    " param_grid = param_test7, scoring='roc_auc',n_jobs=4,iid=False, cv=5)\n",
    "gsearch7.fit(trainOneHot[predictors],trainOneHot[\"Stage\"])\n",
    "gsearch7.cv_results_, gsearch7.best_params_, gsearch7.best_score_"
   ]
  },
  {
   "cell_type": "code",
   "execution_count": 26,
   "metadata": {
    "scrolled": true
   },
   "outputs": [
    {
     "name": "stdout",
     "output_type": "stream",
     "text": [
      "\n",
      "Model Report\n",
      "Accuracy : 0.9601\n",
      "AUC Score (Train): 0.993168\n"
     ]
    },
    {
     "data": {
      "image/png": "[encoded data removed]",
      "text/plain": [
       "<Figure size 432x288 with 1 Axes>"
      ]
     },
     "metadata": {
      "needs_background": "light"
     },
     "output_type": "display_data"
    }
   ],
   "source": [
    "xgb3 = XGBClassifier(\n",
    " learning_rate =0.1,\n",
    " n_estimators=1000,\n",
    " max_depth=3,\n",
    " min_child_weight=6,\n",
    " gamma=0,\n",
    " subsample=0.8,\n",
    " colsample_bytree=0.8,\n",
    " reg_alpha=0.005,\n",
    " objective= 'binary:logistic',\n",
    " nthread=4,\n",
    " scale_pos_weight=1,\n",
    " seed=27)\n",
    "modelfit(xgb3, trainOneHot, predictors)"
   ]
  },
  {
   "cell_type": "code",
   "execution_count": 32,
   "metadata": {},
   "outputs": [],
   "source": [
    "#Con reg_alpha = 100 mando el mejor score"
   ]
  },
  {
   "cell_type": "markdown",
   "metadata": {},
   "source": [
    "# Reducing Learning Rate"
   ]
  },
  {
   "cell_type": "code",
   "execution_count": 34,
   "metadata": {},
   "outputs": [
    {
     "name": "stdout",
     "output_type": "stream",
     "text": [
      "\n",
      "Model Report\n",
      "Accuracy : 0.8468\n",
      "AUC Score (Train): 0.923582\n"
     ]
    },
    {
     "data": {
      "image/png": "[encoded data removed]",
      "text/plain": [
       "<Figure size 432x288 with 1 Axes>"
      ]
     },
     "metadata": {
      "needs_background": "light"
     },
     "output_type": "display_data"
    }
   ],
   "source": [
    "xgb4 = XGBClassifier(\n",
    " learning_rate =0.01,\n",
    " n_estimators=5000,\n",
    " max_depth=4,\n",
    " min_child_weight=5,\n",
    " gamma=0.3,\n",
    " subsample=0.7,\n",
    " colsample_bytree=0.7,\n",
    " reg_alpha=100,\n",
    " objective= 'binary:logistic',\n",
    " nthread=4,\n",
    " scale_pos_weight=1,\n",
    " seed=27)\n",
    "modelfit(xgb4, trainOneHot, predictors)"
   ]
  },
  {
   "cell_type": "code",
   "execution_count": 37,
   "metadata": {},
   "outputs": [
    {
     "data": {
      "text/plain": [
       "array([[0.3487218 , 0.6512782 ],\n",
       "       [0.21590829, 0.7840917 ],\n",
       "       [0.2678526 , 0.7321474 ],\n",
       "       ...,\n",
       "       [0.57531565, 0.42468435],\n",
       "       [0.6673279 , 0.33267215],\n",
       "       [0.8203293 , 0.17967068]], dtype=float32)"
      ]
     },
     "execution_count": 37,
     "metadata": {},
     "output_type": "execute_result"
    }
   ],
   "source": [
    "prediccion = xgb4.predict_proba(testOneHot)\n",
    "prediccion"
   ]
  },
  {
   "cell_type": "code",
   "execution_count": 40,
   "metadata": {},
   "outputs": [
    {
     "data": {
      "text/html": [
       "<div>\n",
       "<style scoped>\n",
       "    .dataframe tbody tr th:only-of-type {\n",
       "        vertical-align: middle;\n",
       "    }\n",
       "\n",
       "    .dataframe tbody tr th {\n",
       "        vertical-align: top;\n",
       "    }\n",
       "\n",
       "    .dataframe thead th {\n",
       "        text-align: right;\n",
       "    }\n",
       "</style>\n",
       "<table border=\"1\" class=\"dataframe\">\n",
       "  <thead>\n",
       "    <tr style=\"text-align: right;\">\n",
       "      <th></th>\n",
       "      <th>Opportunity_ID</th>\n",
       "      <th>Target</th>\n",
       "    </tr>\n",
       "  </thead>\n",
       "  <tbody>\n",
       "    <tr>\n",
       "      <th>0</th>\n",
       "      <td>11222</td>\n",
       "      <td>0.651278</td>\n",
       "    </tr>\n",
       "    <tr>\n",
       "      <th>1</th>\n",
       "      <td>11223</td>\n",
       "      <td>0.784092</td>\n",
       "    </tr>\n",
       "    <tr>\n",
       "      <th>2</th>\n",
       "      <td>11224</td>\n",
       "      <td>0.732147</td>\n",
       "    </tr>\n",
       "    <tr>\n",
       "      <th>3</th>\n",
       "      <td>11224</td>\n",
       "      <td>0.732147</td>\n",
       "    </tr>\n",
       "    <tr>\n",
       "      <th>4</th>\n",
       "      <td>11223</td>\n",
       "      <td>0.784092</td>\n",
       "    </tr>\n",
       "    <tr>\n",
       "      <th>...</th>\n",
       "      <td>...</td>\n",
       "      <td>...</td>\n",
       "    </tr>\n",
       "    <tr>\n",
       "      <th>2546</th>\n",
       "      <td>12364</td>\n",
       "      <td>0.906777</td>\n",
       "    </tr>\n",
       "    <tr>\n",
       "      <th>2547</th>\n",
       "      <td>12364</td>\n",
       "      <td>0.809345</td>\n",
       "    </tr>\n",
       "    <tr>\n",
       "      <th>2548</th>\n",
       "      <td>12365</td>\n",
       "      <td>0.424684</td>\n",
       "    </tr>\n",
       "    <tr>\n",
       "      <th>2549</th>\n",
       "      <td>12366</td>\n",
       "      <td>0.332672</td>\n",
       "    </tr>\n",
       "    <tr>\n",
       "      <th>2550</th>\n",
       "      <td>12368</td>\n",
       "      <td>0.179671</td>\n",
       "    </tr>\n",
       "  </tbody>\n",
       "</table>\n",
       "<p>2551 rows × 2 columns</p>\n",
       "</div>"
      ],
      "text/plain": [
       "      Opportunity_ID    Target\n",
       "0              11222  0.651278\n",
       "1              11223  0.784092\n",
       "2              11224  0.732147\n",
       "3              11224  0.732147\n",
       "4              11223  0.784092\n",
       "...              ...       ...\n",
       "2546           12364  0.906777\n",
       "2547           12364  0.809345\n",
       "2548           12365  0.424684\n",
       "2549           12366  0.332672\n",
       "2550           12368  0.179671\n",
       "\n",
       "[2551 rows x 2 columns]"
      ]
     },
     "execution_count": 40,
     "metadata": {},
     "output_type": "execute_result"
    }
   ],
   "source": [
    "output = pd.DataFrame({'Opportunity_ID':testOneHot.Opportunity_ID, 'Target': prediccion[:,1]}) \n",
    "output"
   ]
  },
  {
   "cell_type": "code",
   "execution_count": 42,
   "metadata": {},
   "outputs": [
    {
     "data": {
      "text/html": [
       "<div>\n",
       "<style scoped>\n",
       "    .dataframe tbody tr th:only-of-type {\n",
       "        vertical-align: middle;\n",
       "    }\n",
       "\n",
       "    .dataframe tbody tr th {\n",
       "        vertical-align: top;\n",
       "    }\n",
       "\n",
       "    .dataframe thead th {\n",
       "        text-align: right;\n",
       "    }\n",
       "</style>\n",
       "<table border=\"1\" class=\"dataframe\">\n",
       "  <thead>\n",
       "    <tr style=\"text-align: right;\">\n",
       "      <th></th>\n",
       "      <th>Target</th>\n",
       "    </tr>\n",
       "    <tr>\n",
       "      <th>Opportunity_ID</th>\n",
       "      <th></th>\n",
       "    </tr>\n",
       "  </thead>\n",
       "  <tbody>\n",
       "    <tr>\n",
       "      <th>10689</th>\n",
       "      <td>0.864898</td>\n",
       "    </tr>\n",
       "    <tr>\n",
       "      <th>10690</th>\n",
       "      <td>0.778618</td>\n",
       "    </tr>\n",
       "    <tr>\n",
       "      <th>10691</th>\n",
       "      <td>0.811762</td>\n",
       "    </tr>\n",
       "    <tr>\n",
       "      <th>10692</th>\n",
       "      <td>0.596825</td>\n",
       "    </tr>\n",
       "    <tr>\n",
       "      <th>10693</th>\n",
       "      <td>0.864502</td>\n",
       "    </tr>\n",
       "    <tr>\n",
       "      <th>...</th>\n",
       "      <td>...</td>\n",
       "    </tr>\n",
       "    <tr>\n",
       "      <th>12364</th>\n",
       "      <td>0.906777</td>\n",
       "    </tr>\n",
       "    <tr>\n",
       "      <th>12365</th>\n",
       "      <td>0.424684</td>\n",
       "    </tr>\n",
       "    <tr>\n",
       "      <th>12366</th>\n",
       "      <td>0.332672</td>\n",
       "    </tr>\n",
       "    <tr>\n",
       "      <th>12367</th>\n",
       "      <td>0.679881</td>\n",
       "    </tr>\n",
       "    <tr>\n",
       "      <th>12368</th>\n",
       "      <td>0.179671</td>\n",
       "    </tr>\n",
       "  </tbody>\n",
       "</table>\n",
       "<p>1567 rows × 1 columns</p>\n",
       "</div>"
      ],
      "text/plain": [
       "                  Target\n",
       "Opportunity_ID          \n",
       "10689           0.864898\n",
       "10690           0.778618\n",
       "10691           0.811762\n",
       "10692           0.596825\n",
       "10693           0.864502\n",
       "...                  ...\n",
       "12364           0.906777\n",
       "12365           0.424684\n",
       "12366           0.332672\n",
       "12367           0.679881\n",
       "12368           0.179671\n",
       "\n",
       "[1567 rows x 1 columns]"
      ]
     },
     "execution_count": 42,
     "metadata": {},
     "output_type": "execute_result"
    }
   ],
   "source": [
    "final=output.groupby('Opportunity_ID').max()\n",
    "final"
   ]
  },
  {
   "cell_type": "code",
   "execution_count": 44,
   "metadata": {},
   "outputs": [],
   "source": [
    "final.to_csv('/home/leandro/Documentos/Organizacion de datos/Fiuba-Big-Data-Analytics-TPs/Tp 2/Resultados/XGBoostScoreOneHotVariacion.csv')"
   ]
  },
  {
   "cell_type": "code",
   "execution_count": null,
   "metadata": {},
   "outputs": [],
   "source": []
  }
 ],
 "metadata": {
  "kernelspec": {
   "display_name": "Python 3",
   "language": "python",
   "name": "python3"
  },
  "language_info": {
   "codemirror_mode": {
    "name": "ipython",
    "version": 3
   },
   "file_extension": ".py",
   "mimetype": "text/x-python",
   "name": "python",
   "nbconvert_exporter": "python",
   "pygments_lexer": "ipython3",
   "version": "3.8.5"
  }
 },
 "nbformat": 4,
 "nbformat_minor": 4
}
