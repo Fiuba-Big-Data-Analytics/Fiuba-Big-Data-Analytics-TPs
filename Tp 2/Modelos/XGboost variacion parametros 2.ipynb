{
 "cells": [
  {
   "cell_type": "code",
   "execution_count": 43,
   "metadata": {},
   "outputs": [],
   "source": [
    "import pandas as pd\n",
    "import numpy as np\n",
    "import matplotlib.pyplot as plt\n",
    "from matplotlib.colors import ListedColormap\n",
    "import matplotlib.patches as mpatches\n",
    "import seaborn as sb\n",
    "\n",
    "from sklearn.preprocessing import OneHotEncoder\n",
    "from sklearn.ensemble import RandomForestRegressor\n",
    "from sklearn.metrics import mean_squared_error\n",
    "from sklearn import tree\n",
    "\n",
    "import xgboost as xgb\n",
    "from xgboost.sklearn import XGBClassifier\n",
    "from sklearn.model_selection import cross_validate\n",
    "from sklearn import  metrics   #Additional scklearn functions\n",
    "from sklearn.model_selection import GridSearchCV  #Perforing grid search\n",
    "\n",
    "from sklearn.model_selection import TimeSeriesSplit\n",
    "\n",
    "import matplotlib.pylab as plt"
   ]
  },
  {
   "cell_type": "code",
   "execution_count": 11,
   "metadata": {},
   "outputs": [],
   "source": [
    "testOneHot = pd.read_csv('/home/leandro/Documentos/Organizacion de datos/Datos Pesados/210227_tp2_test_feng.csv')\n",
    "trainOneHot = pd.read_csv('/home/leandro/Documentos/Organizacion de datos/Datos Pesados/210227_tp2_train_feng.csv')\n",
    "\n",
    "\n",
    "testOneHot = testOneHot.drop(columns =\"Unnamed: 0\")\n",
    "trainOneHot = trainOneHot.drop(columns =\"Unnamed: 0\")"
   ]
  },
  {
   "cell_type": "code",
   "execution_count": 12,
   "metadata": {},
   "outputs": [],
   "source": [
    "from sklearn.model_selection import train_test_split\n",
    "\n",
    "X_train, X_test, y_train, y_test = \\\n",
    "    train_test_split(trainOneHot.drop(columns = 'Stage'), trainOneHot['Stage'], test_size=0.2, random_state=123)\n"
   ]
  },
  {
   "cell_type": "code",
   "execution_count": 13,
   "metadata": {},
   "outputs": [
    {
     "name": "stdout",
     "output_type": "stream",
     "text": [
      "RMSE: 0.334591\n"
     ]
    },
    {
     "data": {
      "text/plain": [
       "0.5515726830790533"
      ]
     },
     "execution_count": 13,
     "metadata": {},
     "output_type": "execute_result"
    }
   ],
   "source": [
    "xg_reg = xgb.XGBRegressor(\n",
    "                colsample_bytree = 0.3, learning_rate = 0.1,\n",
    "                max_depth = 50, alpha = 25, n_estimators = 100)\n",
    "\n",
    "\n",
    "xg_reg.fit(X_train,y_train)\n",
    "\n",
    "\n",
    "\n",
    "preds = xg_reg.predict(X_test)\n",
    "rmse = np.sqrt(mean_squared_error(y_test, preds))\n",
    "print(\"RMSE: %f\" % (rmse))\n",
    "\n",
    "xg_reg.score(X_test,y_test)"
   ]
  },
  {
   "cell_type": "code",
   "execution_count": 14,
   "metadata": {},
   "outputs": [
    {
     "name": "stdout",
     "output_type": "stream",
     "text": [
      "RMSE: 0.322070\n"
     ]
    },
    {
     "data": {
      "text/plain": [
       "0.5845059160966137"
      ]
     },
     "execution_count": 14,
     "metadata": {},
     "output_type": "execute_result"
    }
   ],
   "source": [
    "xg_reg = xgb.XGBRegressor(max_depth = 5,min_child_weight = 1,gamma = 0,subsample = 0.8\n",
    "                          , colsample_bytree = 0.8,scale_pos_weight = 1 )\n",
    "\n",
    "\n",
    "xg_reg.fit(X_train,y_train)\n",
    "\n",
    "\n",
    "\n",
    "preds = xg_reg.predict(X_test)\n",
    "rmse = np.sqrt(mean_squared_error(y_test, preds))\n",
    "print(\"RMSE: %f\" % (rmse))\n",
    "xg_reg.score(X_test,y_test)"
   ]
  },
  {
   "cell_type": "code",
   "execution_count": 15,
   "metadata": {},
   "outputs": [],
   "source": [
    "def modelfit(alg, dtrain, predictors,useTrainCV=True, cv_folds=5, early_stopping_rounds=50):\n",
    "    \n",
    "    if useTrainCV:\n",
    "        xgb_param = alg.get_xgb_params()\n",
    "        xgtrain = xgb.DMatrix(dtrain[predictors].values, label=dtrain[\"Stage\"].values)\n",
    "        cvresult = xgb.cv(xgb_param, xgtrain, num_boost_round=alg.get_params()['n_estimators'], nfold=cv_folds,\n",
    "            metrics='auc', early_stopping_rounds=early_stopping_rounds)#, show_progress=False)\n",
    "        alg.set_params(n_estimators=cvresult.shape[0])\n",
    "    \n",
    "    #Fit the algorithm on the data\n",
    "    alg.fit(dtrain[predictors], dtrain['Stage'],eval_metric='auc')\n",
    "        \n",
    "    #Predict training set:\n",
    "    dtrain_predictions = alg.predict(dtrain[predictors])\n",
    "    dtrain_predprob = alg.predict_proba(dtrain[predictors])[:,1]\n",
    "        \n",
    "    #Print model report:\n",
    "    print(\"\\nModel Report\")\n",
    "    print( \"Accuracy : %.4g\" % metrics.accuracy_score(dtrain['Stage'].values, dtrain_predictions))\n",
    "    print( \"AUC Score (Train): %f\" % metrics.roc_auc_score(dtrain['Stage'], dtrain_predprob))\n",
    "                    \n",
    "    feat_imp = pd.Series(alg.get_booster().get_score(importance_type='weight')).sort_values(ascending=False)\n",
    "    feat_imp.head(10).plot(kind='bar', title='Feature Importances')\n",
    "    plt.ylabel('Feature Importance Score')"
   ]
  },
  {
   "cell_type": "code",
   "execution_count": 16,
   "metadata": {},
   "outputs": [],
   "source": [
    "predictors = [x for x in trainOneHot.columns if x not in [\"Stage\"]]\n",
    "xgb1 = XGBClassifier(\n",
    " learning_rate =0.1,\n",
    " n_estimators=1000,\n",
    " max_depth=5,\n",
    " min_child_weight=1,\n",
    " gamma=0,\n",
    " subsample=0.8,\n",
    " colsample_bytree=0.8,\n",
    " objective= 'binary:logistic',\n",
    " nthread=4,\n",
    " scale_pos_weight=1,\n",
    " seed=27)"
   ]
  },
  {
   "cell_type": "code",
   "execution_count": 17,
   "metadata": {},
   "outputs": [
    {
     "name": "stdout",
     "output_type": "stream",
     "text": [
      "\n",
      "Model Report\n",
      "Accuracy : 0.9758\n",
      "AUC Score (Train): 0.997406\n"
     ]
    },
    {
     "data": {
      "image/png": "[encoded data removed]",
      "text/plain": [
       "<Figure size 432x288 with 1 Axes>"
      ]
     },
     "metadata": {
      "needs_background": "light"
     },
     "output_type": "display_data"
    }
   ],
   "source": [
    "modelfit(xgb1, trainOneHot, predictors)"
   ]
  },
  {
   "cell_type": "markdown",
   "metadata": {},
   "source": [
    "# Tune max_depth and min_child_weight"
   ]
  },
  {
   "cell_type": "code",
   "execution_count": 18,
   "metadata": {},
   "outputs": [
    {
     "name": "stderr",
     "output_type": "stream",
     "text": [
      "/home/leandro/anaconda3/lib/python3.8/site-packages/sklearn/model_selection/_search.py:847: FutureWarning: The parameter 'iid' is deprecated in 0.22 and will be removed in 0.24.\n",
      "  warnings.warn(\n"
     ]
    },
    {
     "data": {
      "text/plain": [
       "({'mean_fit_time': array([ 37.96132865,  37.52665119,  37.56080813,  58.51632929,\n",
       "          58.46666222,  59.12377377,  80.01790347,  79.73079734,\n",
       "          79.86569114, 101.79607277, 102.02544141,  93.22696476]),\n",
       "  'std_fit_time': array([ 0.81215452,  0.49998133,  0.34100798,  0.33012835,  0.35198232,\n",
       "          0.6247008 ,  0.92109667,  0.9111795 ,  0.40554269,  0.45077737,\n",
       "          0.5044607 , 11.53874538]),\n",
       "  'mean_score_time': array([0.33750615, 0.38623028, 0.43302016, 0.43167739, 0.43355598,\n",
       "         0.4091897 , 0.37901635, 0.42467418, 0.49406323, 0.44617758,\n",
       "         0.44858465, 0.31347876]),\n",
       "  'std_score_time': array([0.0598781 , 0.06635323, 0.07159416, 0.07471928, 0.03346594,\n",
       "         0.05528409, 0.06653417, 0.05255345, 0.01220547, 0.04181966,\n",
       "         0.04131733, 0.09042221]),\n",
       "  'param_max_depth': masked_array(data=[3, 3, 3, 5, 5, 5, 7, 7, 7, 9, 9, 9],\n",
       "               mask=[False, False, False, False, False, False, False, False,\n",
       "                     False, False, False, False],\n",
       "         fill_value='?',\n",
       "              dtype=object),\n",
       "  'param_min_child_weight': masked_array(data=[1, 3, 5, 1, 3, 5, 1, 3, 5, 1, 3, 5],\n",
       "               mask=[False, False, False, False, False, False, False, False,\n",
       "                     False, False, False, False],\n",
       "         fill_value='?',\n",
       "              dtype=object),\n",
       "  'params': [{'max_depth': 3, 'min_child_weight': 1},\n",
       "   {'max_depth': 3, 'min_child_weight': 3},\n",
       "   {'max_depth': 3, 'min_child_weight': 5},\n",
       "   {'max_depth': 5, 'min_child_weight': 1},\n",
       "   {'max_depth': 5, 'min_child_weight': 3},\n",
       "   {'max_depth': 5, 'min_child_weight': 5},\n",
       "   {'max_depth': 7, 'min_child_weight': 1},\n",
       "   {'max_depth': 7, 'min_child_weight': 3},\n",
       "   {'max_depth': 7, 'min_child_weight': 5},\n",
       "   {'max_depth': 9, 'min_child_weight': 1},\n",
       "   {'max_depth': 9, 'min_child_weight': 3},\n",
       "   {'max_depth': 9, 'min_child_weight': 5}],\n",
       "  'split0_test_score': array([0.86754248, 0.88036236, 0.88679605, 0.89216102, 0.875478  ,\n",
       "         0.88624134, 0.86929636, 0.85507535, 0.86997005, 0.86263672,\n",
       "         0.85082815, 0.84946042]),\n",
       "  'split1_test_score': array([0.87872121, 0.85293079, 0.84972201, 0.77214182, 0.76836367,\n",
       "         0.75471001, 0.7562102 , 0.70178309, 0.71597842, 0.71454614,\n",
       "         0.73495428, 0.69443469]),\n",
       "  'split2_test_score': array([0.82574361, 0.82396032, 0.81722203, 0.71729735, 0.75218498,\n",
       "         0.77858341, 0.71558561, 0.73462103, 0.7189673 , 0.72126302,\n",
       "         0.72917398, 0.70753205]),\n",
       "  'split3_test_score': array([0.86471758, 0.86316777, 0.86439059, 0.87687523, 0.8699186 ,\n",
       "         0.87000844, 0.88138153, 0.87576106, 0.87307671, 0.8804669 ,\n",
       "         0.87309395, 0.87338908]),\n",
       "  'split4_test_score': array([0.92158398, 0.92272174, 0.92252219, 0.91176259, 0.91948608,\n",
       "         0.91288676, 0.91333445, 0.91665369, 0.91676966, 0.91566482,\n",
       "         0.91409504, 0.91609004]),\n",
       "  'mean_test_score': array([0.87166177, 0.8686286 , 0.86813057, 0.8340476 , 0.83708627,\n",
       "         0.84048599, 0.82716163, 0.81677884, 0.81895243, 0.81891552,\n",
       "         0.82042908, 0.80818126]),\n",
       "  'std_test_score': array([0.03071068, 0.03266572, 0.03535927, 0.07578119, 0.06522674,\n",
       "         0.06228394, 0.07697298, 0.08353974, 0.08449985, 0.08424906,\n",
       "         0.07497258, 0.09018745]),\n",
       "  'rank_test_score': array([ 1,  2,  3,  6,  5,  4,  7, 11,  9, 10,  8, 12], dtype=int32)},\n",
       " {'max_depth': 3, 'min_child_weight': 1},\n",
       " 0.8716617717138382)"
      ]
     },
     "execution_count": 18,
     "metadata": {},
     "output_type": "execute_result"
    }
   ],
   "source": [
    "param_test1 = {\n",
    " 'max_depth':range(3,10,2),\n",
    " 'min_child_weight':range(1,6,2)\n",
    "}\n",
    "gsearch1 = GridSearchCV(estimator = XGBClassifier( learning_rate =0.1, n_estimators=140, max_depth=5,\n",
    " min_child_weight=1, gamma=0, subsample=0.8, colsample_bytree=0.8,\n",
    " objective= 'binary:logistic', nthread=4, scale_pos_weight=1, seed=27), \n",
    " param_grid = param_test1, scoring='roc_auc',n_jobs=4,iid=False, cv=5)\n",
    "gsearch1.fit(trainOneHot[predictors],trainOneHot[\"Stage\"])\n",
    "\n",
    "gsearch1.cv_results_, gsearch1.best_params_, gsearch1.best_score_"
   ]
  },
  {
   "cell_type": "code",
   "execution_count": 19,
   "metadata": {},
   "outputs": [
    {
     "data": {
      "text/plain": [
       "({'mean_fit_time': array([ 37.96132865,  37.52665119,  37.56080813,  58.51632929,\n",
       "          58.46666222,  59.12377377,  80.01790347,  79.73079734,\n",
       "          79.86569114, 101.79607277, 102.02544141,  93.22696476]),\n",
       "  'std_fit_time': array([ 0.81215452,  0.49998133,  0.34100798,  0.33012835,  0.35198232,\n",
       "          0.6247008 ,  0.92109667,  0.9111795 ,  0.40554269,  0.45077737,\n",
       "          0.5044607 , 11.53874538]),\n",
       "  'mean_score_time': array([0.33750615, 0.38623028, 0.43302016, 0.43167739, 0.43355598,\n",
       "         0.4091897 , 0.37901635, 0.42467418, 0.49406323, 0.44617758,\n",
       "         0.44858465, 0.31347876]),\n",
       "  'std_score_time': array([0.0598781 , 0.06635323, 0.07159416, 0.07471928, 0.03346594,\n",
       "         0.05528409, 0.06653417, 0.05255345, 0.01220547, 0.04181966,\n",
       "         0.04131733, 0.09042221]),\n",
       "  'param_max_depth': masked_array(data=[3, 3, 3, 5, 5, 5, 7, 7, 7, 9, 9, 9],\n",
       "               mask=[False, False, False, False, False, False, False, False,\n",
       "                     False, False, False, False],\n",
       "         fill_value='?',\n",
       "              dtype=object),\n",
       "  'param_min_child_weight': masked_array(data=[1, 3, 5, 1, 3, 5, 1, 3, 5, 1, 3, 5],\n",
       "               mask=[False, False, False, False, False, False, False, False,\n",
       "                     False, False, False, False],\n",
       "         fill_value='?',\n",
       "              dtype=object),\n",
       "  'params': [{'max_depth': 3, 'min_child_weight': 1},\n",
       "   {'max_depth': 3, 'min_child_weight': 3},\n",
       "   {'max_depth': 3, 'min_child_weight': 5},\n",
       "   {'max_depth': 5, 'min_child_weight': 1},\n",
       "   {'max_depth': 5, 'min_child_weight': 3},\n",
       "   {'max_depth': 5, 'min_child_weight': 5},\n",
       "   {'max_depth': 7, 'min_child_weight': 1},\n",
       "   {'max_depth': 7, 'min_child_weight': 3},\n",
       "   {'max_depth': 7, 'min_child_weight': 5},\n",
       "   {'max_depth': 9, 'min_child_weight': 1},\n",
       "   {'max_depth': 9, 'min_child_weight': 3},\n",
       "   {'max_depth': 9, 'min_child_weight': 5}],\n",
       "  'split0_test_score': array([0.86754248, 0.88036236, 0.88679605, 0.89216102, 0.875478  ,\n",
       "         0.88624134, 0.86929636, 0.85507535, 0.86997005, 0.86263672,\n",
       "         0.85082815, 0.84946042]),\n",
       "  'split1_test_score': array([0.87872121, 0.85293079, 0.84972201, 0.77214182, 0.76836367,\n",
       "         0.75471001, 0.7562102 , 0.70178309, 0.71597842, 0.71454614,\n",
       "         0.73495428, 0.69443469]),\n",
       "  'split2_test_score': array([0.82574361, 0.82396032, 0.81722203, 0.71729735, 0.75218498,\n",
       "         0.77858341, 0.71558561, 0.73462103, 0.7189673 , 0.72126302,\n",
       "         0.72917398, 0.70753205]),\n",
       "  'split3_test_score': array([0.86471758, 0.86316777, 0.86439059, 0.87687523, 0.8699186 ,\n",
       "         0.87000844, 0.88138153, 0.87576106, 0.87307671, 0.8804669 ,\n",
       "         0.87309395, 0.87338908]),\n",
       "  'split4_test_score': array([0.92158398, 0.92272174, 0.92252219, 0.91176259, 0.91948608,\n",
       "         0.91288676, 0.91333445, 0.91665369, 0.91676966, 0.91566482,\n",
       "         0.91409504, 0.91609004]),\n",
       "  'mean_test_score': array([0.87166177, 0.8686286 , 0.86813057, 0.8340476 , 0.83708627,\n",
       "         0.84048599, 0.82716163, 0.81677884, 0.81895243, 0.81891552,\n",
       "         0.82042908, 0.80818126]),\n",
       "  'std_test_score': array([0.03071068, 0.03266572, 0.03535927, 0.07578119, 0.06522674,\n",
       "         0.06228394, 0.07697298, 0.08353974, 0.08449985, 0.08424906,\n",
       "         0.07497258, 0.09018745]),\n",
       "  'rank_test_score': array([ 1,  2,  3,  6,  5,  4,  7, 11,  9, 10,  8, 12], dtype=int32)},\n",
       " {'max_depth': 3, 'min_child_weight': 1},\n",
       " 0.8716617717138382)"
      ]
     },
     "execution_count": 19,
     "metadata": {},
     "output_type": "execute_result"
    }
   ],
   "source": [
    "\n",
    "gsearch1.cv_results_, gsearch1.best_params_, gsearch1.best_score_"
   ]
  },
  {
   "cell_type": "code",
   "execution_count": 20,
   "metadata": {},
   "outputs": [
    {
     "name": "stderr",
     "output_type": "stream",
     "text": [
      "/home/leandro/anaconda3/lib/python3.8/site-packages/sklearn/model_selection/_search.py:847: FutureWarning: The parameter 'iid' is deprecated in 0.22 and will be removed in 0.24.\n",
      "  warnings.warn(\n"
     ]
    },
    {
     "data": {
      "text/plain": [
       "({'mean_fit_time': array([47.76903796, 47.20524249, 48.55128784, 58.41580453, 58.8877305 ,\n",
       "         58.65454402, 68.78006229, 68.6558692 , 58.50417256]),\n",
       "  'std_fit_time': array([ 0.8151399 ,  0.37421055,  0.46165504,  0.59362976,  0.27956825,\n",
       "          0.58772381,  0.6215374 ,  0.73575335, 15.98070237]),\n",
       "  'mean_score_time': array([0.37123828, 0.39295635, 0.40255332, 0.43442278, 0.4409297 ,\n",
       "         0.41628232, 0.38759789, 0.38561516, 0.3183641 ]),\n",
       "  'std_score_time': array([0.06587819, 0.12773404, 0.07286085, 0.06208985, 0.03649653,\n",
       "         0.08138821, 0.07616717, 0.04768696, 0.1046329 ]),\n",
       "  'param_max_depth': masked_array(data=[4, 4, 4, 5, 5, 5, 6, 6, 6],\n",
       "               mask=[False, False, False, False, False, False, False, False,\n",
       "                     False],\n",
       "         fill_value='?',\n",
       "              dtype=object),\n",
       "  'param_min_child_weight': masked_array(data=[4, 5, 6, 4, 5, 6, 4, 5, 6],\n",
       "               mask=[False, False, False, False, False, False, False, False,\n",
       "                     False],\n",
       "         fill_value='?',\n",
       "              dtype=object),\n",
       "  'params': [{'max_depth': 4, 'min_child_weight': 4},\n",
       "   {'max_depth': 4, 'min_child_weight': 5},\n",
       "   {'max_depth': 4, 'min_child_weight': 6},\n",
       "   {'max_depth': 5, 'min_child_weight': 4},\n",
       "   {'max_depth': 5, 'min_child_weight': 5},\n",
       "   {'max_depth': 5, 'min_child_weight': 6},\n",
       "   {'max_depth': 6, 'min_child_weight': 4},\n",
       "   {'max_depth': 6, 'min_child_weight': 5},\n",
       "   {'max_depth': 6, 'min_child_weight': 6}],\n",
       "  'split0_test_score': array([0.89140436, 0.8933868 , 0.89273399, 0.87912196, 0.88624134,\n",
       "         0.88442588, 0.87014173, 0.87537572, 0.88173896]),\n",
       "  'split1_test_score': array([0.79176957, 0.79779329, 0.78144954, 0.74004143, 0.75471001,\n",
       "         0.73471818, 0.72558127, 0.73367192, 0.70682584]),\n",
       "  'split2_test_score': array([0.74775808, 0.7880515 , 0.77984018, 0.74681681, 0.77858341,\n",
       "         0.71107096, 0.7230975 , 0.74149983, 0.73165304]),\n",
       "  'split3_test_score': array([0.8681703 , 0.86688428, 0.8672191 , 0.87245042, 0.87000844,\n",
       "         0.87460667, 0.87309082, 0.87524603, 0.87011918]),\n",
       "  'split4_test_score': array([0.9168731 , 0.91287057, 0.91688772, 0.91768906, 0.91288676,\n",
       "         0.91763735, 0.918201  , 0.91179602, 0.91065617]),\n",
       "  'mean_test_score': array([0.84319508, 0.85179729, 0.84762611, 0.83122394, 0.84048599,\n",
       "         0.82449181, 0.82202246, 0.8275179 , 0.82019864]),\n",
       "  'std_test_score': array([0.06344943, 0.05033331, 0.05690351, 0.07336058, 0.06228394,\n",
       "         0.0845024 , 0.08156078, 0.07466903, 0.08385172]),\n",
       "  'rank_test_score': array([3, 1, 2, 5, 4, 7, 8, 6, 9], dtype=int32)},\n",
       " {'max_depth': 4, 'min_child_weight': 5},\n",
       " 0.8517972864363916)"
      ]
     },
     "execution_count": 20,
     "metadata": {},
     "output_type": "execute_result"
    }
   ],
   "source": [
    "param_test2 = {\n",
    " 'max_depth':[4,5,6],\n",
    " 'min_child_weight':[4,5,6]\n",
    "}\n",
    "gsearch2 = GridSearchCV(estimator = XGBClassifier( learning_rate=0.1, n_estimators=140, max_depth=5,\n",
    " min_child_weight=2, gamma=0, subsample=0.8, colsample_bytree=0.8,\n",
    " objective= 'binary:logistic', nthread=4, scale_pos_weight=1,seed=27), \n",
    " param_grid = param_test2, scoring='roc_auc',n_jobs=4,iid=False, cv=5)\n",
    "gsearch2.fit(trainOneHot[predictors],trainOneHot[\"Stage\"])\n",
    "gsearch2.cv_results_, gsearch2.best_params_, gsearch2.best_score_"
   ]
  },
  {
   "cell_type": "code",
   "execution_count": 21,
   "metadata": {},
   "outputs": [
    {
     "name": "stderr",
     "output_type": "stream",
     "text": [
      "/home/leandro/anaconda3/lib/python3.8/site-packages/sklearn/model_selection/_search.py:847: FutureWarning: The parameter 'iid' is deprecated in 0.22 and will be removed in 0.24.\n",
      "  warnings.warn(\n"
     ]
    },
    {
     "data": {
      "text/plain": [
       "GridSearchCV(cv=5,\n",
       "             estimator=XGBClassifier(base_score=None, booster=None,\n",
       "                                     colsample_bylevel=None,\n",
       "                                     colsample_bynode=None,\n",
       "                                     colsample_bytree=0.8, gamma=0, gpu_id=None,\n",
       "                                     importance_type='gain',\n",
       "                                     interaction_constraints=None,\n",
       "                                     learning_rate=0.1, max_delta_step=None,\n",
       "                                     max_depth=4, min_child_weight=2,\n",
       "                                     missing=nan, monotone_constraints=None,\n",
       "                                     n_estimators=140, n_jobs=None, nthread=4,\n",
       "                                     num_parallel_tree=None, random_state=None,\n",
       "                                     reg_alpha=None, reg_lambda=None,\n",
       "                                     scale_pos_weight=1, seed=27, subsample=0.8,\n",
       "                                     tree_method=None, validate_parameters=None,\n",
       "                                     verbosity=None),\n",
       "             iid=False, n_jobs=4,\n",
       "             param_grid={'min_child_weight': [6, 8, 10, 12]},\n",
       "             scoring='roc_auc')"
      ]
     },
     "execution_count": 21,
     "metadata": {},
     "output_type": "execute_result"
    }
   ],
   "source": [
    "param_test2b = {\n",
    " 'min_child_weight':[6,8,10,12]\n",
    "}\n",
    "gsearch2b = GridSearchCV(estimator = XGBClassifier( learning_rate=0.1, n_estimators=140, max_depth=4,\n",
    " min_child_weight=2, gamma=0, subsample=0.8, colsample_bytree=0.8,\n",
    " objective= 'binary:logistic', nthread=4, scale_pos_weight=1,seed=27), \n",
    " param_grid = param_test2b, scoring='roc_auc',n_jobs=4,iid=False, cv=5)\n",
    "gsearch2b.fit(trainOneHot[predictors],trainOneHot[\"Stage\"])"
   ]
  },
  {
   "cell_type": "code",
   "execution_count": 22,
   "metadata": {},
   "outputs": [],
   "source": [
    "#modelfit(gsearch3.best_estimator_, trainOneHot, predictors)\n",
    "#gsearch2b.grid_scores_, gsearch2b.best_params_, gsearch2b.best_score_"
   ]
  },
  {
   "cell_type": "code",
   "execution_count": 23,
   "metadata": {},
   "outputs": [
    {
     "name": "stdout",
     "output_type": "stream",
     "text": [
      "\n",
      "Model Report\n",
      "Accuracy : 0.8602\n",
      "AUC Score (Train): 0.938701\n"
     ]
    },
    {
     "data": {
      "text/plain": [
       "({'mean_fit_time': array([48.30391641, 47.61711683, 47.53398614, 47.13289957]),\n",
       "  'std_fit_time': array([0.54787308, 0.47248295, 0.5953419 , 0.57091136]),\n",
       "  'mean_score_time': array([0.36942301, 0.32418504, 0.37635694, 0.34894238]),\n",
       "  'std_score_time': array([0.06344989, 0.03131428, 0.05733904, 0.13129781]),\n",
       "  'param_min_child_weight': masked_array(data=[6, 8, 10, 12],\n",
       "               mask=[False, False, False, False],\n",
       "         fill_value='?',\n",
       "              dtype=object),\n",
       "  'params': [{'min_child_weight': 6},\n",
       "   {'min_child_weight': 8},\n",
       "   {'min_child_weight': 10},\n",
       "   {'min_child_weight': 12}],\n",
       "  'split0_test_score': array([0.89273399, 0.89277678, 0.89254404, 0.89359502]),\n",
       "  'split1_test_score': array([0.78144954, 0.77887749, 0.79598962, 0.74391151]),\n",
       "  'split2_test_score': array([0.77984018, 0.76770656, 0.75897655, 0.78062005]),\n",
       "  'split3_test_score': array([0.8672191 , 0.86795666, 0.86653274, 0.86601039]),\n",
       "  'split4_test_score': array([0.91688772, 0.91697705, 0.91409504, 0.90935908]),\n",
       "  'mean_test_score': array([0.84762611, 0.84485891, 0.8456276 , 0.83869921]),\n",
       "  'std_test_score': array([0.05690351, 0.06055855, 0.05881888, 0.06497717]),\n",
       "  'rank_test_score': array([1, 3, 2, 4], dtype=int32)},\n",
       " {'min_child_weight': 6},\n",
       " 0.847626106989783)"
      ]
     },
     "execution_count": 23,
     "metadata": {},
     "output_type": "execute_result"
    },
    {
     "data": {
      "image/png": "[encoded data removed]",
      "text/plain": [
       "<Figure size 432x288 with 1 Axes>"
      ]
     },
     "metadata": {
      "needs_background": "light"
     },
     "output_type": "display_data"
    }
   ],
   "source": [
    "modelfit(gsearch2b.best_estimator_, trainOneHot, predictors)\n",
    "gsearch2b.cv_results_, gsearch2b.best_params_, gsearch2b.best_score_"
   ]
  },
  {
   "cell_type": "code",
   "execution_count": null,
   "metadata": {},
   "outputs": [],
   "source": []
  },
  {
   "cell_type": "code",
   "execution_count": 24,
   "metadata": {
    "scrolled": false
   },
   "outputs": [
    {
     "name": "stderr",
     "output_type": "stream",
     "text": [
      "/home/leandro/anaconda3/lib/python3.8/site-packages/sklearn/model_selection/_search.py:847: FutureWarning: The parameter 'iid' is deprecated in 0.22 and will be removed in 0.24.\n",
      "  warnings.warn(\n"
     ]
    },
    {
     "data": {
      "text/plain": [
       "({'mean_fit_time': array([113.57164721, 219.50429349, 275.76069398, 293.02343755,\n",
       "         270.38061481]),\n",
       "  'std_fit_time': array([ 0.62517294,  1.23330365,  5.20260513,  3.1649942 , 42.86272348]),\n",
       "  'mean_score_time': array([0.32454329, 0.39730806, 0.43956819, 0.50145211, 0.36862106]),\n",
       "  'std_score_time': array([0.05193415, 0.03353868, 0.06079766, 0.03017625, 0.14423261]),\n",
       "  'param_max_depth': masked_array(data=[10, 20, 30, 40, 50],\n",
       "               mask=[False, False, False, False, False],\n",
       "         fill_value='?',\n",
       "              dtype=object),\n",
       "  'params': [{'max_depth': 10},\n",
       "   {'max_depth': 20},\n",
       "   {'max_depth': 30},\n",
       "   {'max_depth': 40},\n",
       "   {'max_depth': 50}],\n",
       "  'split0_test_score': array([0.86324935, 0.85747318, 0.84150873, 0.85833316, 0.8472061 ]),\n",
       "  'split1_test_score': array([0.7575333 , 0.78268541, 0.77003623, 0.76192834, 0.78985621]),\n",
       "  'split2_test_score': array([0.71046765, 0.7352421 , 0.74576167, 0.74429491, 0.74495255]),\n",
       "  'split3_test_score': array([0.873247  , 0.87537766, 0.87133521, 0.87005232, 0.87331908]),\n",
       "  'split4_test_score': array([0.91646198, 0.91713325, 0.91803436, 0.91655183, 0.91813675]),\n",
       "  'mean_test_score': array([0.82419186, 0.83358232, 0.82933524, 0.83023211, 0.83469414]),\n",
       "  'std_test_score': array([0.07722982, 0.06566533, 0.06368774, 0.06614683, 0.06111481]),\n",
       "  'rank_test_score': array([5, 2, 4, 3, 1], dtype=int32)},\n",
       " {'max_depth': 50},\n",
       " 0.8346941390757582)"
      ]
     },
     "execution_count": 24,
     "metadata": {},
     "output_type": "execute_result"
    }
   ],
   "source": [
    "param_test1b = {\n",
    " 'max_depth':range(10,60,10)},\n",
    " #'min_child_weight':range(1,6,2)}\n",
    "gsearch1b = GridSearchCV(estimator = XGBClassifier( learning_rate =0.1, n_estimators=140, max_depth=5,\n",
    " min_child_weight=1, gamma=0, subsample=0.8, colsample_bytree=0.8,\n",
    " objective= 'binary:logistic', nthread=4, scale_pos_weight=1, seed=27), \n",
    " param_grid = param_test1b, scoring='roc_auc',n_jobs=4,iid=False, cv=5)\n",
    "gsearch1b.fit(trainOneHot[predictors],trainOneHot[\"Stage\"])\n",
    "\n",
    "gsearch1b.cv_results_, gsearch1b.best_params_, gsearch1b.best_score_"
   ]
  },
  {
   "cell_type": "code",
   "execution_count": 25,
   "metadata": {},
   "outputs": [],
   "source": [
    "#Con max_depth  saco mejor score"
   ]
  },
  {
   "cell_type": "markdown",
   "metadata": {},
   "source": [
    "# Tune gamma"
   ]
  },
  {
   "cell_type": "code",
   "execution_count": 26,
   "metadata": {},
   "outputs": [
    {
     "name": "stderr",
     "output_type": "stream",
     "text": [
      "/home/leandro/anaconda3/lib/python3.8/site-packages/sklearn/model_selection/_search.py:847: FutureWarning: The parameter 'iid' is deprecated in 0.22 and will be removed in 0.24.\n",
      "  warnings.warn(\n"
     ]
    },
    {
     "data": {
      "text/plain": [
       "({'mean_fit_time': array([48.50106969, 48.46684909, 48.21478744, 48.2872489 , 42.18192973]),\n",
       "  'std_fit_time': array([ 0.28995612,  0.42278291,  0.67688737,  0.17935531, 13.48504509]),\n",
       "  'mean_score_time': array([0.37230105, 0.37533412, 0.33310843, 0.34196277, 0.31383348]),\n",
       "  'std_score_time': array([0.03316191, 0.08930673, 0.05822198, 0.04393531, 0.08682133]),\n",
       "  'param_gamma': masked_array(data=[0.0, 0.1, 0.2, 0.3, 0.4],\n",
       "               mask=[False, False, False, False, False],\n",
       "         fill_value='?',\n",
       "              dtype=object),\n",
       "  'params': [{'gamma': 0.0},\n",
       "   {'gamma': 0.1},\n",
       "   {'gamma': 0.2},\n",
       "   {'gamma': 0.3},\n",
       "   {'gamma': 0.4}],\n",
       "  'split0_test_score': array([0.89273399, 0.89555607, 0.89907531, 0.8945124 , 0.8898326 ]),\n",
       "  'split1_test_score': array([0.78144954, 0.7784429 , 0.78371601, 0.8091857 , 0.8091857 ]),\n",
       "  'split2_test_score': array([0.77984018, 0.80674111, 0.78893792, 0.79072592, 0.7903164 ]),\n",
       "  'split3_test_score': array([0.8672191 , 0.86657139, 0.86733454, 0.86771063, 0.8687172 ]),\n",
       "  'split4_test_score': array([0.91688772, 0.9200304 , 0.91981988, 0.91541877, 0.91831227]),\n",
       "  'mean_test_score': array([0.84762611, 0.85346837, 0.85177673, 0.85551068, 0.85527283]),\n",
       "  'std_test_score': array([0.05690351, 0.05326505, 0.05601794, 0.04817057, 0.04835796]),\n",
       "  'rank_test_score': array([5, 3, 4, 1, 2], dtype=int32)},\n",
       " {'gamma': 0.3},\n",
       " 0.8555106841148369)"
      ]
     },
     "execution_count": 26,
     "metadata": {},
     "output_type": "execute_result"
    }
   ],
   "source": [
    "param_test3 = {\n",
    " 'gamma':[i/10.0 for i in range(0,5)]\n",
    "}\n",
    "gsearch3 = GridSearchCV(estimator = XGBClassifier( learning_rate =0.1, n_estimators=140, max_depth=4,\n",
    " min_child_weight=6, gamma=0, subsample=0.8, colsample_bytree=0.8,\n",
    " objective= 'binary:logistic', nthread=4, scale_pos_weight=1,seed=27), \n",
    " param_grid = param_test3, scoring='roc_auc',n_jobs=4,iid=False, cv=5)\n",
    "gsearch3.fit(trainOneHot[predictors],trainOneHot[\"Stage\"])\n",
    "gsearch3.cv_results_, gsearch3.best_params_, gsearch3.best_score_"
   ]
  },
  {
   "cell_type": "code",
   "execution_count": 27,
   "metadata": {
    "scrolled": true
   },
   "outputs": [
    {
     "name": "stdout",
     "output_type": "stream",
     "text": [
      "\n",
      "Model Report\n",
      "Accuracy : 0.937\n",
      "AUC Score (Train): 0.984875\n"
     ]
    },
    {
     "data": {
      "image/png": "[encoded data removed]",
      "text/plain": [
       "<Figure size 432x288 with 1 Axes>"
      ]
     },
     "metadata": {
      "needs_background": "light"
     },
     "output_type": "display_data"
    }
   ],
   "source": [
    "xgb2 = XGBClassifier(\n",
    " learning_rate =0.1,\n",
    " n_estimators=1000,\n",
    " max_depth=4,\n",
    " min_child_weight=6,\n",
    " gamma=0,\n",
    " subsample=0.8,\n",
    " colsample_bytree=0.8,\n",
    " objective= 'binary:logistic',\n",
    " nthread=4,\n",
    " scale_pos_weight=1,\n",
    " seed=27)\n",
    "modelfit(xgb2, trainOneHot, predictors)"
   ]
  },
  {
   "cell_type": "code",
   "execution_count": 28,
   "metadata": {},
   "outputs": [],
   "source": [
    "#ganma = "
   ]
  },
  {
   "cell_type": "markdown",
   "metadata": {},
   "source": [
    "# Tune subsample and colsample_bytree"
   ]
  },
  {
   "cell_type": "code",
   "execution_count": 29,
   "metadata": {},
   "outputs": [
    {
     "name": "stderr",
     "output_type": "stream",
     "text": [
      "/home/leandro/anaconda3/lib/python3.8/site-packages/sklearn/model_selection/_search.py:847: FutureWarning: The parameter 'iid' is deprecated in 0.22 and will be removed in 0.24.\n",
      "  warnings.warn(\n"
     ]
    },
    {
     "data": {
      "text/plain": [
       "({'mean_fit_time': array([62.99115424, 60.12091546, 58.22143393, 52.73179669, 67.80670047,\n",
       "         66.32492476, 61.88831854, 60.08285098, 75.85054603, 70.66940017,\n",
       "         71.98304524, 66.67072258, 84.02731662, 80.22604828, 77.13516607,\n",
       "         70.84260254]),\n",
       "  'std_fit_time': array([1.832009  , 1.81984718, 0.58877355, 0.88712153, 1.06941085,\n",
       "         1.29528514, 1.43088815, 0.82110307, 3.54156035, 1.86358165,\n",
       "         1.97213115, 2.14123722, 2.50339354, 2.06109639, 3.34406751,\n",
       "         1.17805806]),\n",
       "  'mean_score_time': array([0.49489617, 0.4727387 , 0.4277813 , 0.49657817, 0.50345454,\n",
       "         0.49045014, 0.5177865 , 0.42477255, 0.47170796, 0.48692818,\n",
       "         0.59638162, 0.36915364, 0.40489745, 0.46925511, 0.40463886,\n",
       "         0.41007051]),\n",
       "  'std_score_time': array([0.13516727, 0.07608335, 0.11895938, 0.08300341, 0.08695011,\n",
       "         0.11380712, 0.13922373, 0.12152677, 0.10366522, 0.13616851,\n",
       "         0.0704909 , 0.08513556, 0.1517501 , 0.09663706, 0.10364408,\n",
       "         0.17026994]),\n",
       "  'param_colsample_bytree': masked_array(data=[0.6, 0.6, 0.6, 0.6, 0.7, 0.7, 0.7, 0.7, 0.8, 0.8, 0.8,\n",
       "                     0.8, 0.9, 0.9, 0.9, 0.9],\n",
       "               mask=[False, False, False, False, False, False, False, False,\n",
       "                     False, False, False, False, False, False, False, False],\n",
       "         fill_value='?',\n",
       "              dtype=object),\n",
       "  'param_subsample': masked_array(data=[0.6, 0.7, 0.8, 0.9, 0.6, 0.7, 0.8, 0.9, 0.6, 0.7, 0.8,\n",
       "                     0.9, 0.6, 0.7, 0.8, 0.9],\n",
       "               mask=[False, False, False, False, False, False, False, False,\n",
       "                     False, False, False, False, False, False, False, False],\n",
       "         fill_value='?',\n",
       "              dtype=object),\n",
       "  'params': [{'colsample_bytree': 0.6, 'subsample': 0.6},\n",
       "   {'colsample_bytree': 0.6, 'subsample': 0.7},\n",
       "   {'colsample_bytree': 0.6, 'subsample': 0.8},\n",
       "   {'colsample_bytree': 0.6, 'subsample': 0.9},\n",
       "   {'colsample_bytree': 0.7, 'subsample': 0.6},\n",
       "   {'colsample_bytree': 0.7, 'subsample': 0.7},\n",
       "   {'colsample_bytree': 0.7, 'subsample': 0.8},\n",
       "   {'colsample_bytree': 0.7, 'subsample': 0.9},\n",
       "   {'colsample_bytree': 0.8, 'subsample': 0.6},\n",
       "   {'colsample_bytree': 0.8, 'subsample': 0.7},\n",
       "   {'colsample_bytree': 0.8, 'subsample': 0.8},\n",
       "   {'colsample_bytree': 0.8, 'subsample': 0.9},\n",
       "   {'colsample_bytree': 0.9, 'subsample': 0.6},\n",
       "   {'colsample_bytree': 0.9, 'subsample': 0.7},\n",
       "   {'colsample_bytree': 0.9, 'subsample': 0.8},\n",
       "   {'colsample_bytree': 0.9, 'subsample': 0.9}],\n",
       "  'split0_test_score': array([0.90110316, 0.89321616, 0.88465027, 0.8922539 , 0.88688267,\n",
       "         0.89230713, 0.88947201, 0.88058623, 0.89070823, 0.89553676,\n",
       "         0.89707825, 0.88484387, 0.88692546, 0.88778596, 0.89442264,\n",
       "         0.86643723]),\n",
       "  'split1_test_score': array([0.78565026, 0.76741143, 0.74727334, 0.79774837, 0.77798115,\n",
       "         0.77868475, 0.73781414, 0.78456116, 0.75606394, 0.75732854,\n",
       "         0.73011159, 0.7605927 , 0.74000644, 0.77758207, 0.78299934,\n",
       "         0.796279  ]),\n",
       "  'split2_test_score': array([0.71858703, 0.74538035, 0.76410183, 0.78713321, 0.75393433,\n",
       "         0.73337   , 0.74324656, 0.77002526, 0.73225218, 0.76001603,\n",
       "         0.75300716, 0.72767014, 0.76399736, 0.72821338, 0.76731898,\n",
       "         0.75380322]),\n",
       "  'split3_test_score': array([0.86872921, 0.8682732 , 0.87072876, 0.87058564, 0.86415292,\n",
       "         0.86473899, 0.872242  , 0.87142453, 0.86809612, 0.87006694,\n",
       "         0.86907657, 0.87138848, 0.86278019, 0.86988099, 0.87094188,\n",
       "         0.87094762]),\n",
       "  'split4_test_score': array([0.91500452, 0.91747959, 0.91650063, 0.91524168, 0.91633034,\n",
       "         0.91333393, 0.9175219 , 0.91596676, 0.91594168, 0.91689138,\n",
       "         0.91711966, 0.91247303, 0.91951794, 0.91787033, 0.91721892,\n",
       "         0.91092781]),\n",
       "  'mean_test_score': array([0.83781483, 0.83835215, 0.83665097, 0.85259256, 0.83985628,\n",
       "         0.83648696, 0.83205932, 0.84451279, 0.83261243, 0.83996793,\n",
       "         0.83327865, 0.83139364, 0.83464548, 0.83626655, 0.84658035,\n",
       "         0.83967898]),\n",
       "  'std_test_score': array([0.07464016, 0.06905479, 0.06796019, 0.05121425, 0.06302572,\n",
       "         0.06898366, 0.07613748, 0.05705049, 0.07417524, 0.06801858,\n",
       "         0.07676998, 0.07321437, 0.07025069, 0.07150205, 0.06032758,\n",
       "         0.05661861]),\n",
       "  'rank_test_score': array([ 8,  7,  9,  1,  5, 10, 15,  3, 14,  4, 13, 16, 12, 11,  2,  6],\n",
       "        dtype=int32)},\n",
       " {'colsample_bytree': 0.6, 'subsample': 0.9},\n",
       " 0.8525925589364812)"
      ]
     },
     "execution_count": 29,
     "metadata": {},
     "output_type": "execute_result"
    }
   ],
   "source": [
    "param_test4 = {\n",
    " 'subsample':[i/10.0 for i in range(6,10)],\n",
    " 'colsample_bytree':[i/10.0 for i in range(6,10)]\n",
    "}\n",
    "gsearch4 = GridSearchCV(estimator = XGBClassifier( learning_rate =0.1, n_estimators=177, max_depth=4,\n",
    " min_child_weight=6, gamma=0, subsample=0.8, colsample_bytree=0.8,\n",
    " objective= 'binary:logistic', nthread=4, scale_pos_weight=1,seed=27), \n",
    " param_grid = param_test4, scoring='roc_auc',n_jobs=4,iid=False, cv=5)\n",
    "gsearch4.fit(trainOneHot[predictors],trainOneHot[\"Stage\"])\n",
    "gsearch4.cv_results_, gsearch4.best_params_, gsearch4.best_score_"
   ]
  },
  {
   "cell_type": "code",
   "execution_count": 30,
   "metadata": {
    "scrolled": false
   },
   "outputs": [
    {
     "name": "stderr",
     "output_type": "stream",
     "text": [
      "/home/leandro/anaconda3/lib/python3.8/site-packages/sklearn/model_selection/_search.py:847: FutureWarning: The parameter 'iid' is deprecated in 0.22 and will be removed in 0.24.\n",
      "  warnings.warn(\n"
     ]
    },
    {
     "data": {
      "text/plain": [
       "GridSearchCV(cv=5,\n",
       "             estimator=XGBClassifier(base_score=None, booster=None,\n",
       "                                     colsample_bylevel=None,\n",
       "                                     colsample_bynode=None,\n",
       "                                     colsample_bytree=0.8, gamma=0, gpu_id=None,\n",
       "                                     importance_type='gain',\n",
       "                                     interaction_constraints=None,\n",
       "                                     learning_rate=0.1, max_delta_step=None,\n",
       "                                     max_depth=4, min_child_weight=6,\n",
       "                                     missing=nan, monotone_constraints=None,\n",
       "                                     n_estimators=177, n_jobs=None, nthread=4,\n",
       "                                     num_parallel_tree=None, random_state=None,\n",
       "                                     reg_alpha=None, reg_lambda=None,\n",
       "                                     scale_pos_weight=1, seed=27, subsample=0.8,\n",
       "                                     tree_method=None, validate_parameters=None,\n",
       "                                     verbosity=None),\n",
       "             iid=False, n_jobs=4,\n",
       "             param_grid={'colsample_bytree': [0.75, 0.8, 0.85],\n",
       "                         'subsample': [0.75, 0.8, 0.85]},\n",
       "             scoring='roc_auc')"
      ]
     },
     "execution_count": 30,
     "metadata": {},
     "output_type": "execute_result"
    }
   ],
   "source": [
    "param_test5 = {\n",
    " 'subsample':[i/100.0 for i in range(75,90,5)],\n",
    " 'colsample_bytree':[i/100.0 for i in range(75,90,5)]\n",
    "}\n",
    "gsearch5 = GridSearchCV(estimator = XGBClassifier( learning_rate =0.1, n_estimators=177, max_depth=4,\n",
    " min_child_weight=6, gamma=0, subsample=0.8, colsample_bytree=0.8,\n",
    " objective= 'binary:logistic', nthread=4, scale_pos_weight=1,seed=27), \n",
    " param_grid = param_test5, scoring='roc_auc',n_jobs=4,iid=False, cv=5)\n",
    "gsearch5.fit(trainOneHot[predictors],trainOneHot[\"Stage\"])"
   ]
  },
  {
   "cell_type": "code",
   "execution_count": 31,
   "metadata": {},
   "outputs": [],
   "source": [
    "#{'colsample_bytree': , 'subsample': }, es la mejor score"
   ]
  },
  {
   "cell_type": "markdown",
   "metadata": {},
   "source": [
    "# Tuning Regularization Parameters"
   ]
  },
  {
   "cell_type": "code",
   "execution_count": 32,
   "metadata": {},
   "outputs": [
    {
     "name": "stderr",
     "output_type": "stream",
     "text": [
      "/home/leandro/anaconda3/lib/python3.8/site-packages/sklearn/model_selection/_search.py:847: FutureWarning: The parameter 'iid' is deprecated in 0.22 and will be removed in 0.24.\n",
      "  warnings.warn(\n"
     ]
    },
    {
     "data": {
      "text/plain": [
       "({'mean_fit_time': array([71.0434608 , 70.98661752, 71.79752979, 69.79212976, 38.88381948]),\n",
       "  'std_fit_time': array([ 0.78590964,  1.11221447,  1.68581809,  2.61765771, 12.09640263]),\n",
       "  'mean_score_time': array([0.4232223 , 0.43140473, 0.41525264, 0.46887393, 0.44503708]),\n",
       "  'std_score_time': array([0.13545908, 0.08079881, 0.11182705, 0.08209824, 0.18680446]),\n",
       "  'param_reg_alpha': masked_array(data=[1e-05, 0.01, 0.1, 1, 100],\n",
       "               mask=[False, False, False, False, False],\n",
       "         fill_value='?',\n",
       "              dtype=object),\n",
       "  'params': [{'reg_alpha': 1e-05},\n",
       "   {'reg_alpha': 0.01},\n",
       "   {'reg_alpha': 0.1},\n",
       "   {'reg_alpha': 1},\n",
       "   {'reg_alpha': 100}],\n",
       "  'split0_test_score': array([0.89752912, 0.90231694, 0.88885364, 0.8951099 , 0.86685418]),\n",
       "  'split1_test_score': array([0.73535545, 0.74816865, 0.71820571, 0.71703618, 0.86516575]),\n",
       "  'split2_test_score': array([0.77971221, 0.75873157, 0.78128761, 0.72308915, 0.81595899]),\n",
       "  'split3_test_score': array([0.87018761, 0.8712323 , 0.8730459 , 0.86789554, 0.82472713]),\n",
       "  'split4_test_score': array([0.91766556, 0.9165116 , 0.91708936, 0.91186027, 0.86274807]),\n",
       "  'mean_test_score': array([0.84008999, 0.83939221, 0.83569644, 0.82299821, 0.84709082]),\n",
       "  'std_test_score': array([0.07048105, 0.07176154, 0.07430998, 0.08523157, 0.02205343]),\n",
       "  'rank_test_score': array([2, 3, 4, 5, 1], dtype=int32)},\n",
       " {'reg_alpha': 100},\n",
       " 0.8470908227125402)"
      ]
     },
     "execution_count": 32,
     "metadata": {},
     "output_type": "execute_result"
    }
   ],
   "source": [
    "param_test6 = {\n",
    " 'reg_alpha':[1e-5, 1e-2, 0.1, 1, 100]\n",
    "}\n",
    "gsearch6 = GridSearchCV(estimator = XGBClassifier( learning_rate =0.1, n_estimators=177, max_depth=4,\n",
    " min_child_weight=6, gamma=0.1, subsample=0.8, colsample_bytree=0.8,\n",
    " objective= 'binary:logistic', nthread=4, scale_pos_weight=1,seed=27), \n",
    " param_grid = param_test6, scoring='roc_auc',n_jobs=4,iid=False, cv=5)\n",
    "gsearch6.fit(trainOneHot[predictors],trainOneHot[\"Stage\"])\n",
    "gsearch6.cv_results_, gsearch6.best_params_, gsearch6.best_score_"
   ]
  },
  {
   "cell_type": "code",
   "execution_count": 33,
   "metadata": {},
   "outputs": [
    {
     "name": "stderr",
     "output_type": "stream",
     "text": [
      "/home/leandro/anaconda3/lib/python3.8/site-packages/sklearn/model_selection/_search.py:847: FutureWarning: The parameter 'iid' is deprecated in 0.22 and will be removed in 0.24.\n",
      "  warnings.warn(\n"
     ]
    },
    {
     "data": {
      "text/plain": [
       "({'mean_fit_time': array([41.90506659, 40.13065605, 38.41924033, 38.53042855, 32.95024104]),\n",
       "  'std_fit_time': array([0.91073306, 0.62318355, 0.87808526, 0.64782622, 9.76521721]),\n",
       "  'mean_score_time': array([0.38723025, 0.43902669, 0.36554475, 0.35836239, 0.37911935]),\n",
       "  'std_score_time': array([0.10127257, 0.15219011, 0.06740683, 0.08562836, 0.14529811]),\n",
       "  'param_reg_alpha': masked_array(data=[110, 120, 130, 140, 150],\n",
       "               mask=[False, False, False, False, False],\n",
       "         fill_value='?',\n",
       "              dtype=object),\n",
       "  'params': [{'reg_alpha': 110},\n",
       "   {'reg_alpha': 120},\n",
       "   {'reg_alpha': 130},\n",
       "   {'reg_alpha': 140},\n",
       "   {'reg_alpha': 150}],\n",
       "  'split0_test_score': array([0.86592688, 0.86058591, 0.85678853, 0.85597499, 0.85458326]),\n",
       "  'split1_test_score': array([0.86238581, 0.85558119, 0.85643993, 0.85035718, 0.85051545]),\n",
       "  'split2_test_score': array([0.81720845, 0.81419136, 0.81157858, 0.81085669, 0.81211764]),\n",
       "  'split3_test_score': array([0.8183409 , 0.81518591, 0.81201996, 0.80978066, 0.80740345]),\n",
       "  'split4_test_score': array([0.86127964, 0.86324434, 0.86197807, 0.86163329, 0.86085598]),\n",
       "  'mean_test_score': array([0.84502834, 0.84175774, 0.83976101, 0.83772056, 0.83709516]),\n",
       "  'std_test_score': array([0.0223083 , 0.02224063, 0.02291522, 0.02265848, 0.02260968]),\n",
       "  'rank_test_score': array([1, 2, 3, 4, 5], dtype=int32)},\n",
       " {'reg_alpha': 100},\n",
       " 0.8470908227125402)"
      ]
     },
     "execution_count": 33,
     "metadata": {},
     "output_type": "execute_result"
    }
   ],
   "source": [
    "param_test6b = {\n",
    " 'reg_alpha':[110, 120, 130,140,150]\n",
    "}\n",
    "gsearch6b = GridSearchCV(estimator = XGBClassifier( learning_rate =0.1, n_estimators=177, max_depth=4,\n",
    " min_child_weight=6, gamma=0.1, subsample=0.8, colsample_bytree=0.8,\n",
    " objective= 'binary:logistic', nthread=4, scale_pos_weight=1,seed=27), \n",
    " param_grid = param_test6b, scoring='roc_auc',n_jobs=4,iid=False, cv=5)\n",
    "gsearch6b.fit(trainOneHot[predictors],trainOneHot[\"Stage\"])\n",
    "gsearch6b.cv_results_, gsearch6.best_params_, gsearch6.best_score_"
   ]
  },
  {
   "cell_type": "code",
   "execution_count": 34,
   "metadata": {},
   "outputs": [
    {
     "name": "stderr",
     "output_type": "stream",
     "text": [
      "/home/leandro/anaconda3/lib/python3.8/site-packages/sklearn/model_selection/_search.py:847: FutureWarning: The parameter 'iid' is deprecated in 0.22 and will be removed in 0.24.\n",
      "  warnings.warn(\n"
     ]
    },
    {
     "data": {
      "text/plain": [
       "({'mean_fit_time': array([ 87.26368732, 123.74046702, 122.19429712, 127.21577592,\n",
       "         116.83480229]),\n",
       "  'std_fit_time': array([17.10048876,  1.32168341,  2.90931842,  3.48326693, 34.57268717]),\n",
       "  'mean_score_time': array([1.01076603, 0.78933091, 0.76022072, 1.09241471, 0.74588227]),\n",
       "  'std_score_time': array([0.2388436 , 0.19991581, 0.19285249, 0.1775649 , 0.39192284]),\n",
       "  'param_reg_alpha': masked_array(data=[0, 0.001, 0.005, 0.01, 0.05],\n",
       "               mask=[False, False, False, False, False],\n",
       "         fill_value='?',\n",
       "              dtype=object),\n",
       "  'params': [{'reg_alpha': 0},\n",
       "   {'reg_alpha': 0.001},\n",
       "   {'reg_alpha': 0.005},\n",
       "   {'reg_alpha': 0.01},\n",
       "   {'reg_alpha': 0.05}],\n",
       "  'split0_test_score': array([0.89752912, 0.89752807, 0.9011089 , 0.90231694, 0.89367694]),\n",
       "  'split1_test_score': array([0.73535545, 0.73534605, 0.75930877, 0.74816865, 0.70851093]),\n",
       "  'split2_test_score': array([0.77971221, 0.77971639, 0.75871695, 0.75873157, 0.76290409]),\n",
       "  'split3_test_score': array([0.87018761, 0.8701103 , 0.87009985, 0.8712323 , 0.87224723]),\n",
       "  'split4_test_score': array([0.91766556, 0.91766556, 0.91778153, 0.9165116 , 0.91693892]),\n",
       "  'mean_test_score': array([0.84008999, 0.84007327, 0.8414032 , 0.83939221, 0.83085562]),\n",
       "  'std_test_score': array([0.07048105, 0.07047636, 0.06899048, 0.07176154, 0.08081553]),\n",
       "  'rank_test_score': array([2, 3, 1, 4, 5], dtype=int32)},\n",
       " {'reg_alpha': 0.005},\n",
       " 0.8414031975417069)"
      ]
     },
     "execution_count": 34,
     "metadata": {},
     "output_type": "execute_result"
    }
   ],
   "source": [
    "param_test7 = {\n",
    " 'reg_alpha':[0, 0.001, 0.005, 0.01, 0.05]\n",
    "}\n",
    "gsearch7 = GridSearchCV(estimator = XGBClassifier( learning_rate =0.1, n_estimators=177, max_depth=4,\n",
    " min_child_weight=6, gamma=0.1, subsample=0.8, colsample_bytree=0.8,\n",
    " objective= 'binary:logistic', nthread=4, scale_pos_weight=1,seed=27), \n",
    " param_grid = param_test7, scoring='roc_auc',n_jobs=4,iid=False, cv=5)\n",
    "gsearch7.fit(trainOneHot[predictors],trainOneHot[\"Stage\"])\n",
    "gsearch7.cv_results_, gsearch7.best_params_, gsearch7.best_score_"
   ]
  },
  {
   "cell_type": "code",
   "execution_count": 35,
   "metadata": {
    "scrolled": true
   },
   "outputs": [
    {
     "name": "stdout",
     "output_type": "stream",
     "text": [
      "\n",
      "Model Report\n",
      "Accuracy : 0.9179\n",
      "AUC Score (Train): 0.975433\n"
     ]
    },
    {
     "data": {
      "image/png": "[encoded data removed]",
      "text/plain": [
       "<Figure size 432x288 with 1 Axes>"
      ]
     },
     "metadata": {
      "needs_background": "light"
     },
     "output_type": "display_data"
    }
   ],
   "source": [
    "xgb3 = XGBClassifier(\n",
    " learning_rate =0.1,\n",
    " n_estimators=1000,\n",
    " max_depth=3,\n",
    " min_child_weight=6,\n",
    " gamma=0,\n",
    " subsample=0.8,\n",
    " colsample_bytree=0.8,\n",
    " reg_alpha=0.005,\n",
    " objective= 'binary:logistic',\n",
    " nthread=4,\n",
    " scale_pos_weight=1,\n",
    " seed=27)\n",
    "modelfit(xgb3, trainOneHot, predictors)"
   ]
  },
  {
   "cell_type": "code",
   "execution_count": 36,
   "metadata": {},
   "outputs": [],
   "source": [
    "#Con reg_alpha =  mando el mejor score"
   ]
  },
  {
   "cell_type": "markdown",
   "metadata": {},
   "source": [
    "# Reducing Learning Rate"
   ]
  },
  {
   "cell_type": "code",
   "execution_count": 37,
   "metadata": {},
   "outputs": [
    {
     "name": "stdout",
     "output_type": "stream",
     "text": [
      "\n",
      "Model Report\n",
      "Accuracy : 0.8113\n",
      "AUC Score (Train): 0.883244\n"
     ]
    },
    {
     "data": {
      "image/png": "[encoded data removed]",
      "text/plain": [
       "<Figure size 432x288 with 1 Axes>"
      ]
     },
     "metadata": {
      "needs_background": "light"
     },
     "output_type": "display_data"
    }
   ],
   "source": [
    "xgb4 = XGBClassifier(\n",
    " learning_rate =0.01,\n",
    " n_estimators=5000,\n",
    " max_depth=4,\n",
    " min_child_weight=5,\n",
    " gamma=0.3,\n",
    " subsample=0.7,\n",
    " colsample_bytree=0.7,\n",
    " reg_alpha=100,\n",
    " objective= 'binary:logistic',\n",
    " nthread=4,\n",
    " scale_pos_weight=1,\n",
    " seed=27)\n",
    "modelfit(xgb4, trainOneHot, predictors)"
   ]
  },
  {
   "cell_type": "code",
   "execution_count": 38,
   "metadata": {},
   "outputs": [
    {
     "data": {
      "text/plain": [
       "array([[0.4100098 , 0.5899902 ],\n",
       "       [0.39756727, 0.6024327 ],\n",
       "       [0.2714389 , 0.7285611 ],\n",
       "       ...,\n",
       "       [0.6424462 , 0.35755378],\n",
       "       [0.4043973 , 0.5956027 ],\n",
       "       [0.879264  , 0.12073597]], dtype=float32)"
      ]
     },
     "execution_count": 38,
     "metadata": {},
     "output_type": "execute_result"
    }
   ],
   "source": [
    "prediccion = xgb4.predict_proba(testOneHot)\n",
    "prediccion"
   ]
  },
  {
   "cell_type": "code",
   "execution_count": 39,
   "metadata": {},
   "outputs": [
    {
     "data": {
      "text/html": [
       "<div>\n",
       "<style scoped>\n",
       "    .dataframe tbody tr th:only-of-type {\n",
       "        vertical-align: middle;\n",
       "    }\n",
       "\n",
       "    .dataframe tbody tr th {\n",
       "        vertical-align: top;\n",
       "    }\n",
       "\n",
       "    .dataframe thead th {\n",
       "        text-align: right;\n",
       "    }\n",
       "</style>\n",
       "<table border=\"1\" class=\"dataframe\">\n",
       "  <thead>\n",
       "    <tr style=\"text-align: right;\">\n",
       "      <th></th>\n",
       "      <th>Opportunity_ID</th>\n",
       "      <th>Target</th>\n",
       "    </tr>\n",
       "  </thead>\n",
       "  <tbody>\n",
       "    <tr>\n",
       "      <th>0</th>\n",
       "      <td>10689</td>\n",
       "      <td>0.589990</td>\n",
       "    </tr>\n",
       "    <tr>\n",
       "      <th>1</th>\n",
       "      <td>10690</td>\n",
       "      <td>0.602433</td>\n",
       "    </tr>\n",
       "    <tr>\n",
       "      <th>2</th>\n",
       "      <td>10691</td>\n",
       "      <td>0.728561</td>\n",
       "    </tr>\n",
       "    <tr>\n",
       "      <th>3</th>\n",
       "      <td>10692</td>\n",
       "      <td>0.459715</td>\n",
       "    </tr>\n",
       "    <tr>\n",
       "      <th>4</th>\n",
       "      <td>10693</td>\n",
       "      <td>0.788118</td>\n",
       "    </tr>\n",
       "    <tr>\n",
       "      <th>...</th>\n",
       "      <td>...</td>\n",
       "      <td>...</td>\n",
       "    </tr>\n",
       "    <tr>\n",
       "      <th>1562</th>\n",
       "      <td>12364</td>\n",
       "      <td>0.752267</td>\n",
       "    </tr>\n",
       "    <tr>\n",
       "      <th>1563</th>\n",
       "      <td>12365</td>\n",
       "      <td>0.467349</td>\n",
       "    </tr>\n",
       "    <tr>\n",
       "      <th>1564</th>\n",
       "      <td>12366</td>\n",
       "      <td>0.357554</td>\n",
       "    </tr>\n",
       "    <tr>\n",
       "      <th>1565</th>\n",
       "      <td>12367</td>\n",
       "      <td>0.595603</td>\n",
       "    </tr>\n",
       "    <tr>\n",
       "      <th>1566</th>\n",
       "      <td>12368</td>\n",
       "      <td>0.120736</td>\n",
       "    </tr>\n",
       "  </tbody>\n",
       "</table>\n",
       "<p>1567 rows × 2 columns</p>\n",
       "</div>"
      ],
      "text/plain": [
       "      Opportunity_ID    Target\n",
       "0              10689  0.589990\n",
       "1              10690  0.602433\n",
       "2              10691  0.728561\n",
       "3              10692  0.459715\n",
       "4              10693  0.788118\n",
       "...              ...       ...\n",
       "1562           12364  0.752267\n",
       "1563           12365  0.467349\n",
       "1564           12366  0.357554\n",
       "1565           12367  0.595603\n",
       "1566           12368  0.120736\n",
       "\n",
       "[1567 rows x 2 columns]"
      ]
     },
     "execution_count": 39,
     "metadata": {},
     "output_type": "execute_result"
    }
   ],
   "source": [
    "output = pd.DataFrame({'Opportunity_ID':testOneHot.Opportunity_ID, 'Target': prediccion[:,1]}) \n",
    "output"
   ]
  },
  {
   "cell_type": "code",
   "execution_count": 40,
   "metadata": {},
   "outputs": [
    {
     "data": {
      "text/html": [
       "<div>\n",
       "<style scoped>\n",
       "    .dataframe tbody tr th:only-of-type {\n",
       "        vertical-align: middle;\n",
       "    }\n",
       "\n",
       "    .dataframe tbody tr th {\n",
       "        vertical-align: top;\n",
       "    }\n",
       "\n",
       "    .dataframe thead th {\n",
       "        text-align: right;\n",
       "    }\n",
       "</style>\n",
       "<table border=\"1\" class=\"dataframe\">\n",
       "  <thead>\n",
       "    <tr style=\"text-align: right;\">\n",
       "      <th></th>\n",
       "      <th>Target</th>\n",
       "    </tr>\n",
       "    <tr>\n",
       "      <th>Opportunity_ID</th>\n",
       "      <th></th>\n",
       "    </tr>\n",
       "  </thead>\n",
       "  <tbody>\n",
       "    <tr>\n",
       "      <th>10689</th>\n",
       "      <td>0.589990</td>\n",
       "    </tr>\n",
       "    <tr>\n",
       "      <th>10690</th>\n",
       "      <td>0.602433</td>\n",
       "    </tr>\n",
       "    <tr>\n",
       "      <th>10691</th>\n",
       "      <td>0.728561</td>\n",
       "    </tr>\n",
       "    <tr>\n",
       "      <th>10692</th>\n",
       "      <td>0.459715</td>\n",
       "    </tr>\n",
       "    <tr>\n",
       "      <th>10693</th>\n",
       "      <td>0.788118</td>\n",
       "    </tr>\n",
       "    <tr>\n",
       "      <th>...</th>\n",
       "      <td>...</td>\n",
       "    </tr>\n",
       "    <tr>\n",
       "      <th>12364</th>\n",
       "      <td>0.752267</td>\n",
       "    </tr>\n",
       "    <tr>\n",
       "      <th>12365</th>\n",
       "      <td>0.467349</td>\n",
       "    </tr>\n",
       "    <tr>\n",
       "      <th>12366</th>\n",
       "      <td>0.357554</td>\n",
       "    </tr>\n",
       "    <tr>\n",
       "      <th>12367</th>\n",
       "      <td>0.595603</td>\n",
       "    </tr>\n",
       "    <tr>\n",
       "      <th>12368</th>\n",
       "      <td>0.120736</td>\n",
       "    </tr>\n",
       "  </tbody>\n",
       "</table>\n",
       "<p>1567 rows × 1 columns</p>\n",
       "</div>"
      ],
      "text/plain": [
       "                  Target\n",
       "Opportunity_ID          \n",
       "10689           0.589990\n",
       "10690           0.602433\n",
       "10691           0.728561\n",
       "10692           0.459715\n",
       "10693           0.788118\n",
       "...                  ...\n",
       "12364           0.752267\n",
       "12365           0.467349\n",
       "12366           0.357554\n",
       "12367           0.595603\n",
       "12368           0.120736\n",
       "\n",
       "[1567 rows x 1 columns]"
      ]
     },
     "execution_count": 40,
     "metadata": {},
     "output_type": "execute_result"
    }
   ],
   "source": [
    "final=output.groupby('Opportunity_ID').max()\n",
    "final"
   ]
  },
  {
   "cell_type": "code",
   "execution_count": 42,
   "metadata": {},
   "outputs": [],
   "source": [
    "final.to_csv('/home/leandro/Documentos/Organizacion de datos/Fiuba-Big-Data-Analytics-TPs/Tp 2/Resultados/XGBoostScoreArchivosPesados.csv')"
   ]
  },
  {
   "cell_type": "code",
   "execution_count": null,
   "metadata": {},
   "outputs": [],
   "source": []
  }
 ],
 "metadata": {
  "kernelspec": {
   "display_name": "Python 3",
   "language": "python",
   "name": "python3"
  }
 },
 "nbformat": 4,
 "nbformat_minor": 4
}
