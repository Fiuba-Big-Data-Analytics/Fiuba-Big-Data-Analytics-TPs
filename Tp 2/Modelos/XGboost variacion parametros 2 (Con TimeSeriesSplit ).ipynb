{
 "cells": [
  {
   "cell_type": "code",
   "execution_count": 7,
   "metadata": {},
   "outputs": [],
   "source": [
    "import pandas as pd\n",
    "import numpy as np\n",
    "import matplotlib.pyplot as plt\n",
    "from matplotlib.colors import ListedColormap\n",
    "import matplotlib.patches as mpatches\n",
    "import seaborn as sb\n",
    "\n",
    "from sklearn.preprocessing import OneHotEncoder\n",
    "from sklearn.ensemble import RandomForestRegressor\n",
    "from sklearn.metrics import mean_squared_error\n",
    "from sklearn import tree\n",
    "\n",
    "import xgboost as xgb\n",
    "from xgboost.sklearn import XGBClassifier\n",
    "from sklearn.model_selection import cross_validate\n",
    "from sklearn import  metrics   #Additional scklearn functions\n",
    "from sklearn.model_selection import GridSearchCV  #Perforing grid search\n",
    "\n",
    "from sklearn.model_selection import TimeSeriesSplit\n",
    "\n",
    "import matplotlib.pylab as plt"
   ]
  },
  {
   "cell_type": "code",
   "execution_count": 8,
   "metadata": {},
   "outputs": [],
   "source": [
    "test = pd.read_csv('/home/leandro/Documentos/Organizacion de datos/Datos Pesados/210301_feng_Test_TP2_Datos_2020-2C.csv')\n",
    "train = pd.read_csv('/home/leandro/Documentos/Organizacion de datos/Datos Pesados/210301_feng_Train_TP2_Datos_2020-2C.csv')\n",
    "\n",
    "\n",
    "test = test.drop(columns =\"Unnamed: 0\")\n",
    "train = train.drop(columns =\"Unnamed: 0\")"
   ]
  },
  {
   "cell_type": "code",
   "execution_count": 9,
   "metadata": {},
   "outputs": [],
   "source": [
    "tscv = TimeSeriesSplit(n_splits=5)"
   ]
  },
  {
   "cell_type": "code",
   "execution_count": 10,
   "metadata": {},
   "outputs": [],
   "source": [
    "from sklearn.model_selection import train_test_split\n",
    "\n",
    "X_train, X_test, y_train, y_test = \\\n",
    "    train_test_split(train.drop(columns = 'Stage'), train['Stage'], test_size=0.2)\n"
   ]
  },
  {
   "cell_type": "code",
   "execution_count": 11,
   "metadata": {},
   "outputs": [
    {
     "name": "stdout",
     "output_type": "stream",
     "text": [
      "RMSE: 0.336472\n"
     ]
    },
    {
     "data": {
      "text/plain": [
       "0.5468159738812352"
      ]
     },
     "execution_count": 11,
     "metadata": {},
     "output_type": "execute_result"
    }
   ],
   "source": [
    "xg_reg = xgb.XGBRegressor(\n",
    "                colsample_bytree = 0.3, learning_rate = 0.1,\n",
    "                max_depth = 50, alpha = 25, n_estimators = 100)\n",
    "\n",
    "\n",
    "xg_reg.fit(X_train,y_train)\n",
    "\n",
    "\n",
    "\n",
    "preds = xg_reg.predict(X_test)\n",
    "rmse = np.sqrt(mean_squared_error(y_test, preds))\n",
    "print(\"RMSE: %f\" % (rmse))\n",
    "\n",
    "xg_reg.score(X_test,y_test)"
   ]
  },
  {
   "cell_type": "code",
   "execution_count": 6,
   "metadata": {},
   "outputs": [
    {
     "name": "stdout",
     "output_type": "stream",
     "text": [
      "RMSE: 0.327910\n"
     ]
    },
    {
     "data": {
      "text/plain": [
       "0.5693024482871605"
      ]
     },
     "execution_count": 6,
     "metadata": {},
     "output_type": "execute_result"
    }
   ],
   "source": [
    "xg_reg = xgb.XGBRegressor(max_depth = 5,min_child_weight = 1,gamma = 0,subsample = 0.8\n",
    "                          , colsample_bytree = 0.8,scale_pos_weight = 1 )\n",
    "\n",
    "\n",
    "xg_reg.fit(X_train,y_train)\n",
    "\n",
    "\n",
    "\n",
    "preds = xg_reg.predict(X_test)\n",
    "rmse = np.sqrt(mean_squared_error(y_test, preds))\n",
    "print(\"RMSE: %f\" % (rmse))\n",
    "xg_reg.score(X_test,y_test)"
   ]
  },
  {
   "cell_type": "code",
   "execution_count": 7,
   "metadata": {},
   "outputs": [],
   "source": [
    "def modelfit(alg, dtrain, predictors,useTrainCV=True, cv_folds=5, early_stopping_rounds=50):\n",
    "    \n",
    "    if useTrainCV:\n",
    "        xgb_param = alg.get_xgb_params()\n",
    "        xgtrain = xgb.DMatrix(dtrain[predictors].values, label=dtrain[\"Stage\"].values)\n",
    "        cvresult = xgb.cv(xgb_param, xgtrain, num_boost_round=alg.get_params()['n_estimators'], nfold=cv_folds,\n",
    "            metrics='auc', early_stopping_rounds=early_stopping_rounds)#, show_progress=False)\n",
    "        alg.set_params(n_estimators=cvresult.shape[0])\n",
    "    \n",
    "    #Fit the algorithm on the data\n",
    "    alg.fit(dtrain[predictors], dtrain['Stage'],eval_metric='auc')\n",
    "        \n",
    "    #Predict training set:\n",
    "    dtrain_predictions = alg.predict(dtrain[predictors])\n",
    "    dtrain_predprob = alg.predict_proba(dtrain[predictors])[:,1]\n",
    "        \n",
    "    #Print model report:\n",
    "    print(\"\\nModel Report\")\n",
    "    print( \"Accuracy : %.4g\" % metrics.accuracy_score(dtrain['Stage'].values, dtrain_predictions))\n",
    "    print( \"AUC Score (Train): %f\" % metrics.roc_auc_score(dtrain['Stage'], dtrain_predprob))\n",
    "                    \n",
    "    feat_imp = pd.Series(alg.get_booster().get_score(importance_type='gain')).sort_values(ascending=False)\n",
    "    feat_imp.drop('Opportunity_ID').head(10).plot(kind='bar', title='Feature Importances')\n",
    "    plt.ylabel('Feature Importance Score')"
   ]
  },
  {
   "cell_type": "code",
   "execution_count": 16,
   "metadata": {},
   "outputs": [],
   "source": [
    "predictors = [x for x in train.columns if x not in [\"Stage\"]]\n",
    "xgb1 = XGBClassifier(\n",
    " learning_rate =0.1,\n",
    " n_estimators=1000,\n",
    " max_depth=5,\n",
    " min_child_weight=1,\n",
    " gamma=0,\n",
    " subsample=0.8,\n",
    " colsample_bytree=0.8,\n",
    " objective= 'binary:logistic',\n",
    " nthread=4,\n",
    " scale_pos_weight=1,\n",
    " seed=27)"
   ]
  },
  {
   "cell_type": "code",
   "execution_count": 9,
   "metadata": {},
   "outputs": [
    {
     "name": "stdout",
     "output_type": "stream",
     "text": [
      "\n",
      "Model Report\n",
      "Accuracy : 0.9679\n",
      "AUC Score (Train): 0.995247\n"
     ]
    },
    {
     "data": {
      "image/png": "[encoded data removed]",
      "text/plain": [
       "<Figure size 432x288 with 1 Axes>"
      ]
     },
     "metadata": {
      "needs_background": "light"
     },
     "output_type": "display_data"
    }
   ],
   "source": [
    "modelfit(xgb1, train, predictors)"
   ]
  },
  {
   "cell_type": "markdown",
   "metadata": {},
   "source": [
    "# Tune max_depth and min_child_weight"
   ]
  },
  {
   "cell_type": "code",
   "execution_count": 10,
   "metadata": {},
   "outputs": [
    {
     "name": "stderr",
     "output_type": "stream",
     "text": [
      "/home/leandro/anaconda3/lib/python3.8/site-packages/sklearn/model_selection/_search.py:847: FutureWarning: The parameter 'iid' is deprecated in 0.22 and will be removed in 0.24.\n",
      "  warnings.warn(\n"
     ]
    },
    {
     "data": {
      "text/plain": [
       "({'mean_fit_time': array([28.27448401, 30.74937596, 31.69891105, 45.49398417, 45.26857963,\n",
       "         47.0631865 , 63.13810883, 64.64093561, 63.33855066, 80.14882269,\n",
       "         79.47482791, 64.86369042]),\n",
       "  'std_fit_time': array([11.64518465, 12.07749666, 11.67819096, 15.36393446, 16.84882205,\n",
       "         18.52892491, 23.50540986, 22.50279897, 23.1685656 , 29.14597641,\n",
       "         31.16846409, 15.49092465]),\n",
       "  'mean_score_time': array([0.49546251, 0.54378543, 0.47485938, 0.5444993 , 0.4249351 ,\n",
       "         0.58110027, 0.4727921 , 0.48723679, 0.47462783, 0.47030253,\n",
       "         0.42838244, 0.4140624 ]),\n",
       "  'std_score_time': array([0.10802081, 0.12210822, 0.15865275, 0.19847616, 0.16396382,\n",
       "         0.12169405, 0.01898817, 0.06809642, 0.12525112, 0.14240303,\n",
       "         0.09427904, 0.19401931]),\n",
       "  'param_max_depth': masked_array(data=[3, 3, 3, 5, 5, 5, 7, 7, 7, 9, 9, 9],\n",
       "               mask=[False, False, False, False, False, False, False, False,\n",
       "                     False, False, False, False],\n",
       "         fill_value='?',\n",
       "              dtype=object),\n",
       "  'param_min_child_weight': masked_array(data=[1, 3, 5, 1, 3, 5, 1, 3, 5, 1, 3, 5],\n",
       "               mask=[False, False, False, False, False, False, False, False,\n",
       "                     False, False, False, False],\n",
       "         fill_value='?',\n",
       "              dtype=object),\n",
       "  'params': [{'max_depth': 3, 'min_child_weight': 1},\n",
       "   {'max_depth': 3, 'min_child_weight': 3},\n",
       "   {'max_depth': 3, 'min_child_weight': 5},\n",
       "   {'max_depth': 5, 'min_child_weight': 1},\n",
       "   {'max_depth': 5, 'min_child_weight': 3},\n",
       "   {'max_depth': 5, 'min_child_weight': 5},\n",
       "   {'max_depth': 7, 'min_child_weight': 1},\n",
       "   {'max_depth': 7, 'min_child_weight': 3},\n",
       "   {'max_depth': 7, 'min_child_weight': 5},\n",
       "   {'max_depth': 9, 'min_child_weight': 1},\n",
       "   {'max_depth': 9, 'min_child_weight': 3},\n",
       "   {'max_depth': 9, 'min_child_weight': 5}],\n",
       "  'split0_test_score': array([0.92140745, 0.91994962, 0.9183417 , 0.92394452, 0.91881382,\n",
       "         0.91896768, 0.91829193, 0.91770367, 0.91630541, 0.92206586,\n",
       "         0.9217672 , 0.91474878]),\n",
       "  'split1_test_score': array([0.87234513, 0.87216701, 0.86831414, 0.87179862, 0.86100331,\n",
       "         0.86015057, 0.86790179, 0.86132394, 0.86303548, 0.8676941 ,\n",
       "         0.86266104, 0.86435211]),\n",
       "  'split2_test_score': array([0.81347718, 0.8138388 , 0.8114971 , 0.82530319, 0.82160944,\n",
       "         0.81570065, 0.82778924, 0.82434655, 0.8155256 , 0.82579534,\n",
       "         0.82280716, 0.82272885]),\n",
       "  'split3_test_score': array([0.89333291, 0.89280168, 0.89203041, 0.89753013, 0.89060525,\n",
       "         0.88751565, 0.90024049, 0.89005671, 0.87991958, 0.89757076,\n",
       "         0.8926858 , 0.8787164 ]),\n",
       "  'split4_test_score': array([0.91831056, 0.91737399, 0.91602947, 0.91828643, 0.9192788 ,\n",
       "         0.91431092, 0.91532214, 0.91598347, 0.91579193, 0.9137514 ,\n",
       "         0.91333816, 0.91393464]),\n",
       "  'mean_test_score': array([0.88377465, 0.88322622, 0.88124256, 0.88737258, 0.88226212,\n",
       "         0.87932909, 0.88590912, 0.88188287, 0.8781156 , 0.88537549,\n",
       "         0.88265187, 0.87889616]),\n",
       "  'std_test_score': array([0.03942762, 0.03884144, 0.03933046, 0.03603195, 0.03716599,\n",
       "         0.03815327, 0.03412138, 0.03534371, 0.03748637, 0.03510705,\n",
       "         0.0362032 , 0.0342912 ]),\n",
       "  'rank_test_score': array([ 4,  5,  9,  1,  7, 10,  2,  8, 12,  3,  6, 11], dtype=int32)},\n",
       " {'max_depth': 5, 'min_child_weight': 1},\n",
       " 0.8873725793861589)"
      ]
     },
     "execution_count": 10,
     "metadata": {},
     "output_type": "execute_result"
    }
   ],
   "source": [
    "param_test1 = {\n",
    " 'max_depth':range(3,10,2),\n",
    " 'min_child_weight':range(1,6,2)\n",
    "}\n",
    "gsearch1 = GridSearchCV(estimator = XGBClassifier( learning_rate =0.1, n_estimators=140, max_depth=5,\n",
    " min_child_weight=1, gamma=0, subsample=0.8, colsample_bytree=0.8,\n",
    " objective= 'binary:logistic', nthread=4, scale_pos_weight=1, seed=27), \n",
    " param_grid = param_test1, scoring='roc_auc',n_jobs=4,iid=False, cv=tscv)\n",
    "gsearch1.fit(train[predictors],train[\"Stage\"])\n",
    "\n",
    "gsearch1.cv_results_, gsearch1.best_params_, gsearch1.best_score_"
   ]
  },
  {
   "cell_type": "code",
   "execution_count": 11,
   "metadata": {},
   "outputs": [
    {
     "data": {
      "text/plain": [
       "({'mean_fit_time': array([28.27448401, 30.74937596, 31.69891105, 45.49398417, 45.26857963,\n",
       "         47.0631865 , 63.13810883, 64.64093561, 63.33855066, 80.14882269,\n",
       "         79.47482791, 64.86369042]),\n",
       "  'std_fit_time': array([11.64518465, 12.07749666, 11.67819096, 15.36393446, 16.84882205,\n",
       "         18.52892491, 23.50540986, 22.50279897, 23.1685656 , 29.14597641,\n",
       "         31.16846409, 15.49092465]),\n",
       "  'mean_score_time': array([0.49546251, 0.54378543, 0.47485938, 0.5444993 , 0.4249351 ,\n",
       "         0.58110027, 0.4727921 , 0.48723679, 0.47462783, 0.47030253,\n",
       "         0.42838244, 0.4140624 ]),\n",
       "  'std_score_time': array([0.10802081, 0.12210822, 0.15865275, 0.19847616, 0.16396382,\n",
       "         0.12169405, 0.01898817, 0.06809642, 0.12525112, 0.14240303,\n",
       "         0.09427904, 0.19401931]),\n",
       "  'param_max_depth': masked_array(data=[3, 3, 3, 5, 5, 5, 7, 7, 7, 9, 9, 9],\n",
       "               mask=[False, False, False, False, False, False, False, False,\n",
       "                     False, False, False, False],\n",
       "         fill_value='?',\n",
       "              dtype=object),\n",
       "  'param_min_child_weight': masked_array(data=[1, 3, 5, 1, 3, 5, 1, 3, 5, 1, 3, 5],\n",
       "               mask=[False, False, False, False, False, False, False, False,\n",
       "                     False, False, False, False],\n",
       "         fill_value='?',\n",
       "              dtype=object),\n",
       "  'params': [{'max_depth': 3, 'min_child_weight': 1},\n",
       "   {'max_depth': 3, 'min_child_weight': 3},\n",
       "   {'max_depth': 3, 'min_child_weight': 5},\n",
       "   {'max_depth': 5, 'min_child_weight': 1},\n",
       "   {'max_depth': 5, 'min_child_weight': 3},\n",
       "   {'max_depth': 5, 'min_child_weight': 5},\n",
       "   {'max_depth': 7, 'min_child_weight': 1},\n",
       "   {'max_depth': 7, 'min_child_weight': 3},\n",
       "   {'max_depth': 7, 'min_child_weight': 5},\n",
       "   {'max_depth': 9, 'min_child_weight': 1},\n",
       "   {'max_depth': 9, 'min_child_weight': 3},\n",
       "   {'max_depth': 9, 'min_child_weight': 5}],\n",
       "  'split0_test_score': array([0.92140745, 0.91994962, 0.9183417 , 0.92394452, 0.91881382,\n",
       "         0.91896768, 0.91829193, 0.91770367, 0.91630541, 0.92206586,\n",
       "         0.9217672 , 0.91474878]),\n",
       "  'split1_test_score': array([0.87234513, 0.87216701, 0.86831414, 0.87179862, 0.86100331,\n",
       "         0.86015057, 0.86790179, 0.86132394, 0.86303548, 0.8676941 ,\n",
       "         0.86266104, 0.86435211]),\n",
       "  'split2_test_score': array([0.81347718, 0.8138388 , 0.8114971 , 0.82530319, 0.82160944,\n",
       "         0.81570065, 0.82778924, 0.82434655, 0.8155256 , 0.82579534,\n",
       "         0.82280716, 0.82272885]),\n",
       "  'split3_test_score': array([0.89333291, 0.89280168, 0.89203041, 0.89753013, 0.89060525,\n",
       "         0.88751565, 0.90024049, 0.89005671, 0.87991958, 0.89757076,\n",
       "         0.8926858 , 0.8787164 ]),\n",
       "  'split4_test_score': array([0.91831056, 0.91737399, 0.91602947, 0.91828643, 0.9192788 ,\n",
       "         0.91431092, 0.91532214, 0.91598347, 0.91579193, 0.9137514 ,\n",
       "         0.91333816, 0.91393464]),\n",
       "  'mean_test_score': array([0.88377465, 0.88322622, 0.88124256, 0.88737258, 0.88226212,\n",
       "         0.87932909, 0.88590912, 0.88188287, 0.8781156 , 0.88537549,\n",
       "         0.88265187, 0.87889616]),\n",
       "  'std_test_score': array([0.03942762, 0.03884144, 0.03933046, 0.03603195, 0.03716599,\n",
       "         0.03815327, 0.03412138, 0.03534371, 0.03748637, 0.03510705,\n",
       "         0.0362032 , 0.0342912 ]),\n",
       "  'rank_test_score': array([ 4,  5,  9,  1,  7, 10,  2,  8, 12,  3,  6, 11], dtype=int32)},\n",
       " {'max_depth': 5, 'min_child_weight': 1},\n",
       " 0.8873725793861589)"
      ]
     },
     "execution_count": 11,
     "metadata": {},
     "output_type": "execute_result"
    }
   ],
   "source": [
    "\n",
    "gsearch1.cv_results_, gsearch1.best_params_, gsearch1.best_score_"
   ]
  },
  {
   "cell_type": "code",
   "execution_count": 12,
   "metadata": {},
   "outputs": [
    {
     "data": {
      "text/plain": [
       "({'mean_fit_time': array([36.66192212, 36.63182402, 37.62777352, 45.61533866, 44.20999956,\n",
       "         46.19148359, 54.54270864, 56.53576055, 45.51052098]),\n",
       "  'std_fit_time': array([13.20617446, 13.08952425, 13.49171883, 16.82020149, 15.60187278,\n",
       "         17.25477263, 19.65920162, 22.37556842, 11.05921984]),\n",
       "  'mean_score_time': array([0.51677155, 0.46362433, 0.35691628, 0.43649592, 0.39372582,\n",
       "         0.53315291, 0.36571188, 0.50752749, 0.31344075]),\n",
       "  'std_score_time': array([0.1244929 , 0.06693269, 0.05817741, 0.11731922, 0.07361233,\n",
       "         0.07710168, 0.06347236, 0.14128007, 0.10877313]),\n",
       "  'param_max_depth': masked_array(data=[4, 4, 4, 5, 5, 5, 6, 6, 6],\n",
       "               mask=[False, False, False, False, False, False, False, False,\n",
       "                     False],\n",
       "         fill_value='?',\n",
       "              dtype=object),\n",
       "  'param_min_child_weight': masked_array(data=[4, 5, 6, 4, 5, 6, 4, 5, 6],\n",
       "               mask=[False, False, False, False, False, False, False, False,\n",
       "                     False],\n",
       "         fill_value='?',\n",
       "              dtype=object),\n",
       "  'params': [{'max_depth': 4, 'min_child_weight': 4},\n",
       "   {'max_depth': 4, 'min_child_weight': 5},\n",
       "   {'max_depth': 4, 'min_child_weight': 6},\n",
       "   {'max_depth': 5, 'min_child_weight': 4},\n",
       "   {'max_depth': 5, 'min_child_weight': 5},\n",
       "   {'max_depth': 5, 'min_child_weight': 6},\n",
       "   {'max_depth': 6, 'min_child_weight': 4},\n",
       "   {'max_depth': 6, 'min_child_weight': 5},\n",
       "   {'max_depth': 6, 'min_child_weight': 6}],\n",
       "  'split0_test_score': array([0.91860039, 0.91597207, 0.91504065, 0.92298294, 0.91896768,\n",
       "         0.91558442, 0.92068042, 0.91890659, 0.91197566]),\n",
       "  'split1_test_score': array([0.86608791, 0.85861791, 0.85802971, 0.85492422, 0.86015057,\n",
       "         0.85577544, 0.86142399, 0.86445672, 0.86055685]),\n",
       "  'split2_test_score': array([0.81465495, 0.81734906, 0.81535439, 0.81604846, 0.81570065,\n",
       "         0.81502962, 0.82078485, 0.81688226, 0.81716403]),\n",
       "  'split3_test_score': array([0.88959319, 0.88802507, 0.88622744, 0.88813417, 0.88751565,\n",
       "         0.88093239, 0.88381731, 0.88132066, 0.87627391]),\n",
       "  'split4_test_score': array([0.91518038, 0.91722016, 0.91709649, 0.9159518 , 0.91431092,\n",
       "         0.915896  , 0.91377402, 0.91293473, 0.91833997]),\n",
       "  'mean_test_score': array([0.88082336, 0.87943685, 0.87834974, 0.87960832, 0.87932909,\n",
       "         0.87664357, 0.88009612, 0.87890019, 0.87686208]),\n",
       "  'std_test_score': array([0.03815707, 0.03774779, 0.03818615, 0.03980969, 0.03815327,\n",
       "         0.03822903, 0.03650098, 0.03693117, 0.03683325]),\n",
       "  'rank_test_score': array([1, 4, 7, 3, 5, 9, 2, 6, 8], dtype=int32)},\n",
       " {'max_depth': 4, 'min_child_weight': 4},\n",
       " 0.8808233635602642)"
      ]
     },
     "execution_count": 12,
     "metadata": {},
     "output_type": "execute_result"
    }
   ],
   "source": [
    "param_test2 = {\n",
    " 'max_depth':[4,5,6],\n",
    " 'min_child_weight':[4,5,6]\n",
    "}\n",
    "gsearch2 = GridSearchCV(estimator = XGBClassifier( learning_rate=0.1, n_estimators=140, max_depth=5,\n",
    " min_child_weight=2, gamma=0, subsample=0.8, colsample_bytree=0.8,\n",
    " objective= 'binary:logistic', nthread=4, scale_pos_weight=1,seed=27), \n",
    " param_grid = param_test2, scoring='roc_auc',n_jobs=4,iid=False, cv=tscv)\n",
    "gsearch2.fit(train[predictors],train[\"Stage\"])\n",
    "gsearch2.cv_results_, gsearch2.best_params_, gsearch2.best_score_"
   ]
  },
  {
   "cell_type": "code",
   "execution_count": 13,
   "metadata": {},
   "outputs": [
    {
     "data": {
      "text/plain": [
       "GridSearchCV(cv=TimeSeriesSplit(max_train_size=None, n_splits=5),\n",
       "             estimator=XGBClassifier(base_score=None, booster=None,\n",
       "                                     colsample_bylevel=None,\n",
       "                                     colsample_bynode=None,\n",
       "                                     colsample_bytree=0.8, gamma=0, gpu_id=None,\n",
       "                                     importance_type='gain',\n",
       "                                     interaction_constraints=None,\n",
       "                                     learning_rate=0.1, max_delta_step=None,\n",
       "                                     max_depth=4, min_child_weight=2,\n",
       "                                     missing=nan, monotone_constraints=None,\n",
       "                                     n_estimators=140, n_jobs=None, nthread=4,\n",
       "                                     num_parallel_tree=None, random_state=None,\n",
       "                                     reg_alpha=None, reg_lambda=None,\n",
       "                                     scale_pos_weight=1, seed=27, subsample=0.8,\n",
       "                                     tree_method=None, validate_parameters=None,\n",
       "                                     verbosity=None),\n",
       "             iid=False, n_jobs=4,\n",
       "             param_grid={'min_child_weight': [6, 8, 10, 12]},\n",
       "             scoring='roc_auc')"
      ]
     },
     "execution_count": 13,
     "metadata": {},
     "output_type": "execute_result"
    }
   ],
   "source": [
    "param_test2b = {\n",
    " 'min_child_weight':[6,8,10,12]\n",
    "}\n",
    "gsearch2b = GridSearchCV(estimator = XGBClassifier( learning_rate=0.1, n_estimators=140, max_depth=4,\n",
    " min_child_weight=2, gamma=0, subsample=0.8, colsample_bytree=0.8,\n",
    " objective= 'binary:logistic', nthread=4, scale_pos_weight=1,seed=27), \n",
    " param_grid = param_test2b, scoring='roc_auc',n_jobs=4,iid=False, cv=tscv)\n",
    "gsearch2b.fit(train[predictors],train[\"Stage\"])"
   ]
  },
  {
   "cell_type": "code",
   "execution_count": 14,
   "metadata": {},
   "outputs": [],
   "source": [
    "#modelfit(gsearch3.best_estimator_, train, predictors)\n",
    "#gsearch2b.grid_scores_, gsearch2b.best_params_, gsearch2b.best_score_"
   ]
  },
  {
   "cell_type": "code",
   "execution_count": 15,
   "metadata": {},
   "outputs": [
    {
     "name": "stdout",
     "output_type": "stream",
     "text": [
      "\n",
      "Model Report\n",
      "Accuracy : 0.8605\n",
      "AUC Score (Train): 0.940392\n"
     ]
    },
    {
     "data": {
      "text/plain": [
       "({'mean_fit_time': array([36.37954926, 37.32703686, 37.35704727, 31.05579853]),\n",
       "  'std_fit_time': array([14.05210404, 12.8600868 , 14.34348466,  8.46051539]),\n",
       "  'mean_score_time': array([0.50670877, 0.47912006, 0.47222619, 0.35850625]),\n",
       "  'std_score_time': array([0.09264974, 0.09624598, 0.15680727, 0.20294056]),\n",
       "  'param_min_child_weight': masked_array(data=[6, 8, 10, 12],\n",
       "               mask=[False, False, False, False],\n",
       "         fill_value='?',\n",
       "              dtype=object),\n",
       "  'params': [{'min_child_weight': 6},\n",
       "   {'min_child_weight': 8},\n",
       "   {'min_child_weight': 10},\n",
       "   {'min_child_weight': 12}],\n",
       "  'split0_test_score': array([0.91504065, 0.91845936, 0.91655882, 0.91277735]),\n",
       "  'split1_test_score': array([0.85802971, 0.85732023, 0.85695867, 0.85980568]),\n",
       "  'split2_test_score': array([0.81535439, 0.8163594 , 0.80823329, 0.80938495]),\n",
       "  'split3_test_score': array([0.88622744, 0.8757028 , 0.86661986, 0.86100953]),\n",
       "  'split4_test_score': array([0.91709649, 0.91649624, 0.91498432, 0.91740039]),\n",
       "  'mean_test_score': array([0.87834974, 0.87686761, 0.87267099, 0.87207558]),\n",
       "  'std_test_score': array([0.03818615, 0.03832754, 0.04037888, 0.03978466]),\n",
       "  'rank_test_score': array([1, 2, 3, 4], dtype=int32)},\n",
       " {'min_child_weight': 6},\n",
       " 0.878349735930908)"
      ]
     },
     "execution_count": 15,
     "metadata": {},
     "output_type": "execute_result"
    },
    {
     "data": {
      "image/png": "[encoded data removed]",
      "text/plain": [
       "<Figure size 432x288 with 1 Axes>"
      ]
     },
     "metadata": {
      "needs_background": "light"
     },
     "output_type": "display_data"
    }
   ],
   "source": [
    "modelfit(gsearch2b.best_estimator_, train, predictors)\n",
    "gsearch2b.cv_results_, gsearch2b.best_params_, gsearch2b.best_score_"
   ]
  },
  {
   "cell_type": "code",
   "execution_count": null,
   "metadata": {},
   "outputs": [],
   "source": []
  },
  {
   "cell_type": "code",
   "execution_count": 16,
   "metadata": {
    "scrolled": false
   },
   "outputs": [
    {
     "name": "stderr",
     "output_type": "stream",
     "text": [
      "/home/leandro/anaconda3/lib/python3.8/site-packages/sklearn/model_selection/_search.py:847: FutureWarning: The parameter 'iid' is deprecated in 0.22 and will be removed in 0.24.\n",
      "  warnings.warn(\n"
     ]
    },
    {
     "data": {
      "text/plain": [
       "({'mean_fit_time': array([ 88.61485472, 182.08445868, 186.46194034, 203.66431637,\n",
       "         166.05609145]),\n",
       "  'std_fit_time': array([ 35.28592908,  87.54133118,  93.22059248, 127.40217491,\n",
       "          62.32782631]),\n",
       "  'mean_score_time': array([0.63790364, 0.635706  , 0.58546958, 0.68867831, 0.48859353]),\n",
       "  'std_score_time': array([0.13837779, 0.19529772, 0.163397  , 0.22853787, 0.22020501]),\n",
       "  'param_max_depth': masked_array(data=[10, 20, 30, 40, 50],\n",
       "               mask=[False, False, False, False, False],\n",
       "         fill_value='?',\n",
       "              dtype=object),\n",
       "  'params': [{'max_depth': 10},\n",
       "   {'max_depth': 20},\n",
       "   {'max_depth': 30},\n",
       "   {'max_depth': 40},\n",
       "   {'max_depth': 50}],\n",
       "  'split0_test_score': array([0.91899181, 0.92022716, 0.91643966, 0.91643966, 0.91643966]),\n",
       "  'split1_test_score': array([0.86336521, 0.8705161 , 0.86614401, 0.86614401, 0.86614401]),\n",
       "  'split2_test_score': array([0.82335151, 0.82313654, 0.82714124, 0.82509129, 0.82509129]),\n",
       "  'split3_test_score': array([0.90074012, 0.88883471, 0.88604459, 0.88587379, 0.88796713]),\n",
       "  'split4_test_score': array([0.91059331, 0.91567807, 0.91398818, 0.91651736, 0.91628586]),\n",
       "  'mean_test_score': array([0.88340839, 0.88367852, 0.88195154, 0.88201322, 0.88238559]),\n",
       "  'std_test_score': array([0.03553631, 0.03528439, 0.03312575, 0.03430031, 0.03431177]),\n",
       "  'rank_test_score': array([2, 1, 5, 4, 3], dtype=int32)},\n",
       " {'max_depth': 20},\n",
       " 0.8836785157510125)"
      ]
     },
     "execution_count": 16,
     "metadata": {},
     "output_type": "execute_result"
    }
   ],
   "source": [
    "param_test1b = {\n",
    " 'max_depth':range(10,60,10)},\n",
    " #'min_child_weight':range(1,6,2)}\n",
    "gsearch1b = GridSearchCV(estimator = XGBClassifier( learning_rate =0.1, n_estimators=140, max_depth=5,\n",
    " min_child_weight=1, gamma=0, subsample=0.8, colsample_bytree=0.8,\n",
    " objective= 'binary:logistic', nthread=4, scale_pos_weight=1, seed=27), \n",
    " param_grid = param_test1b, scoring='roc_auc',n_jobs=4,iid=False, cv=tscv)\n",
    "gsearch1b.fit(train[predictors],train[\"Stage\"])\n",
    "\n",
    "gsearch1b.cv_results_, gsearch1b.best_params_, gsearch1b.best_score_"
   ]
  },
  {
   "cell_type": "code",
   "execution_count": 17,
   "metadata": {},
   "outputs": [],
   "source": [
    "#Con max_depth 5  saco mejor score 1"
   ]
  },
  {
   "cell_type": "markdown",
   "metadata": {},
   "source": [
    "# Tune gamma"
   ]
  },
  {
   "cell_type": "code",
   "execution_count": 18,
   "metadata": {},
   "outputs": [
    {
     "data": {
      "text/plain": [
       "({'mean_fit_time': array([40.19658732, 36.45095515, 35.2805099 , 35.67011986, 29.28953171]),\n",
       "  'std_fit_time': array([14.28330608, 12.53480724, 12.99790425, 12.49770563,  6.14788938]),\n",
       "  'mean_score_time': array([0.44440775, 0.3231616 , 0.48876896, 0.4307281 , 0.3407351 ]),\n",
       "  'std_score_time': array([0.06852243, 0.07169851, 0.07663676, 0.13440441, 0.15102199]),\n",
       "  'param_gamma': masked_array(data=[0.0, 0.1, 0.2, 0.3, 0.4],\n",
       "               mask=[False, False, False, False, False],\n",
       "         fill_value='?',\n",
       "              dtype=object),\n",
       "  'params': [{'gamma': 0.0},\n",
       "   {'gamma': 0.1},\n",
       "   {'gamma': 0.2},\n",
       "   {'gamma': 0.3},\n",
       "   {'gamma': 0.4}],\n",
       "  'split0_test_score': array([0.91504065, 0.91616287, 0.91386714, 0.9173937 , 0.91645097]),\n",
       "  'split1_test_score': array([0.85802971, 0.85731265, 0.8572793 , 0.85676993, 0.85890822]),\n",
       "  'split2_test_score': array([0.81535439, 0.81207062, 0.81054659, 0.81384725, 0.8122595 ]),\n",
       "  'split3_test_score': array([0.88622744, 0.87907156, 0.88496331, 0.88738096, 0.88727712]),\n",
       "  'split4_test_score': array([0.91709649, 0.91678204, 0.91385093, 0.91612825, 0.91740189]),\n",
       "  'mean_test_score': array([0.87834974, 0.87627995, 0.87610146, 0.87830402, 0.87845954]),\n",
       "  'std_test_score': array([0.03818615, 0.03929747, 0.03893974, 0.03913939, 0.03950267]),\n",
       "  'rank_test_score': array([2, 4, 5, 3, 1], dtype=int32)},\n",
       " {'gamma': 0.4},\n",
       " 0.8784595401842292)"
      ]
     },
     "execution_count": 18,
     "metadata": {},
     "output_type": "execute_result"
    }
   ],
   "source": [
    "param_test3 = {\n",
    " 'gamma':[i/10.0 for i in range(0,5)]\n",
    "}\n",
    "gsearch3 = GridSearchCV(estimator = XGBClassifier( learning_rate =0.1, n_estimators=140, max_depth=4,\n",
    " min_child_weight=6, gamma=0, subsample=0.8, colsample_bytree=0.8,\n",
    " objective= 'binary:logistic', nthread=4, scale_pos_weight=1,seed=27), \n",
    " param_grid = param_test3, scoring='roc_auc',n_jobs=4,iid=False, cv=tscv)\n",
    "gsearch3.fit(train[predictors],train[\"Stage\"])\n",
    "gsearch3.cv_results_, gsearch3.best_params_, gsearch3.best_score_"
   ]
  },
  {
   "cell_type": "code",
   "execution_count": 19,
   "metadata": {
    "scrolled": true
   },
   "outputs": [
    {
     "name": "stdout",
     "output_type": "stream",
     "text": [
      "\n",
      "Model Report\n",
      "Accuracy : 0.9308\n",
      "AUC Score (Train): 0.982798\n"
     ]
    },
    {
     "data": {
      "image/png": "[encoded data removed]",
      "text/plain": [
       "<Figure size 432x288 with 1 Axes>"
      ]
     },
     "metadata": {
      "needs_background": "light"
     },
     "output_type": "display_data"
    }
   ],
   "source": [
    "xgb2 = XGBClassifier(\n",
    " learning_rate =0.1,\n",
    " n_estimators=1000,\n",
    " max_depth=4,\n",
    " min_child_weight=6,\n",
    " gamma=0,\n",
    " subsample=0.8,\n",
    " colsample_bytree=0.8,\n",
    " objective= 'binary:logistic',\n",
    " nthread=4,\n",
    " scale_pos_weight=1,\n",
    " seed=27)\n",
    "modelfit(xgb2, train, predictors)"
   ]
  },
  {
   "cell_type": "code",
   "execution_count": 20,
   "metadata": {},
   "outputs": [],
   "source": [
    "#ganma = 0.4"
   ]
  },
  {
   "cell_type": "markdown",
   "metadata": {},
   "source": [
    "# Tune subsample and colsample_bytree"
   ]
  },
  {
   "cell_type": "code",
   "execution_count": 21,
   "metadata": {},
   "outputs": [
    {
     "name": "stderr",
     "output_type": "stream",
     "text": [
      "/home/leandro/anaconda3/lib/python3.8/site-packages/sklearn/model_selection/_search.py:847: FutureWarning: The parameter 'iid' is deprecated in 0.22 and will be removed in 0.24.\n",
      "  warnings.warn(\n"
     ]
    },
    {
     "data": {
      "text/plain": [
       "({'mean_fit_time': array([39.06704831, 40.47664909, 37.33181124, 37.35402732, 41.73030615,\n",
       "         43.02143416, 41.89089308, 40.31709199, 46.50602918, 47.8750617 ,\n",
       "         46.87921023, 44.34613514, 50.91870213, 54.43665581, 50.54625535,\n",
       "         39.24295759]),\n",
       "  'std_fit_time': array([16.44134706, 13.28809782, 12.89869349, 13.3397398 , 15.63115078,\n",
       "         16.0898288 , 14.49061748, 14.1752635 , 19.57698885, 19.12429594,\n",
       "         16.64463459, 15.5489488 , 21.64298384, 20.76723198, 16.71452709,\n",
       "          9.32669925]),\n",
       "  'mean_score_time': array([0.45285659, 0.51770072, 0.37450752, 0.38183212, 0.47068892,\n",
       "         0.45446692, 0.4405961 , 0.506463  , 0.40225415, 0.37689691,\n",
       "         0.45764189, 0.46092634, 0.48713417, 0.52211995, 0.47534533,\n",
       "         0.34636536]),\n",
       "  'std_score_time': array([0.14652024, 0.10491384, 0.15381928, 0.11617191, 0.08427292,\n",
       "         0.09836035, 0.07147499, 0.11138689, 0.04930216, 0.1015548 ,\n",
       "         0.09484743, 0.09557729, 0.07467014, 0.11242901, 0.12759027,\n",
       "         0.11198534]),\n",
       "  'param_colsample_bytree': masked_array(data=[0.6, 0.6, 0.6, 0.6, 0.7, 0.7, 0.7, 0.7, 0.8, 0.8, 0.8,\n",
       "                     0.8, 0.9, 0.9, 0.9, 0.9],\n",
       "               mask=[False, False, False, False, False, False, False, False,\n",
       "                     False, False, False, False, False, False, False, False],\n",
       "         fill_value='?',\n",
       "              dtype=object),\n",
       "  'param_subsample': masked_array(data=[0.6, 0.7, 0.8, 0.9, 0.6, 0.7, 0.8, 0.9, 0.6, 0.7, 0.8,\n",
       "                     0.9, 0.6, 0.7, 0.8, 0.9],\n",
       "               mask=[False, False, False, False, False, False, False, False,\n",
       "                     False, False, False, False, False, False, False, False],\n",
       "         fill_value='?',\n",
       "              dtype=object),\n",
       "  'params': [{'colsample_bytree': 0.6, 'subsample': 0.6},\n",
       "   {'colsample_bytree': 0.6, 'subsample': 0.7},\n",
       "   {'colsample_bytree': 0.6, 'subsample': 0.8},\n",
       "   {'colsample_bytree': 0.6, 'subsample': 0.9},\n",
       "   {'colsample_bytree': 0.7, 'subsample': 0.6},\n",
       "   {'colsample_bytree': 0.7, 'subsample': 0.7},\n",
       "   {'colsample_bytree': 0.7, 'subsample': 0.8},\n",
       "   {'colsample_bytree': 0.7, 'subsample': 0.9},\n",
       "   {'colsample_bytree': 0.8, 'subsample': 0.6},\n",
       "   {'colsample_bytree': 0.8, 'subsample': 0.7},\n",
       "   {'colsample_bytree': 0.8, 'subsample': 0.8},\n",
       "   {'colsample_bytree': 0.8, 'subsample': 0.9},\n",
       "   {'colsample_bytree': 0.9, 'subsample': 0.6},\n",
       "   {'colsample_bytree': 0.9, 'subsample': 0.7},\n",
       "   {'colsample_bytree': 0.9, 'subsample': 0.8},\n",
       "   {'colsample_bytree': 0.9, 'subsample': 0.9}],\n",
       "  'split0_test_score': array([0.91176675, 0.91317254, 0.91806567, 0.91921203, 0.91688764,\n",
       "         0.91749702, 0.91736353, 0.91391466, 0.91659049, 0.91810338,\n",
       "         0.91442524, 0.91264763, 0.9157986 , 0.91533176, 0.91296891,\n",
       "         0.91746384]),\n",
       "  'split1_test_score': array([0.85826772, 0.86010888, 0.85515995, 0.85821845, 0.86424221,\n",
       "         0.86357138, 0.85961694, 0.86065766, 0.8595419 , 0.85948884,\n",
       "         0.85764844, 0.85662212, 0.86207511, 0.85933345, 0.85668351,\n",
       "         0.86084413]),\n",
       "  'split2_test_score': array([0.813534  , 0.81362229, 0.81437932, 0.81657361, 0.8155041 ,\n",
       "         0.81554019, 0.82242712, 0.81960555, 0.81790723, 0.81391635,\n",
       "         0.81997638, 0.81910803, 0.81673945, 0.81501964, 0.81394245,\n",
       "         0.81453364]),\n",
       "  'split3_test_score': array([0.8754116 , 0.88298284, 0.88410551, 0.89283403, 0.88207688,\n",
       "         0.88617176, 0.88216717, 0.88879107, 0.87742743, 0.88294822,\n",
       "         0.8857391 , 0.88771204, 0.87812421, 0.88530116, 0.87652147,\n",
       "         0.88982194]),\n",
       "  'split4_test_score': array([0.91707387, 0.91798254, 0.91286535, 0.91233523, 0.91718849,\n",
       "         0.9146495 , 0.91395424, 0.91508536, 0.91743658, 0.91692305,\n",
       "         0.91465478, 0.91229753, 0.92076735, 0.91744488, 0.91358324,\n",
       "         0.91205245]),\n",
       "  'mean_test_score': array([0.87521079, 0.87757382, 0.87691516, 0.87983467, 0.87917986,\n",
       "         0.87948597, 0.8791058 , 0.87961086, 0.87778073, 0.87827597,\n",
       "         0.87848879, 0.87767747, 0.87870094, 0.87848618, 0.87473992,\n",
       "         0.8789432 ]),\n",
       "  'std_test_score': array([0.03789456, 0.03827326, 0.03852662, 0.03806591, 0.03782238,\n",
       "         0.03759881, 0.03543933, 0.03599813, 0.03740695, 0.03897888,\n",
       "         0.03608323, 0.03576552, 0.03810983, 0.0382535 , 0.03740534,\n",
       "         0.03788028]),\n",
       "  'rank_test_score': array([15, 13, 14,  1,  4,  3,  5,  2, 11, 10,  8, 12,  7,  9, 16,  6],\n",
       "        dtype=int32)},\n",
       " {'colsample_bytree': 0.6, 'subsample': 0.9},\n",
       " 0.8798346711168374)"
      ]
     },
     "execution_count": 21,
     "metadata": {},
     "output_type": "execute_result"
    }
   ],
   "source": [
    "param_test4 = {\n",
    " 'subsample':[i/10.0 for i in range(6,10)],\n",
    " 'colsample_bytree':[i/10.0 for i in range(6,10)]\n",
    "}\n",
    "gsearch4 = GridSearchCV(estimator = XGBClassifier( learning_rate =0.1, n_estimators=177, max_depth=4,\n",
    " min_child_weight=6, gamma=0, subsample=0.8, colsample_bytree=0.8,\n",
    " objective= 'binary:logistic', nthread=4, scale_pos_weight=1,seed=27), \n",
    " param_grid = param_test4, scoring='roc_auc',n_jobs=4,iid=False, cv=tscv)\n",
    "gsearch4.fit(train[predictors],train[\"Stage\"])\n",
    "gsearch4.cv_results_, gsearch4.best_params_, gsearch4.best_score_"
   ]
  },
  {
   "cell_type": "code",
   "execution_count": 22,
   "metadata": {
    "scrolled": false
   },
   "outputs": [
    {
     "data": {
      "text/plain": [
       "GridSearchCV(cv=TimeSeriesSplit(max_train_size=None, n_splits=5),\n",
       "             estimator=XGBClassifier(base_score=None, booster=None,\n",
       "                                     colsample_bylevel=None,\n",
       "                                     colsample_bynode=None,\n",
       "                                     colsample_bytree=0.8, gamma=0, gpu_id=None,\n",
       "                                     importance_type='gain',\n",
       "                                     interaction_constraints=None,\n",
       "                                     learning_rate=0.1, max_delta_step=None,\n",
       "                                     max_depth=4, min_child_weight=6,\n",
       "                                     missing=nan, monotone_constraints=None,\n",
       "                                     n_estimators=177, n_jobs=None, nthread=4,\n",
       "                                     num_parallel_tree=None, random_state=None,\n",
       "                                     reg_alpha=None, reg_lambda=None,\n",
       "                                     scale_pos_weight=1, seed=27, subsample=0.8,\n",
       "                                     tree_method=None, validate_parameters=None,\n",
       "                                     verbosity=None),\n",
       "             iid=False, n_jobs=4,\n",
       "             param_grid={'colsample_bytree': [0.75, 0.8, 0.85],\n",
       "                         'subsample': [0.75, 0.8, 0.85]},\n",
       "             scoring='roc_auc')"
      ]
     },
     "execution_count": 22,
     "metadata": {},
     "output_type": "execute_result"
    }
   ],
   "source": [
    "param_test5 = {\n",
    " 'subsample':[i/100.0 for i in range(75,90,5)],\n",
    " 'colsample_bytree':[i/100.0 for i in range(75,90,5)]\n",
    "}\n",
    "gsearch5 = GridSearchCV(estimator = XGBClassifier( learning_rate =0.1, n_estimators=177, max_depth=4,\n",
    " min_child_weight=6, gamma=0, subsample=0.8, colsample_bytree=0.8,\n",
    " objective= 'binary:logistic', nthread=4, scale_pos_weight=1,seed=27), \n",
    " param_grid = param_test5, scoring='roc_auc',n_jobs=4,iid=False, cv=tscv)\n",
    "gsearch5.fit(train[predictors],train[\"Stage\"])"
   ]
  },
  {
   "cell_type": "code",
   "execution_count": 23,
   "metadata": {},
   "outputs": [],
   "source": [
    "#{'colsample_bytree':0.6 , 'subsample': 0.9}, es la mejor score"
   ]
  },
  {
   "cell_type": "markdown",
   "metadata": {},
   "source": [
    "# Tuning Regularization Parameters"
   ]
  },
  {
   "cell_type": "code",
   "execution_count": 24,
   "metadata": {},
   "outputs": [
    {
     "name": "stderr",
     "output_type": "stream",
     "text": [
      "/home/leandro/anaconda3/lib/python3.8/site-packages/sklearn/model_selection/_search.py:847: FutureWarning: The parameter 'iid' is deprecated in 0.22 and will be removed in 0.24.\n",
      "  warnings.warn(\n"
     ]
    },
    {
     "data": {
      "text/plain": [
       "({'mean_fit_time': array([47.83879423, 49.13199172, 48.64896622, 47.40429769, 23.36447005]),\n",
       "  'std_fit_time': array([18.06708481, 18.28064437, 18.4078704 , 16.41193909,  6.5637628 ]),\n",
       "  'mean_score_time': array([0.48166022, 0.46223626, 0.44895945, 0.46177688, 0.32945662]),\n",
       "  'std_score_time': array([0.0769056 , 0.0783875 , 0.1545695 , 0.10652086, 0.13353589]),\n",
       "  'param_reg_alpha': masked_array(data=[1e-05, 0.01, 0.1, 1, 100],\n",
       "               mask=[False, False, False, False, False],\n",
       "         fill_value='?',\n",
       "              dtype=object),\n",
       "  'params': [{'reg_alpha': 1e-05},\n",
       "   {'reg_alpha': 0.01},\n",
       "   {'reg_alpha': 0.1},\n",
       "   {'reg_alpha': 1},\n",
       "   {'reg_alpha': 100}],\n",
       "  'split0_test_score': array([0.91431664, 0.91463565, 0.91727303, 0.91518922, 0.83195092]),\n",
       "  'split1_test_score': array([0.85735661, 0.85837384, 0.85122977, 0.85247363, 0.84316853]),\n",
       "  'split2_test_score': array([0.81763775, 0.81612907, 0.81594557, 0.81804236, 0.7726186 ]),\n",
       "  'split3_test_score': array([0.88276914, 0.88445013, 0.88026044, 0.88179245, 0.84054264]),\n",
       "  'split4_test_score': array([0.91394444, 0.91590354, 0.91370389, 0.91517585, 0.86468947]),\n",
       "  'mean_test_score': array([0.87720491, 0.87789845, 0.87568254, 0.8765347 , 0.83059403]),\n",
       "  'std_test_score': array([0.03660665, 0.03750627, 0.03837393, 0.03745729, 0.0309276 ]),\n",
       "  'rank_test_score': array([2, 1, 4, 3, 5], dtype=int32)},\n",
       " {'reg_alpha': 0.01},\n",
       " 0.8778984466225129)"
      ]
     },
     "execution_count": 24,
     "metadata": {},
     "output_type": "execute_result"
    }
   ],
   "source": [
    "param_test6 = {\n",
    " 'reg_alpha':[1e-5, 1e-2, 0.1, 1, 100]\n",
    "}\n",
    "gsearch6 = GridSearchCV(estimator = XGBClassifier( learning_rate =0.1, n_estimators=177, max_depth=4,\n",
    " min_child_weight=6, gamma=0.1, subsample=0.8, colsample_bytree=0.8,\n",
    " objective= 'binary:logistic', nthread=4, scale_pos_weight=1,seed=27), \n",
    " param_grid = param_test6, scoring='roc_auc',n_jobs=4,iid=False, cv=tscv)\n",
    "gsearch6.fit(train[predictors],train[\"Stage\"])\n",
    "gsearch6.cv_results_, gsearch6.best_params_, gsearch6.best_score_"
   ]
  },
  {
   "cell_type": "code",
   "execution_count": 25,
   "metadata": {},
   "outputs": [
    {
     "data": {
      "text/plain": [
       "({'mean_fit_time': array([24.03193617, 26.33531585, 26.05536604, 26.43182125, 19.33587742]),\n",
       "  'std_fit_time': array([10.16341938, 11.01980479,  9.96782877, 11.64220999,  4.02935443]),\n",
       "  'mean_score_time': array([0.46505308, 0.56486592, 0.48111572, 0.50863848, 0.30868816]),\n",
       "  'std_score_time': array([0.08462308, 0.12317719, 0.17169343, 0.16722228, 0.11109537]),\n",
       "  'param_reg_alpha': masked_array(data=[110, 120, 130, 140, 150],\n",
       "               mask=[False, False, False, False, False],\n",
       "         fill_value='?',\n",
       "              dtype=object),\n",
       "  'params': [{'reg_alpha': 110},\n",
       "   {'reg_alpha': 120},\n",
       "   {'reg_alpha': 130},\n",
       "   {'reg_alpha': 140},\n",
       "   {'reg_alpha': 150}],\n",
       "  'split0_test_score': array([0.82620858, 0.82190974, 0.82001373, 0.81778135, 0.81885907]),\n",
       "  'split1_test_score': array([0.8421081 , 0.8387032 , 0.83777314, 0.83926184, 0.8386039 ]),\n",
       "  'split2_test_score': array([0.77115138, 0.76974329, 0.76856015, 0.77152068, 0.77098247]),\n",
       "  'split3_test_score': array([0.84212732, 0.83754861, 0.83910545, 0.83800535, 0.8382943 ]),\n",
       "  'split4_test_score': array([0.86019817, 0.85904066, 0.86037764, 0.85888004, 0.85888607]),\n",
       "  'mean_test_score': array([0.82835871, 0.8253891 , 0.82516602, 0.82508985, 0.82512516]),\n",
       "  'std_test_score': array([0.03056034, 0.03021956, 0.03106083, 0.02977416, 0.0298851 ]),\n",
       "  'rank_test_score': array([1, 2, 3, 5, 4], dtype=int32)},\n",
       " {'reg_alpha': 0.01},\n",
       " 0.8778984466225129)"
      ]
     },
     "execution_count": 25,
     "metadata": {},
     "output_type": "execute_result"
    }
   ],
   "source": [
    "param_test6b = {\n",
    " 'reg_alpha':[110, 120, 130,140,150]\n",
    "}\n",
    "gsearch6b = GridSearchCV(estimator = XGBClassifier( learning_rate =0.1, n_estimators=177, max_depth=4,\n",
    " min_child_weight=6, gamma=0.1, subsample=0.8, colsample_bytree=0.8,\n",
    " objective= 'binary:logistic', nthread=4, scale_pos_weight=1,seed=27), \n",
    " param_grid = param_test6b, scoring='roc_auc',n_jobs=4,iid=False, cv=tscv)\n",
    "gsearch6b.fit(train[predictors],train[\"Stage\"])\n",
    "gsearch6b.cv_results_, gsearch6.best_params_, gsearch6.best_score_"
   ]
  },
  {
   "cell_type": "code",
   "execution_count": 26,
   "metadata": {},
   "outputs": [
    {
     "data": {
      "text/plain": [
       "({'mean_fit_time': array([48.94547248, 52.49589252, 54.95985198, 55.51537299, 43.91463985]),\n",
       "  'std_fit_time': array([17.4879204 , 19.92503158, 22.13211685, 19.93982736,  9.99473751]),\n",
       "  'mean_score_time': array([0.46853151, 0.60142412, 0.40286064, 0.67131662, 0.37264361]),\n",
       "  'std_score_time': array([0.12754089, 0.19901397, 0.1225774 , 0.21882504, 0.18678342]),\n",
       "  'param_reg_alpha': masked_array(data=[0, 0.001, 0.005, 0.01, 0.05],\n",
       "               mask=[False, False, False, False, False],\n",
       "         fill_value='?',\n",
       "              dtype=object),\n",
       "  'params': [{'reg_alpha': 0},\n",
       "   {'reg_alpha': 0.001},\n",
       "   {'reg_alpha': 0.005},\n",
       "   {'reg_alpha': 0.01},\n",
       "   {'reg_alpha': 0.05}],\n",
       "  'split0_test_score': array([0.91431664, 0.91431362, 0.91397876, 0.91463565, 0.91687331]),\n",
       "  'split1_test_score': array([0.85735661, 0.85992165, 0.85881499, 0.85837384, 0.85271391]),\n",
       "  'split2_test_score': array([0.81763775, 0.81763775, 0.81769226, 0.81612907, 0.81784197]),\n",
       "  'split3_test_score': array([0.88276914, 0.88276161, 0.87925139, 0.88445013, 0.88527483]),\n",
       "  'split4_test_score': array([0.91394444, 0.91244307, 0.91134965, 0.91590354, 0.90832579]),\n",
       "  'mean_test_score': array([0.87720491, 0.87741554, 0.87621741, 0.87789845, 0.87620596]),\n",
       "  'std_test_score': array([0.03660665, 0.03604552, 0.03576992, 0.03750627, 0.03667695]),\n",
       "  'rank_test_score': array([3, 2, 4, 1, 5], dtype=int32)},\n",
       " {'reg_alpha': 0.01},\n",
       " 0.8778984466225129)"
      ]
     },
     "execution_count": 26,
     "metadata": {},
     "output_type": "execute_result"
    }
   ],
   "source": [
    "param_test7 = {\n",
    " 'reg_alpha':[0, 0.001, 0.005, 0.01, 0.05]\n",
    "}\n",
    "gsearch7 = GridSearchCV(estimator = XGBClassifier( learning_rate =0.1, n_estimators=177, max_depth=4,\n",
    " min_child_weight=6, gamma=0.1, subsample=0.8, colsample_bytree=0.8,\n",
    " objective= 'binary:logistic', nthread=4, scale_pos_weight=1,seed=27), \n",
    " param_grid = param_test7, scoring='roc_auc',n_jobs=4,iid=False, cv=tscv)\n",
    "gsearch7.fit(train[predictors],train[\"Stage\"])\n",
    "gsearch7.cv_results_, gsearch7.best_params_, gsearch7.best_score_"
   ]
  },
  {
   "cell_type": "code",
   "execution_count": 27,
   "metadata": {
    "scrolled": true
   },
   "outputs": [
    {
     "name": "stdout",
     "output_type": "stream",
     "text": [
      "\n",
      "Model Report\n",
      "Accuracy : 0.9175\n",
      "AUC Score (Train): 0.976971\n"
     ]
    },
    {
     "data": {
      "image/png": "[encoded data removed]",
      "text/plain": [
       "<Figure size 432x288 with 1 Axes>"
      ]
     },
     "metadata": {
      "needs_background": "light"
     },
     "output_type": "display_data"
    }
   ],
   "source": [
    "xgb3 = XGBClassifier(\n",
    " learning_rate =0.1,\n",
    " n_estimators=1000,\n",
    " max_depth=3,\n",
    " min_child_weight=6,\n",
    " gamma=0,\n",
    " subsample=0.8,\n",
    " colsample_bytree=0.8,\n",
    " reg_alpha=0.005,\n",
    " objective= 'binary:logistic',\n",
    " nthread=4,\n",
    " scale_pos_weight=1,\n",
    " seed=27)\n",
    "modelfit(xgb3, train, predictors)"
   ]
  },
  {
   "cell_type": "code",
   "execution_count": 28,
   "metadata": {},
   "outputs": [],
   "source": [
    "#Con reg_alpha =  mando el mejor score"
   ]
  },
  {
   "cell_type": "markdown",
   "metadata": {},
   "source": [
    "# Reducing Learning Rate"
   ]
  },
  {
   "cell_type": "code",
   "execution_count": 29,
   "metadata": {},
   "outputs": [
    {
     "name": "stdout",
     "output_type": "stream",
     "text": [
      "\n",
      "Model Report\n",
      "Accuracy : 0.8118\n",
      "AUC Score (Train): 0.884064\n"
     ]
    },
    {
     "data": {
      "image/png": "[encoded data removed]",
      "text/plain": [
       "<Figure size 432x288 with 1 Axes>"
      ]
     },
     "metadata": {
      "needs_background": "light"
     },
     "output_type": "display_data"
    }
   ],
   "source": [
    "xgb4 = XGBClassifier(\n",
    " learning_rate =0.01,\n",
    " n_estimators=5000,\n",
    " max_depth=4,\n",
    " min_child_weight=5,\n",
    " gamma=0.3,\n",
    " subsample=0.7,\n",
    " colsample_bytree=0.7,\n",
    " reg_alpha=100,\n",
    " objective= 'binary:logistic',\n",
    " nthread=4,\n",
    " scale_pos_weight=1,\n",
    " seed=27)\n",
    "modelfit(xgb4, train, predictors)"
   ]
  },
  {
   "cell_type": "code",
   "execution_count": 17,
   "metadata": {},
   "outputs": [
    {
     "data": {
      "text/plain": [
       "array([[0.21578312, 0.7842169 ],\n",
       "       [0.42971444, 0.57028556],\n",
       "       [0.09429532, 0.9057047 ],\n",
       "       ...,\n",
       "       [0.5668784 , 0.43312162],\n",
       "       [0.32585204, 0.67414796],\n",
       "       [0.62194544, 0.37805456]], dtype=float32)"
      ]
     },
     "execution_count": 17,
     "metadata": {},
     "output_type": "execute_result"
    }
   ],
   "source": [
    "xgb4 = XGBClassifier(\n",
    " learning_rate =0.01,\n",
    " n_estimators=5000,\n",
    " max_depth=5,\n",
    " min_child_weight=1,\n",
    " gamma=0.4,\n",
    " subsample=0.9,\n",
    " colsample_bytree=0.6,\n",
    " reg_alpha=0.01,\n",
    " objective= 'binary:logistic',\n",
    " nthread=4,\n",
    " scale_pos_weight=1,\n",
    " seed=27)\n",
    "\n",
    "xgb4.fit(train[predictors], train['Stage'],eval_metric='auc')\n",
    "\n",
    "prediccion = xgb4.predict_proba(test)\n",
    "prediccion"
   ]
  },
  {
   "cell_type": "code",
   "execution_count": 19,
   "metadata": {},
   "outputs": [
    {
     "data": {
      "text/html": [
       "<div>\n",
       "<style scoped>\n",
       "    .dataframe tbody tr th:only-of-type {\n",
       "        vertical-align: middle;\n",
       "    }\n",
       "\n",
       "    .dataframe tbody tr th {\n",
       "        vertical-align: top;\n",
       "    }\n",
       "\n",
       "    .dataframe thead th {\n",
       "        text-align: right;\n",
       "    }\n",
       "</style>\n",
       "<table border=\"1\" class=\"dataframe\">\n",
       "  <thead>\n",
       "    <tr style=\"text-align: right;\">\n",
       "      <th></th>\n",
       "      <th>Opportunity_ID</th>\n",
       "      <th>Target</th>\n",
       "    </tr>\n",
       "  </thead>\n",
       "  <tbody>\n",
       "    <tr>\n",
       "      <th>0</th>\n",
       "      <td>10689</td>\n",
       "      <td>0.784217</td>\n",
       "    </tr>\n",
       "    <tr>\n",
       "      <th>1</th>\n",
       "      <td>10690</td>\n",
       "      <td>0.570286</td>\n",
       "    </tr>\n",
       "    <tr>\n",
       "      <th>2</th>\n",
       "      <td>10691</td>\n",
       "      <td>0.905705</td>\n",
       "    </tr>\n",
       "    <tr>\n",
       "      <th>3</th>\n",
       "      <td>10692</td>\n",
       "      <td>0.498693</td>\n",
       "    </tr>\n",
       "    <tr>\n",
       "      <th>4</th>\n",
       "      <td>10693</td>\n",
       "      <td>0.983425</td>\n",
       "    </tr>\n",
       "    <tr>\n",
       "      <th>...</th>\n",
       "      <td>...</td>\n",
       "      <td>...</td>\n",
       "    </tr>\n",
       "    <tr>\n",
       "      <th>1562</th>\n",
       "      <td>12364</td>\n",
       "      <td>0.972970</td>\n",
       "    </tr>\n",
       "    <tr>\n",
       "      <th>1563</th>\n",
       "      <td>12365</td>\n",
       "      <td>0.532908</td>\n",
       "    </tr>\n",
       "    <tr>\n",
       "      <th>1564</th>\n",
       "      <td>12366</td>\n",
       "      <td>0.433122</td>\n",
       "    </tr>\n",
       "    <tr>\n",
       "      <th>1565</th>\n",
       "      <td>12367</td>\n",
       "      <td>0.674148</td>\n",
       "    </tr>\n",
       "    <tr>\n",
       "      <th>1566</th>\n",
       "      <td>12368</td>\n",
       "      <td>0.378055</td>\n",
       "    </tr>\n",
       "  </tbody>\n",
       "</table>\n",
       "<p>1567 rows × 2 columns</p>\n",
       "</div>"
      ],
      "text/plain": [
       "      Opportunity_ID    Target\n",
       "0              10689  0.784217\n",
       "1              10690  0.570286\n",
       "2              10691  0.905705\n",
       "3              10692  0.498693\n",
       "4              10693  0.983425\n",
       "...              ...       ...\n",
       "1562           12364  0.972970\n",
       "1563           12365  0.532908\n",
       "1564           12366  0.433122\n",
       "1565           12367  0.674148\n",
       "1566           12368  0.378055\n",
       "\n",
       "[1567 rows x 2 columns]"
      ]
     },
     "execution_count": 19,
     "metadata": {},
     "output_type": "execute_result"
    }
   ],
   "source": [
    "output = pd.DataFrame({'Opportunity_ID':test.Opportunity_ID, 'Target': prediccion[:,1]}) \n",
    "output"
   ]
  },
  {
   "cell_type": "code",
   "execution_count": 20,
   "metadata": {},
   "outputs": [
    {
     "data": {
      "text/html": [
       "<div>\n",
       "<style scoped>\n",
       "    .dataframe tbody tr th:only-of-type {\n",
       "        vertical-align: middle;\n",
       "    }\n",
       "\n",
       "    .dataframe tbody tr th {\n",
       "        vertical-align: top;\n",
       "    }\n",
       "\n",
       "    .dataframe thead th {\n",
       "        text-align: right;\n",
       "    }\n",
       "</style>\n",
       "<table border=\"1\" class=\"dataframe\">\n",
       "  <thead>\n",
       "    <tr style=\"text-align: right;\">\n",
       "      <th></th>\n",
       "      <th>Target</th>\n",
       "    </tr>\n",
       "    <tr>\n",
       "      <th>Opportunity_ID</th>\n",
       "      <th></th>\n",
       "    </tr>\n",
       "  </thead>\n",
       "  <tbody>\n",
       "    <tr>\n",
       "      <th>10689</th>\n",
       "      <td>0.784217</td>\n",
       "    </tr>\n",
       "    <tr>\n",
       "      <th>10690</th>\n",
       "      <td>0.570286</td>\n",
       "    </tr>\n",
       "    <tr>\n",
       "      <th>10691</th>\n",
       "      <td>0.905705</td>\n",
       "    </tr>\n",
       "    <tr>\n",
       "      <th>10692</th>\n",
       "      <td>0.498693</td>\n",
       "    </tr>\n",
       "    <tr>\n",
       "      <th>10693</th>\n",
       "      <td>0.983425</td>\n",
       "    </tr>\n",
       "    <tr>\n",
       "      <th>...</th>\n",
       "      <td>...</td>\n",
       "    </tr>\n",
       "    <tr>\n",
       "      <th>12364</th>\n",
       "      <td>0.972970</td>\n",
       "    </tr>\n",
       "    <tr>\n",
       "      <th>12365</th>\n",
       "      <td>0.532908</td>\n",
       "    </tr>\n",
       "    <tr>\n",
       "      <th>12366</th>\n",
       "      <td>0.433122</td>\n",
       "    </tr>\n",
       "    <tr>\n",
       "      <th>12367</th>\n",
       "      <td>0.674148</td>\n",
       "    </tr>\n",
       "    <tr>\n",
       "      <th>12368</th>\n",
       "      <td>0.378055</td>\n",
       "    </tr>\n",
       "  </tbody>\n",
       "</table>\n",
       "<p>1567 rows × 1 columns</p>\n",
       "</div>"
      ],
      "text/plain": [
       "                  Target\n",
       "Opportunity_ID          \n",
       "10689           0.784217\n",
       "10690           0.570286\n",
       "10691           0.905705\n",
       "10692           0.498693\n",
       "10693           0.983425\n",
       "...                  ...\n",
       "12364           0.972970\n",
       "12365           0.532908\n",
       "12366           0.433122\n",
       "12367           0.674148\n",
       "12368           0.378055\n",
       "\n",
       "[1567 rows x 1 columns]"
      ]
     },
     "execution_count": 20,
     "metadata": {},
     "output_type": "execute_result"
    }
   ],
   "source": [
    "final=output.groupby('Opportunity_ID').max()\n",
    "final"
   ]
  },
  {
   "cell_type": "code",
   "execution_count": 21,
   "metadata": {},
   "outputs": [],
   "source": [
    "final.to_csv('/home/leandro/Documentos/Organizacion de datos/Fiuba-Big-Data-Analytics-TPs/Tp 2/Resultados/XGBoostScoreTimeSeriesSplit.csv')"
   ]
  },
  {
   "cell_type": "code",
   "execution_count": null,
   "metadata": {},
   "outputs": [],
   "source": []
  }
 ],
 "metadata": {
  "kernelspec": {
   "display_name": "Python 3",
   "language": "python",
   "name": "python3"
  },
  "language_info": {
   "codemirror_mode": {
    "name": "ipython",
    "version": 3
   },
   "file_extension": ".py",
   "mimetype": "text/x-python",
   "name": "python",
   "nbconvert_exporter": "python",
   "pygments_lexer": "ipython3",
   "version": "3.8.5"
  }
 },
 "nbformat": 4,
 "nbformat_minor": 4
}
