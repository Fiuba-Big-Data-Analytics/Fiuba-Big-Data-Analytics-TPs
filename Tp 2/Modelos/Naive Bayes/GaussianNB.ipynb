{
 "cells": [
  {
   "cell_type": "code",
   "execution_count": 2,
   "metadata": {},
   "outputs": [],
   "source": [
    "import pandas as pd\n",
    "from sklearn.preprocessing import OneHotEncoder"
   ]
  },
  {
   "cell_type": "code",
   "execution_count": 3,
   "metadata": {},
   "outputs": [],
   "source": [
    "\n",
    "\n",
    "\n",
    "def normaliza_df(df, ones_hots):\n",
    "    # inicialmente voy con el tratamiento mas simple sobre los datos faltantes\n",
    "    df = df.fillna(0)\n",
    "    df = df.dropna()\n",
    "    '''\n",
    "      removemos la columna de la cual el modelo podria aprender que su existencia\n",
    "      implica el Closed_won (ya que es un valor que se obtiene a posteriori de haber\n",
    "      ganado y estaria mal usarlo ya que los modelos entrenadas con ella serian \n",
    "      incapaces de poder predecir correctamente)\n",
    "    '''\n",
    "    df = df.drop(['Sales_Contract_No'], axis=1)\n",
    "    \n",
    "    # irrelevantes\n",
    "    df = df.drop(['Opportunity_Name'], axis=1)\n",
    "\n",
    "    # dato cte = NaT\n",
    "    df = df.drop(['Last_Activity'], axis=1)\n",
    "\n",
    "    # basado en lo charlado con el grupo, ahora subdividimos el df de forma de tener\n",
    "    # en cuenta los casos cerrados y cobertimos las varaibles categorias en su\n",
    "    # representacion mas simple (siendo dos casos en Cloased_Won = 1 y Closed:_lost = 0)\n",
    "    if 'Stage' in df.columns:\n",
    "        df = df[((df['Stage'] == 'Closed Won') | (df['Stage'] == 'Closed Lost'))]\n",
    "        df['Stage'] = df['Stage'].apply(lambda x: 1 if x == 'Closed Won' else 0)\n",
    "    \n",
    "    # hacemos que las variables temporales en las que nos vanos a enfocar sean del tipo correcto\n",
    "    df['Account_Created_Date'] = pd.to_datetime(df['Account_Created_Date'], format=\"%m/%d/%Y\")\n",
    "    df['Opportunity_Created_Date'] = pd.to_datetime(df['Opportunity_Created_Date'], format=\"%m/%d/%Y\")\n",
    "\n",
    "    df['Quote_Type'] = df['Quote_Type'].apply(lambda x: 1 if x == 'Binding' else 0)\n",
    "    \n",
    "    # todo: convertir estas en una ventana de tiempo\n",
    "    df = df.drop(['Planned_Delivery_Start_Date'], axis=1)\n",
    "    df = df.drop(['Planned_Delivery_End_Date'], axis=1)\n",
    "\n",
    "    categoric_cols = df.columns[df.dtypes==object].tolist() \n",
    "    numeric_cols = df.columns[df.dtypes=='float64'].tolist() \n",
    "    numeric_cols_2 = df.columns[df.dtypes=='int64'].tolist() \n",
    "    date_cols = df.columns[df.dtypes=='datetime64[ns]'].tolist() \n",
    "    \n",
    "    print(categoric_cols)\n",
    "    print('--------------')\n",
    "    \n",
    "    \n",
    "    def crearOneHotDF(c1):\n",
    "        if 'Stage' in df.columns:\n",
    "            onehotencoder = OneHotEncoder(handle_unknown = 'ignore')\n",
    "            onehotencoder.fit(df[[c1]])\n",
    "            ones_hots[c1] = onehotencoder\n",
    "        else:\n",
    "            onehotencoder = ones_hots[c1]\n",
    "        \n",
    "        M = pd.DataFrame(onehotencoder.transform(df[[c1]]).toarray())\n",
    "            \n",
    "        num_cols = len(list(M))\n",
    "        rng = range(0, num_cols)\n",
    "        new_cols = [c1 + str(i) for i in rng] \n",
    "        M.columns = new_cols[:num_cols]\n",
    "        return M\n",
    "\n",
    "    categorical = pd.concat([crearOneHotDF(i) for i in categoric_cols], axis=1)\n",
    "\n",
    "    df = pd.concat([categorical, df[numeric_cols], df[numeric_cols_2], df[date_cols]], axis=1)\n",
    "    \n",
    "    df = df.sort_values(by=\"Opportunity_Created_Date\")\n",
    "    \n",
    "    df = df.drop(columns = 'Opportunity_Created_Date')\n",
    "    df = df.drop(columns = 'Account_Created_Date')\n",
    "\n",
    "    df = df.fillna(0)\n",
    "    df = df.dropna()\n",
    "    \n",
    "    return df"
   ]
  },
  {
   "cell_type": "code",
   "execution_count": 4,
   "metadata": {},
   "outputs": [],
   "source": [
    "test = pd.read_csv('/home/leandro/Documentos/Organizacion de datos/Fiuba-Big-Data-Analytics-TPs/Tp 2/Datos/Test_TP2_Datos_2020-2C.csv')\n",
    "\n",
    "train = pd.read_csv('/home/leandro/Documentos/Organizacion de datos/Fiuba-Big-Data-Analytics-TPs/Tp 2/Datos/Train_TP2_Datos_2020-2C.csv')"
   ]
  },
  {
   "cell_type": "code",
   "execution_count": 5,
   "metadata": {},
   "outputs": [
    {
     "name": "stdout",
     "output_type": "stream",
     "text": [
      "['Region', 'Territory', 'Bureaucratic_Code', 'Source ', 'Billing_Country', 'Account_Name', 'Account_Owner', 'Opportunity_Owner', 'Account_Type', 'Opportunity_Type', 'Delivery_Terms', 'Brand', 'Product_Type', 'Size', 'Product_Category_B', 'Price', 'Currency', 'Quote_Expiry_Date', 'Last_Modified_Date', 'Last_Modified_By', 'Product_Family', 'Product_Name', 'ASP_Currency', 'ASP_(converted)_Currency', 'Month', 'Delivery_Quarter', 'Actual_Delivery_Date', 'Total_Amount_Currency', 'Total_Taxable_Amount_Currency', 'Prod_Category_A']\n",
      "--------------\n",
      "['Region', 'Territory', 'Bureaucratic_Code', 'Source ', 'Billing_Country', 'Account_Name', 'Account_Owner', 'Opportunity_Owner', 'Account_Type', 'Opportunity_Type', 'Delivery_Terms', 'Brand', 'Product_Type', 'Size', 'Product_Category_B', 'Price', 'Currency', 'Quote_Expiry_Date', 'Last_Modified_Date', 'Last_Modified_By', 'Product_Family', 'Product_Name', 'ASP_Currency', 'ASP_(converted)_Currency', 'Month', 'Delivery_Quarter', 'Actual_Delivery_Date', 'Total_Amount_Currency', 'Total_Taxable_Amount_Currency', 'Prod_Category_A']\n",
      "--------------\n"
     ]
    }
   ],
   "source": [
    "one_hots = {}\n",
    "train_encodiado = normaliza_df(train,one_hots)\n",
    "test_encodiado = normaliza_df(test,one_hots)"
   ]
  },
  {
   "cell_type": "code",
   "execution_count": 6,
   "metadata": {},
   "outputs": [],
   "source": [
    "from sklearn.model_selection import train_test_split\n",
    "X_train, X_test, y_train, y_test = train_test_split(train_encodiado.drop(columns = 'Stage'),train_encodiado['Stage'],test_size=0.3)"
   ]
  },
  {
   "cell_type": "code",
   "execution_count": 7,
   "metadata": {},
   "outputs": [],
   "source": [
    "from sklearn.naive_bayes import GaussianNB\n",
    "model = GaussianNB()"
   ]
  },
  {
   "cell_type": "code",
   "execution_count": 8,
   "metadata": {},
   "outputs": [
    {
     "data": {
      "text/plain": [
       "GaussianNB()"
      ]
     },
     "execution_count": 8,
     "metadata": {},
     "output_type": "execute_result"
    }
   ],
   "source": [
    "model.fit(X_train,y_train)\n"
   ]
  },
  {
   "cell_type": "code",
   "execution_count": 9,
   "metadata": {},
   "outputs": [
    {
     "data": {
      "text/plain": [
       "0.5893805309734513"
      ]
     },
     "execution_count": 9,
     "metadata": {},
     "output_type": "execute_result"
    }
   ],
   "source": [
    "\n",
    "model.score(X_test,y_test)"
   ]
  },
  {
   "cell_type": "code",
   "execution_count": 21,
   "metadata": {},
   "outputs": [
    {
     "data": {
      "text/plain": [
       "array([1., 1., 1., ..., 1., 1., 1.])"
      ]
     },
     "execution_count": 21,
     "metadata": {},
     "output_type": "execute_result"
    }
   ],
   "source": [
    "predicts = model.predict(test_encodiado)\n",
    "predicts"
   ]
  },
  {
   "cell_type": "code",
   "execution_count": 22,
   "metadata": {},
   "outputs": [
    {
     "data": {
      "text/plain": [
       "array([[0.16956658, 0.83043342],\n",
       "       [0.14433237, 0.85566763],\n",
       "       [0.14443017, 0.85556983],\n",
       "       ...,\n",
       "       [0.18063452, 0.81936548],\n",
       "       [0.18041184, 0.81958816],\n",
       "       [0.19264953, 0.80735047]])"
      ]
     },
     "execution_count": 22,
     "metadata": {},
     "output_type": "execute_result"
    }
   ],
   "source": [
    "predict_proba = model.predict_proba(test_encodiado)\n",
    "predict_proba"
   ]
  },
  {
   "cell_type": "code",
   "execution_count": 23,
   "metadata": {},
   "outputs": [
    {
     "data": {
      "text/plain": [
       "array([0.83043342, 0.85566763, 0.85556983, ..., 0.81936548, 0.81958816,\n",
       "       0.80735047])"
      ]
     },
     "execution_count": 23,
     "metadata": {},
     "output_type": "execute_result"
    }
   ],
   "source": [
    "predict_proba[:,1]"
   ]
  },
  {
   "cell_type": "code",
   "execution_count": 24,
   "metadata": {
    "scrolled": true
   },
   "outputs": [
    {
     "data": {
      "text/html": [
       "<div>\n",
       "<style scoped>\n",
       "    .dataframe tbody tr th:only-of-type {\n",
       "        vertical-align: middle;\n",
       "    }\n",
       "\n",
       "    .dataframe tbody tr th {\n",
       "        vertical-align: top;\n",
       "    }\n",
       "\n",
       "    .dataframe thead th {\n",
       "        text-align: right;\n",
       "    }\n",
       "</style>\n",
       "<table border=\"1\" class=\"dataframe\">\n",
       "  <thead>\n",
       "    <tr style=\"text-align: right;\">\n",
       "      <th></th>\n",
       "      <th>Opportunity_ID</th>\n",
       "      <th>Target</th>\n",
       "    </tr>\n",
       "  </thead>\n",
       "  <tbody>\n",
       "    <tr>\n",
       "      <th>718</th>\n",
       "      <td>11222</td>\n",
       "      <td>0.830433</td>\n",
       "    </tr>\n",
       "    <tr>\n",
       "      <th>719</th>\n",
       "      <td>11223</td>\n",
       "      <td>0.855668</td>\n",
       "    </tr>\n",
       "    <tr>\n",
       "      <th>726</th>\n",
       "      <td>11224</td>\n",
       "      <td>0.855570</td>\n",
       "    </tr>\n",
       "    <tr>\n",
       "      <th>725</th>\n",
       "      <td>11224</td>\n",
       "      <td>0.855567</td>\n",
       "    </tr>\n",
       "    <tr>\n",
       "      <th>720</th>\n",
       "      <td>11223</td>\n",
       "      <td>0.855670</td>\n",
       "    </tr>\n",
       "    <tr>\n",
       "      <th>...</th>\n",
       "      <td>...</td>\n",
       "      <td>...</td>\n",
       "    </tr>\n",
       "    <tr>\n",
       "      <th>2545</th>\n",
       "      <td>12364</td>\n",
       "      <td>0.821931</td>\n",
       "    </tr>\n",
       "    <tr>\n",
       "      <th>2546</th>\n",
       "      <td>12364</td>\n",
       "      <td>0.822458</td>\n",
       "    </tr>\n",
       "    <tr>\n",
       "      <th>2547</th>\n",
       "      <td>12365</td>\n",
       "      <td>0.819365</td>\n",
       "    </tr>\n",
       "    <tr>\n",
       "      <th>2548</th>\n",
       "      <td>12366</td>\n",
       "      <td>0.819588</td>\n",
       "    </tr>\n",
       "    <tr>\n",
       "      <th>2550</th>\n",
       "      <td>12368</td>\n",
       "      <td>0.807350</td>\n",
       "    </tr>\n",
       "  </tbody>\n",
       "</table>\n",
       "<p>2551 rows × 2 columns</p>\n",
       "</div>"
      ],
      "text/plain": [
       "      Opportunity_ID    Target\n",
       "718            11222  0.830433\n",
       "719            11223  0.855668\n",
       "726            11224  0.855570\n",
       "725            11224  0.855567\n",
       "720            11223  0.855670\n",
       "...              ...       ...\n",
       "2545           12364  0.821931\n",
       "2546           12364  0.822458\n",
       "2547           12365  0.819365\n",
       "2548           12366  0.819588\n",
       "2550           12368  0.807350\n",
       "\n",
       "[2551 rows x 2 columns]"
      ]
     },
     "execution_count": 24,
     "metadata": {},
     "output_type": "execute_result"
    }
   ],
   "source": [
    "output = pd.DataFrame({'Opportunity_ID':test_encodiado.Opportunity_ID, 'Target': predict_proba[:,1]})\n",
    "output"
   ]
  },
  {
   "cell_type": "code",
   "execution_count": 26,
   "metadata": {},
   "outputs": [
    {
     "data": {
      "text/html": [
       "<div>\n",
       "<style scoped>\n",
       "    .dataframe tbody tr th:only-of-type {\n",
       "        vertical-align: middle;\n",
       "    }\n",
       "\n",
       "    .dataframe tbody tr th {\n",
       "        vertical-align: top;\n",
       "    }\n",
       "\n",
       "    .dataframe thead th {\n",
       "        text-align: right;\n",
       "    }\n",
       "</style>\n",
       "<table border=\"1\" class=\"dataframe\">\n",
       "  <thead>\n",
       "    <tr style=\"text-align: right;\">\n",
       "      <th></th>\n",
       "      <th>Target</th>\n",
       "    </tr>\n",
       "    <tr>\n",
       "      <th>Opportunity_ID</th>\n",
       "      <th></th>\n",
       "    </tr>\n",
       "  </thead>\n",
       "  <tbody>\n",
       "    <tr>\n",
       "      <th>10689</th>\n",
       "      <td>0.824921</td>\n",
       "    </tr>\n",
       "    <tr>\n",
       "      <th>10690</th>\n",
       "      <td>0.824673</td>\n",
       "    </tr>\n",
       "    <tr>\n",
       "      <th>10691</th>\n",
       "      <td>0.846106</td>\n",
       "    </tr>\n",
       "    <tr>\n",
       "      <th>10692</th>\n",
       "      <td>0.863459</td>\n",
       "    </tr>\n",
       "    <tr>\n",
       "      <th>10693</th>\n",
       "      <td>0.830293</td>\n",
       "    </tr>\n",
       "    <tr>\n",
       "      <th>...</th>\n",
       "      <td>...</td>\n",
       "    </tr>\n",
       "    <tr>\n",
       "      <th>12364</th>\n",
       "      <td>0.822195</td>\n",
       "    </tr>\n",
       "    <tr>\n",
       "      <th>12365</th>\n",
       "      <td>0.819365</td>\n",
       "    </tr>\n",
       "    <tr>\n",
       "      <th>12366</th>\n",
       "      <td>0.819588</td>\n",
       "    </tr>\n",
       "    <tr>\n",
       "      <th>12367</th>\n",
       "      <td>0.788942</td>\n",
       "    </tr>\n",
       "    <tr>\n",
       "      <th>12368</th>\n",
       "      <td>0.807350</td>\n",
       "    </tr>\n",
       "  </tbody>\n",
       "</table>\n",
       "<p>1567 rows × 1 columns</p>\n",
       "</div>"
      ],
      "text/plain": [
       "                  Target\n",
       "Opportunity_ID          \n",
       "10689           0.824921\n",
       "10690           0.824673\n",
       "10691           0.846106\n",
       "10692           0.863459\n",
       "10693           0.830293\n",
       "...                  ...\n",
       "12364           0.822195\n",
       "12365           0.819365\n",
       "12366           0.819588\n",
       "12367           0.788942\n",
       "12368           0.807350\n",
       "\n",
       "[1567 rows x 1 columns]"
      ]
     },
     "execution_count": 26,
     "metadata": {},
     "output_type": "execute_result"
    }
   ],
   "source": [
    "output = output.groupby('Opportunity_ID').mean()\n",
    "output"
   ]
  },
  {
   "cell_type": "code",
   "execution_count": 27,
   "metadata": {},
   "outputs": [],
   "source": [
    "output.to_csv('/home/leandro/Documentos/Organizacion de datos/Fiuba-Big-Data-Analytics-TPs/Tp 2/Resultados/GaussianNBscore1.csv')"
   ]
  },
  {
   "cell_type": "code",
   "execution_count": null,
   "metadata": {},
   "outputs": [],
   "source": []
  }
 ],
 "metadata": {
  "kernelspec": {
   "display_name": "Python 3",
   "language": "python",
   "name": "python3"
  },
  "language_info": {
   "codemirror_mode": {
    "name": "ipython",
    "version": 3
   },
   "file_extension": ".py",
   "mimetype": "text/x-python",
   "name": "python",
   "nbconvert_exporter": "python",
   "pygments_lexer": "ipython3",
   "version": "3.8.5"
  }
 },
 "nbformat": 4,
 "nbformat_minor": 4
}
